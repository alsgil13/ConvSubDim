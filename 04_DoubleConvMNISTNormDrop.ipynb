{
 "cells": [
  {
   "cell_type": "code",
   "execution_count": 1,
   "metadata": {},
   "outputs": [
    {
     "name": "stderr",
     "output_type": "stream",
     "text": [
      "Using TensorFlow backend.\n"
     ]
    }
   ],
   "source": [
    "import keras\n",
    "import numpy as np\n",
    "from keras.datasets import mnist\n",
    "from keras.optimizers import SGD\n",
    "\n",
    "from keras.models import Sequential\n",
    "from keras.layers import Dense, Dropout, Flatten, Softmax\n",
    "from keras.layers import Conv2D, MaxPooling2D, BatchNormalization, Reshape, GlobalAveragePooling2D, GlobalAveragePooling1D\n",
    "from keras.optimizers import Adam\n",
    "from keras.initializers import RandomNormal\n",
    "import matplotlib.pyplot as plt\n",
    "\n",
    "import pandas as pd\n",
    "import datetime"
   ]
  },
  {
   "cell_type": "code",
   "execution_count": 2,
   "metadata": {
    "collapsed": true
   },
   "outputs": [],
   "source": [
    "\n",
    "# Hyperparameters\n",
    "batch_size = 64\n",
    "num_classes = 10 #pegar automaticamente NumPy.Unique\n",
    "epochs = 200\n",
    "\n"
   ]
  },
  {
   "cell_type": "code",
   "execution_count": null,
   "metadata": {
    "collapsed": true
   },
   "outputs": [],
   "source": []
  },
  {
   "cell_type": "code",
   "execution_count": 3,
   "metadata": {},
   "outputs": [
    {
     "data": {
      "text/plain": [
       "(60000, 28, 28, 1)"
      ]
     },
     "execution_count": 3,
     "metadata": {},
     "output_type": "execute_result"
    }
   ],
   "source": [
    "# Load Cifar-10 Data\n",
    "(x_train, y_train), (x_test, y_test) = mnist.load_data()\n",
    "\n",
    "#Adicionando Canal do DataSet (Channel do MNIST eh 1)\n",
    "x_train = np.reshape(x_train, (len(x_train),28,28, 1))\n",
    "x_test = np.reshape(x_test, (len(x_test),28,28, 1))\n",
    "\n",
    "\n",
    "#x_train.shape\n",
    "img_height, img_width, channel = x_train.shape[1],x_train.shape[2],x_train.shape[3]\n",
    "#channel=1\n",
    "\n",
    "x_train.shape\n",
    "\n"
   ]
  },
  {
   "cell_type": "code",
   "execution_count": 4,
   "metadata": {},
   "outputs": [
    {
     "data": {
      "text/plain": [
       "(60000, 28, 28, 1)"
      ]
     },
     "execution_count": 4,
     "metadata": {},
     "output_type": "execute_result"
    }
   ],
   "source": [
    "\n",
    "#\n",
    "x_train.shape\n",
    "\n",
    "#\n"
   ]
  },
  {
   "cell_type": "code",
   "execution_count": 5,
   "metadata": {
    "collapsed": true
   },
   "outputs": [],
   "source": [
    "# convert to one hot encoing \n",
    "y_train = keras.utils.to_categorical(y_train, num_classes)\n",
    "y_test = keras.utils.to_categorical(y_test, num_classes)\n",
    "\n"
   ]
  },
  {
   "cell_type": "code",
   "execution_count": 6,
   "metadata": {},
   "outputs": [
    {
     "data": {
      "text/plain": [
       "28"
      ]
     },
     "execution_count": 6,
     "metadata": {},
     "output_type": "execute_result"
    }
   ],
   "source": [
    "img_width"
   ]
  },
  {
   "cell_type": "code",
   "execution_count": 7,
   "metadata": {
    "collapsed": true
   },
   "outputs": [],
   "source": [
    "model = Sequential()\n",
    "\n",
    "#Filters = IMG_width/2 * 7\n",
    "model.add(Conv2D(98, #alterado de 168 para 98\n",
    "                 (5,5), #alterado de 3 para 5 \n",
    "                 strides=(2,2), \n",
    "                 activation='relu', \n",
    "                 padding='same',\n",
    "                 data_format='channels_last',\n",
    "                 use_bias=True, \n",
    "                 kernel_initializer=RandomNormal(mean=0.0, stddev=0.05, seed=None), \n",
    "                 bias_initializer='zeros',\n",
    "                 input_shape=(img_height, img_width, channel)))\n",
    "model.add(MaxPooling2D(pool_size=(2, 2), \n",
    "                       strides=(2,2)))\n",
    "\n",
    "#Normalization:\n",
    "#calculo da quantidade de filtros da normalização:\n",
    "# Width*heigth da saída após a primeira camada de convolução+pooling\n",
    "model.add(Conv2D(49, \n",
    "                 (1,1), \n",
    "                 strides=(1,1), \n",
    "                 activation='relu', \n",
    "                 padding='same',\n",
    "                 kernel_initializer=RandomNormal(mean=0.0, stddev=0.05, seed=None), \n",
    "                 data_format='channels_last'))\n",
    "model.add(Conv2D(49, \n",
    "                 (1,1), \n",
    "                 strides=(1,1), \n",
    "                 activation='relu', \n",
    "                 padding='same',\n",
    "                 kernel_initializer=RandomNormal(mean=0.0, stddev=0.05, seed=None),                  \n",
    "                 data_format='channels_last'))\n",
    "model.add(Dropout(0.5))\n",
    "\n",
    "#Filters = IMG_width/2 * 9\n",
    "model.add(Conv2D(126, \n",
    "                 (5,5), \n",
    "                 strides=(2,2), \n",
    "                 activation='relu', \n",
    "                 padding='same',\n",
    "                 data_format='channels_last',\n",
    "                 use_bias=True, \n",
    "                 kernel_initializer=RandomNormal(mean=0.0, stddev=0.05, seed=None), \n",
    "                 bias_initializer='zeros',\n",
    "                 input_shape=(img_height, img_width, channel)))\n",
    "model.add(MaxPooling2D(pool_size=(2, 2), \n",
    "                       strides=(2,2)))\n",
    "#Normalization:\n",
    "#calculo da quantidade de filtros da normalização:\n",
    "# Width*heigth da saída após a primeira camada de convolução+pooling\n",
    "model.add(Conv2D(49, \n",
    "                 (1,1), \n",
    "                 strides=(1,1), \n",
    "                 activation='relu', \n",
    "                 padding='same',\n",
    "                 kernel_initializer=RandomNormal(mean=0.0, stddev=0.05, seed=None),                  \n",
    "                 data_format='channels_last'))\n",
    "model.add(Conv2D(49, \n",
    "                 (1,1), \n",
    "                 strides=(1,1), \n",
    "                 activation='relu', \n",
    "                 padding='same',\n",
    "                 kernel_initializer=RandomNormal(mean=0.0, stddev=0.05, seed=None),                  \n",
    "                 data_format='channels_last'))\n",
    "model.add(Dropout(0.5))\n",
    "\n",
    "model.add(Flatten())\n",
    "#IMG_width^ 2\n",
    "model.add(Dense(784, activation='relu'))\n",
    "model.add(Dropout(0.5))\n",
    "\n",
    "#camada anterior/2\n",
    "model.add(Dense(392, activation='relu'))\n",
    "model.add(Dropout(0.5))\n",
    "\n",
    "#Num de classes\n",
    "model.add(Dense(10, activation='softmax'))\n"
   ]
  },
  {
   "cell_type": "code",
   "execution_count": 8,
   "metadata": {},
   "outputs": [
    {
     "name": "stdout",
     "output_type": "stream",
     "text": [
      "_________________________________________________________________\n",
      "Layer (type)                 Output Shape              Param #   \n",
      "=================================================================\n",
      "conv2d_1 (Conv2D)            (None, 14, 14, 98)        2548      \n",
      "_________________________________________________________________\n",
      "max_pooling2d_1 (MaxPooling2 (None, 7, 7, 98)          0         \n",
      "_________________________________________________________________\n",
      "conv2d_2 (Conv2D)            (None, 7, 7, 49)          4851      \n",
      "_________________________________________________________________\n",
      "conv2d_3 (Conv2D)            (None, 7, 7, 49)          2450      \n",
      "_________________________________________________________________\n",
      "dropout_1 (Dropout)          (None, 7, 7, 49)          0         \n",
      "_________________________________________________________________\n",
      "conv2d_4 (Conv2D)            (None, 4, 4, 126)         154476    \n",
      "_________________________________________________________________\n",
      "max_pooling2d_2 (MaxPooling2 (None, 2, 2, 126)         0         \n",
      "_________________________________________________________________\n",
      "conv2d_5 (Conv2D)            (None, 2, 2, 49)          6223      \n",
      "_________________________________________________________________\n",
      "conv2d_6 (Conv2D)            (None, 2, 2, 49)          2450      \n",
      "_________________________________________________________________\n",
      "dropout_2 (Dropout)          (None, 2, 2, 49)          0         \n",
      "_________________________________________________________________\n",
      "flatten_1 (Flatten)          (None, 196)               0         \n",
      "_________________________________________________________________\n",
      "dense_1 (Dense)              (None, 784)               154448    \n",
      "_________________________________________________________________\n",
      "dropout_3 (Dropout)          (None, 784)               0         \n",
      "_________________________________________________________________\n",
      "dense_2 (Dense)              (None, 392)               307720    \n",
      "_________________________________________________________________\n",
      "dropout_4 (Dropout)          (None, 392)               0         \n",
      "_________________________________________________________________\n",
      "dense_3 (Dense)              (None, 10)                3930      \n",
      "=================================================================\n",
      "Total params: 639,096\n",
      "Trainable params: 639,096\n",
      "Non-trainable params: 0\n",
      "_________________________________________________________________\n"
     ]
    }
   ],
   "source": [
    "\n",
    "# print the model summary\n",
    "model.summary()\n",
    "\n"
   ]
  },
  {
   "cell_type": "code",
   "execution_count": 9,
   "metadata": {
    "collapsed": true
   },
   "outputs": [],
   "source": [
    "# determine Loss function and Optimizer\n",
    "model.compile(loss='categorical_crossentropy',\n",
    "              optimizer=SGD(lr=0.01, momentum=0.02, decay=0.0, nesterov=False),\n",
    "              metrics=['accuracy'])\n"
   ]
  },
  {
   "cell_type": "code",
   "execution_count": 10,
   "metadata": {},
   "outputs": [
    {
     "name": "stdout",
     "output_type": "stream",
     "text": [
      "Train on 60000 samples, validate on 10000 samples\n",
      "Epoch 1/200\n",
      "60000/60000 [==============================] - 55s 910us/step - loss: 2.0327 - acc: 0.2452 - val_loss: 0.7797 - val_acc: 0.7280\n",
      "Epoch 2/200\n",
      "60000/60000 [==============================] - 54s 898us/step - loss: 0.8204 - acc: 0.7251 - val_loss: 0.2626 - val_acc: 0.9240\n",
      "Epoch 3/200\n",
      "60000/60000 [==============================] - 54s 902us/step - loss: 0.4543 - acc: 0.8622 - val_loss: 0.2007 - val_acc: 0.9398\n",
      "Epoch 4/200\n",
      "60000/60000 [==============================] - 54s 892us/step - loss: 0.3373 - acc: 0.9022 - val_loss: 0.1194 - val_acc: 0.9617\n",
      "Epoch 5/200\n",
      "60000/60000 [==============================] - 53s 891us/step - loss: 0.2738 - acc: 0.9213 - val_loss: 0.1160 - val_acc: 0.9668\n",
      "Epoch 6/200\n",
      "60000/60000 [==============================] - 54s 899us/step - loss: 0.2406 - acc: 0.9315 - val_loss: 0.0814 - val_acc: 0.9746\n",
      "Epoch 7/200\n",
      "60000/60000 [==============================] - 54s 900us/step - loss: 0.2186 - acc: 0.9390 - val_loss: 0.0786 - val_acc: 0.9745\n",
      "Epoch 8/200\n",
      "60000/60000 [==============================] - 54s 893us/step - loss: 0.1948 - acc: 0.9446 - val_loss: 0.0745 - val_acc: 0.9762\n",
      "Epoch 9/200\n",
      "60000/60000 [==============================] - 54s 893us/step - loss: 0.1770 - acc: 0.9499 - val_loss: 0.0653 - val_acc: 0.9787\n",
      "Epoch 10/200\n",
      "60000/60000 [==============================] - 54s 895us/step - loss: 0.1669 - acc: 0.9530 - val_loss: 0.0625 - val_acc: 0.9800\n",
      "Epoch 11/200\n",
      "60000/60000 [==============================] - 54s 903us/step - loss: 0.1555 - acc: 0.9566 - val_loss: 0.0552 - val_acc: 0.9823\n",
      "Epoch 12/200\n",
      "60000/60000 [==============================] - 54s 900us/step - loss: 0.1484 - acc: 0.9577 - val_loss: 0.0557 - val_acc: 0.9824\n",
      "Epoch 13/200\n",
      "60000/60000 [==============================] - 54s 900us/step - loss: 0.1411 - acc: 0.9606 - val_loss: 0.0504 - val_acc: 0.9834\n",
      "Epoch 14/200\n",
      "60000/60000 [==============================] - 54s 899us/step - loss: 0.1377 - acc: 0.9624 - val_loss: 0.0462 - val_acc: 0.9851\n",
      "Epoch 15/200\n",
      "60000/60000 [==============================] - 54s 899us/step - loss: 0.1291 - acc: 0.9646 - val_loss: 0.0456 - val_acc: 0.9847\n",
      "Epoch 16/200\n",
      "60000/60000 [==============================] - 54s 898us/step - loss: 0.1244 - acc: 0.9655 - val_loss: 0.0480 - val_acc: 0.9854\n",
      "Epoch 17/200\n",
      "60000/60000 [==============================] - 54s 897us/step - loss: 0.1204 - acc: 0.9666 - val_loss: 0.0425 - val_acc: 0.9868\n",
      "Epoch 18/200\n",
      "60000/60000 [==============================] - 54s 899us/step - loss: 0.1169 - acc: 0.9679 - val_loss: 0.0403 - val_acc: 0.9876\n",
      "Epoch 19/200\n",
      "60000/60000 [==============================] - 54s 900us/step - loss: 0.1082 - acc: 0.9702 - val_loss: 0.0417 - val_acc: 0.9867\n",
      "Epoch 20/200\n",
      "60000/60000 [==============================] - 54s 895us/step - loss: 0.1081 - acc: 0.9705 - val_loss: 0.0542 - val_acc: 0.9823\n",
      "Epoch 21/200\n",
      "60000/60000 [==============================] - 54s 898us/step - loss: 0.1049 - acc: 0.9711 - val_loss: 0.0388 - val_acc: 0.9875\n",
      "Epoch 22/200\n",
      "60000/60000 [==============================] - 54s 900us/step - loss: 0.0989 - acc: 0.9726 - val_loss: 0.0520 - val_acc: 0.9846\n",
      "Epoch 23/200\n",
      "60000/60000 [==============================] - 54s 902us/step - loss: 0.0979 - acc: 0.9725 - val_loss: 0.0410 - val_acc: 0.9871\n",
      "Epoch 24/200\n",
      "60000/60000 [==============================] - 54s 901us/step - loss: 0.0965 - acc: 0.9733 - val_loss: 0.0340 - val_acc: 0.9895\n",
      "Epoch 25/200\n",
      "60000/60000 [==============================] - 54s 902us/step - loss: 0.0924 - acc: 0.9742 - val_loss: 0.0338 - val_acc: 0.9891\n",
      "Epoch 26/200\n",
      "60000/60000 [==============================] - 54s 903us/step - loss: 0.0921 - acc: 0.9742 - val_loss: 0.0351 - val_acc: 0.9895\n",
      "Epoch 27/200\n",
      "60000/60000 [==============================] - 54s 904us/step - loss: 0.0903 - acc: 0.9748 - val_loss: 0.2428 - val_acc: 0.9376\n",
      "Epoch 28/200\n",
      "60000/60000 [==============================] - 54s 904us/step - loss: 0.0872 - acc: 0.9753 - val_loss: 0.0320 - val_acc: 0.9901\n",
      "Epoch 29/200\n",
      "60000/60000 [==============================] - 54s 902us/step - loss: 0.0881 - acc: 0.9758 - val_loss: 0.0367 - val_acc: 0.9878\n",
      "Epoch 30/200\n",
      "60000/60000 [==============================] - 54s 896us/step - loss: 0.0842 - acc: 0.9757 - val_loss: 0.0336 - val_acc: 0.9896\n",
      "Epoch 31/200\n",
      "60000/60000 [==============================] - 54s 900us/step - loss: 0.0825 - acc: 0.9770 - val_loss: 0.0315 - val_acc: 0.9902\n",
      "Epoch 32/200\n",
      "60000/60000 [==============================] - 54s 900us/step - loss: 0.0805 - acc: 0.9775 - val_loss: 0.0329 - val_acc: 0.9892\n",
      "Epoch 33/200\n",
      "60000/60000 [==============================] - 54s 907us/step - loss: 0.0786 - acc: 0.9782 - val_loss: 0.0343 - val_acc: 0.9895\n",
      "Epoch 34/200\n",
      "60000/60000 [==============================] - 54s 899us/step - loss: 0.0770 - acc: 0.9788 - val_loss: 0.0316 - val_acc: 0.9896\n",
      "Epoch 35/200\n",
      "60000/60000 [==============================] - 54s 902us/step - loss: 0.0799 - acc: 0.9783 - val_loss: 0.0295 - val_acc: 0.9904\n",
      "Epoch 36/200\n",
      "60000/60000 [==============================] - 54s 901us/step - loss: 0.0776 - acc: 0.9784 - val_loss: 0.0292 - val_acc: 0.9904\n",
      "Epoch 37/200\n",
      "60000/60000 [==============================] - 54s 905us/step - loss: 0.0733 - acc: 0.9789 - val_loss: 0.0316 - val_acc: 0.9910\n",
      "Epoch 38/200\n",
      "60000/60000 [==============================] - 54s 903us/step - loss: 0.0706 - acc: 0.9798 - val_loss: 0.0277 - val_acc: 0.9905\n",
      "Epoch 39/200\n",
      "60000/60000 [==============================] - 54s 906us/step - loss: 0.0714 - acc: 0.9801 - val_loss: 0.0271 - val_acc: 0.9905\n",
      "Epoch 40/200\n",
      "60000/60000 [==============================] - 54s 903us/step - loss: 0.0705 - acc: 0.9802 - val_loss: 0.0310 - val_acc: 0.9901\n",
      "Epoch 41/200\n",
      "60000/60000 [==============================] - 54s 896us/step - loss: 0.0702 - acc: 0.9807 - val_loss: 0.0306 - val_acc: 0.9897\n",
      "Epoch 42/200\n",
      "60000/60000 [==============================] - 54s 904us/step - loss: 0.0679 - acc: 0.9809 - val_loss: 0.0259 - val_acc: 0.9913\n",
      "Epoch 43/200\n",
      "60000/60000 [==============================] - 54s 903us/step - loss: 0.0681 - acc: 0.9810 - val_loss: 0.0268 - val_acc: 0.9911\n",
      "Epoch 44/200\n",
      "60000/60000 [==============================] - 54s 905us/step - loss: 0.0661 - acc: 0.9812 - val_loss: 0.0276 - val_acc: 0.9911\n",
      "Epoch 45/200\n",
      "60000/60000 [==============================] - 54s 902us/step - loss: 0.0664 - acc: 0.9810 - val_loss: 0.0257 - val_acc: 0.9914\n",
      "Epoch 46/200\n",
      "60000/60000 [==============================] - 54s 902us/step - loss: 0.0657 - acc: 0.9813 - val_loss: 0.0272 - val_acc: 0.9905\n",
      "Epoch 47/200\n",
      "60000/60000 [==============================] - 54s 897us/step - loss: 0.0602 - acc: 0.9828 - val_loss: 0.0276 - val_acc: 0.9899\n",
      "Epoch 48/200\n",
      "60000/60000 [==============================] - 54s 896us/step - loss: 0.0620 - acc: 0.9823 - val_loss: 0.0285 - val_acc: 0.9899\n",
      "Epoch 49/200\n",
      "60000/60000 [==============================] - 54s 903us/step - loss: 0.0612 - acc: 0.9825 - val_loss: 0.0279 - val_acc: 0.9910\n",
      "Epoch 50/200\n",
      "60000/60000 [==============================] - 54s 906us/step - loss: 0.0616 - acc: 0.9828 - val_loss: 0.0266 - val_acc: 0.9913\n",
      "Epoch 51/200\n",
      "60000/60000 [==============================] - 46s 775us/step - loss: 0.0591 - acc: 0.9837 - val_loss: 0.0287 - val_acc: 0.9910\n",
      "Epoch 52/200\n",
      "60000/60000 [==============================] - 53s 882us/step - loss: 0.0599 - acc: 0.9832 - val_loss: 0.0258 - val_acc: 0.9919\n",
      "Epoch 53/200\n",
      "60000/60000 [==============================] - 54s 902us/step - loss: 0.0554 - acc: 0.9840 - val_loss: 0.0247 - val_acc: 0.9918\n",
      "Epoch 54/200\n",
      "60000/60000 [==============================] - 54s 901us/step - loss: 0.0589 - acc: 0.9833 - val_loss: 0.0302 - val_acc: 0.9909\n",
      "Epoch 55/200\n",
      "60000/60000 [==============================] - 54s 899us/step - loss: 0.0561 - acc: 0.9838 - val_loss: 0.0249 - val_acc: 0.9912\n",
      "Epoch 56/200\n",
      "60000/60000 [==============================] - 54s 898us/step - loss: 0.0563 - acc: 0.9841 - val_loss: 0.0273 - val_acc: 0.9906\n",
      "Epoch 57/200\n",
      "60000/60000 [==============================] - 54s 896us/step - loss: 0.0540 - acc: 0.9850 - val_loss: 0.0258 - val_acc: 0.9918\n",
      "Epoch 58/200\n",
      "60000/60000 [==============================] - 54s 896us/step - loss: 0.0542 - acc: 0.9848 - val_loss: 0.0278 - val_acc: 0.9903\n"
     ]
    },
    {
     "name": "stdout",
     "output_type": "stream",
     "text": [
      "Epoch 59/200\n",
      "60000/60000 [==============================] - 54s 896us/step - loss: 0.0554 - acc: 0.9841 - val_loss: 0.0270 - val_acc: 0.9913\n",
      "Epoch 60/200\n",
      "60000/60000 [==============================] - 54s 894us/step - loss: 0.0562 - acc: 0.9843 - val_loss: 0.0279 - val_acc: 0.9914\n",
      "Epoch 61/200\n",
      "60000/60000 [==============================] - 53s 892us/step - loss: 0.0531 - acc: 0.9849 - val_loss: 0.0262 - val_acc: 0.9915\n",
      "Epoch 62/200\n",
      "60000/60000 [==============================] - 54s 896us/step - loss: 0.0539 - acc: 0.9844 - val_loss: 0.0226 - val_acc: 0.9922\n",
      "Epoch 63/200\n",
      "60000/60000 [==============================] - 54s 899us/step - loss: 0.0541 - acc: 0.9846 - val_loss: 0.0255 - val_acc: 0.9922\n",
      "Epoch 64/200\n",
      "60000/60000 [==============================] - 54s 901us/step - loss: 0.0512 - acc: 0.9853 - val_loss: 0.0241 - val_acc: 0.9921\n",
      "Epoch 65/200\n",
      "60000/60000 [==============================] - 54s 907us/step - loss: 0.0507 - acc: 0.9853 - val_loss: 0.0276 - val_acc: 0.9906\n",
      "Epoch 66/200\n",
      "60000/60000 [==============================] - 55s 908us/step - loss: 0.0501 - acc: 0.9864 - val_loss: 0.0284 - val_acc: 0.9914\n",
      "Epoch 67/200\n",
      "60000/60000 [==============================] - 54s 902us/step - loss: 0.0510 - acc: 0.9853 - val_loss: 0.0230 - val_acc: 0.9924\n",
      "Epoch 68/200\n",
      "60000/60000 [==============================] - 54s 905us/step - loss: 0.0498 - acc: 0.9866 - val_loss: 0.0279 - val_acc: 0.9909\n",
      "Epoch 69/200\n",
      "60000/60000 [==============================] - 54s 900us/step - loss: 0.0497 - acc: 0.9863 - val_loss: 0.0298 - val_acc: 0.9915\n",
      "Epoch 70/200\n",
      "60000/60000 [==============================] - 54s 900us/step - loss: 0.0508 - acc: 0.9858 - val_loss: 0.0244 - val_acc: 0.9925\n",
      "Epoch 71/200\n",
      "60000/60000 [==============================] - 54s 901us/step - loss: 0.0497 - acc: 0.9863 - val_loss: 0.0225 - val_acc: 0.9920\n",
      "Epoch 72/200\n",
      "60000/60000 [==============================] - 54s 903us/step - loss: 0.0475 - acc: 0.9868 - val_loss: 0.0245 - val_acc: 0.9924\n",
      "Epoch 73/200\n",
      "60000/60000 [==============================] - 55s 911us/step - loss: 0.0446 - acc: 0.9869 - val_loss: 0.0230 - val_acc: 0.9921\n",
      "Epoch 74/200\n",
      "60000/60000 [==============================] - 54s 906us/step - loss: 0.0470 - acc: 0.9870 - val_loss: 0.0221 - val_acc: 0.9927\n",
      "Epoch 75/200\n",
      "60000/60000 [==============================] - 54s 908us/step - loss: 0.0470 - acc: 0.9867 - val_loss: 0.0240 - val_acc: 0.9921\n",
      "Epoch 76/200\n",
      "60000/60000 [==============================] - 54s 904us/step - loss: 0.0464 - acc: 0.9868 - val_loss: 0.0251 - val_acc: 0.9917\n",
      "Epoch 77/200\n",
      "60000/60000 [==============================] - 54s 904us/step - loss: 0.0483 - acc: 0.9867 - val_loss: 0.0219 - val_acc: 0.9918\n",
      "Epoch 78/200\n",
      "60000/60000 [==============================] - 55s 910us/step - loss: 0.0433 - acc: 0.9879 - val_loss: 0.0216 - val_acc: 0.9927\n",
      "Epoch 79/200\n",
      "60000/60000 [==============================] - 54s 907us/step - loss: 0.0443 - acc: 0.9874 - val_loss: 0.0223 - val_acc: 0.9926\n",
      "Epoch 80/200\n",
      "60000/60000 [==============================] - 54s 904us/step - loss: 0.0435 - acc: 0.9879 - val_loss: 0.0241 - val_acc: 0.9920\n",
      "Epoch 81/200\n",
      "60000/60000 [==============================] - 55s 909us/step - loss: 0.0421 - acc: 0.9882 - val_loss: 0.0213 - val_acc: 0.9928\n",
      "Epoch 82/200\n",
      "60000/60000 [==============================] - 54s 902us/step - loss: 0.0416 - acc: 0.9880 - val_loss: 0.0230 - val_acc: 0.9918\n",
      "Epoch 83/200\n",
      "60000/60000 [==============================] - 54s 901us/step - loss: 0.0411 - acc: 0.9880 - val_loss: 0.0232 - val_acc: 0.9929\n",
      "Epoch 84/200\n",
      "60000/60000 [==============================] - 54s 907us/step - loss: 0.0439 - acc: 0.9871 - val_loss: 0.0219 - val_acc: 0.9934\n",
      "Epoch 85/200\n",
      "60000/60000 [==============================] - 54s 906us/step - loss: 0.0427 - acc: 0.9883 - val_loss: 0.0224 - val_acc: 0.9921\n",
      "Epoch 86/200\n",
      "60000/60000 [==============================] - 54s 903us/step - loss: 0.0413 - acc: 0.9888 - val_loss: 0.0238 - val_acc: 0.9927\n",
      "Epoch 87/200\n",
      "60000/60000 [==============================] - 54s 908us/step - loss: 0.0421 - acc: 0.9879 - val_loss: 0.0220 - val_acc: 0.9928\n",
      "Epoch 88/200\n",
      "60000/60000 [==============================] - 54s 908us/step - loss: 0.0404 - acc: 0.9888 - val_loss: 0.0286 - val_acc: 0.9906\n",
      "Epoch 89/200\n",
      "60000/60000 [==============================] - 55s 912us/step - loss: 0.0393 - acc: 0.9886 - val_loss: 0.0230 - val_acc: 0.9930\n",
      "Epoch 90/200\n",
      "60000/60000 [==============================] - 54s 906us/step - loss: 0.0421 - acc: 0.9880 - val_loss: 0.0214 - val_acc: 0.9931\n",
      "Epoch 91/200\n",
      "60000/60000 [==============================] - 55s 912us/step - loss: 0.0419 - acc: 0.9880 - val_loss: 0.0220 - val_acc: 0.9926\n",
      "Epoch 92/200\n",
      "60000/60000 [==============================] - 55s 911us/step - loss: 0.0383 - acc: 0.9886 - val_loss: 0.0219 - val_acc: 0.9927\n",
      "Epoch 93/200\n",
      "60000/60000 [==============================] - 54s 907us/step - loss: 0.0414 - acc: 0.9880 - val_loss: 0.0218 - val_acc: 0.9923\n",
      "Epoch 94/200\n",
      "60000/60000 [==============================] - 55s 910us/step - loss: 0.0399 - acc: 0.9886 - val_loss: 0.0222 - val_acc: 0.9926\n",
      "Epoch 95/200\n",
      "60000/60000 [==============================] - 54s 908us/step - loss: 0.0376 - acc: 0.9893 - val_loss: 0.0237 - val_acc: 0.9932\n",
      "Epoch 96/200\n",
      "60000/60000 [==============================] - 54s 905us/step - loss: 0.0391 - acc: 0.9882 - val_loss: 0.0221 - val_acc: 0.9930\n",
      "Epoch 97/200\n",
      "60000/60000 [==============================] - 55s 908us/step - loss: 0.0385 - acc: 0.9888 - val_loss: 0.0227 - val_acc: 0.9928\n",
      "Epoch 98/200\n",
      "60000/60000 [==============================] - 55s 913us/step - loss: 0.0357 - acc: 0.9888 - val_loss: 0.0238 - val_acc: 0.9930\n",
      "Epoch 99/200\n",
      "60000/60000 [==============================] - 55s 913us/step - loss: 0.0357 - acc: 0.9895 - val_loss: 0.0262 - val_acc: 0.9925\n",
      "Epoch 100/200\n",
      "60000/60000 [==============================] - 54s 907us/step - loss: 0.0385 - acc: 0.9892 - val_loss: 0.0228 - val_acc: 0.9919\n",
      "Epoch 101/200\n",
      "60000/60000 [==============================] - 54s 904us/step - loss: 0.0357 - acc: 0.9898 - val_loss: 0.0229 - val_acc: 0.9927\n",
      "Epoch 102/200\n",
      "60000/60000 [==============================] - 54s 903us/step - loss: 0.0378 - acc: 0.9887 - val_loss: 0.0231 - val_acc: 0.9921\n",
      "Epoch 103/200\n",
      "60000/60000 [==============================] - 54s 907us/step - loss: 0.0388 - acc: 0.9889 - val_loss: 0.0228 - val_acc: 0.9929\n",
      "Epoch 104/200\n",
      "60000/60000 [==============================] - 54s 900us/step - loss: 0.0353 - acc: 0.9894 - val_loss: 0.0221 - val_acc: 0.9930\n",
      "Epoch 105/200\n",
      "60000/60000 [==============================] - 55s 912us/step - loss: 0.0369 - acc: 0.9890 - val_loss: 0.0205 - val_acc: 0.9925\n",
      "Epoch 106/200\n",
      "60000/60000 [==============================] - 54s 905us/step - loss: 0.0354 - acc: 0.9899 - val_loss: 0.0200 - val_acc: 0.9932\n",
      "Epoch 107/200\n",
      "60000/60000 [==============================] - 55s 910us/step - loss: 0.0341 - acc: 0.9897 - val_loss: 0.0215 - val_acc: 0.9924\n",
      "Epoch 108/200\n",
      "60000/60000 [==============================] - 54s 904us/step - loss: 0.0358 - acc: 0.9901 - val_loss: 0.0215 - val_acc: 0.9924\n",
      "Epoch 109/200\n",
      "60000/60000 [==============================] - 54s 901us/step - loss: 0.0339 - acc: 0.9903 - val_loss: 0.0216 - val_acc: 0.9930\n",
      "Epoch 110/200\n",
      "60000/60000 [==============================] - 54s 906us/step - loss: 0.0356 - acc: 0.9897 - val_loss: 0.0219 - val_acc: 0.9938\n",
      "Epoch 111/200\n",
      "60000/60000 [==============================] - 54s 905us/step - loss: 0.0337 - acc: 0.9902 - val_loss: 0.0243 - val_acc: 0.9919\n",
      "Epoch 112/200\n",
      "60000/60000 [==============================] - 54s 902us/step - loss: 0.0356 - acc: 0.9897 - val_loss: 0.0270 - val_acc: 0.9925\n",
      "Epoch 113/200\n",
      "60000/60000 [==============================] - 54s 901us/step - loss: 0.0330 - acc: 0.9907 - val_loss: 0.0215 - val_acc: 0.9931\n",
      "Epoch 114/200\n",
      "60000/60000 [==============================] - 54s 905us/step - loss: 0.0338 - acc: 0.9902 - val_loss: 0.0217 - val_acc: 0.9928\n",
      "Epoch 115/200\n",
      "60000/60000 [==============================] - 54s 902us/step - loss: 0.0333 - acc: 0.9906 - val_loss: 0.0258 - val_acc: 0.9927\n",
      "Epoch 116/200\n",
      "60000/60000 [==============================] - 55s 911us/step - loss: 0.0335 - acc: 0.9904 - val_loss: 0.0222 - val_acc: 0.9920\n"
     ]
    },
    {
     "name": "stdout",
     "output_type": "stream",
     "text": [
      "Epoch 117/200\n",
      "60000/60000 [==============================] - 55s 910us/step - loss: 0.0338 - acc: 0.9902 - val_loss: 0.0218 - val_acc: 0.9931\n",
      "Epoch 118/200\n",
      "60000/60000 [==============================] - 54s 905us/step - loss: 0.0319 - acc: 0.9907 - val_loss: 0.0210 - val_acc: 0.9936\n",
      "Epoch 119/200\n",
      "60000/60000 [==============================] - 55s 909us/step - loss: 0.0329 - acc: 0.9907 - val_loss: 0.0217 - val_acc: 0.9928\n",
      "Epoch 120/200\n",
      "60000/60000 [==============================] - 55s 909us/step - loss: 0.0308 - acc: 0.9913 - val_loss: 0.0214 - val_acc: 0.9925\n",
      "Epoch 121/200\n",
      "60000/60000 [==============================] - 54s 907us/step - loss: 0.0314 - acc: 0.9906 - val_loss: 0.0193 - val_acc: 0.9931\n",
      "Epoch 122/200\n",
      "60000/60000 [==============================] - 54s 904us/step - loss: 0.0322 - acc: 0.9908 - val_loss: 0.0210 - val_acc: 0.9927\n",
      "Epoch 123/200\n",
      "60000/60000 [==============================] - 54s 906us/step - loss: 0.0307 - acc: 0.9912 - val_loss: 0.0228 - val_acc: 0.9934\n",
      "Epoch 124/200\n",
      "60000/60000 [==============================] - 55s 909us/step - loss: 0.0312 - acc: 0.9908 - val_loss: 0.0214 - val_acc: 0.9935\n",
      "Epoch 125/200\n",
      "60000/60000 [==============================] - 54s 905us/step - loss: 0.0328 - acc: 0.9905 - val_loss: 0.0228 - val_acc: 0.9933\n",
      "Epoch 126/200\n",
      "60000/60000 [==============================] - 55s 910us/step - loss: 0.0305 - acc: 0.9907 - val_loss: 0.0213 - val_acc: 0.9933\n",
      "Epoch 127/200\n",
      "60000/60000 [==============================] - 54s 904us/step - loss: 0.0303 - acc: 0.9910 - val_loss: 0.0235 - val_acc: 0.9933\n",
      "Epoch 128/200\n",
      "60000/60000 [==============================] - 54s 904us/step - loss: 0.0314 - acc: 0.9906 - val_loss: 0.0198 - val_acc: 0.9933\n",
      "Epoch 129/200\n",
      "60000/60000 [==============================] - 54s 904us/step - loss: 0.0294 - acc: 0.9911 - val_loss: 0.0211 - val_acc: 0.9935\n",
      "Epoch 130/200\n",
      "60000/60000 [==============================] - 54s 908us/step - loss: 0.0301 - acc: 0.9910 - val_loss: 0.0220 - val_acc: 0.9928\n",
      "Epoch 131/200\n",
      "60000/60000 [==============================] - 54s 906us/step - loss: 0.0295 - acc: 0.9912 - val_loss: 0.0238 - val_acc: 0.9928\n",
      "Epoch 132/200\n",
      "60000/60000 [==============================] - 55s 909us/step - loss: 0.0320 - acc: 0.9904 - val_loss: 0.0214 - val_acc: 0.9929\n",
      "Epoch 133/200\n",
      "60000/60000 [==============================] - 55s 913us/step - loss: 0.0297 - acc: 0.9913 - val_loss: 0.0212 - val_acc: 0.9929\n",
      "Epoch 134/200\n",
      "60000/60000 [==============================] - 55s 913us/step - loss: 0.0284 - acc: 0.9920 - val_loss: 0.0214 - val_acc: 0.9928\n",
      "Epoch 135/200\n",
      "60000/60000 [==============================] - 54s 908us/step - loss: 0.0271 - acc: 0.9922 - val_loss: 0.0218 - val_acc: 0.9932\n",
      "Epoch 136/200\n",
      "60000/60000 [==============================] - 54s 903us/step - loss: 0.0295 - acc: 0.9912 - val_loss: 0.0186 - val_acc: 0.9937\n",
      "Epoch 137/200\n",
      "60000/60000 [==============================] - 54s 902us/step - loss: 0.0286 - acc: 0.9913 - val_loss: 0.0280 - val_acc: 0.9922\n",
      "Epoch 138/200\n",
      "60000/60000 [==============================] - 54s 898us/step - loss: 0.0299 - acc: 0.9912 - val_loss: 0.0228 - val_acc: 0.9931\n",
      "Epoch 139/200\n",
      "60000/60000 [==============================] - 54s 904us/step - loss: 0.0293 - acc: 0.9914 - val_loss: 0.0213 - val_acc: 0.9932\n",
      "Epoch 140/200\n",
      "60000/60000 [==============================] - 54s 905us/step - loss: 0.0284 - acc: 0.9916 - val_loss: 0.0256 - val_acc: 0.9932\n",
      "Epoch 141/200\n",
      "60000/60000 [==============================] - 54s 904us/step - loss: 0.0290 - acc: 0.9914 - val_loss: 0.0209 - val_acc: 0.9933\n",
      "Epoch 142/200\n",
      "60000/60000 [==============================] - 54s 905us/step - loss: 0.0275 - acc: 0.9919 - val_loss: 0.0207 - val_acc: 0.9927\n",
      "Epoch 143/200\n",
      "60000/60000 [==============================] - 55s 910us/step - loss: 0.0289 - acc: 0.9914 - val_loss: 0.0224 - val_acc: 0.9921\n",
      "Epoch 144/200\n",
      "60000/60000 [==============================] - 55s 911us/step - loss: 0.0268 - acc: 0.9920 - val_loss: 0.0222 - val_acc: 0.9928\n",
      "Epoch 145/200\n",
      "60000/60000 [==============================] - 54s 905us/step - loss: 0.0280 - acc: 0.9916 - val_loss: 0.0220 - val_acc: 0.9929\n",
      "Epoch 146/200\n",
      "60000/60000 [==============================] - 54s 900us/step - loss: 0.0252 - acc: 0.9921 - val_loss: 0.0243 - val_acc: 0.9935\n",
      "Epoch 147/200\n",
      "60000/60000 [==============================] - 54s 907us/step - loss: 0.0273 - acc: 0.9920 - val_loss: 0.0213 - val_acc: 0.9939\n",
      "Epoch 148/200\n",
      "60000/60000 [==============================] - 54s 903us/step - loss: 0.0277 - acc: 0.9919 - val_loss: 0.0240 - val_acc: 0.9926\n",
      "Epoch 149/200\n",
      "60000/60000 [==============================] - 54s 902us/step - loss: 0.0278 - acc: 0.9914 - val_loss: 0.0220 - val_acc: 0.9929\n",
      "Epoch 150/200\n",
      "60000/60000 [==============================] - 54s 905us/step - loss: 0.0267 - acc: 0.9921 - val_loss: 0.0251 - val_acc: 0.9929\n",
      "Epoch 151/200\n",
      "60000/60000 [==============================] - 55s 909us/step - loss: 0.0265 - acc: 0.9922 - val_loss: 0.0234 - val_acc: 0.9926\n",
      "Epoch 152/200\n",
      "60000/60000 [==============================] - 54s 901us/step - loss: 0.0268 - acc: 0.9921 - val_loss: 0.0228 - val_acc: 0.9927\n",
      "Epoch 153/200\n",
      "60000/60000 [==============================] - 54s 899us/step - loss: 0.0278 - acc: 0.9922 - val_loss: 0.0216 - val_acc: 0.9935\n",
      "Epoch 154/200\n",
      "60000/60000 [==============================] - 54s 902us/step - loss: 0.0261 - acc: 0.9923 - val_loss: 0.0220 - val_acc: 0.9929\n",
      "Epoch 155/200\n",
      "60000/60000 [==============================] - 54s 906us/step - loss: 0.0261 - acc: 0.9921 - val_loss: 0.0218 - val_acc: 0.9936\n",
      "Epoch 156/200\n",
      "60000/60000 [==============================] - 54s 900us/step - loss: 0.0285 - acc: 0.9919 - val_loss: 0.0199 - val_acc: 0.9935\n",
      "Epoch 157/200\n",
      "60000/60000 [==============================] - 54s 898us/step - loss: 0.0271 - acc: 0.9923 - val_loss: 0.0225 - val_acc: 0.9930\n",
      "Epoch 158/200\n",
      "60000/60000 [==============================] - 54s 899us/step - loss: 0.0258 - acc: 0.9923 - val_loss: 0.0241 - val_acc: 0.9931\n",
      "Epoch 159/200\n",
      "60000/60000 [==============================] - 54s 896us/step - loss: 0.0270 - acc: 0.9927 - val_loss: 0.0224 - val_acc: 0.9929\n",
      "Epoch 160/200\n",
      "60000/60000 [==============================] - 54s 903us/step - loss: 0.0250 - acc: 0.9923 - val_loss: 0.0197 - val_acc: 0.9941\n",
      "Epoch 161/200\n",
      "60000/60000 [==============================] - 55s 910us/step - loss: 0.0261 - acc: 0.9922 - val_loss: 0.0215 - val_acc: 0.9932\n",
      "Epoch 162/200\n",
      "60000/60000 [==============================] - 54s 903us/step - loss: 0.0268 - acc: 0.9923 - val_loss: 0.0221 - val_acc: 0.9932\n",
      "Epoch 163/200\n",
      "60000/60000 [==============================] - 54s 904us/step - loss: 0.0236 - acc: 0.9928 - val_loss: 0.0214 - val_acc: 0.9940\n",
      "Epoch 164/200\n",
      "60000/60000 [==============================] - 55s 911us/step - loss: 0.0249 - acc: 0.9924 - val_loss: 0.0201 - val_acc: 0.9929\n",
      "Epoch 165/200\n",
      "60000/60000 [==============================] - 55s 910us/step - loss: 0.0246 - acc: 0.9930 - val_loss: 0.0211 - val_acc: 0.9936\n",
      "Epoch 166/200\n",
      "60000/60000 [==============================] - 54s 906us/step - loss: 0.0241 - acc: 0.9928 - val_loss: 0.0219 - val_acc: 0.9929\n",
      "Epoch 167/200\n",
      "60000/60000 [==============================] - 54s 907us/step - loss: 0.0249 - acc: 0.9927 - val_loss: 0.0187 - val_acc: 0.9930\n",
      "Epoch 168/200\n",
      "60000/60000 [==============================] - 54s 908us/step - loss: 0.0254 - acc: 0.9928 - val_loss: 0.0206 - val_acc: 0.9930\n",
      "Epoch 169/200\n",
      "60000/60000 [==============================] - 54s 906us/step - loss: 0.0250 - acc: 0.9924 - val_loss: 0.0204 - val_acc: 0.9929\n",
      "Epoch 170/200\n",
      "60000/60000 [==============================] - 54s 904us/step - loss: 0.0215 - acc: 0.9933 - val_loss: 0.0209 - val_acc: 0.9925\n",
      "Epoch 171/200\n",
      "60000/60000 [==============================] - 54s 906us/step - loss: 0.0249 - acc: 0.9925 - val_loss: 0.0203 - val_acc: 0.9941\n",
      "Epoch 172/200\n",
      "60000/60000 [==============================] - 54s 903us/step - loss: 0.0247 - acc: 0.9929 - val_loss: 0.0210 - val_acc: 0.9942\n",
      "Epoch 173/200\n",
      "60000/60000 [==============================] - 54s 908us/step - loss: 0.0233 - acc: 0.9931 - val_loss: 0.0223 - val_acc: 0.9934\n",
      "Epoch 174/200\n",
      "60000/60000 [==============================] - 54s 908us/step - loss: 0.0232 - acc: 0.9930 - val_loss: 0.0227 - val_acc: 0.9937\n"
     ]
    },
    {
     "name": "stdout",
     "output_type": "stream",
     "text": [
      "Epoch 175/200\n",
      "60000/60000 [==============================] - 54s 905us/step - loss: 0.0216 - acc: 0.9938 - val_loss: 0.0213 - val_acc: 0.9940\n",
      "Epoch 176/200\n",
      "60000/60000 [==============================] - 54s 907us/step - loss: 0.0250 - acc: 0.9928 - val_loss: 0.0192 - val_acc: 0.9933\n",
      "Epoch 177/200\n",
      "60000/60000 [==============================] - 54s 905us/step - loss: 0.0225 - acc: 0.9933 - val_loss: 0.0255 - val_acc: 0.9930\n",
      "Epoch 178/200\n",
      "60000/60000 [==============================] - 55s 909us/step - loss: 0.0232 - acc: 0.9935 - val_loss: 0.0202 - val_acc: 0.9941\n",
      "Epoch 179/200\n",
      "60000/60000 [==============================] - 55s 911us/step - loss: 0.0223 - acc: 0.9937 - val_loss: 0.0216 - val_acc: 0.9933\n",
      "Epoch 180/200\n",
      "60000/60000 [==============================] - 55s 909us/step - loss: 0.0244 - acc: 0.9929 - val_loss: 0.0264 - val_acc: 0.9930\n",
      "Epoch 181/200\n",
      "60000/60000 [==============================] - 55s 912us/step - loss: 0.0218 - acc: 0.9935 - val_loss: 0.0199 - val_acc: 0.9941\n",
      "Epoch 182/200\n",
      "60000/60000 [==============================] - 54s 907us/step - loss: 0.0246 - acc: 0.9926 - val_loss: 0.0201 - val_acc: 0.9932\n",
      "Epoch 183/200\n",
      "60000/60000 [==============================] - 54s 905us/step - loss: 0.0226 - acc: 0.9933 - val_loss: 0.0209 - val_acc: 0.9929\n",
      "Epoch 184/200\n",
      "60000/60000 [==============================] - 54s 904us/step - loss: 0.0219 - acc: 0.9937 - val_loss: 0.0211 - val_acc: 0.9935\n",
      "Epoch 185/200\n",
      "60000/60000 [==============================] - 54s 906us/step - loss: 0.0245 - acc: 0.9928 - val_loss: 0.0198 - val_acc: 0.9933\n",
      "Epoch 186/200\n",
      "60000/60000 [==============================] - 55s 909us/step - loss: 0.0216 - acc: 0.9929 - val_loss: 0.0219 - val_acc: 0.9927\n",
      "Epoch 187/200\n",
      "60000/60000 [==============================] - 55s 911us/step - loss: 0.0215 - acc: 0.9939 - val_loss: 0.0212 - val_acc: 0.9933\n",
      "Epoch 188/200\n",
      "60000/60000 [==============================] - 55s 909us/step - loss: 0.0228 - acc: 0.9931 - val_loss: 0.0225 - val_acc: 0.9933\n",
      "Epoch 189/200\n",
      "60000/60000 [==============================] - 54s 901us/step - loss: 0.0233 - acc: 0.9930 - val_loss: 0.0207 - val_acc: 0.9933\n",
      "Epoch 190/200\n",
      "60000/60000 [==============================] - 54s 897us/step - loss: 0.0207 - acc: 0.9937 - val_loss: 0.0227 - val_acc: 0.9929\n",
      "Epoch 191/200\n",
      "60000/60000 [==============================] - 55s 910us/step - loss: 0.0217 - acc: 0.9934 - val_loss: 0.0243 - val_acc: 0.9936\n",
      "Epoch 192/200\n",
      "60000/60000 [==============================] - 55s 915us/step - loss: 0.0214 - acc: 0.9938 - val_loss: 0.0223 - val_acc: 0.9936\n",
      "Epoch 193/200\n",
      "60000/60000 [==============================] - 54s 895us/step - loss: 0.0198 - acc: 0.9942 - val_loss: 0.0315 - val_acc: 0.9909\n",
      "Epoch 194/200\n",
      "60000/60000 [==============================] - 54s 899us/step - loss: 0.0222 - acc: 0.9935 - val_loss: 0.0212 - val_acc: 0.9932\n",
      "Epoch 195/200\n",
      "60000/60000 [==============================] - 54s 895us/step - loss: 0.0237 - acc: 0.9932 - val_loss: 0.0225 - val_acc: 0.9935\n",
      "Epoch 196/200\n",
      "60000/60000 [==============================] - 54s 897us/step - loss: 0.0218 - acc: 0.9938 - val_loss: 0.0256 - val_acc: 0.9922\n",
      "Epoch 197/200\n",
      "60000/60000 [==============================] - 54s 898us/step - loss: 0.0212 - acc: 0.9940 - val_loss: 0.0214 - val_acc: 0.9941\n",
      "Epoch 198/200\n",
      "60000/60000 [==============================] - 54s 897us/step - loss: 0.0226 - acc: 0.9932 - val_loss: 0.0219 - val_acc: 0.9931\n",
      "Epoch 199/200\n",
      "60000/60000 [==============================] - 54s 896us/step - loss: 0.0194 - acc: 0.9941 - val_loss: 0.0202 - val_acc: 0.9932\n",
      "Epoch 200/200\n",
      "60000/60000 [==============================] - 47s 791us/step - loss: 0.0205 - acc: 0.9940 - val_loss: 0.0231 - val_acc: 0.9924\n"
     ]
    }
   ],
   "source": [
    "\n",
    "# Train the Model\n",
    "#earlyStopping=keras.callbacks.EarlyStopping(monitor='val_acc', min_delta=0, patience=13, verbose=1, mode='auto')\n",
    "history = model.fit(x_train, y_train,\n",
    "                    batch_size=batch_size,\n",
    "                    epochs=epochs,\n",
    "                    verbose=1,\n",
    "#                    callbacks=[earlyStopping],\n",
    "                    validation_data=(x_test, y_test))\n",
    "\n"
   ]
  },
  {
   "cell_type": "code",
   "execution_count": null,
   "metadata": {
    "collapsed": true
   },
   "outputs": [],
   "source": []
  },
  {
   "cell_type": "code",
   "execution_count": 11,
   "metadata": {},
   "outputs": [
    {
     "data": {
      "image/png": "[encoded data removed]",
      "text/plain": [
       "<matplotlib.figure.Figure at 0x7f99e6474d68>"
      ]
     },
     "metadata": {},
     "output_type": "display_data"
    }
   ],
   "source": [
    "plt.plot(history.history['acc'])\n",
    "plt.plot(history.history['val_acc'])\n",
    "plt.title('model accuracy')\n",
    "plt.ylabel('accuracy')\n",
    "plt.xlabel('epoch')\n",
    "plt.legend(['train acc','val acc'], loc='upper left')\n",
    "plt.show()"
   ]
  },
  {
   "cell_type": "code",
   "execution_count": 12,
   "metadata": {},
   "outputs": [
    {
     "data": {
      "image/png": "[encoded data removed]",
      "text/plain": [
       "<matplotlib.figure.Figure at 0x7f99e41f3438>"
      ]
     },
     "metadata": {},
     "output_type": "display_data"
    }
   ],
   "source": [
    "plt.plot(history.history['loss'])\n",
    "plt.plot(history.history['val_loss'])\n",
    "plt.title('model loss')\n",
    "plt.ylabel('loss')\n",
    "plt.xlabel('epoch')\n",
    "plt.legend(['train loss','Val Loss'], loc='upper left')\n",
    "plt.show()"
   ]
  },
  {
   "cell_type": "code",
   "execution_count": 13,
   "metadata": {},
   "outputs": [
    {
     "name": "stdout",
     "output_type": "stream",
     "text": [
      "Test loss: 0.0231215041352\n",
      "Test accuracy: 0.9924\n"
     ]
    }
   ],
   "source": [
    "# Test the model\n",
    "score = model.evaluate(x_test, y_test, verbose=0)\n",
    "print('Test loss:', score[0])\n",
    "print('Test accuracy:', score[1])"
   ]
  },
  {
   "cell_type": "code",
   "execution_count": null,
   "metadata": {
    "collapsed": true
   },
   "outputs": [],
   "source": []
  },
  {
   "cell_type": "code",
   "execution_count": null,
   "metadata": {
    "collapsed": true
   },
   "outputs": [],
   "source": []
  },
  {
   "cell_type": "code",
   "execution_count": 14,
   "metadata": {},
   "outputs": [
    {
     "name": "stdout",
     "output_type": "stream",
     "text": [
      "{'val_loss': [0.77971809501647948, 0.26261716831922532, 0.20065750159025192, 0.11935803133221343, 0.11598861263245344, 0.081397301126550886, 0.078648706214898265, 0.074535714305122389, 0.065274106562556694, 0.062529684096225543, 0.055221236115298236, 0.055675893244717736, 0.050350134266278476, 0.046229783060192133, 0.045597595057450237, 0.048043135144526607, 0.042480586235149533, 0.040255940635947625, 0.041718124583415922, 0.054224557799031028, 0.038818389668005694, 0.052043629532447087, 0.041000950569000272, 0.0339823463331064, 0.033761745697943844, 0.035117802418576323, 0.24279511128664016, 0.032010784191952552, 0.036682530573650729, 0.033553621753971676, 0.031484930958904443, 0.032949420557596025, 0.03434162649688078, 0.031608157441485672, 0.029474579346850806, 0.029195806549319241, 0.031593737830025927, 0.027709643489738301, 0.027124296583638352, 0.030962103742093315, 0.030583792797857313, 0.025875279705240974, 0.026750675070725264, 0.02761129701930622, 0.025748735310150369, 0.027249629734337213, 0.027643149547851499, 0.028532651346627972, 0.027908685850271651, 0.026552743762338651, 0.028682001582156228, 0.025799326350753837, 0.024727782785323508, 0.030242387427845095, 0.024907003002693818, 0.027323484786938933, 0.025798772402704343, 0.027837994194103523, 0.026976439630432288, 0.027909325799860382, 0.026248016958079098, 0.022562359229576397, 0.025509495305654856, 0.024136039162930684, 0.02760746804333903, 0.028363204186346958, 0.023032246342239524, 0.02790264278671202, 0.029811206398198557, 0.024418731235649464, 0.022452195711982495, 0.024536015389751992, 0.023023424818663624, 0.022081284415121628, 0.024028198234437876, 0.02510715929474536, 0.021901790164582782, 0.02159683475785714, 0.02228141433123965, 0.02409756194766087, 0.021285877112257004, 0.023029589320486411, 0.023211499744523464, 0.0218597993304189, 0.022403125605866079, 0.023775950038127484, 0.022039281315174596, 0.028624966095245327, 0.022985417698062883, 0.02135478780656631, 0.021976020303491533, 0.021863695520909641, 0.02183177580731608, 0.022212312948434555, 0.023722424114594198, 0.022074538461068004, 0.022653728395899814, 0.023773817094665174, 0.026170240321580059, 0.022771443661109517, 0.022916735983381294, 0.023129533791850555, 0.022773833327879401, 0.022068781941238194, 0.020542166339820686, 0.019995115686185453, 0.021508778116040777, 0.021491961755941882, 0.021553184000329201, 0.021871539199452492, 0.024290505444028714, 0.026961115289812369, 0.021509609708875176, 0.021672294627697375, 0.025771804708783749, 0.022213051559908128, 0.021815403738777606, 0.021017794207040787, 0.021693620237854521, 0.021358332878547298, 0.01926860784987057, 0.020961026843075523, 0.022843236264615006, 0.021353236233087592, 0.022771199595626058, 0.021314528906425403, 0.023504608986645144, 0.019823908788959305, 0.021142138903239537, 0.022027372261063376, 0.023774205906248971, 0.021357255890608211, 0.021171372490579505, 0.021415382774676254, 0.021787596191507237, 0.018602452751796592, 0.028004362531641892, 0.022768725225988055, 0.02125090343832926, 0.025575106217781557, 0.020898388593393248, 0.020650741894287786, 0.022426704369911749, 0.022154706348576473, 0.022037967085570927, 0.024334432540820673, 0.021299786218029113, 0.023996575983187905, 0.021971227787710722, 0.025080413581671745, 0.023353894463578762, 0.022824665100451058, 0.021604813734610796, 0.022037349210050888, 0.021832202740606408, 0.019904018986222946, 0.022471894778831665, 0.024100248035528786, 0.022354075749751429, 0.019747654653972494, 0.021539328540044426, 0.022097181635948801, 0.021419283699248264, 0.02011100323807459, 0.021131684676848637, 0.021932466090423985, 0.018678003838982476, 0.020647482831707111, 0.020381627947497691, 0.02087394455806825, 0.020287260397340107, 0.020978603376139018, 0.022270326887417924, 0.022683571091264093, 0.021347902999453709, 0.019194670305619728, 0.025505629545911325, 0.020192908471963346, 0.021638806318299428, 0.026383276976108483, 0.019948337407575855, 0.020057790783598466, 0.020856327609781691, 0.021072919743034435, 0.01976962673013595, 0.021938364982079291, 0.02118377848264099, 0.022517568960431892, 0.020659861245355567, 0.022678780017357712, 0.024312548257401524, 0.022284175174450003, 0.031530962230241856, 0.021178471047089441, 0.02249232587078186, 0.025647048846193593, 0.021410744981075914, 0.021926650987600077, 0.020209215583721653, 0.023121503821993065], 'val_acc': [0.72799999999999998, 0.92400000000000004, 0.93979999999999997, 0.9617, 0.96679999999999999, 0.97460000000000002, 0.97450000000000003, 0.97619999999999996, 0.97870000000000001, 0.97999999999999998, 0.98229999999999995, 0.98240000000000005, 0.98340000000000005, 0.98509999999999998, 0.98470000000000002, 0.98540000000000005, 0.98680000000000001, 0.98760000000000003, 0.98670000000000002, 0.98229999999999995, 0.98750000000000004, 0.98460000000000003, 0.98709999999999998, 0.98950000000000005, 0.98909999999999998, 0.98950000000000005, 0.93759999999999999, 0.99009999999999998, 0.98780000000000001, 0.98960000000000004, 0.99019999999999997, 0.98919999999999997, 0.98950000000000005, 0.98960000000000004, 0.99039999999999995, 0.99039999999999995, 0.99099999999999999, 0.99050000000000005, 0.99050000000000005, 0.99009999999999998, 0.98970000000000002, 0.99129999999999996, 0.99109999999999998, 0.99109999999999998, 0.99139999999999995, 0.99050000000000005, 0.9899, 0.9899, 0.99099999999999999, 0.99129999999999996, 0.99099999999999999, 0.9919, 0.99180000000000001, 0.9909, 0.99119999999999997, 0.99060000000000004, 0.99180000000000001, 0.99029999999999996, 0.99129999999999996, 0.99139999999999995, 0.99150000000000005, 0.99219999999999997, 0.99219999999999997, 0.99209999999999998, 0.99060000000000004, 0.99139999999999995, 0.99239999999999995, 0.9909, 0.99150000000000005, 0.99250000000000005, 0.99199999999999999, 0.99239999999999995, 0.99209999999999998, 0.99270000000000003, 0.99209999999999998, 0.99170000000000003, 0.99180000000000001, 0.99270000000000003, 0.99260000000000004, 0.99199999999999999, 0.99280000000000002, 0.99180000000000001, 0.9929, 0.99339999999999995, 0.99209999999999998, 0.99270000000000003, 0.99280000000000002, 0.99060000000000004, 0.99299999999999999, 0.99309999999999998, 0.99260000000000004, 0.99270000000000003, 0.99229999999999996, 0.99260000000000004, 0.99319999999999997, 0.99299999999999999, 0.99280000000000002, 0.99299999999999999, 0.99250000000000005, 0.9919, 0.99270000000000003, 0.99209999999999998, 0.9929, 0.99299999999999999, 0.99250000000000005, 0.99319999999999997, 0.99239999999999995, 0.99239999999999995, 0.99299999999999999, 0.99380000000000002, 0.9919, 0.99250000000000005, 0.99309999999999998, 0.99280000000000002, 0.99270000000000003, 0.99199999999999999, 0.99309999999999998, 0.99360000000000004, 0.99280000000000002, 0.99250000000000005, 0.99309999999999998, 0.99270000000000003, 0.99339999999999995, 0.99350000000000005, 0.99329999999999996, 0.99329999999999996, 0.99329999999999996, 0.99329999999999996, 0.99350000000000005, 0.99280000000000002, 0.99280000000000002, 0.9929, 0.9929, 0.99280000000000002, 0.99319999999999997, 0.99370000000000003, 0.99219999999999997, 0.99309999999999998, 0.99319999999999997, 0.99319999999999997, 0.99329999999999996, 0.99270000000000003, 0.99209999999999998, 0.99280000000000002, 0.9929, 0.99350000000000005, 0.99390000000000001, 0.99260000000000004, 0.9929, 0.9929, 0.99260000000000004, 0.99270000000000003, 0.99350000000000005, 0.9929, 0.99360000000000004, 0.99350000000000005, 0.99299999999999999, 0.99309999999999998, 0.9929, 0.99409999999999998, 0.99319999999999997, 0.99319999999999997, 0.99399999999999999, 0.9929, 0.99360000000000004, 0.9929, 0.99299999999999999, 0.99299999999999999, 0.9929, 0.99250000000000005, 0.99409999999999998, 0.99419999999999997, 0.99339999999999995, 0.99370000000000003, 0.99399999999999999, 0.99329999999999996, 0.99299999999999999, 0.99409999999999998, 0.99329999999999996, 0.99299999999999999, 0.99409999999999998, 0.99319999999999997, 0.9929, 0.99350000000000005, 0.99329999999999996, 0.99270000000000003, 0.99329999999999996, 0.99329999999999996, 0.99329999999999996, 0.9929, 0.99360000000000004, 0.99360000000000004, 0.9909, 0.99319999999999997, 0.99350000000000005, 0.99219999999999997, 0.99409999999999998, 0.99309999999999998, 0.99319999999999997, 0.99239999999999995], 'loss': [2.0327022776285806, 0.8203836440086365, 0.45434570430119831, 0.33732793943881989, 0.27380846944252651, 0.24055378800233204, 0.21860154808759688, 0.19480682741006217, 0.17699231988390288, 0.16692868228654067, 0.15545785356859365, 0.14837053941289585, 0.14113879676659902, 0.1377073674370845, 0.12912741185774407, 0.12437332974572976, 0.12044943485955398, 0.11685929669439793, 0.10820735919723908, 0.10808030539999405, 0.10494204792131981, 0.098947900032500424, 0.097943053813278669, 0.096534886887669563, 0.092370522180447973, 0.092114950251827643, 0.090260887932280695, 0.087248565746843809, 0.088148190522938971, 0.084196278477708497, 0.08245230268761515, 0.080456425327310954, 0.078644624814018613, 0.076977231137206156, 0.079934586186707013, 0.077614011489848297, 0.073261615403741598, 0.070641708616415666, 0.071361591257403295, 0.070487022254119319, 0.070195280975103372, 0.067910795086746412, 0.068148459320391222, 0.066139039448897041, 0.066419432811190685, 0.065651601013789571, 0.060220258499681947, 0.062025124890170993, 0.061175412076587478, 0.061611529568893215, 0.05907547192970912, 0.059877513131995998, 0.055355112624168396, 0.058935910024493936, 0.056113536177575585, 0.056306866389637195, 0.053959103215423722, 0.054221416817915938, 0.055428485012551147, 0.056188446432476245, 0.053138987795884413, 0.053856456389712794, 0.054078358185725907, 0.051154543742723761, 0.050697960097777349, 0.050105545294408999, 0.05095122266088923, 0.049782052404060959, 0.049696253720484675, 0.050794374744594098, 0.049658160768387222, 0.047463179225288331, 0.044637182137804723, 0.047026550610736011, 0.046964350671212497, 0.046380482427651686, 0.048295841361023488, 0.043317599511146547, 0.044296896650145454, 0.043543338395965595, 0.042113951825598878, 0.041638579985871914, 0.041125201188928137, 0.043892541952244936, 0.04273186570216591, 0.041264778792206198, 0.04213073969359199, 0.040383095533028247, 0.039273691109164309, 0.04214226204628746, 0.041944423409458247, 0.038327140013640744, 0.04139271758534014, 0.039940082116033108, 0.037643620633861674, 0.039089165533830725, 0.038482446187098202, 0.035745651194468764, 0.035660594443852701, 0.038450075044824429, 0.035706638056971135, 0.03782330294940621, 0.038756678949048121, 0.035250968083133924, 0.036876823521576202, 0.035392757752972341, 0.034126617129193619, 0.035780738399426144, 0.033876763520917542, 0.035600653009116648, 0.033668161251364896, 0.03563956417720765, 0.033028796585408658, 0.033793117716442791, 0.033289967178227381, 0.033508187171397731, 0.033774376898088182, 0.031897561168003206, 0.032875783342495558, 0.030755924702435732, 0.031401323396495234, 0.032219161378918212, 0.030742236350864791, 0.031227428420896951, 0.032808749404704816, 0.030548542453643555, 0.030274154102103785, 0.03136031210342189, 0.029351813216010731, 0.030077803088631481, 0.029535779391035126, 0.032031362649115422, 0.029707365743350238, 0.028437985888984985, 0.027143552935744324, 0.029458778892674793, 0.028647929100684512, 0.029857326239262086, 0.029301103763445281, 0.028437105311220512, 0.028956767790655917, 0.0275113906956433, 0.028860287267660413, 0.026772442431142553, 0.027998450351386175, 0.025200326755464388, 0.027329927268174167, 0.027698673236990969, 0.027807620677631349, 0.026714141346296915, 0.026517552300853033, 0.026750246964682204, 0.027792167542114232, 0.026089163292245938, 0.026140919036720878, 0.028463469902480332, 0.027131286174757407, 0.025753195675159806, 0.027036995847693954, 0.025048195573866058, 0.026085983963318481, 0.026822740313534935, 0.023639537777487809, 0.024922071298211813, 0.024599916058056989, 0.024101615138701162, 0.024852893450297415, 0.025366624790333057, 0.024988815120320456, 0.021529468240806211, 0.024932535369663188, 0.024717136045514294, 0.023274561011030648, 0.023204736967120939, 0.021615731340596297, 0.02496797454832898, 0.022512619225595457, 0.023166390143946045, 0.022331534159202904, 0.024381908040163883, 0.021809521718299949, 0.024579291953784801, 0.022640742501632002, 0.021906829532164072, 0.024517627238295973, 0.021627144594998874, 0.02150527593931183, 0.022787330884338979, 0.023251814396198219, 0.020663917573099023, 0.021727923378327008, 0.021424494262646962, 0.019762099205139869, 0.02215828723835099, 0.023677502756100147, 0.021823203730587073, 0.02115429209790309, 0.022591440863717192, 0.019428377494569091, 0.020483707075606799], 'acc': [0.24515000000000001, 0.72514999999999996, 0.86219999999999997, 0.9022, 0.92125000000000001, 0.93154999999999999, 0.93903333333333339, 0.94458333333333333, 0.94989999999999997, 0.95301666666666662, 0.95658333333333334, 0.95765, 0.96056666666666668, 0.96240000000000003, 0.96458333333333335, 0.96550000000000002, 0.96655000000000002, 0.96788333333333332, 0.97019999999999995, 0.97053333333333336, 0.97111666666666663, 0.97258333333333336, 0.9725166666666667, 0.97330000000000005, 0.97421666666666662, 0.97424999999999995, 0.97484999999999999, 0.97528333333333328, 0.97581666666666667, 0.97573333333333334, 0.97703333333333331, 0.97753333333333337, 0.97818333333333329, 0.97883333333333333, 0.97831666666666661, 0.97838333333333338, 0.97893333333333332, 0.97978333333333334, 0.9801333333333333, 0.98021666666666663, 0.98068333333333335, 0.98086666666666666, 0.98098333333333332, 0.98119999999999996, 0.98103333333333331, 0.98131666666666661, 0.98281666666666667, 0.98226666666666662, 0.98250000000000004, 0.98278333333333334, 0.98366666666666669, 0.9831833333333333, 0.98399999999999999, 0.98331666666666662, 0.98378333333333334, 0.98406666666666665, 0.98499999999999999, 0.98483333333333334, 0.98411666666666664, 0.98429999999999995, 0.98488333333333333, 0.98441666666666672, 0.98460000000000003, 0.98531666666666662, 0.98531666666666662, 0.98638333333333328, 0.98533333333333328, 0.98658333333333337, 0.98634999999999995, 0.98583333333333334, 0.98631666666666662, 0.98675000000000002, 0.9869, 0.98699999999999999, 0.98666666666666669, 0.98676666666666668, 0.98673333333333335, 0.98786666666666667, 0.98740000000000006, 0.98794999999999999, 0.98821666666666663, 0.98796666666666666, 0.98798333333333332, 0.98713333333333331, 0.98831666666666662, 0.98883333333333334, 0.98788333333333334, 0.98875000000000002, 0.98860000000000003, 0.98796666666666666, 0.98801666666666665, 0.98858333333333337, 0.98798333333333332, 0.98863333333333336, 0.98924999999999996, 0.98821666666666663, 0.98875000000000002, 0.98878333333333335, 0.98946666666666672, 0.98916666666666664, 0.98980000000000001, 0.98870000000000002, 0.98885000000000001, 0.98936666666666662, 0.98899999999999999, 0.9899, 0.98965000000000003, 0.99008333333333332, 0.99031666666666662, 0.98973333333333335, 0.99016666666666664, 0.98965000000000003, 0.99065000000000003, 0.99021666666666663, 0.99058333333333337, 0.99041666666666661, 0.99016666666666664, 0.99068333333333336, 0.99073333333333335, 0.99131666666666662, 0.99058333333333337, 0.99078333333333335, 0.99118333333333331, 0.99083333333333334, 0.99048333333333338, 0.9906666666666667, 0.99101666666666666, 0.9906166666666667, 0.99111666666666665, 0.99101666666666666, 0.9912333333333333, 0.99043333333333339, 0.99128333333333329, 0.99196666666666666, 0.99216666666666664, 0.99114999999999998, 0.99134999999999995, 0.99119999999999997, 0.99136666666666662, 0.99160000000000004, 0.99138333333333328, 0.99185000000000001, 0.99143333333333339, 0.99201666666666666, 0.99160000000000004, 0.99206666666666665, 0.99198333333333333, 0.9919, 0.99143333333333339, 0.99206666666666665, 0.99221666666666664, 0.99214999999999998, 0.99219999999999997, 0.99229999999999996, 0.99214999999999998, 0.9919, 0.9922833333333333, 0.99229999999999996, 0.99268333333333336, 0.99234999999999995, 0.99216666666666664, 0.9922833333333333, 0.99280000000000002, 0.99241666666666661, 0.99299999999999999, 0.99280000000000002, 0.99270000000000003, 0.99276666666666669, 0.99236666666666662, 0.99331666666666663, 0.99253333333333338, 0.99291666666666667, 0.99308333333333332, 0.99303333333333332, 0.99381666666666668, 0.99281666666666668, 0.9932833333333333, 0.99355000000000004, 0.99368333333333336, 0.99295, 0.99351666666666671, 0.99258333333333337, 0.99331666666666663, 0.9936666666666667, 0.99280000000000002, 0.99288333333333334, 0.99390000000000001, 0.99308333333333332, 0.99301666666666666, 0.99368333333333336, 0.99343333333333328, 0.99380000000000002, 0.99421666666666664, 0.99348333333333338, 0.99316666666666664, 0.99378333333333335, 0.99398333333333333, 0.99318333333333331, 0.99411666666666665, 0.99395]}\n"
     ]
    }
   ],
   "source": [
    "print(history.history)"
   ]
  },
  {
   "cell_type": "code",
   "execution_count": 15,
   "metadata": {
    "collapsed": true
   },
   "outputs": [],
   "source": [
    "\n",
    "data = pd.DataFrame(history.history)\n",
    "nome = 'DoubleConvMNISTNormDrop_t2' + str(datetime.datetime.now())+'.json'\n",
    "data = data.to_json()\n",
    "with open(nome, \"w+\") as output_file:\n",
    "    output_file.write(data)"
   ]
  },
  {
   "cell_type": "code",
   "execution_count": null,
   "metadata": {
    "collapsed": true
   },
   "outputs": [],
   "source": []
  },
  {
   "cell_type": "code",
   "execution_count": null,
   "metadata": {
    "collapsed": true
   },
   "outputs": [],
   "source": []
  }
 ],
 "metadata": {
  "kernelspec": {
   "display_name": "Python 3",
   "language": "python",
   "name": "python3"
  },
  "language_info": {
   "codemirror_mode": {
    "name": "ipython",
    "version": 3
   },
   "file_extension": ".py",
   "mimetype": "text/x-python",
   "name": "python",
   "nbconvert_exporter": "python",
   "pygments_lexer": "ipython3",
   "version": "3.6.3"
  }
 },
 "nbformat": 4,
 "nbformat_minor": 2
}
