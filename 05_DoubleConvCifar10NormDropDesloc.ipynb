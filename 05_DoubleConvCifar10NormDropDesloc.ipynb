{
 "cells": [
  {
   "cell_type": "code",
   "execution_count": 1,
   "metadata": {},
   "outputs": [
    {
     "name": "stderr",
     "output_type": "stream",
     "text": [
      "Using TensorFlow backend.\n"
     ]
    }
   ],
   "source": [
    "import keras\n",
    "import numpy as np\n",
    "from tflearn.datasets import cifar10\n",
    "from keras.optimizers import SGD\n",
    "from keras.models import Sequential\n",
    "from keras.layers import Dense, Dropout, Flatten, Softmax\n",
    "from keras.layers import Conv2D, MaxPooling2D, BatchNormalization, Reshape, GlobalAveragePooling2D, GlobalAveragePooling1D\n",
    "from keras.optimizers import Adam\n",
    "from keras.initializers import RandomNormal\n",
    "import matplotlib.pyplot as plt\n",
    "import pandas as pd\n",
    "import datetime"
   ]
  },
  {
   "cell_type": "code",
   "execution_count": 2,
   "metadata": {
    "collapsed": true
   },
   "outputs": [],
   "source": [
    "\n",
    "# Hyperparameters\n",
    "batch_size = 64\n",
    "num_classes = 10 #pegar automaticamente NumPy.Unique\n",
    "epochs = 200\n",
    "\n"
   ]
  },
  {
   "cell_type": "code",
   "execution_count": null,
   "metadata": {
    "collapsed": true
   },
   "outputs": [],
   "source": []
  },
  {
   "cell_type": "code",
   "execution_count": 3,
   "metadata": {
    "collapsed": true
   },
   "outputs": [],
   "source": [
    "# Load Cifar-10 Data\n",
    "(x_train, y_train), (x_test, y_test) = cifar10.load_data()\n",
    "\n",
    "\n",
    "#\n",
    "\n",
    "x_train.shape\n",
    "img_height, img_width, channel = x_train.shape[1],x_train.shape[2],x_train.shape[3]\n",
    "#channel=1\n",
    "\n"
   ]
  },
  {
   "cell_type": "code",
   "execution_count": 4,
   "metadata": {},
   "outputs": [
    {
     "data": {
      "text/plain": [
       "(50000, 32, 32, 3)"
      ]
     },
     "execution_count": 4,
     "metadata": {},
     "output_type": "execute_result"
    }
   ],
   "source": [
    "\n",
    "#\n",
    "x_train.shape\n",
    "\n",
    "#\n"
   ]
  },
  {
   "cell_type": "code",
   "execution_count": 5,
   "metadata": {
    "collapsed": true
   },
   "outputs": [],
   "source": [
    "# convert to one hot encoing \n",
    "y_train = keras.utils.to_categorical(y_train, num_classes)\n",
    "y_test = keras.utils.to_categorical(y_test, num_classes)\n",
    "\n"
   ]
  },
  {
   "cell_type": "code",
   "execution_count": 6,
   "metadata": {},
   "outputs": [
    {
     "data": {
      "text/plain": [
       "32"
      ]
     },
     "execution_count": 6,
     "metadata": {},
     "output_type": "execute_result"
    }
   ],
   "source": [
    "img_width"
   ]
  },
  {
   "cell_type": "code",
   "execution_count": 7,
   "metadata": {
    "collapsed": true
   },
   "outputs": [],
   "source": [
    "model = Sequential()\n",
    "#Filters = IMG_width/2 * 7\n",
    "model.add(Conv2D(112, #alterado de 192 pra 112\n",
    "                 (5,5), #alterado de 3 para 5 \n",
    "                 strides=(2,2), \n",
    "                 activation='relu', \n",
    "                 padding='same',\n",
    "                 data_format='channels_last',\n",
    "                 use_bias=True, \n",
    "                 kernel_initializer=RandomNormal(mean=0.0, stddev=0.05, seed=None), \n",
    "                 bias_initializer='zeros',\n",
    "                 input_shape=(img_height, img_width, channel)))\n",
    "\n",
    "#calculo da quantidade de filtros da normalização:\n",
    "# Width*heigth da saída após a primeira camada de convolução+pooling\n",
    "######### RESIZED ###########\n",
    "model.add(Conv2D(96, \n",
    "                 (1,1),  \n",
    "                 strides=(1,1), \n",
    "                 activation='relu', \n",
    "                 padding='same',\n",
    "                 kernel_initializer=RandomNormal(mean=0.0, stddev=0.05, seed=None), \n",
    "                 data_format='channels_last'))\n",
    "\n",
    "model.add(Conv2D(96, \n",
    "                 (1,1),  \n",
    "                 strides=(1,1), \n",
    "                 activation='relu', \n",
    "                 padding='same',\n",
    "                 kernel_initializer=RandomNormal(mean=0.0, stddev=0.05, seed=None), \n",
    "                 data_format='channels_last'))\n",
    "model.add(Dropout(0.5))\n",
    "\n",
    "#Pooling\n",
    "model.add(MaxPooling2D(pool_size=(2, 2), \n",
    "                       strides=(2,2)))\n",
    "\n",
    "\n",
    "\n",
    "          \n",
    "#Filters = IMG_width/2 * 9\n",
    "model.add(Conv2D(144, #alterado de 128 para 144\n",
    "                 (5,5), \n",
    "                 strides=(2,2), \n",
    "                 activation='relu', \n",
    "                 padding='same',\n",
    "                 data_format='channels_last',\n",
    "                 use_bias=True, \n",
    "                 kernel_initializer=RandomNormal(mean=0.0, stddev=0.05, seed=None), \n",
    "                 bias_initializer='zeros',\n",
    "                 input_shape=(img_height, img_width, channel)))\n",
    "#Normalização\n",
    "model.add(Conv2D(96, \n",
    "                 (1,1),  \n",
    "                 strides=(1,1), \n",
    "                 activation='relu', \n",
    "                 padding='same',\n",
    "                 kernel_initializer=RandomNormal(mean=0.0, stddev=0.05, seed=None), \n",
    "                 data_format='channels_last'))\n",
    "\n",
    "model.add(Conv2D(96, \n",
    "                 (1,1),  \n",
    "                 strides=(1,1), \n",
    "                 activation='relu', \n",
    "                 padding='same',\n",
    "                 kernel_initializer=RandomNormal(mean=0.0, stddev=0.05, seed=None), \n",
    "                 data_format='channels_last'))\n",
    "model.add(Dropout(0.5))\n",
    "#Pooling\n",
    "model.add(MaxPooling2D(pool_size=(2, 2), \n",
    "                       strides=(2,2)))\n",
    "#model.add(BatchNormalization())\n",
    "######### RESIZED ###########\n",
    "\n",
    "\n",
    "          \n",
    "          \n",
    "model.add(Flatten())\n",
    "#IMG_width^ 2\n",
    "model.add(Dense(1024, activation='relu'))\n",
    "model.add(Dropout(0.5))\n",
    "\n",
    "#camada anterior/2\n",
    "model.add(Dense(512, activation='relu'))\n",
    "model.add(Dropout(0.5))\n",
    "\n",
    "#Num de classes\n",
    "model.add(Dense(10, activation='softmax'))\n"
   ]
  },
  {
   "cell_type": "code",
   "execution_count": 8,
   "metadata": {},
   "outputs": [
    {
     "name": "stdout",
     "output_type": "stream",
     "text": [
      "_________________________________________________________________\n",
      "Layer (type)                 Output Shape              Param #   \n",
      "=================================================================\n",
      "conv2d_1 (Conv2D)            (None, 16, 16, 112)       8512      \n",
      "_________________________________________________________________\n",
      "conv2d_2 (Conv2D)            (None, 16, 16, 96)        10848     \n",
      "_________________________________________________________________\n",
      "conv2d_3 (Conv2D)            (None, 16, 16, 96)        9312      \n",
      "_________________________________________________________________\n",
      "dropout_1 (Dropout)          (None, 16, 16, 96)        0         \n",
      "_________________________________________________________________\n",
      "max_pooling2d_1 (MaxPooling2 (None, 8, 8, 96)          0         \n",
      "_________________________________________________________________\n",
      "conv2d_4 (Conv2D)            (None, 4, 4, 144)         345744    \n",
      "_________________________________________________________________\n",
      "conv2d_5 (Conv2D)            (None, 4, 4, 96)          13920     \n",
      "_________________________________________________________________\n",
      "conv2d_6 (Conv2D)            (None, 4, 4, 96)          9312      \n",
      "_________________________________________________________________\n",
      "dropout_2 (Dropout)          (None, 4, 4, 96)          0         \n",
      "_________________________________________________________________\n",
      "max_pooling2d_2 (MaxPooling2 (None, 2, 2, 96)          0         \n",
      "_________________________________________________________________\n",
      "flatten_1 (Flatten)          (None, 384)               0         \n",
      "_________________________________________________________________\n",
      "dense_1 (Dense)              (None, 1024)              394240    \n",
      "_________________________________________________________________\n",
      "dropout_3 (Dropout)          (None, 1024)              0         \n",
      "_________________________________________________________________\n",
      "dense_2 (Dense)              (None, 512)               524800    \n",
      "_________________________________________________________________\n",
      "dropout_4 (Dropout)          (None, 512)               0         \n",
      "_________________________________________________________________\n",
      "dense_3 (Dense)              (None, 10)                5130      \n",
      "=================================================================\n",
      "Total params: 1,321,818\n",
      "Trainable params: 1,321,818\n",
      "Non-trainable params: 0\n",
      "_________________________________________________________________\n"
     ]
    }
   ],
   "source": [
    "\n",
    "# print the model summary\n",
    "model.summary()\n",
    "\n"
   ]
  },
  {
   "cell_type": "code",
   "execution_count": 9,
   "metadata": {
    "collapsed": true
   },
   "outputs": [],
   "source": [
    "# determine Loss function and Optimizer\n",
    "model.compile(loss='categorical_crossentropy', #alterado de logcosh\n",
    "              optimizer=SGD(lr=0.01, momentum=0.01, decay=0.0, nesterov=False),\n",
    "              metrics=['accuracy'])\n"
   ]
  },
  {
   "cell_type": "code",
   "execution_count": 10,
   "metadata": {
    "scrolled": false
   },
   "outputs": [
    {
     "name": "stdout",
     "output_type": "stream",
     "text": [
      "Train on 50000 samples, validate on 10000 samples\n",
      "Epoch 1/200\n",
      "50000/50000 [==============================] - 161s 3ms/step - loss: 2.2999 - acc: 0.1179 - val_loss: 2.2978 - val_acc: 0.1188\n",
      "Epoch 2/200\n",
      "50000/50000 [==============================] - 179s 4ms/step - loss: 2.2363 - acc: 0.1718 - val_loss: 2.1799 - val_acc: 0.2266\n",
      "Epoch 3/200\n",
      "50000/50000 [==============================] - 180s 4ms/step - loss: 2.0848 - acc: 0.2169 - val_loss: 2.1481 - val_acc: 0.2072\n",
      "Epoch 4/200\n",
      "50000/50000 [==============================] - 179s 4ms/step - loss: 2.0274 - acc: 0.2378 - val_loss: 2.0786 - val_acc: 0.2453\n",
      "Epoch 5/200\n",
      "50000/50000 [==============================] - 179s 4ms/step - loss: 1.9803 - acc: 0.2563 - val_loss: 2.0442 - val_acc: 0.2602\n",
      "Epoch 6/200\n",
      "50000/50000 [==============================] - 180s 4ms/step - loss: 1.9288 - acc: 0.2737 - val_loss: 1.9810 - val_acc: 0.2886\n",
      "Epoch 7/200\n",
      "50000/50000 [==============================] - 178s 4ms/step - loss: 1.8764 - acc: 0.2972 - val_loss: 1.9628 - val_acc: 0.2847\n",
      "Epoch 8/200\n",
      "50000/50000 [==============================] - 178s 4ms/step - loss: 1.8253 - acc: 0.3205 - val_loss: 2.2514 - val_acc: 0.1599\n",
      "Epoch 9/200\n",
      "50000/50000 [==============================] - 176s 4ms/step - loss: 1.7775 - acc: 0.3380 - val_loss: 1.8818 - val_acc: 0.3349\n",
      "Epoch 10/200\n",
      "50000/50000 [==============================] - 176s 4ms/step - loss: 1.7299 - acc: 0.3532 - val_loss: 1.9074 - val_acc: 0.3142\n",
      "Epoch 11/200\n",
      "50000/50000 [==============================] - 178s 4ms/step - loss: 1.6924 - acc: 0.3714 - val_loss: 1.7798 - val_acc: 0.3880\n",
      "Epoch 12/200\n",
      "50000/50000 [==============================] - 177s 4ms/step - loss: 1.6578 - acc: 0.3836 - val_loss: 1.8059 - val_acc: 0.3630\n",
      "Epoch 13/200\n",
      "50000/50000 [==============================] - 175s 4ms/step - loss: 1.6264 - acc: 0.3956 - val_loss: 1.8002 - val_acc: 0.3844\n",
      "Epoch 14/200\n",
      "50000/50000 [==============================] - 177s 4ms/step - loss: 1.5933 - acc: 0.4085 - val_loss: 1.6656 - val_acc: 0.4168\n",
      "Epoch 15/200\n",
      "50000/50000 [==============================] - 178s 4ms/step - loss: 1.5611 - acc: 0.4220 - val_loss: 1.6600 - val_acc: 0.4270\n",
      "Epoch 16/200\n",
      "50000/50000 [==============================] - 178s 4ms/step - loss: 1.5315 - acc: 0.4350 - val_loss: 1.6296 - val_acc: 0.4391\n",
      "Epoch 17/200\n",
      "50000/50000 [==============================] - 178s 4ms/step - loss: 1.5036 - acc: 0.4444 - val_loss: 1.7537 - val_acc: 0.3620\n",
      "Epoch 18/200\n",
      "50000/50000 [==============================] - 178s 4ms/step - loss: 1.4864 - acc: 0.4527 - val_loss: 1.5920 - val_acc: 0.4362\n",
      "Epoch 19/200\n",
      "50000/50000 [==============================] - 178s 4ms/step - loss: 1.4662 - acc: 0.4599 - val_loss: 1.5971 - val_acc: 0.4440\n",
      "Epoch 20/200\n",
      "50000/50000 [==============================] - 179s 4ms/step - loss: 1.4450 - acc: 0.4699 - val_loss: 1.5897 - val_acc: 0.4401\n",
      "Epoch 21/200\n",
      "50000/50000 [==============================] - 179s 4ms/step - loss: 1.4278 - acc: 0.4765 - val_loss: 1.6306 - val_acc: 0.4208\n",
      "Epoch 22/200\n",
      "50000/50000 [==============================] - 180s 4ms/step - loss: 1.4086 - acc: 0.4844 - val_loss: 1.5832 - val_acc: 0.4184\n",
      "Epoch 23/200\n",
      "50000/50000 [==============================] - 179s 4ms/step - loss: 1.3894 - acc: 0.4930 - val_loss: 1.5389 - val_acc: 0.4665\n",
      "Epoch 24/200\n",
      "50000/50000 [==============================] - 180s 4ms/step - loss: 1.3771 - acc: 0.4967 - val_loss: 1.5733 - val_acc: 0.4569\n",
      "Epoch 25/200\n",
      "50000/50000 [==============================] - 180s 4ms/step - loss: 1.3634 - acc: 0.5017 - val_loss: 1.5530 - val_acc: 0.4370\n",
      "Epoch 26/200\n",
      "50000/50000 [==============================] - 180s 4ms/step - loss: 1.3476 - acc: 0.5072 - val_loss: 1.5529 - val_acc: 0.4453\n",
      "Epoch 27/200\n",
      "50000/50000 [==============================] - 181s 4ms/step - loss: 1.3355 - acc: 0.5116 - val_loss: 1.5685 - val_acc: 0.4648\n",
      "Epoch 28/200\n",
      "50000/50000 [==============================] - 179s 4ms/step - loss: 1.3180 - acc: 0.5219 - val_loss: 1.6070 - val_acc: 0.4240\n",
      "Epoch 29/200\n",
      "50000/50000 [==============================] - 177s 4ms/step - loss: 1.3025 - acc: 0.5266 - val_loss: 1.5296 - val_acc: 0.4570\n",
      "Epoch 30/200\n",
      "50000/50000 [==============================] - 178s 4ms/step - loss: 1.2914 - acc: 0.5294 - val_loss: 1.5294 - val_acc: 0.4444\n",
      "Epoch 31/200\n",
      "50000/50000 [==============================] - 177s 4ms/step - loss: 1.2793 - acc: 0.5341 - val_loss: 1.3872 - val_acc: 0.5437\n",
      "Epoch 32/200\n",
      "50000/50000 [==============================] - 177s 4ms/step - loss: 1.2708 - acc: 0.5380 - val_loss: 1.4434 - val_acc: 0.4912\n",
      "Epoch 33/200\n",
      "50000/50000 [==============================] - 178s 4ms/step - loss: 1.2592 - acc: 0.5420 - val_loss: 1.4020 - val_acc: 0.5117\n",
      "Epoch 34/200\n",
      "50000/50000 [==============================] - 178s 4ms/step - loss: 1.2488 - acc: 0.5494 - val_loss: 1.4379 - val_acc: 0.4994\n",
      "Epoch 35/200\n",
      "50000/50000 [==============================] - 178s 4ms/step - loss: 1.2373 - acc: 0.5532 - val_loss: 1.4545 - val_acc: 0.4887\n",
      "Epoch 36/200\n",
      "50000/50000 [==============================] - 177s 4ms/step - loss: 1.2251 - acc: 0.5556 - val_loss: 1.4295 - val_acc: 0.5009\n",
      "Epoch 37/200\n",
      "50000/50000 [==============================] - 179s 4ms/step - loss: 1.2125 - acc: 0.5607 - val_loss: 1.4049 - val_acc: 0.4941\n",
      "Epoch 38/200\n",
      "50000/50000 [==============================] - 179s 4ms/step - loss: 1.2029 - acc: 0.5648 - val_loss: 1.4229 - val_acc: 0.5035\n",
      "Epoch 39/200\n",
      "50000/50000 [==============================] - 179s 4ms/step - loss: 1.1898 - acc: 0.5715 - val_loss: 1.5519 - val_acc: 0.4383\n",
      "Epoch 40/200\n",
      "50000/50000 [==============================] - 179s 4ms/step - loss: 1.1824 - acc: 0.5706 - val_loss: 1.3850 - val_acc: 0.5109\n",
      "Epoch 41/200\n",
      "50000/50000 [==============================] - 180s 4ms/step - loss: 1.1762 - acc: 0.5766 - val_loss: 1.3924 - val_acc: 0.5298\n",
      "Epoch 42/200\n",
      "50000/50000 [==============================] - 179s 4ms/step - loss: 1.1631 - acc: 0.5808 - val_loss: 1.4102 - val_acc: 0.4928\n",
      "Epoch 43/200\n",
      "50000/50000 [==============================] - 182s 4ms/step - loss: 1.1530 - acc: 0.5825 - val_loss: 1.2882 - val_acc: 0.5890\n",
      "Epoch 44/200\n",
      "50000/50000 [==============================] - 179s 4ms/step - loss: 1.1464 - acc: 0.5840 - val_loss: 1.3088 - val_acc: 0.5602\n",
      "Epoch 45/200\n",
      "50000/50000 [==============================] - 178s 4ms/step - loss: 1.1348 - acc: 0.5903 - val_loss: 1.5451 - val_acc: 0.4610\n",
      "Epoch 46/200\n",
      "50000/50000 [==============================] - 177s 4ms/step - loss: 1.1292 - acc: 0.5941 - val_loss: 1.5956 - val_acc: 0.4273\n",
      "Epoch 47/200\n",
      "50000/50000 [==============================] - 178s 4ms/step - loss: 1.1188 - acc: 0.5967 - val_loss: 1.3152 - val_acc: 0.5437\n",
      "Epoch 48/200\n",
      "50000/50000 [==============================] - 179s 4ms/step - loss: 1.1111 - acc: 0.5988 - val_loss: 1.4437 - val_acc: 0.4897\n",
      "Epoch 49/200\n",
      "50000/50000 [==============================] - 177s 4ms/step - loss: 1.1040 - acc: 0.6023 - val_loss: 1.2511 - val_acc: 0.5805\n",
      "Epoch 50/200\n",
      "50000/50000 [==============================] - 179s 4ms/step - loss: 1.0957 - acc: 0.6061 - val_loss: 1.3560 - val_acc: 0.5222\n",
      "Epoch 51/200\n",
      "50000/50000 [==============================] - 178s 4ms/step - loss: 1.0864 - acc: 0.6086 - val_loss: 1.3031 - val_acc: 0.5513\n",
      "Epoch 52/200\n",
      "50000/50000 [==============================] - 177s 4ms/step - loss: 1.0778 - acc: 0.6112 - val_loss: 1.3609 - val_acc: 0.5168\n",
      "Epoch 53/200\n",
      "50000/50000 [==============================] - 176s 4ms/step - loss: 1.0690 - acc: 0.6143 - val_loss: 1.2939 - val_acc: 0.5521\n",
      "Epoch 54/200\n",
      "50000/50000 [==============================] - 175s 4ms/step - loss: 1.0642 - acc: 0.6169 - val_loss: 1.3249 - val_acc: 0.5228\n",
      "Epoch 55/200\n",
      "50000/50000 [==============================] - 177s 4ms/step - loss: 1.0555 - acc: 0.6206 - val_loss: 1.3462 - val_acc: 0.5194\n",
      "Epoch 56/200\n",
      "50000/50000 [==============================] - 190s 4ms/step - loss: 1.0505 - acc: 0.6241 - val_loss: 1.3237 - val_acc: 0.5364\n",
      "Epoch 57/200\n",
      "50000/50000 [==============================] - 187s 4ms/step - loss: 1.0399 - acc: 0.6266 - val_loss: 1.3574 - val_acc: 0.5102\n",
      "Epoch 58/200\n",
      "50000/50000 [==============================] - 186s 4ms/step - loss: 1.0315 - acc: 0.6297 - val_loss: 1.3062 - val_acc: 0.5253\n",
      "Epoch 59/200\n"
     ]
    },
    {
     "name": "stdout",
     "output_type": "stream",
     "text": [
      "50000/50000 [==============================] - 175s 4ms/step - loss: 1.0291 - acc: 0.6297 - val_loss: 1.1777 - val_acc: 0.6041\n",
      "Epoch 60/200\n",
      "50000/50000 [==============================] - 175s 4ms/step - loss: 1.0196 - acc: 0.6330 - val_loss: 1.2461 - val_acc: 0.5695\n",
      "Epoch 61/200\n",
      "50000/50000 [==============================] - 175s 4ms/step - loss: 1.0124 - acc: 0.6373 - val_loss: 1.3017 - val_acc: 0.5310\n",
      "Epoch 62/200\n",
      "50000/50000 [==============================] - 175s 4ms/step - loss: 1.0099 - acc: 0.6391 - val_loss: 1.2515 - val_acc: 0.5629\n",
      "Epoch 63/200\n",
      "50000/50000 [==============================] - 175s 4ms/step - loss: 1.0002 - acc: 0.6435 - val_loss: 1.1671 - val_acc: 0.6046\n",
      "Epoch 64/200\n",
      "50000/50000 [==============================] - 176s 4ms/step - loss: 0.9953 - acc: 0.6435 - val_loss: 1.3865 - val_acc: 0.5304\n",
      "Epoch 65/200\n",
      "50000/50000 [==============================] - 174s 3ms/step - loss: 0.9874 - acc: 0.6451 - val_loss: 1.2074 - val_acc: 0.5953\n",
      "Epoch 66/200\n",
      "50000/50000 [==============================] - 174s 3ms/step - loss: 0.9781 - acc: 0.6525 - val_loss: 1.2163 - val_acc: 0.5860\n",
      "Epoch 67/200\n",
      "50000/50000 [==============================] - 176s 4ms/step - loss: 0.9732 - acc: 0.6513 - val_loss: 1.2707 - val_acc: 0.5482\n",
      "Epoch 68/200\n",
      "50000/50000 [==============================] - 174s 3ms/step - loss: 0.9692 - acc: 0.6529 - val_loss: 1.2859 - val_acc: 0.5526\n",
      "Epoch 69/200\n",
      "50000/50000 [==============================] - 175s 3ms/step - loss: 0.9611 - acc: 0.6578 - val_loss: 1.2391 - val_acc: 0.5554\n",
      "Epoch 70/200\n",
      "50000/50000 [==============================] - 176s 4ms/step - loss: 0.9540 - acc: 0.6601 - val_loss: 1.2161 - val_acc: 0.5729\n",
      "Epoch 71/200\n",
      "50000/50000 [==============================] - 175s 4ms/step - loss: 0.9472 - acc: 0.6622 - val_loss: 1.2055 - val_acc: 0.5842\n",
      "Epoch 72/200\n",
      "50000/50000 [==============================] - 175s 3ms/step - loss: 0.9404 - acc: 0.6654 - val_loss: 1.1394 - val_acc: 0.6135\n",
      "Epoch 73/200\n",
      "50000/50000 [==============================] - 175s 3ms/step - loss: 0.9344 - acc: 0.6664 - val_loss: 1.1432 - val_acc: 0.6211\n",
      "Epoch 74/200\n",
      "50000/50000 [==============================] - 174s 3ms/step - loss: 0.9292 - acc: 0.6693 - val_loss: 1.1413 - val_acc: 0.5992\n",
      "Epoch 75/200\n",
      "50000/50000 [==============================] - 176s 4ms/step - loss: 0.9247 - acc: 0.6689 - val_loss: 1.4737 - val_acc: 0.4745\n",
      "Epoch 76/200\n",
      "50000/50000 [==============================] - 175s 3ms/step - loss: 0.9206 - acc: 0.6716 - val_loss: 1.2980 - val_acc: 0.5457\n",
      "Epoch 77/200\n",
      "50000/50000 [==============================] - 176s 4ms/step - loss: 0.9141 - acc: 0.6761 - val_loss: 1.1659 - val_acc: 0.5900\n",
      "Epoch 78/200\n",
      "50000/50000 [==============================] - 176s 4ms/step - loss: 0.9029 - acc: 0.6768 - val_loss: 1.2131 - val_acc: 0.5792\n",
      "Epoch 79/200\n",
      "50000/50000 [==============================] - 176s 4ms/step - loss: 0.8967 - acc: 0.6805 - val_loss: 1.2012 - val_acc: 0.5739\n",
      "Epoch 80/200\n",
      "50000/50000 [==============================] - 175s 3ms/step - loss: 0.8948 - acc: 0.6806 - val_loss: 1.8297 - val_acc: 0.3710\n",
      "Epoch 81/200\n",
      "50000/50000 [==============================] - 176s 4ms/step - loss: 0.8928 - acc: 0.6824 - val_loss: 1.0897 - val_acc: 0.6280\n",
      "Epoch 82/200\n",
      "50000/50000 [==============================] - 176s 4ms/step - loss: 0.8803 - acc: 0.6878 - val_loss: 1.1294 - val_acc: 0.6051\n",
      "Epoch 83/200\n",
      "50000/50000 [==============================] - 175s 4ms/step - loss: 0.8757 - acc: 0.6894 - val_loss: 1.2581 - val_acc: 0.5479\n",
      "Epoch 84/200\n",
      "50000/50000 [==============================] - 177s 4ms/step - loss: 0.8703 - acc: 0.6896 - val_loss: 1.1961 - val_acc: 0.5882\n",
      "Epoch 85/200\n",
      "50000/50000 [==============================] - 177s 4ms/step - loss: 0.8675 - acc: 0.6907 - val_loss: 1.1728 - val_acc: 0.5839\n",
      "Epoch 86/200\n",
      "50000/50000 [==============================] - 176s 4ms/step - loss: 0.8603 - acc: 0.6937 - val_loss: 1.1891 - val_acc: 0.5770\n",
      "Epoch 87/200\n",
      "50000/50000 [==============================] - 173s 3ms/step - loss: 0.8537 - acc: 0.6952 - val_loss: 1.3379 - val_acc: 0.5312\n",
      "Epoch 88/200\n",
      "50000/50000 [==============================] - 174s 3ms/step - loss: 0.8511 - acc: 0.6973 - val_loss: 1.1137 - val_acc: 0.6040\n",
      "Epoch 89/200\n",
      "50000/50000 [==============================] - 176s 4ms/step - loss: 0.8450 - acc: 0.6990 - val_loss: 1.3144 - val_acc: 0.5349\n",
      "Epoch 90/200\n",
      "50000/50000 [==============================] - 175s 3ms/step - loss: 0.8394 - acc: 0.7014 - val_loss: 1.0806 - val_acc: 0.6248\n",
      "Epoch 91/200\n",
      "50000/50000 [==============================] - 174s 3ms/step - loss: 0.8351 - acc: 0.7046 - val_loss: 1.0727 - val_acc: 0.6236\n",
      "Epoch 92/200\n",
      "50000/50000 [==============================] - 176s 4ms/step - loss: 0.8306 - acc: 0.7033 - val_loss: 1.0325 - val_acc: 0.6578\n",
      "Epoch 93/200\n",
      "50000/50000 [==============================] - 175s 3ms/step - loss: 0.8210 - acc: 0.7106 - val_loss: 1.1758 - val_acc: 0.5870\n",
      "Epoch 94/200\n",
      "50000/50000 [==============================] - 174s 3ms/step - loss: 0.8158 - acc: 0.7102 - val_loss: 1.3507 - val_acc: 0.5218\n",
      "Epoch 95/200\n",
      "50000/50000 [==============================] - 175s 3ms/step - loss: 0.8181 - acc: 0.7107 - val_loss: 1.0587 - val_acc: 0.6381\n",
      "Epoch 96/200\n",
      "50000/50000 [==============================] - 176s 4ms/step - loss: 0.8108 - acc: 0.7121 - val_loss: 1.1678 - val_acc: 0.6014\n",
      "Epoch 97/200\n",
      "50000/50000 [==============================] - 175s 3ms/step - loss: 0.7988 - acc: 0.7158 - val_loss: 1.0107 - val_acc: 0.6614\n",
      "Epoch 98/200\n",
      "50000/50000 [==============================] - 174s 3ms/step - loss: 0.7991 - acc: 0.7182 - val_loss: 1.0577 - val_acc: 0.6397\n",
      "Epoch 99/200\n",
      "50000/50000 [==============================] - 174s 3ms/step - loss: 0.7933 - acc: 0.7203 - val_loss: 1.1241 - val_acc: 0.6109\n",
      "Epoch 100/200\n",
      "50000/50000 [==============================] - 175s 3ms/step - loss: 0.7880 - acc: 0.7215 - val_loss: 1.0022 - val_acc: 0.6622\n",
      "Epoch 101/200\n",
      "50000/50000 [==============================] - 173s 3ms/step - loss: 0.7804 - acc: 0.7240 - val_loss: 0.9941 - val_acc: 0.6565\n",
      "Epoch 102/200\n",
      "50000/50000 [==============================] - 172s 3ms/step - loss: 0.7839 - acc: 0.7213 - val_loss: 1.0699 - val_acc: 0.6254\n",
      "Epoch 103/200\n",
      "50000/50000 [==============================] - 173s 3ms/step - loss: 0.7786 - acc: 0.7249 - val_loss: 0.9675 - val_acc: 0.6697\n",
      "Epoch 104/200\n",
      "50000/50000 [==============================] - 172s 3ms/step - loss: 0.7693 - acc: 0.7263 - val_loss: 0.9793 - val_acc: 0.6698\n",
      "Epoch 105/200\n",
      "50000/50000 [==============================] - 173s 3ms/step - loss: 0.7670 - acc: 0.7281 - val_loss: 1.0438 - val_acc: 0.6488\n",
      "Epoch 106/200\n",
      "50000/50000 [==============================] - 172s 3ms/step - loss: 0.7624 - acc: 0.7299 - val_loss: 1.3113 - val_acc: 0.5441\n",
      "Epoch 107/200\n",
      "50000/50000 [==============================] - 173s 3ms/step - loss: 0.7487 - acc: 0.7330 - val_loss: 1.2082 - val_acc: 0.5764\n",
      "Epoch 108/200\n",
      "50000/50000 [==============================] - 174s 3ms/step - loss: 0.7483 - acc: 0.7351 - val_loss: 1.0197 - val_acc: 0.6524\n",
      "Epoch 109/200\n",
      "50000/50000 [==============================] - 174s 3ms/step - loss: 0.7477 - acc: 0.7358 - val_loss: 0.9378 - val_acc: 0.6815\n",
      "Epoch 110/200\n",
      "50000/50000 [==============================] - 172s 3ms/step - loss: 0.7396 - acc: 0.7370 - val_loss: 1.0132 - val_acc: 0.6527\n",
      "Epoch 111/200\n",
      "50000/50000 [==============================] - 172s 3ms/step - loss: 0.7432 - acc: 0.7362 - val_loss: 1.0808 - val_acc: 0.6161\n",
      "Epoch 112/200\n",
      "50000/50000 [==============================] - 172s 3ms/step - loss: 0.7319 - acc: 0.7423 - val_loss: 0.9861 - val_acc: 0.6756\n",
      "Epoch 113/200\n",
      "50000/50000 [==============================] - 175s 3ms/step - loss: 0.7243 - acc: 0.7427 - val_loss: 1.1248 - val_acc: 0.6033\n",
      "Epoch 114/200\n",
      "50000/50000 [==============================] - 175s 3ms/step - loss: 0.7234 - acc: 0.7436 - val_loss: 0.9753 - val_acc: 0.6644\n",
      "Epoch 115/200\n",
      "50000/50000 [==============================] - 173s 3ms/step - loss: 0.7162 - acc: 0.7471 - val_loss: 0.9589 - val_acc: 0.6575\n",
      "Epoch 116/200\n",
      "50000/50000 [==============================] - 173s 3ms/step - loss: 0.7173 - acc: 0.7451 - val_loss: 1.0162 - val_acc: 0.6486\n",
      "Epoch 117/200\n"
     ]
    },
    {
     "name": "stdout",
     "output_type": "stream",
     "text": [
      "50000/50000 [==============================] - 173s 3ms/step - loss: 0.7200 - acc: 0.7444 - val_loss: 1.1498 - val_acc: 0.6014\n",
      "Epoch 118/200\n",
      "50000/50000 [==============================] - 173s 3ms/step - loss: 0.7100 - acc: 0.7481 - val_loss: 1.1734 - val_acc: 0.5878\n",
      "Epoch 119/200\n",
      "50000/50000 [==============================] - 172s 3ms/step - loss: 0.7070 - acc: 0.7484 - val_loss: 0.9908 - val_acc: 0.6516\n",
      "Epoch 120/200\n",
      "50000/50000 [==============================] - 175s 4ms/step - loss: 0.6948 - acc: 0.7525 - val_loss: 0.9686 - val_acc: 0.6570\n",
      "Epoch 121/200\n",
      "50000/50000 [==============================] - 176s 4ms/step - loss: 0.6946 - acc: 0.7534 - val_loss: 1.2581 - val_acc: 0.5703\n",
      "Epoch 122/200\n",
      "50000/50000 [==============================] - 174s 3ms/step - loss: 0.6923 - acc: 0.7543 - val_loss: 0.9893 - val_acc: 0.6550\n",
      "Epoch 123/200\n",
      "50000/50000 [==============================] - 175s 4ms/step - loss: 0.6849 - acc: 0.7575 - val_loss: 1.0353 - val_acc: 0.6366\n",
      "Epoch 124/200\n",
      "50000/50000 [==============================] - 176s 4ms/step - loss: 0.6836 - acc: 0.7559 - val_loss: 0.9251 - val_acc: 0.6857\n",
      "Epoch 125/200\n",
      "50000/50000 [==============================] - 178s 4ms/step - loss: 0.6793 - acc: 0.7602 - val_loss: 0.9164 - val_acc: 0.6910\n",
      "Epoch 126/200\n",
      "50000/50000 [==============================] - 178s 4ms/step - loss: 0.6776 - acc: 0.7573 - val_loss: 0.8980 - val_acc: 0.6971\n",
      "Epoch 127/200\n",
      "50000/50000 [==============================] - 179s 4ms/step - loss: 0.6699 - acc: 0.7622 - val_loss: 1.0053 - val_acc: 0.6481\n",
      "Epoch 128/200\n",
      "50000/50000 [==============================] - 180s 4ms/step - loss: 0.6695 - acc: 0.7633 - val_loss: 0.9089 - val_acc: 0.6873\n",
      "Epoch 129/200\n",
      "50000/50000 [==============================] - 178s 4ms/step - loss: 0.6648 - acc: 0.7639 - val_loss: 0.9731 - val_acc: 0.6543\n",
      "Epoch 130/200\n",
      "50000/50000 [==============================] - 178s 4ms/step - loss: 0.6566 - acc: 0.7679 - val_loss: 0.9812 - val_acc: 0.6569\n",
      "Epoch 131/200\n",
      "50000/50000 [==============================] - 179s 4ms/step - loss: 0.6562 - acc: 0.7668 - val_loss: 0.9115 - val_acc: 0.6884\n",
      "Epoch 132/200\n",
      "50000/50000 [==============================] - 179s 4ms/step - loss: 0.6536 - acc: 0.7676 - val_loss: 0.9886 - val_acc: 0.6690\n",
      "Epoch 133/200\n",
      "50000/50000 [==============================] - 178s 4ms/step - loss: 0.6500 - acc: 0.7697 - val_loss: 0.9694 - val_acc: 0.6674\n",
      "Epoch 134/200\n",
      "50000/50000 [==============================] - 178s 4ms/step - loss: 0.6459 - acc: 0.7699 - val_loss: 0.9192 - val_acc: 0.6841\n",
      "Epoch 135/200\n",
      "50000/50000 [==============================] - 177s 4ms/step - loss: 0.6432 - acc: 0.7707 - val_loss: 0.9252 - val_acc: 0.6736\n",
      "Epoch 136/200\n",
      "50000/50000 [==============================] - 179s 4ms/step - loss: 0.6372 - acc: 0.7735 - val_loss: 0.9782 - val_acc: 0.6674\n",
      "Epoch 137/200\n",
      "50000/50000 [==============================] - 179s 4ms/step - loss: 0.6279 - acc: 0.7770 - val_loss: 1.0504 - val_acc: 0.6433\n",
      "Epoch 138/200\n",
      "50000/50000 [==============================] - 179s 4ms/step - loss: 0.6307 - acc: 0.7755 - val_loss: 1.0101 - val_acc: 0.6473\n",
      "Epoch 139/200\n",
      "50000/50000 [==============================] - 180s 4ms/step - loss: 0.6248 - acc: 0.7773 - val_loss: 0.9421 - val_acc: 0.6739\n",
      "Epoch 140/200\n",
      "50000/50000 [==============================] - 179s 4ms/step - loss: 0.6244 - acc: 0.7783 - val_loss: 1.0582 - val_acc: 0.6364\n",
      "Epoch 141/200\n",
      "50000/50000 [==============================] - 178s 4ms/step - loss: 0.6212 - acc: 0.7789 - val_loss: 0.9047 - val_acc: 0.6812\n",
      "Epoch 142/200\n",
      "50000/50000 [==============================] - 179s 4ms/step - loss: 0.6188 - acc: 0.7789 - val_loss: 0.9699 - val_acc: 0.6687\n",
      "Epoch 143/200\n",
      "50000/50000 [==============================] - 179s 4ms/step - loss: 0.6154 - acc: 0.7820 - val_loss: 0.9566 - val_acc: 0.6732\n",
      "Epoch 144/200\n",
      "50000/50000 [==============================] - 179s 4ms/step - loss: 0.6143 - acc: 0.7808 - val_loss: 0.9773 - val_acc: 0.6627\n",
      "Epoch 145/200\n",
      "50000/50000 [==============================] - 178s 4ms/step - loss: 0.6107 - acc: 0.7815 - val_loss: 0.9818 - val_acc: 0.6540\n",
      "Epoch 146/200\n",
      "50000/50000 [==============================] - 179s 4ms/step - loss: 0.6023 - acc: 0.7848 - val_loss: 0.9048 - val_acc: 0.6892\n",
      "Epoch 147/200\n",
      "50000/50000 [==============================] - 178s 4ms/step - loss: 0.5991 - acc: 0.7864 - val_loss: 0.9611 - val_acc: 0.6587\n",
      "Epoch 148/200\n",
      "50000/50000 [==============================] - 176s 4ms/step - loss: 0.5964 - acc: 0.7867 - val_loss: 0.8949 - val_acc: 0.6921\n",
      "Epoch 149/200\n",
      "50000/50000 [==============================] - 177s 4ms/step - loss: 0.5937 - acc: 0.7902 - val_loss: 0.9645 - val_acc: 0.6615\n",
      "Epoch 150/200\n",
      "50000/50000 [==============================] - 178s 4ms/step - loss: 0.5879 - acc: 0.7919 - val_loss: 0.8654 - val_acc: 0.7042\n",
      "Epoch 151/200\n",
      "50000/50000 [==============================] - 176s 4ms/step - loss: 0.5890 - acc: 0.7914 - val_loss: 1.2625 - val_acc: 0.566185 -  - ETA: 5s - l\n",
      "Epoch 152/200\n",
      "50000/50000 [==============================] - 176s 4ms/step - loss: 0.5814 - acc: 0.7940 - val_loss: 0.9762 - val_acc: 0.6579\n",
      "Epoch 153/200\n",
      "50000/50000 [==============================] - 176s 4ms/step - loss: 0.5809 - acc: 0.7921 - val_loss: 0.8944 - val_acc: 0.6930\n",
      "Epoch 154/200\n",
      "50000/50000 [==============================] - 176s 4ms/step - loss: 0.5836 - acc: 0.7936 - val_loss: 0.9014 - val_acc: 0.6871\n",
      "Epoch 155/200\n",
      "50000/50000 [==============================] - 176s 4ms/step - loss: 0.5702 - acc: 0.7973 - val_loss: 0.9141 - val_acc: 0.6738\n",
      "Epoch 156/200\n",
      "50000/50000 [==============================] - 176s 4ms/step - loss: 0.5642 - acc: 0.7989 - val_loss: 0.9664 - val_acc: 0.6620\n",
      "Epoch 157/200\n",
      "50000/50000 [==============================] - 175s 4ms/step - loss: 0.5678 - acc: 0.7983 - val_loss: 1.0303 - val_acc: 0.6448\n",
      "Epoch 158/200\n",
      "50000/50000 [==============================] - 175s 3ms/step - loss: 0.5646 - acc: 0.7991 - val_loss: 0.8769 - val_acc: 0.6861\n",
      "Epoch 159/200\n",
      "50000/50000 [==============================] - 175s 4ms/step - loss: 0.5662 - acc: 0.7992 - val_loss: 0.9506 - val_acc: 0.6718\n",
      "Epoch 160/200\n",
      "50000/50000 [==============================] - 174s 3ms/step - loss: 0.5583 - acc: 0.8013 - val_loss: 0.8710 - val_acc: 0.6934\n",
      "Epoch 161/200\n",
      "50000/50000 [==============================] - 176s 4ms/step - loss: 0.5570 - acc: 0.8020 - val_loss: 0.8612 - val_acc: 0.6950\n",
      "Epoch 162/200\n",
      "50000/50000 [==============================] - 175s 4ms/step - loss: 0.5471 - acc: 0.8074 - val_loss: 0.9866 - val_acc: 0.6569\n",
      "Epoch 163/200\n",
      "50000/50000 [==============================] - 176s 4ms/step - loss: 0.5524 - acc: 0.8039 - val_loss: 1.0131 - val_acc: 0.6489\n",
      "Epoch 164/200\n",
      "50000/50000 [==============================] - 178s 4ms/step - loss: 0.5472 - acc: 0.8046 - val_loss: 1.0355 - val_acc: 0.6481\n",
      "Epoch 165/200\n",
      "50000/50000 [==============================] - 177s 4ms/step - loss: 0.5455 - acc: 0.8047 - val_loss: 1.0190 - val_acc: 0.6495\n",
      "Epoch 166/200\n",
      "50000/50000 [==============================] - 177s 4ms/step - loss: 0.5353 - acc: 0.8112 - val_loss: 0.8956 - val_acc: 0.6846\n",
      "Epoch 167/200\n",
      "50000/50000 [==============================] - 177s 4ms/step - loss: 0.5396 - acc: 0.8072 - val_loss: 0.8336 - val_acc: 0.7079\n",
      "Epoch 168/200\n",
      "50000/50000 [==============================] - 177s 4ms/step - loss: 0.5356 - acc: 0.8099 - val_loss: 1.0077 - val_acc: 0.6600\n",
      "Epoch 169/200\n",
      "50000/50000 [==============================] - 177s 4ms/step - loss: 0.5357 - acc: 0.8092 - val_loss: 0.9394 - val_acc: 0.6761\n",
      "Epoch 170/200\n",
      "50000/50000 [==============================] - 176s 4ms/step - loss: 0.5294 - acc: 0.8124 - val_loss: 0.9904 - val_acc: 0.6539\n",
      "Epoch 171/200\n",
      "50000/50000 [==============================] - 177s 4ms/step - loss: 0.5271 - acc: 0.8134 - val_loss: 1.0673 - val_acc: 0.6325\n",
      "Epoch 172/200\n",
      "50000/50000 [==============================] - 177s 4ms/step - loss: 0.5216 - acc: 0.8140 - val_loss: 0.8777 - val_acc: 0.6866\n",
      "Epoch 173/200\n",
      "50000/50000 [==============================] - 177s 4ms/step - loss: 0.5213 - acc: 0.8143 - val_loss: 0.9368 - val_acc: 0.6834\n",
      "Epoch 174/200\n",
      "50000/50000 [==============================] - 180s 4ms/step - loss: 0.5216 - acc: 0.8156 - val_loss: 0.9403 - val_acc: 0.6728\n",
      "Epoch 175/200\n"
     ]
    },
    {
     "name": "stdout",
     "output_type": "stream",
     "text": [
      "50000/50000 [==============================] - 178s 4ms/step - loss: 0.5158 - acc: 0.8167 - val_loss: 0.8642 - val_acc: 0.7030\n",
      "Epoch 176/200\n",
      "50000/50000 [==============================] - 176s 4ms/step - loss: 0.5145 - acc: 0.8167 - val_loss: 0.8199 - val_acc: 0.7165\n",
      "Epoch 177/200\n",
      "50000/50000 [==============================] - 177s 4ms/step - loss: 0.5141 - acc: 0.8159 - val_loss: 0.9487 - val_acc: 0.6769\n",
      "Epoch 178/200\n",
      "50000/50000 [==============================] - 176s 4ms/step - loss: 0.5093 - acc: 0.8150 - val_loss: 0.8053 - val_acc: 0.7198\n",
      "Epoch 179/200\n",
      "50000/50000 [==============================] - 176s 4ms/step - loss: 0.5068 - acc: 0.8204 - val_loss: 0.9362 - val_acc: 0.6772\n",
      "Epoch 180/200\n",
      "50000/50000 [==============================] - 175s 4ms/step - loss: 0.5003 - acc: 0.8216 - val_loss: 0.8623 - val_acc: 0.6960\n",
      "Epoch 181/200\n",
      "50000/50000 [==============================] - 177s 4ms/step - loss: 0.5001 - acc: 0.8216 - val_loss: 0.8742 - val_acc: 0.6915\n",
      "Epoch 182/200\n",
      "50000/50000 [==============================] - 175s 4ms/step - loss: 0.4997 - acc: 0.8205 - val_loss: 0.8725 - val_acc: 0.6965\n",
      "Epoch 183/200\n",
      "50000/50000 [==============================] - 176s 4ms/step - loss: 0.4908 - acc: 0.8245 - val_loss: 1.0968 - val_acc: 0.6317\n",
      "Epoch 184/200\n",
      "50000/50000 [==============================] - 175s 4ms/step - loss: 0.4989 - acc: 0.8227 - val_loss: 0.8895 - val_acc: 0.6900\n",
      "Epoch 185/200\n",
      "50000/50000 [==============================] - 177s 4ms/step - loss: 0.4876 - acc: 0.8271 - val_loss: 1.1082 - val_acc: 0.6226\n",
      "Epoch 186/200\n",
      "50000/50000 [==============================] - 178s 4ms/step - loss: 0.4839 - acc: 0.8259 - val_loss: 0.9401 - val_acc: 0.6760\n",
      "Epoch 187/200\n",
      "50000/50000 [==============================] - 178s 4ms/step - loss: 0.4879 - acc: 0.8281 - val_loss: 0.8616 - val_acc: 0.6990\n",
      "Epoch 188/200\n",
      "50000/50000 [==============================] - 176s 4ms/step - loss: 0.4816 - acc: 0.8270 - val_loss: 1.3699 - val_acc: 0.5565\n",
      "Epoch 189/200\n",
      "50000/50000 [==============================] - 176s 4ms/step - loss: 0.4795 - acc: 0.8285 - val_loss: 0.8537 - val_acc: 0.6967\n",
      "Epoch 190/200\n",
      "50000/50000 [==============================] - 176s 4ms/step - loss: 0.4780 - acc: 0.8308 - val_loss: 0.8271 - val_acc: 0.7122\n",
      "Epoch 191/200\n",
      "50000/50000 [==============================] - 176s 4ms/step - loss: 0.4788 - acc: 0.8304 - val_loss: 0.9059 - val_acc: 0.6871\n",
      "Epoch 192/200\n",
      "50000/50000 [==============================] - 176s 4ms/step - loss: 0.4724 - acc: 0.8314 - val_loss: 0.8568 - val_acc: 0.7042\n",
      "Epoch 193/200\n",
      "50000/50000 [==============================] - 175s 3ms/step - loss: 0.4697 - acc: 0.8326 - val_loss: 1.1611 - val_acc: 0.6072\n",
      "Epoch 194/200\n",
      "50000/50000 [==============================] - 176s 4ms/step - loss: 0.4724 - acc: 0.8313 - val_loss: 1.1983 - val_acc: 0.6032\n",
      "Epoch 195/200\n",
      "50000/50000 [==============================] - 176s 4ms/step - loss: 0.4626 - acc: 0.8342 - val_loss: 0.9115 - val_acc: 0.6840\n",
      "Epoch 196/200\n",
      "50000/50000 [==============================] - 174s 3ms/step - loss: 0.4637 - acc: 0.8347 - val_loss: 0.9929 - val_acc: 0.6649\n",
      "Epoch 197/200\n",
      "50000/50000 [==============================] - 173s 3ms/step - loss: 0.4653 - acc: 0.8307 - val_loss: 0.8504 - val_acc: 0.7066\n",
      "Epoch 198/200\n",
      "50000/50000 [==============================] - 173s 3ms/step - loss: 0.4632 - acc: 0.8333 - val_loss: 0.8798 - val_acc: 0.6973\n",
      "Epoch 199/200\n",
      "50000/50000 [==============================] - 175s 3ms/step - loss: 0.4541 - acc: 0.8387 - val_loss: 0.9551 - val_acc: 0.6676\n",
      "Epoch 200/200\n",
      "50000/50000 [==============================] - 173s 3ms/step - loss: 0.4580 - acc: 0.8372 - val_loss: 0.8792 - val_acc: 0.7024\n"
     ]
    }
   ],
   "source": [
    "\n",
    "# Train the Model\n",
    "#earlyStopping=keras.callbacks.EarlyStopping(monitor='val_acc', min_delta=0, patience=13, verbose=1, mode='auto')\n",
    "history = model.fit(x_train, y_train,\n",
    "                    batch_size=batch_size,\n",
    "                    epochs=epochs,\n",
    "                    verbose=1,\n",
    " #                   callbacks=[earlyStopping],\n",
    "                    validation_data=(x_test, y_test))\n",
    "\n"
   ]
  },
  {
   "cell_type": "code",
   "execution_count": null,
   "metadata": {
    "collapsed": true
   },
   "outputs": [],
   "source": []
  },
  {
   "cell_type": "code",
   "execution_count": 11,
   "metadata": {},
   "outputs": [
    {
     "data": {
      "image/png": "[encoded data removed]",
      "text/plain": [
       "<matplotlib.figure.Figure at 0x7f5579d29320>"
      ]
     },
     "metadata": {},
     "output_type": "display_data"
    }
   ],
   "source": [
    "plt.plot(history.history['acc'])\n",
    "plt.plot(history.history['val_acc'])\n",
    "plt.title('model accuracy')\n",
    "plt.ylabel('accuracy')\n",
    "plt.xlabel('epoch')\n",
    "plt.legend(['train acc','val acc'], loc='upper left')\n",
    "plt.show()"
   ]
  },
  {
   "cell_type": "code",
   "execution_count": 12,
   "metadata": {},
   "outputs": [
    {
     "data": {
      "image/png": "[encoded data removed]",
      "text/plain": [
       "<matplotlib.figure.Figure at 0x7f5579d82898>"
      ]
     },
     "metadata": {},
     "output_type": "display_data"
    }
   ],
   "source": [
    "plt.plot(history.history['loss'])\n",
    "plt.plot(history.history['val_loss'])\n",
    "plt.title('model loss')\n",
    "plt.ylabel('loss')\n",
    "plt.xlabel('epoch')\n",
    "plt.legend(['train loss','Val Loss'], loc='upper left')\n",
    "plt.show()"
   ]
  },
  {
   "cell_type": "code",
   "execution_count": 13,
   "metadata": {},
   "outputs": [
    {
     "name": "stdout",
     "output_type": "stream",
     "text": [
      "Test loss: 0.879244576263\n",
      "Test accuracy: 0.7024\n"
     ]
    }
   ],
   "source": [
    "# Test the model\n",
    "score = model.evaluate(x_test, y_test, verbose=0)\n",
    "print('Test loss:', score[0])\n",
    "print('Test accuracy:', score[1])"
   ]
  },
  {
   "cell_type": "code",
   "execution_count": null,
   "metadata": {
    "collapsed": true
   },
   "outputs": [],
   "source": []
  },
  {
   "cell_type": "code",
   "execution_count": 14,
   "metadata": {},
   "outputs": [
    {
     "name": "stdout",
     "output_type": "stream",
     "text": [
      "{'val_loss': [2.2978183326721191, 2.1798529747009279, 2.1481394504547118, 2.0785659469604494, 2.0441820228576661, 1.9810065439224243, 1.9628087188720702, 2.2513577987670899, 1.8817993881225585, 1.9073553169250488, 1.7797517925262452, 1.8059421546936034, 1.800215927696228, 1.6655668968200683, 1.6600316053390503, 1.6296260927200317, 1.7536815450668335, 1.5920046401977539, 1.5970714733123779, 1.5897493911743164, 1.6305664300918579, 1.5832428039550781, 1.538946329498291, 1.5732579597473144, 1.5530490097045899, 1.5528968381881714, 1.5685280746459962, 1.6069751230239868, 1.5295821598052979, 1.5294218580245971, 1.3871532148361205, 1.4433675170898437, 1.4020445871353149, 1.437896886062622, 1.4544731269836426, 1.4294591793060303, 1.4048834529876708, 1.4229082664489745, 1.5519035997390747, 1.3849597023010254, 1.3923891435623168, 1.4102152561187744, 1.2881676876068116, 1.3087617042541504, 1.5450950538635253, 1.5955748857498169, 1.3152362247467042, 1.4436722148895265, 1.25106707572937, 1.3559508996963501, 1.3030987821578979, 1.3609329910278321, 1.2938847827911377, 1.324941220855713, 1.3461838136672974, 1.3236787982940674, 1.3574139377593994, 1.3061817255020141, 1.1777046852111817, 1.246145050048828, 1.3016860858917236, 1.251502230834961, 1.1671353267669677, 1.3864568710327148, 1.2074278041839599, 1.2162903686523439, 1.2707358615875244, 1.2858658271789551, 1.2391127223968506, 1.216133897972107, 1.2054785037994384, 1.139407248878479, 1.1432451644897461, 1.1412527029991151, 1.4737495580673219, 1.2979816333770753, 1.1659495186805726, 1.213125909614563, 1.2012243516921997, 1.8296522296905517, 1.0896537183761597, 1.129403726863861, 1.2580530559539795, 1.1961301872253418, 1.1727660029411315, 1.1890915125846864, 1.3379488269805908, 1.113689317893982, 1.3143964267730712, 1.0806219541549682, 1.072691928768158, 1.0324825786590577, 1.175845611000061, 1.3507475692749022, 1.058741471672058, 1.1678212209701537, 1.0107170221328736, 1.0577282085418702, 1.124097381591797, 1.0022471611976624, 0.9940678821563721, 1.0699086721420288, 0.96750341777801518, 0.97928544387817384, 1.0438495330810547, 1.311342656326294, 1.2082316601753236, 1.019704709815979, 0.93783127403259281, 1.0132405811309815, 1.0808243440628051, 0.9861164507865906, 1.1247815966606141, 0.97529328680038452, 0.95886427097320559, 1.0161930403709412, 1.1497784469604493, 1.1734382642745971, 0.99083231334686284, 0.96864143877029418, 1.2580852046966553, 0.98928446722030638, 1.035329683303833, 0.92510830430984492, 0.91636834506988529, 0.89799376544952392, 1.0053412564277648, 0.90885713195800777, 0.9730511292457581, 0.98124947338104251, 0.91147516078948976, 0.98863368215560909, 0.96937432556152348, 0.91924285678863527, 0.92516550579071044, 0.97824558687210084, 1.0503963855743408, 1.0100679587364196, 0.94214026708602905, 1.0582249913215638, 0.90468351373672484, 0.96986091003417974, 0.95661117954254149, 0.97730352001190191, 0.98184341182708745, 0.90484992427825928, 0.96108447961807253, 0.89490243663787838, 0.96452689266204839, 0.86537102260589605, 1.2625293270111084, 0.97618406019210813, 0.89440986871719363, 0.9013882987976074, 0.91414449682235721, 0.96643360376358034, 1.0302753395080566, 0.87692402238845824, 0.95055851440429684, 0.87099686775207519, 0.8612171974182129, 0.98658375148773192, 1.0130577754974366, 1.0354633292198181, 1.0189980432510375, 0.8955699556350708, 0.8335554485321045, 1.0076977754592895, 0.9393880805969238, 0.99042420463562009, 1.0673418974876403, 0.87769963903427128, 0.9368259418487549, 0.94032375860214235, 0.86422225160598753, 0.81985679893493657, 0.94869665451049801, 0.8053486108779907, 0.93622091226577764, 0.86226104021072392, 0.8741767854690552, 0.87245171966552737, 1.0968201223373413, 0.88954886054992677, 1.108164967918396, 0.9401198680877686, 0.86163729915618892, 1.3698622821807862, 0.85371345348358152, 0.82707892408370975, 0.90589546632766726, 0.85677885026931766, 1.1611471454620361, 1.1983478553771973, 0.91154093122482305, 0.99289226303100586, 0.85037066154479979, 0.87982313613891605, 0.95512106676101682, 0.87924458103179937], 'val_acc': [0.1188, 0.2266, 0.2072, 0.24529999999999999, 0.26019999999999999, 0.28860000000000002, 0.28470000000000001, 0.15989999999999999, 0.33489999999999998, 0.31419999999999998, 0.38800000000000001, 0.36299999999999999, 0.38440000000000002, 0.4168, 0.42699999999999999, 0.43909999999999999, 0.36199999999999999, 0.43619999999999998, 0.44400000000000001, 0.44009999999999999, 0.42080000000000001, 0.41839999999999999, 0.46650000000000003, 0.45689999999999997, 0.437, 0.44529999999999997, 0.46479999999999999, 0.42399999999999999, 0.45700000000000002, 0.44440000000000002, 0.54369999999999996, 0.49120000000000003, 0.51170000000000004, 0.49940000000000001, 0.48870000000000002, 0.50090000000000001, 0.49409999999999998, 0.50349999999999995, 0.43830000000000002, 0.51090000000000002, 0.52980000000000005, 0.49280000000000002, 0.58899999999999997, 0.56020000000000003, 0.46100000000000002, 0.42730000000000001, 0.54369999999999996, 0.48970000000000002, 0.58050000000000002, 0.5222, 0.55130000000000001, 0.51680000000000004, 0.55210000000000004, 0.52280000000000004, 0.51939999999999997, 0.53639999999999999, 0.51019999999999999, 0.52529999999999999, 0.60409999999999997, 0.56950000000000001, 0.53100000000000003, 0.56289999999999996, 0.60460000000000003, 0.53039999999999998, 0.59530000000000005, 0.58599999999999997, 0.54820000000000002, 0.55259999999999998, 0.5554, 0.57289999999999996, 0.58420000000000005, 0.61350000000000005, 0.62109999999999999, 0.59919999999999995, 0.47449999999999998, 0.54569999999999996, 0.58999999999999997, 0.57920000000000005, 0.57389999999999997, 0.371, 0.628, 0.60509999999999997, 0.54790000000000005, 0.58819999999999995, 0.58389999999999997, 0.57699999999999996, 0.53120000000000001, 0.60399999999999998, 0.53490000000000004, 0.62480000000000002, 0.62360000000000004, 0.65780000000000005, 0.58699999999999997, 0.52180000000000004, 0.6381, 0.60140000000000005, 0.66139999999999999, 0.63970000000000005, 0.6109, 0.66220000000000001, 0.65649999999999997, 0.62539999999999996, 0.66969999999999996, 0.66979999999999995, 0.64880000000000004, 0.54410000000000003, 0.57640000000000002, 0.65239999999999998, 0.68149999999999999, 0.65269999999999995, 0.61609999999999998, 0.67559999999999998, 0.60329999999999995, 0.66439999999999999, 0.65749999999999997, 0.64859999999999995, 0.60140000000000005, 0.58779999999999999, 0.65159999999999996, 0.65700000000000003, 0.57030000000000003, 0.65500000000000003, 0.63660000000000005, 0.68569999999999998, 0.69099999999999995, 0.69710000000000005, 0.64810000000000001, 0.68730000000000002, 0.65429999999999999, 0.65690000000000004, 0.68840000000000001, 0.66900000000000004, 0.66739999999999999, 0.68410000000000004, 0.67359999999999998, 0.66739999999999999, 0.64329999999999998, 0.64729999999999999, 0.67390000000000005, 0.63639999999999997, 0.68120000000000003, 0.66869999999999996, 0.67320000000000002, 0.66269999999999996, 0.65400000000000003, 0.68920000000000003, 0.65869999999999995, 0.69210000000000005, 0.66149999999999998, 0.70420000000000005, 0.56610000000000005, 0.65790000000000004, 0.69299999999999995, 0.68710000000000004, 0.67379999999999995, 0.66200000000000003, 0.64480000000000004, 0.68610000000000004, 0.67179999999999995, 0.69340000000000002, 0.69499999999999995, 0.65690000000000004, 0.64890000000000003, 0.64810000000000001, 0.64949999999999997, 0.68459999999999999, 0.70789999999999997, 0.66000000000000003, 0.67610000000000003, 0.65390000000000004, 0.63249999999999995, 0.68659999999999999, 0.68340000000000001, 0.67279999999999995, 0.70299999999999996, 0.71650000000000003, 0.67689999999999995, 0.7198, 0.67720000000000002, 0.69599999999999995, 0.6915, 0.69650000000000001, 0.63170000000000004, 0.68999999999999995, 0.62260000000000004, 0.67600000000000005, 0.69899999999999995, 0.55649999999999999, 0.69669999999999999, 0.71220000000000006, 0.68710000000000004, 0.70420000000000005, 0.60719999999999996, 0.60319999999999996, 0.68400000000000005, 0.66490000000000005, 0.70660000000000001, 0.69730000000000003, 0.66759999999999997, 0.70240000000000002], 'loss': [2.2998992810058594, 2.2363090307617188, 2.0848107438659667, 2.0273825713348388, 1.980334929008484, 1.9287691483306886, 1.8764119915008546, 1.825307160873413, 1.7774847265625, 1.7299418351745606, 1.6923859718322753, 1.6577509098052978, 1.626393264579773, 1.5932864557647706, 1.5611079611587524, 1.5315046677398683, 1.5035796074295045, 1.4863680402755737, 1.4661936956024171, 1.4449667807006836, 1.4278248199462891, 1.4085578951644897, 1.3894403496551513, 1.3771327151489259, 1.3633653103637695, 1.347588511352539, 1.3354688486480712, 1.3179767039489747, 1.3024523573303222, 1.2914318060493468, 1.2792550226593018, 1.2708265659332276, 1.2591914493560792, 1.2487561304855346, 1.2373460037994384, 1.2251074232864381, 1.2125180526351929, 1.202917827720642, 1.189815215587616, 1.1823823134613036, 1.1762050844573975, 1.163075271396637, 1.1529874124908448, 1.146388974685669, 1.1347697997283936, 1.1291591844177247, 1.1188039916992187, 1.111087467918396, 1.1040006019210815, 1.0957218292808533, 1.0863881391906738, 1.077766181488037, 1.0689705564880372, 1.0641889874076844, 1.0554712936592101, 1.050492156829834, 1.0398720042800904, 1.0314686152648926, 1.0290959132003785, 1.0195788463020325, 1.0124431905555724, 1.0098816643524169, 1.000161904258728, 0.99526146327972409, 0.98744894386291504, 0.97808571472167971, 0.97320522537231446, 0.96918906089782719, 0.96108971771240237, 0.95401263259887692, 0.94720549980163571, 0.94036148277282716, 0.93439839172363282, 0.92915166023254392, 0.92466144836425779, 0.92058829429626465, 0.91410656187057493, 0.90286688873291021, 0.89668373191833495, 0.89483630119323732, 0.89282551055908199, 0.88031846134185787, 0.87566653675079342, 0.87028495765686031, 0.86754065961837767, 0.86026476114273076, 0.85371517841339106, 0.85111965461730954, 0.84499749740600583, 0.83941209934234617, 0.83514292364120479, 0.83058847911834721, 0.82095291336059573, 0.81584471687316895, 0.81807164373397823, 0.81084501293182376, 0.79878021362304685, 0.79907411270141604, 0.79334374727249146, 0.78799388378143309, 0.78041209884643559, 0.78388853050231933, 0.77858075531005855, 0.7692761330795288, 0.76701505992889407, 0.76238540462493898, 0.74867532739639286, 0.74828264476776118, 0.74771074657440184, 0.73958019279479981, 0.74322499900817873, 0.73194860202789302, 0.72433677692413334, 0.72335753551483151, 0.71619167812347417, 0.71730278503417966, 0.71999881893157958, 0.7100431384658813, 0.70696787799835203, 0.69482613645553593, 0.69464599628448487, 0.69227506069183353, 0.68489677856445308, 0.68364345693588258, 0.67929334377288819, 0.67762610385894773, 0.66986879146575928, 0.66945557998657224, 0.66478698650360113, 0.65657673234939573, 0.65620246677398686, 0.65358670392990115, 0.65003919122695919, 0.6459462798690796, 0.64317378154754634, 0.63724693109512331, 0.62793403823852534, 0.63068901250839238, 0.62483421655654903, 0.62437866052627566, 0.62121563901901244, 0.6188019062042236, 0.61536477001190182, 0.61431661422729489, 0.6107493738555908, 0.60231916748046876, 0.59913910905838008, 0.59643770629882809, 0.59368523887634272, 0.58794941200256345, 0.5890008685874939, 0.58140905030250545, 0.58094129411697393, 0.58358278759002691, 0.5702440426635742, 0.56417992717742915, 0.5677964442443848, 0.56456472406387326, 0.56620025078773495, 0.55833623107910157, 0.5569818358802795, 0.54709259637832641, 0.55237536435127255, 0.54716664934158321, 0.54549904603004451, 0.53531753463745113, 0.53961721715927125, 0.53558305896759029, 0.53568620175361636, 0.52943223026275632, 0.52712956335067751, 0.52158820505142212, 0.52126890722274777, 0.52163346002578737, 0.51576864593505856, 0.51445753583908083, 0.51412031837463379, 0.50932140367507939, 0.50684025251388554, 0.5002973499679565, 0.50011934172630312, 0.49966183423995969, 0.49083324827194214, 0.49891111971139906, 0.48760199245452879, 0.4838970537853241, 0.4879457229614258, 0.48158839550018312, 0.47948554590225217, 0.47799200792312624, 0.47880627619743349, 0.47242785795211795, 0.46967011611938475, 0.47238503973007201, 0.4626263377571106, 0.46374159404754639, 0.46531533756256105, 0.4632088162994385, 0.45409184534072877, 0.4579509285545349], 'acc': [0.11792, 0.17180000000000001, 0.21693999999999999, 0.23780000000000001, 0.25634000000000001, 0.27367999999999998, 0.29720000000000002, 0.32046000000000002, 0.33801999999999999, 0.35315999999999997, 0.37136000000000002, 0.38363999999999998, 0.39562000000000003, 0.40854000000000001, 0.42198000000000002, 0.43502000000000002, 0.44435999999999998, 0.45268000000000003, 0.45992, 0.46992, 0.47648000000000001, 0.48442000000000002, 0.49299999999999999, 0.49669999999999997, 0.50170000000000003, 0.50719999999999998, 0.51156000000000001, 0.52192000000000005, 0.52664, 0.52939999999999998, 0.53410000000000002, 0.53803999999999996, 0.54198000000000002, 0.54944000000000004, 0.55322000000000005, 0.55557999999999996, 0.56066000000000005, 0.56476000000000004, 0.57150000000000001, 0.57055999999999996, 0.57662000000000002, 0.58076000000000005, 0.58245999999999998, 0.58399999999999996, 0.59030000000000005, 0.59414, 0.59665999999999997, 0.59877999999999998, 0.60226000000000002, 0.60611999999999999, 0.60862000000000005, 0.61121999999999999, 0.61428000000000005, 0.61685999999999996, 0.62061999999999995, 0.62414000000000003, 0.62656000000000001, 0.62971999999999995, 0.62970000000000004, 0.63297999999999999, 0.63734000000000002, 0.63914000000000004, 0.64348000000000005, 0.64351999999999998, 0.64505999999999997, 0.65249999999999997, 0.65129999999999999, 0.65288000000000002, 0.65776000000000001, 0.66012000000000004, 0.66224000000000005, 0.66539999999999999, 0.66635999999999995, 0.66927999999999999, 0.66893999999999998, 0.67159999999999997, 0.67608000000000001, 0.67678000000000005, 0.68054000000000003, 0.68056000000000005, 0.68240000000000001, 0.68777999999999995, 0.68935999999999997, 0.68964000000000003, 0.69069999999999998, 0.69372, 0.69523999999999997, 0.69730000000000003, 0.69898000000000005, 0.70135999999999998, 0.70457999999999998, 0.70331999999999995, 0.71064000000000005, 0.71018000000000003, 0.71065999999999996, 0.71209999999999996, 0.71584000000000003, 0.71819999999999995, 0.72031999999999996, 0.72150000000000003, 0.72396000000000005, 0.72128000000000003, 0.72494000000000003, 0.72628000000000004, 0.72809999999999997, 0.72994000000000003, 0.73297999999999996, 0.73514000000000002, 0.73580000000000001, 0.73702000000000001, 0.73619999999999997, 0.74226000000000003, 0.74268000000000001, 0.74360000000000004, 0.74714000000000003, 0.74509999999999998, 0.74438000000000004, 0.74812000000000001, 0.74839999999999995, 0.75249999999999995, 0.75339999999999996, 0.75426000000000004, 0.75746000000000002, 0.75588, 0.76022000000000001, 0.75731999999999999, 0.76224000000000003, 0.76327999999999996, 0.76393999999999995, 0.76790000000000003, 0.76678000000000002, 0.76761999999999997, 0.76968000000000003, 0.76985999999999999, 0.77071999999999996, 0.77347999999999995, 0.77703999999999995, 0.77554000000000001, 0.77734000000000003, 0.77827999999999997, 0.77888000000000002, 0.77891999999999995, 0.78198000000000001, 0.78076000000000001, 0.78154000000000001, 0.78480000000000005, 0.78644000000000003, 0.78671999999999997, 0.79022000000000003, 0.79193999999999998, 0.79142000000000001, 0.79398000000000002, 0.79213999999999996, 0.79364000000000001, 0.79732000000000003, 0.79891999999999996, 0.79827999999999999, 0.79908000000000001, 0.79915999999999998, 0.80132000000000003, 0.80200000000000005, 0.80744000000000005, 0.80386000000000002, 0.80456000000000005, 0.80474000000000001, 0.81120000000000003, 0.80715999999999999, 0.80989999999999995, 0.80922000000000005, 0.81237999999999999, 0.81337999999999999, 0.81396000000000002, 0.81433999999999995, 0.81559999999999999, 0.81674000000000002, 0.81672, 0.81586000000000003, 0.81499999999999995, 0.82042000000000004, 0.8216, 0.8216, 0.82047999999999999, 0.82452000000000003, 0.82269999999999999, 0.82711999999999997, 0.82587999999999995, 0.82808000000000004, 0.82701999999999998, 0.82850000000000001, 0.83077999999999996, 0.83043999999999996, 0.83138000000000001, 0.83264000000000005, 0.83131999999999995, 0.83416000000000001, 0.83467999999999998, 0.83072000000000001, 0.83331999999999995, 0.83872000000000002, 0.83720000000000006]}\n"
     ]
    }
   ],
   "source": [
    "print(history.history)"
   ]
  },
  {
   "cell_type": "code",
   "execution_count": null,
   "metadata": {
    "collapsed": true
   },
   "outputs": [],
   "source": []
  },
  {
   "cell_type": "code",
   "execution_count": 15,
   "metadata": {
    "collapsed": true
   },
   "outputs": [],
   "source": [
    "\n",
    "data = pd.DataFrame(history.history)\n",
    "nome = 'DoubleConvCifar10NormDropDesloc_t1' + str(datetime.datetime.now())+'.json'\n",
    "data = data.to_json()\n",
    "with open(nome, \"w+\") as output_file:\n",
    "    output_file.write(data)"
   ]
  },
  {
   "cell_type": "code",
   "execution_count": null,
   "metadata": {
    "collapsed": true
   },
   "outputs": [],
   "source": []
  },
  {
   "cell_type": "code",
   "execution_count": null,
   "metadata": {
    "collapsed": true
   },
   "outputs": [],
   "source": []
  },
  {
   "cell_type": "code",
   "execution_count": null,
   "metadata": {
    "collapsed": true
   },
   "outputs": [],
   "source": []
  },
  {
   "cell_type": "code",
   "execution_count": null,
   "metadata": {
    "collapsed": true
   },
   "outputs": [],
   "source": []
  }
 ],
 "metadata": {
  "kernelspec": {
   "display_name": "Python 3",
   "language": "python",
   "name": "python3"
  },
  "language_info": {
   "codemirror_mode": {
    "name": "ipython",
    "version": 3
   },
   "file_extension": ".py",
   "mimetype": "text/x-python",
   "name": "python",
   "nbconvert_exporter": "python",
   "pygments_lexer": "ipython3",
   "version": "3.6.3"
  }
 },
 "nbformat": 4,
 "nbformat_minor": 2
}
