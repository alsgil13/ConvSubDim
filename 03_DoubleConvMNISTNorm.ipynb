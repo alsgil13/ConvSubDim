{
 "cells": [
  {
   "cell_type": "code",
   "execution_count": 1,
   "metadata": {},
   "outputs": [
    {
     "name": "stderr",
     "output_type": "stream",
     "text": [
      "Using TensorFlow backend.\n"
     ]
    }
   ],
   "source": [
    "import keras\n",
    "import numpy as np\n",
    "from keras.datasets import mnist\n",
    "from keras.optimizers import SGD\n",
    "\n",
    "from keras.models import Sequential\n",
    "from keras.layers import Dense, Dropout, Flatten, Softmax\n",
    "from keras.layers import Conv2D, MaxPooling2D, BatchNormalization, Reshape, GlobalAveragePooling2D, GlobalAveragePooling1D\n",
    "from keras.optimizers import Adam\n",
    "from keras.initializers import RandomNormal\n",
    "import matplotlib.pyplot as plt"
   ]
  },
  {
   "cell_type": "code",
   "execution_count": 2,
   "metadata": {
    "collapsed": true
   },
   "outputs": [],
   "source": [
    "\n",
    "# Hyperparameters\n",
    "batch_size = 64\n",
    "num_classes = 10 #pegar automaticamente NumPy.Unique\n",
    "epochs = 200\n",
    "\n"
   ]
  },
  {
   "cell_type": "code",
   "execution_count": null,
   "metadata": {
    "collapsed": true
   },
   "outputs": [],
   "source": []
  },
  {
   "cell_type": "code",
   "execution_count": 3,
   "metadata": {},
   "outputs": [
    {
     "data": {
      "text/plain": [
       "(60000, 28, 28, 1)"
      ]
     },
     "execution_count": 3,
     "metadata": {},
     "output_type": "execute_result"
    }
   ],
   "source": [
    "# Load Cifar-10 Data\n",
    "(x_train, y_train), (x_test, y_test) = mnist.load_data()\n",
    "\n",
    "#Adicionando Canal do DataSet (Channel do MNIST eh 1)\n",
    "x_train = np.reshape(x_train, (len(x_train),28,28, 1))\n",
    "x_test = np.reshape(x_test, (len(x_test),28,28, 1))\n",
    "\n",
    "\n",
    "#x_train.shape\n",
    "img_height, img_width, channel = x_train.shape[1],x_train.shape[2],x_train.shape[3]\n",
    "#channel=1\n",
    "\n",
    "x_train.shape\n",
    "\n"
   ]
  },
  {
   "cell_type": "code",
   "execution_count": 4,
   "metadata": {},
   "outputs": [
    {
     "data": {
      "text/plain": [
       "(60000, 28, 28, 1)"
      ]
     },
     "execution_count": 4,
     "metadata": {},
     "output_type": "execute_result"
    }
   ],
   "source": [
    "\n",
    "#\n",
    "x_train.shape\n",
    "\n",
    "#\n"
   ]
  },
  {
   "cell_type": "code",
   "execution_count": 5,
   "metadata": {
    "collapsed": true
   },
   "outputs": [],
   "source": [
    "# convert to one hot encoing \n",
    "y_train = keras.utils.to_categorical(y_train, num_classes)\n",
    "y_test = keras.utils.to_categorical(y_test, num_classes)\n",
    "\n"
   ]
  },
  {
   "cell_type": "code",
   "execution_count": 6,
   "metadata": {},
   "outputs": [
    {
     "data": {
      "text/plain": [
       "28"
      ]
     },
     "execution_count": 6,
     "metadata": {},
     "output_type": "execute_result"
    }
   ],
   "source": [
    "img_width"
   ]
  },
  {
   "cell_type": "code",
   "execution_count": 7,
   "metadata": {
    "collapsed": true
   },
   "outputs": [],
   "source": [
    "model = Sequential()\n",
    "\n",
    "#Filters = IMG_width/2 * 7\n",
    "model.add(Conv2D(98, #alterado de 168 para 98\n",
    "                 (5,5), #alterado de 3 para 5 \n",
    "                 strides=(2,2), \n",
    "                 activation='relu', \n",
    "                 padding='same',\n",
    "                 data_format='channels_last',\n",
    "                 use_bias=True, \n",
    "                 kernel_initializer=RandomNormal(mean=0.0, stddev=0.05, seed=None), \n",
    "                 bias_initializer='zeros',\n",
    "                 input_shape=(img_height, img_width, channel)))\n",
    "model.add(MaxPooling2D(pool_size=(2, 2), \n",
    "                       strides=(2,2)))\n",
    "\n",
    "#Normalization:\n",
    "#calculo da quantidade de filtros da normalização:\n",
    "# Width*heigth da saída após a primeira camada de convolução+pooling\n",
    "model.add(Conv2D(49, \n",
    "                 (1,1), \n",
    "                 strides=(1,1), \n",
    "                 activation='relu', \n",
    "                 padding='same',\n",
    "                 kernel_initializer=RandomNormal(mean=0.0, stddev=0.05, seed=None), \n",
    "                 data_format='channels_last'))\n",
    "model.add(Conv2D(49, \n",
    "                 (1,1), \n",
    "                 strides=(1,1), \n",
    "                 activation='relu', \n",
    "                 padding='same',\n",
    "                 kernel_initializer=RandomNormal(mean=0.0, stddev=0.05, seed=None),                  \n",
    "                 data_format='channels_last'))\n",
    "\n",
    "#Filters = IMG_width/2 * 9\n",
    "model.add(Conv2D(126, \n",
    "                 (5,5), \n",
    "                 strides=(2,2), \n",
    "                 activation='relu', \n",
    "                 padding='same',\n",
    "                 data_format='channels_last',\n",
    "                 use_bias=True, \n",
    "                 kernel_initializer=RandomNormal(mean=0.0, stddev=0.05, seed=None), \n",
    "                 bias_initializer='zeros',\n",
    "                 input_shape=(img_height, img_width, channel)))\n",
    "model.add(MaxPooling2D(pool_size=(2, 2), \n",
    "                       strides=(2,2)))\n",
    "#Normalization:\n",
    "#calculo da quantidade de filtros da normalização:\n",
    "# Width*heigth da saída após a primeira camada de convolução+pooling\n",
    "model.add(Conv2D(49, \n",
    "                 (1,1), \n",
    "                 strides=(1,1), \n",
    "                 activation='relu', \n",
    "                 padding='same',\n",
    "                 kernel_initializer=RandomNormal(mean=0.0, stddev=0.05, seed=None),                  \n",
    "                 data_format='channels_last'))\n",
    "model.add(Conv2D(49, \n",
    "                 (1,1), \n",
    "                 strides=(1,1), \n",
    "                 activation='relu', \n",
    "                 padding='same',\n",
    "                 kernel_initializer=RandomNormal(mean=0.0, stddev=0.05, seed=None),                  \n",
    "                 data_format='channels_last'))\n",
    "\n",
    "model.add(Flatten())\n",
    "#IMG_width^ 2\n",
    "model.add(Dense(784, activation='relu'))\n",
    "model.add(Dropout(0.5))\n",
    "\n",
    "#camada anterior/2\n",
    "model.add(Dense(392, activation='relu'))\n",
    "model.add(Dropout(0.5))\n",
    "\n",
    "#Num de classes\n",
    "model.add(Dense(10, activation='softmax'))\n"
   ]
  },
  {
   "cell_type": "code",
   "execution_count": 8,
   "metadata": {},
   "outputs": [
    {
     "name": "stdout",
     "output_type": "stream",
     "text": [
      "_________________________________________________________________\n",
      "Layer (type)                 Output Shape              Param #   \n",
      "=================================================================\n",
      "conv2d_1 (Conv2D)            (None, 14, 14, 98)        2548      \n",
      "_________________________________________________________________\n",
      "max_pooling2d_1 (MaxPooling2 (None, 7, 7, 98)          0         \n",
      "_________________________________________________________________\n",
      "conv2d_2 (Conv2D)            (None, 7, 7, 49)          4851      \n",
      "_________________________________________________________________\n",
      "conv2d_3 (Conv2D)            (None, 7, 7, 49)          2450      \n",
      "_________________________________________________________________\n",
      "conv2d_4 (Conv2D)            (None, 4, 4, 126)         154476    \n",
      "_________________________________________________________________\n",
      "max_pooling2d_2 (MaxPooling2 (None, 2, 2, 126)         0         \n",
      "_________________________________________________________________\n",
      "conv2d_5 (Conv2D)            (None, 2, 2, 49)          6223      \n",
      "_________________________________________________________________\n",
      "conv2d_6 (Conv2D)            (None, 2, 2, 49)          2450      \n",
      "_________________________________________________________________\n",
      "flatten_1 (Flatten)          (None, 196)               0         \n",
      "_________________________________________________________________\n",
      "dense_1 (Dense)              (None, 784)               154448    \n",
      "_________________________________________________________________\n",
      "dropout_1 (Dropout)          (None, 784)               0         \n",
      "_________________________________________________________________\n",
      "dense_2 (Dense)              (None, 392)               307720    \n",
      "_________________________________________________________________\n",
      "dropout_2 (Dropout)          (None, 392)               0         \n",
      "_________________________________________________________________\n",
      "dense_3 (Dense)              (None, 10)                3930      \n",
      "=================================================================\n",
      "Total params: 639,096\n",
      "Trainable params: 639,096\n",
      "Non-trainable params: 0\n",
      "_________________________________________________________________\n"
     ]
    }
   ],
   "source": [
    "\n",
    "# print the model summary\n",
    "model.summary()\n",
    "\n"
   ]
  },
  {
   "cell_type": "code",
   "execution_count": 9,
   "metadata": {
    "collapsed": true
   },
   "outputs": [],
   "source": [
    "# determine Loss function and Optimizer\n",
    "model.compile(loss='categorical_crossentropy',\n",
    "              optimizer=SGD(lr=0.01, momentum=0.02, decay=0.0, nesterov=False),\n",
    "              metrics=['accuracy'])\n"
   ]
  },
  {
   "cell_type": "code",
   "execution_count": 10,
   "metadata": {},
   "outputs": [
    {
     "name": "stdout",
     "output_type": "stream",
     "text": [
      "Train on 60000 samples, validate on 10000 samples\n",
      "Epoch 1/200\n",
      "60000/60000 [==============================] - 32s 528us/step - loss: 0.6898 - acc: 0.7690 - val_loss: 0.1570 - val_acc: 0.9525\n",
      "Epoch 2/200\n",
      "60000/60000 [==============================] - 32s 530us/step - loss: 0.1380 - acc: 0.9596 - val_loss: 0.0808 - val_acc: 0.9741\n",
      "Epoch 3/200\n",
      "60000/60000 [==============================] - 32s 532us/step - loss: 0.1008 - acc: 0.9706 - val_loss: 0.0499 - val_acc: 0.9835\n",
      "Epoch 4/200\n",
      "60000/60000 [==============================] - 32s 531us/step - loss: 0.0779 - acc: 0.9774 - val_loss: 0.0594 - val_acc: 0.9814\n",
      "Epoch 5/200\n",
      "60000/60000 [==============================] - 32s 530us/step - loss: 0.0665 - acc: 0.9804 - val_loss: 0.0460 - val_acc: 0.9843\n",
      "Epoch 6/200\n",
      "60000/60000 [==============================] - 32s 533us/step - loss: 0.0571 - acc: 0.9836 - val_loss: 0.0393 - val_acc: 0.9874\n",
      "Epoch 7/200\n",
      "60000/60000 [==============================] - 32s 533us/step - loss: 0.0501 - acc: 0.9849 - val_loss: 0.0400 - val_acc: 0.9868\n",
      "Epoch 8/200\n",
      "60000/60000 [==============================] - 32s 540us/step - loss: 0.0450 - acc: 0.9867 - val_loss: 0.0339 - val_acc: 0.9895\n",
      "Epoch 9/200\n",
      "60000/60000 [==============================] - 32s 535us/step - loss: 0.0393 - acc: 0.9885 - val_loss: 0.0410 - val_acc: 0.9870\n",
      "Epoch 10/200\n",
      "60000/60000 [==============================] - 32s 534us/step - loss: 0.0350 - acc: 0.9894 - val_loss: 0.0307 - val_acc: 0.9906\n",
      "Epoch 11/200\n",
      "60000/60000 [==============================] - 32s 539us/step - loss: 0.0316 - acc: 0.9906 - val_loss: 0.0415 - val_acc: 0.9877\n",
      "Epoch 12/200\n",
      "60000/60000 [==============================] - 32s 538us/step - loss: 0.0311 - acc: 0.9906 - val_loss: 0.0322 - val_acc: 0.9898\n",
      "Epoch 13/200\n",
      "60000/60000 [==============================] - 32s 539us/step - loss: 0.0282 - acc: 0.9913 - val_loss: 0.0335 - val_acc: 0.9896\n",
      "Epoch 14/200\n",
      "60000/60000 [==============================] - 32s 535us/step - loss: 0.0262 - acc: 0.9920 - val_loss: 0.0320 - val_acc: 0.9896\n",
      "Epoch 15/200\n",
      "60000/60000 [==============================] - 32s 536us/step - loss: 0.0240 - acc: 0.9927 - val_loss: 0.0314 - val_acc: 0.9901\n",
      "Epoch 16/200\n",
      "60000/60000 [==============================] - 32s 534us/step - loss: 0.0232 - acc: 0.9927 - val_loss: 0.0301 - val_acc: 0.9910\n",
      "Epoch 17/200\n",
      "60000/60000 [==============================] - 32s 537us/step - loss: 0.0200 - acc: 0.9940 - val_loss: 0.0385 - val_acc: 0.9888\n",
      "Epoch 18/200\n",
      "60000/60000 [==============================] - 32s 535us/step - loss: 0.0196 - acc: 0.9942 - val_loss: 0.0362 - val_acc: 0.9898\n",
      "Epoch 19/200\n",
      "60000/60000 [==============================] - 32s 538us/step - loss: 0.0173 - acc: 0.9945 - val_loss: 0.0392 - val_acc: 0.9892\n",
      "Epoch 20/200\n",
      "60000/60000 [==============================] - 32s 537us/step - loss: 0.0167 - acc: 0.9950 - val_loss: 0.0360 - val_acc: 0.9903\n",
      "Epoch 21/200\n",
      "60000/60000 [==============================] - 32s 536us/step - loss: 0.0152 - acc: 0.9951 - val_loss: 0.0353 - val_acc: 0.9901\n",
      "Epoch 22/200\n",
      "60000/60000 [==============================] - 32s 534us/step - loss: 0.0139 - acc: 0.9958 - val_loss: 0.0332 - val_acc: 0.9917\n",
      "Epoch 23/200\n",
      "60000/60000 [==============================] - 32s 536us/step - loss: 0.0147 - acc: 0.9951 - val_loss: 0.0318 - val_acc: 0.9918\n",
      "Epoch 24/200\n",
      "60000/60000 [==============================] - 32s 536us/step - loss: 0.0131 - acc: 0.9960 - val_loss: 0.0350 - val_acc: 0.9901\n",
      "Epoch 25/200\n",
      "60000/60000 [==============================] - 32s 534us/step - loss: 0.0119 - acc: 0.9964 - val_loss: 0.0436 - val_acc: 0.9888\n",
      "Epoch 26/200\n",
      "60000/60000 [==============================] - 32s 537us/step - loss: 0.0115 - acc: 0.9965 - val_loss: 0.0354 - val_acc: 0.9911\n",
      "Epoch 27/200\n",
      "60000/60000 [==============================] - 32s 535us/step - loss: 0.0112 - acc: 0.9968 - val_loss: 0.0382 - val_acc: 0.9899\n",
      "Epoch 28/200\n",
      "60000/60000 [==============================] - 32s 535us/step - loss: 0.0102 - acc: 0.9967 - val_loss: 0.0409 - val_acc: 0.9903\n",
      "Epoch 29/200\n",
      "60000/60000 [==============================] - 32s 536us/step - loss: 0.0101 - acc: 0.9970 - val_loss: 0.0414 - val_acc: 0.9904\n",
      "Epoch 30/200\n",
      "60000/60000 [==============================] - 32s 536us/step - loss: 0.0086 - acc: 0.9973 - val_loss: 0.0368 - val_acc: 0.9915\n",
      "Epoch 31/200\n",
      "60000/60000 [==============================] - 32s 534us/step - loss: 0.0089 - acc: 0.9971 - val_loss: 0.0357 - val_acc: 0.9917\n",
      "Epoch 32/200\n",
      "60000/60000 [==============================] - 32s 537us/step - loss: 0.0084 - acc: 0.9972 - val_loss: 0.0358 - val_acc: 0.9916\n",
      "Epoch 33/200\n",
      "60000/60000 [==============================] - 32s 536us/step - loss: 0.0089 - acc: 0.9969 - val_loss: 0.0785 - val_acc: 0.9827\n",
      "Epoch 34/200\n",
      "60000/60000 [==============================] - 32s 539us/step - loss: 0.0073 - acc: 0.9977 - val_loss: 0.0370 - val_acc: 0.9922\n",
      "Epoch 35/200\n",
      "60000/60000 [==============================] - 32s 538us/step - loss: 0.0085 - acc: 0.9973 - val_loss: 0.0357 - val_acc: 0.9909\n",
      "Epoch 36/200\n",
      "60000/60000 [==============================] - 32s 536us/step - loss: 0.0065 - acc: 0.9980 - val_loss: 0.0392 - val_acc: 0.9903\n",
      "Epoch 37/200\n",
      "60000/60000 [==============================] - 32s 536us/step - loss: 0.0061 - acc: 0.9983 - val_loss: 0.0399 - val_acc: 0.9914\n",
      "Epoch 38/200\n",
      "60000/60000 [==============================] - 32s 538us/step - loss: 0.0057 - acc: 0.9981 - val_loss: 0.0586 - val_acc: 0.9874\n",
      "Epoch 39/200\n",
      "60000/60000 [==============================] - 32s 538us/step - loss: 0.0057 - acc: 0.9983 - val_loss: 0.0434 - val_acc: 0.9916\n",
      "Epoch 40/200\n",
      "60000/60000 [==============================] - 32s 539us/step - loss: 0.0078 - acc: 0.9975 - val_loss: 0.0446 - val_acc: 0.9904\n",
      "Epoch 41/200\n",
      "60000/60000 [==============================] - 32s 537us/step - loss: 0.0070 - acc: 0.9978 - val_loss: 0.0453 - val_acc: 0.9907\n",
      "Epoch 42/200\n",
      "60000/60000 [==============================] - 32s 536us/step - loss: 0.0067 - acc: 0.9979 - val_loss: 0.0447 - val_acc: 0.9904\n",
      "Epoch 43/200\n",
      "60000/60000 [==============================] - 32s 538us/step - loss: 0.0069 - acc: 0.9976 - val_loss: 0.0461 - val_acc: 0.9903\n",
      "Epoch 44/200\n",
      "60000/60000 [==============================] - 32s 537us/step - loss: 0.0069 - acc: 0.9978 - val_loss: 0.0402 - val_acc: 0.9913\n",
      "Epoch 45/200\n",
      "60000/60000 [==============================] - 32s 540us/step - loss: 0.0044 - acc: 0.9986 - val_loss: 0.0399 - val_acc: 0.9918\n",
      "Epoch 46/200\n",
      "60000/60000 [==============================] - 32s 539us/step - loss: 0.0031 - acc: 0.9991 - val_loss: 0.0538 - val_acc: 0.9884\n",
      "Epoch 47/200\n",
      "60000/60000 [==============================] - 32s 537us/step - loss: 0.0047 - acc: 0.9986 - val_loss: 0.0413 - val_acc: 0.9912\n",
      "Epoch 48/200\n",
      "60000/60000 [==============================] - 32s 537us/step - loss: 0.0066 - acc: 0.9979 - val_loss: 0.0550 - val_acc: 0.9898\n",
      "Epoch 49/200\n",
      "60000/60000 [==============================] - 32s 535us/step - loss: 0.0058 - acc: 0.9980 - val_loss: 0.0379 - val_acc: 0.9923\n",
      "Epoch 50/200\n",
      "60000/60000 [==============================] - 32s 532us/step - loss: 0.0040 - acc: 0.9989 - val_loss: 0.0406 - val_acc: 0.9921\n",
      "Epoch 51/200\n",
      "60000/60000 [==============================] - 32s 533us/step - loss: 0.0045 - acc: 0.9986 - val_loss: 0.0461 - val_acc: 0.9910\n",
      "Epoch 52/200\n",
      "60000/60000 [==============================] - 32s 534us/step - loss: 0.0027 - acc: 0.9992 - val_loss: 0.0401 - val_acc: 0.9918\n",
      "Epoch 53/200\n",
      "60000/60000 [==============================] - 32s 533us/step - loss: 0.0023 - acc: 0.9993 - val_loss: 0.0436 - val_acc: 0.9915\n",
      "Epoch 54/200\n",
      "60000/60000 [==============================] - 32s 537us/step - loss: 0.0022 - acc: 0.9992 - val_loss: 0.0380 - val_acc: 0.9919\n",
      "Epoch 55/200\n",
      "60000/60000 [==============================] - 32s 533us/step - loss: 0.0022 - acc: 0.9993 - val_loss: 0.0453 - val_acc: 0.9922\n",
      "Epoch 56/200\n",
      "60000/60000 [==============================] - 32s 534us/step - loss: 0.0020 - acc: 0.9995 - val_loss: 0.0476 - val_acc: 0.9918\n",
      "Epoch 57/200\n",
      "60000/60000 [==============================] - 32s 533us/step - loss: 0.0027 - acc: 0.9990 - val_loss: 0.0472 - val_acc: 0.9907\n",
      "Epoch 58/200\n",
      "60000/60000 [==============================] - 32s 533us/step - loss: 0.0034 - acc: 0.9991 - val_loss: 0.0479 - val_acc: 0.9918\n"
     ]
    },
    {
     "name": "stdout",
     "output_type": "stream",
     "text": [
      "Epoch 59/200\n",
      "60000/60000 [==============================] - 32s 532us/step - loss: 0.0024 - acc: 0.9993 - val_loss: 0.0450 - val_acc: 0.9916\n",
      "Epoch 60/200\n",
      "60000/60000 [==============================] - 32s 535us/step - loss: 0.0052 - acc: 0.9984 - val_loss: 0.0589 - val_acc: 0.9875\n",
      "Epoch 61/200\n",
      "60000/60000 [==============================] - 32s 533us/step - loss: 0.0035 - acc: 0.9988 - val_loss: 0.0448 - val_acc: 0.9916\n",
      "Epoch 62/200\n",
      "60000/60000 [==============================] - 32s 534us/step - loss: 0.0042 - acc: 0.9985 - val_loss: 0.0447 - val_acc: 0.9922\n",
      "Epoch 63/200\n",
      "60000/60000 [==============================] - 32s 535us/step - loss: 0.0028 - acc: 0.9990 - val_loss: 0.0437 - val_acc: 0.9923\n",
      "Epoch 64/200\n",
      "60000/60000 [==============================] - 32s 536us/step - loss: 0.0039 - acc: 0.9989 - val_loss: 0.0539 - val_acc: 0.9911\n",
      "Epoch 65/200\n",
      "60000/60000 [==============================] - 32s 534us/step - loss: 0.0021 - acc: 0.9994 - val_loss: 0.0492 - val_acc: 0.9922\n",
      "Epoch 66/200\n",
      "60000/60000 [==============================] - 32s 531us/step - loss: 0.0044 - acc: 0.9988 - val_loss: 0.0449 - val_acc: 0.9922\n",
      "Epoch 67/200\n",
      "60000/60000 [==============================] - 32s 532us/step - loss: 0.0019 - acc: 0.9994 - val_loss: 0.0463 - val_acc: 0.9923\n",
      "Epoch 68/200\n",
      "60000/60000 [==============================] - 32s 533us/step - loss: 0.0042 - acc: 0.9987 - val_loss: 0.0525 - val_acc: 0.9902\n",
      "Epoch 69/200\n",
      "60000/60000 [==============================] - 32s 532us/step - loss: 0.0033 - acc: 0.9992 - val_loss: 0.0443 - val_acc: 0.9906\n",
      "Epoch 70/200\n",
      "60000/60000 [==============================] - 32s 534us/step - loss: 0.0021 - acc: 0.9993 - val_loss: 0.0454 - val_acc: 0.9918\n",
      "Epoch 71/200\n",
      "60000/60000 [==============================] - 32s 535us/step - loss: 0.0030 - acc: 0.9992 - val_loss: 0.0431 - val_acc: 0.9911\n",
      "Epoch 72/200\n",
      "60000/60000 [==============================] - 32s 531us/step - loss: 0.0030 - acc: 0.9991 - val_loss: 0.0474 - val_acc: 0.9916\n",
      "Epoch 73/200\n",
      "60000/60000 [==============================] - 32s 534us/step - loss: 0.0024 - acc: 0.9993 - val_loss: 0.0484 - val_acc: 0.9908\n",
      "Epoch 74/200\n",
      "60000/60000 [==============================] - 32s 530us/step - loss: 0.0022 - acc: 0.9993 - val_loss: 0.0503 - val_acc: 0.9904\n",
      "Epoch 75/200\n",
      "60000/60000 [==============================] - 32s 534us/step - loss: 0.0016 - acc: 0.9995 - val_loss: 0.0514 - val_acc: 0.9914\n",
      "Epoch 76/200\n",
      "60000/60000 [==============================] - 32s 534us/step - loss: 0.0022 - acc: 0.9994 - val_loss: 0.0458 - val_acc: 0.9923\n",
      "Epoch 77/200\n",
      "60000/60000 [==============================] - 32s 535us/step - loss: 0.0028 - acc: 0.9990 - val_loss: 0.0477 - val_acc: 0.9920\n",
      "Epoch 78/200\n",
      "60000/60000 [==============================] - 32s 536us/step - loss: 0.0016 - acc: 0.9994 - val_loss: 0.0486 - val_acc: 0.9917\n",
      "Epoch 79/200\n",
      "60000/60000 [==============================] - 32s 538us/step - loss: 0.0021 - acc: 0.9994 - val_loss: 0.0437 - val_acc: 0.9915\n",
      "Epoch 80/200\n",
      "60000/60000 [==============================] - 32s 538us/step - loss: 0.0046 - acc: 0.9988 - val_loss: 0.0424 - val_acc: 0.9929\n",
      "Epoch 81/200\n",
      "60000/60000 [==============================] - 32s 537us/step - loss: 0.0042 - acc: 0.9988 - val_loss: 0.0474 - val_acc: 0.9922\n",
      "Epoch 82/200\n",
      "60000/60000 [==============================] - 32s 538us/step - loss: 0.0014 - acc: 0.9996 - val_loss: 0.0443 - val_acc: 0.9927\n",
      "Epoch 83/200\n",
      "60000/60000 [==============================] - 32s 537us/step - loss: 0.0011 - acc: 0.9996 - val_loss: 0.0479 - val_acc: 0.9925\n",
      "Epoch 84/200\n",
      "60000/60000 [==============================] - 32s 537us/step - loss: 7.7953e-04 - acc: 0.9998 - val_loss: 0.0467 - val_acc: 0.9932\n",
      "Epoch 85/200\n",
      "60000/60000 [==============================] - 32s 537us/step - loss: 5.7523e-04 - acc: 0.9998 - val_loss: 0.0494 - val_acc: 0.9921\n",
      "Epoch 86/200\n",
      "60000/60000 [==============================] - 32s 535us/step - loss: 0.0016 - acc: 0.9995 - val_loss: 0.0490 - val_acc: 0.9917\n",
      "Epoch 87/200\n",
      "60000/60000 [==============================] - 45s 746us/step - loss: 0.0011 - acc: 0.9997 - val_loss: 0.0455 - val_acc: 0.9934\n",
      "Epoch 88/200\n",
      "60000/60000 [==============================] - 51s 854us/step - loss: 6.2491e-04 - acc: 0.9998 - val_loss: 0.0471 - val_acc: 0.9926\n",
      "Epoch 89/200\n",
      "60000/60000 [==============================] - 51s 852us/step - loss: 5.5981e-04 - acc: 0.9998 - val_loss: 0.0447 - val_acc: 0.9932\n",
      "Epoch 90/200\n",
      "60000/60000 [==============================] - 51s 858us/step - loss: 0.0016 - acc: 0.9995 - val_loss: 0.0581 - val_acc: 0.9907\n",
      "Epoch 91/200\n",
      "60000/60000 [==============================] - 51s 856us/step - loss: 0.0062 - acc: 0.9983 - val_loss: 0.0541 - val_acc: 0.9903\n",
      "Epoch 92/200\n",
      "60000/60000 [==============================] - 51s 853us/step - loss: 0.0032 - acc: 0.9990 - val_loss: 0.0456 - val_acc: 0.9919\n",
      "Epoch 93/200\n",
      "60000/60000 [==============================] - 51s 853us/step - loss: 8.7479e-04 - acc: 0.9996 - val_loss: 0.0441 - val_acc: 0.9915\n",
      "Epoch 94/200\n",
      "60000/60000 [==============================] - 51s 852us/step - loss: 0.0012 - acc: 0.9996 - val_loss: 0.0477 - val_acc: 0.9919\n",
      "Epoch 95/200\n",
      "60000/60000 [==============================] - 51s 852us/step - loss: 0.0014 - acc: 0.9996 - val_loss: 0.0439 - val_acc: 0.9923\n",
      "Epoch 96/200\n",
      "60000/60000 [==============================] - 52s 867us/step - loss: 0.0011 - acc: 0.9997 - val_loss: 0.0529 - val_acc: 0.9914\n",
      "Epoch 97/200\n",
      "60000/60000 [==============================] - 52s 863us/step - loss: 8.0130e-04 - acc: 0.9998 - val_loss: 0.0459 - val_acc: 0.9922\n",
      "Epoch 98/200\n",
      "60000/60000 [==============================] - 51s 850us/step - loss: 8.8939e-04 - acc: 0.9997 - val_loss: 0.0491 - val_acc: 0.9921\n",
      "Epoch 99/200\n",
      "60000/60000 [==============================] - 51s 849us/step - loss: 0.0011 - acc: 0.9997 - val_loss: 0.0507 - val_acc: 0.9922\n",
      "Epoch 100/200\n",
      "60000/60000 [==============================] - 51s 856us/step - loss: 0.0024 - acc: 0.9995 - val_loss: 0.0479 - val_acc: 0.9915\n",
      "Epoch 101/200\n",
      "60000/60000 [==============================] - 51s 858us/step - loss: 0.0037 - acc: 0.9990 - val_loss: 0.0523 - val_acc: 0.9912\n",
      "Epoch 102/200\n",
      "60000/60000 [==============================] - 51s 853us/step - loss: 0.0012 - acc: 0.9997 - val_loss: 0.0475 - val_acc: 0.9922\n",
      "Epoch 103/200\n",
      "60000/60000 [==============================] - 51s 857us/step - loss: 0.0016 - acc: 0.9995 - val_loss: 0.0452 - val_acc: 0.9922\n",
      "Epoch 104/200\n",
      "60000/60000 [==============================] - 51s 856us/step - loss: 0.0033 - acc: 0.9990 - val_loss: 0.0489 - val_acc: 0.9919\n",
      "Epoch 105/200\n",
      "60000/60000 [==============================] - 51s 857us/step - loss: 0.0031 - acc: 0.9991 - val_loss: 0.0489 - val_acc: 0.9923\n",
      "Epoch 106/200\n",
      "60000/60000 [==============================] - 52s 861us/step - loss: 0.0031 - acc: 0.9993 - val_loss: 0.0485 - val_acc: 0.9912\n",
      "Epoch 107/200\n",
      "60000/60000 [==============================] - 51s 853us/step - loss: 9.8871e-04 - acc: 0.9998 - val_loss: 0.0467 - val_acc: 0.9925\n",
      "Epoch 108/200\n",
      "60000/60000 [==============================] - 51s 854us/step - loss: 8.5384e-04 - acc: 0.9998 - val_loss: 0.0486 - val_acc: 0.9923\n",
      "Epoch 109/200\n",
      "60000/60000 [==============================] - 51s 856us/step - loss: 7.5026e-04 - acc: 0.9998 - val_loss: 0.0486 - val_acc: 0.9923\n",
      "Epoch 110/200\n",
      "60000/60000 [==============================] - 51s 855us/step - loss: 2.3989e-04 - acc: 0.9999 - val_loss: 0.0494 - val_acc: 0.9925\n",
      "Epoch 111/200\n",
      "60000/60000 [==============================] - 52s 859us/step - loss: 8.5072e-04 - acc: 0.9997 - val_loss: 0.0468 - val_acc: 0.9920\n",
      "Epoch 112/200\n",
      "60000/60000 [==============================] - 51s 858us/step - loss: 6.9171e-04 - acc: 0.9998 - val_loss: 0.0500 - val_acc: 0.9921\n",
      "Epoch 113/200\n",
      "60000/60000 [==============================] - 51s 856us/step - loss: 5.4739e-04 - acc: 0.9998 - val_loss: 0.0520 - val_acc: 0.9925\n",
      "Epoch 114/200\n",
      "60000/60000 [==============================] - 51s 848us/step - loss: 0.0011 - acc: 0.9997 - val_loss: 0.0462 - val_acc: 0.9919\n",
      "Epoch 115/200\n",
      "60000/60000 [==============================] - 51s 849us/step - loss: 3.6972e-04 - acc: 0.9999 - val_loss: 0.0501 - val_acc: 0.9925\n",
      "Epoch 116/200\n"
     ]
    },
    {
     "name": "stdout",
     "output_type": "stream",
     "text": [
      "60000/60000 [==============================] - 51s 855us/step - loss: 0.0012 - acc: 0.9997 - val_loss: 0.0459 - val_acc: 0.9921\n",
      "Epoch 117/200\n",
      "60000/60000 [==============================] - 51s 852us/step - loss: 0.0012 - acc: 0.9996 - val_loss: 0.0509 - val_acc: 0.9916\n",
      "Epoch 118/200\n",
      "60000/60000 [==============================] - 51s 855us/step - loss: 0.0010 - acc: 0.9997 - val_loss: 0.0463 - val_acc: 0.9923\n",
      "Epoch 119/200\n",
      "60000/60000 [==============================] - 51s 849us/step - loss: 0.0010 - acc: 0.9997 - val_loss: 0.0497 - val_acc: 0.9918\n",
      "Epoch 120/200\n",
      "60000/60000 [==============================] - 51s 855us/step - loss: 0.0025 - acc: 0.9994 - val_loss: 0.0534 - val_acc: 0.9914\n",
      "Epoch 121/200\n",
      "60000/60000 [==============================] - 51s 855us/step - loss: 0.0066 - acc: 0.9982 - val_loss: 0.0596 - val_acc: 0.9902\n",
      "Epoch 122/200\n",
      "60000/60000 [==============================] - 51s 857us/step - loss: 0.0036 - acc: 0.9989 - val_loss: 0.0570 - val_acc: 0.9912\n",
      "Epoch 123/200\n",
      "60000/60000 [==============================] - 51s 852us/step - loss: 0.0025 - acc: 0.9993 - val_loss: 0.0521 - val_acc: 0.9911\n",
      "Epoch 124/200\n",
      "60000/60000 [==============================] - 51s 855us/step - loss: 0.0033 - acc: 0.9989 - val_loss: 0.0470 - val_acc: 0.9918\n",
      "Epoch 125/200\n",
      "60000/60000 [==============================] - 51s 852us/step - loss: 0.0057 - acc: 0.9985 - val_loss: 0.0573 - val_acc: 0.9915\n",
      "Epoch 126/200\n",
      "60000/60000 [==============================] - 51s 856us/step - loss: 0.0025 - acc: 0.9993 - val_loss: 0.0479 - val_acc: 0.9917\n",
      "Epoch 127/200\n",
      "60000/60000 [==============================] - 51s 850us/step - loss: 0.0045 - acc: 0.9986 - val_loss: 0.0503 - val_acc: 0.9917\n",
      "Epoch 128/200\n",
      "60000/60000 [==============================] - 51s 857us/step - loss: 0.0021 - acc: 0.9992 - val_loss: 0.0442 - val_acc: 0.9922\n",
      "Epoch 129/200\n",
      "60000/60000 [==============================] - 51s 848us/step - loss: 0.0016 - acc: 0.9996 - val_loss: 0.0500 - val_acc: 0.9906\n",
      "Epoch 130/200\n",
      "60000/60000 [==============================] - 51s 850us/step - loss: 8.6275e-04 - acc: 0.9997 - val_loss: 0.0495 - val_acc: 0.9926\n",
      "Epoch 131/200\n",
      "60000/60000 [==============================] - 51s 854us/step - loss: 4.0432e-04 - acc: 0.9998 - val_loss: 0.0516 - val_acc: 0.9909\n",
      "Epoch 132/200\n",
      "60000/60000 [==============================] - 51s 850us/step - loss: 7.5513e-04 - acc: 0.9998 - val_loss: 0.0487 - val_acc: 0.9922\n",
      "Epoch 133/200\n",
      "60000/60000 [==============================] - 51s 855us/step - loss: 0.0018 - acc: 0.9995 - val_loss: 0.0530 - val_acc: 0.9910\n",
      "Epoch 134/200\n",
      "60000/60000 [==============================] - 51s 852us/step - loss: 0.0012 - acc: 0.9996 - val_loss: 0.0479 - val_acc: 0.9921\n",
      "Epoch 135/200\n",
      "60000/60000 [==============================] - 51s 852us/step - loss: 0.0020 - acc: 0.9996 - val_loss: 0.0496 - val_acc: 0.9921\n",
      "Epoch 136/200\n",
      "60000/60000 [==============================] - 51s 850us/step - loss: 0.0029 - acc: 0.9992 - val_loss: 0.0506 - val_acc: 0.9926\n",
      "Epoch 137/200\n",
      "60000/60000 [==============================] - 52s 862us/step - loss: 0.0017 - acc: 0.9995 - val_loss: 0.0419 - val_acc: 0.9927\n",
      "Epoch 138/200\n",
      "60000/60000 [==============================] - 51s 856us/step - loss: 5.5876e-04 - acc: 0.9999 - val_loss: 0.0516 - val_acc: 0.9917\n",
      "Epoch 139/200\n",
      "60000/60000 [==============================] - 51s 851us/step - loss: 0.0023 - acc: 0.9994 - val_loss: 0.0456 - val_acc: 0.9921\n",
      "Epoch 140/200\n",
      "60000/60000 [==============================] - 51s 853us/step - loss: 8.5718e-04 - acc: 0.9996 - val_loss: 0.0413 - val_acc: 0.9927\n",
      "Epoch 141/200\n",
      "60000/60000 [==============================] - 51s 845us/step - loss: 8.3853e-04 - acc: 0.9997 - val_loss: 0.0424 - val_acc: 0.9925\n",
      "Epoch 142/200\n",
      "60000/60000 [==============================] - 51s 850us/step - loss: 1.7805e-04 - acc: 1.0000 - val_loss: 0.0469 - val_acc: 0.9926\n",
      "Epoch 143/200\n",
      "60000/60000 [==============================] - 51s 857us/step - loss: 2.7570e-04 - acc: 0.9999 - val_loss: 0.0457 - val_acc: 0.9928\n",
      "Epoch 144/200\n",
      "60000/60000 [==============================] - 51s 853us/step - loss: 1.6998e-04 - acc: 0.9999 - val_loss: 0.0467 - val_acc: 0.9926\n",
      "Epoch 145/200\n",
      "60000/60000 [==============================] - 51s 856us/step - loss: 7.7294e-05 - acc: 1.0000 - val_loss: 0.0474 - val_acc: 0.9933\n",
      "Epoch 146/200\n",
      "60000/60000 [==============================] - 51s 852us/step - loss: 5.9090e-05 - acc: 1.0000 - val_loss: 0.0459 - val_acc: 0.9928\n",
      "Epoch 147/200\n",
      "60000/60000 [==============================] - 51s 853us/step - loss: 1.1854e-04 - acc: 1.0000 - val_loss: 0.0525 - val_acc: 0.9912\n",
      "Epoch 148/200\n",
      "60000/60000 [==============================] - 51s 856us/step - loss: 0.0010 - acc: 0.9996 - val_loss: 0.0536 - val_acc: 0.9919\n",
      "Epoch 149/200\n",
      "60000/60000 [==============================] - 51s 853us/step - loss: 0.0011 - acc: 0.9997 - val_loss: 0.0522 - val_acc: 0.9919\n",
      "Epoch 150/200\n",
      "60000/60000 [==============================] - 51s 854us/step - loss: 0.0016 - acc: 0.9996 - val_loss: 0.0555 - val_acc: 0.9917\n",
      "Epoch 151/200\n",
      "60000/60000 [==============================] - 51s 850us/step - loss: 0.0012 - acc: 0.9996 - val_loss: 0.0553 - val_acc: 0.9923\n",
      "Epoch 152/200\n",
      "60000/60000 [==============================] - 51s 853us/step - loss: 0.0010 - acc: 0.9997 - val_loss: 0.0482 - val_acc: 0.9925\n",
      "Epoch 153/200\n",
      "60000/60000 [==============================] - 51s 853us/step - loss: 6.0506e-04 - acc: 0.9998 - val_loss: 0.0523 - val_acc: 0.9933\n",
      "Epoch 154/200\n",
      "60000/60000 [==============================] - 52s 859us/step - loss: 0.0012 - acc: 0.9997 - val_loss: 0.0485 - val_acc: 0.9932\n",
      "Epoch 155/200\n",
      "60000/60000 [==============================] - 52s 859us/step - loss: 9.2050e-04 - acc: 0.9997 - val_loss: 0.0553 - val_acc: 0.9923\n",
      "Epoch 156/200\n",
      "60000/60000 [==============================] - 51s 853us/step - loss: 0.0014 - acc: 0.9995 - val_loss: 0.0534 - val_acc: 0.9927\n",
      "Epoch 157/200\n",
      "60000/60000 [==============================] - 51s 854us/step - loss: 6.1280e-04 - acc: 0.9998 - val_loss: 0.0479 - val_acc: 0.9927\n",
      "Epoch 158/200\n",
      "60000/60000 [==============================] - 52s 863us/step - loss: 3.2613e-04 - acc: 0.9999 - val_loss: 0.0512 - val_acc: 0.9929\n",
      "Epoch 159/200\n",
      "60000/60000 [==============================] - 52s 862us/step - loss: 0.0011 - acc: 0.9997 - val_loss: 0.0516 - val_acc: 0.9927\n",
      "Epoch 160/200\n",
      "60000/60000 [==============================] - 51s 857us/step - loss: 9.5615e-04 - acc: 0.9997 - val_loss: 0.0617 - val_acc: 0.9916\n",
      "Epoch 161/200\n",
      "60000/60000 [==============================] - 51s 855us/step - loss: 0.0017 - acc: 0.9995 - val_loss: 0.0562 - val_acc: 0.9922\n",
      "Epoch 162/200\n",
      "60000/60000 [==============================] - 52s 863us/step - loss: 0.0025 - acc: 0.9994 - val_loss: 0.0542 - val_acc: 0.9924\n",
      "Epoch 163/200\n",
      "60000/60000 [==============================] - 52s 859us/step - loss: 0.0016 - acc: 0.9997 - val_loss: 0.0522 - val_acc: 0.9918\n",
      "Epoch 164/200\n",
      "60000/60000 [==============================] - 51s 855us/step - loss: 6.9901e-04 - acc: 0.9998 - val_loss: 0.0537 - val_acc: 0.9922\n",
      "Epoch 165/200\n",
      "60000/60000 [==============================] - 51s 858us/step - loss: 5.7942e-04 - acc: 0.9998 - val_loss: 0.0543 - val_acc: 0.9916\n",
      "Epoch 166/200\n",
      "60000/60000 [==============================] - 52s 860us/step - loss: 3.2698e-04 - acc: 0.9999 - val_loss: 0.0537 - val_acc: 0.9926\n",
      "Epoch 167/200\n",
      "60000/60000 [==============================] - 51s 858us/step - loss: 5.9968e-05 - acc: 1.0000 - val_loss: 0.0527 - val_acc: 0.9924\n",
      "Epoch 168/200\n",
      "60000/60000 [==============================] - 51s 858us/step - loss: 8.1010e-04 - acc: 0.9997 - val_loss: 0.0582 - val_acc: 0.9919\n",
      "Epoch 169/200\n",
      "60000/60000 [==============================] - 51s 857us/step - loss: 0.0012 - acc: 0.9996 - val_loss: 0.0557 - val_acc: 0.9923\n",
      "Epoch 170/200\n",
      "60000/60000 [==============================] - 51s 852us/step - loss: 0.0012 - acc: 0.9997 - val_loss: 0.0586 - val_acc: 0.9916\n",
      "Epoch 171/200\n",
      "60000/60000 [==============================] - 51s 853us/step - loss: 0.0042 - acc: 0.9989 - val_loss: 0.0501 - val_acc: 0.9916\n",
      "Epoch 172/200\n",
      "60000/60000 [==============================] - 51s 856us/step - loss: 0.0033 - acc: 0.9991 - val_loss: 0.0518 - val_acc: 0.9923\n",
      "Epoch 173/200\n"
     ]
    },
    {
     "name": "stdout",
     "output_type": "stream",
     "text": [
      "60000/60000 [==============================] - 51s 854us/step - loss: 0.0031 - acc: 0.9993 - val_loss: 0.0470 - val_acc: 0.9924\n",
      "Epoch 174/200\n",
      "60000/60000 [==============================] - 51s 854us/step - loss: 0.0026 - acc: 0.9993 - val_loss: 0.0577 - val_acc: 0.9907\n",
      "Epoch 175/200\n",
      "60000/60000 [==============================] - 51s 855us/step - loss: 0.0029 - acc: 0.9993 - val_loss: 0.0486 - val_acc: 0.9921\n",
      "Epoch 176/200\n",
      "60000/60000 [==============================] - 51s 856us/step - loss: 5.9784e-04 - acc: 0.9998 - val_loss: 0.0487 - val_acc: 0.9926\n",
      "Epoch 177/200\n",
      "60000/60000 [==============================] - 51s 855us/step - loss: 3.4224e-04 - acc: 0.9999 - val_loss: 0.0496 - val_acc: 0.9927\n",
      "Epoch 178/200\n",
      "60000/60000 [==============================] - 51s 857us/step - loss: 2.1469e-04 - acc: 0.9999 - val_loss: 0.0432 - val_acc: 0.9924\n",
      "Epoch 179/200\n",
      "60000/60000 [==============================] - 51s 855us/step - loss: 2.3226e-04 - acc: 0.9999 - val_loss: 0.0460 - val_acc: 0.9929\n",
      "Epoch 180/200\n",
      "60000/60000 [==============================] - 51s 856us/step - loss: 3.2542e-04 - acc: 0.9999 - val_loss: 0.0482 - val_acc: 0.9928\n",
      "Epoch 181/200\n",
      "60000/60000 [==============================] - 51s 856us/step - loss: 6.0906e-05 - acc: 1.0000 - val_loss: 0.0461 - val_acc: 0.9933\n",
      "Epoch 182/200\n",
      "60000/60000 [==============================] - 52s 859us/step - loss: 8.1405e-05 - acc: 1.0000 - val_loss: 0.0454 - val_acc: 0.9937\n",
      "Epoch 183/200\n",
      "60000/60000 [==============================] - 52s 861us/step - loss: 6.2958e-05 - acc: 1.0000 - val_loss: 0.0468 - val_acc: 0.9931\n",
      "Epoch 184/200\n",
      "60000/60000 [==============================] - 52s 868us/step - loss: 3.9258e-05 - acc: 1.0000 - val_loss: 0.0469 - val_acc: 0.9930\n",
      "Epoch 185/200\n",
      "60000/60000 [==============================] - 52s 868us/step - loss: 3.6582e-05 - acc: 1.0000 - val_loss: 0.0470 - val_acc: 0.9934\n",
      "Epoch 186/200\n",
      "60000/60000 [==============================] - 52s 861us/step - loss: 8.5893e-05 - acc: 1.0000 - val_loss: 0.0477 - val_acc: 0.9936\n",
      "Epoch 187/200\n",
      "60000/60000 [==============================] - 51s 856us/step - loss: 6.6782e-05 - acc: 1.0000 - val_loss: 0.0491 - val_acc: 0.9933\n",
      "Epoch 188/200\n",
      "60000/60000 [==============================] - 51s 857us/step - loss: 6.8084e-05 - acc: 1.0000 - val_loss: 0.0457 - val_acc: 0.9936\n",
      "Epoch 189/200\n",
      "60000/60000 [==============================] - 52s 866us/step - loss: 8.2806e-05 - acc: 1.0000 - val_loss: 0.0558 - val_acc: 0.9914\n",
      "Epoch 190/200\n",
      "60000/60000 [==============================] - 52s 862us/step - loss: 1.3701e-04 - acc: 1.0000 - val_loss: 0.0474 - val_acc: 0.9934\n",
      "Epoch 191/200\n",
      "60000/60000 [==============================] - 51s 857us/step - loss: 6.7403e-04 - acc: 0.9998 - val_loss: 0.0490 - val_acc: 0.9927\n",
      "Epoch 192/200\n",
      "60000/60000 [==============================] - 52s 860us/step - loss: 0.0013 - acc: 0.9997 - val_loss: 0.0501 - val_acc: 0.9922\n",
      "Epoch 193/200\n",
      "60000/60000 [==============================] - 51s 853us/step - loss: 4.1088e-04 - acc: 0.9999 - val_loss: 0.0471 - val_acc: 0.9927\n",
      "Epoch 194/200\n",
      "60000/60000 [==============================] - 52s 860us/step - loss: 1.1118e-04 - acc: 1.0000 - val_loss: 0.0498 - val_acc: 0.9927\n",
      "Epoch 195/200\n",
      "60000/60000 [==============================] - 52s 859us/step - loss: 1.6399e-04 - acc: 0.9999 - val_loss: 0.0491 - val_acc: 0.9926\n",
      "Epoch 196/200\n",
      "60000/60000 [==============================] - 52s 859us/step - loss: 4.4220e-04 - acc: 0.9999 - val_loss: 0.0551 - val_acc: 0.9926\n",
      "Epoch 197/200\n",
      "60000/60000 [==============================] - 51s 856us/step - loss: 3.7063e-04 - acc: 0.9999 - val_loss: 0.0495 - val_acc: 0.9931\n",
      "Epoch 198/200\n",
      "60000/60000 [==============================] - 52s 864us/step - loss: 8.9665e-05 - acc: 1.0000 - val_loss: 0.0504 - val_acc: 0.9924\n",
      "Epoch 199/200\n",
      "60000/60000 [==============================] - 51s 855us/step - loss: 2.9055e-04 - acc: 0.9999 - val_loss: 0.0496 - val_acc: 0.9927\n",
      "Epoch 200/200\n",
      "60000/60000 [==============================] - 51s 849us/step - loss: 2.9841e-04 - acc: 0.9999 - val_loss: 0.0528 - val_acc: 0.9924\n"
     ]
    }
   ],
   "source": [
    "\n",
    "# Train the Model\n",
    "#earlyStopping=keras.callbacks.EarlyStopping(monitor='val_acc', min_delta=0, patience=13, verbose=1, mode='auto')\n",
    "history = model.fit(x_train, y_train,\n",
    "                    batch_size=batch_size,\n",
    "                    epochs=epochs,\n",
    "                    verbose=1,\n",
    "#                    callbacks=[earlyStopping],\n",
    "                    validation_data=(x_test, y_test))\n",
    "\n"
   ]
  },
  {
   "cell_type": "code",
   "execution_count": null,
   "metadata": {
    "collapsed": true
   },
   "outputs": [],
   "source": []
  },
  {
   "cell_type": "code",
   "execution_count": 11,
   "metadata": {},
   "outputs": [
    {
     "data": {
      "image/png": "[encoded data removed]",
      "text/plain": [
       "<matplotlib.figure.Figure at 0x7f5373100588>"
      ]
     },
     "metadata": {},
     "output_type": "display_data"
    }
   ],
   "source": [
    "plt.plot(history.history['acc'])\n",
    "plt.plot(history.history['val_acc'])\n",
    "plt.title('model accuracy')\n",
    "plt.ylabel('accuracy')\n",
    "plt.xlabel('epoch')\n",
    "plt.legend(['train acc','val acc'], loc='upper left')\n",
    "plt.show()"
   ]
  },
  {
   "cell_type": "code",
   "execution_count": 12,
   "metadata": {},
   "outputs": [
    {
     "data": {
      "image/png": "[encoded data removed]",
      "text/plain": [
       "<matplotlib.figure.Figure at 0x7f53517dcf28>"
      ]
     },
     "metadata": {},
     "output_type": "display_data"
    }
   ],
   "source": [
    "plt.plot(history.history['loss'])\n",
    "plt.plot(history.history['val_loss'])\n",
    "plt.title('model loss')\n",
    "plt.ylabel('loss')\n",
    "plt.xlabel('epoch')\n",
    "plt.legend(['train loss','Val Loss'], loc='upper left')\n",
    "plt.show()"
   ]
  },
  {
   "cell_type": "code",
   "execution_count": 13,
   "metadata": {},
   "outputs": [
    {
     "name": "stdout",
     "output_type": "stream",
     "text": [
      "Test loss: 0.0527581246467\n",
      "Test accuracy: 0.9924\n"
     ]
    }
   ],
   "source": [
    "# Test the model\n",
    "score = model.evaluate(x_test, y_test, verbose=0)\n",
    "print('Test loss:', score[0])\n",
    "print('Test accuracy:', score[1])"
   ]
  },
  {
   "cell_type": "code",
   "execution_count": null,
   "metadata": {
    "collapsed": true
   },
   "outputs": [],
   "source": []
  },
  {
   "cell_type": "code",
   "execution_count": null,
   "metadata": {
    "collapsed": true
   },
   "outputs": [],
   "source": []
  },
  {
   "cell_type": "code",
   "execution_count": 14,
   "metadata": {},
   "outputs": [
    {
     "name": "stdout",
     "output_type": "stream",
     "text": [
      "{'val_loss': [0.15704860073709861, 0.080775224628485742, 0.049936346182227136, 0.059407582717295737, 0.046045856665715111, 0.039338039717962965, 0.040020385260088366, 0.033947944030299548, 0.041011427150864622, 0.03074300321292394, 0.041529222955887964, 0.032237644835535317, 0.033452432965320258, 0.031954288615635595, 0.031445464835719028, 0.030091059081534331, 0.038502122333940313, 0.036231944926136017, 0.039205764357396401, 0.036026905714764509, 0.035273349180696092, 0.033151569459991335, 0.031766644789360546, 0.035027555194011802, 0.043584976777800877, 0.035407582562195693, 0.038199597578565225, 0.040944123070359183, 0.041409014441316595, 0.036841269980423023, 0.035652320314782902, 0.035808084855953985, 0.078454478200514127, 0.037043956092738382, 0.035743668523286712, 0.039159669361118858, 0.03992377281320323, 0.058565901803053842, 0.043354777543675484, 0.044624896139274735, 0.045288602834020454, 0.04472805690881896, 0.046074065552412412, 0.040222170172559801, 0.039916777860027286, 0.053790447260278915, 0.041294260316145755, 0.055047680183503284, 0.037852075171305843, 0.040583577382764455, 0.046065898814116372, 0.04007529662550742, 0.043611151125806283, 0.038046480043654719, 0.045328912500704518, 0.047555563160470139, 0.04724811328092865, 0.047909780889809281, 0.044952176331252397, 0.058859564303933076, 0.04476417826805127, 0.044663742571091188, 0.0437336227870459, 0.053865169356551633, 0.049247285562784876, 0.044905597002579817, 0.046326418557472791, 0.052514115379663141, 0.044305437733333841, 0.045390719590182656, 0.0431461035734058, 0.047431560644041658, 0.048371430809789402, 0.050254367352911049, 0.051388357965888372, 0.045819029940518979, 0.047658102133947521, 0.048620634298343068, 0.043670398896522966, 0.04242485619910185, 0.047384649170449031, 0.044251385525708793, 0.047855657370172777, 0.046694212576934117, 0.049353679417256532, 0.049029282017875084, 0.045454772750404118, 0.047128049157143234, 0.044691265110949459, 0.058079309059225398, 0.054070213889514003, 0.045556718435886885, 0.044059120359425837, 0.04773006137487746, 0.043918412292025096, 0.05286567612564913, 0.045944283662903672, 0.049070682835628758, 0.050705977931670261, 0.047939818345252933, 0.052269558785986284, 0.047505525137363835, 0.045166272817775556, 0.048892318028902898, 0.048928745380235887, 0.048484617736363998, 0.04674545800109281, 0.048626290409763809, 0.048558635924965982, 0.049413685983139749, 0.046843664839710621, 0.049983418152880765, 0.051953050100033579, 0.046226119100555844, 0.050146572594327248, 0.045948563694394214, 0.050903205250100655, 0.046327139712239659, 0.04969713202302764, 0.05337007175588078, 0.059645238709212615, 0.057043564214679099, 0.052094735427026174, 0.047000584007028737, 0.05730030074131473, 0.047871410714625563, 0.050284485195274009, 0.044164312902193706, 0.050006314051587016, 0.0495150221096771, 0.05156108185475141, 0.048700406254694011, 0.053028892237853141, 0.047863715471765315, 0.049602323324430111, 0.050597117445150344, 0.041870878289790109, 0.051612720072747836, 0.0455635779344786, 0.041297351080924909, 0.042382379172729724, 0.04688419584027597, 0.045706810406152723, 0.046740842998244991, 0.047397569538365499, 0.045899739184587361, 0.052482797232062513, 0.053580255662294254, 0.052205744678030533, 0.05553025686628698, 0.05531135690794263, 0.048208329427435366, 0.052261810798691112, 0.04852069438566068, 0.055290502196250146, 0.053356384537404211, 0.047883507811630442, 0.051219711598524557, 0.051620127757207139, 0.061686495933196146, 0.056229730216160533, 0.054204923665286425, 0.052201628923838235, 0.05374012108792231, 0.05432127651155224, 0.053745070070242491, 0.052705927437851095, 0.058165115746853735, 0.055655992992782469, 0.058605340188831817, 0.050051249799819474, 0.051814994976898197, 0.046957913827311223, 0.057729547025318517, 0.048610625670902026, 0.04866521823091343, 0.049613480648758375, 0.043188707243444972, 0.045999035548037227, 0.048227269870810781, 0.046063641424223804, 0.045445211344624752, 0.04675286258394408, 0.046899589128296608, 0.047000245194802025, 0.047654280386392384, 0.049131005094280408, 0.045663450520228431, 0.055824538043540359, 0.047356788065900039, 0.048990199331573787, 0.050081047443426084, 0.047065929811857039, 0.049781860728222452, 0.049126837251863981, 0.055054909533452427, 0.04945765110524853, 0.050394352475978392, 0.049607955289263102, 0.052758121167812894], 'val_acc': [0.95250000000000001, 0.97409999999999997, 0.98350000000000004, 0.98140000000000005, 0.98429999999999995, 0.98740000000000006, 0.98680000000000001, 0.98950000000000005, 0.98699999999999999, 0.99060000000000004, 0.98770000000000002, 0.98980000000000001, 0.98960000000000004, 0.98960000000000004, 0.99009999999999998, 0.99099999999999999, 0.98880000000000001, 0.98980000000000001, 0.98919999999999997, 0.99029999999999996, 0.99009999999999998, 0.99170000000000003, 0.99180000000000001, 0.99009999999999998, 0.98880000000000001, 0.99109999999999998, 0.9899, 0.99029999999999996, 0.99039999999999995, 0.99150000000000005, 0.99170000000000003, 0.99160000000000004, 0.98270000000000002, 0.99219999999999997, 0.9909, 0.99029999999999996, 0.99139999999999995, 0.98740000000000006, 0.99160000000000004, 0.99039999999999995, 0.99070000000000003, 0.99039999999999995, 0.99029999999999996, 0.99129999999999996, 0.99180000000000001, 0.98839999999999995, 0.99119999999999997, 0.98980000000000001, 0.99229999999999996, 0.99209999999999998, 0.99099999999999999, 0.99180000000000001, 0.99150000000000005, 0.9919, 0.99219999999999997, 0.99180000000000001, 0.99070000000000003, 0.99180000000000001, 0.99160000000000004, 0.98750000000000004, 0.99160000000000004, 0.99219999999999997, 0.99229999999999996, 0.99109999999999998, 0.99219999999999997, 0.99219999999999997, 0.99229999999999996, 0.99019999999999997, 0.99060000000000004, 0.99180000000000001, 0.99109999999999998, 0.99160000000000004, 0.99080000000000001, 0.99039999999999995, 0.99139999999999995, 0.99229999999999996, 0.99199999999999999, 0.99170000000000003, 0.99150000000000005, 0.9929, 0.99219999999999997, 0.99270000000000003, 0.99250000000000005, 0.99319999999999997, 0.99209999999999998, 0.99170000000000003, 0.99339999999999995, 0.99260000000000004, 0.99319999999999997, 0.99070000000000003, 0.99029999999999996, 0.9919, 0.99150000000000005, 0.9919, 0.99229999999999996, 0.99139999999999995, 0.99219999999999997, 0.99209999999999998, 0.99219999999999997, 0.99150000000000005, 0.99119999999999997, 0.99219999999999997, 0.99219999999999997, 0.9919, 0.99229999999999996, 0.99119999999999997, 0.99250000000000005, 0.99229999999999996, 0.99229999999999996, 0.99250000000000005, 0.99199999999999999, 0.99209999999999998, 0.99250000000000005, 0.9919, 0.99250000000000005, 0.99209999999999998, 0.99160000000000004, 0.99229999999999996, 0.99180000000000001, 0.99139999999999995, 0.99019999999999997, 0.99119999999999997, 0.99109999999999998, 0.99180000000000001, 0.99150000000000005, 0.99170000000000003, 0.99170000000000003, 0.99219999999999997, 0.99060000000000004, 0.99260000000000004, 0.9909, 0.99219999999999997, 0.99099999999999999, 0.99209999999999998, 0.99209999999999998, 0.99260000000000004, 0.99270000000000003, 0.99170000000000003, 0.99209999999999998, 0.99270000000000003, 0.99250000000000005, 0.99260000000000004, 0.99280000000000002, 0.99260000000000004, 0.99329999999999996, 0.99280000000000002, 0.99119999999999997, 0.9919, 0.9919, 0.99170000000000003, 0.99229999999999996, 0.99250000000000005, 0.99329999999999996, 0.99319999999999997, 0.99229999999999996, 0.99270000000000003, 0.99270000000000003, 0.9929, 0.99270000000000003, 0.99160000000000004, 0.99219999999999997, 0.99239999999999995, 0.99180000000000001, 0.99219999999999997, 0.99160000000000004, 0.99260000000000004, 0.99239999999999995, 0.9919, 0.99229999999999996, 0.99160000000000004, 0.99160000000000004, 0.99229999999999996, 0.99239999999999995, 0.99070000000000003, 0.99209999999999998, 0.99260000000000004, 0.99270000000000003, 0.99239999999999995, 0.9929, 0.99280000000000002, 0.99329999999999996, 0.99370000000000003, 0.99309999999999998, 0.99299999999999999, 0.99339999999999995, 0.99360000000000004, 0.99329999999999996, 0.99360000000000004, 0.99139999999999995, 0.99339999999999995, 0.99270000000000003, 0.99219999999999997, 0.99270000000000003, 0.99270000000000003, 0.99260000000000004, 0.99260000000000004, 0.99309999999999998, 0.99239999999999995, 0.99270000000000003, 0.99239999999999995], 'loss': [0.6897735748171806, 0.13801164129575094, 0.10081629446546236, 0.077926154278591273, 0.066501289312789841, 0.057122440733015541, 0.0500764040765663, 0.044960415629421671, 0.039257513555791226, 0.034950282789363213, 0.031564919161579261, 0.03110989635346147, 0.028203995895727228, 0.026193245188457271, 0.023957711077512552, 0.02321480423680429, 0.020044354470811473, 0.019582173383530851, 0.017325343733156719, 0.016697805578784513, 0.015196837330694931, 0.013862506270318408, 0.014693425468739588, 0.013119108050533396, 0.011904382377686852, 0.011508248200110392, 0.011182604556846975, 0.010231296125526812, 0.010114490594993307, 0.0086382743074791511, 0.0088761669117227333, 0.0084465776324951242, 0.0089401127342726497, 0.0072582390029432035, 0.0085353119929335048, 0.006534203325162768, 0.0061011834472682195, 0.0057233666773696314, 0.0057060195160122023, 0.0078296670482098617, 0.0069850719077515656, 0.0067076313355510292, 0.0069374953383051132, 0.0068741427410083517, 0.0043793759775311927, 0.0030563793489830158, 0.0047071825456258464, 0.0066360241167716287, 0.0058250637065236028, 0.0040268440912131455, 0.004459918669455146, 0.0026617105342832776, 0.0023469466825406927, 0.0022330121108710957, 0.0021549304685729263, 0.0019779629510115458, 0.0026978947129810121, 0.0034417820547852141, 0.0023530130119693848, 0.0051810012120543127, 0.0035245270657522877, 0.0041726220838336761, 0.0028329597265183567, 0.0038895494924134936, 0.002100865258409476, 0.00435728218278, 0.0019009057997558558, 0.0041597445177313907, 0.0032588809166844688, 0.0020593235368330169, 0.0029651098375616737, 0.0030383854672554208, 0.0024313939768469029, 0.0022181296345994876, 0.0015960783121194708, 0.0022441287958275399, 0.0028328702743227194, 0.0015878288715231519, 0.0020695786133576198, 0.0046381830731320106, 0.0042372363807049772, 0.0013999722575347732, 0.0011395946827994143, 0.00077953198575097908, 0.00057523147228942734, 0.0015928143115106954, 0.0010994357894564019, 0.00062491102624717318, 0.00055981408759059076, 0.0015876926134688119, 0.0061795301698856289, 0.0032362247690219193, 0.00087478833214610558, 0.0012170616360445668, 0.0013998006816896425, 0.0010994599575697673, 0.00080130155825498448, 0.00088939278689557184, 0.0011090053712826376, 0.002437449035868258, 0.0036998361063490695, 0.0011662349643338833, 0.0016037704990240248, 0.0033193883800667662, 0.0031370263931218686, 0.003145459839747582, 0.00098870895996398464, 0.00085383559450107592, 0.00075025663950452023, 0.00023989258128272013, 0.00085071647739059695, 0.00069170766998098167, 0.00054738567829981546, 0.0010863571680625075, 0.00036972289740967121, 0.0012311797378223219, 0.0012407326415008204, 0.0010182258762501382, 0.0010086545700366059, 0.0025188506036185722, 0.0066385569154540462, 0.003623451539936832, 0.0024877926346514867, 0.0033241248657603895, 0.0057014992044372471, 0.0024900583835819209, 0.0044722558546067227, 0.0021185930121136454, 0.0015555151297436472, 0.0008627526138593112, 0.0004043205296716375, 0.00075513349069853276, 0.0018446780230429794, 0.0012238446224664282, 0.0019626120249405781, 0.0028847866842356931, 0.0016650995187114707, 0.0005587609020752249, 0.0023490770152101506, 0.00085717593158841129, 0.00083852775040589524, 0.0001780511059920324, 0.00027569873673843784, 0.00016997805822340222, 7.729389449865873e-05, 5.9090120011099621e-05, 0.00011854324561832072, 0.0010112804119970103, 0.0010582068244165688, 0.0016289774729443555, 0.0012409489403899139, 0.0010173831602532421, 0.00060505507463258252, 0.0012122685547186695, 0.0009204994387977725, 0.0014323103523149409, 0.00061279603807095858, 0.00032613040887472379, 0.0010982715049654721, 0.00095614938035949607, 0.0017160289640138974, 0.0025416380852163684, 0.0015963048381244485, 0.00069901155533142779, 0.00057941736991453275, 0.00032698271262155082, 5.9968211491817175e-05, 0.00081010301981708987, 0.0011550411713918494, 0.0012038913293723453, 0.0042100271427089105, 0.0032942916054467634, 0.0030925804956200105, 0.0026359540693991373, 0.0028890374092986502, 0.00059784061780939434, 0.00034223684615315811, 0.00021469001279062923, 0.00023226267475570238, 0.00032541661789681106, 6.0905876657958893e-05, 8.1405433789465554e-05, 6.2958342387886058e-05, 3.9257500637859267e-05, 3.6581951038078843e-05, 8.589288455292869e-05, 6.6782018827476957e-05, 6.8083528837951232e-05, 8.280623989188219e-05, 0.00013700960296066569, 0.00067403475217867406, 0.0012887380364181807, 0.00041088317553179273, 0.0001111788616957862, 0.00016399201675694713, 0.00044219761221618987, 0.00037062670756252678, 8.9664934746451765e-05, 0.00029055379086429032, 0.00029840536972274093], 'acc': [0.76898333333333335, 0.95955000000000001, 0.97058333333333335, 0.97738333333333338, 0.98038333333333338, 0.98361666666666669, 0.98491666666666666, 0.98668333333333336, 0.98853333333333337, 0.98941666666666672, 0.9906166666666667, 0.9906166666666667, 0.99133333333333329, 0.99204999999999999, 0.9926666666666667, 0.99271666666666669, 0.99399999999999999, 0.99424999999999997, 0.99455000000000005, 0.995, 0.99514999999999998, 0.99580000000000002, 0.99513333333333331, 0.99601666666666666, 0.99639999999999995, 0.99653333333333338, 0.99676666666666669, 0.9967166666666667, 0.99696666666666667, 0.99731666666666663, 0.99713333333333332, 0.99724999999999997, 0.99691666666666667, 0.99770000000000003, 0.99733333333333329, 0.99796666666666667, 0.99831666666666663, 0.99808333333333332, 0.99826666666666664, 0.99751666666666672, 0.99776666666666669, 0.99793333333333334, 0.99761666666666671, 0.99781666666666669, 0.99863333333333337, 0.99911666666666665, 0.99861666666666671, 0.99786666666666668, 0.99804999999999999, 0.99885000000000002, 0.99863333333333337, 0.99918333333333331, 0.99926666666666664, 0.99921666666666664, 0.99931666666666663, 0.99944999999999995, 0.99903333333333333, 0.99909999999999999, 0.99924999999999997, 0.99838333333333329, 0.99881666666666669, 0.99851666666666672, 0.99901666666666666, 0.99890000000000001, 0.99936666666666663, 0.99876666666666669, 0.99943333333333328, 0.99865000000000004, 0.99921666666666664, 0.99926666666666664, 0.99923333333333331, 0.99909999999999999, 0.99929999999999997, 0.9992833333333333, 0.99953333333333338, 0.99934999999999996, 0.99901666666666666, 0.99943333333333328, 0.99938333333333329, 0.99883333333333335, 0.99881666666666669, 0.99958333333333338, 0.99958333333333338, 0.99976666666666669, 0.99981666666666669, 0.99946666666666661, 0.99965000000000004, 0.99980000000000002, 0.99983333333333335, 0.99948333333333328, 0.99833333333333329, 0.99903333333333333, 0.99963333333333337, 0.99956666666666671, 0.99958333333333338, 0.9997166666666667, 0.99981666666666669, 0.99965000000000004, 0.9996666666666667, 0.99950000000000006, 0.99895, 0.99973333333333336, 0.99953333333333338, 0.99904999999999999, 0.99911666666666665, 0.99924999999999997, 0.99975000000000003, 0.99975000000000003, 0.99983333333333335, 0.99995000000000001, 0.9997166666666667, 0.99983333333333335, 0.99976666666666669, 0.99965000000000004, 0.99990000000000001, 0.99968333333333337, 0.99960000000000004, 0.99970000000000003, 0.99970000000000003, 0.99934999999999996, 0.99818333333333331, 0.99890000000000001, 0.9992833333333333, 0.99890000000000001, 0.99848333333333328, 0.99931666666666663, 0.99861666666666671, 0.99921666666666664, 0.99960000000000004, 0.99970000000000003, 0.99981666666666669, 0.99975000000000003, 0.99944999999999995, 0.99956666666666671, 0.99958333333333338, 0.99918333333333331, 0.99948333333333328, 0.99988333333333335, 0.99934999999999996, 0.99963333333333337, 0.99970000000000003, 0.99996666666666667, 0.99990000000000001, 0.99995000000000001, 0.99998333333333334, 1.0, 0.99996666666666667, 0.99960000000000004, 0.99968333333333337, 0.99961666666666671, 0.99960000000000004, 0.99968333333333337, 0.99978333333333336, 0.99970000000000003, 0.99970000000000003, 0.99944999999999995, 0.99976666666666669, 0.99991666666666668, 0.99968333333333337, 0.9997166666666667, 0.99946666666666661, 0.99939999999999996, 0.9996666666666667, 0.99980000000000002, 0.99985000000000002, 0.99986666666666668, 1.0, 0.9997166666666667, 0.99960000000000004, 0.9996666666666667, 0.99886666666666668, 0.99909999999999999, 0.99924999999999997, 0.99926666666666664, 0.99926666666666664, 0.99976666666666669, 0.99988333333333335, 0.99990000000000001, 0.99993333333333334, 0.99991666666666668, 1.0, 0.99998333333333334, 1.0, 1.0, 1.0, 0.99998333333333334, 1.0, 0.99998333333333334, 0.99998333333333334, 0.99996666666666667, 0.99983333333333335, 0.9997166666666667, 0.99990000000000001, 1.0, 0.99995000000000001, 0.99990000000000001, 0.99991666666666668, 0.99998333333333334, 0.99990000000000001, 0.99990000000000001]}\n"
     ]
    }
   ],
   "source": [
    "print(history.history)"
   ]
  },
  {
   "cell_type": "code",
   "execution_count": 16,
   "metadata": {
    "collapsed": true
   },
   "outputs": [],
   "source": [
    "import pandas as pd\n",
    "import datetime\n",
    "data = pd.DataFrame(history.history)\n",
    "nome = 'DoubleConvMNISTNorm_t1' + str(datetime.datetime.now())+'.json'\n",
    "data = data.to_json()\n",
    "with open(nome, \"w+\") as output_file:\n",
    "    output_file.write(data)"
   ]
  },
  {
   "cell_type": "code",
   "execution_count": null,
   "metadata": {
    "collapsed": true
   },
   "outputs": [],
   "source": []
  },
  {
   "cell_type": "code",
   "execution_count": null,
   "metadata": {
    "collapsed": true
   },
   "outputs": [],
   "source": []
  }
 ],
 "metadata": {
  "kernelspec": {
   "display_name": "Python 3",
   "language": "python",
   "name": "python3"
  },
  "language_info": {
   "codemirror_mode": {
    "name": "ipython",
    "version": 3
   },
   "file_extension": ".py",
   "mimetype": "text/x-python",
   "name": "python",
   "nbconvert_exporter": "python",
   "pygments_lexer": "ipython3",
   "version": "3.6.3"
  }
 },
 "nbformat": 4,
 "nbformat_minor": 2
}
