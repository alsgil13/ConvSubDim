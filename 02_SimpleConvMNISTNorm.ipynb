{
 "cells": [
  {
   "cell_type": "code",
   "execution_count": 1,
   "metadata": {},
   "outputs": [
    {
     "name": "stderr",
     "output_type": "stream",
     "text": [
      "Using TensorFlow backend.\n"
     ]
    }
   ],
   "source": [
    "import keras\n",
    "import numpy as np\n",
    "from keras.datasets import mnist\n",
    "from keras.optimizers import SGD\n",
    "\n",
    "from keras.models import Sequential\n",
    "from keras.layers import Dense, Dropout, Flatten, Softmax\n",
    "from keras.layers import Conv2D, MaxPooling2D, BatchNormalization, Reshape, GlobalAveragePooling2D, GlobalAveragePooling1D\n",
    "from keras.optimizers import Adam\n",
    "from keras.initializers import RandomNormal\n",
    "import matplotlib.pyplot as plt"
   ]
  },
  {
   "cell_type": "code",
   "execution_count": 2,
   "metadata": {
    "collapsed": true
   },
   "outputs": [],
   "source": [
    "\n",
    "# Hyperparameters\n",
    "batch_size = 64\n",
    "num_classes = 10 #pegar automaticamente NumPy.Unique\n",
    "epochs = 200\n",
    "\n"
   ]
  },
  {
   "cell_type": "code",
   "execution_count": null,
   "metadata": {
    "collapsed": true
   },
   "outputs": [],
   "source": []
  },
  {
   "cell_type": "code",
   "execution_count": 3,
   "metadata": {},
   "outputs": [
    {
     "data": {
      "text/plain": [
       "(60000, 28, 28, 1)"
      ]
     },
     "execution_count": 3,
     "metadata": {},
     "output_type": "execute_result"
    }
   ],
   "source": [
    "# Load Cifar-10 Data\n",
    "(x_train, y_train), (x_test, y_test) = mnist.load_data()\n",
    "\n",
    "#Adicionando Canal do DataSet (Channel do MNIST eh 1)\n",
    "x_train = np.reshape(x_train, (len(x_train),28,28, 1))\n",
    "x_test = np.reshape(x_test, (len(x_test),28,28, 1))\n",
    "\n",
    "\n",
    "#x_train.shape\n",
    "img_height, img_width, channel = x_train.shape[1],x_train.shape[2],x_train.shape[3]\n",
    "#channel=1\n",
    "\n",
    "x_train.shape\n",
    "\n"
   ]
  },
  {
   "cell_type": "code",
   "execution_count": 4,
   "metadata": {},
   "outputs": [
    {
     "data": {
      "text/plain": [
       "(60000, 28, 28, 1)"
      ]
     },
     "execution_count": 4,
     "metadata": {},
     "output_type": "execute_result"
    }
   ],
   "source": [
    "\n",
    "#\n",
    "x_train.shape\n",
    "\n",
    "#\n"
   ]
  },
  {
   "cell_type": "code",
   "execution_count": 5,
   "metadata": {
    "collapsed": true
   },
   "outputs": [],
   "source": [
    "# convert to one hot encoing \n",
    "y_train = keras.utils.to_categorical(y_train, num_classes)\n",
    "y_test = keras.utils.to_categorical(y_test, num_classes)\n",
    "\n"
   ]
  },
  {
   "cell_type": "code",
   "execution_count": 6,
   "metadata": {},
   "outputs": [
    {
     "data": {
      "text/plain": [
       "28"
      ]
     },
     "execution_count": 6,
     "metadata": {},
     "output_type": "execute_result"
    }
   ],
   "source": [
    "img_width"
   ]
  },
  {
   "cell_type": "code",
   "execution_count": 7,
   "metadata": {
    "collapsed": true
   },
   "outputs": [],
   "source": [
    "model = Sequential()\n",
    "\n",
    "#Filters = IMG_width/2 * 7\n",
    "model.add(Conv2D(98, #alterado de 168 para 98\n",
    "                 (5,5), #alterado de 3 para 5 \n",
    "                 strides=(2,2), \n",
    "                 activation='relu', \n",
    "                 padding='same',\n",
    "                 data_format='channels_last',\n",
    "                 use_bias=True, \n",
    "                 kernel_initializer=RandomNormal(mean=0.0, stddev=0.05, seed=None), \n",
    "                 bias_initializer='zeros',\n",
    "                 input_shape=(img_height, img_width, channel)))\n",
    "model.add(MaxPooling2D(pool_size=(2, 2), \n",
    "                       strides=(2,2)))\n",
    "\n",
    "#Normalization:\n",
    "#calculo da quantidade de filtros da normalização:\n",
    "# Width*heigth da saída após a primeira camada de convolução+pooling\n",
    "model.add(Conv2D(49, \n",
    "                 (1,1), \n",
    "                 strides=(1,1), \n",
    "                 activation='relu', \n",
    "                 padding='same',\n",
    "                 kernel_initializer=RandomNormal(mean=0.0, stddev=0.05, seed=None), \n",
    "                 data_format='channels_last'))\n",
    "model.add(Conv2D(49, \n",
    "                 (1,1), \n",
    "                 strides=(1,1), \n",
    "                 activation='relu', \n",
    "                 padding='same',\n",
    "                 kernel_initializer=RandomNormal(mean=0.0, stddev=0.05, seed=None),                  \n",
    "                 data_format='channels_last'))\n",
    "\n",
    "#Filters = IMG_width/2 * 9\n",
    "model.add(Conv2D(126, \n",
    "                 (5,5), \n",
    "                 strides=(2,2), \n",
    "                 activation='relu', \n",
    "                 padding='same',\n",
    "                 data_format='channels_last',\n",
    "                 use_bias=True, \n",
    "                 kernel_initializer=RandomNormal(mean=0.0, stddev=0.05, seed=None), \n",
    "                 bias_initializer='zeros',\n",
    "                 input_shape=(img_height, img_width, channel)))\n",
    "model.add(MaxPooling2D(pool_size=(2, 2), \n",
    "                       strides=(2,2)))\n",
    "#Normalization:\n",
    "#calculo da quantidade de filtros da normalização:\n",
    "# Width*heigth da saída após a primeira camada de convolução+pooling\n",
    "model.add(Conv2D(49, \n",
    "                 (1,1), \n",
    "                 strides=(1,1), \n",
    "                 activation='relu', \n",
    "                 padding='same',\n",
    "                 kernel_initializer=RandomNormal(mean=0.0, stddev=0.05, seed=None),                  \n",
    "                 data_format='channels_last'))\n",
    "model.add(Conv2D(49, \n",
    "                 (1,1), \n",
    "                 strides=(1,1), \n",
    "                 activation='relu', \n",
    "                 padding='same',\n",
    "                 kernel_initializer=RandomNormal(mean=0.0, stddev=0.05, seed=None),                  \n",
    "                 data_format='channels_last'))\n",
    "\n",
    "model.add(Flatten())\n",
    "#IMG_width^ 2\n",
    "model.add(Dense(784, activation='relu'))\n",
    "model.add(Dropout(0.5))\n",
    "\n",
    "#camada anterior/2\n",
    "model.add(Dense(392, activation='relu'))\n",
    "model.add(Dropout(0.5))\n",
    "\n",
    "#Num de classes\n",
    "model.add(Dense(10, activation='softmax'))\n"
   ]
  },
  {
   "cell_type": "code",
   "execution_count": 8,
   "metadata": {},
   "outputs": [
    {
     "name": "stdout",
     "output_type": "stream",
     "text": [
      "_________________________________________________________________\n",
      "Layer (type)                 Output Shape              Param #   \n",
      "=================================================================\n",
      "conv2d_1 (Conv2D)            (None, 14, 14, 98)        2548      \n",
      "_________________________________________________________________\n",
      "max_pooling2d_1 (MaxPooling2 (None, 7, 7, 98)          0         \n",
      "_________________________________________________________________\n",
      "conv2d_2 (Conv2D)            (None, 7, 7, 49)          4851      \n",
      "_________________________________________________________________\n",
      "conv2d_3 (Conv2D)            (None, 4, 4, 126)         154476    \n",
      "_________________________________________________________________\n",
      "max_pooling2d_2 (MaxPooling2 (None, 2, 2, 126)         0         \n",
      "_________________________________________________________________\n",
      "conv2d_4 (Conv2D)            (None, 2, 2, 49)          6223      \n",
      "_________________________________________________________________\n",
      "flatten_1 (Flatten)          (None, 196)               0         \n",
      "_________________________________________________________________\n",
      "dense_1 (Dense)              (None, 784)               154448    \n",
      "_________________________________________________________________\n",
      "dropout_1 (Dropout)          (None, 784)               0         \n",
      "_________________________________________________________________\n",
      "dense_2 (Dense)              (None, 392)               307720    \n",
      "_________________________________________________________________\n",
      "dropout_2 (Dropout)          (None, 392)               0         \n",
      "_________________________________________________________________\n",
      "dense_3 (Dense)              (None, 10)                3930      \n",
      "=================================================================\n",
      "Total params: 634,196\n",
      "Trainable params: 634,196\n",
      "Non-trainable params: 0\n",
      "_________________________________________________________________\n"
     ]
    }
   ],
   "source": [
    "\n",
    "# print the model summary\n",
    "model.summary()\n",
    "\n"
   ]
  },
  {
   "cell_type": "code",
   "execution_count": 9,
   "metadata": {
    "collapsed": true
   },
   "outputs": [],
   "source": [
    "# determine Loss function and Optimizer\n",
    "model.compile(loss='categorical_crossentropy',\n",
    "              optimizer=SGD(lr=0.01, momentum=0.02, decay=0.0, nesterov=False),\n",
    "              metrics=['accuracy'])\n"
   ]
  },
  {
   "cell_type": "code",
   "execution_count": 10,
   "metadata": {},
   "outputs": [
    {
     "name": "stdout",
     "output_type": "stream",
     "text": [
      "Train on 60000 samples, validate on 10000 samples\n",
      "Epoch 1/200\n",
      "60000/60000 [==============================] - 31s 516us/step - loss: 0.5438 - acc: 0.8192 - val_loss: 0.1017 - val_acc: 0.9678\n",
      "Epoch 2/200\n",
      "60000/60000 [==============================] - 30s 505us/step - loss: 0.1276 - acc: 0.9622 - val_loss: 0.0841 - val_acc: 0.9738\n",
      "Epoch 3/200\n",
      "60000/60000 [==============================] - 30s 506us/step - loss: 0.0904 - acc: 0.9736 - val_loss: 0.0488 - val_acc: 0.9841\n",
      "Epoch 4/200\n",
      "60000/60000 [==============================] - 31s 509us/step - loss: 0.0714 - acc: 0.9787 - val_loss: 0.0556 - val_acc: 0.9826\n",
      "Epoch 5/200\n",
      "60000/60000 [==============================] - 30s 507us/step - loss: 0.0617 - acc: 0.9825 - val_loss: 0.0472 - val_acc: 0.9847\n",
      "Epoch 6/200\n",
      "60000/60000 [==============================] - 30s 500us/step - loss: 0.0500 - acc: 0.9854 - val_loss: 0.0357 - val_acc: 0.9887\n",
      "Epoch 7/200\n",
      "60000/60000 [==============================] - 30s 506us/step - loss: 0.0425 - acc: 0.9874 - val_loss: 0.0465 - val_acc: 0.9873\n",
      "Epoch 8/200\n",
      "60000/60000 [==============================] - 31s 509us/step - loss: 0.0401 - acc: 0.9879 - val_loss: 0.0406 - val_acc: 0.9883\n",
      "Epoch 9/200\n",
      "60000/60000 [==============================] - 31s 510us/step - loss: 0.0339 - acc: 0.9900 - val_loss: 0.0379 - val_acc: 0.9893\n",
      "Epoch 10/200\n",
      "60000/60000 [==============================] - 31s 510us/step - loss: 0.0320 - acc: 0.9902 - val_loss: 0.0703 - val_acc: 0.9809\n",
      "Epoch 11/200\n",
      "60000/60000 [==============================] - 30s 508us/step - loss: 0.0260 - acc: 0.9920 - val_loss: 0.0351 - val_acc: 0.9892\n",
      "Epoch 12/200\n",
      "60000/60000 [==============================] - 31s 513us/step - loss: 0.0250 - acc: 0.9925 - val_loss: 0.0365 - val_acc: 0.9894\n",
      "Epoch 13/200\n",
      "60000/60000 [==============================] - 30s 507us/step - loss: 0.0233 - acc: 0.9929 - val_loss: 0.0387 - val_acc: 0.9899\n",
      "Epoch 14/200\n",
      "60000/60000 [==============================] - 31s 512us/step - loss: 0.0216 - acc: 0.9933 - val_loss: 0.0429 - val_acc: 0.9885\n",
      "Epoch 15/200\n",
      "60000/60000 [==============================] - 31s 515us/step - loss: 0.0193 - acc: 0.9942 - val_loss: 0.0375 - val_acc: 0.9888\n",
      "Epoch 16/200\n",
      "60000/60000 [==============================] - 31s 518us/step - loss: 0.0171 - acc: 0.9945 - val_loss: 0.0336 - val_acc: 0.9906\n",
      "Epoch 17/200\n",
      "60000/60000 [==============================] - 31s 518us/step - loss: 0.0160 - acc: 0.9949 - val_loss: 0.0606 - val_acc: 0.9846\n",
      "Epoch 18/200\n",
      "60000/60000 [==============================] - 31s 515us/step - loss: 0.0151 - acc: 0.9954 - val_loss: 0.0379 - val_acc: 0.9905\n",
      "Epoch 19/200\n",
      "60000/60000 [==============================] - 31s 516us/step - loss: 0.0149 - acc: 0.9956 - val_loss: 0.0369 - val_acc: 0.9909\n",
      "Epoch 20/200\n",
      "60000/60000 [==============================] - 31s 515us/step - loss: 0.0122 - acc: 0.9962 - val_loss: 0.0390 - val_acc: 0.9907\n",
      "Epoch 21/200\n",
      "60000/60000 [==============================] - 31s 519us/step - loss: 0.0114 - acc: 0.9963 - val_loss: 0.0408 - val_acc: 0.9899\n",
      "Epoch 22/200\n",
      "60000/60000 [==============================] - 31s 521us/step - loss: 0.0123 - acc: 0.9963 - val_loss: 0.0584 - val_acc: 0.9860\n",
      "Epoch 23/200\n",
      "60000/60000 [==============================] - 31s 514us/step - loss: 0.0105 - acc: 0.9966 - val_loss: 0.0515 - val_acc: 0.9897\n",
      "Epoch 24/200\n",
      "60000/60000 [==============================] - 31s 517us/step - loss: 0.0097 - acc: 0.9968 - val_loss: 0.0483 - val_acc: 0.9890\n",
      "Epoch 25/200\n",
      "60000/60000 [==============================] - 31s 512us/step - loss: 0.0071 - acc: 0.9976 - val_loss: 0.0488 - val_acc: 0.9891\n",
      "Epoch 26/200\n",
      "60000/60000 [==============================] - 31s 521us/step - loss: 0.0080 - acc: 0.9977 - val_loss: 0.0480 - val_acc: 0.9896\n",
      "Epoch 27/200\n",
      "60000/60000 [==============================] - 31s 520us/step - loss: 0.0094 - acc: 0.9971 - val_loss: 0.0411 - val_acc: 0.9918\n",
      "Epoch 28/200\n",
      "60000/60000 [==============================] - 31s 517us/step - loss: 0.0066 - acc: 0.9979 - val_loss: 0.0431 - val_acc: 0.9903\n",
      "Epoch 29/200\n",
      "60000/60000 [==============================] - 31s 513us/step - loss: 0.0071 - acc: 0.9978 - val_loss: 0.0424 - val_acc: 0.9902\n",
      "Epoch 30/200\n",
      "60000/60000 [==============================] - 31s 514us/step - loss: 0.0065 - acc: 0.9980 - val_loss: 0.0398 - val_acc: 0.9907\n",
      "Epoch 31/200\n",
      "60000/60000 [==============================] - 31s 514us/step - loss: 0.0086 - acc: 0.9975 - val_loss: 0.0451 - val_acc: 0.9897\n",
      "Epoch 32/200\n",
      "60000/60000 [==============================] - 31s 513us/step - loss: 0.0056 - acc: 0.9981 - val_loss: 0.0413 - val_acc: 0.9919\n",
      "Epoch 33/200\n",
      "60000/60000 [==============================] - 31s 513us/step - loss: 0.0062 - acc: 0.9980 - val_loss: 0.0470 - val_acc: 0.9904\n",
      "Epoch 34/200\n",
      "60000/60000 [==============================] - 31s 515us/step - loss: 0.0065 - acc: 0.9980 - val_loss: 0.0482 - val_acc: 0.9897\n",
      "Epoch 35/200\n",
      "60000/60000 [==============================] - 31s 516us/step - loss: 0.0088 - acc: 0.9971 - val_loss: 0.0509 - val_acc: 0.9900\n",
      "Epoch 36/200\n",
      "60000/60000 [==============================] - 31s 520us/step - loss: 0.0055 - acc: 0.9983 - val_loss: 0.0570 - val_acc: 0.9900\n",
      "Epoch 37/200\n",
      "60000/60000 [==============================] - 31s 518us/step - loss: 0.0043 - acc: 0.9986 - val_loss: 0.0459 - val_acc: 0.9912\n",
      "Epoch 38/200\n",
      "60000/60000 [==============================] - 31s 516us/step - loss: 0.0045 - acc: 0.9985 - val_loss: 0.0534 - val_acc: 0.9903\n",
      "Epoch 39/200\n",
      "60000/60000 [==============================] - 31s 516us/step - loss: 0.0055 - acc: 0.9981 - val_loss: 0.0436 - val_acc: 0.9915\n",
      "Epoch 40/200\n",
      "60000/60000 [==============================] - 31s 516us/step - loss: 0.0046 - acc: 0.9985 - val_loss: 0.0553 - val_acc: 0.9896\n",
      "Epoch 41/200\n",
      "60000/60000 [==============================] - 31s 511us/step - loss: 0.0035 - acc: 0.9989 - val_loss: 0.0439 - val_acc: 0.9915\n",
      "Epoch 42/200\n",
      "60000/60000 [==============================] - 31s 514us/step - loss: 0.0043 - acc: 0.9988 - val_loss: 0.0473 - val_acc: 0.9909\n",
      "Epoch 43/200\n",
      "60000/60000 [==============================] - 31s 513us/step - loss: 0.0036 - acc: 0.9990 - val_loss: 0.0457 - val_acc: 0.9911\n",
      "Epoch 44/200\n",
      "60000/60000 [==============================] - 31s 519us/step - loss: 0.0030 - acc: 0.9990 - val_loss: 0.0443 - val_acc: 0.9913\n",
      "Epoch 45/200\n",
      "60000/60000 [==============================] - 31s 513us/step - loss: 0.0028 - acc: 0.9991 - val_loss: 0.0446 - val_acc: 0.9916\n",
      "Epoch 46/200\n",
      "60000/60000 [==============================] - 31s 515us/step - loss: 0.0037 - acc: 0.9988 - val_loss: 0.0434 - val_acc: 0.9907\n",
      "Epoch 47/200\n",
      "60000/60000 [==============================] - 31s 520us/step - loss: 0.0024 - acc: 0.9992 - val_loss: 0.0450 - val_acc: 0.9913\n",
      "Epoch 48/200\n",
      "60000/60000 [==============================] - 31s 523us/step - loss: 0.0024 - acc: 0.9992 - val_loss: 0.0493 - val_acc: 0.9903\n",
      "Epoch 49/200\n",
      "60000/60000 [==============================] - 31s 521us/step - loss: 0.0042 - acc: 0.9988 - val_loss: 0.0441 - val_acc: 0.9917\n",
      "Epoch 50/200\n",
      "60000/60000 [==============================] - 31s 512us/step - loss: 0.0052 - acc: 0.9984 - val_loss: 0.0497 - val_acc: 0.9907\n",
      "Epoch 51/200\n",
      "60000/60000 [==============================] - 31s 512us/step - loss: 0.0051 - acc: 0.9984 - val_loss: 0.0527 - val_acc: 0.9908\n",
      "Epoch 52/200\n",
      "60000/60000 [==============================] - 31s 517us/step - loss: 0.0023 - acc: 0.9992 - val_loss: 0.0467 - val_acc: 0.9915\n",
      "Epoch 53/200\n",
      "60000/60000 [==============================] - 31s 519us/step - loss: 0.0034 - acc: 0.9989 - val_loss: 0.1189 - val_acc: 0.9783\n",
      "Epoch 54/200\n",
      "60000/60000 [==============================] - 31s 516us/step - loss: 0.0033 - acc: 0.9990 - val_loss: 0.0495 - val_acc: 0.9905\n",
      "Epoch 55/200\n",
      "60000/60000 [==============================] - 31s 518us/step - loss: 0.0024 - acc: 0.9992 - val_loss: 0.0521 - val_acc: 0.9914\n",
      "Epoch 56/200\n",
      "60000/60000 [==============================] - 31s 521us/step - loss: 0.0029 - acc: 0.9990 - val_loss: 0.0575 - val_acc: 0.9891\n",
      "Epoch 57/200\n",
      "60000/60000 [==============================] - 31s 514us/step - loss: 0.0026 - acc: 0.9990 - val_loss: 0.0573 - val_acc: 0.9898\n",
      "Epoch 58/200\n",
      "60000/60000 [==============================] - 31s 515us/step - loss: 0.0034 - acc: 0.9989 - val_loss: 0.0514 - val_acc: 0.9906\n"
     ]
    },
    {
     "name": "stdout",
     "output_type": "stream",
     "text": [
      "Epoch 59/200\n",
      "60000/60000 [==============================] - 31s 517us/step - loss: 0.0024 - acc: 0.9990 - val_loss: 0.0530 - val_acc: 0.9913\n",
      "Epoch 60/200\n",
      "60000/60000 [==============================] - 31s 515us/step - loss: 0.0014 - acc: 0.9997 - val_loss: 0.0547 - val_acc: 0.9905\n",
      "Epoch 61/200\n",
      "60000/60000 [==============================] - 31s 518us/step - loss: 0.0021 - acc: 0.9993 - val_loss: 0.0560 - val_acc: 0.9899\n",
      "Epoch 62/200\n",
      "60000/60000 [==============================] - 31s 522us/step - loss: 0.0024 - acc: 0.9992 - val_loss: 0.0507 - val_acc: 0.9906\n",
      "Epoch 63/200\n",
      "60000/60000 [==============================] - 31s 522us/step - loss: 0.0032 - acc: 0.9989 - val_loss: 0.0550 - val_acc: 0.9905\n",
      "Epoch 64/200\n",
      "60000/60000 [==============================] - 31s 520us/step - loss: 0.0027 - acc: 0.9992 - val_loss: 0.0479 - val_acc: 0.9920\n",
      "Epoch 65/200\n",
      "60000/60000 [==============================] - 31s 519us/step - loss: 0.0037 - acc: 0.9989 - val_loss: 0.0572 - val_acc: 0.9896\n",
      "Epoch 66/200\n",
      "60000/60000 [==============================] - 31s 514us/step - loss: 0.0027 - acc: 0.9993 - val_loss: 0.0596 - val_acc: 0.9904\n",
      "Epoch 67/200\n",
      "60000/60000 [==============================] - 31s 514us/step - loss: 0.0011 - acc: 0.9997 - val_loss: 0.0540 - val_acc: 0.9913\n",
      "Epoch 68/200\n",
      "60000/60000 [==============================] - 31s 520us/step - loss: 0.0012 - acc: 0.9997 - val_loss: 0.0534 - val_acc: 0.9920\n",
      "Epoch 69/200\n",
      "60000/60000 [==============================] - 31s 513us/step - loss: 8.7208e-04 - acc: 0.9997 - val_loss: 0.0570 - val_acc: 0.9910\n",
      "Epoch 70/200\n",
      "60000/60000 [==============================] - 31s 522us/step - loss: 0.0016 - acc: 0.9996 - val_loss: 0.0529 - val_acc: 0.9919\n",
      "Epoch 71/200\n",
      "60000/60000 [==============================] - 31s 516us/step - loss: 0.0013 - acc: 0.9995 - val_loss: 0.0547 - val_acc: 0.9912\n",
      "Epoch 72/200\n",
      "60000/60000 [==============================] - 31s 522us/step - loss: 0.0012 - acc: 0.9997 - val_loss: 0.0592 - val_acc: 0.9908\n",
      "Epoch 73/200\n",
      "60000/60000 [==============================] - 31s 519us/step - loss: 0.0026 - acc: 0.9992 - val_loss: 0.0559 - val_acc: 0.9912\n",
      "Epoch 74/200\n",
      "60000/60000 [==============================] - 31s 515us/step - loss: 0.0025 - acc: 0.9993 - val_loss: 0.0536 - val_acc: 0.9911\n",
      "Epoch 75/200\n",
      "60000/60000 [==============================] - 31s 508us/step - loss: 0.0019 - acc: 0.9995 - val_loss: 0.0637 - val_acc: 0.9909\n",
      "Epoch 76/200\n",
      "60000/60000 [==============================] - 31s 516us/step - loss: 0.0041 - acc: 0.9989 - val_loss: 0.0553 - val_acc: 0.9905\n",
      "Epoch 77/200\n",
      "60000/60000 [==============================] - 31s 511us/step - loss: 0.0032 - acc: 0.9992 - val_loss: 0.0589 - val_acc: 0.9905\n",
      "Epoch 78/200\n",
      "60000/60000 [==============================] - 30s 504us/step - loss: 0.0019 - acc: 0.9994 - val_loss: 0.0647 - val_acc: 0.9907\n",
      "Epoch 79/200\n",
      "60000/60000 [==============================] - 30s 507us/step - loss: 0.0029 - acc: 0.9992 - val_loss: 0.0575 - val_acc: 0.9903\n",
      "Epoch 80/200\n",
      "60000/60000 [==============================] - 30s 506us/step - loss: 0.0018 - acc: 0.9995 - val_loss: 0.0552 - val_acc: 0.9915\n",
      "Epoch 81/200\n",
      "60000/60000 [==============================] - 31s 508us/step - loss: 0.0011 - acc: 0.9997 - val_loss: 0.0523 - val_acc: 0.9914\n",
      "Epoch 82/200\n",
      "60000/60000 [==============================] - 31s 511us/step - loss: 9.1879e-04 - acc: 0.9997 - val_loss: 0.0546 - val_acc: 0.9916\n",
      "Epoch 83/200\n",
      "60000/60000 [==============================] - 31s 510us/step - loss: 0.0011 - acc: 0.9996 - val_loss: 0.0552 - val_acc: 0.9905\n",
      "Epoch 84/200\n",
      "60000/60000 [==============================] - 30s 508us/step - loss: 0.0013 - acc: 0.9996 - val_loss: 0.0592 - val_acc: 0.9905\n",
      "Epoch 85/200\n",
      "60000/60000 [==============================] - 30s 504us/step - loss: 0.0027 - acc: 0.9992 - val_loss: 0.0700 - val_acc: 0.9894\n",
      "Epoch 86/200\n",
      "60000/60000 [==============================] - 30s 507us/step - loss: 0.0024 - acc: 0.9992 - val_loss: 0.0583 - val_acc: 0.9900\n",
      "Epoch 87/200\n",
      "60000/60000 [==============================] - 31s 512us/step - loss: 0.0016 - acc: 0.9995 - val_loss: 0.0610 - val_acc: 0.9906\n",
      "Epoch 88/200\n",
      "60000/60000 [==============================] - 31s 511us/step - loss: 9.0656e-04 - acc: 0.9996 - val_loss: 0.0515 - val_acc: 0.9914\n",
      "Epoch 89/200\n",
      "60000/60000 [==============================] - 31s 509us/step - loss: 0.0013 - acc: 0.9997 - val_loss: 0.0555 - val_acc: 0.9912\n",
      "Epoch 90/200\n",
      "60000/60000 [==============================] - 30s 506us/step - loss: 8.9518e-04 - acc: 0.9997 - val_loss: 0.0535 - val_acc: 0.9926\n",
      "Epoch 91/200\n",
      "60000/60000 [==============================] - 30s 505us/step - loss: 5.6482e-04 - acc: 0.9998 - val_loss: 0.0536 - val_acc: 0.9922\n",
      "Epoch 92/200\n",
      "60000/60000 [==============================] - 31s 509us/step - loss: 2.2710e-04 - acc: 1.0000 - val_loss: 0.0535 - val_acc: 0.9919\n",
      "Epoch 93/200\n",
      "60000/60000 [==============================] - 31s 510us/step - loss: 0.0010 - acc: 0.9997 - val_loss: 0.0548 - val_acc: 0.9917\n",
      "Epoch 94/200\n",
      "60000/60000 [==============================] - 31s 513us/step - loss: 0.0015 - acc: 0.9996 - val_loss: 0.0548 - val_acc: 0.9912\n",
      "Epoch 95/200\n",
      "60000/60000 [==============================] - 30s 508us/step - loss: 4.2435e-04 - acc: 0.9999 - val_loss: 0.0564 - val_acc: 0.9919\n",
      "Epoch 96/200\n",
      "60000/60000 [==============================] - 30s 507us/step - loss: 9.1035e-04 - acc: 0.9998 - val_loss: 0.0570 - val_acc: 0.9912\n",
      "Epoch 97/200\n",
      "60000/60000 [==============================] - 30s 507us/step - loss: 6.4655e-04 - acc: 0.9997 - val_loss: 0.0546 - val_acc: 0.9920\n",
      "Epoch 98/200\n",
      "60000/60000 [==============================] - 30s 503us/step - loss: 4.9771e-04 - acc: 0.9998 - val_loss: 0.0537 - val_acc: 0.9916\n",
      "Epoch 99/200\n",
      "60000/60000 [==============================] - 30s 505us/step - loss: 8.9385e-04 - acc: 0.9998 - val_loss: 0.0607 - val_acc: 0.9901\n",
      "Epoch 100/200\n",
      "60000/60000 [==============================] - 30s 507us/step - loss: 4.5082e-04 - acc: 0.9999 - val_loss: 0.0591 - val_acc: 0.9914\n",
      "Epoch 101/200\n",
      "60000/60000 [==============================] - 30s 506us/step - loss: 0.0014 - acc: 0.9996 - val_loss: 0.0570 - val_acc: 0.9917\n",
      "Epoch 102/200\n",
      "60000/60000 [==============================] - 30s 506us/step - loss: 4.9334e-04 - acc: 0.9998 - val_loss: 0.0574 - val_acc: 0.9915\n",
      "Epoch 103/200\n",
      "60000/60000 [==============================] - 31s 509us/step - loss: 2.7922e-04 - acc: 0.9999 - val_loss: 0.0589 - val_acc: 0.9913\n",
      "Epoch 104/200\n",
      "60000/60000 [==============================] - 30s 508us/step - loss: 0.0023 - acc: 0.9993 - val_loss: 0.0559 - val_acc: 0.9911\n",
      "Epoch 105/200\n",
      "60000/60000 [==============================] - 31s 514us/step - loss: 0.0017 - acc: 0.9996 - val_loss: 0.0523 - val_acc: 0.9924\n",
      "Epoch 106/200\n",
      "60000/60000 [==============================] - 31s 512us/step - loss: 0.0021 - acc: 0.9994 - val_loss: 0.0607 - val_acc: 0.9905\n",
      "Epoch 107/200\n",
      "60000/60000 [==============================] - 31s 511us/step - loss: 6.6665e-04 - acc: 0.9998 - val_loss: 0.0572 - val_acc: 0.9917\n",
      "Epoch 108/200\n",
      "60000/60000 [==============================] - 31s 510us/step - loss: 4.3587e-04 - acc: 0.9998 - val_loss: 0.0620 - val_acc: 0.9907\n",
      "Epoch 109/200\n",
      "60000/60000 [==============================] - 31s 512us/step - loss: 0.0021 - acc: 0.9995 - val_loss: 0.0726 - val_acc: 0.9891\n",
      "Epoch 110/200\n",
      "60000/60000 [==============================] - 31s 512us/step - loss: 0.0022 - acc: 0.9995 - val_loss: 0.0545 - val_acc: 0.9917\n",
      "Epoch 111/200\n",
      "60000/60000 [==============================] - 31s 508us/step - loss: 2.6517e-04 - acc: 0.9999 - val_loss: 0.0546 - val_acc: 0.9926\n",
      "Epoch 112/200\n",
      "60000/60000 [==============================] - 30s 505us/step - loss: 6.1157e-04 - acc: 0.9998 - val_loss: 0.0541 - val_acc: 0.9920\n",
      "Epoch 113/200\n",
      "60000/60000 [==============================] - 31s 515us/step - loss: 0.0019 - acc: 0.9993 - val_loss: 0.0593 - val_acc: 0.9913\n",
      "Epoch 114/200\n",
      "60000/60000 [==============================] - 31s 510us/step - loss: 0.0021 - acc: 0.9993 - val_loss: 0.0672 - val_acc: 0.9899\n",
      "Epoch 115/200\n",
      "60000/60000 [==============================] - 30s 507us/step - loss: 7.4833e-04 - acc: 0.9998 - val_loss: 0.0576 - val_acc: 0.9916\n",
      "Epoch 116/200\n"
     ]
    },
    {
     "name": "stdout",
     "output_type": "stream",
     "text": [
      "60000/60000 [==============================] - 30s 507us/step - loss: 6.9058e-04 - acc: 0.9998 - val_loss: 0.0605 - val_acc: 0.9905\n",
      "Epoch 117/200\n",
      "60000/60000 [==============================] - 31s 512us/step - loss: 8.4804e-04 - acc: 0.9997 - val_loss: 0.0625 - val_acc: 0.9909\n",
      "Epoch 118/200\n",
      "60000/60000 [==============================] - 31s 511us/step - loss: 0.0011 - acc: 0.9998 - val_loss: 0.0581 - val_acc: 0.9918\n",
      "Epoch 119/200\n",
      "60000/60000 [==============================] - 31s 512us/step - loss: 0.0011 - acc: 0.9996 - val_loss: 0.0576 - val_acc: 0.9912\n",
      "Epoch 120/200\n",
      "60000/60000 [==============================] - 31s 511us/step - loss: 5.2593e-04 - acc: 0.9999 - val_loss: 0.0625 - val_acc: 0.9902\n",
      "Epoch 121/200\n",
      "60000/60000 [==============================] - 31s 511us/step - loss: 0.0011 - acc: 0.9997 - val_loss: 0.0633 - val_acc: 0.9910\n",
      "Epoch 122/200\n",
      "60000/60000 [==============================] - 31s 511us/step - loss: 5.6715e-04 - acc: 0.9998 - val_loss: 0.0610 - val_acc: 0.9907\n",
      "Epoch 123/200\n",
      "60000/60000 [==============================] - 31s 511us/step - loss: 3.5772e-04 - acc: 0.9998 - val_loss: 0.0632 - val_acc: 0.9908\n",
      "Epoch 124/200\n",
      "60000/60000 [==============================] - 30s 507us/step - loss: 0.0012 - acc: 0.9997 - val_loss: 0.0670 - val_acc: 0.9906\n",
      "Epoch 125/200\n",
      "60000/60000 [==============================] - 31s 509us/step - loss: 0.0026 - acc: 0.9993 - val_loss: 0.0619 - val_acc: 0.9913\n",
      "Epoch 126/200\n",
      "60000/60000 [==============================] - 30s 506us/step - loss: 5.6289e-04 - acc: 0.9998 - val_loss: 0.0652 - val_acc: 0.9913\n",
      "Epoch 127/200\n",
      "60000/60000 [==============================] - 31s 515us/step - loss: 4.5367e-04 - acc: 0.9998 - val_loss: 0.0629 - val_acc: 0.9917\n",
      "Epoch 128/200\n",
      "60000/60000 [==============================] - 30s 508us/step - loss: 3.5134e-04 - acc: 0.9999 - val_loss: 0.0614 - val_acc: 0.9907\n",
      "Epoch 129/200\n",
      "60000/60000 [==============================] - 30s 508us/step - loss: 3.3155e-04 - acc: 0.9999 - val_loss: 0.0645 - val_acc: 0.9914\n",
      "Epoch 130/200\n",
      "60000/60000 [==============================] - 30s 502us/step - loss: 1.6811e-04 - acc: 0.9999 - val_loss: 0.0580 - val_acc: 0.9919\n",
      "Epoch 131/200\n",
      "60000/60000 [==============================] - 30s 505us/step - loss: 3.8189e-04 - acc: 0.9999 - val_loss: 0.0588 - val_acc: 0.9918\n",
      "Epoch 132/200\n",
      "60000/60000 [==============================] - 30s 503us/step - loss: 2.3654e-04 - acc: 0.9999 - val_loss: 0.0595 - val_acc: 0.9919\n",
      "Epoch 133/200\n",
      "60000/60000 [==============================] - 30s 505us/step - loss: 1.3097e-04 - acc: 0.9999 - val_loss: 0.0600 - val_acc: 0.9915\n",
      "Epoch 134/200\n",
      "60000/60000 [==============================] - 30s 508us/step - loss: 1.5610e-04 - acc: 0.9999 - val_loss: 0.0588 - val_acc: 0.9926\n",
      "Epoch 135/200\n",
      "60000/60000 [==============================] - 31s 510us/step - loss: 1.7400e-04 - acc: 1.0000 - val_loss: 0.0635 - val_acc: 0.9915\n",
      "Epoch 136/200\n",
      "60000/60000 [==============================] - 31s 514us/step - loss: 1.1466e-04 - acc: 1.0000 - val_loss: 0.0621 - val_acc: 0.9914\n",
      "Epoch 137/200\n",
      "60000/60000 [==============================] - 31s 515us/step - loss: 9.5137e-05 - acc: 1.0000 - val_loss: 0.0595 - val_acc: 0.9918\n",
      "Epoch 138/200\n",
      "60000/60000 [==============================] - 31s 514us/step - loss: 3.0539e-04 - acc: 0.9999 - val_loss: 0.0673 - val_acc: 0.9908\n",
      "Epoch 139/200\n",
      "60000/60000 [==============================] - 31s 512us/step - loss: 1.4922e-04 - acc: 1.0000 - val_loss: 0.0641 - val_acc: 0.9902\n",
      "Epoch 140/200\n",
      "60000/60000 [==============================] - 31s 519us/step - loss: 6.3579e-05 - acc: 1.0000 - val_loss: 0.0633 - val_acc: 0.9908\n",
      "Epoch 141/200\n",
      "60000/60000 [==============================] - 31s 513us/step - loss: 0.0012 - acc: 0.9997 - val_loss: 0.0696 - val_acc: 0.9904\n",
      "Epoch 142/200\n",
      "60000/60000 [==============================] - 31s 509us/step - loss: 0.0012 - acc: 0.9997 - val_loss: 0.0652 - val_acc: 0.9910\n",
      "Epoch 143/200\n",
      "60000/60000 [==============================] - 31s 510us/step - loss: 0.0019 - acc: 0.9994 - val_loss: 0.0596 - val_acc: 0.9914\n",
      "Epoch 144/200\n",
      "60000/60000 [==============================] - 31s 515us/step - loss: 0.0013 - acc: 0.9996 - val_loss: 0.0686 - val_acc: 0.9911\n",
      "Epoch 145/200\n",
      "60000/60000 [==============================] - 31s 515us/step - loss: 7.8050e-04 - acc: 0.9998 - val_loss: 0.0668 - val_acc: 0.9900\n",
      "Epoch 146/200\n",
      "60000/60000 [==============================] - 31s 513us/step - loss: 5.0162e-04 - acc: 0.9998 - val_loss: 0.0636 - val_acc: 0.9911\n",
      "Epoch 147/200\n",
      "60000/60000 [==============================] - 31s 515us/step - loss: 4.9122e-04 - acc: 0.9999 - val_loss: 0.0644 - val_acc: 0.9916\n",
      "Epoch 148/200\n",
      "60000/60000 [==============================] - 31s 513us/step - loss: 0.0012 - acc: 0.9995 - val_loss: 0.0817 - val_acc: 0.9888\n",
      "Epoch 149/200\n",
      "60000/60000 [==============================] - 31s 514us/step - loss: 0.0069 - acc: 0.9983 - val_loss: 0.0621 - val_acc: 0.9909\n",
      "Epoch 150/200\n",
      "60000/60000 [==============================] - 31s 518us/step - loss: 0.0043 - acc: 0.9988 - val_loss: 0.0653 - val_acc: 0.9903\n",
      "Epoch 151/200\n",
      "60000/60000 [==============================] - 31s 511us/step - loss: 8.6351e-04 - acc: 0.9997 - val_loss: 0.0637 - val_acc: 0.9905\n",
      "Epoch 152/200\n",
      "60000/60000 [==============================] - 31s 514us/step - loss: 6.8833e-04 - acc: 0.9998 - val_loss: 0.0544 - val_acc: 0.9917\n",
      "Epoch 153/200\n",
      "60000/60000 [==============================] - 31s 514us/step - loss: 0.0017 - acc: 0.9995 - val_loss: 0.0668 - val_acc: 0.9901\n",
      "Epoch 154/200\n",
      "60000/60000 [==============================] - 31s 516us/step - loss: 0.0022 - acc: 0.9996 - val_loss: 0.0551 - val_acc: 0.9915\n",
      "Epoch 155/200\n",
      "60000/60000 [==============================] - 31s 516us/step - loss: 7.5270e-04 - acc: 0.9998 - val_loss: 0.0559 - val_acc: 0.9914\n",
      "Epoch 156/200\n",
      "60000/60000 [==============================] - 31s 518us/step - loss: 0.0013 - acc: 0.9996 - val_loss: 0.0562 - val_acc: 0.9910\n",
      "Epoch 157/200\n",
      "60000/60000 [==============================] - 31s 518us/step - loss: 5.3267e-04 - acc: 0.9998 - val_loss: 0.0661 - val_acc: 0.9903\n",
      "Epoch 158/200\n",
      "60000/60000 [==============================] - 31s 515us/step - loss: 5.7457e-04 - acc: 0.9998 - val_loss: 0.0618 - val_acc: 0.9913\n",
      "Epoch 159/200\n",
      "60000/60000 [==============================] - 31s 512us/step - loss: 0.0017 - acc: 0.9996 - val_loss: 0.0791 - val_acc: 0.9880\n",
      "Epoch 160/200\n",
      "60000/60000 [==============================] - 31s 513us/step - loss: 4.6701e-04 - acc: 0.9998 - val_loss: 0.0571 - val_acc: 0.9915\n",
      "Epoch 161/200\n",
      "60000/60000 [==============================] - 31s 517us/step - loss: 0.0010 - acc: 0.9998 - val_loss: 0.0544 - val_acc: 0.9917\n",
      "Epoch 162/200\n",
      "60000/60000 [==============================] - 31s 518us/step - loss: 6.9924e-04 - acc: 0.9998 - val_loss: 0.0665 - val_acc: 0.9909\n",
      "Epoch 163/200\n",
      "60000/60000 [==============================] - 31s 509us/step - loss: 9.4498e-04 - acc: 0.9998 - val_loss: 0.0618 - val_acc: 0.9914\n",
      "Epoch 164/200\n",
      "60000/60000 [==============================] - 31s 513us/step - loss: 0.0014 - acc: 0.9996 - val_loss: 0.0610 - val_acc: 0.9907\n",
      "Epoch 165/200\n",
      "60000/60000 [==============================] - 31s 514us/step - loss: 3.2151e-04 - acc: 0.9999 - val_loss: 0.0600 - val_acc: 0.9918\n",
      "Epoch 166/200\n",
      "60000/60000 [==============================] - 31s 513us/step - loss: 2.9062e-04 - acc: 0.9999 - val_loss: 0.0591 - val_acc: 0.9920\n",
      "Epoch 167/200\n",
      "60000/60000 [==============================] - 31s 514us/step - loss: 1.4157e-04 - acc: 0.9999 - val_loss: 0.0605 - val_acc: 0.9921\n",
      "Epoch 168/200\n",
      "60000/60000 [==============================] - 31s 515us/step - loss: 3.9748e-04 - acc: 0.9999 - val_loss: 0.0563 - val_acc: 0.9921\n",
      "Epoch 169/200\n",
      "60000/60000 [==============================] - 31s 517us/step - loss: 6.3194e-04 - acc: 0.9998 - val_loss: 0.0537 - val_acc: 0.9925\n",
      "Epoch 170/200\n",
      "60000/60000 [==============================] - 31s 518us/step - loss: 3.1421e-04 - acc: 0.9999 - val_loss: 0.0551 - val_acc: 0.9919\n",
      "Epoch 171/200\n",
      "60000/60000 [==============================] - 31s 520us/step - loss: 1.6095e-04 - acc: 0.9999 - val_loss: 0.0565 - val_acc: 0.9917\n",
      "Epoch 172/200\n",
      "60000/60000 [==============================] - 31s 521us/step - loss: 7.9153e-05 - acc: 1.0000 - val_loss: 0.0582 - val_acc: 0.9923\n"
     ]
    },
    {
     "name": "stdout",
     "output_type": "stream",
     "text": [
      "Epoch 173/200\n",
      "60000/60000 [==============================] - 31s 521us/step - loss: 1.1079e-04 - acc: 0.9999 - val_loss: 0.0588 - val_acc: 0.9919\n",
      "Epoch 174/200\n",
      "60000/60000 [==============================] - 31s 523us/step - loss: 0.0013 - acc: 0.9997 - val_loss: 0.0586 - val_acc: 0.9918\n",
      "Epoch 175/200\n",
      "60000/60000 [==============================] - 31s 515us/step - loss: 0.0014 - acc: 0.9996 - val_loss: 0.4404 - val_acc: 0.9496\n",
      "Epoch 176/200\n",
      "60000/60000 [==============================] - 31s 518us/step - loss: 0.0046 - acc: 0.9990 - val_loss: 0.0650 - val_acc: 0.9912\n",
      "Epoch 177/200\n",
      "60000/60000 [==============================] - 31s 518us/step - loss: 0.0015 - acc: 0.9996 - val_loss: 0.0636 - val_acc: 0.9912\n",
      "Epoch 178/200\n",
      "60000/60000 [==============================] - 31s 517us/step - loss: 0.0013 - acc: 0.9996 - val_loss: 0.0656 - val_acc: 0.9912\n",
      "Epoch 179/200\n",
      "60000/60000 [==============================] - 31s 516us/step - loss: 0.0024 - acc: 0.9995 - val_loss: 0.0764 - val_acc: 0.9896\n",
      "Epoch 180/200\n",
      "60000/60000 [==============================] - 31s 520us/step - loss: 0.0019 - acc: 0.9995 - val_loss: 0.0587 - val_acc: 0.9915\n",
      "Epoch 181/200\n",
      "60000/60000 [==============================] - 31s 519us/step - loss: 8.5799e-04 - acc: 0.9998 - val_loss: 0.0601 - val_acc: 0.9918\n",
      "Epoch 182/200\n",
      "60000/60000 [==============================] - 31s 518us/step - loss: 0.0013 - acc: 0.9998 - val_loss: 0.0608 - val_acc: 0.9917\n",
      "Epoch 183/200\n",
      "60000/60000 [==============================] - 31s 521us/step - loss: 8.6858e-04 - acc: 0.9998 - val_loss: 0.0586 - val_acc: 0.9920\n",
      "Epoch 184/200\n",
      "60000/60000 [==============================] - 31s 519us/step - loss: 3.8569e-04 - acc: 0.9999 - val_loss: 0.0640 - val_acc: 0.9913\n",
      "Epoch 185/200\n",
      "60000/60000 [==============================] - 31s 513us/step - loss: 3.7380e-04 - acc: 0.9999 - val_loss: 0.0638 - val_acc: 0.9908\n",
      "Epoch 186/200\n",
      "60000/60000 [==============================] - 31s 513us/step - loss: 5.7972e-04 - acc: 0.9998 - val_loss: 0.0634 - val_acc: 0.9921\n",
      "Epoch 187/200\n",
      "60000/60000 [==============================] - 31s 518us/step - loss: 3.6003e-04 - acc: 0.9998 - val_loss: 0.0612 - val_acc: 0.9919\n",
      "Epoch 188/200\n",
      "60000/60000 [==============================] - 31s 516us/step - loss: 0.0012 - acc: 0.9996 - val_loss: 0.0618 - val_acc: 0.9909\n",
      "Epoch 189/200\n",
      "60000/60000 [==============================] - 31s 515us/step - loss: 0.0014 - acc: 0.9997 - val_loss: 0.0660 - val_acc: 0.9911\n",
      "Epoch 190/200\n",
      "60000/60000 [==============================] - 31s 519us/step - loss: 5.8664e-04 - acc: 0.9998 - val_loss: 0.0615 - val_acc: 0.9919\n",
      "Epoch 191/200\n",
      "60000/60000 [==============================] - 31s 513us/step - loss: 0.0013 - acc: 0.9998 - val_loss: 0.0599 - val_acc: 0.9911\n",
      "Epoch 192/200\n",
      "60000/60000 [==============================] - 31s 516us/step - loss: 2.9381e-04 - acc: 0.9999 - val_loss: 0.0598 - val_acc: 0.9913\n",
      "Epoch 193/200\n",
      "60000/60000 [==============================] - 31s 515us/step - loss: 6.2960e-04 - acc: 0.9998 - val_loss: 0.0697 - val_acc: 0.9906\n",
      "Epoch 194/200\n",
      "60000/60000 [==============================] - 31s 514us/step - loss: 2.3659e-04 - acc: 0.9999 - val_loss: 0.0604 - val_acc: 0.9913\n",
      "Epoch 195/200\n",
      "60000/60000 [==============================] - 31s 511us/step - loss: 1.1555e-04 - acc: 1.0000 - val_loss: 0.0643 - val_acc: 0.9913\n",
      "Epoch 196/200\n",
      "60000/60000 [==============================] - 31s 515us/step - loss: 6.0173e-05 - acc: 1.0000 - val_loss: 0.0607 - val_acc: 0.9919\n",
      "Epoch 197/200\n",
      "60000/60000 [==============================] - 31s 514us/step - loss: 5.0344e-04 - acc: 0.9999 - val_loss: 0.0660 - val_acc: 0.9913\n",
      "Epoch 198/200\n",
      "60000/60000 [==============================] - 31s 513us/step - loss: 4.6424e-04 - acc: 0.9999 - val_loss: 0.0619 - val_acc: 0.9913\n",
      "Epoch 199/200\n",
      "60000/60000 [==============================] - 31s 513us/step - loss: 1.9706e-04 - acc: 1.0000 - val_loss: 0.0575 - val_acc: 0.9921\n",
      "Epoch 200/200\n",
      "60000/60000 [==============================] - 31s 516us/step - loss: 1.9164e-04 - acc: 0.9999 - val_loss: 0.0589 - val_acc: 0.9918\n"
     ]
    }
   ],
   "source": [
    "\n",
    "# Train the Model\n",
    "#earlyStopping=keras.callbacks.EarlyStopping(monitor='val_acc', min_delta=0, patience=13, verbose=1, mode='auto')\n",
    "history = model.fit(x_train, y_train,\n",
    "                    batch_size=batch_size,\n",
    "                    epochs=epochs,\n",
    "                    verbose=1,\n",
    "#                    callbacks=[earlyStopping],\n",
    "                    validation_data=(x_test, y_test))\n",
    "\n"
   ]
  },
  {
   "cell_type": "code",
   "execution_count": null,
   "metadata": {
    "collapsed": true
   },
   "outputs": [],
   "source": []
  },
  {
   "cell_type": "code",
   "execution_count": 11,
   "metadata": {},
   "outputs": [
    {
     "data": {
      "image/png": "[encoded data removed]",
      "text/plain": [
       "<matplotlib.figure.Figure at 0x7f4a4825c3c8>"
      ]
     },
     "metadata": {},
     "output_type": "display_data"
    }
   ],
   "source": [
    "plt.plot(history.history['acc'])\n",
    "plt.plot(history.history['val_acc'])\n",
    "plt.title('model accuracy')\n",
    "plt.ylabel('accuracy')\n",
    "plt.xlabel('epoch')\n",
    "plt.legend(['train acc','val acc'], loc='upper left')\n",
    "plt.show()"
   ]
  },
  {
   "cell_type": "code",
   "execution_count": 12,
   "metadata": {},
   "outputs": [
    {
     "data": {
      "image/png": "[encoded data removed]",
      "text/plain": [
       "<matplotlib.figure.Figure at 0x7f4a4825c8d0>"
      ]
     },
     "metadata": {},
     "output_type": "display_data"
    }
   ],
   "source": [
    "plt.plot(history.history['loss'])\n",
    "plt.plot(history.history['val_loss'])\n",
    "plt.title('model loss')\n",
    "plt.ylabel('loss')\n",
    "plt.xlabel('epoch')\n",
    "plt.legend(['train loss','Val Loss'], loc='upper left')\n",
    "plt.show()"
   ]
  },
  {
   "cell_type": "code",
   "execution_count": 13,
   "metadata": {},
   "outputs": [
    {
     "name": "stdout",
     "output_type": "stream",
     "text": [
      "Test loss: 0.0588802552154\n",
      "Test accuracy: 0.9918\n"
     ]
    }
   ],
   "source": [
    "# Test the model\n",
    "score = model.evaluate(x_test, y_test, verbose=0)\n",
    "print('Test loss:', score[0])\n",
    "print('Test accuracy:', score[1])"
   ]
  },
  {
   "cell_type": "code",
   "execution_count": null,
   "metadata": {
    "collapsed": true
   },
   "outputs": [],
   "source": []
  },
  {
   "cell_type": "code",
   "execution_count": null,
   "metadata": {
    "collapsed": true
   },
   "outputs": [],
   "source": []
  },
  {
   "cell_type": "code",
   "execution_count": 14,
   "metadata": {},
   "outputs": [
    {
     "name": "stdout",
     "output_type": "stream",
     "text": [
      "{'val_loss': [0.10173759820573032, 0.084100043336115773, 0.048843465937220026, 0.055609152854670538, 0.047185995696723694, 0.035697691349469825, 0.046504161109395502, 0.0406070694005728, 0.037878331113580861, 0.070310696540493517, 0.035106826265363995, 0.036464890112542343, 0.038691531760650107, 0.042856675523208286, 0.037535200946382248, 0.033596337697819396, 0.060641409837639368, 0.037883418480197724, 0.036863048612324562, 0.039037304953067904, 0.040806612061765737, 0.058350361374266232, 0.051510360174636116, 0.048302875948264865, 0.048782829733780363, 0.047985618490732213, 0.041062030742525346, 0.043067424056367966, 0.042445941299514837, 0.039838307174450076, 0.045096866009267884, 0.04125536934018173, 0.046963663046083091, 0.04818236297764706, 0.050944088683698464, 0.057025073200756109, 0.045887092227618269, 0.053387860916782666, 0.043619141398722604, 0.055286192940165076, 0.043929652127122062, 0.04733642927331539, 0.045685284162498917, 0.044283583947374271, 0.044582860738804173, 0.043439194193052755, 0.044955328885473475, 0.049317598543354144, 0.044094807226253849, 0.049717889035559799, 0.052716982764459679, 0.046743952927423289, 0.11892372303141319, 0.04954425369711439, 0.052116035789549008, 0.057499366377594743, 0.057337531124956334, 0.051403139779631693, 0.052980022479813031, 0.054667640081326137, 0.055959130247358095, 0.050720644895844907, 0.054980921461329969, 0.047870856150565848, 0.057213115542348029, 0.059570158949898179, 0.053954350443373184, 0.053424638545511792, 0.057034820468769613, 0.052854490959595386, 0.054716861396258809, 0.059245015024560692, 0.055857186748757066, 0.053569231690047854, 0.063696187456436473, 0.055296291439243576, 0.05892286077109693, 0.064738897213378457, 0.057547628227140921, 0.05520403599823176, 0.052290049354812664, 0.054648824523751409, 0.055173814327360834, 0.059157876839385247, 0.070008393022781723, 0.058321404330441966, 0.061027985075586093, 0.051536740470127462, 0.055477019287439859, 0.053451249876678139, 0.053562551192431307, 0.053527902535233124, 0.054813160993332347, 0.054833652077966144, 0.056365283386156713, 0.056982866573259343, 0.054584669817136909, 0.053744384175523463, 0.060712751166097589, 0.059134035668992689, 0.057008869106201294, 0.057428373819253468, 0.058880250775268539, 0.055949878254290888, 0.052324035654157365, 0.060677467944232191, 0.057183243551778014, 0.06199580622395838, 0.072592171988159412, 0.054526827415602386, 0.054595687402627206, 0.054123985781803274, 0.059254852321784894, 0.067162284536559036, 0.05756285636388557, 0.060549569871514816, 0.062502586802732185, 0.058148723931158476, 0.057553334801520258, 0.062504895943977859, 0.063346962955998967, 0.061039019690947223, 0.06321794519258056, 0.067011465525328273, 0.061903385424452333, 0.065198393807977303, 0.062893373020178028, 0.061378828622673881, 0.064468242898980413, 0.057961814527030767, 0.058774812275239036, 0.059543598750346517, 0.060013379884678489, 0.058772121004901694, 0.063460875485267479, 0.062134228675264511, 0.059450889854763225, 0.067294728481047519, 0.064060044414992898, 0.063334634466196527, 0.069613736931461251, 0.065214332299466604, 0.059639969856779405, 0.068571565786420707, 0.066797945818934112, 0.063647339331278821, 0.064443643194501424, 0.081685574771695704, 0.062055777031292295, 0.065324498039760148, 0.063672390744718546, 0.054364504759520149, 0.066778582120708779, 0.055058802101444329, 0.055938274298136546, 0.056225922651161636, 0.066052557308682022, 0.061829905278314348, 0.079148274854078771, 0.057144274073124418, 0.054392941078160582, 0.066527298236739627, 0.061822144495320211, 0.061034747888315997, 0.060040759078162594, 0.059133414282753441, 0.060489854060856121, 0.056339701396025066, 0.053668710119103798, 0.055050405039698942, 0.056518124497925967, 0.058219770870545015, 0.058755655484877115, 0.058568745517613478, 0.44036984326497669, 0.065026853585947994, 0.063582284578727097, 0.065568878838094133, 0.076425489724632284, 0.058681649921355071, 0.060124633776597144, 0.06079673048436416, 0.058621283083758587, 0.064043175564689317, 0.063758471989639021, 0.063393190450755629, 0.061171115988263046, 0.061802106270606325, 0.066015589202899266, 0.061488272735855297, 0.059856231305647455, 0.059759918640747221, 0.069714364851653499, 0.06040263125196816, 0.064271457469426974, 0.060715553376281331, 0.065969370647306819, 0.061853581849858348, 0.05749499629384263, 0.05888025347210514], 'val_acc': [0.96779999999999999, 0.9738, 0.98409999999999997, 0.98260000000000003, 0.98470000000000002, 0.98870000000000002, 0.98729999999999996, 0.98829999999999996, 0.98929999999999996, 0.98089999999999999, 0.98919999999999997, 0.98939999999999995, 0.9899, 0.98850000000000005, 0.98880000000000001, 0.99060000000000004, 0.98460000000000003, 0.99050000000000005, 0.9909, 0.99070000000000003, 0.9899, 0.98599999999999999, 0.98970000000000002, 0.98899999999999999, 0.98909999999999998, 0.98960000000000004, 0.99180000000000001, 0.99029999999999996, 0.99019999999999997, 0.99070000000000003, 0.98970000000000002, 0.9919, 0.99039999999999995, 0.98970000000000002, 0.98999999999999999, 0.98999999999999999, 0.99119999999999997, 0.99029999999999996, 0.99150000000000005, 0.98960000000000004, 0.99150000000000005, 0.9909, 0.99109999999999998, 0.99129999999999996, 0.99160000000000004, 0.99070000000000003, 0.99129999999999996, 0.99029999999999996, 0.99170000000000003, 0.99070000000000003, 0.99080000000000001, 0.99150000000000005, 0.97829999999999995, 0.99050000000000005, 0.99139999999999995, 0.98909999999999998, 0.98980000000000001, 0.99060000000000004, 0.99129999999999996, 0.99050000000000005, 0.9899, 0.99060000000000004, 0.99050000000000005, 0.99199999999999999, 0.98960000000000004, 0.99039999999999995, 0.99129999999999996, 0.99199999999999999, 0.99099999999999999, 0.9919, 0.99119999999999997, 0.99080000000000001, 0.99119999999999997, 0.99109999999999998, 0.9909, 0.99050000000000005, 0.99050000000000005, 0.99070000000000003, 0.99029999999999996, 0.99150000000000005, 0.99139999999999995, 0.99160000000000004, 0.99050000000000005, 0.99050000000000005, 0.98939999999999995, 0.98999999999999999, 0.99060000000000004, 0.99139999999999995, 0.99119999999999997, 0.99260000000000004, 0.99219999999999997, 0.9919, 0.99170000000000003, 0.99119999999999997, 0.9919, 0.99119999999999997, 0.99199999999999999, 0.99160000000000004, 0.99009999999999998, 0.99139999999999995, 0.99170000000000003, 0.99150000000000005, 0.99129999999999996, 0.99109999999999998, 0.99239999999999995, 0.99050000000000005, 0.99170000000000003, 0.99070000000000003, 0.98909999999999998, 0.99170000000000003, 0.99260000000000004, 0.99199999999999999, 0.99129999999999996, 0.9899, 0.99160000000000004, 0.99050000000000005, 0.9909, 0.99180000000000001, 0.99119999999999997, 0.99019999999999997, 0.99099999999999999, 0.99070000000000003, 0.99080000000000001, 0.99060000000000004, 0.99129999999999996, 0.99129999999999996, 0.99170000000000003, 0.99070000000000003, 0.99139999999999995, 0.9919, 0.99180000000000001, 0.9919, 0.99150000000000005, 0.99260000000000004, 0.99150000000000005, 0.99139999999999995, 0.99180000000000001, 0.99080000000000001, 0.99019999999999997, 0.99080000000000001, 0.99039999999999995, 0.99099999999999999, 0.99139999999999995, 0.99109999999999998, 0.98999999999999999, 0.99109999999999998, 0.99160000000000004, 0.98880000000000001, 0.9909, 0.99029999999999996, 0.99050000000000005, 0.99170000000000003, 0.99009999999999998, 0.99150000000000005, 0.99139999999999995, 0.99099999999999999, 0.99029999999999996, 0.99129999999999996, 0.98799999999999999, 0.99150000000000005, 0.99170000000000003, 0.9909, 0.99139999999999995, 0.99070000000000003, 0.99180000000000001, 0.99199999999999999, 0.99209999999999998, 0.99209999999999998, 0.99250000000000005, 0.9919, 0.99170000000000003, 0.99229999999999996, 0.9919, 0.99180000000000001, 0.9496, 0.99119999999999997, 0.99119999999999997, 0.99119999999999997, 0.98960000000000004, 0.99150000000000005, 0.99180000000000001, 0.99170000000000003, 0.99199999999999999, 0.99129999999999996, 0.99080000000000001, 0.99209999999999998, 0.9919, 0.9909, 0.99109999999999998, 0.9919, 0.99109999999999998, 0.99129999999999996, 0.99060000000000004, 0.99129999999999996, 0.99129999999999996, 0.9919, 0.99129999999999996, 0.99129999999999996, 0.99209999999999998, 0.99180000000000001], 'loss': [0.54381018019119898, 0.12760632104426622, 0.090351292373488351, 0.07136269553055366, 0.061651195918209847, 0.049990156113232175, 0.042509971511550247, 0.040100704442740727, 0.033866872804953409, 0.03204014777657576, 0.025997333811227388, 0.024972751924364517, 0.023316511660255491, 0.021636867931244586, 0.019347085465477237, 0.017060726443573367, 0.016041893968956236, 0.015059925413385888, 0.014850176721823906, 0.012197216401193874, 0.011353973707341355, 0.012348526895902615, 0.010526978414903958, 0.0096658305470041037, 0.0071199964810669675, 0.0080369812458275791, 0.0094049590271007514, 0.0066035837128814211, 0.0070900263956034902, 0.0064542282280886862, 0.0086499775000284298, 0.0056108099685208196, 0.0061786240662443257, 0.0064611618542638706, 0.0088252157117526316, 0.0055473232973377281, 0.0043456326852031905, 0.0045458313082492171, 0.0054685244482906761, 0.0045658492843814961, 0.0035292894198207555, 0.0042531525407104405, 0.003590844244196372, 0.0030237313233704298, 0.0028191219867495722, 0.0036545139967481192, 0.0024465898950017466, 0.0023522064208452323, 0.0041806689458972418, 0.0052085746492747907, 0.0050652212261916704, 0.002276416832399218, 0.0034393603022843306, 0.0033386398754630137, 0.0023947714742659854, 0.0028908676081349466, 0.0026406697953712411, 0.0034155397900981978, 0.002364158184358818, 0.0014242102811903047, 0.0021076829275597903, 0.0023936336566538407, 0.003192613412346145, 0.002705319060501794, 0.0037400794275393311, 0.0027384418648200609, 0.0011206422216358382, 0.0012269306776368314, 0.00087208039643569461, 0.0015724264085141991, 0.0013147259564313723, 0.0012443035144637027, 0.002635601274022853, 0.0024757797575214379, 0.0018897887204702177, 0.0041064791046318836, 0.0032058024285256275, 0.0018974112705003941, 0.0028897269352972975, 0.001759632215320183, 0.0010939813663375087, 0.00091878998458895089, 0.0010562110639485429, 0.0012857191920204211, 0.0026535945685426214, 0.0024405389983183493, 0.0015903821984518647, 0.00090655578031210093, 0.0012753084061566066, 0.00089517563160820823, 0.00056482184704565645, 0.00022709581802111341, 0.0010301851993750157, 0.001492896160462836, 0.00042434881042724252, 0.00091035393929426696, 0.00064654955501644812, 0.00049770735924180374, 0.000893853753892472, 0.00045082036613353012, 0.0013999057650469619, 0.0004933361855646429, 0.00027921797391563814, 0.0022930668893158175, 0.0017289228898387137, 0.0021313245278274735, 0.0006666498878973925, 0.0004358655848367107, 0.0020708948727860919, 0.0021917067870588199, 0.00026517106085182908, 0.00061157034281562417, 0.0019184535264027394, 0.0021213862087259257, 0.00074832585579030515, 0.00069058257241775515, 0.00084804328719357419, 0.0010928982668375739, 0.0010985001276439712, 0.00052593304133888524, 0.0011398568237624659, 0.00056715121490427309, 0.00035771652184127256, 0.0012087185030837267, 0.002621577168544506, 0.00056288676503101365, 0.00045367257056938494, 0.00035133595077909378, 0.00033155065234538296, 0.00016811001742785266, 0.0003818920927215307, 0.00023653574553683635, 0.00013097188559953188, 0.00015610059405256227, 0.00017400023307688266, 0.00011465646385900072, 9.513653983682767e-05, 0.00030538927040045868, 0.00014921768644850697, 6.3578643170588599e-05, 0.0011958621732954347, 0.0012364391351946476, 0.0019223696452211243, 0.001349563052855774, 0.00078049506663542165, 0.0005016228272113494, 0.00049121577760644563, 0.0012314645869141866, 0.0068869777181946121, 0.0042629183577289039, 0.00086351340714610762, 0.00068832978997288594, 0.0016885904527066638, 0.0021773544465198635, 0.00075270474405550274, 0.0012861939798349796, 0.00053267189025094314, 0.00057456521248585278, 0.0016877000373898834, 0.00046701177271573518, 0.0010037140974454815, 0.0006992352568985855, 0.00094497506350852138, 0.0013935367034158238, 0.0003215118764018219, 0.00029062122213972542, 0.00014156868857623977, 0.00039747788454365038, 0.00063194434513387326, 0.00031421368564272899, 0.00016094542315187634, 7.9152510082485599e-05, 0.0001107856822813119, 0.0012925467435847015, 0.0014477745703464278, 0.0045835935339076971, 0.0014688633496158521, 0.0013267127163022298, 0.0024350274483053908, 0.0019113118254038455, 0.00085799199597880334, 0.0012632788010166678, 0.00086858462131863233, 0.00038569079838932037, 0.00037379862598957821, 0.00057972097072207969, 0.00036003341110305579, 0.0011925454779825031, 0.0014136768970824504, 0.00058663616464993992, 0.0013051156828298039, 0.0002938114104572378, 0.00062960479578076352, 0.00023659017668208737, 0.0001155452130454402, 6.0173431309961719e-05, 0.00050344491051021879, 0.0004642430131686221, 0.00019705832819464224, 0.00019163793299888614], 'acc': [0.81916666666666671, 0.96221666666666672, 0.97360000000000002, 0.97873333333333334, 0.98255000000000003, 0.98540000000000005, 0.98741666666666672, 0.98786666666666667, 0.99003333333333332, 0.99016666666666664, 0.99201666666666666, 0.99250000000000005, 0.99286666666666668, 0.99334999999999996, 0.99419999999999997, 0.99453333333333338, 0.99491666666666667, 0.99544999999999995, 0.99555000000000005, 0.99621666666666664, 0.99629999999999996, 0.99629999999999996, 0.99656666666666671, 0.99678333333333335, 0.99755000000000005, 0.99765000000000004, 0.99709999999999999, 0.99786666666666668, 0.99781666666666669, 0.99801666666666666, 0.99750000000000005, 0.99808333333333332, 0.99804999999999999, 0.99795, 0.99709999999999999, 0.9982833333333333, 0.99863333333333337, 0.99850000000000005, 0.99808333333333332, 0.99844999999999995, 0.99890000000000001, 0.99875000000000003, 0.99895, 0.99904999999999999, 0.99909999999999999, 0.99878333333333336, 0.99921666666666664, 0.99918333333333331, 0.99881666666666669, 0.99834999999999996, 0.99839999999999995, 0.99921666666666664, 0.99885000000000002, 0.99895, 0.99916666666666665, 0.99896666666666667, 0.99898333333333333, 0.99886666666666668, 0.99904999999999999, 0.99968333333333337, 0.99931666666666663, 0.99923333333333331, 0.99888333333333335, 0.99923333333333331, 0.99886666666666668, 0.99924999999999997, 0.99968333333333337, 0.99965000000000004, 0.9997166666666667, 0.99958333333333338, 0.99953333333333338, 0.99965000000000004, 0.99919999999999998, 0.99929999999999997, 0.99944999999999995, 0.99890000000000001, 0.99916666666666665, 0.99939999999999996, 0.99923333333333331, 0.99944999999999995, 0.99970000000000003, 0.9997166666666667, 0.99961666666666671, 0.99955000000000005, 0.99919999999999998, 0.99919999999999998, 0.99944999999999995, 0.99963333333333337, 0.99965000000000004, 0.99973333333333336, 0.99983333333333335, 0.99996666666666667, 0.99970000000000003, 0.99963333333333337, 0.99986666666666668, 0.99975000000000003, 0.9997166666666667, 0.99983333333333335, 0.99983333333333335, 0.99986666666666668, 0.99961666666666671, 0.99985000000000002, 0.99990000000000001, 0.9993333333333333, 0.99956666666666671, 0.99939999999999996, 0.99981666666666669, 0.99985000000000002, 0.99944999999999995, 0.99946666666666661, 0.99991666666666668, 0.99981666666666669, 0.99931666666666663, 0.9992833333333333, 0.99981666666666669, 0.99976666666666669, 0.99970000000000003, 0.99978333333333336, 0.99963333333333337, 0.99986666666666668, 0.9997166666666667, 0.99981666666666669, 0.99985000000000002, 0.99970000000000003, 0.99924999999999997, 0.99985000000000002, 0.99983333333333335, 0.99988333333333335, 0.99995000000000001, 0.99995000000000001, 0.99986666666666668, 0.99990000000000001, 0.99995000000000001, 0.99995000000000001, 0.99996666666666667, 0.99996666666666667, 1.0, 0.99986666666666668, 0.99998333333333334, 1.0, 0.9997166666666667, 0.9996666666666667, 0.99936666666666663, 0.99958333333333338, 0.99976666666666669, 0.99980000000000002, 0.99990000000000001, 0.99951666666666672, 0.99824999999999997, 0.99880000000000002, 0.9997166666666667, 0.99980000000000002, 0.99953333333333338, 0.99958333333333338, 0.99975000000000003, 0.99958333333333338, 0.99980000000000002, 0.99980000000000002, 0.99955000000000005, 0.99983333333333335, 0.99975000000000003, 0.99978333333333336, 0.99975000000000003, 0.99961666666666671, 0.99988333333333335, 0.99993333333333334, 0.99995000000000001, 0.99988333333333335, 0.99978333333333336, 0.99988333333333335, 0.99995000000000001, 0.99996666666666667, 0.99995000000000001, 0.99968333333333337, 0.99955000000000005, 0.99896666666666667, 0.99955000000000005, 0.99958333333333338, 0.99946666666666661, 0.99948333333333328, 0.99976666666666669, 0.99975000000000003, 0.99976666666666669, 0.99993333333333334, 0.99988333333333335, 0.99981666666666669, 0.99985000000000002, 0.99958333333333338, 0.99968333333333337, 0.99980000000000002, 0.99976666666666669, 0.99990000000000001, 0.99976666666666669, 0.99993333333333334, 0.99998333333333334, 1.0, 0.99990000000000001, 0.99988333333333335, 0.99996666666666667, 0.99991666666666668]}\n"
     ]
    }
   ],
   "source": [
    "print(history.history)"
   ]
  },
  {
   "cell_type": "code",
   "execution_count": null,
   "metadata": {
    "collapsed": true
   },
   "outputs": [],
   "source": []
  },
  {
   "cell_type": "code",
   "execution_count": null,
   "metadata": {
    "collapsed": true
   },
   "outputs": [],
   "source": []
  }
 ],
 "metadata": {
  "kernelspec": {
   "display_name": "Python 3",
   "language": "python",
   "name": "python3"
  },
  "language_info": {
   "codemirror_mode": {
    "name": "ipython",
    "version": 3
   },
   "file_extension": ".py",
   "mimetype": "text/x-python",
   "name": "python",
   "nbconvert_exporter": "python",
   "pygments_lexer": "ipython3",
   "version": "3.6.3"
  }
 },
 "nbformat": 4,
 "nbformat_minor": 2
}
