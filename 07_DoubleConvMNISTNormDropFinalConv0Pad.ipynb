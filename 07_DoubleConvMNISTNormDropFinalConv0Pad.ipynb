{
 "cells": [
  {
   "cell_type": "code",
   "execution_count": 1,
   "metadata": {},
   "outputs": [
    {
     "name": "stderr",
     "output_type": "stream",
     "text": [
      "Using TensorFlow backend.\n"
     ]
    }
   ],
   "source": [
    "import keras\n",
    "import numpy as np\n",
    "from keras.datasets import mnist\n",
    "from keras.optimizers import SGD\n",
    "\n",
    "from keras.models import Sequential\n",
    "from keras.layers import Dense, Dropout, Flatten, Softmax, ZeroPadding2D\n",
    "from keras.layers import Conv2D, MaxPooling2D, BatchNormalization, Reshape, GlobalAveragePooling2D, GlobalAveragePooling1D\n",
    "from keras.optimizers import Adam\n",
    "from keras.initializers import RandomNormal\n",
    "import matplotlib.pyplot as plt\n",
    "\n",
    "import pandas as pd\n",
    "import datetime"
   ]
  },
  {
   "cell_type": "code",
   "execution_count": 2,
   "metadata": {
    "collapsed": true
   },
   "outputs": [],
   "source": [
    "\n",
    "# Hyperparameters\n",
    "batch_size = 64\n",
    "num_classes = 10 #pegar automaticamente NumPy.Unique\n",
    "epochs = 200\n",
    "\n"
   ]
  },
  {
   "cell_type": "code",
   "execution_count": null,
   "metadata": {
    "collapsed": true
   },
   "outputs": [],
   "source": []
  },
  {
   "cell_type": "code",
   "execution_count": 3,
   "metadata": {},
   "outputs": [
    {
     "data": {
      "text/plain": [
       "(60000, 28, 28, 1)"
      ]
     },
     "execution_count": 3,
     "metadata": {},
     "output_type": "execute_result"
    }
   ],
   "source": [
    "# Load Cifar-10 Data\n",
    "(x_train, y_train), (x_test, y_test) = mnist.load_data()\n",
    "\n",
    "#Adicionando Canal do DataSet (Channel do MNIST eh 1)\n",
    "x_train = np.reshape(x_train, (len(x_train),28,28, 1))\n",
    "x_test = np.reshape(x_test, (len(x_test),28,28, 1))\n",
    "\n",
    "\n",
    "#x_train.shape\n",
    "img_height, img_width, channel = x_train.shape[1],x_train.shape[2],x_train.shape[3]\n",
    "#channel=1\n",
    "\n",
    "x_train.shape\n",
    "\n"
   ]
  },
  {
   "cell_type": "code",
   "execution_count": 4,
   "metadata": {},
   "outputs": [
    {
     "data": {
      "text/plain": [
       "(60000, 28, 28, 1)"
      ]
     },
     "execution_count": 4,
     "metadata": {},
     "output_type": "execute_result"
    }
   ],
   "source": [
    "\n",
    "#\n",
    "x_train.shape\n",
    "\n",
    "#\n"
   ]
  },
  {
   "cell_type": "code",
   "execution_count": 5,
   "metadata": {
    "collapsed": true
   },
   "outputs": [],
   "source": [
    "# convert to one hot encoing \n",
    "y_train = keras.utils.to_categorical(y_train, num_classes)\n",
    "y_test = keras.utils.to_categorical(y_test, num_classes)\n",
    "\n"
   ]
  },
  {
   "cell_type": "code",
   "execution_count": 6,
   "metadata": {},
   "outputs": [
    {
     "data": {
      "text/plain": [
       "28"
      ]
     },
     "execution_count": 6,
     "metadata": {},
     "output_type": "execute_result"
    }
   ],
   "source": [
    "img_width"
   ]
  },
  {
   "cell_type": "code",
   "execution_count": 7,
   "metadata": {
    "collapsed": true
   },
   "outputs": [],
   "source": [
    "model = Sequential()\n",
    "\n",
    "#Filters = IMG_width/2 * 7\n",
    "model.add(Conv2D(98, #alterado de 168 para 98\n",
    "                 (5,5), #alterado de 3 para 5 \n",
    "                 strides=(2,2), \n",
    "                 activation='relu', \n",
    "                 padding='same',\n",
    "                 data_format='channels_last',\n",
    "                 use_bias=True, \n",
    "                 kernel_initializer=RandomNormal(mean=0.0, stddev=0.05, seed=None), \n",
    "                 bias_initializer='zeros',\n",
    "                 input_shape=(img_height, img_width, channel)))\n",
    "model.add(MaxPooling2D(pool_size=(2, 2), \n",
    "                       strides=(2,2)))\n",
    "\n",
    "#Normalization:\n",
    "#calculo da quantidade de filtros da normalização:\n",
    "# Width*heigth da saída após a primeira camada de convolução+pooling\n",
    "model.add(Conv2D(49, \n",
    "                 (1,1), \n",
    "                 strides=(1,1), \n",
    "                 activation='relu', \n",
    "                 padding='same',\n",
    "                 kernel_initializer=RandomNormal(mean=0.0, stddev=0.05, seed=None), \n",
    "                 data_format='channels_last'))\n",
    "model.add(Conv2D(49, \n",
    "                 (1,1), \n",
    "                 strides=(1,1), \n",
    "                 activation='relu', \n",
    "                 padding='same',\n",
    "                 kernel_initializer=RandomNormal(mean=0.0, stddev=0.05, seed=None),                  \n",
    "                 data_format='channels_last'))\n",
    "model.add(Dropout(0.5))\n",
    "\n",
    "#Filters = IMG_width/2 * 9\n",
    "model.add(Conv2D(126, \n",
    "                 (5,5), \n",
    "                 strides=(2,2), \n",
    "                 activation='relu', \n",
    "                 padding='same',\n",
    "                 data_format='channels_last',\n",
    "                 use_bias=True, \n",
    "                 kernel_initializer=RandomNormal(mean=0.0, stddev=0.05, seed=None), \n",
    "                 bias_initializer='zeros',\n",
    "                 input_shape=(img_height, img_width, channel)))\n",
    "model.add(MaxPooling2D(pool_size=(2, 2), \n",
    "                       strides=(2,2)))\n",
    "#Normalization:\n",
    "#calculo da quantidade de filtros da normalização:\n",
    "# Width*heigth da saída após a primeira camada de convolução+pooling\n",
    "model.add(Conv2D(49, \n",
    "                 (1,1), \n",
    "                 strides=(1,1), \n",
    "                 activation='relu', \n",
    "                 padding='same',\n",
    "                 kernel_initializer=RandomNormal(mean=0.0, stddev=0.05, seed=None),                  \n",
    "                 data_format='channels_last'))\n",
    "model.add(Conv2D(49, \n",
    "                 (1,1), \n",
    "                 strides=(1,1), \n",
    "                 activation='relu', \n",
    "                 padding='same',\n",
    "                 kernel_initializer=RandomNormal(mean=0.0, stddev=0.05, seed=None),                  \n",
    "                 data_format='channels_last'))\n",
    "model.add(Dropout(0.5))\n",
    "\n",
    "model.add(Conv2D(748, \n",
    "                 (1,1), \n",
    "                 strides=(1,1), \n",
    "                 activation='relu', \n",
    "                 padding='same',\n",
    "                 kernel_initializer=RandomNormal(mean=0.0, stddev=0.05, seed=None),                  \n",
    "                 data_format='channels_last'))\n",
    "model.add(Dropout(0.5))\n",
    "model.add(Conv2D(392, \n",
    "                 (1,1), \n",
    "                 strides=(1,1), \n",
    "                 activation='relu', \n",
    "                 padding='same',\n",
    "                 kernel_initializer=RandomNormal(mean=0.0, stddev=0.05, seed=None),                  \n",
    "                 data_format='channels_last'))\n",
    "model.add(Dropout(0.5))\n",
    "model.add(ZeroPadding2D(padding=(2, 2)))\n",
    "model.add(Flatten())\n",
    "#Num de classes\n",
    "model.add(Dense(10, activation='softmax'))\n"
   ]
  },
  {
   "cell_type": "code",
   "execution_count": 8,
   "metadata": {},
   "outputs": [
    {
     "name": "stdout",
     "output_type": "stream",
     "text": [
      "_________________________________________________________________\n",
      "Layer (type)                 Output Shape              Param #   \n",
      "=================================================================\n",
      "conv2d_1 (Conv2D)            (None, 14, 14, 98)        2548      \n",
      "_________________________________________________________________\n",
      "max_pooling2d_1 (MaxPooling2 (None, 7, 7, 98)          0         \n",
      "_________________________________________________________________\n",
      "conv2d_2 (Conv2D)            (None, 7, 7, 49)          4851      \n",
      "_________________________________________________________________\n",
      "conv2d_3 (Conv2D)            (None, 7, 7, 49)          2450      \n",
      "_________________________________________________________________\n",
      "dropout_1 (Dropout)          (None, 7, 7, 49)          0         \n",
      "_________________________________________________________________\n",
      "conv2d_4 (Conv2D)            (None, 4, 4, 126)         154476    \n",
      "_________________________________________________________________\n",
      "max_pooling2d_2 (MaxPooling2 (None, 2, 2, 126)         0         \n",
      "_________________________________________________________________\n",
      "conv2d_5 (Conv2D)            (None, 2, 2, 49)          6223      \n",
      "_________________________________________________________________\n",
      "conv2d_6 (Conv2D)            (None, 2, 2, 49)          2450      \n",
      "_________________________________________________________________\n",
      "dropout_2 (Dropout)          (None, 2, 2, 49)          0         \n",
      "_________________________________________________________________\n",
      "conv2d_7 (Conv2D)            (None, 2, 2, 748)         37400     \n",
      "_________________________________________________________________\n",
      "dropout_3 (Dropout)          (None, 2, 2, 748)         0         \n",
      "_________________________________________________________________\n",
      "conv2d_8 (Conv2D)            (None, 2, 2, 392)         293608    \n",
      "_________________________________________________________________\n",
      "dropout_4 (Dropout)          (None, 2, 2, 392)         0         \n",
      "_________________________________________________________________\n",
      "zero_padding2d_1 (ZeroPaddin (None, 6, 6, 392)         0         \n",
      "_________________________________________________________________\n",
      "flatten_1 (Flatten)          (None, 14112)             0         \n",
      "_________________________________________________________________\n",
      "dense_1 (Dense)              (None, 10)                141130    \n",
      "=================================================================\n",
      "Total params: 645,136\n",
      "Trainable params: 645,136\n",
      "Non-trainable params: 0\n",
      "_________________________________________________________________\n"
     ]
    }
   ],
   "source": [
    "\n",
    "# print the model summary\n",
    "model.summary()\n",
    "\n"
   ]
  },
  {
   "cell_type": "code",
   "execution_count": 9,
   "metadata": {
    "collapsed": true
   },
   "outputs": [],
   "source": [
    "# determine Loss function and Optimizer\n",
    "model.compile(loss='categorical_crossentropy',\n",
    "              optimizer=SGD(lr=0.01, momentum=0.02, decay=0.0, nesterov=False),\n",
    "              metrics=['accuracy'])\n"
   ]
  },
  {
   "cell_type": "code",
   "execution_count": 10,
   "metadata": {},
   "outputs": [
    {
     "name": "stdout",
     "output_type": "stream",
     "text": [
      "Train on 60000 samples, validate on 10000 samples\n",
      "Epoch 1/200\n",
      "60000/60000 [==============================] - 51s 846us/step - loss: 1.6589 - acc: 0.3917 - val_loss: 0.4065 - val_acc: 0.8884\n",
      "Epoch 2/200\n",
      "60000/60000 [==============================] - 50s 825us/step - loss: 0.4489 - acc: 0.8656 - val_loss: 0.2075 - val_acc: 0.9503\n",
      "Epoch 3/200\n",
      "60000/60000 [==============================] - 50s 826us/step - loss: 0.2935 - acc: 0.9142 - val_loss: 0.1668 - val_acc: 0.9638\n",
      "Epoch 4/200\n",
      "60000/60000 [==============================] - 49s 820us/step - loss: 0.2334 - acc: 0.9326 - val_loss: 0.1561 - val_acc: 0.9666\n",
      "Epoch 5/200\n",
      "60000/60000 [==============================] - 49s 819us/step - loss: 0.1999 - acc: 0.9415 - val_loss: 0.1473 - val_acc: 0.9715\n",
      "Epoch 6/200\n",
      "60000/60000 [==============================] - 49s 823us/step - loss: 0.1781 - acc: 0.9489 - val_loss: 0.1459 - val_acc: 0.9726\n",
      "Epoch 7/200\n",
      "60000/60000 [==============================] - 49s 819us/step - loss: 0.1598 - acc: 0.9526 - val_loss: 0.1435 - val_acc: 0.9747\n",
      "Epoch 8/200\n",
      "60000/60000 [==============================] - 50s 826us/step - loss: 0.1464 - acc: 0.9580 - val_loss: 0.1411 - val_acc: 0.9789\n",
      "Epoch 9/200\n",
      "60000/60000 [==============================] - 49s 823us/step - loss: 0.1382 - acc: 0.9599 - val_loss: 0.1541 - val_acc: 0.9780\n",
      "Epoch 10/200\n",
      "60000/60000 [==============================] - 49s 821us/step - loss: 0.1264 - acc: 0.9634 - val_loss: 0.1266 - val_acc: 0.9815\n",
      "Epoch 11/200\n",
      "60000/60000 [==============================] - 49s 823us/step - loss: 0.1188 - acc: 0.9654 - val_loss: 0.1192 - val_acc: 0.9809\n",
      "Epoch 12/200\n",
      "60000/60000 [==============================] - 49s 820us/step - loss: 0.1138 - acc: 0.9668 - val_loss: 0.1102 - val_acc: 0.9807\n",
      "Epoch 13/200\n",
      "60000/60000 [==============================] - 49s 821us/step - loss: 0.1078 - acc: 0.9682 - val_loss: 0.1015 - val_acc: 0.9837\n",
      "Epoch 14/200\n",
      "60000/60000 [==============================] - 49s 820us/step - loss: 0.1071 - acc: 0.9689 - val_loss: 0.1353 - val_acc: 0.9791\n",
      "Epoch 15/200\n",
      "60000/60000 [==============================] - 49s 820us/step - loss: 0.1017 - acc: 0.9705 - val_loss: 0.1145 - val_acc: 0.9843\n",
      "Epoch 16/200\n",
      "60000/60000 [==============================] - 49s 822us/step - loss: 0.0958 - acc: 0.9720 - val_loss: 0.1055 - val_acc: 0.9845\n",
      "Epoch 17/200\n",
      "60000/60000 [==============================] - 49s 823us/step - loss: 0.0904 - acc: 0.9731 - val_loss: 0.1156 - val_acc: 0.9841\n",
      "Epoch 18/200\n",
      "60000/60000 [==============================] - 50s 827us/step - loss: 0.0907 - acc: 0.9736 - val_loss: 0.1074 - val_acc: 0.9857\n",
      "Epoch 19/200\n",
      "60000/60000 [==============================] - 50s 827us/step - loss: 0.0862 - acc: 0.9747 - val_loss: 0.1302 - val_acc: 0.9827\n",
      "Epoch 20/200\n",
      "60000/60000 [==============================] - 50s 825us/step - loss: 0.0845 - acc: 0.9748 - val_loss: 0.1057 - val_acc: 0.9866\n",
      "Epoch 21/200\n",
      "60000/60000 [==============================] - 50s 826us/step - loss: 0.0808 - acc: 0.9756 - val_loss: 0.1055 - val_acc: 0.9871\n",
      "Epoch 22/200\n",
      "60000/60000 [==============================] - 50s 826us/step - loss: 0.0816 - acc: 0.9763 - val_loss: 0.1127 - val_acc: 0.9860\n",
      "Epoch 23/200\n",
      "60000/60000 [==============================] - 50s 828us/step - loss: 0.0775 - acc: 0.9770 - val_loss: 0.0941 - val_acc: 0.9873\n",
      "Epoch 24/200\n",
      "60000/60000 [==============================] - 49s 824us/step - loss: 0.0750 - acc: 0.9783 - val_loss: 0.1005 - val_acc: 0.9875\n",
      "Epoch 25/200\n",
      "60000/60000 [==============================] - 50s 826us/step - loss: 0.0745 - acc: 0.9774 - val_loss: 0.1021 - val_acc: 0.9867\n",
      "Epoch 26/200\n",
      "60000/60000 [==============================] - 49s 824us/step - loss: 0.0727 - acc: 0.9782 - val_loss: 0.0994 - val_acc: 0.9882\n",
      "Epoch 27/200\n",
      "60000/60000 [==============================] - 49s 824us/step - loss: 0.0703 - acc: 0.9790 - val_loss: 0.1008 - val_acc: 0.9868\n",
      "Epoch 28/200\n",
      "60000/60000 [==============================] - 50s 827us/step - loss: 0.0688 - acc: 0.9795 - val_loss: 0.0921 - val_acc: 0.9883\n",
      "Epoch 29/200\n",
      "60000/60000 [==============================] - 49s 824us/step - loss: 0.0681 - acc: 0.9793 - val_loss: 0.1052 - val_acc: 0.9873\n",
      "Epoch 30/200\n",
      "60000/60000 [==============================] - 49s 825us/step - loss: 0.0642 - acc: 0.9810 - val_loss: 0.0842 - val_acc: 0.9885\n",
      "Epoch 31/200\n",
      "60000/60000 [==============================] - 49s 822us/step - loss: 0.0649 - acc: 0.9806 - val_loss: 0.0907 - val_acc: 0.9881\n",
      "Epoch 32/200\n",
      "60000/60000 [==============================] - 49s 819us/step - loss: 0.0641 - acc: 0.9812 - val_loss: 0.0868 - val_acc: 0.9896\n",
      "Epoch 33/200\n",
      "60000/60000 [==============================] - 49s 818us/step - loss: 0.0626 - acc: 0.9815 - val_loss: 0.0944 - val_acc: 0.9874: 1s - loss: 0.0625 - acc - ETA: 0s - loss: 0.0624 - ac\n",
      "Epoch 34/200\n",
      "60000/60000 [==============================] - 49s 813us/step - loss: 0.0644 - acc: 0.9809 - val_loss: 0.0818 - val_acc: 0.9887\n",
      "Epoch 35/200\n",
      "60000/60000 [==============================] - 49s 821us/step - loss: 0.0610 - acc: 0.9819 - val_loss: 0.1385 - val_acc: 0.9865\n",
      "Epoch 36/200\n",
      "60000/60000 [==============================] - 49s 817us/step - loss: 0.0583 - acc: 0.9824 - val_loss: 0.0915 - val_acc: 0.9880\n",
      "Epoch 37/200\n",
      "60000/60000 [==============================] - 49s 818us/step - loss: 0.0574 - acc: 0.9831 - val_loss: 0.0997 - val_acc: 0.9902\n",
      "Epoch 38/200\n",
      "60000/60000 [==============================] - 49s 822us/step - loss: 0.0563 - acc: 0.9831 - val_loss: 0.0985 - val_acc: 0.9895\n",
      "Epoch 39/200\n",
      "60000/60000 [==============================] - 49s 824us/step - loss: 0.0580 - acc: 0.9822 - val_loss: 0.1105 - val_acc: 0.9884\n",
      "Epoch 40/200\n",
      "60000/60000 [==============================] - 49s 823us/step - loss: 0.0565 - acc: 0.9831 - val_loss: 0.1027 - val_acc: 0.9894\n",
      "Epoch 41/200\n",
      "60000/60000 [==============================] - 49s 816us/step - loss: 0.0537 - acc: 0.9838 - val_loss: 0.0811 - val_acc: 0.9891\n",
      "Epoch 42/200\n",
      "60000/60000 [==============================] - 49s 819us/step - loss: 0.0531 - acc: 0.9836 - val_loss: 0.0923 - val_acc: 0.9882\n",
      "Epoch 43/200\n",
      "60000/60000 [==============================] - 49s 817us/step - loss: 0.0538 - acc: 0.9844 - val_loss: 0.0795 - val_acc: 0.9887\n",
      "Epoch 44/200\n",
      "60000/60000 [==============================] - 49s 819us/step - loss: 0.0521 - acc: 0.9841 - val_loss: 0.0773 - val_acc: 0.9892\n",
      "Epoch 45/200\n",
      "60000/60000 [==============================] - 49s 824us/step - loss: 0.0510 - acc: 0.9845 - val_loss: 0.0884 - val_acc: 0.9889\n",
      "Epoch 46/200\n",
      "60000/60000 [==============================] - 49s 824us/step - loss: 0.0495 - acc: 0.9844 - val_loss: 0.0839 - val_acc: 0.9900\n",
      "Epoch 47/200\n",
      "60000/60000 [==============================] - 49s 824us/step - loss: 0.0504 - acc: 0.9847 - val_loss: 0.0901 - val_acc: 0.9905\n",
      "Epoch 48/200\n",
      "60000/60000 [==============================] - 49s 821us/step - loss: 0.0494 - acc: 0.9847 - val_loss: 0.0824 - val_acc: 0.9887\n",
      "Epoch 49/200\n",
      "60000/60000 [==============================] - 49s 821us/step - loss: 0.0477 - acc: 0.9857 - val_loss: 0.0833 - val_acc: 0.9884\n",
      "Epoch 50/200\n",
      "60000/60000 [==============================] - 49s 820us/step - loss: 0.0485 - acc: 0.9853 - val_loss: 0.0892 - val_acc: 0.9888\n",
      "Epoch 51/200\n",
      "60000/60000 [==============================] - 49s 817us/step - loss: 0.0477 - acc: 0.9855 - val_loss: 0.0885 - val_acc: 0.9898\n",
      "Epoch 52/200\n",
      "60000/60000 [==============================] - 49s 819us/step - loss: 0.0465 - acc: 0.9862 - val_loss: 0.0713 - val_acc: 0.9889\n",
      "Epoch 53/200\n",
      "60000/60000 [==============================] - 50s 826us/step - loss: 0.0440 - acc: 0.9863 - val_loss: 0.0682 - val_acc: 0.9909\n",
      "Epoch 54/200\n",
      "60000/60000 [==============================] - 50s 827us/step - loss: 0.0483 - acc: 0.9857 - val_loss: 0.0763 - val_acc: 0.9892\n",
      "Epoch 55/200\n",
      "60000/60000 [==============================] - 49s 821us/step - loss: 0.0431 - acc: 0.9866 - val_loss: 0.0754 - val_acc: 0.9912\n",
      "Epoch 56/200\n",
      "60000/60000 [==============================] - 49s 822us/step - loss: 0.0457 - acc: 0.9863 - val_loss: 0.0772 - val_acc: 0.9909\n",
      "Epoch 57/200\n",
      "60000/60000 [==============================] - 49s 823us/step - loss: 0.0451 - acc: 0.9862 - val_loss: 0.0781 - val_acc: 0.9893\n",
      "Epoch 58/200\n"
     ]
    },
    {
     "name": "stdout",
     "output_type": "stream",
     "text": [
      "60000/60000 [==============================] - 49s 823us/step - loss: 0.0430 - acc: 0.9872 - val_loss: 0.0730 - val_acc: 0.9909\n",
      "Epoch 59/200\n",
      "60000/60000 [==============================] - 49s 824us/step - loss: 0.0426 - acc: 0.9869 - val_loss: 0.0813 - val_acc: 0.9885\n",
      "Epoch 60/200\n",
      "60000/60000 [==============================] - 49s 824us/step - loss: 0.0434 - acc: 0.9870 - val_loss: 0.0661 - val_acc: 0.9910\n",
      "Epoch 61/200\n",
      "60000/60000 [==============================] - 49s 821us/step - loss: 0.0401 - acc: 0.9875 - val_loss: 0.0762 - val_acc: 0.9896\n",
      "Epoch 62/200\n",
      "60000/60000 [==============================] - 49s 822us/step - loss: 0.0414 - acc: 0.9872 - val_loss: 0.0669 - val_acc: 0.9905\n",
      "Epoch 63/200\n",
      "60000/60000 [==============================] - 50s 825us/step - loss: 0.0415 - acc: 0.9874 - val_loss: 0.0807 - val_acc: 0.9903\n",
      "Epoch 64/200\n",
      "60000/60000 [==============================] - 50s 829us/step - loss: 0.0407 - acc: 0.9876 - val_loss: 0.0873 - val_acc: 0.9843\n",
      "Epoch 65/200\n",
      "60000/60000 [==============================] - 49s 822us/step - loss: 0.0430 - acc: 0.9873 - val_loss: 0.0641 - val_acc: 0.9911\n",
      "Epoch 66/200\n",
      "60000/60000 [==============================] - 49s 824us/step - loss: 0.0420 - acc: 0.9872 - val_loss: 0.0713 - val_acc: 0.9909\n",
      "Epoch 67/200\n",
      "60000/60000 [==============================] - 49s 823us/step - loss: 0.0382 - acc: 0.9882 - val_loss: 0.0724 - val_acc: 0.9907\n",
      "Epoch 68/200\n",
      "60000/60000 [==============================] - 49s 823us/step - loss: 0.0386 - acc: 0.9878 - val_loss: 0.0699 - val_acc: 0.9914\n",
      "Epoch 69/200\n",
      "60000/60000 [==============================] - 49s 820us/step - loss: 0.0410 - acc: 0.9877 - val_loss: 0.0689 - val_acc: 0.9912\n",
      "Epoch 70/200\n",
      "60000/60000 [==============================] - 49s 820us/step - loss: 0.0372 - acc: 0.9885 - val_loss: 0.0652 - val_acc: 0.9891\n",
      "Epoch 71/200\n",
      "60000/60000 [==============================] - 49s 825us/step - loss: 0.0375 - acc: 0.9889 - val_loss: 0.0633 - val_acc: 0.9920\n",
      "Epoch 72/200\n",
      "60000/60000 [==============================] - 49s 824us/step - loss: 0.0370 - acc: 0.9882 - val_loss: 0.0675 - val_acc: 0.9909\n",
      "Epoch 73/200\n",
      "60000/60000 [==============================] - 49s 820us/step - loss: 0.0385 - acc: 0.9879 - val_loss: 0.0649 - val_acc: 0.9907\n",
      "Epoch 74/200\n",
      "60000/60000 [==============================] - 50s 830us/step - loss: 0.0362 - acc: 0.9889 - val_loss: 0.0686 - val_acc: 0.9918\n",
      "Epoch 75/200\n",
      "60000/60000 [==============================] - 50s 828us/step - loss: 0.0378 - acc: 0.9885 - val_loss: 0.0602 - val_acc: 0.9918\n",
      "Epoch 76/200\n",
      "60000/60000 [==============================] - 50s 828us/step - loss: 0.0351 - acc: 0.9893 - val_loss: 0.0669 - val_acc: 0.9897\n",
      "Epoch 77/200\n",
      "60000/60000 [==============================] - 50s 826us/step - loss: 0.0346 - acc: 0.9893 - val_loss: 0.0686 - val_acc: 0.9905\n",
      "Epoch 78/200\n",
      "60000/60000 [==============================] - 49s 821us/step - loss: 0.0362 - acc: 0.9887 - val_loss: 0.0718 - val_acc: 0.9909\n",
      "Epoch 79/200\n",
      "60000/60000 [==============================] - 49s 823us/step - loss: 0.0352 - acc: 0.9892 - val_loss: 0.0788 - val_acc: 0.9878.035\n",
      "Epoch 80/200\n",
      "60000/60000 [==============================] - 49s 818us/step - loss: 0.0337 - acc: 0.9897 - val_loss: 0.0613 - val_acc: 0.9920\n",
      "Epoch 81/200\n",
      "60000/60000 [==============================] - 49s 821us/step - loss: 0.0344 - acc: 0.9894 - val_loss: 0.0609 - val_acc: 0.9912\n",
      "Epoch 82/200\n",
      "60000/60000 [==============================] - 49s 821us/step - loss: 0.0335 - acc: 0.9897 - val_loss: 0.0691 - val_acc: 0.9880\n",
      "Epoch 83/200\n",
      "60000/60000 [==============================] - 49s 822us/step - loss: 0.0340 - acc: 0.9896 - val_loss: 0.0676 - val_acc: 0.9907\n",
      "Epoch 84/200\n",
      "60000/60000 [==============================] - 49s 823us/step - loss: 0.0337 - acc: 0.9896 - val_loss: 0.0627 - val_acc: 0.9905\n",
      "Epoch 85/200\n",
      "60000/60000 [==============================] - 49s 823us/step - loss: 0.0341 - acc: 0.9895 - val_loss: 0.0591 - val_acc: 0.9921\n",
      "Epoch 86/200\n",
      "60000/60000 [==============================] - 49s 822us/step - loss: 0.0325 - acc: 0.9904 - val_loss: 0.0613 - val_acc: 0.9909\n",
      "Epoch 87/200\n",
      "60000/60000 [==============================] - 49s 819us/step - loss: 0.0319 - acc: 0.9903 - val_loss: 0.0598 - val_acc: 0.9919\n",
      "Epoch 88/200\n",
      "60000/60000 [==============================] - 49s 818us/step - loss: 0.0329 - acc: 0.9896 - val_loss: 0.0615 - val_acc: 0.9919\n",
      "Epoch 89/200\n",
      "60000/60000 [==============================] - 49s 817us/step - loss: 0.0327 - acc: 0.9895 - val_loss: 0.0689 - val_acc: 0.9905\n",
      "Epoch 90/200\n",
      "60000/60000 [==============================] - 49s 820us/step - loss: 0.0330 - acc: 0.9896 - val_loss: 0.0664 - val_acc: 0.9907\n",
      "Epoch 91/200\n",
      "60000/60000 [==============================] - 49s 821us/step - loss: 0.0320 - acc: 0.9900 - val_loss: 0.0569 - val_acc: 0.9915\n",
      "Epoch 92/200\n",
      "60000/60000 [==============================] - 49s 823us/step - loss: 0.0319 - acc: 0.9902 - val_loss: 0.0659 - val_acc: 0.9910\n",
      "Epoch 93/200\n",
      "60000/60000 [==============================] - 49s 823us/step - loss: 0.0294 - acc: 0.9905 - val_loss: 0.0591 - val_acc: 0.9902\n",
      "Epoch 94/200\n",
      "60000/60000 [==============================] - 49s 821us/step - loss: 0.0301 - acc: 0.9905 - val_loss: 0.0687 - val_acc: 0.9916\n",
      "Epoch 95/200\n",
      "60000/60000 [==============================] - 49s 820us/step - loss: 0.0313 - acc: 0.9900 - val_loss: 0.0648 - val_acc: 0.9903\n",
      "Epoch 96/200\n",
      "60000/60000 [==============================] - 49s 824us/step - loss: 0.0295 - acc: 0.9908 - val_loss: 0.0645 - val_acc: 0.9904\n",
      "Epoch 97/200\n",
      "60000/60000 [==============================] - 49s 820us/step - loss: 0.0291 - acc: 0.9906 - val_loss: 0.0522 - val_acc: 0.9914\n",
      "Epoch 98/200\n",
      "60000/60000 [==============================] - 49s 822us/step - loss: 0.0294 - acc: 0.9907 - val_loss: 0.0669 - val_acc: 0.9909\n",
      "Epoch 99/200\n",
      "60000/60000 [==============================] - 49s 821us/step - loss: 0.0285 - acc: 0.9910 - val_loss: 0.0630 - val_acc: 0.9901\n",
      "Epoch 100/200\n",
      "60000/60000 [==============================] - 49s 822us/step - loss: 0.0296 - acc: 0.9908 - val_loss: 0.0606 - val_acc: 0.9915\n",
      "Epoch 101/200\n",
      "60000/60000 [==============================] - 49s 818us/step - loss: 0.0268 - acc: 0.9915 - val_loss: 0.0507 - val_acc: 0.9905\n",
      "Epoch 102/200\n",
      "60000/60000 [==============================] - 49s 821us/step - loss: 0.0303 - acc: 0.9906 - val_loss: 0.0598 - val_acc: 0.9910\n",
      "Epoch 103/200\n",
      "60000/60000 [==============================] - 49s 824us/step - loss: 0.0287 - acc: 0.9907 - val_loss: 0.0572 - val_acc: 0.9904\n",
      "Epoch 104/200\n",
      "60000/60000 [==============================] - 49s 820us/step - loss: 0.0267 - acc: 0.9915 - val_loss: 0.0551 - val_acc: 0.9909\n",
      "Epoch 105/200\n",
      "60000/60000 [==============================] - 49s 818us/step - loss: 0.0273 - acc: 0.9914 - val_loss: 0.0616 - val_acc: 0.9899\n",
      "Epoch 106/200\n",
      "60000/60000 [==============================] - 49s 823us/step - loss: 0.0293 - acc: 0.9909 - val_loss: 0.0614 - val_acc: 0.9910\n",
      "Epoch 107/200\n",
      "60000/60000 [==============================] - 49s 821us/step - loss: 0.0278 - acc: 0.9913 - val_loss: 0.0478 - val_acc: 0.9918\n",
      "Epoch 108/200\n",
      "60000/60000 [==============================] - 49s 822us/step - loss: 0.0282 - acc: 0.9912 - val_loss: 0.0544 - val_acc: 0.9907\n",
      "Epoch 109/200\n",
      "60000/60000 [==============================] - 49s 822us/step - loss: 0.0281 - acc: 0.9910 - val_loss: 0.0568 - val_acc: 0.9893\n",
      "Epoch 110/200\n",
      "60000/60000 [==============================] - 50s 833us/step - loss: 0.0262 - acc: 0.9916 - val_loss: 0.0510 - val_acc: 0.9915\n",
      "Epoch 111/200\n",
      "60000/60000 [==============================] - 50s 830us/step - loss: 0.0261 - acc: 0.9918 - val_loss: 0.0522 - val_acc: 0.9896\n",
      "Epoch 112/200\n",
      "60000/60000 [==============================] - 50s 828us/step - loss: 0.0276 - acc: 0.9914 - val_loss: 0.0570 - val_acc: 0.9915\n",
      "Epoch 113/200\n",
      "60000/60000 [==============================] - 50s 832us/step - loss: 0.0258 - acc: 0.9916 - val_loss: 0.0524 - val_acc: 0.9907\n",
      "Epoch 114/200\n",
      "60000/60000 [==============================] - 50s 828us/step - loss: 0.0270 - acc: 0.9911 - val_loss: 0.0530 - val_acc: 0.9913\n",
      "Epoch 115/200\n",
      "60000/60000 [==============================] - 49s 824us/step - loss: 0.0255 - acc: 0.9920 - val_loss: 0.0455 - val_acc: 0.9918\n",
      "Epoch 116/200\n"
     ]
    },
    {
     "name": "stdout",
     "output_type": "stream",
     "text": [
      "60000/60000 [==============================] - 49s 821us/step - loss: 0.0270 - acc: 0.9920 - val_loss: 0.0564 - val_acc: 0.9913\n",
      "Epoch 117/200\n",
      "60000/60000 [==============================] - 49s 821us/step - loss: 0.0273 - acc: 0.9913 - val_loss: 0.0561 - val_acc: 0.9906\n",
      "Epoch 118/200\n",
      "60000/60000 [==============================] - 49s 820us/step - loss: 0.0260 - acc: 0.9919 - val_loss: 0.0574 - val_acc: 0.9920\n",
      "Epoch 119/200\n",
      "60000/60000 [==============================] - 49s 815us/step - loss: 0.0253 - acc: 0.9919 - val_loss: 0.0525 - val_acc: 0.9915\n",
      "Epoch 120/200\n",
      "60000/60000 [==============================] - 50s 829us/step - loss: 0.0258 - acc: 0.9921 - val_loss: 0.0517 - val_acc: 0.9907\n",
      "Epoch 121/200\n",
      "60000/60000 [==============================] - 50s 828us/step - loss: 0.0251 - acc: 0.9920 - val_loss: 0.0454 - val_acc: 0.9926\n",
      "Epoch 122/200\n",
      "60000/60000 [==============================] - 50s 833us/step - loss: 0.0245 - acc: 0.9924 - val_loss: 0.0462 - val_acc: 0.9915\n",
      "Epoch 123/200\n",
      "60000/60000 [==============================] - 49s 823us/step - loss: 0.0263 - acc: 0.9918 - val_loss: 0.0506 - val_acc: 0.9922\n",
      "Epoch 124/200\n",
      "60000/60000 [==============================] - 50s 827us/step - loss: 0.0244 - acc: 0.9922 - val_loss: 0.0548 - val_acc: 0.9918\n",
      "Epoch 125/200\n",
      "60000/60000 [==============================] - 50s 826us/step - loss: 0.0233 - acc: 0.9926 - val_loss: 0.0515 - val_acc: 0.9903\n",
      "Epoch 126/200\n",
      "60000/60000 [==============================] - 50s 828us/step - loss: 0.0247 - acc: 0.9925 - val_loss: 0.0558 - val_acc: 0.9923\n",
      "Epoch 127/200\n",
      "60000/60000 [==============================] - 49s 824us/step - loss: 0.0237 - acc: 0.9925 - val_loss: 0.0536 - val_acc: 0.9904\n",
      "Epoch 128/200\n",
      "60000/60000 [==============================] - 49s 819us/step - loss: 0.0239 - acc: 0.9921 - val_loss: 0.0576 - val_acc: 0.9918\n",
      "Epoch 129/200\n",
      "60000/60000 [==============================] - 49s 824us/step - loss: 0.0236 - acc: 0.9928 - val_loss: 0.0512 - val_acc: 0.9911\n",
      "Epoch 130/200\n",
      "60000/60000 [==============================] - 49s 824us/step - loss: 0.0248 - acc: 0.9921 - val_loss: 0.0528 - val_acc: 0.99102s \n",
      "Epoch 131/200\n",
      "60000/60000 [==============================] - 49s 819us/step - loss: 0.0227 - acc: 0.9929 - val_loss: 0.0495 - val_acc: 0.9909\n",
      "Epoch 132/200\n",
      "60000/60000 [==============================] - 49s 819us/step - loss: 0.0218 - acc: 0.9930 - val_loss: 0.0465 - val_acc: 0.9919\n",
      "Epoch 133/200\n",
      "60000/60000 [==============================] - 49s 817us/step - loss: 0.0220 - acc: 0.9933 - val_loss: 0.0487 - val_acc: 0.9917\n",
      "Epoch 134/200\n",
      "60000/60000 [==============================] - 49s 815us/step - loss: 0.0228 - acc: 0.9929 - val_loss: 0.0591 - val_acc: 0.9904\n",
      "Epoch 135/200\n",
      "60000/60000 [==============================] - 49s 819us/step - loss: 0.0237 - acc: 0.9922 - val_loss: 0.0607 - val_acc: 0.9916\n",
      "Epoch 136/200\n",
      "60000/60000 [==============================] - 49s 819us/step - loss: 0.0241 - acc: 0.9927 - val_loss: 0.0539 - val_acc: 0.9905\n",
      "Epoch 137/200\n",
      "60000/60000 [==============================] - 49s 824us/step - loss: 0.0243 - acc: 0.9923 - val_loss: 0.0515 - val_acc: 0.9925\n",
      "Epoch 138/200\n",
      "60000/60000 [==============================] - 49s 818us/step - loss: 0.0232 - acc: 0.9928 - val_loss: 0.0544 - val_acc: 0.9913\n",
      "Epoch 139/200\n",
      "60000/60000 [==============================] - 49s 818us/step - loss: 0.0231 - acc: 0.9927 - val_loss: 0.0485 - val_acc: 0.9917\n",
      "Epoch 140/200\n",
      "60000/60000 [==============================] - 49s 817us/step - loss: 0.0215 - acc: 0.9931 - val_loss: 0.0427 - val_acc: 0.9921\n",
      "Epoch 141/200\n",
      "60000/60000 [==============================] - 49s 817us/step - loss: 0.0236 - acc: 0.9925 - val_loss: 0.0521 - val_acc: 0.9911\n",
      "Epoch 142/200\n",
      "60000/60000 [==============================] - 49s 820us/step - loss: 0.0225 - acc: 0.9929 - val_loss: 0.0487 - val_acc: 0.9917\n",
      "Epoch 143/200\n",
      "60000/60000 [==============================] - 49s 822us/step - loss: 0.0212 - acc: 0.9931 - val_loss: 0.0459 - val_acc: 0.9918\n",
      "Epoch 144/200\n",
      "60000/60000 [==============================] - 49s 819us/step - loss: 0.0220 - acc: 0.9929 - val_loss: 0.0476 - val_acc: 0.9919\n",
      "Epoch 145/200\n",
      "60000/60000 [==============================] - 49s 817us/step - loss: 0.0225 - acc: 0.9927 - val_loss: 0.0463 - val_acc: 0.9916\n",
      "Epoch 146/200\n",
      "60000/60000 [==============================] - 49s 813us/step - loss: 0.0213 - acc: 0.9932 - val_loss: 0.0482 - val_acc: 0.9921\n",
      "Epoch 147/200\n",
      "60000/60000 [==============================] - 49s 822us/step - loss: 0.0208 - acc: 0.9935 - val_loss: 0.0519 - val_acc: 0.9915\n",
      "Epoch 148/200\n",
      "60000/60000 [==============================] - 49s 820us/step - loss: 0.0215 - acc: 0.9928 - val_loss: 0.0473 - val_acc: 0.9915\n",
      "Epoch 149/200\n",
      "60000/60000 [==============================] - 49s 821us/step - loss: 0.0218 - acc: 0.9932 - val_loss: 0.0582 - val_acc: 0.9904\n",
      "Epoch 150/200\n",
      "60000/60000 [==============================] - 49s 818us/step - loss: 0.0186 - acc: 0.9940 - val_loss: 0.0442 - val_acc: 0.9918\n",
      "Epoch 151/200\n",
      "60000/60000 [==============================] - 49s 816us/step - loss: 0.0207 - acc: 0.9931 - val_loss: 0.0449 - val_acc: 0.9916\n",
      "Epoch 152/200\n",
      "60000/60000 [==============================] - 49s 817us/step - loss: 0.0193 - acc: 0.9940 - val_loss: 0.0383 - val_acc: 0.9920- acc: \n",
      "Epoch 153/200\n",
      "60000/60000 [==============================] - 49s 817us/step - loss: 0.0222 - acc: 0.9931 - val_loss: 0.0393 - val_acc: 0.9911\n",
      "Epoch 154/200\n",
      "60000/60000 [==============================] - 49s 817us/step - loss: 0.0210 - acc: 0.9932 - val_loss: 0.0478 - val_acc: 0.9916\n",
      "Epoch 155/200\n",
      "60000/60000 [==============================] - 49s 817us/step - loss: 0.0216 - acc: 0.9931 - val_loss: 0.0413 - val_acc: 0.9921\n",
      "Epoch 156/200\n",
      "60000/60000 [==============================] - 49s 815us/step - loss: 0.0211 - acc: 0.9933 - val_loss: 0.0531 - val_acc: 0.9895\n",
      "Epoch 157/200\n",
      "60000/60000 [==============================] - 49s 815us/step - loss: 0.0207 - acc: 0.9931 - val_loss: 0.0487 - val_acc: 0.9919\n",
      "Epoch 158/200\n",
      "60000/60000 [==============================] - 49s 814us/step - loss: 0.0187 - acc: 0.9940 - val_loss: 0.0506 - val_acc: 0.9922\n",
      "Epoch 159/200\n",
      "60000/60000 [==============================] - 49s 818us/step - loss: 0.0198 - acc: 0.9936 - val_loss: 0.0425 - val_acc: 0.9920\n",
      "Epoch 160/200\n",
      "60000/60000 [==============================] - 49s 815us/step - loss: 0.0203 - acc: 0.9934 - val_loss: 0.0440 - val_acc: 0.9929\n",
      "Epoch 161/200\n",
      "60000/60000 [==============================] - 49s 815us/step - loss: 0.0198 - acc: 0.9938 - val_loss: 0.0487 - val_acc: 0.9922\n",
      "Epoch 162/200\n",
      "60000/60000 [==============================] - 49s 817us/step - loss: 0.0185 - acc: 0.9941 - val_loss: 0.0482 - val_acc: 0.9921\n",
      "Epoch 163/200\n",
      "60000/60000 [==============================] - 49s 817us/step - loss: 0.0174 - acc: 0.9945 - val_loss: 0.0354 - val_acc: 0.9919\n",
      "Epoch 164/200\n",
      "60000/60000 [==============================] - 49s 818us/step - loss: 0.0188 - acc: 0.9935 - val_loss: 0.0448 - val_acc: 0.9923\n",
      "Epoch 165/200\n",
      "60000/60000 [==============================] - 49s 811us/step - loss: 0.0187 - acc: 0.9941 - val_loss: 0.0454 - val_acc: 0.9907\n",
      "Epoch 166/200\n",
      "60000/60000 [==============================] - 49s 815us/step - loss: 0.0193 - acc: 0.9939 - val_loss: 0.0384 - val_acc: 0.9917\n",
      "Epoch 167/200\n",
      "60000/60000 [==============================] - 49s 821us/step - loss: 0.0190 - acc: 0.9940 - val_loss: 0.0419 - val_acc: 0.9908\n",
      "Epoch 168/200\n",
      "60000/60000 [==============================] - 49s 820us/step - loss: 0.0185 - acc: 0.9943 - val_loss: 0.0421 - val_acc: 0.9927\n",
      "Epoch 169/200\n",
      "60000/60000 [==============================] - 49s 824us/step - loss: 0.0194 - acc: 0.9942 - val_loss: 0.0430 - val_acc: 0.9909\n",
      "Epoch 170/200\n",
      "60000/60000 [==============================] - 49s 817us/step - loss: 0.0176 - acc: 0.9943 - val_loss: 0.0455 - val_acc: 0.9912\n",
      "Epoch 171/200\n",
      "60000/60000 [==============================] - 49s 814us/step - loss: 0.0176 - acc: 0.9944 - val_loss: 0.0436 - val_acc: 0.9920\n",
      "Epoch 172/200\n",
      "60000/60000 [==============================] - 49s 817us/step - loss: 0.0180 - acc: 0.9940 - val_loss: 0.0434 - val_acc: 0.9921\n",
      "Epoch 173/200\n"
     ]
    },
    {
     "name": "stdout",
     "output_type": "stream",
     "text": [
      "60000/60000 [==============================] - 50s 832us/step - loss: 0.0184 - acc: 0.9942 - val_loss: 0.0486 - val_acc: 0.9908\n",
      "Epoch 174/200\n",
      "60000/60000 [==============================] - 49s 825us/step - loss: 0.0181 - acc: 0.9942 - val_loss: 0.0417 - val_acc: 0.9920\n",
      "Epoch 175/200\n",
      "60000/60000 [==============================] - 49s 820us/step - loss: 0.0171 - acc: 0.9945 - val_loss: 0.0445 - val_acc: 0.9914\n",
      "Epoch 176/200\n",
      "60000/60000 [==============================] - 49s 820us/step - loss: 0.0175 - acc: 0.9944 - val_loss: 0.0385 - val_acc: 0.9924\n",
      "Epoch 177/200\n",
      "60000/60000 [==============================] - 49s 819us/step - loss: 0.0184 - acc: 0.9941 - val_loss: 0.0416 - val_acc: 0.9910\n",
      "Epoch 178/200\n",
      "60000/60000 [==============================] - 49s 813us/step - loss: 0.0152 - acc: 0.9951 - val_loss: 0.0352 - val_acc: 0.9919\n",
      "Epoch 179/200\n",
      "60000/60000 [==============================] - 49s 821us/step - loss: 0.0185 - acc: 0.9940 - val_loss: 0.0408 - val_acc: 0.9921\n",
      "Epoch 180/200\n",
      "60000/60000 [==============================] - 49s 816us/step - loss: 0.0182 - acc: 0.9941 - val_loss: 0.0452 - val_acc: 0.9912\n",
      "Epoch 181/200\n",
      "60000/60000 [==============================] - 49s 818us/step - loss: 0.0160 - acc: 0.9949 - val_loss: 0.0386 - val_acc: 0.9924\n",
      "Epoch 182/200\n",
      "60000/60000 [==============================] - 49s 816us/step - loss: 0.0174 - acc: 0.9941 - val_loss: 0.0406 - val_acc: 0.9906\n",
      "Epoch 183/200\n",
      "60000/60000 [==============================] - 49s 825us/step - loss: 0.0189 - acc: 0.9941 - val_loss: 0.0491 - val_acc: 0.9908\n",
      "Epoch 184/200\n",
      "60000/60000 [==============================] - 49s 823us/step - loss: 0.0164 - acc: 0.9946 - val_loss: 0.0401 - val_acc: 0.9919\n",
      "Epoch 185/200\n",
      "60000/60000 [==============================] - 49s 825us/step - loss: 0.0186 - acc: 0.9943 - val_loss: 0.0437 - val_acc: 0.9911\n",
      "Epoch 186/200\n",
      "60000/60000 [==============================] - 50s 827us/step - loss: 0.0169 - acc: 0.9948 - val_loss: 0.0365 - val_acc: 0.9928\n",
      "Epoch 187/200\n",
      "60000/60000 [==============================] - 49s 817us/step - loss: 0.0183 - acc: 0.9945 - val_loss: 0.0403 - val_acc: 0.9915\n",
      "Epoch 188/200\n",
      "60000/60000 [==============================] - 49s 822us/step - loss: 0.0172 - acc: 0.9947 - val_loss: 0.0401 - val_acc: 0.9916\n",
      "Epoch 189/200\n",
      "60000/60000 [==============================] - 49s 816us/step - loss: 0.0182 - acc: 0.9942 - val_loss: 0.0445 - val_acc: 0.9918\n",
      "Epoch 190/200\n",
      "60000/60000 [==============================] - 49s 818us/step - loss: 0.0151 - acc: 0.9953 - val_loss: 0.0378 - val_acc: 0.9924\n",
      "Epoch 191/200\n",
      "60000/60000 [==============================] - 49s 823us/step - loss: 0.0172 - acc: 0.9946 - val_loss: 0.0402 - val_acc: 0.9923\n",
      "Epoch 192/200\n",
      "60000/60000 [==============================] - 49s 814us/step - loss: 0.0154 - acc: 0.9949 - val_loss: 0.0395 - val_acc: 0.9914\n",
      "Epoch 193/200\n",
      "60000/60000 [==============================] - 49s 817us/step - loss: 0.0173 - acc: 0.9946 - val_loss: 0.0363 - val_acc: 0.9918\n",
      "Epoch 194/200\n",
      "60000/60000 [==============================] - 49s 817us/step - loss: 0.0167 - acc: 0.9945 - val_loss: 0.0374 - val_acc: 0.9926\n",
      "Epoch 195/200\n",
      "60000/60000 [==============================] - 49s 817us/step - loss: 0.0178 - acc: 0.9947 - val_loss: 0.0359 - val_acc: 0.9925\n",
      "Epoch 196/200\n",
      "60000/60000 [==============================] - 49s 817us/step - loss: 0.0161 - acc: 0.9951 - val_loss: 0.0357 - val_acc: 0.9920\n",
      "Epoch 197/200\n",
      "60000/60000 [==============================] - 49s 816us/step - loss: 0.0172 - acc: 0.9947 - val_loss: 0.0422 - val_acc: 0.9932\n",
      "Epoch 198/200\n",
      "60000/60000 [==============================] - 49s 818us/step - loss: 0.0175 - acc: 0.9943 - val_loss: 0.0428 - val_acc: 0.9919\n",
      "Epoch 199/200\n",
      "60000/60000 [==============================] - 49s 816us/step - loss: 0.0143 - acc: 0.9953 - val_loss: 0.0346 - val_acc: 0.9924\n",
      "Epoch 200/200\n",
      "60000/60000 [==============================] - 49s 819us/step - loss: 0.0154 - acc: 0.9950 - val_loss: 0.0344 - val_acc: 0.9923\n"
     ]
    }
   ],
   "source": [
    "\n",
    "# Train the Model\n",
    "#earlyStopping=keras.callbacks.EarlyStopping(monitor='val_acc', min_delta=0, patience=13, verbose=1, mode='auto')\n",
    "history = model.fit(x_train, y_train,\n",
    "                    batch_size=batch_size,\n",
    "                    epochs=epochs,\n",
    "                    verbose=1,\n",
    "#                    callbacks=[earlyStopping],\n",
    "                    validation_data=(x_test, y_test))\n",
    "\n"
   ]
  },
  {
   "cell_type": "code",
   "execution_count": null,
   "metadata": {
    "collapsed": true
   },
   "outputs": [],
   "source": []
  },
  {
   "cell_type": "code",
   "execution_count": 11,
   "metadata": {},
   "outputs": [
    {
     "data": {
      "image/png": "[encoded data removed]",
      "text/plain": [
       "<matplotlib.figure.Figure at 0x7f515c4e19b0>"
      ]
     },
     "metadata": {},
     "output_type": "display_data"
    }
   ],
   "source": [
    "plt.plot(history.history['acc'])\n",
    "plt.plot(history.history['val_acc'])\n",
    "plt.title('model accuracy')\n",
    "plt.axis([-5, 205, 0.9, 1.02])\n",
    "plt.ylabel('accuracy')\n",
    "plt.xlabel('epoch')\n",
    "plt.legend(['train acc','val acc'], loc='upper left')\n",
    "plt.show()"
   ]
  },
  {
   "cell_type": "code",
   "execution_count": 12,
   "metadata": {},
   "outputs": [
    {
     "data": {
      "image/png": "[encoded data removed]",
      "text/plain": [
       "<matplotlib.figure.Figure at 0x7f515c50bb00>"
      ]
     },
     "metadata": {},
     "output_type": "display_data"
    }
   ],
   "source": [
    "plt.plot(history.history['loss'])\n",
    "plt.plot(history.history['val_loss'])\n",
    "plt.title('model loss')\n",
    "plt.ylabel('loss')\n",
    "plt.xlabel('epoch')\n",
    "plt.legend(['train loss','Val Loss'], loc='upper left')\n",
    "plt.show()"
   ]
  },
  {
   "cell_type": "code",
   "execution_count": 13,
   "metadata": {},
   "outputs": [
    {
     "name": "stdout",
     "output_type": "stream",
     "text": [
      "Test loss: 0.0343929089479\n",
      "Test accuracy: 0.9923\n"
     ]
    }
   ],
   "source": [
    "# Test the model\n",
    "score = model.evaluate(x_test, y_test, verbose=0)\n",
    "print('Test loss:', score[0])\n",
    "print('Test accuracy:', score[1])"
   ]
  },
  {
   "cell_type": "code",
   "execution_count": null,
   "metadata": {
    "collapsed": true
   },
   "outputs": [],
   "source": []
  },
  {
   "cell_type": "code",
   "execution_count": null,
   "metadata": {
    "collapsed": true
   },
   "outputs": [],
   "source": []
  },
  {
   "cell_type": "code",
   "execution_count": 14,
   "metadata": {},
   "outputs": [
    {
     "name": "stdout",
     "output_type": "stream",
     "text": [
      "{'val_loss': [0.40653614706993102, 0.20750638432502747, 0.16677108265161514, 0.15610301489830017, 0.14734129991531372, 0.14588665314912797, 0.14345645660161971, 0.14110142253041266, 0.1540587404370308, 0.12661819397807123, 0.11919104142785072, 0.11021218736767768, 0.10151773551106454, 0.13527405354976654, 0.11448239855766297, 0.10546509900093079, 0.11562566747665405, 0.10741465398073197, 0.13017371326684951, 0.10571266667246819, 0.10552256331443786, 0.11271991699934006, 0.094139088338613508, 0.10048934707641602, 0.10206901240348816, 0.099443925309181211, 0.10084864805340767, 0.092088146120309827, 0.10521691562533379, 0.084227293211221702, 0.090711918783187864, 0.086798495620489122, 0.09439757826328278, 0.081818796378374095, 0.13849887555837631, 0.091522142839431761, 0.099740176129341121, 0.098492389416694637, 0.11049852622747421, 0.10274960537552834, 0.081077237343788147, 0.092321660345792769, 0.079475770783424382, 0.077305141896009441, 0.088421876150369644, 0.08387534971237183, 0.090136995112895968, 0.082432064491510387, 0.083308473163843155, 0.089208308696746827, 0.088527908182144163, 0.071318166476488115, 0.068212443310022353, 0.076328926700353628, 0.075380976200103755, 0.077230958628654478, 0.078065596038103105, 0.073046284806728368, 0.08133406943082809, 0.066124719852209093, 0.076194345265626906, 0.066873643922805787, 0.080692000377178191, 0.08731850544214248, 0.0640898374080658, 0.071300398677587515, 0.072363476192951207, 0.06991421958804131, 0.068935489237308509, 0.065179287290573124, 0.063279205095767968, 0.067522306543588637, 0.064873773390054706, 0.068558486372232441, 0.060221300971508025, 0.066868403226137157, 0.068582368981838226, 0.071774162769317626, 0.078793681281805042, 0.061322619444131851, 0.060942567002773285, 0.06910967297554016, 0.067634181940555579, 0.062680808740854257, 0.059069336378574373, 0.0612646723151207, 0.059827629023790359, 0.061534389042854312, 0.06885567815303803, 0.066394772583246234, 0.056895106074213983, 0.065916446143388749, 0.05907745619118214, 0.068670301032066339, 0.064769675290584569, 0.064490382927656173, 0.052184896352887152, 0.066858186274766918, 0.062994428232312202, 0.060606603989005088, 0.050710886439681052, 0.059762672305107116, 0.057202259668707844, 0.055052367618680001, 0.061603413158655168, 0.061412255185842514, 0.047821216401457783, 0.054448104852437972, 0.056832153254747393, 0.051021305856108666, 0.052185592007637026, 0.056979185718297957, 0.052392262080311773, 0.052957421725988385, 0.045547023886442183, 0.056419320315122604, 0.056070521554350855, 0.057372011256217957, 0.052478242468833924, 0.051683477666974065, 0.04537421562075615, 0.046191151228547098, 0.050596110326051713, 0.05477421599030495, 0.051494421958923342, 0.055830198681354526, 0.053621835798025132, 0.057558000248670575, 0.051164051932096478, 0.052801917269825936, 0.049471316790580748, 0.04652363229393959, 0.048669179743528364, 0.059124022811651231, 0.060734993928670884, 0.053893966558575632, 0.051528828459978103, 0.054357574933767319, 0.048468526184558866, 0.042673715227842329, 0.052052589938044548, 0.048691477483510971, 0.045908844161033628, 0.047622522544860837, 0.04628913364857435, 0.048199481028318406, 0.051921161264181136, 0.047263916325569151, 0.058240724766254422, 0.044193265077471733, 0.044911218875646593, 0.038255799813568594, 0.039314088618755343, 0.047814519450068475, 0.041273117940127849, 0.053086193007230761, 0.048697062730789185, 0.050575878167152408, 0.042461336129903791, 0.043983015656471253, 0.04865808840692043, 0.048216289982199671, 0.035415585552155973, 0.044827131307125088, 0.045424728846549987, 0.038412491270899775, 0.041912973041832446, 0.042097921094298364, 0.043046786803007123, 0.045524851916730405, 0.043562946847081181, 0.043448296280205252, 0.048615804788470267, 0.041694510281085971, 0.0444663216561079, 0.038453753530979157, 0.041637173753976825, 0.03524666057676077, 0.040758588516712185, 0.045193076980113982, 0.038574257665872573, 0.040577531164884564, 0.049086851838231089, 0.040110643559694292, 0.04372350364625454, 0.036545129619538784, 0.040329902005195616, 0.040143344494700431, 0.044461514982581142, 0.037780788442492483, 0.040170977325737475, 0.039520158265531062, 0.036259867043793199, 0.037438653255999085, 0.03594843569099903, 0.035729407446086409, 0.042206841245293621, 0.042768198561668393, 0.034557733200490472, 0.034392909188568591], 'val_acc': [0.88839999999999997, 0.95030000000000003, 0.96379999999999999, 0.96660000000000001, 0.97150000000000003, 0.97260000000000002, 0.97470000000000001, 0.97889999999999999, 0.97799999999999998, 0.98150000000000004, 0.98089999999999999, 0.98070000000000002, 0.98370000000000002, 0.97909999999999997, 0.98429999999999995, 0.98450000000000004, 0.98409999999999997, 0.98570000000000002, 0.98270000000000002, 0.98660000000000003, 0.98709999999999998, 0.98599999999999999, 0.98729999999999996, 0.98750000000000004, 0.98670000000000002, 0.98819999999999997, 0.98680000000000001, 0.98829999999999996, 0.98729999999999996, 0.98850000000000005, 0.98809999999999998, 0.98960000000000004, 0.98740000000000006, 0.98870000000000002, 0.98650000000000004, 0.98799999999999999, 0.99019999999999997, 0.98950000000000005, 0.98839999999999995, 0.98939999999999995, 0.98909999999999998, 0.98819999999999997, 0.98870000000000002, 0.98919999999999997, 0.9889, 0.98999999999999999, 0.99050000000000005, 0.98870000000000002, 0.98839999999999995, 0.98880000000000001, 0.98980000000000001, 0.9889, 0.9909, 0.98919999999999997, 0.99119999999999997, 0.9909, 0.98929999999999996, 0.9909, 0.98850000000000005, 0.99099999999999999, 0.98960000000000004, 0.99050000000000005, 0.99029999999999996, 0.98429999999999995, 0.99109999999999998, 0.9909, 0.99070000000000003, 0.99139999999999995, 0.99119999999999997, 0.98909999999999998, 0.99199999999999999, 0.9909, 0.99070000000000003, 0.99180000000000001, 0.99180000000000001, 0.98970000000000002, 0.99050000000000005, 0.9909, 0.98780000000000001, 0.99199999999999999, 0.99119999999999997, 0.98799999999999999, 0.99070000000000003, 0.99050000000000005, 0.99209999999999998, 0.9909, 0.9919, 0.9919, 0.99050000000000005, 0.99070000000000003, 0.99150000000000005, 0.99099999999999999, 0.99019999999999997, 0.99160000000000004, 0.99029999999999996, 0.99039999999999995, 0.99139999999999995, 0.9909, 0.99009999999999998, 0.99150000000000005, 0.99050000000000005, 0.99099999999999999, 0.99039999999999995, 0.9909, 0.9899, 0.99099999999999999, 0.99180000000000001, 0.99070000000000003, 0.98929999999999996, 0.99150000000000005, 0.98960000000000004, 0.99150000000000005, 0.99070000000000003, 0.99129999999999996, 0.99180000000000001, 0.99129999999999996, 0.99060000000000004, 0.99199999999999999, 0.99150000000000005, 0.99070000000000003, 0.99260000000000004, 0.99150000000000005, 0.99219999999999997, 0.99180000000000001, 0.99029999999999996, 0.99229999999999996, 0.99039999999999995, 0.99180000000000001, 0.99109999999999998, 0.99099999999999999, 0.9909, 0.9919, 0.99170000000000003, 0.99039999999999995, 0.99160000000000004, 0.99050000000000005, 0.99250000000000005, 0.99129999999999996, 0.99170000000000003, 0.99209999999999998, 0.99109999999999998, 0.99170000000000003, 0.99180000000000001, 0.9919, 0.99160000000000004, 0.99209999999999998, 0.99150000000000005, 0.99150000000000005, 0.99039999999999995, 0.99180000000000001, 0.99160000000000004, 0.99199999999999999, 0.99109999999999998, 0.99160000000000004, 0.99209999999999998, 0.98950000000000005, 0.9919, 0.99219999999999997, 0.99199999999999999, 0.9929, 0.99219999999999997, 0.99209999999999998, 0.9919, 0.99229999999999996, 0.99070000000000003, 0.99170000000000003, 0.99080000000000001, 0.99270000000000003, 0.9909, 0.99119999999999997, 0.99199999999999999, 0.99209999999999998, 0.99080000000000001, 0.99199999999999999, 0.99139999999999995, 0.99239999999999995, 0.99099999999999999, 0.9919, 0.99209999999999998, 0.99119999999999997, 0.99239999999999995, 0.99060000000000004, 0.99080000000000001, 0.9919, 0.99109999999999998, 0.99280000000000002, 0.99150000000000005, 0.99160000000000004, 0.99180000000000001, 0.99239999999999995, 0.99229999999999996, 0.99139999999999995, 0.99180000000000001, 0.99260000000000004, 0.99250000000000005, 0.99199999999999999, 0.99319999999999997, 0.9919, 0.99239999999999995, 0.99229999999999996], 'loss': [1.6588605566660564, 0.4489200054168701, 0.29347043895721436, 0.23342308975458145, 0.19988052900433539, 0.17810749851663907, 0.15975634445846082, 0.14639160146713256, 0.13823611855804921, 0.12642703346113363, 0.11883418441961209, 0.11376118286947409, 0.10776800453811884, 0.10708821557611227, 0.10172398773332438, 0.095819613810628659, 0.090418763664116455, 0.090707399491469068, 0.086160679594427345, 0.084462070224185781, 0.080757204915086422, 0.081613768837352593, 0.077517740317930781, 0.075025917642315226, 0.074463419086237742, 0.072698842208832506, 0.070330835299442215, 0.068789875526012234, 0.068059735997393733, 0.064209060786664482, 0.064926823029294617, 0.064125816955169043, 0.062607795232906938, 0.064380466311424966, 0.060973232626107834, 0.058302148087446888, 0.057361668977389736, 0.056323552516599498, 0.057989666197014351, 0.05653031467969219, 0.053678639543925724, 0.053104022647440435, 0.053756048521151144, 0.052126198539634544, 0.051007238388992848, 0.049505855262403684, 0.050359893056439856, 0.049354490187888345, 0.047716640293474, 0.048499917304950457, 0.047667803325379891, 0.046530853554420173, 0.04404754269272089, 0.048286301840965946, 0.043129699618555603, 0.045680126624926924, 0.045116263538350659, 0.042999811866196495, 0.042573967170218628, 0.043363062027903895, 0.040108630837500096, 0.041386618620964391, 0.04153067935233315, 0.040680399288237093, 0.042982765871969364, 0.042035692569737632, 0.038216073071273664, 0.038622949748424194, 0.040974593083995085, 0.037160215935545665, 0.037500518628706535, 0.03701883061773454, 0.038530160852118085, 0.036166731397776555, 0.037839034920992949, 0.035147853924116741, 0.034586736680846664, 0.036191859148194394, 0.035155457824748007, 0.033718854818337911, 0.034373008691860982, 0.033468710589533053, 0.03404140267306939, 0.033740570167203741, 0.034105237901366006, 0.032470083863971134, 0.031890108171105387, 0.032916650285602859, 0.032667611099096633, 0.033037678038204711, 0.031996048446201408, 0.031887075353134425, 0.029445454250896969, 0.030093618107773362, 0.031278321272507313, 0.029494561892064911, 0.029074370981535563, 0.02940177195078383, 0.028522716790235911, 0.029575703869775559, 0.026783058979967609, 0.030293612055185562, 0.028685121626445712, 0.026717381263477728, 0.027345180654215318, 0.029326215868629515, 0.027797947979082045, 0.028183689037788038, 0.028093977093013624, 0.026217811296538759, 0.026080395238334313, 0.02763487675761183, 0.025760797216013695, 0.026995412032182017, 0.025463564110454171, 0.026965103156336892, 0.027286377027320365, 0.026038472159967449, 0.025340317320482184, 0.025794039774841317, 0.025116333940772652, 0.024507719051931054, 0.026314016945706679, 0.024410420406935737, 0.02326331208497286, 0.024701115218084307, 0.02370310526569374, 0.023871817658399231, 0.023606518025882543, 0.024820691146771424, 0.022749055168513829, 0.021822339405398815, 0.021970790296955964, 0.022844977965004121, 0.023665342807785296, 0.024057646664387235, 0.02433260290042575, 0.023197920502908528, 0.023082600648809844, 0.021489796477230264, 0.023579834331703992, 0.022544844568970924, 0.021202848224799769, 0.022010946243147676, 0.022501357993017883, 0.021294056070751199, 0.020833617175669256, 0.021463388936159511, 0.021830995707578647, 0.018617525286662082, 0.020730024822405539, 0.019346719252845892, 0.022173947124353919, 0.020954940771086453, 0.021625909531489015, 0.02107802855630871, 0.020651075826158438, 0.018728994969953783, 0.019842441730317659, 0.020349269208203381, 0.019759301602467895, 0.018478530313489804, 0.017376244063863122, 0.018823719331373771, 0.018675663164025174, 0.019257908189832234, 0.019044176276035916, 0.01847162380432904, 0.019441492279098992, 0.017567676328533951, 0.017631634481138705, 0.017956686378836944, 0.018368539919440326, 0.018069512303600398, 0.017136831447171669, 0.017460879963814901, 0.018354607163358013, 0.015231963307914945, 0.018461468248385546, 0.018229335937059173, 0.016039407133450732, 0.017437766854115761, 0.018939550621644593, 0.016388528959480269, 0.018599005490712202, 0.016854026829001185, 0.018312873727665283, 0.017212201490292015, 0.018173341703554616, 0.015120041974804675, 0.017192568020274242, 0.015420283083349933, 0.017284361338506762, 0.016733721190628905, 0.01779916339897706, 0.016123016552962752, 0.017170261130447034, 0.017474368507236552, 0.014288135708992679, 0.015392389331304003], 'acc': [0.39166666666666666, 0.86556666666666671, 0.91420000000000001, 0.93264999999999998, 0.94148333333333334, 0.94886666666666664, 0.9526, 0.9579833333333333, 0.95994999999999997, 0.96335000000000004, 0.96540000000000004, 0.96683333333333332, 0.96823333333333328, 0.96891666666666665, 0.97051666666666669, 0.97201666666666664, 0.97311666666666663, 0.97358333333333336, 0.97465000000000002, 0.9748, 0.97556666666666669, 0.97633333333333339, 0.97704999999999997, 0.97828333333333328, 0.97740000000000005, 0.97824999999999995, 0.97896666666666665, 0.97950000000000004, 0.97931666666666661, 0.98103333333333331, 0.98060000000000003, 0.98119999999999996, 0.98150000000000004, 0.98088333333333333, 0.98188333333333333, 0.98240000000000005, 0.98308333333333331, 0.98314999999999997, 0.98224999999999996, 0.98309999999999997, 0.98380000000000001, 0.98360000000000003, 0.98438333333333339, 0.9841333333333333, 0.98450000000000004, 0.98445000000000005, 0.98468333333333335, 0.98465000000000003, 0.98565000000000003, 0.98526666666666662, 0.98546666666666671, 0.98616666666666664, 0.98631666666666662, 0.98570000000000002, 0.9866166666666667, 0.98633333333333328, 0.9862333333333333, 0.9871833333333333, 0.98693333333333333, 0.98699999999999999, 0.98746666666666671, 0.98716666666666664, 0.98743333333333339, 0.98763333333333336, 0.98728333333333329, 0.98716666666666664, 0.9882333333333333, 0.98778333333333335, 0.98771666666666669, 0.98853333333333337, 0.98886666666666667, 0.9882333333333333, 0.98793333333333333, 0.98891666666666667, 0.98846666666666672, 0.98931666666666662, 0.98929999999999996, 0.98866666666666669, 0.98916666666666664, 0.98973333333333335, 0.98936666666666662, 0.98970000000000002, 0.98956666666666671, 0.98955000000000004, 0.98948333333333338, 0.99038333333333328, 0.99024999999999996, 0.98960000000000004, 0.98950000000000005, 0.98956666666666671, 0.99003333333333332, 0.99021666666666663, 0.99050000000000005, 0.99053333333333338, 0.99001666666666666, 0.99080000000000001, 0.99058333333333337, 0.99068333333333336, 0.99103333333333332, 0.99078333333333335, 0.99153333333333338, 0.99058333333333337, 0.99070000000000003, 0.99148333333333338, 0.99139999999999995, 0.99086666666666667, 0.99128333333333329, 0.99119999999999997, 0.99101666666666666, 0.99160000000000004, 0.99176666666666669, 0.99138333333333328, 0.99158333333333337, 0.99104999999999999, 0.99198333333333333, 0.99201666666666666, 0.99131666666666662, 0.99186666666666667, 0.99195, 0.99211666666666665, 0.99199999999999999, 0.99238333333333328, 0.99176666666666669, 0.99224999999999997, 0.9926166666666667, 0.99255000000000004, 0.99246666666666672, 0.99214999999999998, 0.99276666666666669, 0.99208333333333332, 0.99295, 0.99296666666666666, 0.99331666666666663, 0.99288333333333334, 0.99221666666666664, 0.99275000000000002, 0.99234999999999995, 0.99276666666666669, 0.9926666666666667, 0.99311666666666665, 0.99250000000000005, 0.99295, 0.99314999999999998, 0.9929, 0.99273333333333336, 0.99316666666666664, 0.99346666666666672, 0.99283333333333335, 0.99318333333333331, 0.99404999999999999, 0.99311666666666665, 0.99395, 0.99308333333333332, 0.99321666666666664, 0.99313333333333331, 0.9932833333333333, 0.99314999999999998, 0.99399999999999999, 0.99363333333333337, 0.99338333333333328, 0.99375000000000002, 0.99408333333333332, 0.99451666666666672, 0.99346666666666672, 0.99408333333333332, 0.99388333333333334, 0.99404999999999999, 0.99429999999999996, 0.99416666666666664, 0.99429999999999996, 0.99436666666666662, 0.99404999999999999, 0.99421666666666664, 0.9942333333333333, 0.99455000000000005, 0.99439999999999995, 0.99411666666666665, 0.99506666666666665, 0.99403333333333332, 0.99406666666666665, 0.99491666666666667, 0.99413333333333331, 0.99414999999999998, 0.99460000000000004, 0.99433333333333329, 0.99475000000000002, 0.99453333333333338, 0.9946666666666667, 0.9942333333333333, 0.99529999999999996, 0.99463333333333337, 0.99488333333333334, 0.9946166666666667, 0.99450000000000005, 0.9946666666666667, 0.99509999999999998, 0.99468333333333336, 0.99426666666666663, 0.99533333333333329, 0.99498333333333333]}\n"
     ]
    }
   ],
   "source": [
    "print(history.history)"
   ]
  },
  {
   "cell_type": "code",
   "execution_count": 15,
   "metadata": {
    "collapsed": true
   },
   "outputs": [],
   "source": [
    "\n",
    "data = pd.DataFrame(history.history)\n",
    "nome = 'DoubleConvMNISTNormDropFinalConv0Pad_t3' + str(datetime.datetime.now())+'.json'\n",
    "data = data.to_json()\n",
    "with open(nome, \"w+\") as output_file:\n",
    "    output_file.write(data)"
   ]
  },
  {
   "cell_type": "code",
   "execution_count": null,
   "metadata": {
    "collapsed": true
   },
   "outputs": [],
   "source": []
  },
  {
   "cell_type": "code",
   "execution_count": null,
   "metadata": {
    "collapsed": true
   },
   "outputs": [],
   "source": []
  }
 ],
 "metadata": {
  "kernelspec": {
   "display_name": "Python 3",
   "language": "python",
   "name": "python3"
  },
  "language_info": {
   "codemirror_mode": {
    "name": "ipython",
    "version": 3
   },
   "file_extension": ".py",
   "mimetype": "text/x-python",
   "name": "python",
   "nbconvert_exporter": "python",
   "pygments_lexer": "ipython3",
   "version": "3.6.3"
  }
 },
 "nbformat": 4,
 "nbformat_minor": 2
}
