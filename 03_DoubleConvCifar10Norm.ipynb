{
 "cells": [
  {
   "cell_type": "code",
   "execution_count": 1,
   "metadata": {},
   "outputs": [
    {
     "name": "stderr",
     "output_type": "stream",
     "text": [
      "Using TensorFlow backend.\n"
     ]
    }
   ],
   "source": [
    "import keras\n",
    "import numpy as np\n",
    "from tflearn.datasets import cifar10\n",
    "from keras.optimizers import SGD\n",
    "from keras.models import Sequential\n",
    "from keras.layers import Dense, Dropout, Flatten, Softmax\n",
    "from keras.layers import Conv2D, MaxPooling2D, BatchNormalization, Reshape, GlobalAveragePooling2D, GlobalAveragePooling1D\n",
    "from keras.optimizers import Adam\n",
    "from keras.initializers import RandomNormal\n",
    "import matplotlib.pyplot as plt\n",
    "import pandas as pd\n",
    "import datetime"
   ]
  },
  {
   "cell_type": "code",
   "execution_count": 2,
   "metadata": {
    "collapsed": true
   },
   "outputs": [],
   "source": [
    "\n",
    "# Hyperparameters\n",
    "batch_size = 64\n",
    "num_classes = 10 #pegar automaticamente NumPy.Unique\n",
    "epochs = 200\n",
    "\n"
   ]
  },
  {
   "cell_type": "code",
   "execution_count": null,
   "metadata": {
    "collapsed": true
   },
   "outputs": [],
   "source": []
  },
  {
   "cell_type": "code",
   "execution_count": 3,
   "metadata": {
    "collapsed": true
   },
   "outputs": [],
   "source": [
    "# Load Cifar-10 Data\n",
    "(x_train, y_train), (x_test, y_test) = cifar10.load_data()\n",
    "\n",
    "\n",
    "#\n",
    "\n",
    "x_train.shape\n",
    "img_height, img_width, channel = x_train.shape[1],x_train.shape[2],x_train.shape[3]\n",
    "#channel=1\n",
    "\n"
   ]
  },
  {
   "cell_type": "code",
   "execution_count": 4,
   "metadata": {},
   "outputs": [
    {
     "data": {
      "text/plain": [
       "(50000, 32, 32, 3)"
      ]
     },
     "execution_count": 4,
     "metadata": {},
     "output_type": "execute_result"
    }
   ],
   "source": [
    "\n",
    "#\n",
    "x_train.shape\n",
    "\n",
    "#\n"
   ]
  },
  {
   "cell_type": "code",
   "execution_count": 5,
   "metadata": {
    "collapsed": true
   },
   "outputs": [],
   "source": [
    "# convert to one hot encoing \n",
    "y_train = keras.utils.to_categorical(y_train, num_classes)\n",
    "y_test = keras.utils.to_categorical(y_test, num_classes)\n",
    "\n"
   ]
  },
  {
   "cell_type": "code",
   "execution_count": 6,
   "metadata": {},
   "outputs": [
    {
     "data": {
      "text/plain": [
       "32"
      ]
     },
     "execution_count": 6,
     "metadata": {},
     "output_type": "execute_result"
    }
   ],
   "source": [
    "img_width"
   ]
  },
  {
   "cell_type": "code",
   "execution_count": 7,
   "metadata": {
    "collapsed": true
   },
   "outputs": [],
   "source": [
    "model = Sequential()\n",
    "#Filters = IMG_width/2 * 7\n",
    "model.add(Conv2D(112, #alterado de 192 pra 112\n",
    "                 (5,5), #alterado de 3 para 5 \n",
    "                 strides=(2,2), \n",
    "                 activation='relu', \n",
    "                 padding='same',\n",
    "                 data_format='channels_last',\n",
    "                 use_bias=True, \n",
    "                 kernel_initializer=RandomNormal(mean=0.0, stddev=0.05, seed=None), \n",
    "                 bias_initializer='zeros',\n",
    "                 input_shape=(img_height, img_width, channel)))\n",
    "model.add(MaxPooling2D(pool_size=(2, 2), \n",
    "                       strides=(2,2)))\n",
    "#model.add(BatchNormalization())\n",
    "#calculo da quantidade de filtros da normalização:\n",
    "# Width*heigth da saída após a primeira camada de convolução+pooling\n",
    "######### RESIZED ###########\n",
    "model.add(Conv2D(96, \n",
    "                 (1,1),  \n",
    "                 strides=(1,1), \n",
    "                 activation='relu', \n",
    "                 padding='same',\n",
    "                 kernel_initializer=RandomNormal(mean=0.0, stddev=0.05, seed=None), \n",
    "                 data_format='channels_last'))\n",
    "######### RESIZED ###########\n",
    "\n",
    "model.add(Conv2D(96, \n",
    "                 (1,1),  \n",
    "                 strides=(1,1), \n",
    "                 activation='relu', \n",
    "                 padding='same',\n",
    "                 kernel_initializer=RandomNormal(mean=0.0, stddev=0.05, seed=None), \n",
    "                 data_format='channels_last'))\n",
    "\n",
    "\n",
    "          \n",
    "#Filters = IMG_width/2 * 9\n",
    "model.add(Conv2D(144, #alterado de 128 para 144\n",
    "                 (5,5), \n",
    "                 strides=(2,2), \n",
    "                 activation='relu', \n",
    "                 padding='same',\n",
    "                 data_format='channels_last',\n",
    "                 use_bias=True, \n",
    "                 kernel_initializer=RandomNormal(mean=0.0, stddev=0.05, seed=None), \n",
    "                 bias_initializer='zeros',\n",
    "                 input_shape=(img_height, img_width, channel)))\n",
    "model.add(MaxPooling2D(pool_size=(2, 2), \n",
    "                       strides=(2,2)))\n",
    "#model.add(BatchNormalization())\n",
    "######### RESIZED ###########\n",
    "model.add(Conv2D(96, \n",
    "                 (1,1),  \n",
    "                 strides=(1,1), \n",
    "                 activation='relu', \n",
    "                 padding='same',\n",
    "                 kernel_initializer=RandomNormal(mean=0.0, stddev=0.05, seed=None), \n",
    "                 data_format='channels_last'))\n",
    "######### RESIZED ###########\n",
    "\n",
    "model.add(Conv2D(96, \n",
    "                 (1,1),  \n",
    "                 strides=(1,1), \n",
    "                 activation='relu', \n",
    "                 padding='same',\n",
    "                 kernel_initializer=RandomNormal(mean=0.0, stddev=0.05, seed=None), \n",
    "                 data_format='channels_last'))\n",
    "\n",
    "\n",
    "          \n",
    "          \n",
    "model.add(Flatten())\n",
    "#IMG_width^ 2\n",
    "model.add(Dense(1024, activation='relu'))\n",
    "model.add(Dropout(0.5))\n",
    "\n",
    "#camada anterior/2\n",
    "model.add(Dense(512, activation='relu'))\n",
    "model.add(Dropout(0.5))\n",
    "\n",
    "#Num de classes\n",
    "model.add(Dense(10, activation='softmax'))\n"
   ]
  },
  {
   "cell_type": "code",
   "execution_count": 8,
   "metadata": {},
   "outputs": [
    {
     "name": "stdout",
     "output_type": "stream",
     "text": [
      "_________________________________________________________________\n",
      "Layer (type)                 Output Shape              Param #   \n",
      "=================================================================\n",
      "conv2d_1 (Conv2D)            (None, 16, 16, 112)       8512      \n",
      "_________________________________________________________________\n",
      "max_pooling2d_1 (MaxPooling2 (None, 8, 8, 112)         0         \n",
      "_________________________________________________________________\n",
      "conv2d_2 (Conv2D)            (None, 8, 8, 96)          10848     \n",
      "_________________________________________________________________\n",
      "conv2d_3 (Conv2D)            (None, 8, 8, 96)          9312      \n",
      "_________________________________________________________________\n",
      "conv2d_4 (Conv2D)            (None, 4, 4, 144)         345744    \n",
      "_________________________________________________________________\n",
      "max_pooling2d_2 (MaxPooling2 (None, 2, 2, 144)         0         \n",
      "_________________________________________________________________\n",
      "conv2d_5 (Conv2D)            (None, 2, 2, 96)          13920     \n",
      "_________________________________________________________________\n",
      "conv2d_6 (Conv2D)            (None, 2, 2, 96)          9312      \n",
      "_________________________________________________________________\n",
      "flatten_1 (Flatten)          (None, 384)               0         \n",
      "_________________________________________________________________\n",
      "dense_1 (Dense)              (None, 1024)              394240    \n",
      "_________________________________________________________________\n",
      "dropout_1 (Dropout)          (None, 1024)              0         \n",
      "_________________________________________________________________\n",
      "dense_2 (Dense)              (None, 512)               524800    \n",
      "_________________________________________________________________\n",
      "dropout_2 (Dropout)          (None, 512)               0         \n",
      "_________________________________________________________________\n",
      "dense_3 (Dense)              (None, 10)                5130      \n",
      "=================================================================\n",
      "Total params: 1,321,818\n",
      "Trainable params: 1,321,818\n",
      "Non-trainable params: 0\n",
      "_________________________________________________________________\n"
     ]
    }
   ],
   "source": [
    "\n",
    "# print the model summary\n",
    "model.summary()\n",
    "\n"
   ]
  },
  {
   "cell_type": "code",
   "execution_count": 9,
   "metadata": {
    "collapsed": true
   },
   "outputs": [],
   "source": [
    "# determine Loss function and Optimizer\n",
    "model.compile(loss='categorical_crossentropy', #alterado de logcosh\n",
    "              optimizer=SGD(lr=0.01, momentum=0.01, decay=0.0, nesterov=False),\n",
    "              metrics=['accuracy'])\n"
   ]
  },
  {
   "cell_type": "code",
   "execution_count": 10,
   "metadata": {
    "scrolled": false
   },
   "outputs": [
    {
     "name": "stdout",
     "output_type": "stream",
     "text": [
      "Train on 50000 samples, validate on 10000 samples\n",
      "Epoch 1/200\n",
      "50000/50000 [==============================] - 48s 954us/step - loss: 2.3015 - acc: 0.1188 - val_loss: 2.2996 - val_acc: 0.1871\n",
      "Epoch 2/200\n",
      "50000/50000 [==============================] - 47s 941us/step - loss: 2.2972 - acc: 0.1549 - val_loss: 2.2912 - val_acc: 0.2433\n",
      "Epoch 3/200\n",
      "50000/50000 [==============================] - 47s 939us/step - loss: 2.2763 - acc: 0.1862 - val_loss: 2.2314 - val_acc: 0.2120\n",
      "Epoch 4/200\n",
      "50000/50000 [==============================] - 47s 937us/step - loss: 2.1396 - acc: 0.2056 - val_loss: 2.0399 - val_acc: 0.2515\n",
      "Epoch 5/200\n",
      "50000/50000 [==============================] - 47s 938us/step - loss: 2.0397 - acc: 0.2339 - val_loss: 2.0163 - val_acc: 0.2482\n",
      "Epoch 6/200\n",
      "50000/50000 [==============================] - 47s 948us/step - loss: 1.9850 - acc: 0.2595 - val_loss: 2.0785 - val_acc: 0.2325\n",
      "Epoch 7/200\n",
      "50000/50000 [==============================] - 47s 941us/step - loss: 1.9186 - acc: 0.2873 - val_loss: 1.8315 - val_acc: 0.3282\n",
      "Epoch 8/200\n",
      "50000/50000 [==============================] - 47s 939us/step - loss: 1.8146 - acc: 0.3323 - val_loss: 1.6974 - val_acc: 0.3847\n",
      "Epoch 9/200\n",
      "50000/50000 [==============================] - 47s 937us/step - loss: 1.7175 - acc: 0.3662 - val_loss: 1.8310 - val_acc: 0.3334\n",
      "Epoch 10/200\n",
      "50000/50000 [==============================] - 47s 941us/step - loss: 1.6539 - acc: 0.3899 - val_loss: 1.5896 - val_acc: 0.4168\n",
      "Epoch 11/200\n",
      "50000/50000 [==============================] - 47s 939us/step - loss: 1.5986 - acc: 0.4100 - val_loss: 1.4941 - val_acc: 0.4536\n",
      "Epoch 12/200\n",
      "50000/50000 [==============================] - 47s 942us/step - loss: 1.5555 - acc: 0.4274 - val_loss: 1.4687 - val_acc: 0.4614\n",
      "Epoch 13/200\n",
      "50000/50000 [==============================] - 47s 942us/step - loss: 1.5156 - acc: 0.4434 - val_loss: 1.4530 - val_acc: 0.4719\n",
      "Epoch 14/200\n",
      "50000/50000 [==============================] - 47s 945us/step - loss: 1.4843 - acc: 0.4587 - val_loss: 1.5092 - val_acc: 0.4494\n",
      "Epoch 15/200\n",
      "50000/50000 [==============================] - 47s 941us/step - loss: 1.4534 - acc: 0.4701 - val_loss: 1.4160 - val_acc: 0.4849\n",
      "Epoch 16/200\n",
      "50000/50000 [==============================] - 47s 947us/step - loss: 1.4239 - acc: 0.4814 - val_loss: 1.4158 - val_acc: 0.4900\n",
      "Epoch 17/200\n",
      "50000/50000 [==============================] - 47s 946us/step - loss: 1.3967 - acc: 0.4936 - val_loss: 1.4303 - val_acc: 0.4821\n",
      "Epoch 18/200\n",
      "50000/50000 [==============================] - 47s 942us/step - loss: 1.3713 - acc: 0.5018 - val_loss: 1.4402 - val_acc: 0.4775\n",
      "Epoch 19/200\n",
      "50000/50000 [==============================] - 47s 943us/step - loss: 1.3432 - acc: 0.5129 - val_loss: 1.5953 - val_acc: 0.4184\n",
      "Epoch 20/200\n",
      "50000/50000 [==============================] - 47s 940us/step - loss: 1.3225 - acc: 0.5194 - val_loss: 1.5207 - val_acc: 0.4715\n",
      "Epoch 21/200\n",
      "50000/50000 [==============================] - 47s 944us/step - loss: 1.2958 - acc: 0.5304 - val_loss: 1.2833 - val_acc: 0.5346\n",
      "Epoch 22/200\n",
      "50000/50000 [==============================] - 47s 947us/step - loss: 1.2713 - acc: 0.5391 - val_loss: 1.2514 - val_acc: 0.5522\n",
      "Epoch 23/200\n",
      "50000/50000 [==============================] - 47s 944us/step - loss: 1.2421 - acc: 0.5487 - val_loss: 1.2797 - val_acc: 0.5407\n",
      "Epoch 24/200\n",
      "50000/50000 [==============================] - 47s 948us/step - loss: 1.2232 - acc: 0.5572 - val_loss: 1.3506 - val_acc: 0.5235\n",
      "Epoch 25/200\n",
      "50000/50000 [==============================] - 47s 943us/step - loss: 1.2006 - acc: 0.5667 - val_loss: 1.2098 - val_acc: 0.5652\n",
      "Epoch 26/200\n",
      "50000/50000 [==============================] - 47s 943us/step - loss: 1.1777 - acc: 0.5769 - val_loss: 1.2378 - val_acc: 0.5648\n",
      "Epoch 27/200\n",
      "50000/50000 [==============================] - 47s 947us/step - loss: 1.1547 - acc: 0.5840 - val_loss: 1.2059 - val_acc: 0.5636\n",
      "Epoch 28/200\n",
      "50000/50000 [==============================] - 47s 947us/step - loss: 1.1325 - acc: 0.5910 - val_loss: 1.1783 - val_acc: 0.5818\n",
      "Epoch 29/200\n",
      "50000/50000 [==============================] - 47s 942us/step - loss: 1.1085 - acc: 0.6016 - val_loss: 1.3032 - val_acc: 0.5348\n",
      "Epoch 30/200\n",
      "50000/50000 [==============================] - 47s 943us/step - loss: 1.0924 - acc: 0.6058 - val_loss: 1.3214 - val_acc: 0.5289\n",
      "Epoch 31/200\n",
      "50000/50000 [==============================] - 47s 943us/step - loss: 1.0699 - acc: 0.6155 - val_loss: 1.1979 - val_acc: 0.5811\n",
      "Epoch 32/200\n",
      "50000/50000 [==============================] - 47s 942us/step - loss: 1.0500 - acc: 0.6250 - val_loss: 1.6016 - val_acc: 0.4887\n",
      "Epoch 33/200\n",
      "50000/50000 [==============================] - 47s 940us/step - loss: 1.0331 - acc: 0.6308 - val_loss: 1.7738 - val_acc: 0.4434\n",
      "Epoch 34/200\n",
      "50000/50000 [==============================] - 47s 941us/step - loss: 1.0089 - acc: 0.6402 - val_loss: 1.0608 - val_acc: 0.6251\n",
      "Epoch 35/200\n",
      "50000/50000 [==============================] - 47s 940us/step - loss: 0.9895 - acc: 0.6469 - val_loss: 1.1676 - val_acc: 0.5976\n",
      "Epoch 36/200\n",
      "50000/50000 [==============================] - 47s 942us/step - loss: 0.9713 - acc: 0.6521 - val_loss: 1.3391 - val_acc: 0.5566\n",
      "Epoch 37/200\n",
      "50000/50000 [==============================] - 47s 942us/step - loss: 0.9541 - acc: 0.6602 - val_loss: 1.0549 - val_acc: 0.6285\n",
      "Epoch 38/200\n",
      "50000/50000 [==============================] - 47s 941us/step - loss: 0.9391 - acc: 0.6666 - val_loss: 1.2278 - val_acc: 0.5721\n",
      "Epoch 39/200\n",
      "50000/50000 [==============================] - 47s 941us/step - loss: 0.9232 - acc: 0.6745 - val_loss: 1.1798 - val_acc: 0.5989\n",
      "Epoch 40/200\n",
      "50000/50000 [==============================] - 47s 943us/step - loss: 0.9057 - acc: 0.6762 - val_loss: 1.0604 - val_acc: 0.6263\n",
      "Epoch 41/200\n",
      "50000/50000 [==============================] - 47s 942us/step - loss: 0.8856 - acc: 0.6856 - val_loss: 1.3618 - val_acc: 0.5534\n",
      "Epoch 42/200\n",
      "50000/50000 [==============================] - 47s 949us/step - loss: 0.8765 - acc: 0.6879 - val_loss: 1.0525 - val_acc: 0.6391\n",
      "Epoch 43/200\n",
      "50000/50000 [==============================] - 47s 940us/step - loss: 0.8567 - acc: 0.6967 - val_loss: 1.0372 - val_acc: 0.6319\n",
      "Epoch 44/200\n",
      "50000/50000 [==============================] - 47s 947us/step - loss: 0.8414 - acc: 0.7021 - val_loss: 1.2300 - val_acc: 0.5922\n",
      "Epoch 45/200\n",
      "50000/50000 [==============================] - 47s 947us/step - loss: 0.8270 - acc: 0.7081 - val_loss: 1.0801 - val_acc: 0.6331\n",
      "Epoch 46/200\n",
      "50000/50000 [==============================] - 48s 950us/step - loss: 0.8143 - acc: 0.7090 - val_loss: 1.0272 - val_acc: 0.6410\n",
      "Epoch 47/200\n",
      "50000/50000 [==============================] - 47s 949us/step - loss: 0.8030 - acc: 0.7159 - val_loss: 1.0648 - val_acc: 0.6452\n",
      "Epoch 48/200\n",
      "50000/50000 [==============================] - 47s 945us/step - loss: 0.7849 - acc: 0.7221 - val_loss: 1.1257 - val_acc: 0.6287\n",
      "Epoch 49/200\n",
      "50000/50000 [==============================] - 47s 946us/step - loss: 0.7701 - acc: 0.7278 - val_loss: 1.1430 - val_acc: 0.6280\n",
      "Epoch 50/200\n",
      "50000/50000 [==============================] - 47s 949us/step - loss: 0.7536 - acc: 0.7334 - val_loss: 1.0951 - val_acc: 0.6285\n",
      "Epoch 51/200\n",
      "50000/50000 [==============================] - 47s 945us/step - loss: 0.7474 - acc: 0.7377 - val_loss: 1.0865 - val_acc: 0.6343\n",
      "Epoch 52/200\n",
      "50000/50000 [==============================] - 47s 950us/step - loss: 0.7293 - acc: 0.7425 - val_loss: 1.4358 - val_acc: 0.5641\n",
      "Epoch 53/200\n",
      "50000/50000 [==============================] - 47s 950us/step - loss: 0.7167 - acc: 0.7469 - val_loss: 0.9843 - val_acc: 0.6633\n",
      "Epoch 54/200\n",
      "50000/50000 [==============================] - 48s 955us/step - loss: 0.7026 - acc: 0.7493 - val_loss: 1.1230 - val_acc: 0.6309\n",
      "Epoch 55/200\n",
      "50000/50000 [==============================] - 48s 953us/step - loss: 0.6886 - acc: 0.7564 - val_loss: 1.2254 - val_acc: 0.6179\n",
      "Epoch 56/200\n",
      "50000/50000 [==============================] - 48s 956us/step - loss: 0.6766 - acc: 0.7603 - val_loss: 1.0566 - val_acc: 0.6530\n",
      "Epoch 57/200\n",
      "50000/50000 [==============================] - 48s 957us/step - loss: 0.6650 - acc: 0.7636 - val_loss: 1.0154 - val_acc: 0.6705\n",
      "Epoch 58/200\n",
      "50000/50000 [==============================] - 48s 950us/step - loss: 0.6515 - acc: 0.7693 - val_loss: 1.0943 - val_acc: 0.6563\n"
     ]
    },
    {
     "name": "stdout",
     "output_type": "stream",
     "text": [
      "Epoch 59/200\n",
      "50000/50000 [==============================] - 48s 951us/step - loss: 0.6381 - acc: 0.7744 - val_loss: 1.1218 - val_acc: 0.6326\n",
      "Epoch 60/200\n",
      "50000/50000 [==============================] - 47s 948us/step - loss: 0.6246 - acc: 0.7789 - val_loss: 1.2107 - val_acc: 0.6350\n",
      "Epoch 61/200\n",
      "50000/50000 [==============================] - 68s 1ms/step - loss: 0.6173 - acc: 0.7821 - val_loss: 1.3647 - val_acc: 0.6006\n",
      "Epoch 62/200\n",
      "50000/50000 [==============================] - 72s 1ms/step - loss: 0.6008 - acc: 0.7868 - val_loss: 1.1132 - val_acc: 0.6608\n",
      "Epoch 63/200\n",
      "50000/50000 [==============================] - 73s 1ms/step - loss: 0.5919 - acc: 0.7911 - val_loss: 1.1795 - val_acc: 0.6344\n",
      "Epoch 64/200\n",
      "50000/50000 [==============================] - 72s 1ms/step - loss: 0.5766 - acc: 0.7942 - val_loss: 1.2495 - val_acc: 0.6276\n",
      "Epoch 65/200\n",
      "50000/50000 [==============================] - 72s 1ms/step - loss: 0.5639 - acc: 0.8023 - val_loss: 1.2269 - val_acc: 0.6429\n",
      "Epoch 66/200\n",
      "50000/50000 [==============================] - 72s 1ms/step - loss: 0.5532 - acc: 0.8044 - val_loss: 1.0745 - val_acc: 0.6682\n",
      "Epoch 67/200\n",
      "50000/50000 [==============================] - 72s 1ms/step - loss: 0.5433 - acc: 0.8078 - val_loss: 1.1490 - val_acc: 0.6636\n",
      "Epoch 68/200\n",
      "50000/50000 [==============================] - 72s 1ms/step - loss: 0.5304 - acc: 0.8127 - val_loss: 1.3697 - val_acc: 0.6060\n",
      "Epoch 69/200\n",
      "50000/50000 [==============================] - 72s 1ms/step - loss: 0.5167 - acc: 0.8169 - val_loss: 1.4557 - val_acc: 0.6120\n",
      "Epoch 70/200\n",
      "50000/50000 [==============================] - 72s 1ms/step - loss: 0.5024 - acc: 0.8218 - val_loss: 1.1764 - val_acc: 0.6676\n",
      "Epoch 71/200\n",
      "50000/50000 [==============================] - 73s 1ms/step - loss: 0.4966 - acc: 0.8238 - val_loss: 1.3827 - val_acc: 0.6269\n",
      "Epoch 72/200\n",
      "50000/50000 [==============================] - 72s 1ms/step - loss: 0.4851 - acc: 0.8276 - val_loss: 1.1581 - val_acc: 0.6623\n",
      "Epoch 73/200\n",
      "50000/50000 [==============================] - 73s 1ms/step - loss: 0.4745 - acc: 0.8320 - val_loss: 1.2127 - val_acc: 0.6512\n",
      "Epoch 74/200\n",
      "50000/50000 [==============================] - 73s 1ms/step - loss: 0.4651 - acc: 0.8352 - val_loss: 1.2315 - val_acc: 0.6662\n",
      "Epoch 75/200\n",
      "50000/50000 [==============================] - 73s 1ms/step - loss: 0.4520 - acc: 0.8389 - val_loss: 1.4315 - val_acc: 0.6061\n",
      "Epoch 76/200\n",
      "50000/50000 [==============================] - 73s 1ms/step - loss: 0.4453 - acc: 0.8428 - val_loss: 1.1633 - val_acc: 0.6721\n",
      "Epoch 77/200\n",
      "50000/50000 [==============================] - 72s 1ms/step - loss: 0.4312 - acc: 0.8457 - val_loss: 1.1738 - val_acc: 0.6723\n",
      "Epoch 78/200\n",
      "50000/50000 [==============================] - 72s 1ms/step - loss: 0.4252 - acc: 0.8487 - val_loss: 1.2339 - val_acc: 0.6537\n",
      "Epoch 79/200\n",
      "50000/50000 [==============================] - 73s 1ms/step - loss: 0.4110 - acc: 0.8540 - val_loss: 1.3782 - val_acc: 0.6280\n",
      "Epoch 80/200\n",
      "50000/50000 [==============================] - 73s 1ms/step - loss: 0.4051 - acc: 0.8558 - val_loss: 1.7117 - val_acc: 0.6083\n",
      "Epoch 81/200\n",
      "50000/50000 [==============================] - 73s 1ms/step - loss: 0.3930 - acc: 0.8607 - val_loss: 1.5535 - val_acc: 0.6358\n",
      "Epoch 82/200\n",
      "50000/50000 [==============================] - 72s 1ms/step - loss: 0.3840 - acc: 0.8634 - val_loss: 1.3271 - val_acc: 0.6641\n",
      "Epoch 83/200\n",
      "50000/50000 [==============================] - 73s 1ms/step - loss: 0.3714 - acc: 0.8698 - val_loss: 1.3119 - val_acc: 0.6661\n",
      "Epoch 84/200\n",
      "50000/50000 [==============================] - 73s 1ms/step - loss: 0.3612 - acc: 0.8719 - val_loss: 1.2785 - val_acc: 0.6684\n",
      "Epoch 85/200\n",
      "50000/50000 [==============================] - 73s 1ms/step - loss: 0.3560 - acc: 0.8736 - val_loss: 1.6977 - val_acc: 0.5923\n",
      "Epoch 86/200\n",
      "50000/50000 [==============================] - 73s 1ms/step - loss: 0.3455 - acc: 0.8764 - val_loss: 1.3737 - val_acc: 0.6656\n",
      "Epoch 87/200\n",
      "50000/50000 [==============================] - 72s 1ms/step - loss: 0.3394 - acc: 0.8779 - val_loss: 1.5460 - val_acc: 0.6412\n",
      "Epoch 88/200\n",
      "50000/50000 [==============================] - 72s 1ms/step - loss: 0.3266 - acc: 0.8844 - val_loss: 1.9014 - val_acc: 0.6168\n",
      "Epoch 89/200\n",
      "50000/50000 [==============================] - 72s 1ms/step - loss: 0.3264 - acc: 0.8831 - val_loss: 1.4844 - val_acc: 0.6661\n",
      "Epoch 90/200\n",
      "50000/50000 [==============================] - 72s 1ms/step - loss: 0.3007 - acc: 0.8941 - val_loss: 1.5609 - val_acc: 0.6514\n",
      "Epoch 91/200\n",
      "50000/50000 [==============================] - 72s 1ms/step - loss: 0.3001 - acc: 0.8936 - val_loss: 1.5191 - val_acc: 0.6676\n",
      "Epoch 92/200\n",
      "50000/50000 [==============================] - 72s 1ms/step - loss: 0.2992 - acc: 0.8938 - val_loss: 1.5272 - val_acc: 0.6506\n",
      "Epoch 93/200\n",
      "50000/50000 [==============================] - 72s 1ms/step - loss: 0.2941 - acc: 0.8953 - val_loss: 1.5147 - val_acc: 0.6464\n",
      "Epoch 94/200\n",
      "50000/50000 [==============================] - 72s 1ms/step - loss: 0.2752 - acc: 0.9012 - val_loss: 1.5222 - val_acc: 0.6643\n",
      "Epoch 95/200\n",
      "50000/50000 [==============================] - 72s 1ms/step - loss: 0.2607 - acc: 0.9084 - val_loss: 1.5001 - val_acc: 0.6660\n",
      "Epoch 96/200\n",
      "50000/50000 [==============================] - 73s 1ms/step - loss: 0.2689 - acc: 0.9051 - val_loss: 1.6154 - val_acc: 0.6563\n",
      "Epoch 97/200\n",
      "50000/50000 [==============================] - 73s 1ms/step - loss: 0.2572 - acc: 0.9091 - val_loss: 1.6104 - val_acc: 0.6641\n",
      "Epoch 98/200\n",
      "50000/50000 [==============================] - 73s 1ms/step - loss: 0.2456 - acc: 0.9129 - val_loss: 1.5579 - val_acc: 0.6763\n",
      "Epoch 99/200\n",
      "50000/50000 [==============================] - 72s 1ms/step - loss: 0.2437 - acc: 0.9143 - val_loss: 1.9744 - val_acc: 0.6376\n",
      "Epoch 100/200\n",
      "50000/50000 [==============================] - 73s 1ms/step - loss: 0.2363 - acc: 0.9160 - val_loss: 1.9112 - val_acc: 0.6363\n",
      "Epoch 101/200\n",
      "50000/50000 [==============================] - 73s 1ms/step - loss: 0.2265 - acc: 0.9199 - val_loss: 1.7194 - val_acc: 0.6608\n",
      "Epoch 102/200\n",
      "50000/50000 [==============================] - 73s 1ms/step - loss: 0.2211 - acc: 0.9221 - val_loss: 1.9129 - val_acc: 0.6469\n",
      "Epoch 103/200\n",
      "50000/50000 [==============================] - 72s 1ms/step - loss: 0.2123 - acc: 0.9254 - val_loss: 1.6377 - val_acc: 0.6683\n",
      "Epoch 104/200\n",
      "50000/50000 [==============================] - 73s 1ms/step - loss: 0.2044 - acc: 0.9278 - val_loss: 1.7366 - val_acc: 0.6728\n",
      "Epoch 105/200\n",
      "50000/50000 [==============================] - 73s 1ms/step - loss: 0.2065 - acc: 0.9280 - val_loss: 1.8152 - val_acc: 0.6661\n",
      "Epoch 106/200\n",
      "50000/50000 [==============================] - 73s 1ms/step - loss: 0.2101 - acc: 0.9257 - val_loss: 1.8217 - val_acc: 0.6318\n",
      "Epoch 107/200\n",
      "50000/50000 [==============================] - 73s 1ms/step - loss: 0.1982 - acc: 0.9309 - val_loss: 2.0395 - val_acc: 0.6282\n",
      "Epoch 108/200\n",
      "50000/50000 [==============================] - 73s 1ms/step - loss: 0.1889 - acc: 0.9345 - val_loss: 2.0585 - val_acc: 0.6234\n",
      "Epoch 109/200\n",
      "50000/50000 [==============================] - 73s 1ms/step - loss: 0.1876 - acc: 0.9344 - val_loss: 2.3031 - val_acc: 0.6246\n",
      "Epoch 110/200\n",
      "50000/50000 [==============================] - 72s 1ms/step - loss: 0.1900 - acc: 0.9337 - val_loss: 1.8732 - val_acc: 0.6646\n",
      "Epoch 111/200\n",
      "50000/50000 [==============================] - 73s 1ms/step - loss: 0.1695 - acc: 0.9409 - val_loss: 1.8306 - val_acc: 0.6686\n",
      "Epoch 112/200\n",
      "50000/50000 [==============================] - 72s 1ms/step - loss: 0.1734 - acc: 0.9403 - val_loss: 1.9474 - val_acc: 0.6600\n",
      "Epoch 113/200\n",
      "50000/50000 [==============================] - 73s 1ms/step - loss: 0.1601 - acc: 0.9433 - val_loss: 1.8627 - val_acc: 0.6663\n",
      "Epoch 114/200\n",
      "50000/50000 [==============================] - 72s 1ms/step - loss: 0.1538 - acc: 0.9466 - val_loss: 1.9503 - val_acc: 0.6613\n",
      "Epoch 115/200\n",
      "50000/50000 [==============================] - 72s 1ms/step - loss: 0.1525 - acc: 0.9471 - val_loss: 2.1230 - val_acc: 0.6583\n",
      "Epoch 116/200\n",
      "50000/50000 [==============================] - 72s 1ms/step - loss: 0.1460 - acc: 0.9495 - val_loss: 2.2126 - val_acc: 0.6379\n",
      "Epoch 117/200\n",
      "50000/50000 [==============================] - 72s 1ms/step - loss: 0.1473 - acc: 0.9493 - val_loss: 2.0944 - val_acc: 0.6555\n"
     ]
    },
    {
     "name": "stdout",
     "output_type": "stream",
     "text": [
      "Epoch 118/200\n",
      "50000/50000 [==============================] - 73s 1ms/step - loss: 0.1535 - acc: 0.9477 - val_loss: 1.9742 - val_acc: 0.6608\n",
      "Epoch 119/200\n",
      "50000/50000 [==============================] - 72s 1ms/step - loss: 0.1378 - acc: 0.9525 - val_loss: 2.3118 - val_acc: 0.6405\n",
      "Epoch 120/200\n",
      "50000/50000 [==============================] - 72s 1ms/step - loss: 0.1356 - acc: 0.9516 - val_loss: 2.0846 - val_acc: 0.6689\n",
      "Epoch 121/200\n",
      "50000/50000 [==============================] - 72s 1ms/step - loss: 0.1346 - acc: 0.9533 - val_loss: 2.2892 - val_acc: 0.6394\n",
      "Epoch 122/200\n",
      "50000/50000 [==============================] - 73s 1ms/step - loss: 0.1266 - acc: 0.9559 - val_loss: 2.1914 - val_acc: 0.6644\n",
      "Epoch 123/200\n",
      "50000/50000 [==============================] - 73s 1ms/step - loss: 0.1313 - acc: 0.9561 - val_loss: 2.1171 - val_acc: 0.6685\n",
      "Epoch 124/200\n",
      "50000/50000 [==============================] - 73s 1ms/step - loss: 0.1202 - acc: 0.9592 - val_loss: 2.1832 - val_acc: 0.6608\n",
      "Epoch 125/200\n",
      "50000/50000 [==============================] - 73s 1ms/step - loss: 0.1156 - acc: 0.9599 - val_loss: 2.4418 - val_acc: 0.6425\n",
      "Epoch 126/200\n",
      "50000/50000 [==============================] - 72s 1ms/step - loss: 0.1255 - acc: 0.9558 - val_loss: 2.1396 - val_acc: 0.6668\n",
      "Epoch 127/200\n",
      "50000/50000 [==============================] - 72s 1ms/step - loss: 0.1059 - acc: 0.9634 - val_loss: 2.1827 - val_acc: 0.6663\n",
      "Epoch 128/200\n",
      "50000/50000 [==============================] - 72s 1ms/step - loss: 0.1110 - acc: 0.9622 - val_loss: 2.4924 - val_acc: 0.6413\n",
      "Epoch 129/200\n",
      "50000/50000 [==============================] - 72s 1ms/step - loss: 0.1165 - acc: 0.9600 - val_loss: 2.9615 - val_acc: 0.6005\n",
      "Epoch 130/200\n",
      "50000/50000 [==============================] - 73s 1ms/step - loss: 0.1058 - acc: 0.9629 - val_loss: 2.1801 - val_acc: 0.6693\n",
      "Epoch 131/200\n",
      "50000/50000 [==============================] - 72s 1ms/step - loss: 0.1036 - acc: 0.9658 - val_loss: 2.5218 - val_acc: 0.6354\n",
      "Epoch 132/200\n",
      "50000/50000 [==============================] - 72s 1ms/step - loss: 0.1076 - acc: 0.9638 - val_loss: 2.2419 - val_acc: 0.6730\n",
      "Epoch 133/200\n",
      "50000/50000 [==============================] - 72s 1ms/step - loss: 0.0972 - acc: 0.9675 - val_loss: 2.3082 - val_acc: 0.6664\n",
      "Epoch 134/200\n",
      "50000/50000 [==============================] - 73s 1ms/step - loss: 0.0969 - acc: 0.9664 - val_loss: 2.5454 - val_acc: 0.6468\n",
      "Epoch 135/200\n",
      "50000/50000 [==============================] - 72s 1ms/step - loss: 0.0917 - acc: 0.9679 - val_loss: 2.3395 - val_acc: 0.6600\n",
      "Epoch 136/200\n",
      "50000/50000 [==============================] - 73s 1ms/step - loss: 0.0954 - acc: 0.9682 - val_loss: 2.3352 - val_acc: 0.6651\n",
      "Epoch 137/200\n",
      "50000/50000 [==============================] - 73s 1ms/step - loss: 0.0875 - acc: 0.9705 - val_loss: 2.7137 - val_acc: 0.6151\n",
      "Epoch 138/200\n",
      "50000/50000 [==============================] - 72s 1ms/step - loss: 0.0881 - acc: 0.9707 - val_loss: 2.3831 - val_acc: 0.6675\n",
      "Epoch 139/200\n",
      "50000/50000 [==============================] - 73s 1ms/step - loss: 0.0857 - acc: 0.9712 - val_loss: 2.3207 - val_acc: 0.6699\n",
      "Epoch 140/200\n",
      "50000/50000 [==============================] - 73s 1ms/step - loss: 0.0877 - acc: 0.9706 - val_loss: 2.3780 - val_acc: 0.6642\n",
      "Epoch 141/200\n",
      "50000/50000 [==============================] - 73s 1ms/step - loss: 0.0831 - acc: 0.9720 - val_loss: 2.4397 - val_acc: 0.6733\n",
      "Epoch 142/200\n",
      "50000/50000 [==============================] - 72s 1ms/step - loss: 0.0782 - acc: 0.9733 - val_loss: 2.7388 - val_acc: 0.6330\n",
      "Epoch 143/200\n",
      "50000/50000 [==============================] - 72s 1ms/step - loss: 0.0901 - acc: 0.9702 - val_loss: 2.4469 - val_acc: 0.6600\n",
      "Epoch 144/200\n",
      "50000/50000 [==============================] - 72s 1ms/step - loss: 0.0735 - acc: 0.9750 - val_loss: 2.4303 - val_acc: 0.6695\n",
      "Epoch 145/200\n",
      "50000/50000 [==============================] - 72s 1ms/step - loss: 0.0618 - acc: 0.9787 - val_loss: 2.6136 - val_acc: 0.6552\n",
      "Epoch 146/200\n",
      "50000/50000 [==============================] - 72s 1ms/step - loss: 0.0860 - acc: 0.9711 - val_loss: 2.4074 - val_acc: 0.6723\n",
      "Epoch 147/200\n",
      "50000/50000 [==============================] - 73s 1ms/step - loss: 0.0660 - acc: 0.9781 - val_loss: 2.9428 - val_acc: 0.6225\n",
      "Epoch 148/200\n",
      "50000/50000 [==============================] - 72s 1ms/step - loss: 0.0645 - acc: 0.9786 - val_loss: 3.1316 - val_acc: 0.6163\n",
      "Epoch 149/200\n",
      "50000/50000 [==============================] - 72s 1ms/step - loss: 0.0814 - acc: 0.9732 - val_loss: 2.5413 - val_acc: 0.6662\n",
      "Epoch 150/200\n",
      "50000/50000 [==============================] - 73s 1ms/step - loss: 0.0734 - acc: 0.9759 - val_loss: 2.4952 - val_acc: 0.6645\n",
      "Epoch 151/200\n",
      "50000/50000 [==============================] - 73s 1ms/step - loss: 0.0541 - acc: 0.9817 - val_loss: 2.5376 - val_acc: 0.6683\n",
      "Epoch 152/200\n",
      "50000/50000 [==============================] - 72s 1ms/step - loss: 0.0637 - acc: 0.9789 - val_loss: 2.4205 - val_acc: 0.6722\n",
      "Epoch 153/200\n",
      "50000/50000 [==============================] - 72s 1ms/step - loss: 0.0741 - acc: 0.9769 - val_loss: 2.4139 - val_acc: 0.6772\n",
      "Epoch 154/200\n",
      "50000/50000 [==============================] - 73s 1ms/step - loss: 0.0653 - acc: 0.9778 - val_loss: 2.5187 - val_acc: 0.6730\n",
      "Epoch 155/200\n",
      "50000/50000 [==============================] - 73s 1ms/step - loss: 0.0615 - acc: 0.9797 - val_loss: 2.4766 - val_acc: 0.6702\n",
      "Epoch 156/200\n",
      "50000/50000 [==============================] - 73s 1ms/step - loss: 0.0575 - acc: 0.9810 - val_loss: 2.5565 - val_acc: 0.6680\n",
      "Epoch 157/200\n",
      "50000/50000 [==============================] - 73s 1ms/step - loss: 0.0688 - acc: 0.9775 - val_loss: 2.5369 - val_acc: 0.6617\n",
      "Epoch 158/200\n",
      "50000/50000 [==============================] - 73s 1ms/step - loss: 0.0533 - acc: 0.9826 - val_loss: 2.5652 - val_acc: 0.6643\n",
      "Epoch 159/200\n",
      "50000/50000 [==============================] - 73s 1ms/step - loss: 0.0585 - acc: 0.9809 - val_loss: 3.5431 - val_acc: 0.5891\n",
      "Epoch 160/200\n",
      "50000/50000 [==============================] - 73s 1ms/step - loss: 0.0565 - acc: 0.9822 - val_loss: 2.6402 - val_acc: 0.6679\n",
      "Epoch 161/200\n",
      "50000/50000 [==============================] - 73s 1ms/step - loss: 0.0624 - acc: 0.9797 - val_loss: 2.5456 - val_acc: 0.6756\n",
      "Epoch 162/200\n",
      "50000/50000 [==============================] - 73s 1ms/step - loss: 0.0484 - acc: 0.9847 - val_loss: 2.6336 - val_acc: 0.6678\n",
      "Epoch 163/200\n",
      "50000/50000 [==============================] - 73s 1ms/step - loss: 0.0455 - acc: 0.9855 - val_loss: 2.8997 - val_acc: 0.6514\n",
      "Epoch 164/200\n",
      "50000/50000 [==============================] - 73s 1ms/step - loss: 0.0612 - acc: 0.9804 - val_loss: 2.6455 - val_acc: 0.6678\n",
      "Epoch 165/200\n",
      "50000/50000 [==============================] - 73s 1ms/step - loss: 0.0533 - acc: 0.9825 - val_loss: 2.5837 - val_acc: 0.6744\n",
      "Epoch 166/200\n",
      "50000/50000 [==============================] - 73s 1ms/step - loss: 0.0313 - acc: 0.9900 - val_loss: 2.7636 - val_acc: 0.6704\n",
      "Epoch 167/200\n",
      "50000/50000 [==============================] - 73s 1ms/step - loss: 0.0615 - acc: 0.9808 - val_loss: 2.6769 - val_acc: 0.6659\n",
      "Epoch 168/200\n",
      "50000/50000 [==============================] - 73s 1ms/step - loss: 0.0491 - acc: 0.9844 - val_loss: 2.6510 - val_acc: 0.6743\n",
      "Epoch 169/200\n",
      "50000/50000 [==============================] - 73s 1ms/step - loss: 0.0409 - acc: 0.9869 - val_loss: 2.6746 - val_acc: 0.6699\n",
      "Epoch 170/200\n",
      "50000/50000 [==============================] - 73s 1ms/step - loss: 0.0353 - acc: 0.9887 - val_loss: 2.6953 - val_acc: 0.6737\n",
      "Epoch 171/200\n",
      "50000/50000 [==============================] - 73s 1ms/step - loss: 0.0500 - acc: 0.9832 - val_loss: 2.5705 - val_acc: 0.6707\n",
      "Epoch 172/200\n",
      "50000/50000 [==============================] - 73s 1ms/step - loss: 0.0401 - acc: 0.9865 - val_loss: 2.9824 - val_acc: 0.6202\n",
      "Epoch 173/200\n",
      "50000/50000 [==============================] - 73s 1ms/step - loss: 0.0484 - acc: 0.9843 - val_loss: 3.4180 - val_acc: 0.6262\n",
      "Epoch 174/200\n",
      "50000/50000 [==============================] - 73s 1ms/step - loss: 0.0466 - acc: 0.9852 - val_loss: 2.7740 - val_acc: 0.6701\n",
      "Epoch 175/200\n",
      "50000/50000 [==============================] - 73s 1ms/step - loss: 0.0532 - acc: 0.9842 - val_loss: 2.8305 - val_acc: 0.6574\n",
      "Epoch 176/200\n"
     ]
    },
    {
     "name": "stdout",
     "output_type": "stream",
     "text": [
      "50000/50000 [==============================] - 73s 1ms/step - loss: 0.0422 - acc: 0.9868 - val_loss: 2.6551 - val_acc: 0.6713\n",
      "Epoch 177/200\n",
      "50000/50000 [==============================] - 73s 1ms/step - loss: 0.0413 - acc: 0.9865 - val_loss: 2.7943 - val_acc: 0.6713\n",
      "Epoch 178/200\n",
      "50000/50000 [==============================] - 73s 1ms/step - loss: 0.0403 - acc: 0.9873 - val_loss: 2.8090 - val_acc: 0.6611\n",
      "Epoch 179/200\n",
      "50000/50000 [==============================] - 73s 1ms/step - loss: 0.0420 - acc: 0.9863 - val_loss: 2.7202 - val_acc: 0.6686\n",
      "Epoch 180/200\n",
      "50000/50000 [==============================] - 73s 1ms/step - loss: 0.0356 - acc: 0.9887 - val_loss: 2.7227 - val_acc: 0.6708\n",
      "Epoch 181/200\n",
      "50000/50000 [==============================] - 73s 1ms/step - loss: 0.0354 - acc: 0.9886 - val_loss: 3.0255 - val_acc: 0.6588\n",
      "Epoch 182/200\n",
      "50000/50000 [==============================] - 73s 1ms/step - loss: 0.0362 - acc: 0.9884 - val_loss: 2.7155 - val_acc: 0.6748\n",
      "Epoch 183/200\n",
      "50000/50000 [==============================] - 73s 1ms/step - loss: 0.0435 - acc: 0.9863 - val_loss: 2.7125 - val_acc: 0.6741\n",
      "Epoch 184/200\n",
      "50000/50000 [==============================] - 73s 1ms/step - loss: 0.0451 - acc: 0.9855 - val_loss: 2.7152 - val_acc: 0.6704\n",
      "Epoch 185/200\n",
      "50000/50000 [==============================] - 73s 1ms/step - loss: 0.0424 - acc: 0.9863 - val_loss: 2.7195 - val_acc: 0.6660\n",
      "Epoch 186/200\n",
      "50000/50000 [==============================] - 73s 1ms/step - loss: 0.0280 - acc: 0.9910 - val_loss: 3.5762 - val_acc: 0.6214\n",
      "Epoch 187/200\n",
      "50000/50000 [==============================] - 72s 1ms/step - loss: 0.0431 - acc: 0.9865 - val_loss: 2.8165 - val_acc: 0.6700\n",
      "Epoch 188/200\n",
      "50000/50000 [==============================] - 73s 1ms/step - loss: 0.0371 - acc: 0.9879 - val_loss: 2.7684 - val_acc: 0.6698\n",
      "Epoch 189/200\n",
      "50000/50000 [==============================] - 73s 1ms/step - loss: 0.0414 - acc: 0.9865 - val_loss: 2.7256 - val_acc: 0.6764\n",
      "Epoch 190/200\n",
      "50000/50000 [==============================] - 73s 1ms/step - loss: 0.0310 - acc: 0.9899 - val_loss: 3.2064 - val_acc: 0.6448\n",
      "Epoch 191/200\n",
      "50000/50000 [==============================] - 73s 1ms/step - loss: 0.0371 - acc: 0.9884 - val_loss: 2.8507 - val_acc: 0.6702\n",
      "Epoch 192/200\n",
      "50000/50000 [==============================] - 73s 1ms/step - loss: 0.0345 - acc: 0.9889 - val_loss: 2.7246 - val_acc: 0.6696\n",
      "Epoch 193/200\n",
      "50000/50000 [==============================] - 73s 1ms/step - loss: 0.0299 - acc: 0.9905 - val_loss: 2.8498 - val_acc: 0.6696\n",
      "Epoch 194/200\n",
      "50000/50000 [==============================] - 73s 1ms/step - loss: 0.0305 - acc: 0.9903 - val_loss: 2.7755 - val_acc: 0.6740\n",
      "Epoch 195/200\n",
      "50000/50000 [==============================] - 73s 1ms/step - loss: 0.0243 - acc: 0.9919 - val_loss: 2.9331 - val_acc: 0.6736\n",
      "Epoch 196/200\n",
      "50000/50000 [==============================] - 73s 1ms/step - loss: 0.0293 - acc: 0.9909 - val_loss: 2.8677 - val_acc: 0.6785\n",
      "Epoch 197/200\n",
      "50000/50000 [==============================] - 73s 1ms/step - loss: 0.0439 - acc: 0.9876 - val_loss: 2.7050 - val_acc: 0.6765\n",
      "Epoch 198/200\n",
      "50000/50000 [==============================] - 73s 1ms/step - loss: 0.0289 - acc: 0.9910 - val_loss: 2.7774 - val_acc: 0.6771\n",
      "Epoch 199/200\n",
      "50000/50000 [==============================] - 73s 1ms/step - loss: 0.0270 - acc: 0.9920 - val_loss: 2.8542 - val_acc: 0.6730\n",
      "Epoch 200/200\n",
      "50000/50000 [==============================] - 72s 1ms/step - loss: 0.0284 - acc: 0.9906 - val_loss: 2.8700 - val_acc: 0.6776\n"
     ]
    }
   ],
   "source": [
    "\n",
    "# Train the Model\n",
    "#earlyStopping=keras.callbacks.EarlyStopping(monitor='val_acc', min_delta=0, patience=13, verbose=1, mode='auto')\n",
    "history = model.fit(x_train, y_train,\n",
    "                    batch_size=batch_size,\n",
    "                    epochs=epochs,\n",
    "                    verbose=1,\n",
    " #                   callbacks=[earlyStopping],\n",
    "                    validation_data=(x_test, y_test))\n",
    "\n"
   ]
  },
  {
   "cell_type": "code",
   "execution_count": null,
   "metadata": {
    "collapsed": true
   },
   "outputs": [],
   "source": []
  },
  {
   "cell_type": "code",
   "execution_count": 11,
   "metadata": {},
   "outputs": [
    {
     "data": {
      "image/png": "[encoded data removed]",
      "text/plain": [
       "<matplotlib.figure.Figure at 0x7efd3587e9e8>"
      ]
     },
     "metadata": {},
     "output_type": "display_data"
    }
   ],
   "source": [
    "plt.plot(history.history['acc'])\n",
    "plt.plot(history.history['val_acc'])\n",
    "plt.title('model accuracy')\n",
    "plt.ylabel('accuracy')\n",
    "plt.xlabel('epoch')\n",
    "plt.legend(['train acc','val acc'], loc='upper left')\n",
    "plt.show()"
   ]
  },
  {
   "cell_type": "code",
   "execution_count": 12,
   "metadata": {},
   "outputs": [
    {
     "data": {
      "image/png": "[encoded data removed]",
      "text/plain": [
       "<matplotlib.figure.Figure at 0x7efd358bdfd0>"
      ]
     },
     "metadata": {},
     "output_type": "display_data"
    }
   ],
   "source": [
    "plt.plot(history.history['loss'])\n",
    "plt.plot(history.history['val_loss'])\n",
    "plt.title('model loss')\n",
    "plt.ylabel('loss')\n",
    "plt.xlabel('epoch')\n",
    "plt.legend(['train loss','Val Loss'], loc='upper left')\n",
    "plt.show()"
   ]
  },
  {
   "cell_type": "code",
   "execution_count": 13,
   "metadata": {},
   "outputs": [
    {
     "name": "stdout",
     "output_type": "stream",
     "text": [
      "Test loss: 2.87001429291\n",
      "Test accuracy: 0.6776\n"
     ]
    }
   ],
   "source": [
    "# Test the model\n",
    "score = model.evaluate(x_test, y_test, verbose=0)\n",
    "print('Test loss:', score[0])\n",
    "print('Test accuracy:', score[1])"
   ]
  },
  {
   "cell_type": "code",
   "execution_count": null,
   "metadata": {
    "collapsed": true
   },
   "outputs": [],
   "source": []
  },
  {
   "cell_type": "code",
   "execution_count": 14,
   "metadata": {},
   "outputs": [
    {
     "name": "stdout",
     "output_type": "stream",
     "text": [
      "{'val_loss': [2.2996469623565674, 2.2912249454498292, 2.2314242206573485, 2.0399414516448973, 2.016261032676697, 2.0785176033020019, 1.8315272281646728, 1.6973660129547119, 1.830951362991333, 1.5896432481765748, 1.4941456272125244, 1.4687001096725465, 1.4530319452285767, 1.5092433265686036, 1.4159625129699707, 1.4157623462677003, 1.4303081573486327, 1.4402193393707274, 1.5952644180297852, 1.5207477964401246, 1.2833475711822511, 1.2513887861251831, 1.2796839797973634, 1.3505795810699464, 1.2098328277587891, 1.2377937091827393, 1.2059199510574341, 1.1782589836120605, 1.3032087076187133, 1.3213798858642578, 1.197942629814148, 1.6015679786682129, 1.7738016792297364, 1.0608310260772704, 1.1676232949256897, 1.3391043801307678, 1.0549155570030213, 1.2278006832122803, 1.1797622367858887, 1.0603865452766419, 1.3618290782928466, 1.0525099357604981, 1.037187613105774, 1.2299982664108275, 1.0801486729621887, 1.0272405399322511, 1.0648076784133911, 1.125714271068573, 1.1429735076904297, 1.0951189193725586, 1.0865413043975831, 1.4358263675689698, 0.98426452884674076, 1.1230364337921142, 1.2253711071014404, 1.0565543619155884, 1.0154137936592103, 1.094348011302948, 1.1218119346618651, 1.210746393585205, 1.3646703952789307, 1.1132026015281677, 1.1795368110656739, 1.2494663993835449, 1.226916307067871, 1.0745161008834838, 1.1490382686614991, 1.3696933065414429, 1.4557488126754761, 1.1763654472351075, 1.3827167554855346, 1.1581215003967285, 1.2127330196380615, 1.2315181638717652, 1.4314778661727905, 1.1633419078826905, 1.1738175086021423, 1.2339485166549682, 1.3782139660835266, 1.7117032941818238, 1.5534761783599853, 1.3270818780899047, 1.3119313425064087, 1.2785163345336914, 1.6976682313919067, 1.3737439341545106, 1.5460318185806274, 1.9013862930297851, 1.4844178716659546, 1.5608905158996582, 1.5191379119873047, 1.5271997457504272, 1.5146719002723694, 1.5222023986816406, 1.5001229686737061, 1.6153837770462036, 1.6103839519500733, 1.5578963629722595, 1.974352481842041, 1.9112121391296386, 1.7194269786834717, 1.9129267879486085, 1.6377157453536988, 1.7366165889739991, 1.8151818668365478, 1.8216996532440186, 2.0394905456542967, 2.0585407695770264, 2.3031201641082766, 1.8732395805358886, 1.8306250768661498, 1.9473614784240723, 1.8627469262123109, 1.9502963968276978, 2.1230347620010375, 2.2126237146377563, 2.0944208997726439, 1.9742330959320069, 2.3117608177185058, 2.0846158119201661, 2.2891796424865722, 2.1914434162139891, 2.117083452606201, 2.1832089889526367, 2.4418106834411621, 2.1396375455856322, 2.1826548271179198, 2.4923994586944582, 2.9615211280822753, 2.180121269607544, 2.5217923877716064, 2.2419103839874266, 2.3082378671646118, 2.545443063735962, 2.3395198497772216, 2.3352376510620116, 2.7136942504882811, 2.3830551542282103, 2.3207154981613161, 2.3780385934829713, 2.4397192604064943, 2.7388332229614258, 2.4469413276672363, 2.4303118743896484, 2.6135688331604006, 2.4073547128677366, 2.9427864830017092, 3.1316044673919676, 2.5413318584442139, 2.4952070217132567, 2.5376305847167968, 2.4205048717498778, 2.4139217908859254, 2.5186534503936766, 2.476635093307495, 2.5565348991394043, 2.5368580364227293, 2.5651505542755126, 3.5431394386291504, 2.6401822736740113, 2.5456399524688722, 2.6335624948501586, 2.8997110279083254, 2.645479373550415, 2.5836532320022583, 2.763556717300415, 2.6769205917358398, 2.6509836906433106, 2.6745534492492675, 2.6952738658905031, 2.5704906784057617, 2.9824281970977782, 3.4179868091583252, 2.773968550491333, 2.8305278163909913, 2.6550632823944094, 2.7943444194793701, 2.8090417980194093, 2.7202459323883055, 2.7227223407745362, 3.0254901149749758, 2.7155313762664797, 2.7125377878189085, 2.7152406328201293, 2.7194750566482542, 3.5762112339019776, 2.8164614572525024, 2.7684082401275636, 2.7255977516174315, 3.2064429973602295, 2.8506575241088865, 2.7245795251846312, 2.8498022066116331, 2.7755395408630372, 2.9330565563201905, 2.8676758071899413, 2.7050447685241701, 2.7773738582611083, 2.854247571849823, 2.8700142929077148], 'val_acc': [0.18709999999999999, 0.24329999999999999, 0.21199999999999999, 0.2515, 0.2482, 0.23250000000000001, 0.32819999999999999, 0.38469999999999999, 0.33339999999999997, 0.4168, 0.4536, 0.46139999999999998, 0.47189999999999999, 0.44940000000000002, 0.4849, 0.48999999999999999, 0.48209999999999997, 0.47749999999999998, 0.41839999999999999, 0.47149999999999997, 0.53459999999999996, 0.55220000000000002, 0.54069999999999996, 0.52349999999999997, 0.56520000000000004, 0.56479999999999997, 0.56359999999999999, 0.58179999999999998, 0.53480000000000005, 0.52890000000000004, 0.58109999999999995, 0.48870000000000002, 0.44340000000000002, 0.62509999999999999, 0.59760000000000002, 0.55659999999999998, 0.62849999999999995, 0.57210000000000005, 0.59889999999999999, 0.62629999999999997, 0.5534, 0.6391, 0.63190000000000002, 0.59219999999999995, 0.6331, 0.64100000000000001, 0.6452, 0.62870000000000004, 0.628, 0.62849999999999995, 0.63429999999999997, 0.56410000000000005, 0.6633, 0.63090000000000002, 0.6179, 0.65300000000000002, 0.67049999999999998, 0.65629999999999999, 0.63260000000000005, 0.63500000000000001, 0.60060000000000002, 0.66080000000000005, 0.63439999999999996, 0.62760000000000005, 0.64290000000000003, 0.66820000000000002, 0.66359999999999997, 0.60599999999999998, 0.61199999999999999, 0.66759999999999997, 0.62690000000000001, 0.6623, 0.6512, 0.66620000000000001, 0.60609999999999997, 0.67210000000000003, 0.67230000000000001, 0.65369999999999995, 0.628, 0.60829999999999995, 0.63580000000000003, 0.66410000000000002, 0.66610000000000003, 0.66839999999999999, 0.59230000000000005, 0.66559999999999997, 0.64119999999999999, 0.61680000000000001, 0.66610000000000003, 0.65139999999999998, 0.66759999999999997, 0.65059999999999996, 0.64639999999999997, 0.6643, 0.66600000000000004, 0.65629999999999999, 0.66410000000000002, 0.67630000000000001, 0.63759999999999994, 0.63629999999999998, 0.66080000000000005, 0.64690000000000003, 0.66830000000000001, 0.67279999999999995, 0.66610000000000003, 0.63180000000000003, 0.62819999999999998, 0.62339999999999995, 0.62460000000000004, 0.66459999999999997, 0.66859999999999997, 0.66000000000000003, 0.6663, 0.6613, 0.6583, 0.63790000000000002, 0.65549999999999997, 0.66080000000000005, 0.64049999999999996, 0.66890000000000005, 0.63939999999999997, 0.66439999999999999, 0.66849999999999998, 0.66080000000000005, 0.64249999999999996, 0.66679999999999995, 0.6663, 0.64129999999999998, 0.60050000000000003, 0.66930000000000001, 0.63539999999999996, 0.67300000000000004, 0.66639999999999999, 0.64680000000000004, 0.66000000000000003, 0.66510000000000002, 0.61509999999999998, 0.66749999999999998, 0.66990000000000005, 0.66420000000000001, 0.67330000000000001, 0.63300000000000001, 0.66000000000000003, 0.66949999999999998, 0.6552, 0.67230000000000001, 0.62250000000000005, 0.61629999999999996, 0.66620000000000001, 0.66449999999999998, 0.66830000000000001, 0.67220000000000002, 0.67720000000000002, 0.67300000000000004, 0.67020000000000002, 0.66800000000000004, 0.66169999999999995, 0.6643, 0.58909999999999996, 0.66790000000000005, 0.67559999999999998, 0.66779999999999995, 0.65139999999999998, 0.66779999999999995, 0.6744, 0.6704, 0.66590000000000005, 0.67430000000000001, 0.66990000000000005, 0.67369999999999997, 0.67069999999999996, 0.62019999999999997, 0.62619999999999998, 0.67010000000000003, 0.65739999999999998, 0.67130000000000001, 0.67130000000000001, 0.66110000000000002, 0.66859999999999997, 0.67079999999999995, 0.65880000000000005, 0.67479999999999996, 0.67410000000000003, 0.6704, 0.66600000000000004, 0.62139999999999995, 0.67000000000000004, 0.66979999999999995, 0.6764, 0.64480000000000004, 0.67020000000000002, 0.66959999999999997, 0.66959999999999997, 0.67400000000000004, 0.67359999999999998, 0.67849999999999999, 0.67649999999999999, 0.67710000000000004, 0.67300000000000004, 0.67759999999999998], 'loss': [2.3015233728790285, 2.2972146989440918, 2.2763411878204347, 2.1395952956390381, 2.0397170863342287, 1.9849655973052978, 1.9186308763122559, 1.8145801892471314, 1.7174563581466675, 1.6538948571777343, 1.5985900615692139, 1.5555022529602052, 1.515595862159729, 1.4842718744659424, 1.4533537937164307, 1.4239422242736817, 1.396672017211914, 1.3713010845947267, 1.343192733001709, 1.3225232677078247, 1.2958106414031982, 1.271349916381836, 1.2421365019989015, 1.2232369211578369, 1.2006486207580567, 1.1777282578277588, 1.1546566720199585, 1.1325332767105103, 1.1084668715667725, 1.0924457694244385, 1.0698529599380493, 1.0499661570358276, 1.0331070621871947, 1.0088742425537109, 0.98947560897827147, 0.97126098716735842, 0.95407576938629146, 0.93913866302490234, 0.92320172027587888, 0.90568105880737304, 0.88561903749465942, 0.8765044884872436, 0.85666933176040649, 0.84139283374786378, 0.82704757165908815, 0.81426840852737425, 0.80300824382781988, 0.78485481763839726, 0.77009137996673582, 0.75355864353179935, 0.74738480964660647, 0.72931123058319092, 0.71671046142578121, 0.70260958034515386, 0.68855216716766354, 0.67660957193374638, 0.66503213170051578, 0.65149259963989259, 0.6380868277740479, 0.62460010227203366, 0.61731052989959712, 0.60076745243072505, 0.59186003395080566, 0.57660182804107663, 0.56390148410797114, 0.55315637375831606, 0.54331180517196653, 0.530364818572998, 0.51668142066955569, 0.50241195965766905, 0.49659647495269776, 0.48512740931510923, 0.47451668106079103, 0.46509658470153808, 0.4519562212371826, 0.44534862884521487, 0.43123190910339354, 0.42515595542907714, 0.41103648248672486, 0.4051154319477081, 0.39301891201019284, 0.38395436557769774, 0.37135681245803831, 0.36119833646774291, 0.35599641039848329, 0.34545173470497131, 0.33941869033813477, 0.32664467398643493, 0.32642939230918883, 0.30072812267303467, 0.30014858805179595, 0.29915403944015501, 0.29413054677009581, 0.27524420031547547, 0.26072545736789704, 0.26885510138511659, 0.25721584670543668, 0.24555034472942353, 0.24368522896766662, 0.2362695979499817, 0.22651587995052339, 0.22106145020961762, 0.21231622239112855, 0.20436613329410552, 0.20645809930324555, 0.21011409346103668, 0.19820380314350128, 0.18891320703029632, 0.18757384240627289, 0.190023688788414, 0.16947169640302659, 0.17340348720550536, 0.16007181731462478, 0.15377055361509323, 0.15247266582489014, 0.14595793821334838, 0.14733888506054879, 0.15347523744821548, 0.13777586443185807, 0.1356327160692215, 0.13455165402531624, 0.12664999678373337, 0.13132246107220649, 0.12020423639297485, 0.11558016497135162, 0.1255439882171154, 0.10589737269282341, 0.11102794751882553, 0.11651499094724656, 0.10582497775018215, 0.10359634693026543, 0.10763750147461891, 0.097162041262984278, 0.096930624645948413, 0.091671411591768268, 0.095430020543336866, 0.087481117211580278, 0.088137405598163604, 0.085667643661200998, 0.087714187609851363, 0.08313334291100502, 0.078225269322395319, 0.090138630119562149, 0.073547299457639451, 0.061840609624385832, 0.086043595649003976, 0.0659745982709527, 0.064470452983081336, 0.08142592031300068, 0.073383964415490624, 0.054112088677287104, 0.063656962990164753, 0.074145991527438157, 0.065319668833613398, 0.061520009818971155, 0.057482554649561646, 0.068837378234714267, 0.053250109575539828, 0.058466862155944106, 0.056496257017217576, 0.062406270965933798, 0.04840435064390302, 0.045491870204508303, 0.061201951282769444, 0.05325997171640396, 0.031265184632092713, 0.061549346901327372, 0.04912201848465949, 0.040942055346593259, 0.035271527468934652, 0.050005325644537808, 0.040122847002074122, 0.048410806726515293, 0.046585574077069758, 0.053219502012059092, 0.042154051679298282, 0.041280449971072379, 0.040283055914416908, 0.041955122353248296, 0.035611473991572856, 0.035373240318093448, 0.03617771651729941, 0.043542464032359424, 0.045096984347775579, 0.042406972199976446, 0.027986784334369005, 0.043065720228627327, 0.037119254937097432, 0.041416761230491102, 0.031028291074689476, 0.03714917925849557, 0.034459865369275214, 0.029921338991113006, 0.030469885251764792, 0.024321684537995606, 0.029286816155742853, 0.04389312148021534, 0.028902538810260593, 0.026966673682328548, 0.028354576375894249], 'acc': [0.11884, 0.15493999999999999, 0.18623999999999999, 0.20563999999999999, 0.23388, 0.25951999999999997, 0.28733999999999998, 0.33226, 0.36624000000000001, 0.38985999999999998, 0.40998000000000001, 0.42737999999999998, 0.44335999999999998, 0.45867999999999998, 0.47005999999999998, 0.48137999999999997, 0.49359999999999998, 0.50178, 0.51290000000000002, 0.51937999999999995, 0.53039999999999998, 0.53913999999999995, 0.54871999999999999, 0.55722000000000005, 0.56674000000000002, 0.57694000000000001, 0.58398000000000005, 0.59101999999999999, 0.60160000000000002, 0.60584000000000005, 0.61548000000000003, 0.62502000000000002, 0.63078000000000001, 0.64015999999999995, 0.64690000000000003, 0.65214000000000005, 0.66015999999999997, 0.66657999999999995, 0.67454000000000003, 0.67622000000000004, 0.68564000000000003, 0.68789999999999996, 0.69672000000000001, 0.70208000000000004, 0.70806000000000002, 0.70898000000000005, 0.71589999999999998, 0.72206000000000004, 0.72775999999999996, 0.73343999999999998, 0.73768, 0.74253999999999998, 0.74692000000000003, 0.74929999999999997, 0.75639999999999996, 0.76032, 0.76363999999999999, 0.76934000000000002, 0.77436000000000005, 0.77888000000000002, 0.78208, 0.78681999999999996, 0.79105999999999999, 0.79418, 0.80225999999999997, 0.80437999999999998, 0.80781999999999998, 0.81266000000000005, 0.81691999999999998, 0.82176000000000005, 0.82384000000000002, 0.82762000000000002, 0.83204, 0.83516000000000001, 0.83886000000000005, 0.84277999999999997, 0.84570000000000001, 0.84874000000000005, 0.85399999999999998, 0.85575999999999997, 0.86073999999999995, 0.86336000000000002, 0.86982000000000004, 0.87187999999999999, 0.87363999999999997, 0.87639999999999996, 0.87787999999999999, 0.88444, 0.88305999999999996, 0.89412000000000003, 0.89361999999999997, 0.89378000000000002, 0.89534000000000002, 0.90122000000000002, 0.90837999999999997, 0.90510000000000002, 0.90905999999999998, 0.91288000000000002, 0.91425999999999996, 0.91601999999999995, 0.91991999999999996, 0.92208000000000001, 0.92544000000000004, 0.92781999999999998, 0.92801999999999996, 0.92566000000000004, 0.93089999999999995, 0.9345, 0.93437999999999999, 0.93374000000000001, 0.94089999999999996, 0.94030000000000002, 0.94333999999999996, 0.94657999999999998, 0.94713999999999998, 0.94952000000000003, 0.94925999999999999, 0.94769999999999999, 0.95254000000000005, 0.9516, 0.95328000000000002, 0.95591999999999999, 0.95606000000000002, 0.95921999999999996, 0.95986000000000005, 0.95576000000000005, 0.96335999999999999, 0.96223999999999998, 0.95999999999999996, 0.96289999999999998, 0.96584000000000003, 0.96375999999999995, 0.96748000000000001, 0.96643999999999997, 0.96789999999999998, 0.96818000000000004, 0.97053999999999996, 0.97065999999999997, 0.97121999999999997, 0.97062000000000004, 0.97196000000000005, 0.97330000000000005, 0.97023999999999999, 0.97499999999999998, 0.97867999999999999, 0.97108000000000005, 0.97806000000000004, 0.97855999999999999, 0.97319999999999995, 0.97589999999999999, 0.98168, 0.97887999999999997, 0.97685999999999995, 0.97784000000000004, 0.97970000000000002, 0.98102, 0.97748000000000002, 0.98255999999999999, 0.98089999999999999, 0.98219999999999996, 0.97968, 0.98473999999999995, 0.98550000000000004, 0.98043999999999998, 0.98253999999999997, 0.99002000000000001, 0.98082000000000003, 0.98438000000000003, 0.9869, 0.98865999999999998, 0.98319999999999996, 0.98648000000000002, 0.98433999999999999, 0.98517999999999994, 0.98419999999999996, 0.98677999999999999, 0.98651999999999995, 0.98734, 0.98628000000000005, 0.98865999999999998, 0.98860000000000003, 0.98843999999999999, 0.98629999999999995, 0.98548000000000002, 0.98633999999999999, 0.99104000000000003, 0.98651999999999995, 0.98785999999999996, 0.98648000000000002, 0.9899, 0.98841999999999997, 0.9889, 0.99050000000000005, 0.99031999999999998, 0.99192000000000002, 0.99087999999999998, 0.98760000000000003, 0.99097999999999997, 0.99195999999999995, 0.99058000000000002]}\n"
     ]
    }
   ],
   "source": [
    "print(history.history)"
   ]
  },
  {
   "cell_type": "code",
   "execution_count": null,
   "metadata": {
    "collapsed": true
   },
   "outputs": [],
   "source": []
  },
  {
   "cell_type": "code",
   "execution_count": 15,
   "metadata": {
    "collapsed": true
   },
   "outputs": [],
   "source": [
    "\n",
    "data = pd.DataFrame(history.history)\n",
    "nome = 'DoubleConvCifar10NormSameFiltersOnNorm_t3' + str(datetime.datetime.now())+'.json'\n",
    "data = data.to_json()\n",
    "with open(nome, \"w+\") as output_file:\n",
    "    output_file.write(data)"
   ]
  },
  {
   "cell_type": "code",
   "execution_count": null,
   "metadata": {
    "collapsed": true
   },
   "outputs": [],
   "source": []
  },
  {
   "cell_type": "code",
   "execution_count": null,
   "metadata": {
    "collapsed": true
   },
   "outputs": [],
   "source": []
  },
  {
   "cell_type": "code",
   "execution_count": null,
   "metadata": {
    "collapsed": true
   },
   "outputs": [],
   "source": []
  },
  {
   "cell_type": "code",
   "execution_count": null,
   "metadata": {
    "collapsed": true
   },
   "outputs": [],
   "source": []
  }
 ],
 "metadata": {
  "kernelspec": {
   "display_name": "Python 3",
   "language": "python",
   "name": "python3"
  },
  "language_info": {
   "codemirror_mode": {
    "name": "ipython",
    "version": 3
   },
   "file_extension": ".py",
   "mimetype": "text/x-python",
   "name": "python",
   "nbconvert_exporter": "python",
   "pygments_lexer": "ipython3",
   "version": "3.6.3"
  }
 },
 "nbformat": 4,
 "nbformat_minor": 2
}
