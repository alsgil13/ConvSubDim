{
 "cells": [
  {
   "cell_type": "code",
   "execution_count": 1,
   "metadata": {},
   "outputs": [
    {
     "name": "stderr",
     "output_type": "stream",
     "text": [
      "Using TensorFlow backend.\n"
     ]
    }
   ],
   "source": [
    "import keras\n",
    "import numpy as np\n",
    "from tflearn.datasets import cifar10\n",
    "from keras.optimizers import SGD\n",
    "from keras.models import Sequential\n",
    "from keras.layers import Dense, Dropout, Flatten, Softmax\n",
    "from keras.layers import Conv2D, MaxPooling2D, BatchNormalization, Reshape, GlobalAveragePooling2D, GlobalAveragePooling1D\n",
    "from keras.optimizers import Adam\n",
    "from keras.initializers import RandomNormal\n",
    "import matplotlib.pyplot as plt\n",
    "import pandas as pd\n",
    "import datetime"
   ]
  },
  {
   "cell_type": "code",
   "execution_count": 2,
   "metadata": {
    "collapsed": true
   },
   "outputs": [],
   "source": [
    "\n",
    "# Hyperparameters\n",
    "batch_size = 64\n",
    "num_classes = 10 #pegar automaticamente NumPy.Unique\n",
    "epochs = 200\n",
    "\n"
   ]
  },
  {
   "cell_type": "code",
   "execution_count": null,
   "metadata": {
    "collapsed": true
   },
   "outputs": [],
   "source": []
  },
  {
   "cell_type": "code",
   "execution_count": 3,
   "metadata": {
    "collapsed": true
   },
   "outputs": [],
   "source": [
    "# Load Cifar-10 Data\n",
    "(x_train, y_train), (x_test, y_test) = cifar10.load_data()\n",
    "\n",
    "\n",
    "#\n",
    "\n",
    "x_train.shape\n",
    "img_height, img_width, channel = x_train.shape[1],x_train.shape[2],x_train.shape[3]\n",
    "#channel=1\n",
    "\n"
   ]
  },
  {
   "cell_type": "code",
   "execution_count": 4,
   "metadata": {},
   "outputs": [
    {
     "data": {
      "text/plain": [
       "(50000, 32, 32, 3)"
      ]
     },
     "execution_count": 4,
     "metadata": {},
     "output_type": "execute_result"
    }
   ],
   "source": [
    "\n",
    "#\n",
    "x_train.shape\n",
    "\n",
    "#\n"
   ]
  },
  {
   "cell_type": "code",
   "execution_count": 5,
   "metadata": {
    "collapsed": true
   },
   "outputs": [],
   "source": [
    "# convert to one hot encoing \n",
    "y_train = keras.utils.to_categorical(y_train, num_classes)\n",
    "y_test = keras.utils.to_categorical(y_test, num_classes)\n",
    "\n"
   ]
  },
  {
   "cell_type": "code",
   "execution_count": 6,
   "metadata": {},
   "outputs": [
    {
     "data": {
      "text/plain": [
       "32"
      ]
     },
     "execution_count": 6,
     "metadata": {},
     "output_type": "execute_result"
    }
   ],
   "source": [
    "img_width"
   ]
  },
  {
   "cell_type": "code",
   "execution_count": 7,
   "metadata": {
    "collapsed": true
   },
   "outputs": [],
   "source": [
    "model = Sequential()\n",
    "#Filters = IMG_width/2 * 7\n",
    "model.add(Conv2D(112, #alterado de 192 pra 112\n",
    "                 (5,5), #alterado de 3 para 5 \n",
    "                 strides=(2,2), \n",
    "                 activation='relu', \n",
    "                 padding='same',\n",
    "                 data_format='channels_last',\n",
    "                 use_bias=True, \n",
    "                 kernel_initializer=RandomNormal(mean=0.0, stddev=0.05, seed=None), \n",
    "                 bias_initializer='zeros',\n",
    "                 input_shape=(img_height, img_width, channel)))\n",
    "model.add(MaxPooling2D(pool_size=(2, 2), \n",
    "                       strides=(2,2)))\n",
    "#model.add(BatchNormalization())\n",
    "#calculo da quantidade de filtros da normalização:\n",
    "# 3*(Width*heigth da saída após a primeira camada de convolução+pooling) / 2\n",
    "model.add(Conv2D(96, \n",
    "                 (1,1),  \n",
    "                 strides=(1,1), \n",
    "                 activation='relu', \n",
    "                 padding='same',\n",
    "                 kernel_initializer=RandomNormal(mean=0.0, stddev=0.05, seed=None), \n",
    "                 data_format='channels_last'))\n",
    "\n",
    "\n",
    "          \n",
    "#Filters = IMG_width/2 * 9\n",
    "model.add(Conv2D(144, #alterado de 128 para 144\n",
    "                 (5,5), \n",
    "                 strides=(2,2), \n",
    "                 activation='relu', \n",
    "                 padding='same',\n",
    "                 data_format='channels_last',\n",
    "                 use_bias=True, \n",
    "                 kernel_initializer=RandomNormal(mean=0.0, stddev=0.05, seed=None), \n",
    "                 bias_initializer='zeros',\n",
    "                 input_shape=(img_height, img_width, channel)))\n",
    "model.add(MaxPooling2D(pool_size=(2, 2), \n",
    "                       strides=(2,2)))\n",
    "#model.add(BatchNormalization())\n",
    "model.add(Conv2D(96, \n",
    "                 (1,1),  \n",
    "                 strides=(1,1), \n",
    "                 activation='relu', \n",
    "                 padding='same',\n",
    "                 kernel_initializer=RandomNormal(mean=0.0, stddev=0.05, seed=None), \n",
    "                 data_format='channels_last'))\n",
    "          \n",
    "          \n",
    "model.add(Flatten())\n",
    "#IMG_width^ 2\n",
    "model.add(Dense(1024, activation='relu'))\n",
    "model.add(Dropout(0.5))\n",
    "\n",
    "#camada anterior/2\n",
    "model.add(Dense(512, activation='relu'))\n",
    "model.add(Dropout(0.5))\n",
    "\n",
    "#Num de classes\n",
    "model.add(Dense(10, activation='softmax'))\n"
   ]
  },
  {
   "cell_type": "code",
   "execution_count": 8,
   "metadata": {},
   "outputs": [
    {
     "name": "stdout",
     "output_type": "stream",
     "text": [
      "_________________________________________________________________\n",
      "Layer (type)                 Output Shape              Param #   \n",
      "=================================================================\n",
      "conv2d_1 (Conv2D)            (None, 16, 16, 112)       8512      \n",
      "_________________________________________________________________\n",
      "max_pooling2d_1 (MaxPooling2 (None, 8, 8, 112)         0         \n",
      "_________________________________________________________________\n",
      "conv2d_2 (Conv2D)            (None, 8, 8, 96)          10848     \n",
      "_________________________________________________________________\n",
      "conv2d_3 (Conv2D)            (None, 4, 4, 144)         345744    \n",
      "_________________________________________________________________\n",
      "max_pooling2d_2 (MaxPooling2 (None, 2, 2, 144)         0         \n",
      "_________________________________________________________________\n",
      "conv2d_4 (Conv2D)            (None, 2, 2, 96)          13920     \n",
      "_________________________________________________________________\n",
      "flatten_1 (Flatten)          (None, 384)               0         \n",
      "_________________________________________________________________\n",
      "dense_1 (Dense)              (None, 1024)              394240    \n",
      "_________________________________________________________________\n",
      "dropout_1 (Dropout)          (None, 1024)              0         \n",
      "_________________________________________________________________\n",
      "dense_2 (Dense)              (None, 512)               524800    \n",
      "_________________________________________________________________\n",
      "dropout_2 (Dropout)          (None, 512)               0         \n",
      "_________________________________________________________________\n",
      "dense_3 (Dense)              (None, 10)                5130      \n",
      "=================================================================\n",
      "Total params: 1,303,194\n",
      "Trainable params: 1,303,194\n",
      "Non-trainable params: 0\n",
      "_________________________________________________________________\n"
     ]
    }
   ],
   "source": [
    "\n",
    "# print the model summary\n",
    "model.summary()\n",
    "\n"
   ]
  },
  {
   "cell_type": "code",
   "execution_count": 9,
   "metadata": {
    "collapsed": true
   },
   "outputs": [],
   "source": [
    "# determine Loss function and Optimizer\n",
    "model.compile(loss='categorical_crossentropy', #alterado de logcosh\n",
    "              optimizer=SGD(lr=0.01, momentum=0.01, decay=0.0, nesterov=False),\n",
    "              metrics=['accuracy'])\n"
   ]
  },
  {
   "cell_type": "code",
   "execution_count": 10,
   "metadata": {
    "scrolled": false
   },
   "outputs": [
    {
     "name": "stdout",
     "output_type": "stream",
     "text": [
      "Train on 50000 samples, validate on 10000 samples\n",
      "Epoch 1/200\n",
      "50000/50000 [==============================] - 46s 914us/step - loss: 2.2873 - acc: 0.1272 - val_loss: 2.2380 - val_acc: 0.1918\n",
      "Epoch 2/200\n",
      "50000/50000 [==============================] - 46s 919us/step - loss: 2.1234 - acc: 0.2079 - val_loss: 1.9801 - val_acc: 0.2740\n",
      "Epoch 3/200\n",
      "50000/50000 [==============================] - 46s 921us/step - loss: 1.9960 - acc: 0.2574 - val_loss: 1.9173 - val_acc: 0.3042\n",
      "Epoch 4/200\n",
      "50000/50000 [==============================] - 46s 921us/step - loss: 1.8894 - acc: 0.3041 - val_loss: 1.9693 - val_acc: 0.3042\n",
      "Epoch 5/200\n",
      "50000/50000 [==============================] - 46s 924us/step - loss: 1.7710 - acc: 0.3482 - val_loss: 1.6962 - val_acc: 0.3837\n",
      "Epoch 6/200\n",
      "50000/50000 [==============================] - 46s 920us/step - loss: 1.6838 - acc: 0.3796 - val_loss: 1.7176 - val_acc: 0.3858\n",
      "Epoch 7/200\n",
      "50000/50000 [==============================] - 46s 916us/step - loss: 1.6149 - acc: 0.4060 - val_loss: 1.5573 - val_acc: 0.4401\n",
      "Epoch 8/200\n",
      "50000/50000 [==============================] - 46s 921us/step - loss: 1.5578 - acc: 0.4285 - val_loss: 1.4704 - val_acc: 0.4618\n",
      "Epoch 9/200\n",
      "50000/50000 [==============================] - 46s 918us/step - loss: 1.5112 - acc: 0.4475 - val_loss: 1.4905 - val_acc: 0.4480\n",
      "Epoch 10/200\n",
      "50000/50000 [==============================] - 46s 918us/step - loss: 1.4699 - acc: 0.4625 - val_loss: 1.4945 - val_acc: 0.4719\n",
      "Epoch 11/200\n",
      "50000/50000 [==============================] - 46s 919us/step - loss: 1.4288 - acc: 0.4780 - val_loss: 1.3492 - val_acc: 0.5079\n",
      "Epoch 12/200\n",
      "50000/50000 [==============================] - 46s 920us/step - loss: 1.3904 - acc: 0.4928 - val_loss: 1.3588 - val_acc: 0.5053\n",
      "Epoch 13/200\n",
      "50000/50000 [==============================] - 46s 920us/step - loss: 1.3558 - acc: 0.5064 - val_loss: 1.3152 - val_acc: 0.5149\n",
      "Epoch 14/200\n",
      "50000/50000 [==============================] - 46s 920us/step - loss: 1.3188 - acc: 0.5211 - val_loss: 1.4995 - val_acc: 0.4809\n",
      "Epoch 15/200\n",
      "50000/50000 [==============================] - 46s 918us/step - loss: 1.2868 - acc: 0.5340 - val_loss: 1.5386 - val_acc: 0.4607\n",
      "Epoch 16/200\n",
      "50000/50000 [==============================] - 46s 919us/step - loss: 1.2596 - acc: 0.5431 - val_loss: 1.2628 - val_acc: 0.5427\n",
      "Epoch 17/200\n",
      "50000/50000 [==============================] - 46s 918us/step - loss: 1.2309 - acc: 0.5563 - val_loss: 1.2683 - val_acc: 0.5418\n",
      "Epoch 18/200\n",
      "50000/50000 [==============================] - 46s 917us/step - loss: 1.1992 - acc: 0.5667 - val_loss: 1.2319 - val_acc: 0.5555\n",
      "Epoch 19/200\n",
      "50000/50000 [==============================] - 46s 919us/step - loss: 1.1763 - acc: 0.5757 - val_loss: 1.1949 - val_acc: 0.5726\n",
      "Epoch 20/200\n",
      "50000/50000 [==============================] - 46s 921us/step - loss: 1.1466 - acc: 0.5900 - val_loss: 1.1426 - val_acc: 0.5832\n",
      "Epoch 21/200\n",
      "50000/50000 [==============================] - 46s 919us/step - loss: 1.1223 - acc: 0.5959 - val_loss: 1.1933 - val_acc: 0.5715\n",
      "Epoch 22/200\n",
      "50000/50000 [==============================] - 46s 917us/step - loss: 1.0936 - acc: 0.6079 - val_loss: 1.1952 - val_acc: 0.5703\n",
      "Epoch 23/200\n",
      "50000/50000 [==============================] - 46s 918us/step - loss: 1.0753 - acc: 0.6146 - val_loss: 1.1146 - val_acc: 0.6001\n",
      "Epoch 24/200\n",
      "50000/50000 [==============================] - 46s 921us/step - loss: 1.0451 - acc: 0.6269 - val_loss: 1.1285 - val_acc: 0.6023\n",
      "Epoch 25/200\n",
      "50000/50000 [==============================] - 46s 919us/step - loss: 1.0258 - acc: 0.6351 - val_loss: 1.1863 - val_acc: 0.5888\n",
      "Epoch 26/200\n",
      "50000/50000 [==============================] - 46s 918us/step - loss: 1.0049 - acc: 0.6417 - val_loss: 1.0450 - val_acc: 0.6221\n",
      "Epoch 27/200\n",
      "50000/50000 [==============================] - 46s 916us/step - loss: 0.9778 - acc: 0.6503 - val_loss: 1.0553 - val_acc: 0.6237\n",
      "Epoch 28/200\n",
      "50000/50000 [==============================] - 46s 917us/step - loss: 0.9604 - acc: 0.6578 - val_loss: 1.1726 - val_acc: 0.5893\n",
      "Epoch 29/200\n",
      "50000/50000 [==============================] - 46s 917us/step - loss: 0.9382 - acc: 0.6650 - val_loss: 1.4310 - val_acc: 0.5491\n",
      "Epoch 30/200\n",
      "50000/50000 [==============================] - 46s 916us/step - loss: 0.9168 - acc: 0.6744 - val_loss: 1.1260 - val_acc: 0.6044\n",
      "Epoch 31/200\n",
      "50000/50000 [==============================] - 46s 916us/step - loss: 0.8976 - acc: 0.6807 - val_loss: 1.2033 - val_acc: 0.5758\n",
      "Epoch 32/200\n",
      "50000/50000 [==============================] - 46s 915us/step - loss: 0.8836 - acc: 0.6853 - val_loss: 1.0785 - val_acc: 0.6201\n",
      "Epoch 33/200\n",
      "50000/50000 [==============================] - 46s 913us/step - loss: 0.8650 - acc: 0.6936 - val_loss: 1.2051 - val_acc: 0.6004\n",
      "Epoch 34/200\n",
      "50000/50000 [==============================] - 46s 914us/step - loss: 0.8443 - acc: 0.6987 - val_loss: 1.0741 - val_acc: 0.6338\n",
      "Epoch 35/200\n",
      "50000/50000 [==============================] - 46s 914us/step - loss: 0.8239 - acc: 0.7068 - val_loss: 1.0068 - val_acc: 0.6482\n",
      "Epoch 36/200\n",
      "50000/50000 [==============================] - 46s 916us/step - loss: 0.8058 - acc: 0.7113 - val_loss: 1.1378 - val_acc: 0.6209\n",
      "Epoch 37/200\n",
      "50000/50000 [==============================] - 46s 919us/step - loss: 0.7943 - acc: 0.7173 - val_loss: 1.0162 - val_acc: 0.6567\n",
      "Epoch 38/200\n",
      "50000/50000 [==============================] - 46s 920us/step - loss: 0.7753 - acc: 0.7248 - val_loss: 1.0645 - val_acc: 0.6347\n",
      "Epoch 39/200\n",
      "50000/50000 [==============================] - 46s 917us/step - loss: 0.7557 - acc: 0.7322 - val_loss: 0.9835 - val_acc: 0.6624\n",
      "Epoch 40/200\n",
      "50000/50000 [==============================] - 46s 921us/step - loss: 0.7388 - acc: 0.7389 - val_loss: 1.0458 - val_acc: 0.6450\n",
      "Epoch 41/200\n",
      "50000/50000 [==============================] - 46s 928us/step - loss: 0.7240 - acc: 0.7450 - val_loss: 1.0523 - val_acc: 0.6478\n",
      "Epoch 42/200\n",
      "50000/50000 [==============================] - 46s 926us/step - loss: 0.7073 - acc: 0.7513 - val_loss: 1.0339 - val_acc: 0.6566\n",
      "Epoch 43/200\n",
      "50000/50000 [==============================] - 46s 924us/step - loss: 0.6921 - acc: 0.7534 - val_loss: 1.1859 - val_acc: 0.6297\n",
      "Epoch 44/200\n",
      "50000/50000 [==============================] - 46s 921us/step - loss: 0.6784 - acc: 0.7607 - val_loss: 0.9725 - val_acc: 0.6738\n",
      "Epoch 45/200\n",
      "50000/50000 [==============================] - 46s 918us/step - loss: 0.6584 - acc: 0.7676 - val_loss: 1.1083 - val_acc: 0.6460\n",
      "Epoch 46/200\n",
      "50000/50000 [==============================] - 46s 913us/step - loss: 0.6485 - acc: 0.7721 - val_loss: 1.2701 - val_acc: 0.6114\n",
      "Epoch 47/200\n",
      "50000/50000 [==============================] - 46s 917us/step - loss: 0.6303 - acc: 0.7757 - val_loss: 1.0871 - val_acc: 0.6528\n",
      "Epoch 48/200\n",
      "50000/50000 [==============================] - 46s 915us/step - loss: 0.6136 - acc: 0.7828 - val_loss: 1.0934 - val_acc: 0.6587\n",
      "Epoch 49/200\n",
      "50000/50000 [==============================] - 46s 916us/step - loss: 0.6044 - acc: 0.7865 - val_loss: 1.0180 - val_acc: 0.6705\n",
      "Epoch 50/200\n",
      "50000/50000 [==============================] - 46s 919us/step - loss: 0.5838 - acc: 0.7942 - val_loss: 1.1335 - val_acc: 0.6571\n",
      "Epoch 51/200\n",
      "50000/50000 [==============================] - 46s 919us/step - loss: 0.5760 - acc: 0.7951 - val_loss: 1.0132 - val_acc: 0.6674\n",
      "Epoch 52/200\n",
      "50000/50000 [==============================] - 46s 917us/step - loss: 0.5571 - acc: 0.8042 - val_loss: 1.0044 - val_acc: 0.6817\n",
      "Epoch 53/200\n",
      "50000/50000 [==============================] - 46s 915us/step - loss: 0.5446 - acc: 0.8089 - val_loss: 1.2432 - val_acc: 0.6334\n",
      "Epoch 54/200\n",
      "50000/50000 [==============================] - 46s 915us/step - loss: 0.5357 - acc: 0.8115 - val_loss: 1.0809 - val_acc: 0.6507\n",
      "Epoch 55/200\n",
      "50000/50000 [==============================] - 46s 920us/step - loss: 0.5179 - acc: 0.8173 - val_loss: 1.2166 - val_acc: 0.6454\n",
      "Epoch 56/200\n",
      "50000/50000 [==============================] - 46s 916us/step - loss: 0.5024 - acc: 0.8244 - val_loss: 1.1429 - val_acc: 0.6591\n",
      "Epoch 57/200\n",
      "50000/50000 [==============================] - 46s 917us/step - loss: 0.4880 - acc: 0.8278 - val_loss: 1.2515 - val_acc: 0.6452\n",
      "Epoch 58/200\n",
      "50000/50000 [==============================] - 46s 915us/step - loss: 0.4795 - acc: 0.8308 - val_loss: 1.2672 - val_acc: 0.6451\n"
     ]
    },
    {
     "name": "stdout",
     "output_type": "stream",
     "text": [
      "Epoch 59/200\n",
      "50000/50000 [==============================] - 46s 916us/step - loss: 0.4599 - acc: 0.8380 - val_loss: 1.0850 - val_acc: 0.6778\n",
      "Epoch 60/200\n",
      "50000/50000 [==============================] - 46s 917us/step - loss: 0.4516 - acc: 0.8419 - val_loss: 1.0968 - val_acc: 0.6750\n",
      "Epoch 61/200\n",
      "50000/50000 [==============================] - 46s 916us/step - loss: 0.4365 - acc: 0.8455 - val_loss: 1.2561 - val_acc: 0.6589\n",
      "Epoch 62/200\n",
      "50000/50000 [==============================] - 46s 916us/step - loss: 0.4212 - acc: 0.8517 - val_loss: 1.4599 - val_acc: 0.6348\n",
      "Epoch 63/200\n",
      "50000/50000 [==============================] - 46s 915us/step - loss: 0.4170 - acc: 0.8521 - val_loss: 1.3617 - val_acc: 0.6504\n",
      "Epoch 64/200\n",
      "50000/50000 [==============================] - 46s 917us/step - loss: 0.3971 - acc: 0.8588 - val_loss: 1.4801 - val_acc: 0.6394\n",
      "Epoch 65/200\n",
      "50000/50000 [==============================] - 46s 920us/step - loss: 0.3898 - acc: 0.8623 - val_loss: 1.1980 - val_acc: 0.6823\n",
      "Epoch 66/200\n",
      "50000/50000 [==============================] - 46s 917us/step - loss: 0.3761 - acc: 0.8673 - val_loss: 1.3491 - val_acc: 0.6586\n",
      "Epoch 67/200\n",
      "50000/50000 [==============================] - 46s 919us/step - loss: 0.3601 - acc: 0.8738 - val_loss: 1.1820 - val_acc: 0.6842\n",
      "Epoch 68/200\n",
      "50000/50000 [==============================] - 46s 916us/step - loss: 0.3529 - acc: 0.8751 - val_loss: 1.2705 - val_acc: 0.6708\n",
      "Epoch 69/200\n",
      "50000/50000 [==============================] - 46s 915us/step - loss: 0.3412 - acc: 0.8803 - val_loss: 1.4386 - val_acc: 0.6373\n",
      "Epoch 70/200\n",
      "50000/50000 [==============================] - 46s 918us/step - loss: 0.3323 - acc: 0.8842 - val_loss: 1.4795 - val_acc: 0.6554\n",
      "Epoch 71/200\n",
      "50000/50000 [==============================] - 46s 917us/step - loss: 0.3171 - acc: 0.8893 - val_loss: 1.2570 - val_acc: 0.6836\n",
      "Epoch 72/200\n",
      "50000/50000 [==============================] - 46s 917us/step - loss: 0.3131 - acc: 0.8896 - val_loss: 1.3594 - val_acc: 0.6744\n",
      "Epoch 73/200\n",
      "50000/50000 [==============================] - 46s 923us/step - loss: 0.2965 - acc: 0.8957 - val_loss: 1.4973 - val_acc: 0.6587\n",
      "Epoch 74/200\n",
      "50000/50000 [==============================] - 46s 918us/step - loss: 0.2910 - acc: 0.8982 - val_loss: 1.3511 - val_acc: 0.6800\n",
      "Epoch 75/200\n",
      "50000/50000 [==============================] - 46s 916us/step - loss: 0.2746 - acc: 0.9025 - val_loss: 1.4223 - val_acc: 0.6762\n",
      "Epoch 76/200\n",
      "50000/50000 [==============================] - 46s 917us/step - loss: 0.2742 - acc: 0.9025 - val_loss: 1.3453 - val_acc: 0.6820\n",
      "Epoch 77/200\n",
      "50000/50000 [==============================] - 46s 917us/step - loss: 0.2656 - acc: 0.9055 - val_loss: 1.7074 - val_acc: 0.6343\n",
      "Epoch 78/200\n",
      "50000/50000 [==============================] - 46s 918us/step - loss: 0.2509 - acc: 0.9102 - val_loss: 1.4008 - val_acc: 0.6840\n",
      "Epoch 79/200\n",
      "50000/50000 [==============================] - 46s 912us/step - loss: 0.2423 - acc: 0.9142 - val_loss: 1.5448 - val_acc: 0.6697\n",
      "Epoch 80/200\n",
      "50000/50000 [==============================] - 46s 915us/step - loss: 0.2386 - acc: 0.9151 - val_loss: 2.1129 - val_acc: 0.6083\n",
      "Epoch 81/200\n",
      "50000/50000 [==============================] - 46s 916us/step - loss: 0.2267 - acc: 0.9209 - val_loss: 1.6388 - val_acc: 0.6724\n",
      "Epoch 82/200\n",
      "50000/50000 [==============================] - 46s 917us/step - loss: 0.2168 - acc: 0.9242 - val_loss: 1.6119 - val_acc: 0.6638\n",
      "Epoch 83/200\n",
      "50000/50000 [==============================] - 46s 922us/step - loss: 0.2210 - acc: 0.9221 - val_loss: 1.5886 - val_acc: 0.6796\n",
      "Epoch 84/200\n",
      "50000/50000 [==============================] - 46s 928us/step - loss: 0.2020 - acc: 0.9290 - val_loss: 1.6018 - val_acc: 0.6788\n",
      "Epoch 85/200\n",
      "50000/50000 [==============================] - 46s 924us/step - loss: 0.1934 - acc: 0.9319 - val_loss: 2.0499 - val_acc: 0.6411\n",
      "Epoch 86/200\n",
      "50000/50000 [==============================] - 46s 920us/step - loss: 0.1889 - acc: 0.9338 - val_loss: 1.6979 - val_acc: 0.6726\n",
      "Epoch 87/200\n",
      "50000/50000 [==============================] - 46s 920us/step - loss: 0.1872 - acc: 0.9333 - val_loss: 1.6952 - val_acc: 0.6818\n",
      "Epoch 88/200\n",
      "50000/50000 [==============================] - 46s 921us/step - loss: 0.1768 - acc: 0.9375 - val_loss: 1.7337 - val_acc: 0.6764\n",
      "Epoch 89/200\n",
      "50000/50000 [==============================] - 46s 920us/step - loss: 0.1760 - acc: 0.9382 - val_loss: 1.6624 - val_acc: 0.6815\n",
      "Epoch 90/200\n",
      "50000/50000 [==============================] - 46s 918us/step - loss: 0.1595 - acc: 0.9442 - val_loss: 1.9296 - val_acc: 0.6306\n",
      "Epoch 91/200\n",
      "50000/50000 [==============================] - 46s 919us/step - loss: 0.1563 - acc: 0.9456 - val_loss: 2.2709 - val_acc: 0.6317\n",
      "Epoch 92/200\n",
      "50000/50000 [==============================] - 46s 918us/step - loss: 0.1581 - acc: 0.9446 - val_loss: 2.3156 - val_acc: 0.6189\n",
      "Epoch 93/200\n",
      "50000/50000 [==============================] - 46s 914us/step - loss: 0.1471 - acc: 0.9495 - val_loss: 1.8028 - val_acc: 0.6661\n",
      "Epoch 94/200\n",
      "50000/50000 [==============================] - 46s 914us/step - loss: 0.1416 - acc: 0.9502 - val_loss: 1.8367 - val_acc: 0.6750\n",
      "Epoch 95/200\n",
      "50000/50000 [==============================] - 46s 921us/step - loss: 0.1336 - acc: 0.9530 - val_loss: 1.9555 - val_acc: 0.6599\n",
      "Epoch 96/200\n",
      "50000/50000 [==============================] - 46s 922us/step - loss: 0.1372 - acc: 0.9524 - val_loss: 2.0510 - val_acc: 0.6599\n",
      "Epoch 97/200\n",
      "50000/50000 [==============================] - 46s 919us/step - loss: 0.1343 - acc: 0.9527 - val_loss: 1.9509 - val_acc: 0.6774\n",
      "Epoch 98/200\n",
      "50000/50000 [==============================] - 46s 917us/step - loss: 0.1244 - acc: 0.9567 - val_loss: 1.9912 - val_acc: 0.6726\n",
      "Epoch 99/200\n",
      "50000/50000 [==============================] - 46s 923us/step - loss: 0.1301 - acc: 0.9563 - val_loss: 1.8156 - val_acc: 0.6676\n",
      "Epoch 100/200\n",
      "50000/50000 [==============================] - 46s 919us/step - loss: 0.1129 - acc: 0.9615 - val_loss: 1.9653 - val_acc: 0.6838\n",
      "Epoch 101/200\n",
      "50000/50000 [==============================] - 46s 918us/step - loss: 0.1228 - acc: 0.9589 - val_loss: 2.0593 - val_acc: 0.6714\n",
      "Epoch 102/200\n",
      "50000/50000 [==============================] - 46s 924us/step - loss: 0.1093 - acc: 0.9619 - val_loss: 1.9407 - val_acc: 0.6792\n",
      "Epoch 103/200\n",
      "50000/50000 [==============================] - 46s 921us/step - loss: 0.1055 - acc: 0.9644 - val_loss: 2.4656 - val_acc: 0.6190\n",
      "Epoch 104/200\n",
      "50000/50000 [==============================] - 46s 921us/step - loss: 0.1068 - acc: 0.9638 - val_loss: 2.2082 - val_acc: 0.6648\n",
      "Epoch 105/200\n",
      "50000/50000 [==============================] - 46s 918us/step - loss: 0.1009 - acc: 0.9665 - val_loss: 2.0563 - val_acc: 0.6691\n",
      "Epoch 106/200\n",
      "50000/50000 [==============================] - 46s 921us/step - loss: 0.0936 - acc: 0.9678 - val_loss: 3.0868 - val_acc: 0.5939\n",
      "Epoch 107/200\n",
      "50000/50000 [==============================] - 46s 922us/step - loss: 0.1043 - acc: 0.9653 - val_loss: 2.6560 - val_acc: 0.6141\n",
      "Epoch 108/200\n",
      "50000/50000 [==============================] - 46s 921us/step - loss: 0.0921 - acc: 0.9691 - val_loss: 2.2164 - val_acc: 0.6609\n",
      "Epoch 109/200\n",
      "50000/50000 [==============================] - 46s 915us/step - loss: 0.0834 - acc: 0.9706 - val_loss: 2.0929 - val_acc: 0.6743\n",
      "Epoch 110/200\n",
      "50000/50000 [==============================] - 46s 916us/step - loss: 0.0835 - acc: 0.9713 - val_loss: 2.3920 - val_acc: 0.6422\n",
      "Epoch 111/200\n",
      "50000/50000 [==============================] - 46s 918us/step - loss: 0.0822 - acc: 0.9724 - val_loss: 2.1330 - val_acc: 0.6798\n",
      "Epoch 112/200\n",
      "50000/50000 [==============================] - 46s 916us/step - loss: 0.0725 - acc: 0.9757 - val_loss: 2.1898 - val_acc: 0.6821\n",
      "Epoch 113/200\n",
      "50000/50000 [==============================] - 46s 920us/step - loss: 0.0723 - acc: 0.9756 - val_loss: 2.2485 - val_acc: 0.6732\n",
      "Epoch 114/200\n",
      "50000/50000 [==============================] - 46s 918us/step - loss: 0.0687 - acc: 0.9767 - val_loss: 2.4822 - val_acc: 0.6564\n",
      "Epoch 115/200\n",
      "50000/50000 [==============================] - 46s 922us/step - loss: 0.0706 - acc: 0.9765 - val_loss: 2.3708 - val_acc: 0.6614\n",
      "Epoch 116/200\n",
      "50000/50000 [==============================] - 46s 921us/step - loss: 0.0716 - acc: 0.9757 - val_loss: 2.3828 - val_acc: 0.6593\n"
     ]
    },
    {
     "name": "stdout",
     "output_type": "stream",
     "text": [
      "Epoch 117/200\n",
      "50000/50000 [==============================] - 46s 921us/step - loss: 0.0759 - acc: 0.9740 - val_loss: 2.9167 - val_acc: 0.6311\n",
      "Epoch 118/200\n",
      "50000/50000 [==============================] - 46s 925us/step - loss: 0.0749 - acc: 0.9756 - val_loss: 2.4591 - val_acc: 0.6637\n",
      "Epoch 119/200\n",
      "50000/50000 [==============================] - 46s 923us/step - loss: 0.0757 - acc: 0.9762 - val_loss: 2.4280 - val_acc: 0.6381\n",
      "Epoch 120/200\n",
      "50000/50000 [==============================] - 46s 919us/step - loss: 0.0599 - acc: 0.9796 - val_loss: 2.4356 - val_acc: 0.6699\n",
      "Epoch 121/200\n",
      "50000/50000 [==============================] - 46s 918us/step - loss: 0.0715 - acc: 0.9762 - val_loss: 2.2635 - val_acc: 0.6786\n",
      "Epoch 122/200\n",
      "50000/50000 [==============================] - 46s 922us/step - loss: 0.0646 - acc: 0.9783 - val_loss: 2.3785 - val_acc: 0.6802\n",
      "Epoch 123/200\n",
      "50000/50000 [==============================] - 46s 921us/step - loss: 0.0542 - acc: 0.9820 - val_loss: 2.3524 - val_acc: 0.6812\n",
      "Epoch 124/200\n",
      "50000/50000 [==============================] - 46s 917us/step - loss: 0.0545 - acc: 0.9823 - val_loss: 2.4182 - val_acc: 0.6770\n",
      "Epoch 125/200\n",
      "50000/50000 [==============================] - 46s 919us/step - loss: 0.0595 - acc: 0.9803 - val_loss: 2.3433 - val_acc: 0.6740\n",
      "Epoch 126/200\n",
      "50000/50000 [==============================] - 46s 920us/step - loss: 0.0571 - acc: 0.9813 - val_loss: 2.2831 - val_acc: 0.6815\n",
      "Epoch 127/200\n",
      "50000/50000 [==============================] - 46s 919us/step - loss: 0.0513 - acc: 0.9831 - val_loss: 2.4150 - val_acc: 0.6808\n",
      "Epoch 128/200\n",
      "50000/50000 [==============================] - 46s 918us/step - loss: 0.0546 - acc: 0.9821 - val_loss: 2.3581 - val_acc: 0.6790\n",
      "Epoch 129/200\n",
      "50000/50000 [==============================] - 46s 919us/step - loss: 0.0480 - acc: 0.9839 - val_loss: 2.8232 - val_acc: 0.6414\n",
      "Epoch 130/200\n",
      "50000/50000 [==============================] - 46s 923us/step - loss: 0.0515 - acc: 0.9835 - val_loss: 2.3827 - val_acc: 0.6821\n",
      "Epoch 131/200\n",
      "50000/50000 [==============================] - 46s 924us/step - loss: 0.0492 - acc: 0.9832 - val_loss: 2.3127 - val_acc: 0.6807\n",
      "Epoch 132/200\n",
      "50000/50000 [==============================] - 46s 928us/step - loss: 0.0450 - acc: 0.9852 - val_loss: 2.4982 - val_acc: 0.6673\n",
      "Epoch 133/200\n",
      "50000/50000 [==============================] - 46s 923us/step - loss: 0.0527 - acc: 0.9819 - val_loss: 2.3920 - val_acc: 0.6823\n",
      "Epoch 134/200\n",
      "50000/50000 [==============================] - 46s 920us/step - loss: 0.0384 - acc: 0.9879 - val_loss: 2.7486 - val_acc: 0.6423\n",
      "Epoch 135/200\n",
      "50000/50000 [==============================] - 46s 923us/step - loss: 0.0489 - acc: 0.9836 - val_loss: 2.4300 - val_acc: 0.6844\n",
      "Epoch 136/200\n",
      "50000/50000 [==============================] - 46s 918us/step - loss: 0.0331 - acc: 0.9893 - val_loss: 2.5631 - val_acc: 0.6768\n",
      "Epoch 137/200\n",
      "50000/50000 [==============================] - 47s 947us/step - loss: 0.0437 - acc: 0.9857 - val_loss: 2.4432 - val_acc: 0.6806\n",
      "Epoch 138/200\n",
      "50000/50000 [==============================] - 46s 920us/step - loss: 0.0570 - acc: 0.9812 - val_loss: 2.9395 - val_acc: 0.6445\n",
      "Epoch 139/200\n",
      "50000/50000 [==============================] - 46s 920us/step - loss: 0.0432 - acc: 0.9858 - val_loss: 2.5566 - val_acc: 0.6794\n",
      "Epoch 140/200\n",
      "50000/50000 [==============================] - 46s 922us/step - loss: 0.0308 - acc: 0.9898 - val_loss: 2.5427 - val_acc: 0.6783\n",
      "Epoch 141/200\n",
      "50000/50000 [==============================] - 46s 920us/step - loss: 0.0305 - acc: 0.9902 - val_loss: 2.5702 - val_acc: 0.6795\n",
      "Epoch 142/200\n",
      "50000/50000 [==============================] - 46s 926us/step - loss: 0.0428 - acc: 0.9861 - val_loss: 2.4593 - val_acc: 0.6804\n",
      "Epoch 143/200\n",
      "50000/50000 [==============================] - 46s 925us/step - loss: 0.0267 - acc: 0.9916 - val_loss: 3.1966 - val_acc: 0.6395\n",
      "Epoch 144/200\n",
      "50000/50000 [==============================] - 46s 923us/step - loss: 0.0449 - acc: 0.9858 - val_loss: 2.4613 - val_acc: 0.6805\n",
      "Epoch 145/200\n",
      "50000/50000 [==============================] - 46s 922us/step - loss: 0.0338 - acc: 0.9886 - val_loss: 2.6734 - val_acc: 0.6672\n",
      "Epoch 146/200\n",
      "50000/50000 [==============================] - 46s 921us/step - loss: 0.0392 - acc: 0.9871 - val_loss: 2.5816 - val_acc: 0.6754\n",
      "Epoch 147/200\n",
      "50000/50000 [==============================] - 46s 919us/step - loss: 0.0277 - acc: 0.9911 - val_loss: 2.6186 - val_acc: 0.6822\n",
      "Epoch 148/200\n",
      "50000/50000 [==============================] - 46s 923us/step - loss: 0.0432 - acc: 0.9866 - val_loss: 2.4798 - val_acc: 0.6810\n",
      "Epoch 149/200\n",
      "50000/50000 [==============================] - 46s 922us/step - loss: 0.0287 - acc: 0.9903 - val_loss: 2.5817 - val_acc: 0.6768\n",
      "Epoch 150/200\n",
      "50000/50000 [==============================] - 46s 925us/step - loss: 0.0377 - acc: 0.9886 - val_loss: 2.5263 - val_acc: 0.6818\n",
      "Epoch 151/200\n",
      "50000/50000 [==============================] - 46s 922us/step - loss: 0.0265 - acc: 0.9912 - val_loss: 2.5796 - val_acc: 0.6823\n",
      "Epoch 152/200\n",
      "50000/50000 [==============================] - 46s 924us/step - loss: 0.0264 - acc: 0.9916 - val_loss: 2.5958 - val_acc: 0.6774\n",
      "Epoch 153/200\n",
      "50000/50000 [==============================] - 46s 921us/step - loss: 0.0337 - acc: 0.9893 - val_loss: 2.6976 - val_acc: 0.6780\n",
      "Epoch 154/200\n",
      "50000/50000 [==============================] - 46s 922us/step - loss: 0.0351 - acc: 0.9892 - val_loss: 2.6685 - val_acc: 0.6770\n",
      "Epoch 155/200\n",
      "50000/50000 [==============================] - 46s 921us/step - loss: 0.0272 - acc: 0.9910 - val_loss: 2.5815 - val_acc: 0.6829\n",
      "Epoch 156/200\n",
      "50000/50000 [==============================] - 46s 924us/step - loss: 0.0307 - acc: 0.9900 - val_loss: 2.6515 - val_acc: 0.6795\n",
      "Epoch 157/200\n",
      "50000/50000 [==============================] - 46s 923us/step - loss: 0.0276 - acc: 0.9905 - val_loss: 2.7425 - val_acc: 0.6781\n",
      "Epoch 158/200\n",
      "50000/50000 [==============================] - 46s 923us/step - loss: 0.0249 - acc: 0.9916 - val_loss: 2.6132 - val_acc: 0.6815\n",
      "Epoch 159/200\n",
      "50000/50000 [==============================] - 46s 926us/step - loss: 0.0212 - acc: 0.9933 - val_loss: 2.7214 - val_acc: 0.6792\n",
      "Epoch 160/200\n",
      "50000/50000 [==============================] - 46s 925us/step - loss: 0.0183 - acc: 0.9945 - val_loss: 2.6876 - val_acc: 0.6790\n",
      "Epoch 161/200\n",
      "50000/50000 [==============================] - 46s 923us/step - loss: 0.0314 - acc: 0.9897 - val_loss: 2.6658 - val_acc: 0.6814\n",
      "Epoch 162/200\n",
      "50000/50000 [==============================] - 46s 922us/step - loss: 0.0259 - acc: 0.9918 - val_loss: 2.8474 - val_acc: 0.6575\n",
      "Epoch 163/200\n",
      "50000/50000 [==============================] - 46s 919us/step - loss: 0.0302 - acc: 0.9897 - val_loss: 2.7093 - val_acc: 0.6690\n",
      "Epoch 164/200\n",
      "50000/50000 [==============================] - 46s 921us/step - loss: 0.0486 - acc: 0.9870 - val_loss: 2.5311 - val_acc: 0.6797\n",
      "Epoch 165/200\n",
      "50000/50000 [==============================] - 46s 919us/step - loss: 0.0170 - acc: 0.9950 - val_loss: 2.6336 - val_acc: 0.6782\n",
      "Epoch 166/200\n",
      "50000/50000 [==============================] - 46s 918us/step - loss: 0.0187 - acc: 0.9945 - val_loss: 2.7939 - val_acc: 0.6702\n",
      "Epoch 167/200\n",
      "50000/50000 [==============================] - 46s 918us/step - loss: 0.0210 - acc: 0.9937 - val_loss: 2.7331 - val_acc: 0.6804\n",
      "Epoch 168/200\n",
      "50000/50000 [==============================] - 46s 918us/step - loss: 0.0206 - acc: 0.9936 - val_loss: 3.4512 - val_acc: 0.6332\n",
      "Epoch 169/200\n",
      "50000/50000 [==============================] - 46s 917us/step - loss: 0.0335 - acc: 0.9893 - val_loss: 2.7618 - val_acc: 0.6733\n",
      "Epoch 170/200\n",
      "50000/50000 [==============================] - 46s 921us/step - loss: 0.0264 - acc: 0.9920 - val_loss: 2.6625 - val_acc: 0.6788\n",
      "Epoch 171/200\n",
      "50000/50000 [==============================] - 46s 919us/step - loss: 0.0194 - acc: 0.9942 - val_loss: 2.7023 - val_acc: 0.6846\n",
      "Epoch 172/200\n",
      "50000/50000 [==============================] - 46s 919us/step - loss: 0.0147 - acc: 0.9953 - val_loss: 2.7772 - val_acc: 0.6833\n",
      "Epoch 173/200\n",
      "50000/50000 [==============================] - 46s 919us/step - loss: 0.0141 - acc: 0.9955 - val_loss: 2.8479 - val_acc: 0.6792\n",
      "Epoch 174/200\n",
      "50000/50000 [==============================] - 46s 918us/step - loss: 0.0191 - acc: 0.9938 - val_loss: 2.7223 - val_acc: 0.6820\n"
     ]
    },
    {
     "name": "stdout",
     "output_type": "stream",
     "text": [
      "Epoch 175/200\n",
      "50000/50000 [==============================] - 46s 921us/step - loss: 0.0209 - acc: 0.9936 - val_loss: 2.7570 - val_acc: 0.6812\n",
      "Epoch 176/200\n",
      "50000/50000 [==============================] - 46s 920us/step - loss: 0.0175 - acc: 0.9944 - val_loss: 2.7995 - val_acc: 0.6778\n",
      "Epoch 177/200\n",
      "50000/50000 [==============================] - 46s 925us/step - loss: 0.0130 - acc: 0.9959 - val_loss: 2.8200 - val_acc: 0.6859\n",
      "Epoch 178/200\n",
      "50000/50000 [==============================] - 46s 920us/step - loss: 0.0179 - acc: 0.9941 - val_loss: 2.7944 - val_acc: 0.6736\n",
      "Epoch 179/200\n",
      "50000/50000 [==============================] - 46s 923us/step - loss: 0.0230 - acc: 0.9923 - val_loss: 2.8218 - val_acc: 0.6758\n",
      "Epoch 180/200\n",
      "50000/50000 [==============================] - 46s 926us/step - loss: 0.0203 - acc: 0.9936 - val_loss: 2.7890 - val_acc: 0.6808\n",
      "Epoch 181/200\n",
      "50000/50000 [==============================] - 46s 921us/step - loss: 0.0293 - acc: 0.9910 - val_loss: 2.6921 - val_acc: 0.6859\n",
      "Epoch 182/200\n",
      "50000/50000 [==============================] - 46s 918us/step - loss: 0.0161 - acc: 0.9947 - val_loss: 2.7861 - val_acc: 0.6825\n",
      "Epoch 183/200\n",
      "50000/50000 [==============================] - 46s 922us/step - loss: 0.0291 - acc: 0.9906 - val_loss: 2.9318 - val_acc: 0.6731\n",
      "Epoch 184/200\n",
      "50000/50000 [==============================] - 46s 919us/step - loss: 0.0195 - acc: 0.9936 - val_loss: 2.7496 - val_acc: 0.6871\n",
      "Epoch 185/200\n",
      "50000/50000 [==============================] - 46s 916us/step - loss: 0.0135 - acc: 0.9955 - val_loss: 2.8438 - val_acc: 0.6796\n",
      "Epoch 186/200\n",
      "50000/50000 [==============================] - 46s 920us/step - loss: 0.0178 - acc: 0.9945 - val_loss: 2.8480 - val_acc: 0.6758\n",
      "Epoch 187/200\n",
      "50000/50000 [==============================] - 46s 917us/step - loss: 0.0149 - acc: 0.9950 - val_loss: 2.8408 - val_acc: 0.6829\n",
      "Epoch 188/200\n",
      "50000/50000 [==============================] - 46s 915us/step - loss: 0.0113 - acc: 0.9968 - val_loss: 2.8199 - val_acc: 0.6806\n",
      "Epoch 189/200\n",
      "50000/50000 [==============================] - 46s 919us/step - loss: 0.0097 - acc: 0.9972 - val_loss: 2.8529 - val_acc: 0.6845\n",
      "Epoch 190/200\n",
      "50000/50000 [==============================] - 46s 922us/step - loss: 0.0208 - acc: 0.9933 - val_loss: 2.8944 - val_acc: 0.6821\n",
      "Epoch 191/200\n",
      "50000/50000 [==============================] - 46s 921us/step - loss: 0.0262 - acc: 0.9922 - val_loss: 2.8672 - val_acc: 0.6840\n",
      "Epoch 192/200\n",
      "50000/50000 [==============================] - 46s 919us/step - loss: 0.0210 - acc: 0.9931 - val_loss: 3.2077 - val_acc: 0.6466\n",
      "Epoch 193/200\n",
      "50000/50000 [==============================] - 46s 922us/step - loss: 0.0233 - acc: 0.9932 - val_loss: 2.7911 - val_acc: 0.6783\n",
      "Epoch 194/200\n",
      "50000/50000 [==============================] - 46s 921us/step - loss: 0.0154 - acc: 0.9950 - val_loss: 2.8358 - val_acc: 0.6838\n",
      "Epoch 195/200\n",
      "50000/50000 [==============================] - 46s 916us/step - loss: 0.0272 - acc: 0.9916 - val_loss: 2.8064 - val_acc: 0.6780\n",
      "Epoch 196/200\n",
      "50000/50000 [==============================] - 46s 924us/step - loss: 0.0214 - acc: 0.9929 - val_loss: 2.9506 - val_acc: 0.6738\n",
      "Epoch 197/200\n",
      "50000/50000 [==============================] - 46s 924us/step - loss: 0.0273 - acc: 0.9911 - val_loss: 2.8606 - val_acc: 0.6773\n",
      "Epoch 198/200\n",
      "50000/50000 [==============================] - 46s 926us/step - loss: 0.0160 - acc: 0.9950 - val_loss: 2.8415 - val_acc: 0.6831\n",
      "Epoch 199/200\n",
      "50000/50000 [==============================] - 46s 925us/step - loss: 0.0106 - acc: 0.9968 - val_loss: 2.8267 - val_acc: 0.6827\n",
      "Epoch 200/200\n",
      "50000/50000 [==============================] - 46s 923us/step - loss: 0.0167 - acc: 0.9947 - val_loss: 2.9369 - val_acc: 0.6738\n"
     ]
    }
   ],
   "source": [
    "\n",
    "# Train the Model\n",
    "#earlyStopping=keras.callbacks.EarlyStopping(monitor='val_acc', min_delta=0, patience=13, verbose=1, mode='auto')\n",
    "history = model.fit(x_train, y_train,\n",
    "                    batch_size=batch_size,\n",
    "                    epochs=epochs,\n",
    "                    verbose=1,\n",
    " #                   callbacks=[earlyStopping],\n",
    "                    validation_data=(x_test, y_test))\n",
    "\n",
    "\n"
   ]
  },
  {
   "cell_type": "code",
   "execution_count": null,
   "metadata": {
    "collapsed": true
   },
   "outputs": [],
   "source": []
  },
  {
   "cell_type": "code",
   "execution_count": 11,
   "metadata": {},
   "outputs": [
    {
     "data": {
      "image/png": "[encoded data removed]",
      "text/plain": [
       "<matplotlib.figure.Figure at 0x7f8149453f28>"
      ]
     },
     "metadata": {},
     "output_type": "display_data"
    }
   ],
   "source": [
    "plt.plot(history.history['acc'])\n",
    "plt.plot(history.history['val_acc'])\n",
    "plt.title('model accuracy')\n",
    "plt.ylabel('accuracy')\n",
    "plt.xlabel('epoch')\n",
    "plt.legend(['train acc','val acc'], loc='upper left')\n",
    "plt.show()"
   ]
  },
  {
   "cell_type": "code",
   "execution_count": 12,
   "metadata": {},
   "outputs": [
    {
     "data": {
      "image/png": "[encoded data removed]",
      "text/plain": [
       "<matplotlib.figure.Figure at 0x7f8149353cf8>"
      ]
     },
     "metadata": {},
     "output_type": "display_data"
    }
   ],
   "source": [
    "plt.plot(history.history['loss'])\n",
    "plt.plot(history.history['val_loss'])\n",
    "plt.title('model loss')\n",
    "plt.ylabel('loss')\n",
    "plt.xlabel('epoch')\n",
    "plt.legend(['train loss','Val Loss'], loc='upper left')\n",
    "plt.show()"
   ]
  },
  {
   "cell_type": "code",
   "execution_count": 13,
   "metadata": {},
   "outputs": [
    {
     "name": "stdout",
     "output_type": "stream",
     "text": [
      "Test loss: 2.93688156624\n",
      "Test accuracy: 0.6738\n"
     ]
    }
   ],
   "source": [
    "# Test the model\n",
    "score = model.evaluate(x_test, y_test, verbose=0)\n",
    "print('Test loss:', score[0])\n",
    "print('Test accuracy:', score[1])"
   ]
  },
  {
   "cell_type": "code",
   "execution_count": null,
   "metadata": {
    "collapsed": true
   },
   "outputs": [],
   "source": []
  },
  {
   "cell_type": "code",
   "execution_count": 14,
   "metadata": {},
   "outputs": [
    {
     "name": "stdout",
     "output_type": "stream",
     "text": [
      "{'val_loss': [2.2380441894531251, 1.9801278224945069, 1.9172697967529297, 1.9692719022750855, 1.6961905002593993, 1.7176288276672362, 1.5572816375732421, 1.4703584720611573, 1.4904657051086425, 1.4944583818435668, 1.3491689235687256, 1.3588013313293457, 1.3151653068542482, 1.4994898393630982, 1.5386286224365235, 1.2627876075744628, 1.2682984818458558, 1.2318871974945069, 1.1949210788726807, 1.1426086994171143, 1.1933078330993652, 1.1952382474899292, 1.1146025148391723, 1.1285050867080688, 1.1863272258758546, 1.04504318857193, 1.0553323937416077, 1.1726043385505676, 1.4309740541458129, 1.1260494921684265, 1.2032621061325073, 1.0785433633804322, 1.2050541034698485, 1.074143016052246, 1.0068146800994873, 1.1378113906860352, 1.0162292104721069, 1.0644844392776489, 0.98347990932464602, 1.0458018688201904, 1.0523478752136231, 1.0339043272018433, 1.1859009876251221, 0.97247734413146969, 1.1082931848526001, 1.2701219657897949, 1.0870559194564819, 1.0933790306091309, 1.0179651851654052, 1.1334795694351196, 1.0131632385253906, 1.0043521903991699, 1.2431789489746095, 1.0809488048553466, 1.2165683475494384, 1.1429338266372682, 1.2515210815429687, 1.2671931003570556, 1.0850049255371095, 1.096839310836792, 1.2560858741760255, 1.4598963485717773, 1.3617071044921876, 1.4801070308685302, 1.1979568977355957, 1.3490511611938476, 1.1820153568267822, 1.2705077808380127, 1.4385722366333007, 1.4794717338562011, 1.2569772905349732, 1.3593780792236327, 1.4972665571212769, 1.3511231107711792, 1.4222576129913329, 1.3452633358001709, 1.7073961349487305, 1.4007561168670655, 1.5447625434875489, 2.1129016723632814, 1.6387866565704345, 1.6118623783111572, 1.5885907264709473, 1.6017801151275635, 2.0498984096527098, 1.6979396183013915, 1.6951552135467529, 1.7337189270019531, 1.6623883537292481, 1.9295602188110352, 2.2709202621459963, 2.3156426525115967, 1.8027963760375976, 1.8367284004211426, 1.9554677547454833, 2.0509629707336425, 1.9509062240600585, 1.9911962821960449, 1.8156243076324463, 1.9653032924652099, 2.0592661449432375, 1.9406583171844483, 2.4656437526702879, 2.2081991401672365, 2.0562662254333497, 3.0868049896240235, 2.6560008781433107, 2.2163959175109862, 2.092937519454956, 2.391993208694458, 2.1329881225585936, 2.1897673870086671, 2.2484791740417482, 2.4822058059692385, 2.3707664630889891, 2.3827775718688966, 2.9166662059783937, 2.4591156814575195, 2.4279501411437989, 2.4356024932861327, 2.2635336540222166, 2.3784535385131838, 2.3523779598236083, 2.4182356620788572, 2.3433080730438234, 2.2830972679138184, 2.4149865543365476, 2.3581345809936525, 2.8231628189086915, 2.3827357810974119, 2.312747593688965, 2.4981517059326173, 2.3920392486572264, 2.7485947021484374, 2.4299822616577149, 2.563101808166504, 2.443217147064209, 2.9394632598876953, 2.5566072475433348, 2.5427442451477051, 2.5701552017211915, 2.4592985260009765, 3.1966299186706544, 2.4612713439941407, 2.6733979431152344, 2.5816203079223632, 2.6186124179840089, 2.4798488403320311, 2.5817493904113769, 2.5263237060546877, 2.579569065093994, 2.595826081085205, 2.6975505989074708, 2.6684721870422363, 2.5815376846313476, 2.6515418495178222, 2.7425345085144044, 2.6132001068115236, 2.7214367065429688, 2.6876117225646974, 2.6657853797912598, 2.8474392738342287, 2.7092503662109375, 2.5311115745544432, 2.633629066467285, 2.7938846363067626, 2.7331350372314454, 3.451175521850586, 2.7617551971435548, 2.6624764320373537, 2.7022828742980955, 2.7771511802673339, 2.8478919216156005, 2.7222981063842773, 2.7570140762329101, 2.7994527976989745, 2.8200016647338866, 2.794426062774658, 2.8218376060485841, 2.7890027465820313, 2.6921006042480471, 2.7860861991882326, 2.9318212554931642, 2.749580788040161, 2.8438374782562255, 2.8480193786621095, 2.8408089340209961, 2.8198692001342773, 2.8529102432250975, 2.8944263877868655, 2.8672317481994627, 3.2076726562500002, 2.7911253509521483, 2.8357904090881347, 2.8064370605468749, 2.9506248863220215, 2.8606257118225096, 2.8415304252624511, 2.8267127456665038, 2.9368815475463865], 'val_acc': [0.1918, 0.27400000000000002, 0.30420000000000003, 0.30420000000000003, 0.38369999999999999, 0.38579999999999998, 0.44009999999999999, 0.46179999999999999, 0.44800000000000001, 0.47189999999999999, 0.50790000000000002, 0.50529999999999997, 0.51490000000000002, 0.48089999999999999, 0.4607, 0.54269999999999996, 0.54179999999999995, 0.55549999999999999, 0.5726, 0.58320000000000005, 0.57150000000000001, 0.57030000000000003, 0.60009999999999997, 0.60229999999999995, 0.58879999999999999, 0.62209999999999999, 0.62370000000000003, 0.58930000000000005, 0.54910000000000003, 0.60440000000000005, 0.57579999999999998, 0.62009999999999998, 0.60040000000000004, 0.63380000000000003, 0.6482, 0.62090000000000001, 0.65669999999999995, 0.63470000000000004, 0.66239999999999999, 0.64500000000000002, 0.64780000000000004, 0.65659999999999996, 0.62970000000000004, 0.67379999999999995, 0.64600000000000002, 0.61140000000000005, 0.65280000000000005, 0.65869999999999995, 0.67049999999999998, 0.65710000000000002, 0.66739999999999999, 0.68169999999999997, 0.63339999999999996, 0.65069999999999995, 0.64539999999999997, 0.65910000000000002, 0.6452, 0.64510000000000001, 0.67779999999999996, 0.67500000000000004, 0.65890000000000004, 0.63480000000000003, 0.65039999999999998, 0.63939999999999997, 0.68230000000000002, 0.65859999999999996, 0.68420000000000003, 0.67079999999999995, 0.63729999999999998, 0.65539999999999998, 0.68359999999999999, 0.6744, 0.65869999999999995, 0.68000000000000005, 0.67620000000000002, 0.68200000000000005, 0.63429999999999997, 0.68400000000000005, 0.66969999999999996, 0.60829999999999995, 0.6724, 0.66379999999999995, 0.67959999999999998, 0.67879999999999996, 0.6411, 0.67259999999999998, 0.68179999999999996, 0.6764, 0.68149999999999999, 0.63060000000000005, 0.63170000000000004, 0.61890000000000001, 0.66610000000000003, 0.67500000000000004, 0.65990000000000004, 0.65990000000000004, 0.6774, 0.67259999999999998, 0.66759999999999997, 0.68379999999999996, 0.6714, 0.67920000000000003, 0.61899999999999999, 0.66479999999999995, 0.66910000000000003, 0.59389999999999998, 0.61409999999999998, 0.66090000000000004, 0.67430000000000001, 0.64219999999999999, 0.67979999999999996, 0.68210000000000004, 0.67320000000000002, 0.65639999999999998, 0.66139999999999999, 0.6593, 0.63109999999999999, 0.66369999999999996, 0.6381, 0.66990000000000005, 0.67859999999999998, 0.68020000000000003, 0.68120000000000003, 0.67700000000000005, 0.67400000000000004, 0.68149999999999999, 0.68079999999999996, 0.67900000000000005, 0.64139999999999997, 0.68210000000000004, 0.68069999999999997, 0.6673, 0.68230000000000002, 0.64229999999999998, 0.68440000000000001, 0.67679999999999996, 0.68059999999999998, 0.64449999999999996, 0.6794, 0.67830000000000001, 0.67949999999999999, 0.6804, 0.63949999999999996, 0.68049999999999999, 0.66720000000000002, 0.6754, 0.68220000000000003, 0.68100000000000005, 0.67679999999999996, 0.68179999999999996, 0.68230000000000002, 0.6774, 0.67800000000000005, 0.67700000000000005, 0.68289999999999995, 0.67949999999999999, 0.67810000000000004, 0.68149999999999999, 0.67920000000000003, 0.67900000000000005, 0.68140000000000001, 0.65749999999999997, 0.66900000000000004, 0.67969999999999997, 0.67820000000000003, 0.67020000000000002, 0.6804, 0.63319999999999999, 0.67330000000000001, 0.67879999999999996, 0.68459999999999999, 0.68330000000000002, 0.67920000000000003, 0.68200000000000005, 0.68120000000000003, 0.67779999999999996, 0.68589999999999995, 0.67359999999999998, 0.67579999999999996, 0.68079999999999996, 0.68589999999999995, 0.6825, 0.67310000000000003, 0.68710000000000004, 0.67959999999999998, 0.67579999999999996, 0.68289999999999995, 0.68059999999999998, 0.6845, 0.68210000000000004, 0.68400000000000005, 0.64659999999999995, 0.67830000000000001, 0.68379999999999996, 0.67800000000000005, 0.67379999999999995, 0.67730000000000001, 0.68310000000000004, 0.68269999999999997, 0.67379999999999995], 'loss': [2.2873021475219728, 2.1234132307434082, 1.9959640185546874, 1.889357151298523, 1.7710064874649047, 1.6837566014099121, 1.6148994000244141, 1.5578246218490601, 1.5111555389022828, 1.4698726847076415, 1.4288423616790771, 1.3903916208648681, 1.3558464017486573, 1.3188144095993042, 1.286777734375, 1.2596323628234862, 1.2309053007125854, 1.1991794020462037, 1.1763003397369385, 1.1465917228317262, 1.1222842971229554, 1.0935787793731691, 1.0753419489288329, 1.0450999543380737, 1.0258101881027222, 1.0049335250091553, 0.97781617248535158, 0.96038342453002934, 0.93821126083374018, 0.9168496184539795, 0.8975510813140869, 0.88358821701049806, 0.865040647354126, 0.84434350534439084, 0.82393240945816038, 0.80579042503356935, 0.79430796493530276, 0.77527952331542971, 0.75572797290802007, 0.73878337882995604, 0.72400082891464235, 0.70728184980392461, 0.69208688770294191, 0.67838900447845463, 0.65844957901000978, 0.64853173885345461, 0.6303377790355682, 0.61360800531387327, 0.60444860656738286, 0.5837760994720459, 0.57598249027252202, 0.55709318726539614, 0.54463282424926762, 0.53574837154388433, 0.51790873474121091, 0.50237775978088384, 0.48799153633117676, 0.47948926809310916, 0.45986194630622862, 0.45157069473743439, 0.43648948209762573, 0.42121765615463258, 0.41697640734195707, 0.39714496488571166, 0.3897564487314224, 0.37606710712432861, 0.36005694003105165, 0.35289063021183015, 0.3412320222854614, 0.33226232564926145, 0.31709656143188475, 0.31312688945770262, 0.29646493809700014, 0.29095280424118042, 0.27458389409542083, 0.27417738368034361, 0.26559339707374574, 0.25091444063067436, 0.24233277666568756, 0.23859586968421936, 0.22671853506088258, 0.21679629317760468, 0.22095178576946259, 0.2020458351278305, 0.19337972926139832, 0.188862623026371, 0.18720398684024811, 0.17683093483209611, 0.17602622885107994, 0.15947302199602126, 0.15633882146835326, 0.15809500525236131, 0.14706194591999053, 0.14158105805397034, 0.13363459565162658, 0.13724704211473465, 0.13428412228465081, 0.12444323172092438, 0.13012626371860503, 0.112934661693573, 0.122797993491292, 0.10931926709532738, 0.10549698804616928, 0.10684514732122422, 0.10088218268871307, 0.093616017127037043, 0.10428607598662376, 0.092111367101669311, 0.08337787185311317, 0.083502276595830913, 0.082249635798633092, 0.072482328863441942, 0.072298791059851653, 0.068730631251037122, 0.070572570254206657, 0.07163413304328918, 0.075899651951789854, 0.074915786004066467, 0.075675773271918295, 0.059926585680544375, 0.071547393767237663, 0.064551589845716947, 0.05416758646249771, 0.054502504043132068, 0.059467318946719167, 0.057080813040733334, 0.051293055065870286, 0.054555652816295624, 0.047997376960664986, 0.051455735341757534, 0.049198115850389003, 0.044970631155371664, 0.05272354270786047, 0.038425655952990058, 0.048948600602149964, 0.033123070093989369, 0.043748428485840561, 0.057041623467355966, 0.043181801671385765, 0.03084762200309895, 0.030464398004300893, 0.042750599028468131, 0.026743949307128787, 0.04489101685810834, 0.033844012048766019, 0.039234893125742673, 0.027747691839914768, 0.043226409025415781, 0.028703284543007614, 0.037705726342760024, 0.026536708314977585, 0.026412271077111363, 0.033730758676454427, 0.035126944070011379, 0.027173513761609792, 0.030730852438583971, 0.027551940037608146, 0.024942847238155083, 0.02121070587836206, 0.018322562779709697, 0.03144994296602905, 0.025913971457704903, 0.030201804400347174, 0.048574597047157587, 0.017049183134287597, 0.018738799228854477, 0.020954594942228868, 0.020585096106082203, 0.03345420930816792, 0.026393130187503992, 0.019430926334997638, 0.014715407769791782, 0.014075500836279243, 0.019059129662420602, 0.020892529581673442, 0.017524195851758122, 0.012962482965160161, 0.017894238813240083, 0.022980712417457253, 0.02033749670431018, 0.029295398975107818, 0.016143898694291711, 0.029057375126220288, 0.019454968402683737, 0.013493607336748391, 0.017828493658490478, 0.014869321429952979, 0.011299354651933536, 0.0097137703619711094, 0.020796635215915741, 0.02620386119928211, 0.020978573552407325, 0.0233237308075279, 0.01539899278471712, 0.027179286926016212, 0.021425188850611447, 0.027341781975813211, 0.015968526154775172, 0.010598965342510492, 0.016697984762564302], 'acc': [0.12720000000000001, 0.20794000000000001, 0.25741999999999998, 0.30406, 0.34816000000000003, 0.37959999999999999, 0.40604000000000001, 0.42848000000000003, 0.44751999999999997, 0.46248, 0.47798000000000002, 0.49284, 0.50639999999999996, 0.52105999999999997, 0.53395999999999999, 0.54305999999999999, 0.55628, 0.56669999999999998, 0.57565999999999995, 0.59001999999999999, 0.59594000000000003, 0.60787999999999998, 0.61463999999999996, 0.62685999999999997, 0.63514000000000004, 0.64166000000000001, 0.65029999999999999, 0.65780000000000005, 0.66503999999999996, 0.67442000000000002, 0.68066000000000004, 0.68528, 0.69359999999999999, 0.69869999999999999, 0.70684000000000002, 0.71128000000000002, 0.71731999999999996, 0.72482000000000002, 0.73216000000000003, 0.73887999999999998, 0.745, 0.75134000000000001, 0.75339999999999996, 0.76068000000000002, 0.76756000000000002, 0.77214000000000005, 0.77569999999999995, 0.78281999999999996, 0.78646000000000005, 0.79423999999999995, 0.79513999999999996, 0.80415999999999999, 0.80893999999999999, 0.81147999999999998, 0.81732000000000005, 0.82438, 0.82776000000000005, 0.83077999999999996, 0.83796000000000004, 0.84192, 0.84553999999999996, 0.85167999999999999, 0.85209999999999997, 0.85877999999999999, 0.86231999999999998, 0.86734, 0.87380000000000002, 0.87507999999999997, 0.88029999999999997, 0.88417999999999997, 0.88927999999999996, 0.88959999999999995, 0.89568000000000003, 0.89824000000000004, 0.90249999999999997, 0.90251999999999999, 0.90546000000000004, 0.91024000000000005, 0.91415999999999997, 0.91513999999999995, 0.92093999999999998, 0.92423999999999995, 0.92208000000000001, 0.92898000000000003, 0.93189999999999995, 0.93381999999999998, 0.93332000000000004, 0.93752000000000002, 0.93822000000000005, 0.94423999999999997, 0.94557999999999998, 0.9446, 0.94952000000000003, 0.95020000000000004, 0.95298000000000005, 0.95240000000000002, 0.95269999999999999, 0.95669999999999999, 0.95630000000000004, 0.96153999999999995, 0.95886000000000005, 0.96194000000000002, 0.96440000000000003, 0.96382000000000001, 0.96653999999999995, 0.96777999999999997, 0.96531999999999996, 0.96914, 0.97058, 0.97131999999999996, 0.97236, 0.97574000000000005, 0.97563999999999995, 0.97674000000000005, 0.97653999999999996, 0.97567999999999999, 0.97399999999999998, 0.97558, 0.97624, 0.97958000000000001, 0.97621999999999998, 0.97829999999999995, 0.98204000000000002, 0.98226000000000002, 0.98031999999999997, 0.98133999999999999, 0.98311999999999999, 0.98209999999999997, 0.98394000000000004, 0.98353999999999997, 0.98316000000000003, 0.98516000000000004, 0.98194000000000004, 0.98785999999999996, 0.98362000000000005, 0.98934, 0.98570000000000002, 0.98121999999999998, 0.98580000000000001, 0.98975999999999997, 0.99016000000000004, 0.98609999999999998, 0.99160000000000004, 0.98575999999999997, 0.98860000000000003, 0.98709999999999998, 0.99114000000000002, 0.98662000000000005, 0.99028000000000005, 0.98862000000000005, 0.99124000000000001, 0.99160000000000004, 0.98934, 0.98919999999999997, 0.99097999999999997, 0.98997999999999997, 0.99053999999999998, 0.99163999999999997, 0.99329999999999996, 0.99446000000000001, 0.98970000000000002, 0.99180000000000001, 0.98970000000000002, 0.98699999999999999, 0.99497999999999998, 0.99450000000000005, 0.99365999999999999, 0.99356, 0.98928000000000005, 0.99199999999999999, 0.99417999999999995, 0.99528000000000005, 0.99551999999999996, 0.99382000000000004, 0.99360000000000004, 0.99441999999999997, 0.99592000000000003, 0.99414000000000002, 0.99231999999999998, 0.99361999999999995, 0.99102000000000001, 0.99470000000000003, 0.99060000000000004, 0.99361999999999995, 0.99553999999999998, 0.99446000000000001, 0.99497999999999998, 0.99675999999999998, 0.99722, 0.99331999999999998, 0.99221999999999999, 0.99314000000000002, 0.99321999999999999, 0.995, 0.99158000000000002, 0.99285999999999996, 0.99109999999999998, 0.99497999999999998, 0.99680000000000002, 0.99473999999999996]}\n"
     ]
    }
   ],
   "source": [
    "print(history.history)"
   ]
  },
  {
   "cell_type": "code",
   "execution_count": null,
   "metadata": {
    "collapsed": true
   },
   "outputs": [],
   "source": []
  },
  {
   "cell_type": "code",
   "execution_count": 16,
   "metadata": {
    "collapsed": true
   },
   "outputs": [],
   "source": [
    "\n",
    "data = pd.DataFrame(history.history)\n",
    "nome = 'SimpleConvCifar10NormRz_t3' + str(datetime.datetime.now())+'.json'\n",
    "data = data.to_json()\n",
    "with open(nome, \"w+\") as output_file:\n",
    "    output_file.write(data)"
   ]
  },
  {
   "cell_type": "code",
   "execution_count": null,
   "metadata": {
    "collapsed": true
   },
   "outputs": [],
   "source": []
  },
  {
   "cell_type": "code",
   "execution_count": null,
   "metadata": {
    "collapsed": true
   },
   "outputs": [],
   "source": []
  },
  {
   "cell_type": "code",
   "execution_count": null,
   "metadata": {
    "collapsed": true
   },
   "outputs": [],
   "source": []
  },
  {
   "cell_type": "code",
   "execution_count": null,
   "metadata": {
    "collapsed": true
   },
   "outputs": [],
   "source": []
  }
 ],
 "metadata": {
  "kernelspec": {
   "display_name": "Python 3",
   "language": "python",
   "name": "python3"
  },
  "language_info": {
   "codemirror_mode": {
    "name": "ipython",
    "version": 3
   },
   "file_extension": ".py",
   "mimetype": "text/x-python",
   "name": "python",
   "nbconvert_exporter": "python",
   "pygments_lexer": "ipython3",
   "version": "3.6.3"
  }
 },
 "nbformat": 4,
 "nbformat_minor": 2
}
