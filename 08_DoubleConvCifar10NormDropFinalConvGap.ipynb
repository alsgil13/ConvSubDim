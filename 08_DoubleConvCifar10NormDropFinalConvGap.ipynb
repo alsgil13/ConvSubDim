{
 "cells": [
  {
   "cell_type": "code",
   "execution_count": 1,
   "metadata": {},
   "outputs": [
    {
     "name": "stderr",
     "output_type": "stream",
     "text": [
      "Using TensorFlow backend.\n"
     ]
    }
   ],
   "source": [
    "import keras\n",
    "import numpy as np\n",
    "from tflearn.datasets import cifar10\n",
    "from keras.optimizers import SGD\n",
    "from keras.models import Sequential\n",
    "from keras.layers import Dense, Dropout, Flatten, Softmax, ZeroPadding2D\n",
    "from keras.layers import Conv2D, MaxPooling2D, BatchNormalization, Reshape, GlobalAveragePooling2D, GlobalAveragePooling1D\n",
    "from keras.optimizers import Adam\n",
    "from keras.initializers import RandomNormal\n",
    "import matplotlib.pyplot as plt\n",
    "import pandas as pd\n",
    "import datetime"
   ]
  },
  {
   "cell_type": "code",
   "execution_count": 2,
   "metadata": {
    "collapsed": true
   },
   "outputs": [],
   "source": [
    "\n",
    "# Hyperparameters\n",
    "batch_size = 64\n",
    "num_classes = 10 #pegar automaticamente NumPy.Unique\n",
    "epochs = 200\n",
    "\n"
   ]
  },
  {
   "cell_type": "code",
   "execution_count": null,
   "metadata": {
    "collapsed": true
   },
   "outputs": [],
   "source": []
  },
  {
   "cell_type": "code",
   "execution_count": 3,
   "metadata": {
    "collapsed": true
   },
   "outputs": [],
   "source": [
    "# Load Cifar-10 Data\n",
    "(x_train, y_train), (x_test, y_test) = cifar10.load_data()\n",
    "\n",
    "\n",
    "#\n",
    "\n",
    "x_train.shape\n",
    "img_height, img_width, channel = x_train.shape[1],x_train.shape[2],x_train.shape[3]\n",
    "#channel=1\n",
    "\n"
   ]
  },
  {
   "cell_type": "code",
   "execution_count": 4,
   "metadata": {},
   "outputs": [
    {
     "data": {
      "text/plain": [
       "(50000, 32, 32, 3)"
      ]
     },
     "execution_count": 4,
     "metadata": {},
     "output_type": "execute_result"
    }
   ],
   "source": [
    "\n",
    "#\n",
    "x_train.shape\n",
    "\n",
    "#\n"
   ]
  },
  {
   "cell_type": "code",
   "execution_count": 5,
   "metadata": {
    "collapsed": true
   },
   "outputs": [],
   "source": [
    "# convert to one hot encoing \n",
    "y_train = keras.utils.to_categorical(y_train, num_classes)\n",
    "y_test = keras.utils.to_categorical(y_test, num_classes)\n",
    "\n"
   ]
  },
  {
   "cell_type": "code",
   "execution_count": 6,
   "metadata": {},
   "outputs": [
    {
     "data": {
      "text/plain": [
       "32"
      ]
     },
     "execution_count": 6,
     "metadata": {},
     "output_type": "execute_result"
    }
   ],
   "source": [
    "img_width"
   ]
  },
  {
   "cell_type": "code",
   "execution_count": 7,
   "metadata": {
    "collapsed": true
   },
   "outputs": [],
   "source": [
    "model = Sequential()\n",
    "#Filters = IMG_width/2 * 7\n",
    "model.add(Conv2D(112, #alterado de 192 pra 112\n",
    "                 (5,5), #alterado de 3 para 5 \n",
    "                 strides=(2,2), \n",
    "                 activation='relu', \n",
    "                 padding='same',\n",
    "                 data_format='channels_last',\n",
    "                 use_bias=True, \n",
    "                 kernel_initializer=RandomNormal(mean=0.0, stddev=0.05, seed=None), \n",
    "                 bias_initializer='zeros',\n",
    "                 input_shape=(img_height, img_width, channel)))\n",
    "model.add(MaxPooling2D(pool_size=(2, 2), \n",
    "                       strides=(2,2)))\n",
    "#model.add(BatchNormalization())\n",
    "#calculo da quantidade de filtros da normalização:\n",
    "# Width*heigth da saída após a primeira camada de convolução+pooling\n",
    "######### RESIZED ###########\n",
    "model.add(Conv2D(96, \n",
    "                 (1,1),  \n",
    "                 strides=(1,1), \n",
    "                 activation='relu', \n",
    "                 padding='same',\n",
    "                 kernel_initializer=RandomNormal(mean=0.0, stddev=0.05, seed=None), \n",
    "                 data_format='channels_last'))\n",
    "######### RESIZED ###########\n",
    "\n",
    "model.add(Conv2D(96, \n",
    "                 (1,1),  \n",
    "                 strides=(1,1), \n",
    "                 activation='relu', \n",
    "                 padding='same',\n",
    "                 kernel_initializer=RandomNormal(mean=0.0, stddev=0.05, seed=None), \n",
    "                 data_format='channels_last'))\n",
    "model.add(Dropout(0.5))\n",
    "\n",
    "          \n",
    "#Filters = IMG_width/2 * 9\n",
    "model.add(Conv2D(144, #alterado de 128 para 144\n",
    "                 (5,5), \n",
    "                 strides=(2,2), \n",
    "                 activation='relu', \n",
    "                 padding='same',\n",
    "                 data_format='channels_last',\n",
    "                 use_bias=True, \n",
    "                 kernel_initializer=RandomNormal(mean=0.0, stddev=0.05, seed=None), \n",
    "                 bias_initializer='zeros',\n",
    "                 input_shape=(img_height, img_width, channel)))\n",
    "model.add(MaxPooling2D(pool_size=(2, 2), \n",
    "                       strides=(2,2)))\n",
    "#model.add(BatchNormalization())\n",
    "######### RESIZED ###########\n",
    "model.add(Conv2D(96, \n",
    "                 (1,1),  \n",
    "                 strides=(1,1), \n",
    "                 activation='relu', \n",
    "                 padding='same',\n",
    "                 kernel_initializer=RandomNormal(mean=0.0, stddev=0.05, seed=None), \n",
    "                 data_format='channels_last'))\n",
    "######### RESIZED ###########\n",
    "\n",
    "model.add(Conv2D(96, \n",
    "                 (1,1),  \n",
    "                 strides=(1,1), \n",
    "                 activation='relu', \n",
    "                 padding='same',\n",
    "                 kernel_initializer=RandomNormal(mean=0.0, stddev=0.05, seed=None), \n",
    "                 data_format='channels_last'))\n",
    "model.add(Dropout(0.5))\n",
    "\n",
    "          \n",
    "          \n",
    "\n",
    "#IMG_width^ 2\n",
    "model.add(Conv2D(1024, \n",
    "                 (1,1),  \n",
    "                 strides=(1,1), \n",
    "                 activation='relu', \n",
    "                 padding='same',\n",
    "                 kernel_initializer=RandomNormal(mean=0.0, stddev=0.05, seed=None), \n",
    "                 data_format='channels_last'))\n",
    "model.add(Dropout(0.5))\n",
    "\n",
    "#camada anterior/\n",
    "model.add(Conv2D(512, \n",
    "                 (1,1),  \n",
    "                 strides=(1,1), \n",
    "                 activation='relu', \n",
    "                 padding='same',\n",
    "                 kernel_initializer=RandomNormal(mean=0.0, stddev=0.05, seed=None), \n",
    "                 data_format='channels_last'))\n",
    "model.add(Dropout(0.5))\n",
    "\n",
    "model.add(Conv2D(10, \n",
    "                 (1,1),  \n",
    "                 strides=(1,1), \n",
    "                 activation='softmax', \n",
    "                 padding='same',\n",
    "                 kernel_initializer=RandomNormal(mean=0.0, stddev=0.05, seed=None), \n",
    "                 data_format='channels_last'))\n",
    "model.add(GlobalAveragePooling2D())\n",
    "\n",
    "\n",
    "\n"
   ]
  },
  {
   "cell_type": "code",
   "execution_count": 8,
   "metadata": {},
   "outputs": [
    {
     "name": "stdout",
     "output_type": "stream",
     "text": [
      "_________________________________________________________________\n",
      "Layer (type)                 Output Shape              Param #   \n",
      "=================================================================\n",
      "conv2d_1 (Conv2D)            (None, 16, 16, 112)       8512      \n",
      "_________________________________________________________________\n",
      "max_pooling2d_1 (MaxPooling2 (None, 8, 8, 112)         0         \n",
      "_________________________________________________________________\n",
      "conv2d_2 (Conv2D)            (None, 8, 8, 96)          10848     \n",
      "_________________________________________________________________\n",
      "conv2d_3 (Conv2D)            (None, 8, 8, 96)          9312      \n",
      "_________________________________________________________________\n",
      "dropout_1 (Dropout)          (None, 8, 8, 96)          0         \n",
      "_________________________________________________________________\n",
      "conv2d_4 (Conv2D)            (None, 4, 4, 144)         345744    \n",
      "_________________________________________________________________\n",
      "max_pooling2d_2 (MaxPooling2 (None, 2, 2, 144)         0         \n",
      "_________________________________________________________________\n",
      "conv2d_5 (Conv2D)            (None, 2, 2, 96)          13920     \n",
      "_________________________________________________________________\n",
      "conv2d_6 (Conv2D)            (None, 2, 2, 96)          9312      \n",
      "_________________________________________________________________\n",
      "dropout_2 (Dropout)          (None, 2, 2, 96)          0         \n",
      "_________________________________________________________________\n",
      "conv2d_7 (Conv2D)            (None, 2, 2, 1024)        99328     \n",
      "_________________________________________________________________\n",
      "dropout_3 (Dropout)          (None, 2, 2, 1024)        0         \n",
      "_________________________________________________________________\n",
      "conv2d_8 (Conv2D)            (None, 2, 2, 512)         524800    \n",
      "_________________________________________________________________\n",
      "dropout_4 (Dropout)          (None, 2, 2, 512)         0         \n",
      "_________________________________________________________________\n",
      "conv2d_9 (Conv2D)            (None, 2, 2, 10)          5130      \n",
      "_________________________________________________________________\n",
      "global_average_pooling2d_1 ( (None, 10)                0         \n",
      "=================================================================\n",
      "Total params: 1,026,906\n",
      "Trainable params: 1,026,906\n",
      "Non-trainable params: 0\n",
      "_________________________________________________________________\n"
     ]
    }
   ],
   "source": [
    "\n",
    "# print the model summary\n",
    "model.summary()\n",
    "\n"
   ]
  },
  {
   "cell_type": "code",
   "execution_count": 9,
   "metadata": {
    "collapsed": true
   },
   "outputs": [],
   "source": [
    "# determine Loss function and Optimizer\n",
    "model.compile(loss='categorical_crossentropy', #alterado de logcosh\n",
    "              optimizer=SGD(lr=0.01, momentum=0.01, decay=0.0, nesterov=False),\n",
    "              metrics=['accuracy'])\n"
   ]
  },
  {
   "cell_type": "code",
   "execution_count": 10,
   "metadata": {
    "scrolled": false
   },
   "outputs": [
    {
     "name": "stdout",
     "output_type": "stream",
     "text": [
      "Train on 50000 samples, validate on 10000 samples\n",
      "Epoch 1/200\n",
      "50000/50000 [==============================] - 77s 2ms/step - loss: 2.3026 - acc: 0.0983 - val_loss: 2.3019 - val_acc: 0.1333\n",
      "Epoch 2/200\n",
      "50000/50000 [==============================] - 75s 2ms/step - loss: 2.3013 - acc: 0.1227 - val_loss: 2.3004 - val_acc: 0.1323\n",
      "Epoch 3/200\n",
      "50000/50000 [==============================] - 76s 2ms/step - loss: 2.2986 - acc: 0.1557 - val_loss: 2.2961 - val_acc: 0.1589\n",
      "Epoch 4/200\n",
      "50000/50000 [==============================] - 75s 2ms/step - loss: 2.2892 - acc: 0.1685 - val_loss: 2.2763 - val_acc: 0.1872\n",
      "Epoch 5/200\n",
      "50000/50000 [==============================] - 75s 2ms/step - loss: 2.2233 - acc: 0.1742 - val_loss: 2.1414 - val_acc: 0.1757\n",
      "Epoch 6/200\n",
      "50000/50000 [==============================] - 76s 2ms/step - loss: 2.1162 - acc: 0.1870 - val_loss: 2.2374 - val_acc: 0.1480\n",
      "Epoch 7/200\n",
      "50000/50000 [==============================] - 76s 2ms/step - loss: 2.0669 - acc: 0.1876 - val_loss: 2.0866 - val_acc: 0.1783\n",
      "Epoch 8/200\n",
      "50000/50000 [==============================] - 76s 2ms/step - loss: 2.0354 - acc: 0.1870 - val_loss: 2.1550 - val_acc: 0.1673\n",
      "Epoch 9/200\n",
      "50000/50000 [==============================] - 76s 2ms/step - loss: 1.9948 - acc: 0.1900 - val_loss: 1.9360 - val_acc: 0.2059\n",
      "Epoch 10/200\n",
      "50000/50000 [==============================] - 77s 2ms/step - loss: 1.9696 - acc: 0.1905 - val_loss: 1.9234 - val_acc: 0.1984\n",
      "Epoch 11/200\n",
      "50000/50000 [==============================] - 77s 2ms/step - loss: 1.9569 - acc: 0.1953 - val_loss: 1.9367 - val_acc: 0.2027\n",
      "Epoch 12/200\n",
      "50000/50000 [==============================] - 77s 2ms/step - loss: 1.9417 - acc: 0.1970 - val_loss: 2.1290 - val_acc: 0.1658\n",
      "Epoch 13/200\n",
      "50000/50000 [==============================] - 77s 2ms/step - loss: 1.9313 - acc: 0.1999 - val_loss: 1.9565 - val_acc: 0.2030\n",
      "Epoch 14/200\n",
      "50000/50000 [==============================] - 76s 2ms/step - loss: 1.9237 - acc: 0.1982 - val_loss: 1.8873 - val_acc: 0.2141\n",
      "Epoch 15/200\n",
      "50000/50000 [==============================] - 76s 2ms/step - loss: 1.9176 - acc: 0.2004 - val_loss: 1.9386 - val_acc: 0.1977\n",
      "Epoch 16/200\n",
      "50000/50000 [==============================] - 76s 2ms/step - loss: 1.9122 - acc: 0.2014 - val_loss: 1.8752 - val_acc: 0.2130\n",
      "Epoch 17/200\n",
      "50000/50000 [==============================] - 76s 2ms/step - loss: 1.9025 - acc: 0.2052 - val_loss: 1.9619 - val_acc: 0.1949\n",
      "Epoch 18/200\n",
      "50000/50000 [==============================] - 76s 2ms/step - loss: 1.8978 - acc: 0.2070 - val_loss: 1.8900 - val_acc: 0.2142\n",
      "Epoch 19/200\n",
      "50000/50000 [==============================] - 77s 2ms/step - loss: 1.8957 - acc: 0.2091 - val_loss: 1.8973 - val_acc: 0.2174\n",
      "Epoch 20/200\n",
      "50000/50000 [==============================] - 77s 2ms/step - loss: 1.8884 - acc: 0.2112 - val_loss: 1.8724 - val_acc: 0.2162\n",
      "Epoch 21/200\n",
      "50000/50000 [==============================] - 76s 2ms/step - loss: 1.8818 - acc: 0.2181 - val_loss: 1.8530 - val_acc: 0.2269\n",
      "Epoch 22/200\n",
      "50000/50000 [==============================] - 76s 2ms/step - loss: 1.8809 - acc: 0.2192 - val_loss: 1.9149 - val_acc: 0.2092\n",
      "Epoch 23/200\n",
      "50000/50000 [==============================] - 76s 2ms/step - loss: 1.8718 - acc: 0.2266 - val_loss: 1.8889 - val_acc: 0.2346\n",
      "Epoch 24/200\n",
      "50000/50000 [==============================] - 77s 2ms/step - loss: 1.8638 - acc: 0.2357 - val_loss: 1.8612 - val_acc: 0.2403\n",
      "Epoch 25/200\n",
      "50000/50000 [==============================] - 77s 2ms/step - loss: 1.8485 - acc: 0.2540 - val_loss: 1.9116 - val_acc: 0.2538\n",
      "Epoch 26/200\n",
      "50000/50000 [==============================] - 77s 2ms/step - loss: 1.8160 - acc: 0.2755 - val_loss: 1.7440 - val_acc: 0.3118\n",
      "Epoch 27/200\n",
      "50000/50000 [==============================] - 77s 2ms/step - loss: 1.7860 - acc: 0.2933 - val_loss: 1.7820 - val_acc: 0.3108\n",
      "Epoch 28/200\n",
      "50000/50000 [==============================] - 76s 2ms/step - loss: 1.7635 - acc: 0.2989 - val_loss: 1.7296 - val_acc: 0.3140\n",
      "Epoch 29/200\n",
      "50000/50000 [==============================] - 76s 2ms/step - loss: 1.7456 - acc: 0.3089 - val_loss: 2.0485 - val_acc: 0.2392\n",
      "Epoch 30/200\n",
      "50000/50000 [==============================] - 76s 2ms/step - loss: 1.7295 - acc: 0.3174 - val_loss: 1.7279 - val_acc: 0.3280\n",
      "Epoch 31/200\n",
      "50000/50000 [==============================] - 76s 2ms/step - loss: 1.7152 - acc: 0.3235 - val_loss: 1.6929 - val_acc: 0.3268\n",
      "Epoch 32/200\n",
      "50000/50000 [==============================] - 76s 2ms/step - loss: 1.6992 - acc: 0.3333 - val_loss: 1.6312 - val_acc: 0.3666\n",
      "Epoch 33/200\n",
      "50000/50000 [==============================] - 76s 2ms/step - loss: 1.6856 - acc: 0.3355 - val_loss: 1.6102 - val_acc: 0.3722\n",
      "Epoch 34/200\n",
      "50000/50000 [==============================] - 76s 2ms/step - loss: 1.6688 - acc: 0.3467 - val_loss: 1.6083 - val_acc: 0.3767\n",
      "Epoch 35/200\n",
      "50000/50000 [==============================] - 76s 2ms/step - loss: 1.6529 - acc: 0.3546 - val_loss: 1.5701 - val_acc: 0.3808\n",
      "Epoch 36/200\n",
      "50000/50000 [==============================] - 76s 2ms/step - loss: 1.6380 - acc: 0.3599 - val_loss: 1.7807 - val_acc: 0.3162\n",
      "Epoch 37/200\n",
      "50000/50000 [==============================] - 76s 2ms/step - loss: 1.6210 - acc: 0.3700 - val_loss: 1.6821 - val_acc: 0.3569\n",
      "Epoch 38/200\n",
      "50000/50000 [==============================] - 76s 2ms/step - loss: 1.6080 - acc: 0.3744 - val_loss: 1.5649 - val_acc: 0.3903\n",
      "Epoch 39/200\n",
      "50000/50000 [==============================] - 76s 2ms/step - loss: 1.5910 - acc: 0.3823 - val_loss: 1.5322 - val_acc: 0.4024\n",
      "Epoch 40/200\n",
      "50000/50000 [==============================] - 76s 2ms/step - loss: 1.5806 - acc: 0.3861 - val_loss: 1.6273 - val_acc: 0.3804\n",
      "Epoch 41/200\n",
      "50000/50000 [==============================] - 76s 2ms/step - loss: 1.5689 - acc: 0.3952 - val_loss: 1.5842 - val_acc: 0.3919\n",
      "Epoch 42/200\n",
      "50000/50000 [==============================] - 76s 2ms/step - loss: 1.5538 - acc: 0.4041 - val_loss: 1.6393 - val_acc: 0.3925\n",
      "Epoch 43/200\n",
      "50000/50000 [==============================] - 76s 2ms/step - loss: 1.5408 - acc: 0.4093 - val_loss: 1.4864 - val_acc: 0.4280\n",
      "Epoch 44/200\n",
      "50000/50000 [==============================] - 76s 2ms/step - loss: 1.5259 - acc: 0.4149 - val_loss: 1.6382 - val_acc: 0.3742\n",
      "Epoch 45/200\n",
      "50000/50000 [==============================] - 76s 2ms/step - loss: 1.5169 - acc: 0.4203 - val_loss: 1.6327 - val_acc: 0.4017\n",
      "Epoch 46/200\n",
      "50000/50000 [==============================] - 76s 2ms/step - loss: 1.5005 - acc: 0.4240 - val_loss: 1.4956 - val_acc: 0.4225\n",
      "Epoch 47/200\n",
      "50000/50000 [==============================] - 76s 2ms/step - loss: 1.4892 - acc: 0.4320 - val_loss: 1.5703 - val_acc: 0.4098\n",
      "Epoch 48/200\n",
      "50000/50000 [==============================] - 76s 2ms/step - loss: 1.4757 - acc: 0.4390 - val_loss: 1.8393 - val_acc: 0.3606\n",
      "Epoch 49/200\n",
      "50000/50000 [==============================] - 76s 2ms/step - loss: 1.4618 - acc: 0.4426 - val_loss: 1.4735 - val_acc: 0.4469\n",
      "Epoch 50/200\n",
      "50000/50000 [==============================] - 76s 2ms/step - loss: 1.4539 - acc: 0.4473 - val_loss: 1.4736 - val_acc: 0.4430\n",
      "Epoch 51/200\n",
      "50000/50000 [==============================] - 76s 2ms/step - loss: 1.4445 - acc: 0.4523 - val_loss: 1.4056 - val_acc: 0.4720\n",
      "Epoch 52/200\n",
      "50000/50000 [==============================] - 76s 2ms/step - loss: 1.4302 - acc: 0.4605 - val_loss: 1.4474 - val_acc: 0.4558\n",
      "Epoch 53/200\n",
      "50000/50000 [==============================] - 76s 2ms/step - loss: 1.4192 - acc: 0.4629 - val_loss: 1.4673 - val_acc: 0.4626\n",
      "Epoch 54/200\n",
      "50000/50000 [==============================] - 76s 2ms/step - loss: 1.4130 - acc: 0.4674 - val_loss: 1.4099 - val_acc: 0.4649\n",
      "Epoch 55/200\n",
      "50000/50000 [==============================] - 76s 2ms/step - loss: 1.4059 - acc: 0.4684 - val_loss: 1.6040 - val_acc: 0.4257\n",
      "Epoch 56/200\n",
      "50000/50000 [==============================] - 76s 2ms/step - loss: 1.3962 - acc: 0.4753 - val_loss: 1.3280 - val_acc: 0.5030\n",
      "Epoch 57/200\n",
      "50000/50000 [==============================] - 76s 2ms/step - loss: 1.3837 - acc: 0.4795 - val_loss: 1.5108 - val_acc: 0.4274\n",
      "Epoch 58/200\n",
      "50000/50000 [==============================] - 76s 2ms/step - loss: 1.3802 - acc: 0.4809 - val_loss: 1.5265 - val_acc: 0.4526\n",
      "Epoch 59/200\n"
     ]
    },
    {
     "name": "stdout",
     "output_type": "stream",
     "text": [
      "50000/50000 [==============================] - 76s 2ms/step - loss: 1.3686 - acc: 0.4865 - val_loss: 1.4176 - val_acc: 0.4692\n",
      "Epoch 60/200\n",
      "50000/50000 [==============================] - 76s 2ms/step - loss: 1.3589 - acc: 0.4879 - val_loss: 1.3661 - val_acc: 0.4846\n",
      "Epoch 61/200\n",
      "50000/50000 [==============================] - 76s 2ms/step - loss: 1.3520 - acc: 0.4952 - val_loss: 1.5444 - val_acc: 0.4229\n",
      "Epoch 62/200\n",
      "50000/50000 [==============================] - 76s 2ms/step - loss: 1.3449 - acc: 0.4978 - val_loss: 1.3244 - val_acc: 0.5112\n",
      "Epoch 63/200\n",
      "50000/50000 [==============================] - 77s 2ms/step - loss: 1.3354 - acc: 0.5030 - val_loss: 1.3448 - val_acc: 0.5051\n",
      "Epoch 64/200\n",
      "50000/50000 [==============================] - 76s 2ms/step - loss: 1.3313 - acc: 0.5037 - val_loss: 1.5290 - val_acc: 0.4455\n",
      "Epoch 65/200\n",
      "50000/50000 [==============================] - 77s 2ms/step - loss: 1.3205 - acc: 0.5089 - val_loss: 1.3225 - val_acc: 0.5171\n",
      "Epoch 66/200\n",
      "50000/50000 [==============================] - 163s 3ms/step - loss: 1.3151 - acc: 0.5115 - val_loss: 1.3267 - val_acc: 0.5034\n",
      "Epoch 67/200\n",
      "50000/50000 [==============================] - 169s 3ms/step - loss: 1.3057 - acc: 0.5111 - val_loss: 1.2889 - val_acc: 0.5312\n",
      "Epoch 68/200\n",
      "50000/50000 [==============================] - 169s 3ms/step - loss: 1.2964 - acc: 0.5175 - val_loss: 1.3286 - val_acc: 0.5187\n",
      "Epoch 69/200\n",
      "50000/50000 [==============================] - 169s 3ms/step - loss: 1.2936 - acc: 0.5203 - val_loss: 1.3772 - val_acc: 0.5143\n",
      "Epoch 70/200\n",
      "50000/50000 [==============================] - 169s 3ms/step - loss: 1.2873 - acc: 0.5211 - val_loss: 1.2511 - val_acc: 0.5366\n",
      "Epoch 71/200\n",
      "50000/50000 [==============================] - 169s 3ms/step - loss: 1.2778 - acc: 0.5284 - val_loss: 1.3422 - val_acc: 0.5163\n",
      "Epoch 72/200\n",
      "50000/50000 [==============================] - 170s 3ms/step - loss: 1.2753 - acc: 0.5291 - val_loss: 1.4588 - val_acc: 0.4694\n",
      "Epoch 73/200\n",
      "50000/50000 [==============================] - 170s 3ms/step - loss: 1.2623 - acc: 0.5333 - val_loss: 1.2465 - val_acc: 0.5421\n",
      "Epoch 74/200\n",
      "50000/50000 [==============================] - 169s 3ms/step - loss: 1.2598 - acc: 0.5379 - val_loss: 1.2708 - val_acc: 0.5405\n",
      "Epoch 75/200\n",
      "50000/50000 [==============================] - 170s 3ms/step - loss: 1.2562 - acc: 0.5409 - val_loss: 1.3422 - val_acc: 0.5142\n",
      "Epoch 76/200\n",
      "50000/50000 [==============================] - 170s 3ms/step - loss: 1.2475 - acc: 0.5425 - val_loss: 1.2850 - val_acc: 0.5380\n",
      "Epoch 77/200\n",
      "50000/50000 [==============================] - 169s 3ms/step - loss: 1.2361 - acc: 0.5477 - val_loss: 2.1450 - val_acc: 0.3856\n",
      "Epoch 78/200\n",
      "50000/50000 [==============================] - 170s 3ms/step - loss: 1.2340 - acc: 0.5499 - val_loss: 1.2345 - val_acc: 0.5564\n",
      "Epoch 79/200\n",
      "50000/50000 [==============================] - 170s 3ms/step - loss: 1.2229 - acc: 0.5548 - val_loss: 1.1714 - val_acc: 0.5746\n",
      "Epoch 80/200\n",
      "50000/50000 [==============================] - 171s 3ms/step - loss: 1.2186 - acc: 0.5553 - val_loss: 1.1915 - val_acc: 0.5651\n",
      "Epoch 81/200\n",
      "50000/50000 [==============================] - 170s 3ms/step - loss: 1.2134 - acc: 0.5581 - val_loss: 1.2676 - val_acc: 0.5400\n",
      "Epoch 82/200\n",
      "50000/50000 [==============================] - 170s 3ms/step - loss: 1.2058 - acc: 0.5607 - val_loss: 1.4600 - val_acc: 0.4942\n",
      "Epoch 83/200\n",
      "50000/50000 [==============================] - 170s 3ms/step - loss: 1.1999 - acc: 0.5616 - val_loss: 1.3995 - val_acc: 0.5191\n",
      "Epoch 84/200\n",
      "50000/50000 [==============================] - 169s 3ms/step - loss: 1.1954 - acc: 0.5664 - val_loss: 1.2583 - val_acc: 0.5516\n",
      "Epoch 85/200\n",
      "50000/50000 [==============================] - 170s 3ms/step - loss: 1.1903 - acc: 0.5711 - val_loss: 1.1684 - val_acc: 0.5785\n",
      "Epoch 86/200\n",
      "50000/50000 [==============================] - 168s 3ms/step - loss: 1.1864 - acc: 0.5707 - val_loss: 1.3853 - val_acc: 0.5196\n",
      "Epoch 87/200\n",
      "50000/50000 [==============================] - 168s 3ms/step - loss: 1.1795 - acc: 0.5749 - val_loss: 1.1525 - val_acc: 0.5856\n",
      "Epoch 88/200\n",
      "50000/50000 [==============================] - 170s 3ms/step - loss: 1.1767 - acc: 0.5733 - val_loss: 1.3940 - val_acc: 0.5053\n",
      "Epoch 89/200\n",
      "50000/50000 [==============================] - 169s 3ms/step - loss: 1.1673 - acc: 0.5757 - val_loss: 1.2055 - val_acc: 0.5730\n",
      "Epoch 90/200\n",
      "50000/50000 [==============================] - 169s 3ms/step - loss: 1.1572 - acc: 0.5824 - val_loss: 1.1368 - val_acc: 0.5910\n",
      "Epoch 91/200\n",
      "50000/50000 [==============================] - 169s 3ms/step - loss: 1.1548 - acc: 0.5854 - val_loss: 1.1730 - val_acc: 0.5812\n",
      "Epoch 92/200\n",
      "50000/50000 [==============================] - 169s 3ms/step - loss: 1.1481 - acc: 0.5869 - val_loss: 1.6784 - val_acc: 0.4760\n",
      "Epoch 93/200\n",
      "50000/50000 [==============================] - 170s 3ms/step - loss: 1.1413 - acc: 0.5915 - val_loss: 1.0931 - val_acc: 0.6113\n",
      "Epoch 94/200\n",
      "50000/50000 [==============================] - 169s 3ms/step - loss: 1.1342 - acc: 0.5919 - val_loss: 1.1603 - val_acc: 0.5834\n",
      "Epoch 95/200\n",
      "50000/50000 [==============================] - 170s 3ms/step - loss: 1.1294 - acc: 0.5973 - val_loss: 1.1618 - val_acc: 0.5922\n",
      "Epoch 96/200\n",
      "50000/50000 [==============================] - 169s 3ms/step - loss: 1.1290 - acc: 0.5918 - val_loss: 1.1727 - val_acc: 0.5904\n",
      "Epoch 97/200\n",
      "50000/50000 [==============================] - 169s 3ms/step - loss: 1.1239 - acc: 0.5973 - val_loss: 1.3719 - val_acc: 0.5354\n",
      "Epoch 98/200\n",
      "50000/50000 [==============================] - 169s 3ms/step - loss: 1.1214 - acc: 0.6013 - val_loss: 1.2906 - val_acc: 0.5568\n",
      "Epoch 99/200\n",
      "50000/50000 [==============================] - 169s 3ms/step - loss: 1.1097 - acc: 0.6045 - val_loss: 1.1052 - val_acc: 0.6084\n",
      "Epoch 100/200\n",
      "50000/50000 [==============================] - 167s 3ms/step - loss: 1.1102 - acc: 0.6040 - val_loss: 1.2420 - val_acc: 0.5739\n",
      "Epoch 101/200\n",
      "50000/50000 [==============================] - 168s 3ms/step - loss: 1.1047 - acc: 0.6061 - val_loss: 1.1737 - val_acc: 0.5953\n",
      "Epoch 102/200\n",
      "50000/50000 [==============================] - 168s 3ms/step - loss: 1.0973 - acc: 0.6111 - val_loss: 1.0448 - val_acc: 0.6272\n",
      "Epoch 103/200\n",
      "50000/50000 [==============================] - 169s 3ms/step - loss: 1.0909 - acc: 0.6127 - val_loss: 1.0628 - val_acc: 0.6246\n",
      "Epoch 104/200\n",
      "50000/50000 [==============================] - 169s 3ms/step - loss: 1.0898 - acc: 0.6156 - val_loss: 1.1152 - val_acc: 0.6119\n",
      "Epoch 105/200\n",
      "50000/50000 [==============================] - 168s 3ms/step - loss: 1.0869 - acc: 0.6147 - val_loss: 1.0491 - val_acc: 0.6227\n",
      "Epoch 106/200\n",
      "50000/50000 [==============================] - 169s 3ms/step - loss: 1.0778 - acc: 0.6178 - val_loss: 1.1314 - val_acc: 0.5930\n",
      "Epoch 107/200\n",
      "50000/50000 [==============================] - 169s 3ms/step - loss: 1.0712 - acc: 0.6227 - val_loss: 1.2268 - val_acc: 0.5691\n",
      "Epoch 108/200\n",
      "50000/50000 [==============================] - 168s 3ms/step - loss: 1.0736 - acc: 0.6229 - val_loss: 1.1004 - val_acc: 0.6150\n",
      "Epoch 109/200\n",
      "50000/50000 [==============================] - 169s 3ms/step - loss: 1.0631 - acc: 0.6240 - val_loss: 1.0477 - val_acc: 0.6298\n",
      "Epoch 110/200\n",
      "50000/50000 [==============================] - 168s 3ms/step - loss: 1.0582 - acc: 0.6272 - val_loss: 1.0513 - val_acc: 0.6298\n",
      "Epoch 111/200\n",
      "50000/50000 [==============================] - 168s 3ms/step - loss: 1.0603 - acc: 0.6268 - val_loss: 1.1191 - val_acc: 0.6075\n",
      "Epoch 112/200\n",
      "50000/50000 [==============================] - 170s 3ms/step - loss: 1.0500 - acc: 0.6282 - val_loss: 1.4244 - val_acc: 0.5504\n",
      "Epoch 113/200\n",
      "50000/50000 [==============================] - 169s 3ms/step - loss: 1.0509 - acc: 0.6298 - val_loss: 1.0698 - val_acc: 0.6222\n",
      "Epoch 114/200\n",
      "50000/50000 [==============================] - 168s 3ms/step - loss: 1.0463 - acc: 0.6312 - val_loss: 1.2304 - val_acc: 0.5875\n",
      "Epoch 115/200\n",
      "50000/50000 [==============================] - 169s 3ms/step - loss: 1.0416 - acc: 0.6332 - val_loss: 1.0703 - val_acc: 0.6242\n",
      "Epoch 116/200\n",
      "50000/50000 [==============================] - 169s 3ms/step - loss: 1.0318 - acc: 0.6355 - val_loss: 1.0430 - val_acc: 0.6338\n",
      "Epoch 117/200\n"
     ]
    },
    {
     "name": "stdout",
     "output_type": "stream",
     "text": [
      "50000/50000 [==============================] - 169s 3ms/step - loss: 1.0313 - acc: 0.6378 - val_loss: 1.2271 - val_acc: 0.5926\n",
      "Epoch 118/200\n",
      "50000/50000 [==============================] - 169s 3ms/step - loss: 1.0295 - acc: 0.6374 - val_loss: 1.0537 - val_acc: 0.6341\n",
      "Epoch 119/200\n",
      "50000/50000 [==============================] - 168s 3ms/step - loss: 1.0236 - acc: 0.6394 - val_loss: 1.0444 - val_acc: 0.6338\n",
      "Epoch 120/200\n",
      "50000/50000 [==============================] - 169s 3ms/step - loss: 1.0253 - acc: 0.6411 - val_loss: 1.0038 - val_acc: 0.6451\n",
      "Epoch 121/200\n",
      "50000/50000 [==============================] - 168s 3ms/step - loss: 1.0184 - acc: 0.6425 - val_loss: 1.0852 - val_acc: 0.6228\n",
      "Epoch 122/200\n",
      "50000/50000 [==============================] - 169s 3ms/step - loss: 1.0105 - acc: 0.6467 - val_loss: 1.3385 - val_acc: 0.5367\n",
      "Epoch 123/200\n",
      "50000/50000 [==============================] - 168s 3ms/step - loss: 1.0104 - acc: 0.6453 - val_loss: 1.0913 - val_acc: 0.6155\n",
      "Epoch 124/200\n",
      "50000/50000 [==============================] - 169s 3ms/step - loss: 1.0046 - acc: 0.6450 - val_loss: 1.4447 - val_acc: 0.5180\n",
      "Epoch 125/200\n",
      "50000/50000 [==============================] - 168s 3ms/step - loss: 1.0039 - acc: 0.6477 - val_loss: 1.0165 - val_acc: 0.6492\n",
      "Epoch 126/200\n",
      "50000/50000 [==============================] - 168s 3ms/step - loss: 0.9984 - acc: 0.6486 - val_loss: 1.1179 - val_acc: 0.6198\n",
      "Epoch 127/200\n",
      "50000/50000 [==============================] - 168s 3ms/step - loss: 0.9943 - acc: 0.6536 - val_loss: 1.0288 - val_acc: 0.6475\n",
      "Epoch 128/200\n",
      "50000/50000 [==============================] - 171s 3ms/step - loss: 0.9928 - acc: 0.6549 - val_loss: 1.0287 - val_acc: 0.6438\n",
      "Epoch 129/200\n",
      "50000/50000 [==============================] - 169s 3ms/step - loss: 0.9876 - acc: 0.6555 - val_loss: 1.0074 - val_acc: 0.6542\n",
      "Epoch 130/200\n",
      "50000/50000 [==============================] - 169s 3ms/step - loss: 0.9844 - acc: 0.6558 - val_loss: 0.9923 - val_acc: 0.6576\n",
      "Epoch 131/200\n",
      "50000/50000 [==============================] - 170s 3ms/step - loss: 0.9825 - acc: 0.6587 - val_loss: 0.9751 - val_acc: 0.6650\n",
      "Epoch 132/200\n",
      "50000/50000 [==============================] - 168s 3ms/step - loss: 0.9770 - acc: 0.6596 - val_loss: 1.0193 - val_acc: 0.6538\n",
      "Epoch 133/200\n",
      "50000/50000 [==============================] - 168s 3ms/step - loss: 0.9760 - acc: 0.6592 - val_loss: 1.0398 - val_acc: 0.6517\n",
      "Epoch 134/200\n",
      "50000/50000 [==============================] - 169s 3ms/step - loss: 0.9705 - acc: 0.6642 - val_loss: 1.4180 - val_acc: 0.5485\n",
      "Epoch 135/200\n",
      "50000/50000 [==============================] - 169s 3ms/step - loss: 0.9673 - acc: 0.6629 - val_loss: 1.1374 - val_acc: 0.6129\n",
      "Epoch 136/200\n",
      "50000/50000 [==============================] - 167s 3ms/step - loss: 0.9654 - acc: 0.6638 - val_loss: 1.0189 - val_acc: 0.6530\n",
      "Epoch 137/200\n",
      "50000/50000 [==============================] - 167s 3ms/step - loss: 0.9592 - acc: 0.6649 - val_loss: 1.1038 - val_acc: 0.6272\n",
      "Epoch 138/200\n",
      "50000/50000 [==============================] - 167s 3ms/step - loss: 0.9595 - acc: 0.6674 - val_loss: 0.9449 - val_acc: 0.6704\n",
      "Epoch 139/200\n",
      "50000/50000 [==============================] - 169s 3ms/step - loss: 0.9572 - acc: 0.6648 - val_loss: 1.1159 - val_acc: 0.6254\n",
      "Epoch 140/200\n",
      "50000/50000 [==============================] - 167s 3ms/step - loss: 0.9526 - acc: 0.6690 - val_loss: 0.9887 - val_acc: 0.6630\n",
      "Epoch 141/200\n",
      "50000/50000 [==============================] - 167s 3ms/step - loss: 0.9472 - acc: 0.6709 - val_loss: 0.9432 - val_acc: 0.6731\n",
      "Epoch 142/200\n",
      "50000/50000 [==============================] - 167s 3ms/step - loss: 0.9431 - acc: 0.6702 - val_loss: 1.0397 - val_acc: 0.6492\n",
      "Epoch 143/200\n",
      "50000/50000 [==============================] - 167s 3ms/step - loss: 0.9444 - acc: 0.6737 - val_loss: 0.9955 - val_acc: 0.6571\n",
      "Epoch 144/200\n",
      "50000/50000 [==============================] - 169s 3ms/step - loss: 0.9353 - acc: 0.6740 - val_loss: 0.9812 - val_acc: 0.6658\n",
      "Epoch 145/200\n",
      "50000/50000 [==============================] - 169s 3ms/step - loss: 0.9389 - acc: 0.6758 - val_loss: 1.0021 - val_acc: 0.6574\n",
      "Epoch 146/200\n",
      "50000/50000 [==============================] - 169s 3ms/step - loss: 0.9343 - acc: 0.6739 - val_loss: 1.4289 - val_acc: 0.5761\n",
      "Epoch 147/200\n",
      "50000/50000 [==============================] - 168s 3ms/step - loss: 0.9263 - acc: 0.6784 - val_loss: 0.9511 - val_acc: 0.6770\n",
      "Epoch 148/200\n",
      "50000/50000 [==============================] - 167s 3ms/step - loss: 0.9250 - acc: 0.6793 - val_loss: 1.1971 - val_acc: 0.6309\n",
      "Epoch 149/200\n",
      "50000/50000 [==============================] - 168s 3ms/step - loss: 0.9223 - acc: 0.6813 - val_loss: 0.9954 - val_acc: 0.6635\n",
      "Epoch 150/200\n",
      "50000/50000 [==============================] - 168s 3ms/step - loss: 0.9234 - acc: 0.6815 - val_loss: 1.1714 - val_acc: 0.6050\n",
      "Epoch 151/200\n",
      "50000/50000 [==============================] - 168s 3ms/step - loss: 0.9241 - acc: 0.6815 - val_loss: 0.9467 - val_acc: 0.6728\n",
      "Epoch 152/200\n",
      "50000/50000 [==============================] - 168s 3ms/step - loss: 0.9161 - acc: 0.6822 - val_loss: 1.0019 - val_acc: 0.6560\n",
      "Epoch 153/200\n",
      "50000/50000 [==============================] - 167s 3ms/step - loss: 0.9159 - acc: 0.6835 - val_loss: 0.9749 - val_acc: 0.6740\n",
      "Epoch 154/200\n",
      "50000/50000 [==============================] - 167s 3ms/step - loss: 0.9118 - acc: 0.6854 - val_loss: 0.9378 - val_acc: 0.6842\n",
      "Epoch 155/200\n",
      "50000/50000 [==============================] - 167s 3ms/step - loss: 0.9094 - acc: 0.6866 - val_loss: 1.0204 - val_acc: 0.6620\n",
      "Epoch 156/200\n",
      "50000/50000 [==============================] - 167s 3ms/step - loss: 0.9013 - acc: 0.6853 - val_loss: 0.9616 - val_acc: 0.6808\n",
      "Epoch 157/200\n",
      "50000/50000 [==============================] - 167s 3ms/step - loss: 0.8997 - acc: 0.6898 - val_loss: 0.9038 - val_acc: 0.6930\n",
      "Epoch 158/200\n",
      "50000/50000 [==============================] - 167s 3ms/step - loss: 0.8971 - acc: 0.6892 - val_loss: 1.0324 - val_acc: 0.6570\n",
      "Epoch 159/200\n",
      "50000/50000 [==============================] - 167s 3ms/step - loss: 0.8957 - acc: 0.6895 - val_loss: 1.1109 - val_acc: 0.6248\n",
      "Epoch 160/200\n",
      "50000/50000 [==============================] - 168s 3ms/step - loss: 0.8956 - acc: 0.6927 - val_loss: 0.9475 - val_acc: 0.6807\n",
      "Epoch 161/200\n",
      "50000/50000 [==============================] - 167s 3ms/step - loss: 0.8926 - acc: 0.6928 - val_loss: 0.9376 - val_acc: 0.6843\n",
      "Epoch 162/200\n",
      "50000/50000 [==============================] - 168s 3ms/step - loss: 0.8900 - acc: 0.6946 - val_loss: 0.9054 - val_acc: 0.6924\n",
      "Epoch 163/200\n",
      "50000/50000 [==============================] - 168s 3ms/step - loss: 0.8873 - acc: 0.6934 - val_loss: 1.4060 - val_acc: 0.5802\n",
      "Epoch 164/200\n",
      "50000/50000 [==============================] - 168s 3ms/step - loss: 0.8889 - acc: 0.6929 - val_loss: 0.9431 - val_acc: 0.6850\n",
      "Epoch 165/200\n",
      "50000/50000 [==============================] - 168s 3ms/step - loss: 0.8843 - acc: 0.6954 - val_loss: 0.9600 - val_acc: 0.6767\n",
      "Epoch 166/200\n",
      "50000/50000 [==============================] - 168s 3ms/step - loss: 0.8787 - acc: 0.6965 - val_loss: 1.3769 - val_acc: 0.5701\n",
      "Epoch 167/200\n",
      "50000/50000 [==============================] - 168s 3ms/step - loss: 0.8773 - acc: 0.7012 - val_loss: 1.0183 - val_acc: 0.6615\n",
      "Epoch 168/200\n",
      "50000/50000 [==============================] - 168s 3ms/step - loss: 0.8739 - acc: 0.6993 - val_loss: 0.9993 - val_acc: 0.6656\n",
      "Epoch 169/200\n",
      "50000/50000 [==============================] - 167s 3ms/step - loss: 0.8703 - acc: 0.7002 - val_loss: 0.9131 - val_acc: 0.6906\n",
      "Epoch 170/200\n",
      "50000/50000 [==============================] - 168s 3ms/step - loss: 0.8707 - acc: 0.7014 - val_loss: 0.9462 - val_acc: 0.6845loss\n",
      "Epoch 171/200\n",
      "50000/50000 [==============================] - 167s 3ms/step - loss: 0.8672 - acc: 0.7047 - val_loss: 0.9174 - val_acc: 0.6937\n",
      "Epoch 172/200\n",
      "50000/50000 [==============================] - 166s 3ms/step - loss: 0.8623 - acc: 0.7025 - val_loss: 0.9095 - val_acc: 0.6889\n",
      "Epoch 173/200\n",
      "50000/50000 [==============================] - 166s 3ms/step - loss: 0.8645 - acc: 0.7037 - val_loss: 0.9318 - val_acc: 0.6854\n",
      "Epoch 174/200\n",
      "50000/50000 [==============================] - 166s 3ms/step - loss: 0.8613 - acc: 0.7054 - val_loss: 0.9597 - val_acc: 0.6792\n",
      "Epoch 175/200\n"
     ]
    },
    {
     "name": "stdout",
     "output_type": "stream",
     "text": [
      "50000/50000 [==============================] - 167s 3ms/step - loss: 0.8616 - acc: 0.7059 - val_loss: 0.9367 - val_acc: 0.6817\n",
      "Epoch 176/200\n",
      "50000/50000 [==============================] - 167s 3ms/step - loss: 0.8548 - acc: 0.7073 - val_loss: 0.9755 - val_acc: 0.6810\n",
      "Epoch 177/200\n",
      "50000/50000 [==============================] - 167s 3ms/step - loss: 0.8539 - acc: 0.7070 - val_loss: 1.0494 - val_acc: 0.6595\n",
      "Epoch 178/200\n",
      "50000/50000 [==============================] - 167s 3ms/step - loss: 0.8506 - acc: 0.7072 - val_loss: 0.9396 - val_acc: 0.6852\n",
      "Epoch 179/200\n",
      "50000/50000 [==============================] - 167s 3ms/step - loss: 0.8513 - acc: 0.7096 - val_loss: 0.9602 - val_acc: 0.6797\n",
      "Epoch 180/200\n",
      "50000/50000 [==============================] - 168s 3ms/step - loss: 0.8421 - acc: 0.7111 - val_loss: 0.9408 - val_acc: 0.6862\n",
      "Epoch 181/200\n",
      "50000/50000 [==============================] - 168s 3ms/step - loss: 0.8445 - acc: 0.7106 - val_loss: 0.9113 - val_acc: 0.6934\n",
      "Epoch 182/200\n",
      "50000/50000 [==============================] - 167s 3ms/step - loss: 0.8412 - acc: 0.7116 - val_loss: 1.0315 - val_acc: 0.6629\n",
      "Epoch 183/200\n",
      "50000/50000 [==============================] - 167s 3ms/step - loss: 0.8393 - acc: 0.7128 - val_loss: 0.9140 - val_acc: 0.6920\n",
      "Epoch 184/200\n",
      "50000/50000 [==============================] - 167s 3ms/step - loss: 0.8428 - acc: 0.7122 - val_loss: 0.8900 - val_acc: 0.6972\n",
      "Epoch 185/200\n",
      "50000/50000 [==============================] - 167s 3ms/step - loss: 0.8335 - acc: 0.7167 - val_loss: 1.0578 - val_acc: 0.6505\n",
      "Epoch 186/200\n",
      "50000/50000 [==============================] - 167s 3ms/step - loss: 0.8314 - acc: 0.7160 - val_loss: 0.8916 - val_acc: 0.7050\n",
      "Epoch 187/200\n",
      "50000/50000 [==============================] - 167s 3ms/step - loss: 0.8322 - acc: 0.7167 - val_loss: 0.8575 - val_acc: 0.7101\n",
      "Epoch 188/200\n",
      "50000/50000 [==============================] - 167s 3ms/step - loss: 0.8300 - acc: 0.7155 - val_loss: 0.9751 - val_acc: 0.6791\n",
      "Epoch 189/200\n",
      "50000/50000 [==============================] - 168s 3ms/step - loss: 0.8319 - acc: 0.7184 - val_loss: 0.8511 - val_acc: 0.7116\n",
      "Epoch 190/200\n",
      "50000/50000 [==============================] - 168s 3ms/step - loss: 0.8257 - acc: 0.7189 - val_loss: 1.0220 - val_acc: 0.6644\n",
      "Epoch 191/200\n",
      "50000/50000 [==============================] - 167s 3ms/step - loss: 0.8260 - acc: 0.7176 - val_loss: 0.8665 - val_acc: 0.7106\n",
      "Epoch 192/200\n",
      "50000/50000 [==============================] - 168s 3ms/step - loss: 0.8231 - acc: 0.7192 - val_loss: 0.9334 - val_acc: 0.6929\n",
      "Epoch 193/200\n",
      "50000/50000 [==============================] - 168s 3ms/step - loss: 0.8186 - acc: 0.7203 - val_loss: 0.8779 - val_acc: 0.7095\n",
      "Epoch 194/200\n",
      "50000/50000 [==============================] - 167s 3ms/step - loss: 0.8166 - acc: 0.7217 - val_loss: 0.8622 - val_acc: 0.7123\n",
      "Epoch 195/200\n",
      "50000/50000 [==============================] - 167s 3ms/step - loss: 0.8106 - acc: 0.7213 - val_loss: 0.9273 - val_acc: 0.6980\n",
      "Epoch 196/200\n",
      "50000/50000 [==============================] - 166s 3ms/step - loss: 0.8134 - acc: 0.7245 - val_loss: 0.9488 - val_acc: 0.6917\n",
      "Epoch 197/200\n",
      "50000/50000 [==============================] - 166s 3ms/step - loss: 0.8146 - acc: 0.7231 - val_loss: 1.3166 - val_acc: 0.6039\n",
      "Epoch 198/200\n",
      "50000/50000 [==============================] - 167s 3ms/step - loss: 0.8103 - acc: 0.7231 - val_loss: 0.9673 - val_acc: 0.6834\n",
      "Epoch 199/200\n",
      "50000/50000 [==============================] - 168s 3ms/step - loss: 0.8062 - acc: 0.7256 - val_loss: 1.1606 - val_acc: 0.6247\n",
      "Epoch 200/200\n",
      "50000/50000 [==============================] - 167s 3ms/step - loss: 0.8042 - acc: 0.7229 - val_loss: 1.0188 - val_acc: 0.6695\n"
     ]
    }
   ],
   "source": [
    "\n",
    "# Train the Model\n",
    "#earlyStopping=keras.callbacks.EarlyStopping(monitor='val_acc', min_delta=0, patience=13, verbose=1, mode='auto')\n",
    "history = model.fit(x_train, y_train,\n",
    "                    batch_size=batch_size,\n",
    "                    epochs=epochs,\n",
    "                    verbose=1,\n",
    " #                   callbacks=[earlyStopping],\n",
    "                    validation_data=(x_test, y_test))\n",
    "\n"
   ]
  },
  {
   "cell_type": "code",
   "execution_count": null,
   "metadata": {
    "collapsed": true
   },
   "outputs": [],
   "source": []
  },
  {
   "cell_type": "code",
   "execution_count": 11,
   "metadata": {},
   "outputs": [
    {
     "data": {
      "image/png": "[encoded data removed]",
      "text/plain": [
       "<matplotlib.figure.Figure at 0x7fd28ce23320>"
      ]
     },
     "metadata": {},
     "output_type": "display_data"
    }
   ],
   "source": [
    "plt.plot(history.history['acc'])\n",
    "plt.plot(history.history['val_acc'])\n",
    "plt.title('model accuracy')\n",
    "plt.ylabel('accuracy')\n",
    "plt.xlabel('epoch')\n",
    "plt.legend(['train acc','val acc'], loc='upper left')\n",
    "plt.show()"
   ]
  },
  {
   "cell_type": "code",
   "execution_count": 12,
   "metadata": {},
   "outputs": [
    {
     "data": {
      "image/png": "[encoded data removed]",
      "text/plain": [
       "<matplotlib.figure.Figure at 0x7fd289925128>"
      ]
     },
     "metadata": {},
     "output_type": "display_data"
    }
   ],
   "source": [
    "plt.plot(history.history['loss'])\n",
    "plt.plot(history.history['val_loss'])\n",
    "plt.title('model loss')\n",
    "plt.ylabel('loss')\n",
    "plt.xlabel('epoch')\n",
    "plt.legend(['train loss','Val Loss'], loc='upper left')\n",
    "plt.show()"
   ]
  },
  {
   "cell_type": "code",
   "execution_count": 13,
   "metadata": {},
   "outputs": [
    {
     "name": "stdout",
     "output_type": "stream",
     "text": [
      "Test loss: 1.0188333415\n",
      "Test accuracy: 0.6695\n"
     ]
    }
   ],
   "source": [
    "# Test the model\n",
    "score = model.evaluate(x_test, y_test, verbose=0)\n",
    "print('Test loss:', score[0])\n",
    "print('Test accuracy:', score[1])"
   ]
  },
  {
   "cell_type": "code",
   "execution_count": null,
   "metadata": {
    "collapsed": true
   },
   "outputs": [],
   "source": []
  },
  {
   "cell_type": "code",
   "execution_count": 14,
   "metadata": {},
   "outputs": [
    {
     "name": "stdout",
     "output_type": "stream",
     "text": [
      "{'val_loss': [2.3019361923217772, 2.3004403423309325, 2.2961241134643555, 2.2763276702880861, 2.1414071449279786, 2.2374280483245848, 2.0866345596313476, 2.1549593568801879, 1.9359820587158203, 1.9233694639205932, 1.9367387058258057, 2.1289830600738524, 1.9564845127105712, 1.8873464851379393, 1.9385995037078858, 1.8751523265838623, 1.9618651908874511, 1.8900038722991943, 1.8972657760620117, 1.872430708694458, 1.8530113513946533, 1.9148597566604615, 1.8888963378906249, 1.8612147315979004, 1.9116027107238769, 1.7440116382598876, 1.7819947685241699, 1.7295942602157592, 2.0484739753723145, 1.7278552440643311, 1.6929027774810792, 1.6312303609848022, 1.6101931663513183, 1.6083223934173585, 1.5701037220001222, 1.7806660736083983, 1.6821213607788086, 1.5648546985626222, 1.5321948318481444, 1.6273037088394164, 1.584153635597229, 1.6392652128219605, 1.486374433517456, 1.6381546237945557, 1.6327257076263428, 1.4956348903656005, 1.5702691339492798, 1.8392971525192261, 1.4735206750869752, 1.4736408359527589, 1.405570611190796, 1.4473598503112792, 1.4673001857757568, 1.409884478378296, 1.6040410245895387, 1.3279536836624146, 1.5107944295883178, 1.5264656023025513, 1.4176340984344482, 1.3661165323257447, 1.5444021791458129, 1.3243888160705566, 1.3447831878662109, 1.5290006557464599, 1.3225155261993409, 1.3266834241867065, 1.2889318403244019, 1.3285567295074463, 1.3771697845458983, 1.2510900999069214, 1.3421757165908814, 1.4588364154815674, 1.2464807518005372, 1.2708227031707764, 1.342204566192627, 1.2850237367630004, 2.145028197479248, 1.234464100265503, 1.171434854888916, 1.191524747467041, 1.2675542337417602, 1.4599844779968261, 1.3994695486068724, 1.2583253326416015, 1.1684146585464477, 1.3852869606018066, 1.1524580936431885, 1.3939792259216308, 1.2055389135360717, 1.1368027740478515, 1.1730364944458007, 1.6783701889038085, 1.0931000915527345, 1.1603172477722168, 1.1617967938423157, 1.1727060161590577, 1.371906447982788, 1.2906423547744752, 1.1052059646606445, 1.2419912761688232, 1.1737100627899171, 1.0447602306365966, 1.0627678007125854, 1.1152054317474365, 1.0491304569244384, 1.1313575237274169, 1.2268091453552246, 1.1004121484756471, 1.0476769828796386, 1.051336411190033, 1.1190772314071655, 1.4243991870880126, 1.0697553195953369, 1.2303640394210815, 1.0703308303833008, 1.0429912805557251, 1.2270738349914552, 1.0537468916893005, 1.0444156570434571, 1.0038217895507813, 1.0851847198486329, 1.3384747592926025, 1.0913267286300659, 1.4447314584732056, 1.0164545024871827, 1.117948330116272, 1.0288288265228271, 1.0287252676010132, 1.0074042709350586, 0.99229940700531005, 0.97506744403839107, 1.0192966133117676, 1.039787671661377, 1.4180075967788697, 1.1374174848556518, 1.018850919342041, 1.1038015367507934, 0.94487525634765623, 1.1158927783966064, 0.98867293453216554, 0.94324576787948611, 1.0396889114379884, 0.99545973567962642, 0.98116865768432615, 1.002101884841919, 1.4288960079193116, 0.95106547966003419, 1.1970708795547484, 0.9954293424606323, 1.1713718013763428, 0.94666481037139893, 1.0018607474327088, 0.97489279327392575, 0.93777547025680541, 1.0204042543411256, 0.96157187690734869, 0.90375758628845215, 1.0324212150573731, 1.1109399000167848, 0.9475116991043091, 0.93763119115829463, 0.90536298389434811, 1.4059715404510498, 0.94307274971008304, 0.95997011899948115, 1.3768885894775391, 1.0183367710113524, 0.99927768936157224, 0.91313308448791508, 0.946182846736908, 0.91735214166641232, 0.90953692970275879, 0.9317611285209656, 0.95966435098648073, 0.93667847747802735, 0.97549906883239745, 1.0493741004943848, 0.93963988447189328, 0.96017897539138797, 0.94075982103347777, 0.9112512395858765, 1.0314515218734741, 0.9140383832931519, 0.89004915828704834, 1.0578152834892274, 0.89160987129211422, 0.85747822704315191, 0.97509328174591059, 0.8510981050491333, 1.0220395551681518, 0.86652632312774658, 0.93338179988861081, 0.87793051176071168, 0.86223780183792109, 0.92725572319030758, 0.94884547290802002, 1.3166123956680298, 0.96730655784606934, 1.1605764520645141, 1.0188333361625672], 'val_acc': [0.1333, 0.1323, 0.15890000000000001, 0.18720000000000001, 0.1757, 0.14799999999999999, 0.17829999999999999, 0.1673, 0.2059, 0.19839999999999999, 0.20269999999999999, 0.1658, 0.20300000000000001, 0.21410000000000001, 0.19769999999999999, 0.21299999999999999, 0.19489999999999999, 0.2142, 0.21740000000000001, 0.2162, 0.22689999999999999, 0.2092, 0.2346, 0.24030000000000001, 0.25380000000000003, 0.31180000000000002, 0.31080000000000002, 0.314, 0.2392, 0.32800000000000001, 0.32679999999999998, 0.36659999999999998, 0.37219999999999998, 0.37669999999999998, 0.38080000000000003, 0.31619999999999998, 0.3569, 0.39029999999999998, 0.40239999999999998, 0.38040000000000002, 0.39190000000000003, 0.39250000000000002, 0.42799999999999999, 0.37419999999999998, 0.4017, 0.42249999999999999, 0.4098, 0.36059999999999998, 0.44690000000000002, 0.443, 0.47199999999999998, 0.45579999999999998, 0.46260000000000001, 0.46489999999999998, 0.42570000000000002, 0.503, 0.4274, 0.4526, 0.46920000000000001, 0.48459999999999998, 0.4229, 0.51119999999999999, 0.50509999999999999, 0.44550000000000001, 0.5171, 0.50339999999999996, 0.53120000000000001, 0.51870000000000005, 0.51429999999999998, 0.53659999999999997, 0.51629999999999998, 0.46939999999999998, 0.54210000000000003, 0.54049999999999998, 0.51419999999999999, 0.53800000000000003, 0.3856, 0.55640000000000001, 0.5746, 0.56510000000000005, 0.54000000000000004, 0.49419999999999997, 0.51910000000000001, 0.55159999999999998, 0.57850000000000001, 0.51959999999999995, 0.58560000000000001, 0.50529999999999997, 0.57299999999999995, 0.59099999999999997, 0.58120000000000005, 0.47599999999999998, 0.61129999999999995, 0.58340000000000003, 0.59219999999999995, 0.59040000000000004, 0.53539999999999999, 0.55679999999999996, 0.60840000000000005, 0.57389999999999997, 0.59530000000000005, 0.62719999999999998, 0.62460000000000004, 0.6119, 0.62270000000000003, 0.59299999999999997, 0.56910000000000005, 0.61499999999999999, 0.62980000000000003, 0.62980000000000003, 0.60750000000000004, 0.5504, 0.62219999999999998, 0.58750000000000002, 0.62419999999999998, 0.63380000000000003, 0.59260000000000002, 0.6341, 0.63380000000000003, 0.64510000000000001, 0.62280000000000002, 0.53669999999999995, 0.61550000000000005, 0.51800000000000002, 0.6492, 0.61980000000000002, 0.64749999999999996, 0.64380000000000004, 0.6542, 0.65759999999999996, 0.66500000000000004, 0.65380000000000005, 0.65169999999999995, 0.54849999999999999, 0.6129, 0.65300000000000002, 0.62719999999999998, 0.6704, 0.62539999999999996, 0.66300000000000003, 0.67310000000000003, 0.6492, 0.65710000000000002, 0.66579999999999995, 0.65739999999999998, 0.57609999999999995, 0.67700000000000005, 0.63090000000000002, 0.66349999999999998, 0.60499999999999998, 0.67279999999999995, 0.65600000000000003, 0.67400000000000004, 0.68420000000000003, 0.66200000000000003, 0.68079999999999996, 0.69299999999999995, 0.65700000000000003, 0.62480000000000002, 0.68069999999999997, 0.68430000000000002, 0.69240000000000002, 0.58020000000000005, 0.68500000000000005, 0.67669999999999997, 0.57010000000000005, 0.66149999999999998, 0.66559999999999997, 0.69059999999999999, 0.6845, 0.69369999999999998, 0.68889999999999996, 0.68540000000000001, 0.67920000000000003, 0.68169999999999997, 0.68100000000000005, 0.65949999999999998, 0.68520000000000003, 0.67969999999999997, 0.68620000000000003, 0.69340000000000002, 0.66290000000000004, 0.69199999999999995, 0.69720000000000004, 0.65049999999999997, 0.70499999999999996, 0.71009999999999995, 0.67910000000000004, 0.71160000000000001, 0.66439999999999999, 0.71060000000000001, 0.69289999999999996, 0.70950000000000002, 0.71230000000000004, 0.69799999999999995, 0.69169999999999998, 0.60389999999999999, 0.68340000000000001, 0.62470000000000003, 0.66949999999999998], 'loss': [2.302558644256592, 2.3013443463897705, 2.2985664669799806, 2.2892157909393309, 2.223339578323364, 2.1161817458343504, 2.06688544052124, 2.0354312122344971, 1.9947848240661621, 1.9695962017822266, 1.956912274093628, 1.9416785591888428, 1.9312996815872192, 1.9236752181243897, 1.9175504275894164, 1.9121590549468994, 1.9024661997985839, 1.8978474459457397, 1.8957273501586913, 1.888434299850464, 1.8818134582519532, 1.8808606910705565, 1.8718368501663207, 1.8638073976898193, 1.8484614947891236, 1.8159711615753173, 1.7860346133422851, 1.7634643914794921, 1.7455918466186524, 1.7295365866470338, 1.7151753190612793, 1.6992367706680298, 1.6855618063354492, 1.6687506715011597, 1.6529071277999878, 1.6379933749389648, 1.6210067298889159, 1.6080079509353638, 1.5909697373962401, 1.5805879149246216, 1.5688853794479369, 1.553759456100464, 1.5407800077819824, 1.525901847000122, 1.5169023485565185, 1.50052029296875, 1.4891776857757568, 1.4756994723510741, 1.4617667211151124, 1.4539210668945313, 1.4445479432678223, 1.4302466523742676, 1.4192143144989013, 1.41300037109375, 1.4059140319824219, 1.3961755993270875, 1.3837096494674683, 1.3801587503814696, 1.3685849034881592, 1.3589267414855957, 1.3520177142333984, 1.3449281296539306, 1.3354011049652099, 1.3312604624938964, 1.320492537765503, 1.3150945566749572, 1.3057214120483398, 1.2964380847930908, 1.2936097349548339, 1.2873234546661376, 1.2777705750274657, 1.2753354478836059, 1.2623002907562255, 1.2598494348144531, 1.2562451281738281, 1.2474994969940185, 1.2360503194808961, 1.2339786843872069, 1.2229019292068481, 1.2186439301300049, 1.2134429152679442, 1.2057999255371095, 1.1999420888519288, 1.195371600036621, 1.190258589630127, 1.186440295600891, 1.1795110708999634, 1.1766597494506836, 1.1672798390197754, 1.1571829090690613, 1.1548221054077148, 1.1480762851715087, 1.1412643831253051, 1.1342174583435058, 1.129391286201477, 1.1290413285827636, 1.1239224688720704, 1.1214144692993164, 1.1096632480239867, 1.1102478785324097, 1.1046584685134888, 1.097301446762085, 1.0908944651412964, 1.0897511127853394, 1.0869356007385254, 1.0777945974731444, 1.0712470197677613, 1.0735873790740966, 1.0631092026710511, 1.0581975102615357, 1.0603198422241211, 1.0500221603393554, 1.0509174615097046, 1.046334141960144, 1.0416393623352052, 1.0318185317993165, 1.0313488217926026, 1.0295070120620728, 1.0236307931137085, 1.0253106174278259, 1.0184180735015869, 1.0105343157958984, 1.0104189408111572, 1.004626226387024, 1.0038512867927551, 0.9983999308395386, 0.99426269224166874, 0.99278144449234007, 0.98759562393188471, 0.9843684069824219, 0.98247420249938966, 0.97696190801620486, 0.97602851207733154, 0.9704875140762329, 0.96728238548278811, 0.96539652580261226, 0.9591727046203613, 0.95951939943313602, 0.95720987041473393, 0.95263479843139653, 0.94720376533508299, 0.94310564056396484, 0.94436889394760137, 0.93528938041687015, 0.93889562675476079, 0.93431861877441402, 0.92628278594970703, 0.92500102319717403, 0.92230397087097171, 0.92338868385314943, 0.92412807956695553, 0.91609642265319824, 0.91592855506896975, 0.91178702960968017, 0.90944609672546384, 0.90134901805877687, 0.8997213291931152, 0.89713805900573729, 0.89569716697692869, 0.89556448856353765, 0.89264106369018559, 0.89001376441955571, 0.8872949107170105, 0.88886337253570558, 0.88433033981323239, 0.87868931747436518, 0.87727529333114629, 0.87387738826751704, 0.87026362382888789, 0.87073448606491088, 0.86723906551361085, 0.86225788948059079, 0.86445243968009944, 0.8613388536453247, 0.86158530838012692, 0.85477884069442744, 0.85394587135314937, 0.85064671333312991, 0.85126676040649418, 0.84206288993835454, 0.84453500957489014, 0.84120616157531736, 0.83928050487518313, 0.84282878746032719, 0.83346137039184576, 0.83142954757690435, 0.83217422958374021, 0.82995706993103024, 0.83194502614974974, 0.82569885990142822, 0.82597880729675288, 0.82306994153976443, 0.81862883325576785, 0.81655679366111755, 0.81062904479980469, 0.81339693546295166, 0.81461623220443724, 0.81033395984649659, 0.80619967327117925, 0.80424167404174807], 'acc': [0.09826, 0.12274, 0.15565999999999999, 0.16852, 0.17419999999999999, 0.18695999999999999, 0.18759999999999999, 0.18701999999999999, 0.18998000000000001, 0.19048000000000001, 0.19528000000000001, 0.19700000000000001, 0.19991999999999999, 0.19824, 0.20038, 0.20144000000000001, 0.20524000000000001, 0.20698, 0.20912, 0.21115999999999999, 0.21808, 0.21920000000000001, 0.22661999999999999, 0.23569999999999999, 0.25397999999999998, 0.27545999999999998, 0.29330000000000001, 0.29886000000000001, 0.30891999999999997, 0.31740000000000002, 0.32347999999999999, 0.33328000000000002, 0.33545999999999998, 0.34673999999999999, 0.35460000000000003, 0.35993999999999998, 0.36996000000000001, 0.37440000000000001, 0.38234000000000001, 0.38607999999999998, 0.39523999999999998, 0.40410000000000001, 0.40926000000000001, 0.41489999999999999, 0.42032000000000003, 0.42403999999999997, 0.43196000000000001, 0.43902000000000002, 0.44259999999999999, 0.44729999999999998, 0.45228000000000002, 0.46054, 0.46288000000000001, 0.46736, 0.46844000000000002, 0.47533999999999998, 0.47948000000000002, 0.48093999999999998, 0.48653999999999997, 0.48787999999999998, 0.49518000000000001, 0.49784, 0.50302000000000002, 0.50368000000000002, 0.50888, 0.51153999999999999, 0.51107999999999998, 0.51748000000000005, 0.52029999999999998, 0.52112000000000003, 0.52836000000000005, 0.52912000000000003, 0.53334000000000004, 0.53793999999999997, 0.54088000000000003, 0.54249999999999998, 0.54766000000000004, 0.54993999999999998, 0.55479999999999996, 0.55533999999999994, 0.55808000000000002, 0.56072, 0.56164000000000003, 0.56635999999999997, 0.57111999999999996, 0.57067999999999997, 0.57489999999999997, 0.57330000000000003, 0.57565999999999995, 0.58240000000000003, 0.58535999999999999, 0.58694000000000002, 0.59150000000000003, 0.59192, 0.59730000000000005, 0.59179999999999999, 0.59726000000000001, 0.60133999999999999, 0.60451999999999995, 0.60402, 0.60609999999999997, 0.61106000000000005, 0.61270000000000002, 0.61556, 0.61472000000000004, 0.61775999999999998, 0.62270000000000003, 0.62290000000000001, 0.62402000000000002, 0.62722, 0.62682000000000004, 0.62819999999999998, 0.62978000000000001, 0.63117999999999996, 0.63315999999999995, 0.63546000000000002, 0.63775999999999999, 0.63744000000000001, 0.63937999999999995, 0.64105999999999996, 0.64249999999999996, 0.64673999999999998, 0.64527999999999996, 0.64498, 0.64771999999999996, 0.64861999999999997, 0.65359999999999996, 0.65491999999999995, 0.65554000000000001, 0.65580000000000005, 0.65866000000000002, 0.65958000000000006, 0.65922000000000003, 0.66424000000000005, 0.66286, 0.66376000000000002, 0.66491999999999996, 0.66744000000000003, 0.66481999999999997, 0.66896, 0.67091999999999996, 0.67023999999999995, 0.67371999999999999, 0.67396, 0.67578000000000005, 0.67388000000000003, 0.67842000000000002, 0.67934000000000005, 0.68130000000000002, 0.68152000000000001, 0.68147999999999997, 0.68215999999999999, 0.6835, 0.68537999999999999, 0.68659999999999999, 0.68532000000000004, 0.68977999999999995, 0.68918000000000001, 0.68945999999999996, 0.69274000000000002, 0.69281999999999999, 0.6946, 0.69338, 0.69294, 0.69538, 0.69650000000000001, 0.70121999999999995, 0.69933999999999996, 0.70021999999999995, 0.70142000000000004, 0.70472000000000001, 0.70247999999999999, 0.70372000000000001, 0.70535999999999999, 0.70586000000000004, 0.70730000000000004, 0.70698000000000005, 0.70723999999999998, 0.70957999999999999, 0.71108000000000005, 0.71062000000000003, 0.71157999999999999, 0.71277999999999997, 0.71220000000000006, 0.7167, 0.71597999999999995, 0.71672000000000002, 0.71553999999999995, 0.71836, 0.71887999999999996, 0.71763999999999994, 0.71919999999999995, 0.72033999999999998, 0.72167999999999999, 0.72133999999999998, 0.72452000000000005, 0.72306000000000004, 0.72314000000000001, 0.72558, 0.72285999999999995]}\n"
     ]
    }
   ],
   "source": [
    "print(history.history)"
   ]
  },
  {
   "cell_type": "code",
   "execution_count": null,
   "metadata": {
    "collapsed": true
   },
   "outputs": [],
   "source": []
  },
  {
   "cell_type": "code",
   "execution_count": 15,
   "metadata": {
    "collapsed": true
   },
   "outputs": [],
   "source": [
    "data = pd.DataFrame(history.history)\n",
    "nome = 'DoubleConvCifar10NormDropFinalConvGap_t1' + str(datetime.datetime.now())+'.json'\n",
    "data = data.to_json()\n",
    "with open(nome, \"w+\") as output_file:\n",
    "    output_file.write(data)"
   ]
  },
  {
   "cell_type": "code",
   "execution_count": null,
   "metadata": {
    "collapsed": true
   },
   "outputs": [],
   "source": []
  },
  {
   "cell_type": "code",
   "execution_count": null,
   "metadata": {
    "collapsed": true
   },
   "outputs": [],
   "source": []
  },
  {
   "cell_type": "code",
   "execution_count": null,
   "metadata": {
    "collapsed": true
   },
   "outputs": [],
   "source": []
  },
  {
   "cell_type": "code",
   "execution_count": null,
   "metadata": {
    "collapsed": true
   },
   "outputs": [],
   "source": []
  }
 ],
 "metadata": {
  "kernelspec": {
   "display_name": "Python 3",
   "language": "python",
   "name": "python3"
  },
  "language_info": {
   "codemirror_mode": {
    "name": "ipython",
    "version": 3
   },
   "file_extension": ".py",
   "mimetype": "text/x-python",
   "name": "python",
   "nbconvert_exporter": "python",
   "pygments_lexer": "ipython3",
   "version": "3.6.3"
  }
 },
 "nbformat": 4,
 "nbformat_minor": 2
}
