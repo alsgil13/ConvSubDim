{
 "cells": [
  {
   "cell_type": "code",
   "execution_count": 1,
   "metadata": {},
   "outputs": [
    {
     "name": "stderr",
     "output_type": "stream",
     "text": [
      "Using TensorFlow backend.\n"
     ]
    }
   ],
   "source": [
    "import keras\n",
    "import numpy as np\n",
    "from keras.datasets import mnist\n",
    "from keras.optimizers import SGD\n",
    "\n",
    "from keras.models import Sequential\n",
    "from keras.layers import Dense, Dropout, Flatten, Softmax\n",
    "from keras.layers import Conv2D, MaxPooling2D, BatchNormalization, Reshape, GlobalAveragePooling2D, GlobalAveragePooling1D\n",
    "from keras.optimizers import Adam\n",
    "from keras.initializers import RandomNormal\n",
    "import matplotlib.pyplot as plt"
   ]
  },
  {
   "cell_type": "code",
   "execution_count": 2,
   "metadata": {
    "collapsed": true
   },
   "outputs": [],
   "source": [
    "\n",
    "# Hyperparameters\n",
    "batch_size = 64\n",
    "num_classes = 10 #pegar automaticamente NumPy.Unique\n",
    "epochs = 200\n",
    "\n"
   ]
  },
  {
   "cell_type": "code",
   "execution_count": null,
   "metadata": {
    "collapsed": true
   },
   "outputs": [],
   "source": []
  },
  {
   "cell_type": "code",
   "execution_count": 3,
   "metadata": {},
   "outputs": [
    {
     "data": {
      "text/plain": [
       "(60000, 28, 28, 1)"
      ]
     },
     "execution_count": 3,
     "metadata": {},
     "output_type": "execute_result"
    }
   ],
   "source": [
    "# Load Cifar-10 Data\n",
    "(x_train, y_train), (x_test, y_test) = mnist.load_data()\n",
    "\n",
    "#Adicionando Canal do DataSet (Channel do MNIST eh 1)\n",
    "x_train = np.reshape(x_train, (len(x_train),28,28, 1))\n",
    "x_test = np.reshape(x_test, (len(x_test),28,28, 1))\n",
    "\n",
    "\n",
    "#x_train.shape\n",
    "img_height, img_width, channel = x_train.shape[1],x_train.shape[2],x_train.shape[3]\n",
    "#channel=1\n",
    "\n",
    "x_train.shape\n",
    "\n"
   ]
  },
  {
   "cell_type": "code",
   "execution_count": 4,
   "metadata": {},
   "outputs": [
    {
     "data": {
      "text/plain": [
       "(60000, 28, 28, 1)"
      ]
     },
     "execution_count": 4,
     "metadata": {},
     "output_type": "execute_result"
    }
   ],
   "source": [
    "\n",
    "#\n",
    "x_train.shape\n",
    "\n",
    "#\n"
   ]
  },
  {
   "cell_type": "code",
   "execution_count": 5,
   "metadata": {
    "collapsed": true
   },
   "outputs": [],
   "source": [
    "# convert to one hot encoing \n",
    "y_train = keras.utils.to_categorical(y_train, num_classes)\n",
    "y_test = keras.utils.to_categorical(y_test, num_classes)\n",
    "\n"
   ]
  },
  {
   "cell_type": "code",
   "execution_count": 6,
   "metadata": {},
   "outputs": [
    {
     "data": {
      "text/plain": [
       "28"
      ]
     },
     "execution_count": 6,
     "metadata": {},
     "output_type": "execute_result"
    }
   ],
   "source": [
    "img_width"
   ]
  },
  {
   "cell_type": "code",
   "execution_count": 7,
   "metadata": {
    "collapsed": true
   },
   "outputs": [],
   "source": [
    "model = Sequential()\n",
    "\n",
    "#Filters = IMG_width/2 * 7\n",
    "model.add(Conv2D(98, #alterado de 168 para 98\n",
    "                 (5,5), #alterado de 3 para 5 \n",
    "                 strides=(2,2), \n",
    "                 activation='relu', \n",
    "                 padding='same',\n",
    "                 data_format='channels_last',\n",
    "                 use_bias=True, \n",
    "                 kernel_initializer=RandomNormal(mean=0.0, stddev=0.05, seed=None), \n",
    "                 bias_initializer='zeros',\n",
    "                 input_shape=(img_height, img_width, channel)))\n",
    "model.add(MaxPooling2D(pool_size=(2, 2), \n",
    "                       strides=(2,2)))\n",
    "model.add(BatchNormalization())\n",
    "\n",
    "#Filters = IMG_width/2 * 9\n",
    "model.add(Conv2D(126, \n",
    "                 (5,5), \n",
    "                 strides=(2,2), \n",
    "                 activation='relu', \n",
    "                 padding='same',\n",
    "                 data_format='channels_last',\n",
    "                 use_bias=True, \n",
    "                 kernel_initializer=RandomNormal(mean=0.0, stddev=0.05, seed=None), \n",
    "                 bias_initializer='zeros',\n",
    "                 input_shape=(img_height, img_width, channel)))\n",
    "model.add(MaxPooling2D(pool_size=(2, 2), \n",
    "                       strides=(2,2)))\n",
    "model.add(BatchNormalization())\n",
    "\n",
    " \n",
    "model.add(Flatten())\n",
    "#IMG_width^ 2\n",
    "model.add(Dense(784, activation='relu'))\n",
    "model.add(Dropout(0.5))\n",
    "\n",
    "#camada anterior/2\n",
    "model.add(Dense(392, activation='relu'))\n",
    "model.add(Dropout(0.5))\n",
    "\n",
    "#Num de classes\n",
    "model.add(Dense(10, activation='softmax'))\n"
   ]
  },
  {
   "cell_type": "code",
   "execution_count": 8,
   "metadata": {},
   "outputs": [
    {
     "name": "stdout",
     "output_type": "stream",
     "text": [
      "_________________________________________________________________\n",
      "Layer (type)                 Output Shape              Param #   \n",
      "=================================================================\n",
      "conv2d_1 (Conv2D)            (None, 14, 14, 98)        2548      \n",
      "_________________________________________________________________\n",
      "max_pooling2d_1 (MaxPooling2 (None, 7, 7, 98)          0         \n",
      "_________________________________________________________________\n",
      "batch_normalization_1 (Batch (None, 7, 7, 98)          392       \n",
      "_________________________________________________________________\n",
      "conv2d_2 (Conv2D)            (None, 4, 4, 126)         308826    \n",
      "_________________________________________________________________\n",
      "max_pooling2d_2 (MaxPooling2 (None, 2, 2, 126)         0         \n",
      "_________________________________________________________________\n",
      "batch_normalization_2 (Batch (None, 2, 2, 126)         504       \n",
      "_________________________________________________________________\n",
      "flatten_1 (Flatten)          (None, 504)               0         \n",
      "_________________________________________________________________\n",
      "dense_1 (Dense)              (None, 784)               395920    \n",
      "_________________________________________________________________\n",
      "dropout_1 (Dropout)          (None, 784)               0         \n",
      "_________________________________________________________________\n",
      "dense_2 (Dense)              (None, 392)               307720    \n",
      "_________________________________________________________________\n",
      "dropout_2 (Dropout)          (None, 392)               0         \n",
      "_________________________________________________________________\n",
      "dense_3 (Dense)              (None, 10)                3930      \n",
      "=================================================================\n",
      "Total params: 1,019,840\n",
      "Trainable params: 1,019,392\n",
      "Non-trainable params: 448\n",
      "_________________________________________________________________\n"
     ]
    }
   ],
   "source": [
    "\n",
    "# print the model summary\n",
    "model.summary()\n",
    "\n"
   ]
  },
  {
   "cell_type": "code",
   "execution_count": 9,
   "metadata": {
    "collapsed": true
   },
   "outputs": [],
   "source": [
    "# determine Loss function and Optimizer\n",
    "model.compile(loss='categorical_crossentropy',\n",
    "              optimizer=SGD(lr=0.01, momentum=0.02, decay=0.0, nesterov=False),\n",
    "              metrics=['accuracy'])\n"
   ]
  },
  {
   "cell_type": "code",
   "execution_count": 10,
   "metadata": {},
   "outputs": [
    {
     "name": "stdout",
     "output_type": "stream",
     "text": [
      "Train on 60000 samples, validate on 10000 samples\n",
      "Epoch 1/200\n",
      "60000/60000 [==============================] - 50s 837us/step - loss: 0.5005 - acc: 0.8417 - val_loss: 0.1172 - val_acc: 0.9635\n",
      "Epoch 2/200\n",
      "60000/60000 [==============================] - 51s 844us/step - loss: 0.1661 - acc: 0.9495 - val_loss: 0.0749 - val_acc: 0.9769\n",
      "Epoch 3/200\n",
      "60000/60000 [==============================] - 51s 845us/step - loss: 0.1171 - acc: 0.9644 - val_loss: 0.0600 - val_acc: 0.9812\n",
      "Epoch 4/200\n",
      "60000/60000 [==============================] - 51s 846us/step - loss: 0.0945 - acc: 0.9714 - val_loss: 0.0500 - val_acc: 0.9836\n",
      "Epoch 5/200\n",
      "60000/60000 [==============================] - 51s 855us/step - loss: 0.0781 - acc: 0.9761 - val_loss: 0.0451 - val_acc: 0.9852\n",
      "Epoch 6/200\n",
      "60000/60000 [==============================] - 51s 857us/step - loss: 0.0689 - acc: 0.9789 - val_loss: 0.0463 - val_acc: 0.9855\n",
      "Epoch 7/200\n",
      "60000/60000 [==============================] - 51s 858us/step - loss: 0.0611 - acc: 0.9813 - val_loss: 0.0380 - val_acc: 0.9875\n",
      "Epoch 8/200\n",
      "60000/60000 [==============================] - 51s 850us/step - loss: 0.0541 - acc: 0.9836 - val_loss: 0.0373 - val_acc: 0.9882\n",
      "Epoch 9/200\n",
      "60000/60000 [==============================] - 50s 837us/step - loss: 0.0497 - acc: 0.9843 - val_loss: 0.0368 - val_acc: 0.9882\n",
      "Epoch 10/200\n",
      "60000/60000 [==============================] - 50s 833us/step - loss: 0.0441 - acc: 0.9864 - val_loss: 0.0349 - val_acc: 0.9886\n",
      "Epoch 11/200\n",
      "60000/60000 [==============================] - 50s 835us/step - loss: 0.0388 - acc: 0.9880 - val_loss: 0.0333 - val_acc: 0.9888\n",
      "Epoch 12/200\n",
      "60000/60000 [==============================] - 51s 845us/step - loss: 0.0395 - acc: 0.9875 - val_loss: 0.0345 - val_acc: 0.9896\n",
      "Epoch 13/200\n",
      "60000/60000 [==============================] - 50s 838us/step - loss: 0.0341 - acc: 0.9889 - val_loss: 0.0326 - val_acc: 0.9900\n",
      "Epoch 14/200\n",
      "60000/60000 [==============================] - 50s 840us/step - loss: 0.0328 - acc: 0.9897 - val_loss: 0.0303 - val_acc: 0.9904\n",
      "Epoch 15/200\n",
      "60000/60000 [==============================] - 51s 846us/step - loss: 0.0292 - acc: 0.9909 - val_loss: 0.0303 - val_acc: 0.9905\n",
      "Epoch 16/200\n",
      "60000/60000 [==============================] - 51s 844us/step - loss: 0.0288 - acc: 0.9907 - val_loss: 0.0294 - val_acc: 0.9905\n",
      "Epoch 17/200\n",
      "60000/60000 [==============================] - 51s 844us/step - loss: 0.0262 - acc: 0.9918 - val_loss: 0.0295 - val_acc: 0.9892\n",
      "Epoch 18/200\n",
      "60000/60000 [==============================] - 50s 840us/step - loss: 0.0241 - acc: 0.9923 - val_loss: 0.0292 - val_acc: 0.9905\n",
      "Epoch 19/200\n",
      "60000/60000 [==============================] - 50s 839us/step - loss: 0.0228 - acc: 0.9927 - val_loss: 0.0298 - val_acc: 0.9903\n",
      "Epoch 20/200\n",
      "60000/60000 [==============================] - 50s 837us/step - loss: 0.0212 - acc: 0.9931 - val_loss: 0.0296 - val_acc: 0.9911\n",
      "Epoch 21/200\n",
      "60000/60000 [==============================] - 50s 838us/step - loss: 0.0195 - acc: 0.9938 - val_loss: 0.0279 - val_acc: 0.9911\n",
      "Epoch 22/200\n",
      "60000/60000 [==============================] - 50s 841us/step - loss: 0.0189 - acc: 0.9943 - val_loss: 0.0291 - val_acc: 0.9908\n",
      "Epoch 23/200\n",
      "60000/60000 [==============================] - 51s 843us/step - loss: 0.0166 - acc: 0.9948 - val_loss: 0.0285 - val_acc: 0.9902\n",
      "Epoch 24/200\n",
      "60000/60000 [==============================] - 51s 847us/step - loss: 0.0165 - acc: 0.9947 - val_loss: 0.0285 - val_acc: 0.9909\n",
      "Epoch 25/200\n",
      "60000/60000 [==============================] - 51s 848us/step - loss: 0.0160 - acc: 0.9950 - val_loss: 0.0324 - val_acc: 0.9898\n",
      "Epoch 26/200\n",
      "60000/60000 [==============================] - 51s 845us/step - loss: 0.0160 - acc: 0.9950 - val_loss: 0.0290 - val_acc: 0.9910\n",
      "Epoch 27/200\n",
      "60000/60000 [==============================] - 51s 847us/step - loss: 0.0147 - acc: 0.9952 - val_loss: 0.0281 - val_acc: 0.9912\n",
      "Epoch 28/200\n",
      "60000/60000 [==============================] - 51s 842us/step - loss: 0.0139 - acc: 0.9956 - val_loss: 0.0289 - val_acc: 0.9914\n",
      "Epoch 29/200\n",
      "60000/60000 [==============================] - 50s 838us/step - loss: 0.0124 - acc: 0.9960 - val_loss: 0.0293 - val_acc: 0.9899\n",
      "Epoch 30/200\n",
      "60000/60000 [==============================] - 50s 840us/step - loss: 0.0121 - acc: 0.9962 - val_loss: 0.0304 - val_acc: 0.9907\n",
      "Epoch 31/200\n",
      "60000/60000 [==============================] - 50s 840us/step - loss: 0.0117 - acc: 0.9965 - val_loss: 0.0318 - val_acc: 0.9902\n",
      "Epoch 32/200\n",
      "60000/60000 [==============================] - 50s 840us/step - loss: 0.0106 - acc: 0.9967 - val_loss: 0.0298 - val_acc: 0.9912\n",
      "Epoch 33/200\n",
      "60000/60000 [==============================] - 50s 838us/step - loss: 0.0107 - acc: 0.9966 - val_loss: 0.0295 - val_acc: 0.9909\n",
      "Epoch 34/200\n",
      "60000/60000 [==============================] - 50s 835us/step - loss: 0.0098 - acc: 0.9970 - val_loss: 0.0303 - val_acc: 0.9909\n",
      "Epoch 35/200\n",
      "60000/60000 [==============================] - 50s 837us/step - loss: 0.0101 - acc: 0.9969 - val_loss: 0.0307 - val_acc: 0.9912\n",
      "Epoch 36/200\n",
      "60000/60000 [==============================] - 50s 837us/step - loss: 0.0093 - acc: 0.9972 - val_loss: 0.0305 - val_acc: 0.9913\n",
      "Epoch 37/200\n",
      "60000/60000 [==============================] - 51s 842us/step - loss: 0.0084 - acc: 0.9974 - val_loss: 0.0309 - val_acc: 0.9909\n",
      "Epoch 38/200\n",
      "60000/60000 [==============================] - 50s 840us/step - loss: 0.0076 - acc: 0.9976 - val_loss: 0.0304 - val_acc: 0.9910\n",
      "Epoch 39/200\n",
      "60000/60000 [==============================] - 51s 842us/step - loss: 0.0078 - acc: 0.9975 - val_loss: 0.0308 - val_acc: 0.9918\n",
      "Epoch 40/200\n",
      "60000/60000 [==============================] - 51s 843us/step - loss: 0.0076 - acc: 0.9975 - val_loss: 0.0326 - val_acc: 0.9908\n",
      "Epoch 41/200\n",
      "60000/60000 [==============================] - 50s 840us/step - loss: 0.0071 - acc: 0.9978 - val_loss: 0.0310 - val_acc: 0.9918\n",
      "Epoch 42/200\n",
      "60000/60000 [==============================] - 50s 837us/step - loss: 0.0069 - acc: 0.9978 - val_loss: 0.0320 - val_acc: 0.9911\n",
      "Epoch 43/200\n",
      "60000/60000 [==============================] - 50s 839us/step - loss: 0.0069 - acc: 0.9978 - val_loss: 0.0322 - val_acc: 0.9910\n",
      "Epoch 44/200\n",
      "60000/60000 [==============================] - 50s 837us/step - loss: 0.0063 - acc: 0.9981 - val_loss: 0.0316 - val_acc: 0.9914\n",
      "Epoch 45/200\n",
      "60000/60000 [==============================] - 50s 839us/step - loss: 0.0067 - acc: 0.9979 - val_loss: 0.0329 - val_acc: 0.9912\n",
      "Epoch 46/200\n",
      "60000/60000 [==============================] - 50s 841us/step - loss: 0.0061 - acc: 0.9981 - val_loss: 0.0320 - val_acc: 0.9912\n",
      "Epoch 47/200\n",
      "60000/60000 [==============================] - 50s 840us/step - loss: 0.0059 - acc: 0.9984 - val_loss: 0.0332 - val_acc: 0.9906\n",
      "Epoch 48/200\n",
      "60000/60000 [==============================] - 50s 838us/step - loss: 0.0057 - acc: 0.9983 - val_loss: 0.0302 - val_acc: 0.9917\n",
      "Epoch 49/200\n",
      "60000/60000 [==============================] - 50s 836us/step - loss: 0.0053 - acc: 0.9985 - val_loss: 0.0341 - val_acc: 0.9908\n",
      "Epoch 50/200\n",
      "60000/60000 [==============================] - 50s 841us/step - loss: 0.0051 - acc: 0.9983 - val_loss: 0.0339 - val_acc: 0.9909\n",
      "Epoch 51/200\n",
      "60000/60000 [==============================] - 51s 844us/step - loss: 0.0057 - acc: 0.9980 - val_loss: 0.0340 - val_acc: 0.9910\n",
      "Epoch 52/200\n",
      "60000/60000 [==============================] - 51s 844us/step - loss: 0.0053 - acc: 0.9984 - val_loss: 0.0321 - val_acc: 0.9912\n",
      "Epoch 53/200\n",
      "60000/60000 [==============================] - 51s 844us/step - loss: 0.0047 - acc: 0.9988 - val_loss: 0.0337 - val_acc: 0.9914\n",
      "Epoch 54/200\n",
      "60000/60000 [==============================] - 51s 843us/step - loss: 0.0051 - acc: 0.9986 - val_loss: 0.0328 - val_acc: 0.9914\n",
      "Epoch 55/200\n",
      "60000/60000 [==============================] - 50s 838us/step - loss: 0.0051 - acc: 0.9984 - val_loss: 0.0335 - val_acc: 0.9913\n",
      "Epoch 56/200\n",
      "60000/60000 [==============================] - 50s 838us/step - loss: 0.0050 - acc: 0.9985 - val_loss: 0.0336 - val_acc: 0.9911\n",
      "Epoch 57/200\n",
      "60000/60000 [==============================] - 50s 839us/step - loss: 0.0047 - acc: 0.9988 - val_loss: 0.0364 - val_acc: 0.9911\n",
      "Epoch 58/200\n",
      "60000/60000 [==============================] - 50s 840us/step - loss: 0.0045 - acc: 0.9987 - val_loss: 0.0317 - val_acc: 0.9913\n"
     ]
    },
    {
     "name": "stdout",
     "output_type": "stream",
     "text": [
      "Epoch 59/200\n",
      "60000/60000 [==============================] - 51s 842us/step - loss: 0.0043 - acc: 0.9989 - val_loss: 0.0335 - val_acc: 0.9912\n",
      "Epoch 60/200\n",
      "60000/60000 [==============================] - 50s 840us/step - loss: 0.0039 - acc: 0.9990 - val_loss: 0.0335 - val_acc: 0.9910\n",
      "Epoch 61/200\n",
      "60000/60000 [==============================] - 50s 841us/step - loss: 0.0039 - acc: 0.9988 - val_loss: 0.0313 - val_acc: 0.9919\n",
      "Epoch 62/200\n",
      "60000/60000 [==============================] - 51s 845us/step - loss: 0.0043 - acc: 0.9987 - val_loss: 0.0330 - val_acc: 0.9914\n",
      "Epoch 63/200\n",
      "60000/60000 [==============================] - 50s 842us/step - loss: 0.0035 - acc: 0.9991 - val_loss: 0.0340 - val_acc: 0.9914\n",
      "Epoch 64/200\n",
      "60000/60000 [==============================] - 50s 838us/step - loss: 0.0037 - acc: 0.9990 - val_loss: 0.0340 - val_acc: 0.9910\n",
      "Epoch 65/200\n",
      "60000/60000 [==============================] - 51s 842us/step - loss: 0.0038 - acc: 0.9989 - val_loss: 0.0342 - val_acc: 0.9909\n",
      "Epoch 66/200\n",
      "60000/60000 [==============================] - 50s 839us/step - loss: 0.0031 - acc: 0.9991 - val_loss: 0.0359 - val_acc: 0.9909\n",
      "Epoch 67/200\n",
      "60000/60000 [==============================] - 50s 840us/step - loss: 0.0033 - acc: 0.9991 - val_loss: 0.0340 - val_acc: 0.9918\n",
      "Epoch 68/200\n",
      "60000/60000 [==============================] - 50s 839us/step - loss: 0.0029 - acc: 0.9992 - val_loss: 0.0343 - val_acc: 0.9907\n",
      "Epoch 69/200\n",
      "60000/60000 [==============================] - 50s 839us/step - loss: 0.0030 - acc: 0.9991 - val_loss: 0.0352 - val_acc: 0.9909\n",
      "Epoch 70/200\n",
      "60000/60000 [==============================] - 50s 841us/step - loss: 0.0036 - acc: 0.9991 - val_loss: 0.0331 - val_acc: 0.9918\n",
      "Epoch 71/200\n",
      "60000/60000 [==============================] - 50s 841us/step - loss: 0.0027 - acc: 0.9993 - val_loss: 0.0338 - val_acc: 0.9908\n",
      "Epoch 72/200\n",
      "60000/60000 [==============================] - 50s 842us/step - loss: 0.0034 - acc: 0.9990 - val_loss: 0.0339 - val_acc: 0.9905\n",
      "Epoch 73/200\n",
      "60000/60000 [==============================] - 50s 841us/step - loss: 0.0025 - acc: 0.9993 - val_loss: 0.0362 - val_acc: 0.9904\n",
      "Epoch 74/200\n",
      "60000/60000 [==============================] - 51s 843us/step - loss: 0.0029 - acc: 0.9992 - val_loss: 0.0360 - val_acc: 0.9907\n",
      "Epoch 75/200\n",
      "60000/60000 [==============================] - 50s 841us/step - loss: 0.0021 - acc: 0.9994 - val_loss: 0.0367 - val_acc: 0.9907\n",
      "Epoch 76/200\n",
      "60000/60000 [==============================] - 51s 845us/step - loss: 0.0030 - acc: 0.9991 - val_loss: 0.0335 - val_acc: 0.9912\n",
      "Epoch 77/200\n",
      "60000/60000 [==============================] - 51s 844us/step - loss: 0.0027 - acc: 0.9993 - val_loss: 0.0348 - val_acc: 0.9909\n",
      "Epoch 78/200\n",
      "60000/60000 [==============================] - 50s 838us/step - loss: 0.0027 - acc: 0.9992 - val_loss: 0.0360 - val_acc: 0.9910\n",
      "Epoch 79/200\n",
      "60000/60000 [==============================] - 50s 838us/step - loss: 0.0026 - acc: 0.9992 - val_loss: 0.0343 - val_acc: 0.9913\n",
      "Epoch 80/200\n",
      "60000/60000 [==============================] - 50s 841us/step - loss: 0.0023 - acc: 0.9992 - val_loss: 0.0346 - val_acc: 0.9913\n",
      "Epoch 81/200\n",
      "60000/60000 [==============================] - 50s 838us/step - loss: 0.0024 - acc: 0.9993 - val_loss: 0.0347 - val_acc: 0.9914\n",
      "Epoch 82/200\n",
      "60000/60000 [==============================] - 50s 840us/step - loss: 0.0018 - acc: 0.9996 - val_loss: 0.0347 - val_acc: 0.9911\n",
      "Epoch 83/200\n",
      "60000/60000 [==============================] - 50s 838us/step - loss: 0.0021 - acc: 0.9994 - val_loss: 0.0360 - val_acc: 0.9908\n",
      "Epoch 84/200\n",
      "60000/60000 [==============================] - 50s 841us/step - loss: 0.0024 - acc: 0.9993 - val_loss: 0.0370 - val_acc: 0.9909\n",
      "Epoch 85/200\n",
      "60000/60000 [==============================] - 50s 839us/step - loss: 0.0021 - acc: 0.9993 - val_loss: 0.0345 - val_acc: 0.9916\n",
      "Epoch 86/200\n",
      "60000/60000 [==============================] - 51s 842us/step - loss: 0.0020 - acc: 0.9995 - val_loss: 0.0354 - val_acc: 0.9911\n",
      "Epoch 87/200\n",
      "60000/60000 [==============================] - 50s 837us/step - loss: 0.0019 - acc: 0.9994 - val_loss: 0.0353 - val_acc: 0.9916\n",
      "Epoch 88/200\n",
      "60000/60000 [==============================] - 50s 840us/step - loss: 0.0019 - acc: 0.9995 - val_loss: 0.0361 - val_acc: 0.9911\n",
      "Epoch 89/200\n",
      "60000/60000 [==============================] - 50s 838us/step - loss: 0.0020 - acc: 0.9994 - val_loss: 0.0351 - val_acc: 0.9915\n",
      "Epoch 90/200\n",
      "60000/60000 [==============================] - 50s 838us/step - loss: 0.0017 - acc: 0.9996 - val_loss: 0.0371 - val_acc: 0.9910\n",
      "Epoch 91/200\n",
      "60000/60000 [==============================] - 50s 840us/step - loss: 0.0018 - acc: 0.9995 - val_loss: 0.0373 - val_acc: 0.9913\n",
      "Epoch 92/200\n",
      "60000/60000 [==============================] - 50s 840us/step - loss: 0.0017 - acc: 0.9996 - val_loss: 0.0355 - val_acc: 0.9908\n",
      "Epoch 93/200\n",
      "60000/60000 [==============================] - 50s 838us/step - loss: 0.0022 - acc: 0.9993 - val_loss: 0.0360 - val_acc: 0.9908\n",
      "Epoch 94/200\n",
      "60000/60000 [==============================] - 50s 836us/step - loss: 0.0018 - acc: 0.9995 - val_loss: 0.0352 - val_acc: 0.9910\n",
      "Epoch 95/200\n",
      "60000/60000 [==============================] - 50s 837us/step - loss: 0.0016 - acc: 0.9995 - val_loss: 0.0347 - val_acc: 0.9916\n",
      "Epoch 96/200\n",
      "60000/60000 [==============================] - 50s 836us/step - loss: 0.0013 - acc: 0.9997 - val_loss: 0.0342 - val_acc: 0.9909\n",
      "Epoch 97/200\n",
      "60000/60000 [==============================] - 50s 837us/step - loss: 0.0019 - acc: 0.9994 - val_loss: 0.0370 - val_acc: 0.9907\n",
      "Epoch 98/200\n",
      "60000/60000 [==============================] - 50s 840us/step - loss: 0.0015 - acc: 0.9996 - val_loss: 0.0358 - val_acc: 0.9912\n",
      "Epoch 99/200\n",
      "60000/60000 [==============================] - 50s 838us/step - loss: 0.0017 - acc: 0.9994 - val_loss: 0.0360 - val_acc: 0.9909\n",
      "Epoch 100/200\n",
      "60000/60000 [==============================] - 50s 836us/step - loss: 0.0018 - acc: 0.9995 - val_loss: 0.0349 - val_acc: 0.9913\n",
      "Epoch 101/200\n",
      "60000/60000 [==============================] - 50s 838us/step - loss: 0.0016 - acc: 0.9996 - val_loss: 0.0354 - val_acc: 0.9913\n",
      "Epoch 102/200\n",
      "60000/60000 [==============================] - 50s 840us/step - loss: 0.0016 - acc: 0.9996 - val_loss: 0.0350 - val_acc: 0.9918\n",
      "Epoch 103/200\n",
      "60000/60000 [==============================] - 50s 839us/step - loss: 0.0019 - acc: 0.9994 - val_loss: 0.0363 - val_acc: 0.9910\n",
      "Epoch 104/200\n",
      "60000/60000 [==============================] - 50s 841us/step - loss: 0.0018 - acc: 0.9995 - val_loss: 0.0352 - val_acc: 0.9917\n",
      "Epoch 105/200\n",
      "60000/60000 [==============================] - 50s 839us/step - loss: 0.0015 - acc: 0.9997 - val_loss: 0.0363 - val_acc: 0.9912\n",
      "Epoch 106/200\n",
      "60000/60000 [==============================] - 50s 839us/step - loss: 0.0012 - acc: 0.9998 - val_loss: 0.0384 - val_acc: 0.9917\n",
      "Epoch 107/200\n",
      "60000/60000 [==============================] - 50s 840us/step - loss: 0.0016 - acc: 0.9996 - val_loss: 0.0386 - val_acc: 0.9904\n",
      "Epoch 108/200\n",
      "60000/60000 [==============================] - 50s 839us/step - loss: 0.0014 - acc: 0.9997 - val_loss: 0.0377 - val_acc: 0.9916\n",
      "Epoch 109/200\n",
      "60000/60000 [==============================] - 51s 842us/step - loss: 0.0012 - acc: 0.9997 - val_loss: 0.0400 - val_acc: 0.9908\n",
      "Epoch 110/200\n",
      "60000/60000 [==============================] - 50s 840us/step - loss: 0.0016 - acc: 0.9995 - val_loss: 0.0387 - val_acc: 0.9912\n",
      "Epoch 111/200\n",
      "60000/60000 [==============================] - 50s 840us/step - loss: 0.0019 - acc: 0.9994 - val_loss: 0.0367 - val_acc: 0.9911\n",
      "Epoch 112/200\n",
      "60000/60000 [==============================] - 50s 840us/step - loss: 0.0012 - acc: 0.9997 - val_loss: 0.0388 - val_acc: 0.9906\n",
      "Epoch 113/200\n",
      "60000/60000 [==============================] - 50s 839us/step - loss: 0.0013 - acc: 0.9996 - val_loss: 0.0378 - val_acc: 0.9915\n",
      "Epoch 114/200\n",
      "60000/60000 [==============================] - 50s 839us/step - loss: 0.0013 - acc: 0.9997 - val_loss: 0.0372 - val_acc: 0.9911\n",
      "Epoch 115/200\n",
      "60000/60000 [==============================] - 50s 840us/step - loss: 0.0015 - acc: 0.9995 - val_loss: 0.0363 - val_acc: 0.9909\n",
      "Epoch 116/200\n",
      "60000/60000 [==============================] - 50s 840us/step - loss: 0.0010 - acc: 0.9997 - val_loss: 0.0374 - val_acc: 0.9913\n"
     ]
    },
    {
     "name": "stdout",
     "output_type": "stream",
     "text": [
      "Epoch 117/200\n",
      "60000/60000 [==============================] - 50s 840us/step - loss: 0.0011 - acc: 0.9997 - val_loss: 0.0372 - val_acc: 0.9909\n",
      "Epoch 118/200\n",
      "60000/60000 [==============================] - 50s 838us/step - loss: 9.7937e-04 - acc: 0.9998 - val_loss: 0.0381 - val_acc: 0.9916\n",
      "Epoch 119/200\n",
      "60000/60000 [==============================] - 50s 839us/step - loss: 0.0013 - acc: 0.9997 - val_loss: 0.0381 - val_acc: 0.9911\n",
      "Epoch 120/200\n",
      "60000/60000 [==============================] - 50s 840us/step - loss: 0.0012 - acc: 0.9998 - val_loss: 0.0412 - val_acc: 0.9908\n",
      "Epoch 121/200\n",
      "60000/60000 [==============================] - 50s 840us/step - loss: 0.0013 - acc: 0.9996 - val_loss: 0.0369 - val_acc: 0.9914\n",
      "Epoch 122/200\n",
      "60000/60000 [==============================] - 50s 840us/step - loss: 9.3729e-04 - acc: 0.9998 - val_loss: 0.0377 - val_acc: 0.9912\n",
      "Epoch 123/200\n",
      "60000/60000 [==============================] - 50s 841us/step - loss: 8.9139e-04 - acc: 0.9998 - val_loss: 0.0375 - val_acc: 0.9910\n",
      "Epoch 124/200\n",
      "60000/60000 [==============================] - 50s 840us/step - loss: 0.0011 - acc: 0.9997 - val_loss: 0.0402 - val_acc: 0.9912\n",
      "Epoch 125/200\n",
      "60000/60000 [==============================] - 50s 838us/step - loss: 9.6924e-04 - acc: 0.9998 - val_loss: 0.0375 - val_acc: 0.9914\n",
      "Epoch 126/200\n",
      "60000/60000 [==============================] - 50s 839us/step - loss: 9.2390e-04 - acc: 0.9998 - val_loss: 0.0374 - val_acc: 0.9913\n",
      "Epoch 127/200\n",
      "60000/60000 [==============================] - 50s 839us/step - loss: 8.3806e-04 - acc: 0.9998 - val_loss: 0.0382 - val_acc: 0.9914\n",
      "Epoch 128/200\n",
      "60000/60000 [==============================] - 50s 841us/step - loss: 9.6864e-04 - acc: 0.9997 - val_loss: 0.0366 - val_acc: 0.9916\n",
      "Epoch 129/200\n",
      "60000/60000 [==============================] - 50s 838us/step - loss: 7.7987e-04 - acc: 0.9998 - val_loss: 0.0384 - val_acc: 0.9913\n",
      "Epoch 130/200\n",
      "60000/60000 [==============================] - 50s 839us/step - loss: 8.8976e-04 - acc: 0.9998 - val_loss: 0.0382 - val_acc: 0.9907\n",
      "Epoch 131/200\n",
      "60000/60000 [==============================] - 50s 840us/step - loss: 0.0013 - acc: 0.9996 - val_loss: 0.0412 - val_acc: 0.9909\n",
      "Epoch 132/200\n",
      "60000/60000 [==============================] - 50s 840us/step - loss: 8.4704e-04 - acc: 0.9998 - val_loss: 0.0393 - val_acc: 0.9911\n",
      "Epoch 133/200\n",
      "60000/60000 [==============================] - 50s 841us/step - loss: 9.7693e-04 - acc: 0.9997 - val_loss: 0.0387 - val_acc: 0.9913\n",
      "Epoch 134/200\n",
      "60000/60000 [==============================] - 50s 841us/step - loss: 0.0010 - acc: 0.9998 - val_loss: 0.0392 - val_acc: 0.9906\n",
      "Epoch 135/200\n",
      "60000/60000 [==============================] - 51s 843us/step - loss: 0.0011 - acc: 0.9997 - val_loss: 0.0394 - val_acc: 0.9906\n",
      "Epoch 136/200\n",
      "60000/60000 [==============================] - 51s 844us/step - loss: 0.0012 - acc: 0.9997 - val_loss: 0.0393 - val_acc: 0.9916\n",
      "Epoch 137/200\n",
      "60000/60000 [==============================] - 51s 844us/step - loss: 8.0850e-04 - acc: 0.9998 - val_loss: 0.0394 - val_acc: 0.9907\n",
      "Epoch 138/200\n",
      "60000/60000 [==============================] - 51s 843us/step - loss: 0.0012 - acc: 0.9997 - val_loss: 0.0390 - val_acc: 0.9911\n",
      "Epoch 139/200\n",
      "60000/60000 [==============================] - 51s 844us/step - loss: 8.1065e-04 - acc: 0.9998 - val_loss: 0.0388 - val_acc: 0.9914\n",
      "Epoch 140/200\n",
      "60000/60000 [==============================] - 51s 844us/step - loss: 7.9419e-04 - acc: 0.9998 - val_loss: 0.0380 - val_acc: 0.9918\n",
      "Epoch 141/200\n",
      "60000/60000 [==============================] - 51s 843us/step - loss: 7.6928e-04 - acc: 0.9998 - val_loss: 0.0378 - val_acc: 0.9918\n",
      "Epoch 142/200\n",
      "60000/60000 [==============================] - 51s 843us/step - loss: 0.0011 - acc: 0.9996 - val_loss: 0.0370 - val_acc: 0.9920\n",
      "Epoch 143/200\n",
      "60000/60000 [==============================] - 51s 843us/step - loss: 8.9656e-04 - acc: 0.9998 - val_loss: 0.0379 - val_acc: 0.9913\n",
      "Epoch 144/200\n",
      "60000/60000 [==============================] - 51s 843us/step - loss: 0.0010 - acc: 0.9998 - val_loss: 0.0396 - val_acc: 0.9912\n",
      "Epoch 145/200\n",
      "60000/60000 [==============================] - 51s 843us/step - loss: 7.6566e-04 - acc: 0.9998 - val_loss: 0.0389 - val_acc: 0.9921\n",
      "Epoch 146/200\n",
      "60000/60000 [==============================] - 50s 841us/step - loss: 7.7132e-04 - acc: 0.9998 - val_loss: 0.0399 - val_acc: 0.9917\n",
      "Epoch 147/200\n",
      "60000/60000 [==============================] - 51s 842us/step - loss: 8.7015e-04 - acc: 0.9997 - val_loss: 0.0393 - val_acc: 0.9919\n",
      "Epoch 148/200\n",
      "60000/60000 [==============================] - 51s 842us/step - loss: 7.6522e-04 - acc: 0.9998 - val_loss: 0.0398 - val_acc: 0.9915\n",
      "Epoch 149/200\n",
      "60000/60000 [==============================] - 51s 842us/step - loss: 9.6794e-04 - acc: 0.9997 - val_loss: 0.0378 - val_acc: 0.9925\n",
      "Epoch 150/200\n",
      "60000/60000 [==============================] - 51s 842us/step - loss: 9.1607e-04 - acc: 0.9997 - val_loss: 0.0384 - val_acc: 0.9918\n",
      "Epoch 151/200\n",
      "60000/60000 [==============================] - 51s 842us/step - loss: 0.0014 - acc: 0.9996 - val_loss: 0.0388 - val_acc: 0.9914\n",
      "Epoch 152/200\n",
      "60000/60000 [==============================] - 50s 841us/step - loss: 8.7131e-04 - acc: 0.9997 - val_loss: 0.0390 - val_acc: 0.9915\n",
      "Epoch 153/200\n",
      "60000/60000 [==============================] - 51s 842us/step - loss: 6.9644e-04 - acc: 0.9998 - val_loss: 0.0372 - val_acc: 0.9918\n",
      "Epoch 154/200\n",
      "60000/60000 [==============================] - 50s 840us/step - loss: 6.4270e-04 - acc: 0.9998 - val_loss: 0.0389 - val_acc: 0.9922\n",
      "Epoch 155/200\n",
      "60000/60000 [==============================] - 50s 840us/step - loss: 9.2657e-04 - acc: 0.9997 - val_loss: 0.0384 - val_acc: 0.9916\n",
      "Epoch 156/200\n",
      "60000/60000 [==============================] - 50s 840us/step - loss: 7.2220e-04 - acc: 0.9998 - val_loss: 0.0388 - val_acc: 0.9919\n",
      "Epoch 157/200\n",
      "60000/60000 [==============================] - 50s 840us/step - loss: 6.8357e-04 - acc: 0.9999 - val_loss: 0.0410 - val_acc: 0.9914\n",
      "Epoch 158/200\n",
      "60000/60000 [==============================] - 50s 839us/step - loss: 5.2988e-04 - acc: 0.9999 - val_loss: 0.0409 - val_acc: 0.9911\n",
      "Epoch 159/200\n",
      "60000/60000 [==============================] - 50s 840us/step - loss: 7.5180e-04 - acc: 0.9998 - val_loss: 0.0404 - val_acc: 0.9915\n",
      "Epoch 160/200\n",
      "60000/60000 [==============================] - 50s 838us/step - loss: 5.4574e-04 - acc: 0.9999 - val_loss: 0.0392 - val_acc: 0.9916\n",
      "Epoch 161/200\n",
      "60000/60000 [==============================] - 50s 839us/step - loss: 6.6046e-04 - acc: 0.9998 - val_loss: 0.0392 - val_acc: 0.9916\n",
      "Epoch 162/200\n",
      "60000/60000 [==============================] - 50s 839us/step - loss: 8.0376e-04 - acc: 0.9998 - val_loss: 0.0413 - val_acc: 0.9914\n",
      "Epoch 163/200\n",
      "60000/60000 [==============================] - 50s 840us/step - loss: 6.8227e-04 - acc: 0.9999 - val_loss: 0.0399 - val_acc: 0.9915\n",
      "Epoch 164/200\n",
      "60000/60000 [==============================] - 50s 842us/step - loss: 7.1916e-04 - acc: 0.9998 - val_loss: 0.0400 - val_acc: 0.9918\n",
      "Epoch 165/200\n",
      "60000/60000 [==============================] - 51s 843us/step - loss: 4.8996e-04 - acc: 0.9999 - val_loss: 0.0407 - val_acc: 0.9915\n",
      "Epoch 166/200\n",
      "60000/60000 [==============================] - 50s 841us/step - loss: 8.1295e-04 - acc: 0.9998 - val_loss: 0.0410 - val_acc: 0.9914\n",
      "Epoch 167/200\n",
      "60000/60000 [==============================] - 50s 839us/step - loss: 5.0013e-04 - acc: 0.9999 - val_loss: 0.0401 - val_acc: 0.9917\n",
      "Epoch 168/200\n",
      "60000/60000 [==============================] - 50s 839us/step - loss: 7.5224e-04 - acc: 0.9998 - val_loss: 0.0412 - val_acc: 0.9911\n",
      "Epoch 169/200\n",
      "60000/60000 [==============================] - 50s 840us/step - loss: 5.2898e-04 - acc: 0.9999 - val_loss: 0.0415 - val_acc: 0.9909\n",
      "Epoch 170/200\n",
      "60000/60000 [==============================] - 51s 842us/step - loss: 5.9445e-04 - acc: 0.9998 - val_loss: 0.0402 - val_acc: 0.9915\n",
      "Epoch 171/200\n",
      "60000/60000 [==============================] - 51s 844us/step - loss: 6.9877e-04 - acc: 0.9998 - val_loss: 0.0402 - val_acc: 0.9910\n",
      "Epoch 172/200\n",
      "60000/60000 [==============================] - 51s 843us/step - loss: 8.1776e-04 - acc: 0.9998 - val_loss: 0.0425 - val_acc: 0.9915\n",
      "Epoch 173/200\n"
     ]
    },
    {
     "name": "stdout",
     "output_type": "stream",
     "text": [
      "60000/60000 [==============================] - 50s 839us/step - loss: 8.7868e-04 - acc: 0.9998 - val_loss: 0.0406 - val_acc: 0.9912\n",
      "Epoch 174/200\n",
      "60000/60000 [==============================] - 51s 842us/step - loss: 5.2306e-04 - acc: 0.9998 - val_loss: 0.0420 - val_acc: 0.9907\n",
      "Epoch 175/200\n",
      "60000/60000 [==============================] - 50s 840us/step - loss: 5.9969e-04 - acc: 0.9999 - val_loss: 0.0409 - val_acc: 0.9915\n",
      "Epoch 176/200\n",
      "60000/60000 [==============================] - 50s 842us/step - loss: 7.5280e-04 - acc: 0.9998 - val_loss: 0.0395 - val_acc: 0.9913\n",
      "Epoch 177/200\n",
      "60000/60000 [==============================] - 51s 842us/step - loss: 7.1043e-04 - acc: 0.9998 - val_loss: 0.0402 - val_acc: 0.9921\n",
      "Epoch 178/200\n",
      "60000/60000 [==============================] - 50s 839us/step - loss: 7.1162e-04 - acc: 0.9998 - val_loss: 0.0412 - val_acc: 0.9915\n",
      "Epoch 179/200\n",
      "60000/60000 [==============================] - 50s 839us/step - loss: 8.3158e-04 - acc: 0.9998 - val_loss: 0.0411 - val_acc: 0.9913\n",
      "Epoch 180/200\n",
      "60000/60000 [==============================] - 50s 836us/step - loss: 6.4712e-04 - acc: 0.9998 - val_loss: 0.0394 - val_acc: 0.9916\n",
      "Epoch 181/200\n",
      "60000/60000 [==============================] - 50s 839us/step - loss: 5.7973e-04 - acc: 0.9999 - val_loss: 0.0395 - val_acc: 0.9920\n",
      "Epoch 182/200\n",
      "60000/60000 [==============================] - 50s 839us/step - loss: 6.4014e-04 - acc: 0.9998 - val_loss: 0.0381 - val_acc: 0.9921\n",
      "Epoch 183/200\n",
      "60000/60000 [==============================] - 50s 838us/step - loss: 5.6240e-04 - acc: 0.9998 - val_loss: 0.0390 - val_acc: 0.9917\n",
      "Epoch 184/200\n",
      "60000/60000 [==============================] - 50s 840us/step - loss: 4.0438e-04 - acc: 0.9999 - val_loss: 0.0406 - val_acc: 0.9917\n",
      "Epoch 185/200\n",
      "60000/60000 [==============================] - 50s 837us/step - loss: 6.5204e-04 - acc: 0.9998 - val_loss: 0.0417 - val_acc: 0.9913\n",
      "Epoch 186/200\n",
      "60000/60000 [==============================] - 50s 838us/step - loss: 6.1778e-04 - acc: 0.9998 - val_loss: 0.0409 - val_acc: 0.9917\n",
      "Epoch 187/200\n",
      "60000/60000 [==============================] - 50s 837us/step - loss: 6.2189e-04 - acc: 0.9998 - val_loss: 0.0432 - val_acc: 0.9908\n",
      "Epoch 188/200\n",
      "60000/60000 [==============================] - 50s 837us/step - loss: 4.6048e-04 - acc: 0.9999 - val_loss: 0.0407 - val_acc: 0.9912\n",
      "Epoch 189/200\n",
      "60000/60000 [==============================] - 50s 838us/step - loss: 6.8614e-04 - acc: 0.9998 - val_loss: 0.0399 - val_acc: 0.9915\n",
      "Epoch 190/200\n",
      "60000/60000 [==============================] - 51s 842us/step - loss: 5.1266e-04 - acc: 0.9999 - val_loss: 0.0400 - val_acc: 0.9912\n",
      "Epoch 191/200\n",
      "60000/60000 [==============================] - 50s 841us/step - loss: 5.6005e-04 - acc: 0.9999 - val_loss: 0.0396 - val_acc: 0.9914\n",
      "Epoch 192/200\n",
      "60000/60000 [==============================] - 50s 841us/step - loss: 5.4256e-04 - acc: 0.9999 - val_loss: 0.0415 - val_acc: 0.9910\n",
      "Epoch 193/200\n",
      "60000/60000 [==============================] - 51s 843us/step - loss: 5.6318e-04 - acc: 0.9999 - val_loss: 0.0420 - val_acc: 0.9911\n",
      "Epoch 194/200\n",
      "60000/60000 [==============================] - 50s 840us/step - loss: 4.6458e-04 - acc: 0.9999 - val_loss: 0.0418 - val_acc: 0.9920\n",
      "Epoch 195/200\n",
      "60000/60000 [==============================] - 50s 842us/step - loss: 6.0471e-04 - acc: 0.9999 - val_loss: 0.0408 - val_acc: 0.9914\n",
      "Epoch 196/200\n",
      "60000/60000 [==============================] - 50s 839us/step - loss: 6.0238e-04 - acc: 0.9998 - val_loss: 0.0409 - val_acc: 0.9911\n",
      "Epoch 197/200\n",
      "60000/60000 [==============================] - 50s 838us/step - loss: 5.0901e-04 - acc: 0.9998 - val_loss: 0.0413 - val_acc: 0.9910\n",
      "Epoch 198/200\n",
      "60000/60000 [==============================] - 50s 836us/step - loss: 4.2907e-04 - acc: 0.9999 - val_loss: 0.0397 - val_acc: 0.9915\n",
      "Epoch 199/200\n",
      "60000/60000 [==============================] - 50s 839us/step - loss: 5.2381e-04 - acc: 0.9999 - val_loss: 0.0394 - val_acc: 0.9912\n",
      "Epoch 200/200\n",
      "60000/60000 [==============================] - 50s 838us/step - loss: 4.7397e-04 - acc: 0.9999 - val_loss: 0.0406 - val_acc: 0.9916\n"
     ]
    }
   ],
   "source": [
    "\n",
    "# Train the Model\n",
    "#earlyStopping=keras.callbacks.EarlyStopping(monitor='val_acc', min_delta=0, patience=13, verbose=1, mode='auto')\n",
    "history = model.fit(x_train, y_train,\n",
    "                    batch_size=batch_size,\n",
    "                    epochs=epochs,\n",
    "                    verbose=1,\n",
    "#                    callbacks=[earlyStopping],\n",
    "                    validation_data=(x_test, y_test))\n",
    "\n"
   ]
  },
  {
   "cell_type": "code",
   "execution_count": null,
   "metadata": {
    "collapsed": true
   },
   "outputs": [],
   "source": []
  },
  {
   "cell_type": "code",
   "execution_count": 11,
   "metadata": {},
   "outputs": [
    {
     "data": {
      "image/png": "[encoded data removed]",
      "text/plain": [
       "<matplotlib.figure.Figure at 0x7f4d186e6278>"
      ]
     },
     "metadata": {},
     "output_type": "display_data"
    }
   ],
   "source": [
    "plt.plot(history.history['acc'])\n",
    "plt.plot(history.history['val_acc'])\n",
    "plt.title('model accuracy')\n",
    "plt.ylabel('accuracy')\n",
    "plt.xlabel('epoch')\n",
    "plt.legend(['train acc','val acc'], loc='upper left')\n",
    "plt.show()"
   ]
  },
  {
   "cell_type": "code",
   "execution_count": 12,
   "metadata": {},
   "outputs": [
    {
     "data": {
      "image/png": "[encoded data removed]",
      "text/plain": [
       "<matplotlib.figure.Figure at 0x7f4d18178400>"
      ]
     },
     "metadata": {},
     "output_type": "display_data"
    }
   ],
   "source": [
    "plt.plot(history.history['loss'])\n",
    "plt.plot(history.history['val_loss'])\n",
    "plt.title('model loss')\n",
    "plt.ylabel('loss')\n",
    "plt.xlabel('epoch')\n",
    "plt.legend(['train loss','Val Loss'], loc='upper left')\n",
    "plt.show()"
   ]
  },
  {
   "cell_type": "code",
   "execution_count": 13,
   "metadata": {},
   "outputs": [
    {
     "name": "stdout",
     "output_type": "stream",
     "text": [
      "Test loss: 0.0406031847161\n",
      "Test accuracy: 0.9916\n"
     ]
    }
   ],
   "source": [
    "# Test the model\n",
    "score = model.evaluate(x_test, y_test, verbose=0)\n",
    "print('Test loss:', score[0])\n",
    "print('Test accuracy:', score[1])"
   ]
  },
  {
   "cell_type": "code",
   "execution_count": null,
   "metadata": {
    "collapsed": true
   },
   "outputs": [],
   "source": []
  },
  {
   "cell_type": "code",
   "execution_count": null,
   "metadata": {
    "collapsed": true
   },
   "outputs": [],
   "source": []
  },
  {
   "cell_type": "code",
   "execution_count": 14,
   "metadata": {},
   "outputs": [
    {
     "name": "stdout",
     "output_type": "stream",
     "text": [
      "{'val_loss': [0.11718108745701611, 0.074943695899937296, 0.060010077934013681, 0.050005359454476275, 0.04506827187414747, 0.0463303995072376, 0.038010116164415374, 0.037296823621678049, 0.036817678640410301, 0.034949926705108374, 0.033345966904553645, 0.034487828165314566, 0.032630847528926095, 0.030346316376700998, 0.030321645779289245, 0.029424699784265249, 0.029543674418638692, 0.029219987263623626, 0.029773084180470324, 0.029612185056256568, 0.027919985350962816, 0.029115152600764849, 0.028469028880156476, 0.028549832814674301, 0.032394297966967495, 0.02902778570715327, 0.028098241315395536, 0.028901757105691286, 0.029345854897531536, 0.030434168640338613, 0.031796053653777565, 0.029810931027410878, 0.029466360481859372, 0.030270466747505269, 0.030713100254317578, 0.030495893175767379, 0.030874392135290508, 0.0303827919512446, 0.030752865212151936, 0.032586886284856884, 0.030959047010868743, 0.031997669398665676, 0.032171659853374057, 0.031581079510955533, 0.032948927214061313, 0.032021444762471131, 0.033191749258026815, 0.030184255855073207, 0.034073431437345605, 0.033916003055330296, 0.03400780430239729, 0.032116376322316682, 0.033699781101482355, 0.032835809568169949, 0.033456929307142266, 0.033589678400178673, 0.036438510493265311, 0.031748788540960596, 0.033457930694325115, 0.033505556957453497, 0.031311494122153269, 0.033042440242639984, 0.033994371065095674, 0.034017636698871589, 0.034244446977033202, 0.035885089016962593, 0.034003533244385292, 0.034330227709211701, 0.035210749842943735, 0.033091119222595174, 0.033835680204407935, 0.033857633535005337, 0.036184580977396123, 0.035997356946958485, 0.036655618864968847, 0.033511067010721214, 0.034759591088050414, 0.036033333044958954, 0.034277145119342094, 0.034617483713912954, 0.034661884983007124, 0.034662406545506112, 0.035970449748053218, 0.037034704077230481, 0.034499574083319023, 0.035426608306026265, 0.035315750093594986, 0.036090583443128162, 0.035096649875779214, 0.037141854588165872, 0.037265998916333823, 0.035507979207070231, 0.036023409270425216, 0.035154587637993701, 0.034713412846263739, 0.034201244741368826, 0.036974453054566585, 0.035806454869699335, 0.035978259974027427, 0.034931991393075804, 0.035405209852280996, 0.035044910654919159, 0.036327086770112559, 0.035174486246675088, 0.03632376285382611, 0.03837686280065318, 0.038555131124656965, 0.037734100794430514, 0.03995634121054982, 0.038675968345586079, 0.036686115770160267, 0.038836876839942032, 0.037800507690975607, 0.037155677010617456, 0.036252132590875862, 0.037354418747614228, 0.037226457361980284, 0.038113575195214341, 0.03811818194857524, 0.041189065824371325, 0.036928643693084268, 0.03774831557928892, 0.037482109769743054, 0.040190197875424383, 0.037506783909404838, 0.037407915546826279, 0.038232260406821206, 0.036554675680863603, 0.038358898132502602, 0.03816858630572733, 0.041249672977160659, 0.039251462891139184, 0.038684117731080006, 0.039156719270634792, 0.039366732398622206, 0.039268372916265795, 0.039426922520449444, 0.0389688834897629, 0.038804240341487092, 0.037981401083266884, 0.037816963939255765, 0.036961538054579253, 0.037916657362707426, 0.039569703628546178, 0.038899787683669092, 0.03991964697238682, 0.039327740563199175, 0.039769669098103803, 0.03781315799083932, 0.038392496328901349, 0.038792563020374198, 0.039040874980340506, 0.037228566603657511, 0.038855450740082509, 0.038387669652830116, 0.038770834028997614, 0.041040479427873471, 0.040860284435141878, 0.040372373170609259, 0.039234810344438847, 0.039241954105897002, 0.04127429277786996, 0.039893731180440775, 0.040042626191239467, 0.040729049652880621, 0.040983963989494394, 0.040121300631637859, 0.041193111773403145, 0.041501325033450484, 0.040194104237171902, 0.040242772518675612, 0.042464332600556556, 0.040583301677241522, 0.042021458366809657, 0.04091175789916706, 0.039486425464468719, 0.040182570072670482, 0.0412060344374795, 0.041100707028924446, 0.039354226489505706, 0.039518437910716145, 0.038054932476613068, 0.03896831756163547, 0.040597764781452682, 0.041655214773048829, 0.040877173498336195, 0.043169040930627033, 0.040698447112369467, 0.039924676189367257, 0.040028119757204147, 0.039590615000728212, 0.041547073904375974, 0.042031035059950955, 0.041774117776386177, 0.040818704628174329, 0.040866332560873436, 0.041323211297909987, 0.039736259386141774, 0.039354785266882845, 0.040603184391584453], 'val_acc': [0.96350000000000002, 0.97689999999999999, 0.98119999999999996, 0.98360000000000003, 0.98519999999999996, 0.98550000000000004, 0.98750000000000004, 0.98819999999999997, 0.98819999999999997, 0.98860000000000003, 0.98880000000000001, 0.98960000000000004, 0.98999999999999999, 0.99039999999999995, 0.99050000000000005, 0.99050000000000005, 0.98919999999999997, 0.99050000000000005, 0.99029999999999996, 0.99109999999999998, 0.99109999999999998, 0.99080000000000001, 0.99019999999999997, 0.9909, 0.98980000000000001, 0.99099999999999999, 0.99119999999999997, 0.99139999999999995, 0.9899, 0.99070000000000003, 0.99019999999999997, 0.99119999999999997, 0.9909, 0.9909, 0.99119999999999997, 0.99129999999999996, 0.9909, 0.99099999999999999, 0.99180000000000001, 0.99080000000000001, 0.99180000000000001, 0.99109999999999998, 0.99099999999999999, 0.99139999999999995, 0.99119999999999997, 0.99119999999999997, 0.99060000000000004, 0.99170000000000003, 0.99080000000000001, 0.9909, 0.99099999999999999, 0.99119999999999997, 0.99139999999999995, 0.99139999999999995, 0.99129999999999996, 0.99109999999999998, 0.99109999999999998, 0.99129999999999996, 0.99119999999999997, 0.99099999999999999, 0.9919, 0.99139999999999995, 0.99139999999999995, 0.99099999999999999, 0.9909, 0.9909, 0.99180000000000001, 0.99070000000000003, 0.9909, 0.99180000000000001, 0.99080000000000001, 0.99050000000000005, 0.99039999999999995, 0.99070000000000003, 0.99070000000000003, 0.99119999999999997, 0.9909, 0.99099999999999999, 0.99129999999999996, 0.99129999999999996, 0.99139999999999995, 0.99109999999999998, 0.99080000000000001, 0.9909, 0.99160000000000004, 0.99109999999999998, 0.99160000000000004, 0.99109999999999998, 0.99150000000000005, 0.99099999999999999, 0.99129999999999996, 0.99080000000000001, 0.99080000000000001, 0.99099999999999999, 0.99160000000000004, 0.9909, 0.99070000000000003, 0.99119999999999997, 0.9909, 0.99129999999999996, 0.99129999999999996, 0.99180000000000001, 0.99099999999999999, 0.99170000000000003, 0.99119999999999997, 0.99170000000000003, 0.99039999999999995, 0.99160000000000004, 0.99080000000000001, 0.99119999999999997, 0.99109999999999998, 0.99060000000000004, 0.99150000000000005, 0.99109999999999998, 0.9909, 0.99129999999999996, 0.9909, 0.99160000000000004, 0.99109999999999998, 0.99080000000000001, 0.99139999999999995, 0.99119999999999997, 0.99099999999999999, 0.99119999999999997, 0.99139999999999995, 0.99129999999999996, 0.99139999999999995, 0.99160000000000004, 0.99129999999999996, 0.99070000000000003, 0.9909, 0.99109999999999998, 0.99129999999999996, 0.99060000000000004, 0.99060000000000004, 0.99160000000000004, 0.99070000000000003, 0.99109999999999998, 0.99139999999999995, 0.99180000000000001, 0.99180000000000001, 0.99199999999999999, 0.99129999999999996, 0.99119999999999997, 0.99209999999999998, 0.99170000000000003, 0.9919, 0.99150000000000005, 0.99250000000000005, 0.99180000000000001, 0.99139999999999995, 0.99150000000000005, 0.99180000000000001, 0.99219999999999997, 0.99160000000000004, 0.9919, 0.99139999999999995, 0.99109999999999998, 0.99150000000000005, 0.99160000000000004, 0.99160000000000004, 0.99139999999999995, 0.99150000000000005, 0.99180000000000001, 0.99150000000000005, 0.99139999999999995, 0.99170000000000003, 0.99109999999999998, 0.9909, 0.99150000000000005, 0.99099999999999999, 0.99150000000000005, 0.99119999999999997, 0.99070000000000003, 0.99150000000000005, 0.99129999999999996, 0.99209999999999998, 0.99150000000000005, 0.99129999999999996, 0.99160000000000004, 0.99199999999999999, 0.99209999999999998, 0.99170000000000003, 0.99170000000000003, 0.99129999999999996, 0.99170000000000003, 0.99080000000000001, 0.99119999999999997, 0.99150000000000005, 0.99119999999999997, 0.99139999999999995, 0.99099999999999999, 0.99109999999999998, 0.99199999999999999, 0.99139999999999995, 0.99109999999999998, 0.99099999999999999, 0.99150000000000005, 0.99119999999999997, 0.99160000000000004], 'loss': [0.50045028826395666, 0.16612497832179068, 0.11705378003617127, 0.094547280131777128, 0.078112867217759285, 0.068941340749710797, 0.061137155966460702, 0.0541311403679351, 0.049706416527802742, 0.044057006845002376, 0.038809187254992626, 0.039456940884143116, 0.034097842614663143, 0.032765059741524362, 0.029206957373116165, 0.028825294848376263, 0.026160701261212428, 0.024139155672801036, 0.022800233156544468, 0.021231674147102361, 0.019478382718004287, 0.018928138800958793, 0.016592991978116332, 0.016467649082358305, 0.015950493330011764, 0.016028322593215853, 0.014714101146107229, 0.013913270816253499, 0.012449188768987854, 0.012078870567120611, 0.011668336298922076, 0.01060346857457577, 0.010705893656852034, 0.0098362900699139576, 0.010088155817174508, 0.0092619099878317995, 0.0084082431121690511, 0.0075658126393449493, 0.0077849827997813308, 0.0076395026724397517, 0.0070502999913034728, 0.0069011235051400334, 0.0069478394655355562, 0.0062597657935587149, 0.0066752347181832494, 0.0060936241929477547, 0.0058720778897365863, 0.0057088232438933725, 0.0052832749245552502, 0.0050827382728113055, 0.0057448357472273835, 0.0052702085162095805, 0.0047439658433101918, 0.0050907461800619785, 0.0051173642914305673, 0.0050297471189119577, 0.0047241427056801816, 0.0044940090269704035, 0.0042680353706030776, 0.0039197303327722088, 0.0039185445391393542, 0.0042902606309832966, 0.0034904381896601988, 0.0037189404948071267, 0.0037737852158134045, 0.0031289798973749079, 0.003262354496786914, 0.0028845767135775532, 0.0029635915972229367, 0.0036139866129829899, 0.0026656663576238014, 0.0034452514682440476, 0.0025318756771996655, 0.0029452173356143856, 0.0020930340937833536, 0.0030276348560209347, 0.00265520673375795, 0.0027304425147873794, 0.0026050133219042131, 0.0023183396099688254, 0.0024174918211829206, 0.0018339900202760571, 0.0020940320302409721, 0.0024498791504561569, 0.0021019312790077796, 0.0019633149426981013, 0.0018792859591500019, 0.0019410563115083883, 0.0020477719531633437, 0.0017472935630051022, 0.0018305093152865689, 0.0016938385455903093, 0.0021604654663079904, 0.0017550607015141093, 0.0016196864935206273, 0.001294125663722904, 0.0019293933552862654, 0.0015489675685043949, 0.0017263835929067378, 0.0018071315012974083, 0.0015795487242127517, 0.0016462273053273141, 0.0019065845998658005, 0.0018220299623018946, 0.0015365112569182505, 0.0011703506289474413, 0.0016166968659426858, 0.0013988130190249648, 0.001191564077349752, 0.0016176157621326031, 0.0018528451277736318, 0.0012336197730704347, 0.0013384363353855708, 0.0013117924346923247, 0.0015024077229664422, 0.0010037076725198859, 0.0011391600611833687, 0.00097936686479649024, 0.0012790732273097092, 0.0011649521003551854, 0.0013060853867342909, 0.00093728636496240747, 0.00089138573139904719, 0.0011342063445720972, 0.00096923895948560434, 0.00092389941201096609, 0.00083805648985492854, 0.00096863644697941706, 0.00077987190919811839, 0.00088975839049837001, 0.0012642802880690094, 0.00084703640354264278, 0.00097693471478420778, 0.0010278208774166463, 0.0010867168982307248, 0.0012436332186833473, 0.00080849997345352066, 0.0011539693086485689, 0.00081065210085356132, 0.00079419400308743202, 0.00076927983499329759, 0.0010798092643946348, 0.0008965622023964291, 0.0010224566405011805, 0.00076565630744065256, 0.00077132332840601525, 0.00087014959298739993, 0.0007652196739479526, 0.00096794248260212044, 0.00091607400692534312, 0.0013751075047721314, 0.0008713111086546784, 0.00069643530259357554, 0.00064270303685031349, 0.00092656798715946332, 0.00072220112937839071, 0.0006835726970759121, 0.00052988354549991833, 0.00075180453119102521, 0.00054574458825184895, 0.00066045751372384985, 0.00080375810046944029, 0.00068226654740901726, 0.00071916465601921118, 0.00048995578540422379, 0.00081294778382622708, 0.00050013447840998801, 0.00075223591166241025, 0.0005289791501211918, 0.00059445407970846044, 0.00069877073024132794, 0.00081775567561005573, 0.00087867652357360082, 0.00052306252636568999, 0.00059969312879787438, 0.00075280457542612562, 0.00071043120850734645, 0.00071161753280621267, 0.0008315828906848916, 0.00064711611755355987, 0.00057973489291243826, 0.00064013942154804979, 0.00056240107602285817, 0.00040438451266106007, 0.00065203636242963507, 0.00061778378881381288, 0.00062188541318570665, 0.00046047576468680141, 0.00068613520222664498, 0.00051266022169173383, 0.00056004535061216908, 0.00054256350476985062, 0.00056318166888349877, 0.00046457547208783579, 0.00060471096592145843, 0.00060238226024433362, 0.00050901210995170918, 0.00042906986111362737, 0.00052380867911045543, 0.00047396818331588598], 'acc': [0.8417, 0.94946666666666668, 0.96440000000000003, 0.97143333333333337, 0.97611666666666663, 0.97894999999999999, 0.98133333333333328, 0.98363333333333336, 0.98433333333333328, 0.98643333333333338, 0.98799999999999999, 0.98748333333333338, 0.98891666666666667, 0.98970000000000002, 0.99093333333333333, 0.99071666666666669, 0.99176666666666669, 0.99234999999999995, 0.99271666666666669, 0.99311666666666665, 0.99383333333333335, 0.9942833333333333, 0.99480000000000002, 0.99465000000000003, 0.99498333333333333, 0.995, 0.99519999999999997, 0.99563333333333337, 0.99601666666666666, 0.99616666666666664, 0.99648333333333339, 0.99665000000000004, 0.99663333333333337, 0.997, 0.99688333333333334, 0.99718333333333331, 0.99743333333333328, 0.99763333333333337, 0.99748333333333339, 0.99751666666666672, 0.99776666666666669, 0.99775000000000003, 0.99778333333333336, 0.99806666666666666, 0.99791666666666667, 0.99814999999999998, 0.99834999999999996, 0.99829999999999997, 0.99850000000000005, 0.99833333333333329, 0.99796666666666667, 0.99843333333333328, 0.99875000000000003, 0.99856666666666671, 0.99839999999999995, 0.99851666666666672, 0.99878333333333336, 0.99870000000000003, 0.99885000000000002, 0.99901666666666666, 0.99881666666666669, 0.99873333333333336, 0.99908333333333332, 0.999, 0.99893333333333334, 0.99913333333333332, 0.99913333333333332, 0.99914999999999998, 0.99908333333333332, 0.99906666666666666, 0.99931666666666663, 0.99904999999999999, 0.99931666666666663, 0.99914999999999998, 0.99943333333333328, 0.99908333333333332, 0.99926666666666664, 0.99923333333333331, 0.99918333333333331, 0.99916666666666665, 0.9993333333333333, 0.99960000000000004, 0.99943333333333328, 0.99929999999999997, 0.99931666666666663, 0.99953333333333338, 0.99939999999999996, 0.99950000000000006, 0.99938333333333329, 0.99956666666666671, 0.99953333333333338, 0.99963333333333337, 0.99929999999999997, 0.99953333333333338, 0.99951666666666672, 0.9997166666666667, 0.99941666666666662, 0.99961666666666671, 0.99939999999999996, 0.99944999999999995, 0.99955000000000005, 0.99956666666666671, 0.99943333333333328, 0.99946666666666661, 0.99968333333333337, 0.99976666666666669, 0.99960000000000004, 0.99965000000000004, 0.99965000000000004, 0.99950000000000006, 0.99934999999999996, 0.99970000000000003, 0.99956666666666671, 0.99965000000000004, 0.99950000000000006, 0.9996666666666667, 0.9996666666666667, 0.99985000000000002, 0.9996666666666667, 0.99975000000000003, 0.99958333333333338, 0.99983333333333335, 0.99975000000000003, 0.9997166666666667, 0.99976666666666669, 0.99976666666666669, 0.99975000000000003, 0.99973333333333336, 0.99981666666666669, 0.99978333333333336, 0.99955000000000005, 0.99985000000000002, 0.99968333333333337, 0.99976666666666669, 0.99965000000000004, 0.9996666666666667, 0.99981666666666669, 0.9996666666666667, 0.99980000000000002, 0.99985000000000002, 0.99983333333333335, 0.99958333333333338, 0.99975000000000003, 0.99976666666666669, 0.99978333333333336, 0.99983333333333335, 0.99973333333333336, 0.99981666666666669, 0.99973333333333336, 0.99970000000000003, 0.99958333333333338, 0.99970000000000003, 0.99981666666666669, 0.99983333333333335, 0.99973333333333336, 0.99978333333333336, 0.99990000000000001, 0.99991666666666668, 0.99976666666666669, 0.99986666666666668, 0.99983333333333335, 0.99975000000000003, 0.99986666666666668, 0.99976666666666669, 0.99991666666666668, 0.99976666666666669, 0.99990000000000001, 0.99981666666666669, 0.99986666666666668, 0.99985000000000002, 0.99978333333333336, 0.99978333333333336, 0.99975000000000003, 0.99985000000000002, 0.99991666666666668, 0.99980000000000002, 0.99985000000000002, 0.99983333333333335, 0.99976666666666669, 0.99985000000000002, 0.99988333333333335, 0.99985000000000002, 0.99985000000000002, 0.99991666666666668, 0.99981666666666669, 0.99983333333333335, 0.99981666666666669, 0.99993333333333334, 0.99980000000000002, 0.99988333333333335, 0.99986666666666668, 0.99986666666666668, 0.99990000000000001, 0.99990000000000001, 0.99986666666666668, 0.99983333333333335, 0.99985000000000002, 0.99995000000000001, 0.99990000000000001, 0.99991666666666668]}\n"
     ]
    }
   ],
   "source": [
    "print(history.history)"
   ]
  },
  {
   "cell_type": "code",
   "execution_count": null,
   "metadata": {
    "collapsed": true
   },
   "outputs": [],
   "source": []
  }
 ],
 "metadata": {
  "kernelspec": {
   "display_name": "Python 3",
   "language": "python",
   "name": "python3"
  },
  "language_info": {
   "codemirror_mode": {
    "name": "ipython",
    "version": 3
   },
   "file_extension": ".py",
   "mimetype": "text/x-python",
   "name": "python",
   "nbconvert_exporter": "python",
   "pygments_lexer": "ipython3",
   "version": "3.6.3"
  }
 },
 "nbformat": 4,
 "nbformat_minor": 2
}
