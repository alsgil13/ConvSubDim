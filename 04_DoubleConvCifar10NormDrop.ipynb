{
 "cells": [
  {
   "cell_type": "code",
   "execution_count": 1,
   "metadata": {},
   "outputs": [
    {
     "name": "stderr",
     "output_type": "stream",
     "text": [
      "Using TensorFlow backend.\n"
     ]
    }
   ],
   "source": [
    "import keras\n",
    "import numpy as np\n",
    "from tflearn.datasets import cifar10\n",
    "from keras.optimizers import SGD\n",
    "from keras.models import Sequential\n",
    "from keras.layers import Dense, Dropout, Flatten, Softmax\n",
    "from keras.layers import Conv2D, MaxPooling2D, BatchNormalization, Reshape, GlobalAveragePooling2D, GlobalAveragePooling1D\n",
    "from keras.optimizers import Adam\n",
    "from keras.initializers import RandomNormal\n",
    "import matplotlib.pyplot as plt\n",
    "import pandas as pd\n",
    "import datetime"
   ]
  },
  {
   "cell_type": "code",
   "execution_count": 2,
   "metadata": {
    "collapsed": true
   },
   "outputs": [],
   "source": [
    "\n",
    "# Hyperparameters\n",
    "batch_size = 64\n",
    "num_classes = 10 #pegar automaticamente NumPy.Unique\n",
    "epochs = 200\n",
    "\n"
   ]
  },
  {
   "cell_type": "code",
   "execution_count": null,
   "metadata": {
    "collapsed": true
   },
   "outputs": [],
   "source": []
  },
  {
   "cell_type": "code",
   "execution_count": 3,
   "metadata": {
    "collapsed": true
   },
   "outputs": [],
   "source": [
    "# Load Cifar-10 Data\n",
    "(x_train, y_train), (x_test, y_test) = cifar10.load_data()\n",
    "\n",
    "\n",
    "#\n",
    "\n",
    "x_train.shape\n",
    "img_height, img_width, channel = x_train.shape[1],x_train.shape[2],x_train.shape[3]\n",
    "#channel=1\n",
    "\n"
   ]
  },
  {
   "cell_type": "code",
   "execution_count": 4,
   "metadata": {},
   "outputs": [
    {
     "data": {
      "text/plain": [
       "(50000, 32, 32, 3)"
      ]
     },
     "execution_count": 4,
     "metadata": {},
     "output_type": "execute_result"
    }
   ],
   "source": [
    "\n",
    "#\n",
    "x_train.shape\n",
    "\n",
    "#\n"
   ]
  },
  {
   "cell_type": "code",
   "execution_count": 5,
   "metadata": {
    "collapsed": true
   },
   "outputs": [],
   "source": [
    "# convert to one hot encoing \n",
    "y_train = keras.utils.to_categorical(y_train, num_classes)\n",
    "y_test = keras.utils.to_categorical(y_test, num_classes)\n",
    "\n"
   ]
  },
  {
   "cell_type": "code",
   "execution_count": 6,
   "metadata": {},
   "outputs": [
    {
     "data": {
      "text/plain": [
       "32"
      ]
     },
     "execution_count": 6,
     "metadata": {},
     "output_type": "execute_result"
    }
   ],
   "source": [
    "img_width"
   ]
  },
  {
   "cell_type": "code",
   "execution_count": 7,
   "metadata": {
    "collapsed": true
   },
   "outputs": [],
   "source": [
    "model = Sequential()\n",
    "#Filters = IMG_width/2 * 7\n",
    "model.add(Conv2D(112, #alterado de 192 pra 112\n",
    "                 (5,5), #alterado de 3 para 5 \n",
    "                 strides=(2,2), \n",
    "                 activation='relu', \n",
    "                 padding='same',\n",
    "                 data_format='channels_last',\n",
    "                 use_bias=True, \n",
    "                 kernel_initializer=RandomNormal(mean=0.0, stddev=0.05, seed=None), \n",
    "                 bias_initializer='zeros',\n",
    "                 input_shape=(img_height, img_width, channel)))\n",
    "model.add(MaxPooling2D(pool_size=(2, 2), \n",
    "                       strides=(2,2)))\n",
    "#model.add(BatchNormalization())\n",
    "#calculo da quantidade de filtros da normalização:\n",
    "# Width*heigth da saída após a primeira camada de convolução+pooling\n",
    "######### RESIZED ###########\n",
    "model.add(Conv2D(96, \n",
    "                 (1,1),  \n",
    "                 strides=(1,1), \n",
    "                 activation='relu', \n",
    "                 padding='same',\n",
    "                 kernel_initializer=RandomNormal(mean=0.0, stddev=0.05, seed=None), \n",
    "                 data_format='channels_last'))\n",
    "######### RESIZED ###########\n",
    "\n",
    "model.add(Conv2D(96, \n",
    "                 (1,1),  \n",
    "                 strides=(1,1), \n",
    "                 activation='relu', \n",
    "                 padding='same',\n",
    "                 kernel_initializer=RandomNormal(mean=0.0, stddev=0.05, seed=None), \n",
    "                 data_format='channels_last'))\n",
    "model.add(Dropout(0.5))\n",
    "\n",
    "          \n",
    "#Filters = IMG_width/2 * 9\n",
    "model.add(Conv2D(144, #alterado de 128 para 144\n",
    "                 (5,5), \n",
    "                 strides=(2,2), \n",
    "                 activation='relu', \n",
    "                 padding='same',\n",
    "                 data_format='channels_last',\n",
    "                 use_bias=True, \n",
    "                 kernel_initializer=RandomNormal(mean=0.0, stddev=0.05, seed=None), \n",
    "                 bias_initializer='zeros',\n",
    "                 input_shape=(img_height, img_width, channel)))\n",
    "model.add(MaxPooling2D(pool_size=(2, 2), \n",
    "                       strides=(2,2)))\n",
    "#model.add(BatchNormalization())\n",
    "######### RESIZED ###########\n",
    "model.add(Conv2D(96, \n",
    "                 (1,1),  \n",
    "                 strides=(1,1), \n",
    "                 activation='relu', \n",
    "                 padding='same',\n",
    "                 kernel_initializer=RandomNormal(mean=0.0, stddev=0.05, seed=None), \n",
    "                 data_format='channels_last'))\n",
    "######### RESIZED ###########\n",
    "\n",
    "model.add(Conv2D(96, \n",
    "                 (1,1),  \n",
    "                 strides=(1,1), \n",
    "                 activation='relu', \n",
    "                 padding='same',\n",
    "                 kernel_initializer=RandomNormal(mean=0.0, stddev=0.05, seed=None), \n",
    "                 data_format='channels_last'))\n",
    "model.add(Dropout(0.5))\n",
    "\n",
    "          \n",
    "          \n",
    "model.add(Flatten())\n",
    "#IMG_width^ 2\n",
    "model.add(Dense(1024, activation='relu'))\n",
    "model.add(Dropout(0.5))\n",
    "\n",
    "#camada anterior/2\n",
    "model.add(Dense(512, activation='relu'))\n",
    "model.add(Dropout(0.5))\n",
    "\n",
    "#Num de classes\n",
    "model.add(Dense(10, activation='softmax'))\n"
   ]
  },
  {
   "cell_type": "code",
   "execution_count": 8,
   "metadata": {},
   "outputs": [
    {
     "name": "stdout",
     "output_type": "stream",
     "text": [
      "_________________________________________________________________\n",
      "Layer (type)                 Output Shape              Param #   \n",
      "=================================================================\n",
      "conv2d_1 (Conv2D)            (None, 16, 16, 112)       8512      \n",
      "_________________________________________________________________\n",
      "max_pooling2d_1 (MaxPooling2 (None, 8, 8, 112)         0         \n",
      "_________________________________________________________________\n",
      "conv2d_2 (Conv2D)            (None, 8, 8, 96)          10848     \n",
      "_________________________________________________________________\n",
      "conv2d_3 (Conv2D)            (None, 8, 8, 96)          9312      \n",
      "_________________________________________________________________\n",
      "dropout_1 (Dropout)          (None, 8, 8, 96)          0         \n",
      "_________________________________________________________________\n",
      "conv2d_4 (Conv2D)            (None, 4, 4, 144)         345744    \n",
      "_________________________________________________________________\n",
      "max_pooling2d_2 (MaxPooling2 (None, 2, 2, 144)         0         \n",
      "_________________________________________________________________\n",
      "conv2d_5 (Conv2D)            (None, 2, 2, 96)          13920     \n",
      "_________________________________________________________________\n",
      "conv2d_6 (Conv2D)            (None, 2, 2, 96)          9312      \n",
      "_________________________________________________________________\n",
      "dropout_2 (Dropout)          (None, 2, 2, 96)          0         \n",
      "_________________________________________________________________\n",
      "flatten_1 (Flatten)          (None, 384)               0         \n",
      "_________________________________________________________________\n",
      "dense_1 (Dense)              (None, 1024)              394240    \n",
      "_________________________________________________________________\n",
      "dropout_3 (Dropout)          (None, 1024)              0         \n",
      "_________________________________________________________________\n",
      "dense_2 (Dense)              (None, 512)               524800    \n",
      "_________________________________________________________________\n",
      "dropout_4 (Dropout)          (None, 512)               0         \n",
      "_________________________________________________________________\n",
      "dense_3 (Dense)              (None, 10)                5130      \n",
      "=================================================================\n",
      "Total params: 1,321,818\n",
      "Trainable params: 1,321,818\n",
      "Non-trainable params: 0\n",
      "_________________________________________________________________\n"
     ]
    }
   ],
   "source": [
    "\n",
    "# print the model summary\n",
    "model.summary()\n",
    "\n"
   ]
  },
  {
   "cell_type": "code",
   "execution_count": 9,
   "metadata": {
    "collapsed": true
   },
   "outputs": [],
   "source": [
    "# determine Loss function and Optimizer\n",
    "model.compile(loss='categorical_crossentropy', #alterado de logcosh\n",
    "              optimizer=SGD(lr=0.01, momentum=0.01, decay=0.0, nesterov=False),\n",
    "              metrics=['accuracy'])\n"
   ]
  },
  {
   "cell_type": "code",
   "execution_count": 10,
   "metadata": {
    "scrolled": false
   },
   "outputs": [
    {
     "name": "stdout",
     "output_type": "stream",
     "text": [
      "Train on 50000 samples, validate on 10000 samples\n",
      "Epoch 1/200\n",
      "50000/50000 [==============================] - 89s 2ms/step - loss: 2.3027 - acc: 0.1010 - val_loss: 2.3019 - val_acc: 0.1000\n",
      "Epoch 2/200\n",
      "50000/50000 [==============================] - 89s 2ms/step - loss: 2.3016 - acc: 0.1084 - val_loss: 2.3003 - val_acc: 0.1324\n",
      "Epoch 3/200\n",
      "50000/50000 [==============================] - 89s 2ms/step - loss: 2.2978 - acc: 0.1385 - val_loss: 2.2935 - val_acc: 0.1791\n",
      "Epoch 4/200\n",
      "50000/50000 [==============================] - 89s 2ms/step - loss: 2.2769 - acc: 0.1645 - val_loss: 2.2348 - val_acc: 0.1909\n",
      "Epoch 5/200\n",
      "50000/50000 [==============================] - 89s 2ms/step - loss: 2.1656 - acc: 0.1858 - val_loss: 2.0917 - val_acc: 0.2256\n",
      "Epoch 6/200\n",
      "50000/50000 [==============================] - 89s 2ms/step - loss: 2.0973 - acc: 0.2024 - val_loss: 2.0384 - val_acc: 0.2320\n",
      "Epoch 7/200\n",
      "50000/50000 [==============================] - 89s 2ms/step - loss: 2.0559 - acc: 0.2157 - val_loss: 2.0362 - val_acc: 0.2268\n",
      "Epoch 8/200\n",
      "50000/50000 [==============================] - 89s 2ms/step - loss: 2.0240 - acc: 0.2224 - val_loss: 1.9735 - val_acc: 0.2448\n",
      "Epoch 9/200\n",
      "50000/50000 [==============================] - 91s 2ms/step - loss: 1.9923 - acc: 0.2299 - val_loss: 1.9150 - val_acc: 0.2531\n",
      "Epoch 10/200\n",
      "50000/50000 [==============================] - 90s 2ms/step - loss: 1.9580 - acc: 0.2344 - val_loss: 1.8886 - val_acc: 0.2588\n",
      "Epoch 11/200\n",
      "50000/50000 [==============================] - 89s 2ms/step - loss: 1.9331 - acc: 0.2388 - val_loss: 1.9353 - val_acc: 0.2424\n",
      "Epoch 12/200\n",
      "50000/50000 [==============================] - 89s 2ms/step - loss: 1.9136 - acc: 0.2430 - val_loss: 1.9375 - val_acc: 0.2378\n",
      "Epoch 13/200\n",
      "50000/50000 [==============================] - 89s 2ms/step - loss: 1.8990 - acc: 0.2513 - val_loss: 1.9937 - val_acc: 0.2285\n",
      "Epoch 14/200\n",
      "50000/50000 [==============================] - 89s 2ms/step - loss: 1.8815 - acc: 0.2579 - val_loss: 2.0459 - val_acc: 0.2137\n",
      "Epoch 15/200\n",
      "50000/50000 [==============================] - 90s 2ms/step - loss: 1.8649 - acc: 0.2677 - val_loss: 1.8501 - val_acc: 0.2727\n",
      "Epoch 16/200\n",
      "50000/50000 [==============================] - 88s 2ms/step - loss: 1.8510 - acc: 0.2702 - val_loss: 2.0393 - val_acc: 0.2204\n",
      "Epoch 17/200\n",
      "50000/50000 [==============================] - 89s 2ms/step - loss: 1.8320 - acc: 0.2807 - val_loss: 1.9765 - val_acc: 0.2378\n",
      "Epoch 18/200\n",
      "50000/50000 [==============================] - 90s 2ms/step - loss: 1.8079 - acc: 0.2906 - val_loss: 1.7688 - val_acc: 0.3108\n",
      "Epoch 19/200\n",
      "50000/50000 [==============================] - 90s 2ms/step - loss: 1.7839 - acc: 0.3018 - val_loss: 1.8868 - val_acc: 0.2756\n",
      "Epoch 20/200\n",
      "50000/50000 [==============================] - 89s 2ms/step - loss: 1.7651 - acc: 0.3090 - val_loss: 1.7265 - val_acc: 0.3221\n",
      "Epoch 21/200\n",
      "50000/50000 [==============================] - 89s 2ms/step - loss: 1.7421 - acc: 0.3215 - val_loss: 1.8647 - val_acc: 0.2745\n",
      "Epoch 22/200\n",
      "50000/50000 [==============================] - 90s 2ms/step - loss: 1.7264 - acc: 0.3283 - val_loss: 1.7677 - val_acc: 0.3193\n",
      "Epoch 23/200\n",
      "50000/50000 [==============================] - 89s 2ms/step - loss: 1.7092 - acc: 0.3319 - val_loss: 1.6413 - val_acc: 0.3660\n",
      "Epoch 24/200\n",
      "50000/50000 [==============================] - 89s 2ms/step - loss: 1.6899 - acc: 0.3433 - val_loss: 1.7639 - val_acc: 0.3161\n",
      "Epoch 25/200\n",
      "50000/50000 [==============================] - 89s 2ms/step - loss: 1.6721 - acc: 0.3494 - val_loss: 1.8311 - val_acc: 0.3174\n",
      "Epoch 26/200\n",
      "50000/50000 [==============================] - 88s 2ms/step - loss: 1.6517 - acc: 0.3608 - val_loss: 2.0593 - val_acc: 0.2700\n",
      "Epoch 27/200\n",
      "50000/50000 [==============================] - 87s 2ms/step - loss: 1.6309 - acc: 0.3692 - val_loss: 2.0302 - val_acc: 0.2888\n",
      "Epoch 28/200\n",
      "50000/50000 [==============================] - 87s 2ms/step - loss: 1.6152 - acc: 0.3741 - val_loss: 1.6815 - val_acc: 0.3699\n",
      "Epoch 29/200\n",
      "50000/50000 [==============================] - 87s 2ms/step - loss: 1.5944 - acc: 0.3862 - val_loss: 2.0310 - val_acc: 0.2927\n",
      "Epoch 30/200\n",
      "50000/50000 [==============================] - 87s 2ms/step - loss: 1.5762 - acc: 0.3952 - val_loss: 1.7129 - val_acc: 0.3731\n",
      "Epoch 31/200\n",
      "50000/50000 [==============================] - 86s 2ms/step - loss: 1.5576 - acc: 0.4032 - val_loss: 1.6655 - val_acc: 0.3820\n",
      "Epoch 32/200\n",
      "50000/50000 [==============================] - 88s 2ms/step - loss: 1.5431 - acc: 0.4107 - val_loss: 1.6805 - val_acc: 0.3867\n",
      "Epoch 33/200\n",
      "50000/50000 [==============================] - 88s 2ms/step - loss: 1.5261 - acc: 0.4197 - val_loss: 1.5805 - val_acc: 0.4074\n",
      "Epoch 34/200\n",
      "50000/50000 [==============================] - 87s 2ms/step - loss: 1.5141 - acc: 0.4234 - val_loss: 1.6134 - val_acc: 0.3830\n",
      "Epoch 35/200\n",
      "50000/50000 [==============================] - 88s 2ms/step - loss: 1.4990 - acc: 0.4289 - val_loss: 1.5266 - val_acc: 0.4382\n",
      "Epoch 36/200\n",
      "50000/50000 [==============================] - 87s 2ms/step - loss: 1.4851 - acc: 0.4384 - val_loss: 1.6670 - val_acc: 0.4008\n",
      "Epoch 37/200\n",
      "50000/50000 [==============================] - 87s 2ms/step - loss: 1.4676 - acc: 0.4450 - val_loss: 1.5071 - val_acc: 0.4434\n",
      "Epoch 38/200\n",
      "50000/50000 [==============================] - 87s 2ms/step - loss: 1.4572 - acc: 0.4472 - val_loss: 1.4698 - val_acc: 0.4596\n",
      "Epoch 39/200\n",
      "50000/50000 [==============================] - 88s 2ms/step - loss: 1.4415 - acc: 0.4573 - val_loss: 1.5042 - val_acc: 0.4562\n",
      "Epoch 40/200\n",
      "50000/50000 [==============================] - 88s 2ms/step - loss: 1.4300 - acc: 0.4643 - val_loss: 1.3715 - val_acc: 0.4911\n",
      "Epoch 41/200\n",
      "50000/50000 [==============================] - 88s 2ms/step - loss: 1.4187 - acc: 0.4716 - val_loss: 1.4562 - val_acc: 0.4715\n",
      "Epoch 42/200\n",
      "50000/50000 [==============================] - 88s 2ms/step - loss: 1.4093 - acc: 0.4739 - val_loss: 2.3838 - val_acc: 0.2928\n",
      "Epoch 43/200\n",
      "50000/50000 [==============================] - 88s 2ms/step - loss: 1.3893 - acc: 0.4813 - val_loss: 1.3418 - val_acc: 0.4993\n",
      "Epoch 44/200\n",
      "50000/50000 [==============================] - 87s 2ms/step - loss: 1.3798 - acc: 0.4864 - val_loss: 1.4014 - val_acc: 0.4907\n",
      "Epoch 45/200\n",
      "50000/50000 [==============================] - 87s 2ms/step - loss: 1.3671 - acc: 0.4920 - val_loss: 1.4645 - val_acc: 0.4858\n",
      "Epoch 46/200\n",
      "50000/50000 [==============================] - 88s 2ms/step - loss: 1.3512 - acc: 0.4991 - val_loss: 1.4071 - val_acc: 0.4939\n",
      "Epoch 47/200\n",
      "50000/50000 [==============================] - 87s 2ms/step - loss: 1.3393 - acc: 0.5029 - val_loss: 1.3525 - val_acc: 0.5183\n",
      "Epoch 48/200\n",
      "50000/50000 [==============================] - 89s 2ms/step - loss: 1.3333 - acc: 0.5073 - val_loss: 1.4829 - val_acc: 0.4863\n",
      "Epoch 49/200\n",
      "50000/50000 [==============================] - 90s 2ms/step - loss: 1.3233 - acc: 0.5136 - val_loss: 1.4433 - val_acc: 0.5010\n",
      "Epoch 50/200\n",
      "50000/50000 [==============================] - 88s 2ms/step - loss: 1.3140 - acc: 0.5173 - val_loss: 1.3147 - val_acc: 0.5234\n",
      "Epoch 51/200\n",
      "50000/50000 [==============================] - 88s 2ms/step - loss: 1.2991 - acc: 0.5222 - val_loss: 1.1885 - val_acc: 0.5569\n",
      "Epoch 52/200\n",
      "50000/50000 [==============================] - 88s 2ms/step - loss: 1.2898 - acc: 0.5256 - val_loss: 1.2315 - val_acc: 0.5542\n",
      "Epoch 53/200\n",
      "50000/50000 [==============================] - 88s 2ms/step - loss: 1.2824 - acc: 0.5270 - val_loss: 1.2431 - val_acc: 0.5375\n",
      "Epoch 54/200\n",
      "50000/50000 [==============================] - 89s 2ms/step - loss: 1.2704 - acc: 0.5321 - val_loss: 1.4599 - val_acc: 0.4821\n",
      "Epoch 55/200\n",
      "50000/50000 [==============================] - 90s 2ms/step - loss: 1.2653 - acc: 0.5362 - val_loss: 1.1856 - val_acc: 0.5704\n",
      "Epoch 56/200\n",
      "50000/50000 [==============================] - 90s 2ms/step - loss: 1.2558 - acc: 0.5407 - val_loss: 1.2951 - val_acc: 0.5318\n",
      "Epoch 57/200\n",
      "50000/50000 [==============================] - 88s 2ms/step - loss: 1.2425 - acc: 0.5457 - val_loss: 1.4833 - val_acc: 0.5007\n",
      "Epoch 58/200\n",
      "50000/50000 [==============================] - 89s 2ms/step - loss: 1.2371 - acc: 0.5500 - val_loss: 1.1341 - val_acc: 0.5828\n",
      "Epoch 59/200\n",
      "50000/50000 [==============================] - 90s 2ms/step - loss: 1.2318 - acc: 0.5492 - val_loss: 1.2573 - val_acc: 0.5505\n",
      "Epoch 60/200\n",
      "50000/50000 [==============================] - 89s 2ms/step - loss: 1.2223 - acc: 0.5536 - val_loss: 1.2100 - val_acc: 0.5691\n",
      "Epoch 61/200\n",
      "50000/50000 [==============================] - 89s 2ms/step - loss: 1.2172 - acc: 0.5547 - val_loss: 1.1304 - val_acc: 0.5801\n",
      "Epoch 62/200\n",
      "50000/50000 [==============================] - 88s 2ms/step - loss: 1.2057 - acc: 0.5571 - val_loss: 1.2713 - val_acc: 0.5372\n",
      "Epoch 63/200\n",
      "50000/50000 [==============================] - 89s 2ms/step - loss: 1.1974 - acc: 0.5621 - val_loss: 1.1676 - val_acc: 0.5795\n",
      "Epoch 64/200\n",
      "50000/50000 [==============================] - 88s 2ms/step - loss: 1.1910 - acc: 0.5647 - val_loss: 1.1325 - val_acc: 0.5925\n",
      "Epoch 65/200\n",
      "50000/50000 [==============================] - 88s 2ms/step - loss: 1.1859 - acc: 0.5692 - val_loss: 1.1761 - val_acc: 0.5831\n",
      "Epoch 66/200\n",
      "50000/50000 [==============================] - 88s 2ms/step - loss: 1.1835 - acc: 0.5691 - val_loss: 1.1207 - val_acc: 0.5886\n",
      "Epoch 67/200\n",
      "50000/50000 [==============================] - 87s 2ms/step - loss: 1.1708 - acc: 0.5754 - val_loss: 1.4455 - val_acc: 0.5104\n",
      "Epoch 68/200\n",
      "50000/50000 [==============================] - 88s 2ms/step - loss: 1.1667 - acc: 0.5749 - val_loss: 1.1017 - val_acc: 0.6001\n",
      "Epoch 69/200\n",
      "50000/50000 [==============================] - 89s 2ms/step - loss: 1.1584 - acc: 0.5777 - val_loss: 1.1619 - val_acc: 0.5903\n",
      "Epoch 70/200\n",
      "50000/50000 [==============================] - 89s 2ms/step - loss: 1.1550 - acc: 0.5803 - val_loss: 1.2336 - val_acc: 0.5600\n",
      "Epoch 71/200\n",
      "50000/50000 [==============================] - 89s 2ms/step - loss: 1.1509 - acc: 0.5837 - val_loss: 1.2162 - val_acc: 0.5764\n",
      "Epoch 72/200\n",
      "50000/50000 [==============================] - 90s 2ms/step - loss: 1.1411 - acc: 0.5879 - val_loss: 1.0495 - val_acc: 0.6161\n",
      "Epoch 73/200\n",
      "50000/50000 [==============================] - 89s 2ms/step - loss: 1.1373 - acc: 0.5883 - val_loss: 1.5290 - val_acc: 0.4985\n",
      "Epoch 74/200\n",
      "50000/50000 [==============================] - 89s 2ms/step - loss: 1.1279 - acc: 0.5923 - val_loss: 1.1006 - val_acc: 0.6081\n",
      "Epoch 75/200\n",
      "50000/50000 [==============================] - 89s 2ms/step - loss: 1.1198 - acc: 0.5926 - val_loss: 1.0778 - val_acc: 0.6082\n",
      "Epoch 76/200\n",
      "50000/50000 [==============================] - 88s 2ms/step - loss: 1.1148 - acc: 0.5943 - val_loss: 1.3460 - val_acc: 0.5497\n",
      "Epoch 77/200\n",
      "50000/50000 [==============================] - 89s 2ms/step - loss: 1.1075 - acc: 0.5981 - val_loss: 1.0730 - val_acc: 0.6168\n",
      "Epoch 78/200\n",
      "50000/50000 [==============================] - 89s 2ms/step - loss: 1.1024 - acc: 0.5998 - val_loss: 1.1199 - val_acc: 0.6007\n",
      "Epoch 79/200\n",
      "50000/50000 [==============================] - 90s 2ms/step - loss: 1.0969 - acc: 0.6035 - val_loss: 1.0635 - val_acc: 0.6193\n",
      "Epoch 80/200\n",
      "50000/50000 [==============================] - 91s 2ms/step - loss: 1.0944 - acc: 0.6055 - val_loss: 1.0733 - val_acc: 0.6108\n",
      "Epoch 81/200\n",
      "50000/50000 [==============================] - 91s 2ms/step - loss: 1.0852 - acc: 0.6097 - val_loss: 1.0650 - val_acc: 0.6178\n",
      "Epoch 82/200\n",
      "50000/50000 [==============================] - 91s 2ms/step - loss: 1.0790 - acc: 0.6088 - val_loss: 1.1042 - val_acc: 0.6028\n",
      "Epoch 83/200\n",
      "50000/50000 [==============================] - 90s 2ms/step - loss: 1.0785 - acc: 0.6096 - val_loss: 1.2998 - val_acc: 0.5623\n",
      "Epoch 84/200\n",
      "50000/50000 [==============================] - 90s 2ms/step - loss: 1.0700 - acc: 0.6133 - val_loss: 1.0763 - val_acc: 0.6067\n",
      "Epoch 85/200\n",
      "50000/50000 [==============================] - 90s 2ms/step - loss: 1.0641 - acc: 0.6161 - val_loss: 1.1062 - val_acc: 0.6018\n",
      "Epoch 86/200\n",
      "50000/50000 [==============================] - 90s 2ms/step - loss: 1.0613 - acc: 0.6145 - val_loss: 1.0284 - val_acc: 0.6245\n",
      "Epoch 87/200\n",
      "50000/50000 [==============================] - 91s 2ms/step - loss: 1.0512 - acc: 0.6207 - val_loss: 1.0145 - val_acc: 0.6370\n",
      "Epoch 88/200\n",
      "50000/50000 [==============================] - 90s 2ms/step - loss: 1.0537 - acc: 0.6173 - val_loss: 1.0172 - val_acc: 0.6383\n",
      "Epoch 89/200\n",
      "50000/50000 [==============================] - 90s 2ms/step - loss: 1.0436 - acc: 0.6234 - val_loss: 1.0422 - val_acc: 0.6234\n",
      "Epoch 90/200\n",
      "50000/50000 [==============================] - 90s 2ms/step - loss: 1.0384 - acc: 0.6247 - val_loss: 1.0172 - val_acc: 0.6383\n",
      "Epoch 91/200\n",
      "50000/50000 [==============================] - 90s 2ms/step - loss: 1.0340 - acc: 0.6280 - val_loss: 1.1719 - val_acc: 0.5787\n",
      "Epoch 92/200\n",
      "50000/50000 [==============================] - 90s 2ms/step - loss: 1.0341 - acc: 0.6267 - val_loss: 1.0088 - val_acc: 0.6375\n",
      "Epoch 93/200\n",
      "50000/50000 [==============================] - 90s 2ms/step - loss: 1.0212 - acc: 0.6304 - val_loss: 1.1091 - val_acc: 0.6024\n",
      "Epoch 94/200\n",
      "50000/50000 [==============================] - 91s 2ms/step - loss: 1.0150 - acc: 0.6339 - val_loss: 1.3830 - val_acc: 0.5526\n",
      "Epoch 95/200\n",
      "50000/50000 [==============================] - 90s 2ms/step - loss: 1.0127 - acc: 0.6377 - val_loss: 0.9687 - val_acc: 0.6546\n",
      "Epoch 96/200\n",
      "50000/50000 [==============================] - 90s 2ms/step - loss: 1.0062 - acc: 0.6368 - val_loss: 1.1924 - val_acc: 0.5975\n",
      "Epoch 97/200\n",
      "50000/50000 [==============================] - 90s 2ms/step - loss: 1.0058 - acc: 0.6397 - val_loss: 0.9635 - val_acc: 0.6507\n",
      "Epoch 98/200\n",
      "50000/50000 [==============================] - 90s 2ms/step - loss: 0.9972 - acc: 0.6402 - val_loss: 1.1493 - val_acc: 0.6088\n",
      "Epoch 99/200\n",
      "50000/50000 [==============================] - 91s 2ms/step - loss: 0.9893 - acc: 0.6442 - val_loss: 1.4150 - val_acc: 0.5428\n",
      "Epoch 100/200\n",
      "50000/50000 [==============================] - 90s 2ms/step - loss: 0.9886 - acc: 0.6452 - val_loss: 1.0170 - val_acc: 0.6311\n",
      "Epoch 101/200\n",
      "50000/50000 [==============================] - 90s 2ms/step - loss: 0.9867 - acc: 0.6454 - val_loss: 1.1214 - val_acc: 0.6137\n",
      "Epoch 102/200\n",
      "50000/50000 [==============================] - 89s 2ms/step - loss: 0.9773 - acc: 0.6513 - val_loss: 1.0025 - val_acc: 0.6353\n",
      "Epoch 103/200\n",
      "50000/50000 [==============================] - 89s 2ms/step - loss: 0.9734 - acc: 0.6509 - val_loss: 0.9810 - val_acc: 0.6455\n",
      "Epoch 104/200\n",
      "50000/50000 [==============================] - 90s 2ms/step - loss: 0.9727 - acc: 0.6501 - val_loss: 0.9335 - val_acc: 0.6649\n",
      "Epoch 105/200\n",
      "50000/50000 [==============================] - 90s 2ms/step - loss: 0.9630 - acc: 0.6522 - val_loss: 1.0758 - val_acc: 0.6341\n",
      "Epoch 106/200\n",
      "50000/50000 [==============================] - 89s 2ms/step - loss: 0.9607 - acc: 0.6561 - val_loss: 0.9834 - val_acc: 0.6482\n",
      "Epoch 107/200\n",
      "50000/50000 [==============================] - 90s 2ms/step - loss: 0.9523 - acc: 0.6609 - val_loss: 0.9811 - val_acc: 0.6435\n",
      "Epoch 108/200\n",
      "50000/50000 [==============================] - 90s 2ms/step - loss: 0.9487 - acc: 0.6616 - val_loss: 0.9504 - val_acc: 0.6589\n",
      "Epoch 109/200\n",
      "50000/50000 [==============================] - 89s 2ms/step - loss: 0.9459 - acc: 0.6590 - val_loss: 0.9685 - val_acc: 0.6612\n",
      "Epoch 110/200\n",
      "50000/50000 [==============================] - 87s 2ms/step - loss: 0.9439 - acc: 0.6632 - val_loss: 1.1719 - val_acc: 0.5852\n",
      "Epoch 111/200\n",
      "50000/50000 [==============================] - 89s 2ms/step - loss: 0.9397 - acc: 0.6634 - val_loss: 0.9324 - val_acc: 0.6718\n",
      "Epoch 112/200\n",
      "50000/50000 [==============================] - 88s 2ms/step - loss: 0.9333 - acc: 0.6677 - val_loss: 1.0445 - val_acc: 0.6388\n",
      "Epoch 113/200\n",
      "50000/50000 [==============================] - 89s 2ms/step - loss: 0.9321 - acc: 0.6680 - val_loss: 0.9870 - val_acc: 0.6517\n",
      "Epoch 114/200\n",
      "50000/50000 [==============================] - 89s 2ms/step - loss: 0.9241 - acc: 0.6705 - val_loss: 0.9261 - val_acc: 0.6682\n",
      "Epoch 115/200\n",
      "50000/50000 [==============================] - 89s 2ms/step - loss: 0.9200 - acc: 0.6721 - val_loss: 1.0456 - val_acc: 0.6449\n",
      "Epoch 116/200\n",
      "50000/50000 [==============================] - 89s 2ms/step - loss: 0.9133 - acc: 0.6741 - val_loss: 0.9181 - val_acc: 0.6751\n",
      "Epoch 117/200\n"
     ]
    },
    {
     "name": "stdout",
     "output_type": "stream",
     "text": [
      "50000/50000 [==============================] - 88s 2ms/step - loss: 0.9074 - acc: 0.6741 - val_loss: 1.0968 - val_acc: 0.6224\n",
      "Epoch 118/200\n",
      "50000/50000 [==============================] - 89s 2ms/step - loss: 0.9086 - acc: 0.6747 - val_loss: 1.0245 - val_acc: 0.6405\n",
      "Epoch 119/200\n",
      "50000/50000 [==============================] - 89s 2ms/step - loss: 0.9026 - acc: 0.6777 - val_loss: 1.1682 - val_acc: 0.6138\n",
      "Epoch 120/200\n",
      "50000/50000 [==============================] - 89s 2ms/step - loss: 0.8977 - acc: 0.6812 - val_loss: 1.0431 - val_acc: 0.6331\n",
      "Epoch 121/200\n",
      "50000/50000 [==============================] - 89s 2ms/step - loss: 0.8971 - acc: 0.6793 - val_loss: 0.9380 - val_acc: 0.6690\n",
      "Epoch 122/200\n",
      "50000/50000 [==============================] - 89s 2ms/step - loss: 0.8932 - acc: 0.6808 - val_loss: 0.8590 - val_acc: 0.6936\n",
      "Epoch 123/200\n",
      "50000/50000 [==============================] - 88s 2ms/step - loss: 0.8911 - acc: 0.6820 - val_loss: 1.4898 - val_acc: 0.5431\n",
      "Epoch 124/200\n",
      "50000/50000 [==============================] - 90s 2ms/step - loss: 0.8857 - acc: 0.6844 - val_loss: 1.2555 - val_acc: 0.5982\n",
      "Epoch 125/200\n",
      "50000/50000 [==============================] - 89s 2ms/step - loss: 0.8799 - acc: 0.6857 - val_loss: 0.9474 - val_acc: 0.6660\n",
      "Epoch 126/200\n",
      "50000/50000 [==============================] - 89s 2ms/step - loss: 0.8751 - acc: 0.6892 - val_loss: 0.8787 - val_acc: 0.6865\n",
      "Epoch 127/200\n",
      "50000/50000 [==============================] - 89s 2ms/step - loss: 0.8723 - acc: 0.6900 - val_loss: 0.8794 - val_acc: 0.6872\n",
      "Epoch 128/200\n",
      "50000/50000 [==============================] - 90s 2ms/step - loss: 0.8691 - acc: 0.6905 - val_loss: 1.0904 - val_acc: 0.6321\n",
      "Epoch 129/200\n",
      "50000/50000 [==============================] - 89s 2ms/step - loss: 0.8659 - acc: 0.6910 - val_loss: 1.0144 - val_acc: 0.6552\n",
      "Epoch 130/200\n",
      "50000/50000 [==============================] - 90s 2ms/step - loss: 0.8646 - acc: 0.6918 - val_loss: 1.0410 - val_acc: 0.6374\n",
      "Epoch 131/200\n",
      "50000/50000 [==============================] - 89s 2ms/step - loss: 0.8557 - acc: 0.6964 - val_loss: 0.9371 - val_acc: 0.6746\n",
      "Epoch 132/200\n",
      "50000/50000 [==============================] - 90s 2ms/step - loss: 0.8534 - acc: 0.6959 - val_loss: 0.9116 - val_acc: 0.6826\n",
      "Epoch 133/200\n",
      "50000/50000 [==============================] - 88s 2ms/step - loss: 0.8510 - acc: 0.6967 - val_loss: 0.8255 - val_acc: 0.7063\n",
      "Epoch 134/200\n",
      "50000/50000 [==============================] - 90s 2ms/step - loss: 0.8469 - acc: 0.6986 - val_loss: 0.9335 - val_acc: 0.6677\n",
      "Epoch 135/200\n",
      "50000/50000 [==============================] - 89s 2ms/step - loss: 0.8429 - acc: 0.7009 - val_loss: 0.9113 - val_acc: 0.6767\n",
      "Epoch 136/200\n",
      "50000/50000 [==============================] - 88s 2ms/step - loss: 0.8395 - acc: 0.7018 - val_loss: 0.9426 - val_acc: 0.6742\n",
      "Epoch 137/200\n",
      "50000/50000 [==============================] - 90s 2ms/step - loss: 0.8358 - acc: 0.7046 - val_loss: 0.9087 - val_acc: 0.6876\n",
      "Epoch 138/200\n",
      "50000/50000 [==============================] - 92s 2ms/step - loss: 0.8339 - acc: 0.7046 - val_loss: 0.8429 - val_acc: 0.7034\n",
      "Epoch 139/200\n",
      "50000/50000 [==============================] - 91s 2ms/step - loss: 0.8324 - acc: 0.7032 - val_loss: 0.9049 - val_acc: 0.6816\n",
      "Epoch 140/200\n",
      "50000/50000 [==============================] - 89s 2ms/step - loss: 0.8264 - acc: 0.7058 - val_loss: 0.8779 - val_acc: 0.6993\n",
      "Epoch 141/200\n",
      "50000/50000 [==============================] - 89s 2ms/step - loss: 0.8268 - acc: 0.7077 - val_loss: 1.1594 - val_acc: 0.6150\n",
      "Epoch 142/200\n",
      "50000/50000 [==============================] - 90s 2ms/step - loss: 0.8199 - acc: 0.7095 - val_loss: 0.8660 - val_acc: 0.6989\n",
      "Epoch 143/200\n",
      "50000/50000 [==============================] - 89s 2ms/step - loss: 0.8136 - acc: 0.7116 - val_loss: 1.1551 - val_acc: 0.6303\n",
      "Epoch 144/200\n",
      "50000/50000 [==============================] - 90s 2ms/step - loss: 0.8143 - acc: 0.7115 - val_loss: 0.8898 - val_acc: 0.6820\n",
      "Epoch 145/200\n",
      "50000/50000 [==============================] - 88s 2ms/step - loss: 0.8156 - acc: 0.7125 - val_loss: 0.8503 - val_acc: 0.7008\n",
      "Epoch 146/200\n",
      "50000/50000 [==============================] - 90s 2ms/step - loss: 0.8058 - acc: 0.7145 - val_loss: 0.8998 - val_acc: 0.6909\n",
      "Epoch 147/200\n",
      "50000/50000 [==============================] - 89s 2ms/step - loss: 0.8025 - acc: 0.7166 - val_loss: 0.9406 - val_acc: 0.6768\n",
      "Epoch 148/200\n",
      "50000/50000 [==============================] - 90s 2ms/step - loss: 0.7985 - acc: 0.7184 - val_loss: 0.9129 - val_acc: 0.6861\n",
      "Epoch 149/200\n",
      "50000/50000 [==============================] - 89s 2ms/step - loss: 0.7936 - acc: 0.7190 - val_loss: 0.8498 - val_acc: 0.7074\n",
      "Epoch 150/200\n",
      "50000/50000 [==============================] - 91s 2ms/step - loss: 0.8006 - acc: 0.7170 - val_loss: 0.8184 - val_acc: 0.7128\n",
      "Epoch 151/200\n",
      "50000/50000 [==============================] - 90s 2ms/step - loss: 0.7869 - acc: 0.7211 - val_loss: 0.8235 - val_acc: 0.7152\n",
      "Epoch 152/200\n",
      "50000/50000 [==============================] - 89s 2ms/step - loss: 0.7871 - acc: 0.7201 - val_loss: 0.9968 - val_acc: 0.6601\n",
      "Epoch 153/200\n",
      "50000/50000 [==============================] - 90s 2ms/step - loss: 0.7799 - acc: 0.7243 - val_loss: 0.8456 - val_acc: 0.7080\n",
      "Epoch 154/200\n",
      "50000/50000 [==============================] - 91s 2ms/step - loss: 0.7784 - acc: 0.7252 - val_loss: 0.9080 - val_acc: 0.6860\n",
      "Epoch 155/200\n",
      "50000/50000 [==============================] - 90s 2ms/step - loss: 0.7768 - acc: 0.7272 - val_loss: 0.9292 - val_acc: 0.6858\n",
      "Epoch 156/200\n",
      "50000/50000 [==============================] - 89s 2ms/step - loss: 0.7763 - acc: 0.7260 - val_loss: 0.9301 - val_acc: 0.6860\n",
      "Epoch 157/200\n",
      "50000/50000 [==============================] - 90s 2ms/step - loss: 0.7698 - acc: 0.7297 - val_loss: 0.9769 - val_acc: 0.6606\n",
      "Epoch 158/200\n",
      "50000/50000 [==============================] - 90s 2ms/step - loss: 0.7667 - acc: 0.7286 - val_loss: 0.8161 - val_acc: 0.7205\n",
      "Epoch 159/200\n",
      "50000/50000 [==============================] - 89s 2ms/step - loss: 0.7635 - acc: 0.7298 - val_loss: 0.9425 - val_acc: 0.6821\n",
      "Epoch 160/200\n",
      "50000/50000 [==============================] - 90s 2ms/step - loss: 0.7622 - acc: 0.7313 - val_loss: 0.9149 - val_acc: 0.6934\n",
      "Epoch 161/200\n",
      "50000/50000 [==============================] - 90s 2ms/step - loss: 0.7584 - acc: 0.7319 - val_loss: 0.8180 - val_acc: 0.7187\n",
      "Epoch 162/200\n",
      "50000/50000 [==============================] - 90s 2ms/step - loss: 0.7516 - acc: 0.7336 - val_loss: 0.8343 - val_acc: 0.7124\n",
      "Epoch 163/200\n",
      "50000/50000 [==============================] - 89s 2ms/step - loss: 0.7533 - acc: 0.7358 - val_loss: 0.7821 - val_acc: 0.7299\n",
      "Epoch 164/200\n",
      "50000/50000 [==============================] - 90s 2ms/step - loss: 0.7513 - acc: 0.7359 - val_loss: 0.8909 - val_acc: 0.7013\n",
      "Epoch 165/200\n",
      "50000/50000 [==============================] - 91s 2ms/step - loss: 0.7447 - acc: 0.7375 - val_loss: 0.9284 - val_acc: 0.6863\n",
      "Epoch 166/200\n",
      "50000/50000 [==============================] - 92s 2ms/step - loss: 0.7387 - acc: 0.7379 - val_loss: 0.8263 - val_acc: 0.7186\n",
      "Epoch 167/200\n",
      "50000/50000 [==============================] - 91s 2ms/step - loss: 0.7346 - acc: 0.7409 - val_loss: 0.8233 - val_acc: 0.7191\n",
      "Epoch 168/200\n",
      "50000/50000 [==============================] - 93s 2ms/step - loss: 0.7428 - acc: 0.7378 - val_loss: 0.8207 - val_acc: 0.7177\n",
      "Epoch 169/200\n",
      "50000/50000 [==============================] - 93s 2ms/step - loss: 0.7346 - acc: 0.7412 - val_loss: 0.7775 - val_acc: 0.7299\n",
      "Epoch 170/200\n",
      "50000/50000 [==============================] - 90s 2ms/step - loss: 0.7315 - acc: 0.7401 - val_loss: 0.9635 - val_acc: 0.6857\n",
      "Epoch 171/200\n",
      "50000/50000 [==============================] - 91s 2ms/step - loss: 0.7348 - acc: 0.7405 - val_loss: 0.8198 - val_acc: 0.7191\n",
      "Epoch 172/200\n",
      "50000/50000 [==============================] - 91s 2ms/step - loss: 0.7290 - acc: 0.7434 - val_loss: 1.0723 - val_acc: 0.6514\n",
      "Epoch 173/200\n",
      "50000/50000 [==============================] - 91s 2ms/step - loss: 0.7201 - acc: 0.7464 - val_loss: 0.9577 - val_acc: 0.6921\n",
      "Epoch 174/200\n",
      "50000/50000 [==============================] - 91s 2ms/step - loss: 0.7192 - acc: 0.7456 - val_loss: 0.8357 - val_acc: 0.7175\n",
      "Epoch 175/200\n",
      "50000/50000 [==============================] - 92s 2ms/step - loss: 0.7206 - acc: 0.7450 - val_loss: 0.8211 - val_acc: 0.7196\n",
      "Epoch 176/200\n",
      "50000/50000 [==============================] - 91s 2ms/step - loss: 0.7186 - acc: 0.7471 - val_loss: 0.8036 - val_acc: 0.7197\n",
      "Epoch 177/200\n",
      "50000/50000 [==============================] - 90s 2ms/step - loss: 0.7079 - acc: 0.7510 - val_loss: 0.7783 - val_acc: 0.7321\n",
      "Epoch 178/200\n",
      "50000/50000 [==============================] - 91s 2ms/step - loss: 0.7089 - acc: 0.7513 - val_loss: 0.8078 - val_acc: 0.7230\n",
      "Epoch 179/200\n",
      "50000/50000 [==============================] - 91s 2ms/step - loss: 0.7055 - acc: 0.7514 - val_loss: 0.8162 - val_acc: 0.7194\n",
      "Epoch 180/200\n",
      "50000/50000 [==============================] - 93s 2ms/step - loss: 0.7039 - acc: 0.7536 - val_loss: 0.7615 - val_acc: 0.7361\n",
      "Epoch 181/200\n",
      "50000/50000 [==============================] - 92s 2ms/step - loss: 0.7016 - acc: 0.7544 - val_loss: 0.8288 - val_acc: 0.7177\n",
      "Epoch 182/200\n",
      "50000/50000 [==============================] - 91s 2ms/step - loss: 0.6959 - acc: 0.7561 - val_loss: 0.9064 - val_acc: 0.7024\n",
      "Epoch 183/200\n",
      "50000/50000 [==============================] - 91s 2ms/step - loss: 0.6970 - acc: 0.7547 - val_loss: 0.8367 - val_acc: 0.7127\n",
      "Epoch 184/200\n",
      "50000/50000 [==============================] - 91s 2ms/step - loss: 0.6929 - acc: 0.7550 - val_loss: 0.7970 - val_acc: 0.7268\n",
      "Epoch 185/200\n",
      "50000/50000 [==============================] - 92s 2ms/step - loss: 0.6915 - acc: 0.7567 - val_loss: 0.8051 - val_acc: 0.7277\n",
      "Epoch 186/200\n",
      "50000/50000 [==============================] - 91s 2ms/step - loss: 0.6857 - acc: 0.7589 - val_loss: 0.8407 - val_acc: 0.7169\n",
      "Epoch 187/200\n",
      "50000/50000 [==============================] - 91s 2ms/step - loss: 0.6846 - acc: 0.7585 - val_loss: 0.8454 - val_acc: 0.7193\n",
      "Epoch 188/200\n",
      "50000/50000 [==============================] - 91s 2ms/step - loss: 0.6860 - acc: 0.7564 - val_loss: 0.7768 - val_acc: 0.7353\n",
      "Epoch 189/200\n",
      "50000/50000 [==============================] - 91s 2ms/step - loss: 0.6804 - acc: 0.7606 - val_loss: 0.9198 - val_acc: 0.7041\n",
      "Epoch 190/200\n",
      "50000/50000 [==============================] - 92s 2ms/step - loss: 0.6779 - acc: 0.7619 - val_loss: 0.8115 - val_acc: 0.7272\n",
      "Epoch 191/200\n",
      "50000/50000 [==============================] - 90s 2ms/step - loss: 0.6739 - acc: 0.7634 - val_loss: 0.8068 - val_acc: 0.7231\n",
      "Epoch 192/200\n",
      "50000/50000 [==============================] - 89s 2ms/step - loss: 0.6734 - acc: 0.7622 - val_loss: 0.7834 - val_acc: 0.7292\n",
      "Epoch 193/200\n",
      "50000/50000 [==============================] - 89s 2ms/step - loss: 0.6740 - acc: 0.7626 - val_loss: 0.7787 - val_acc: 0.7306\n",
      "Epoch 194/200\n",
      "50000/50000 [==============================] - 88s 2ms/step - loss: 0.6684 - acc: 0.7649 - val_loss: 0.8159 - val_acc: 0.7285\n",
      "Epoch 195/200\n",
      "50000/50000 [==============================] - 89s 2ms/step - loss: 0.6669 - acc: 0.7666 - val_loss: 0.7947 - val_acc: 0.7255\n",
      "Epoch 196/200\n",
      "50000/50000 [==============================] - 89s 2ms/step - loss: 0.6573 - acc: 0.7671 - val_loss: 0.7325 - val_acc: 0.7466\n",
      "Epoch 197/200\n",
      "50000/50000 [==============================] - 89s 2ms/step - loss: 0.6597 - acc: 0.7652 - val_loss: 0.7600 - val_acc: 0.7390\n",
      "Epoch 198/200\n",
      "50000/50000 [==============================] - 89s 2ms/step - loss: 0.6573 - acc: 0.7660 - val_loss: 0.8047 - val_acc: 0.7248\n",
      "Epoch 199/200\n",
      "50000/50000 [==============================] - 89s 2ms/step - loss: 0.6565 - acc: 0.7696 - val_loss: 0.8154 - val_acc: 0.7247\n",
      "Epoch 200/200\n",
      "50000/50000 [==============================] - 89s 2ms/step - loss: 0.6540 - acc: 0.7700 - val_loss: 0.8120 - val_acc: 0.7266\n"
     ]
    }
   ],
   "source": [
    "\n",
    "# Train the Model\n",
    "#earlyStopping=keras.callbacks.EarlyStopping(monitor='val_acc', min_delta=0, patience=13, verbose=1, mode='auto')\n",
    "history = model.fit(x_train, y_train,\n",
    "                    batch_size=batch_size,\n",
    "                    epochs=epochs,\n",
    "                    verbose=1,\n",
    " #                   callbacks=[earlyStopping],\n",
    "                    validation_data=(x_test, y_test))\n",
    "\n"
   ]
  },
  {
   "cell_type": "code",
   "execution_count": null,
   "metadata": {
    "collapsed": true
   },
   "outputs": [],
   "source": []
  },
  {
   "cell_type": "code",
   "execution_count": 11,
   "metadata": {},
   "outputs": [
    {
     "data": {
      "image/png": "[encoded data removed]",
      "text/plain": [
       "<matplotlib.figure.Figure at 0x7fd00dead320>"
      ]
     },
     "metadata": {},
     "output_type": "display_data"
    }
   ],
   "source": [
    "plt.plot(history.history['acc'])\n",
    "plt.plot(history.history['val_acc'])\n",
    "plt.title('model accuracy')\n",
    "plt.ylabel('accuracy')\n",
    "plt.xlabel('epoch')\n",
    "plt.legend(['train acc','val acc'], loc='upper left')\n",
    "plt.show()"
   ]
  },
  {
   "cell_type": "code",
   "execution_count": 12,
   "metadata": {},
   "outputs": [
    {
     "data": {
      "image/png": "[encoded data removed]",
      "text/plain": [
       "<matplotlib.figure.Figure at 0x7fd00de78710>"
      ]
     },
     "metadata": {},
     "output_type": "display_data"
    }
   ],
   "source": [
    "plt.plot(history.history['loss'])\n",
    "plt.plot(history.history['val_loss'])\n",
    "plt.title('model loss')\n",
    "plt.ylabel('loss')\n",
    "plt.xlabel('epoch')\n",
    "plt.legend(['train loss','Val Loss'], loc='upper left')\n",
    "plt.show()"
   ]
  },
  {
   "cell_type": "code",
   "execution_count": 13,
   "metadata": {},
   "outputs": [
    {
     "name": "stdout",
     "output_type": "stream",
     "text": [
      "Test loss: 0.811991710949\n",
      "Test accuracy: 0.7266\n"
     ]
    }
   ],
   "source": [
    "# Test the model\n",
    "score = model.evaluate(x_test, y_test, verbose=0)\n",
    "print('Test loss:', score[0])\n",
    "print('Test accuracy:', score[1])"
   ]
  },
  {
   "cell_type": "code",
   "execution_count": null,
   "metadata": {
    "collapsed": true
   },
   "outputs": [],
   "source": []
  },
  {
   "cell_type": "code",
   "execution_count": 14,
   "metadata": {},
   "outputs": [
    {
     "name": "stdout",
     "output_type": "stream",
     "text": [
      "{'val_loss': [2.3019267379760744, 2.3002517013549806, 2.2935179428100585, 2.2347645740509035, 2.091682843017578, 2.0383734672546385, 2.0361668800354003, 1.9734679924011231, 1.9150405145645142, 1.8886339704513551, 1.9352926849365235, 1.9375310623168944, 1.9936729331970215, 2.045902642059326, 1.8500767602920531, 2.0393062263488768, 1.9764535373687744, 1.7687537227630614, 1.8868334705352783, 1.7265397645950318, 1.8646974578857423, 1.7677136959075928, 1.6413374664306641, 1.7639107105255127, 1.8310770530700684, 2.0592946743011473, 2.030247323989868, 1.681473914527893, 2.0309735572814942, 1.7128604843139648, 1.6654929161071776, 1.6805308414459228, 1.5804818153381348, 1.6134291536331178, 1.5266335289001465, 1.6670175189971923, 1.5071287612915039, 1.4697827697753907, 1.5041767040252685, 1.3715212707519531, 1.4562212196350097, 2.3837537075042725, 1.341806132888794, 1.4014425943374633, 1.4644614784240724, 1.4070920888900758, 1.3524510986328124, 1.4828559875488281, 1.443262197113037, 1.3146924015045165, 1.1885357370376588, 1.2315203510284425, 1.2430803651809692, 1.4599326011657714, 1.1855646503448487, 1.2950599908828735, 1.4833365478515625, 1.1341067239761353, 1.2572686056137086, 1.2100439617156982, 1.1304136123657227, 1.2713402612686158, 1.1676423957824706, 1.1325275749206543, 1.176126706314087, 1.1207371198654175, 1.4454905136108398, 1.1017297388076783, 1.161912322807312, 1.2335577110290528, 1.2162126838684082, 1.0495176143646241, 1.5290380109786987, 1.100573348236084, 1.0778216844558717, 1.346049870300293, 1.0730138160705567, 1.1198776781082154, 1.0635100940704345, 1.0732789541244507, 1.0649888511657715, 1.1041620983123779, 1.2998191852569581, 1.0762813877105712, 1.1061529216766357, 1.0284406761169433, 1.0145317871093751, 1.0172464542388917, 1.0421595182418824, 1.0172121881484986, 1.1719414096832275, 1.0088025886535645, 1.1090767585754395, 1.3830256568908692, 0.96870482482910159, 1.1924064414978028, 0.96354057121276859, 1.1493028823852538, 1.4150128925323486, 1.0170334857940675, 1.1213747770309448, 1.0025350820541381, 0.98100407152175906, 0.93347895545959469, 1.0757854919433594, 0.98339453506469732, 0.98113623180389409, 0.95043786754608151, 0.96847396316528322, 1.1719296909332275, 0.93240231170654297, 1.0444783493041991, 0.98695304107666015, 0.92612707519531245, 1.0456404579162597, 0.91813700237274165, 1.0968029052734376, 1.0245276180267333, 1.16822082862854, 1.0430701358795167, 0.93804438724517825, 0.85897888956069945, 1.4897979743957519, 1.2555430885314942, 0.94742042541503901, 0.8786908784866333, 0.87938582706451418, 1.090354947090149, 1.0143596199035645, 1.0410011178970338, 0.93713032493591308, 0.91158316478729251, 0.82546980848312379, 0.9335375909805298, 0.91128406515121463, 0.94262831792831425, 0.90872451953887945, 0.84294760494232179, 0.90494830989837649, 0.87785298366546627, 1.1593661064147949, 0.86602466926574706, 1.1550864681243898, 0.88980323047637944, 0.85025740509033199, 0.89977485466003415, 0.94061063232421871, 0.91288305072784426, 0.84980742292404177, 0.81840668869018551, 0.8234546077728272, 0.9967939418792725, 0.84560659065246579, 0.90803620815277097, 0.9291983879089355, 0.93005857524871827, 0.97693506231307981, 0.81610773735046382, 0.94254582214355465, 0.91492316026687626, 0.81801329021453861, 0.83427887706756587, 0.7821068223953247, 0.89088127174377441, 0.92839489870071412, 0.82628611297607424, 0.82333026943206788, 0.82070907001495363, 0.77750298824310304, 0.96347534427642822, 0.81983427143096921, 1.0723291294097901, 0.95769526329040522, 0.83573921375274662, 0.82109127712249752, 0.80360546684265133, 0.77834647741317753, 0.80775075740814206, 0.8161930917739868, 0.76152251348495481, 0.82879008750915528, 0.90639121093749997, 0.83670940723419185, 0.79704310798645017, 0.80507744197845454, 0.84072140378952032, 0.84536288490295408, 0.77679496660232539, 0.9197508018493652, 0.81152639694213868, 0.80683325881958012, 0.78335995826721194, 0.77865184936523435, 0.81594416236877443, 0.79465834541320801, 0.73247284317016603, 0.76004796018600462, 0.80473805027008061, 0.81535394477844236, 0.81199170761108397], 'val_acc': [0.10000000000000001, 0.13239999999999999, 0.17910000000000001, 0.19089999999999999, 0.22559999999999999, 0.23200000000000001, 0.2268, 0.24479999999999999, 0.25309999999999999, 0.25879999999999997, 0.2424, 0.23780000000000001, 0.22850000000000001, 0.2137, 0.2727, 0.22040000000000001, 0.23780000000000001, 0.31080000000000002, 0.27560000000000001, 0.3221, 0.27450000000000002, 0.31929999999999997, 0.36599999999999999, 0.31609999999999999, 0.31740000000000002, 0.27000000000000002, 0.2888, 0.36990000000000001, 0.29270000000000002, 0.37309999999999999, 0.38200000000000001, 0.38669999999999999, 0.40739999999999998, 0.38300000000000001, 0.43819999999999998, 0.40079999999999999, 0.44340000000000002, 0.45960000000000001, 0.45619999999999999, 0.49109999999999998, 0.47149999999999997, 0.2928, 0.49930000000000002, 0.49070000000000003, 0.48580000000000001, 0.49390000000000001, 0.51829999999999998, 0.48630000000000001, 0.501, 0.52339999999999998, 0.55689999999999995, 0.55420000000000003, 0.53749999999999998, 0.48209999999999997, 0.57040000000000002, 0.53180000000000005, 0.50070000000000003, 0.58279999999999998, 0.55049999999999999, 0.56910000000000005, 0.58009999999999995, 0.53720000000000001, 0.57950000000000002, 0.59250000000000003, 0.58309999999999995, 0.58860000000000001, 0.51039999999999996, 0.60009999999999997, 0.59030000000000005, 0.56000000000000005, 0.57640000000000002, 0.61609999999999998, 0.4985, 0.60809999999999997, 0.60819999999999996, 0.54969999999999997, 0.61680000000000001, 0.60070000000000001, 0.61929999999999996, 0.61080000000000001, 0.61780000000000002, 0.6028, 0.56230000000000002, 0.60670000000000002, 0.6018, 0.62450000000000006, 0.63700000000000001, 0.63829999999999998, 0.62339999999999995, 0.63829999999999998, 0.57869999999999999, 0.63749999999999996, 0.60240000000000005, 0.55259999999999998, 0.65459999999999996, 0.59750000000000003, 0.65069999999999995, 0.60880000000000001, 0.54279999999999995, 0.63109999999999999, 0.61370000000000002, 0.63529999999999998, 0.64549999999999996, 0.66490000000000005, 0.6341, 0.6482, 0.64349999999999996, 0.65890000000000004, 0.66120000000000001, 0.58520000000000005, 0.67179999999999995, 0.63880000000000003, 0.65169999999999995, 0.66820000000000002, 0.64490000000000003, 0.67510000000000003, 0.62239999999999995, 0.64049999999999996, 0.61380000000000001, 0.6331, 0.66900000000000004, 0.69359999999999999, 0.54310000000000003, 0.59819999999999995, 0.66600000000000004, 0.6865, 0.68720000000000003, 0.6321, 0.6552, 0.63739999999999997, 0.67459999999999998, 0.68259999999999998, 0.70630000000000004, 0.66769999999999996, 0.67669999999999997, 0.67420000000000002, 0.68759999999999999, 0.70340000000000003, 0.68159999999999998, 0.69930000000000003, 0.61499999999999999, 0.69889999999999997, 0.63029999999999997, 0.68200000000000005, 0.70079999999999998, 0.69089999999999996, 0.67679999999999996, 0.68610000000000004, 0.70740000000000003, 0.71279999999999999, 0.71519999999999995, 0.66010000000000002, 0.70799999999999996, 0.68600000000000005, 0.68579999999999997, 0.68600000000000005, 0.66059999999999997, 0.72050000000000003, 0.68210000000000004, 0.69340000000000002, 0.71870000000000001, 0.71240000000000003, 0.72989999999999999, 0.70130000000000003, 0.68630000000000002, 0.71860000000000002, 0.71909999999999996, 0.7177, 0.72989999999999999, 0.68569999999999998, 0.71909999999999996, 0.65139999999999998, 0.69210000000000005, 0.71750000000000003, 0.71960000000000002, 0.71970000000000001, 0.73209999999999997, 0.72299999999999998, 0.71940000000000004, 0.73609999999999998, 0.7177, 0.70240000000000002, 0.7127, 0.7268, 0.72770000000000001, 0.71689999999999998, 0.71930000000000005, 0.73529999999999995, 0.70409999999999995, 0.72719999999999996, 0.72309999999999997, 0.72919999999999996, 0.73060000000000003, 0.72850000000000004, 0.72550000000000003, 0.74660000000000004, 0.73899999999999999, 0.7248, 0.72470000000000001, 0.72660000000000002], 'loss': [2.3026699678039551, 2.3015999615478515, 2.2978250443267823, 2.2768902745056154, 2.1656169633102418, 2.0973435247421266, 2.0558911988830566, 2.0240390560913086, 1.99226146774292, 1.958036192703247, 1.9331236543273926, 1.913635153503418, 1.8990049066543579, 1.8814916957855226, 1.8649017383193969, 1.8509604329299927, 1.8319557920074463, 1.8079104598236084, 1.7838995607757568, 1.7650541206741333, 1.7421296686172485, 1.7264013084793091, 1.7091644946670532, 1.6899002933502196, 1.6721305026626587, 1.6517329220581054, 1.6308914109802246, 1.6152453711700439, 1.5944099428558349, 1.5762216280364991, 1.55764491481781, 1.5430547230911256, 1.5260565631103515, 1.514114273223877, 1.4989500687408448, 1.4850898643493653, 1.4676220658111572, 1.4571612298583985, 1.4414768421936035, 1.4299638055419921, 1.4187378168487548, 1.4093287194061279, 1.3892590328216552, 1.379790800933838, 1.3671387381935121, 1.3511666905975341, 1.3393393576049806, 1.3333089320564271, 1.3232504537200929, 1.3139847996139526, 1.2991122951889038, 1.2897792767333984, 1.2824267785644532, 1.2704275000762939, 1.2652638069534301, 1.2558202885055543, 1.2424953691101075, 1.2370921040725709, 1.231768293762207, 1.2222633809661865, 1.217221898651123, 1.2057119887542724, 1.197394390335083, 1.1910205990982055, 1.1858528088760376, 1.1835473222351074, 1.1708072817993165, 1.1666577741241455, 1.1584117105865479, 1.1550075582885742, 1.1508761831283569, 1.1411181174850464, 1.1373321657943725, 1.1278754325675964, 1.1198060982513427, 1.1148091974258423, 1.1074835592651366, 1.1024360459518432, 1.0968596127891541, 1.0944272471237182, 1.0851977890968323, 1.0789627645683288, 1.0784674584960938, 1.0700023669815064, 1.064136879043579, 1.0613089038848877, 1.0512380648040771, 1.0536723500061036, 1.0435702176475525, 1.038387590560913, 1.0339837842559814, 1.0340703290367126, 1.0212066944122316, 1.0149757147979737, 1.0127191979980468, 1.0062204248046875, 1.0058483861160279, 0.99721686769485474, 0.9893383515548706, 0.9886253990936279, 0.98665856132507324, 0.97733545742034911, 0.97337533006668087, 0.97268460475921625, 0.96301849243164062, 0.96070056350708011, 0.95227539920806881, 0.94869716156005857, 0.94593878856658931, 0.94387676330566406, 0.93969336631774902, 0.93330534568786616, 0.93209357688903804, 0.9241316058349609, 0.92003563093185425, 0.91328150718688961, 0.90744582321166989, 0.90855750951766967, 0.90256702812194822, 0.89767699703216552, 0.89706474304199224, 0.89319527053833003, 0.89109939796447757, 0.88567423744201657, 0.87987944679260255, 0.87508993404388424, 0.87231515705108642, 0.86906057014465332, 0.86585589965820309, 0.86458468872070315, 0.85571097076416014, 0.85341734344482423, 0.85101562524795538, 0.84686334236145022, 0.84285749454498293, 0.83950249518394471, 0.83582153953552241, 0.83390139289855958, 0.83240529073715208, 0.82636455677032472, 0.82680345413208012, 0.81994796001434322, 0.81361397602081298, 0.8142862036132813, 0.81557513095855716, 0.8057526643371582, 0.80246631698608395, 0.79846762819290162, 0.79357029972076421, 0.80059993347167968, 0.78686512987136836, 0.78713714038848881, 0.77988196598052983, 0.77836252872467038, 0.77682138833999637, 0.77627771095275877, 0.76980667217254639, 0.76668750066757207, 0.76349474542617801, 0.76221340105056767, 0.75844741569519047, 0.75158145492553707, 0.75333456439018254, 0.75134550439834591, 0.74471956977844234, 0.73869456707000736, 0.73455189014434819, 0.74278957309722904, 0.73457637739181514, 0.73152557334899904, 0.73482035205841068, 0.72898139335632328, 0.72009660530090336, 0.71920402587890619, 0.72058939266204836, 0.71858699962615968, 0.7078869072437286, 0.70892959805488587, 0.70545172761917119, 0.70391982084274296, 0.70160219001770019, 0.6959100888633728, 0.69700612918853755, 0.69287926204681394, 0.69151265401840212, 0.68565673024177554, 0.68456201755523682, 0.68602950109481808, 0.68042989833831791, 0.67785302932739255, 0.67393222024917598, 0.67335425350189204, 0.67399853672027588, 0.66841115898132319, 0.66685889955520627, 0.65729079319000239, 0.65966188991546626, 0.65733986419677737, 0.65646970954895023, 0.65398754138946535], 'acc': [0.10098, 0.1084, 0.13850000000000001, 0.16450000000000001, 0.18578, 0.20241999999999999, 0.21573999999999999, 0.22242000000000001, 0.22992000000000001, 0.2344, 0.23880000000000001, 0.24304000000000001, 0.25134000000000001, 0.25790000000000002, 0.26773999999999998, 0.27023999999999998, 0.28072000000000003, 0.29060000000000002, 0.30181999999999998, 0.30897999999999998, 0.32147999999999999, 0.32832, 0.33194000000000001, 0.34333999999999998, 0.34942000000000001, 0.36083999999999999, 0.36918000000000001, 0.37412000000000001, 0.38622000000000001, 0.39517999999999998, 0.40323999999999999, 0.41066000000000003, 0.41971999999999998, 0.42342000000000002, 0.42886000000000002, 0.43837999999999999, 0.44497999999999999, 0.44716, 0.45726, 0.46432000000000001, 0.47160000000000002, 0.47393999999999997, 0.48126000000000002, 0.4864, 0.49199999999999999, 0.49908000000000002, 0.50294000000000005, 0.50731999999999999, 0.51359999999999995, 0.51734000000000002, 0.52215999999999996, 0.52559999999999996, 0.52702000000000004, 0.53213999999999995, 0.53620000000000001, 0.54068000000000005, 0.54574, 0.55003999999999997, 0.54922000000000004, 0.55359999999999998, 0.55469999999999997, 0.55706, 0.56213999999999997, 0.56466000000000005, 0.56921999999999995, 0.56913999999999998, 0.57540000000000002, 0.57486000000000004, 0.57765999999999995, 0.58033999999999997, 0.5837, 0.58787999999999996, 0.58826000000000001, 0.59228000000000003, 0.59262000000000004, 0.59426000000000001, 0.59809999999999997, 0.59982000000000002, 0.60350000000000004, 0.60550000000000004, 0.60970000000000002, 0.60877999999999999, 0.60962000000000005, 0.61326000000000003, 0.61607999999999996, 0.61451999999999996, 0.62072000000000005, 0.61734, 0.62338000000000005, 0.62472000000000005, 0.62804000000000004, 0.62665999999999999, 0.63038000000000005, 0.63392000000000004, 0.63768000000000002, 0.63683999999999996, 0.63973999999999998, 0.64019999999999999, 0.64417999999999997, 0.64522000000000002, 0.64537999999999995, 0.65125999999999995, 0.65090000000000003, 0.65012000000000003, 0.65224000000000004, 0.65613999999999995, 0.66090000000000004, 0.66161999999999999, 0.65903999999999996, 0.66324000000000005, 0.66335999999999995, 0.66766000000000003, 0.66803999999999997, 0.67047999999999996, 0.67213999999999996, 0.67405999999999999, 0.67410000000000003, 0.67471999999999999, 0.67769999999999997, 0.68118000000000001, 0.67934000000000005, 0.68078000000000005, 0.68203999999999998, 0.68435999999999997, 0.68574000000000002, 0.68915999999999999, 0.69001999999999997, 0.6905, 0.69103999999999999, 0.69177999999999995, 0.69635999999999998, 0.69594, 0.69674000000000003, 0.69862000000000002, 0.70086000000000004, 0.70184000000000002, 0.70455999999999996, 0.70455999999999996, 0.70320000000000005, 0.70577999999999996, 0.70772000000000002, 0.70945999999999998, 0.71160000000000001, 0.71153999999999995, 0.71252000000000004, 0.71452000000000004, 0.71662000000000003, 0.71836, 0.71896000000000004, 0.71701999999999999, 0.72114, 0.72006000000000003, 0.72428000000000003, 0.72518000000000005, 0.72718000000000005, 0.72597999999999996, 0.72965999999999998, 0.72860000000000003, 0.7298, 0.73131999999999997, 0.7319, 0.73355999999999999, 0.73575999999999997, 0.73587999999999998, 0.73746, 0.7379, 0.74094000000000004, 0.73784000000000005, 0.74116000000000004, 0.74007999999999996, 0.74051999999999996, 0.74343999999999999, 0.74638000000000004, 0.74560000000000004, 0.74504000000000004, 0.74709999999999999, 0.75104000000000004, 0.75127999999999995, 0.75141999999999998, 0.75358000000000003, 0.75438000000000005, 0.75607999999999997, 0.75466, 0.755, 0.75673999999999997, 0.75892000000000004, 0.75849999999999995, 0.75636000000000003, 0.76056000000000001, 0.76188, 0.76337999999999995, 0.76222000000000001, 0.76263999999999998, 0.76488, 0.76663999999999999, 0.7671, 0.76524000000000003, 0.76604000000000005, 0.76958000000000004, 0.77000000000000002]}\n"
     ]
    }
   ],
   "source": [
    "print(history.history)"
   ]
  },
  {
   "cell_type": "code",
   "execution_count": null,
   "metadata": {
    "collapsed": true
   },
   "outputs": [],
   "source": []
  },
  {
   "cell_type": "code",
   "execution_count": 15,
   "metadata": {
    "collapsed": true
   },
   "outputs": [],
   "source": [
    "\n",
    "data = pd.DataFrame(history.history)\n",
    "nome = 'DoubleConvCifar10NormDrop_t2' + str(datetime.datetime.now())+'.json'\n",
    "data = data.to_json()\n",
    "with open(nome, \"w+\") as output_file:\n",
    "    output_file.write(data)"
   ]
  },
  {
   "cell_type": "code",
   "execution_count": null,
   "metadata": {
    "collapsed": true
   },
   "outputs": [],
   "source": []
  },
  {
   "cell_type": "code",
   "execution_count": null,
   "metadata": {
    "collapsed": true
   },
   "outputs": [],
   "source": []
  },
  {
   "cell_type": "code",
   "execution_count": null,
   "metadata": {
    "collapsed": true
   },
   "outputs": [],
   "source": []
  },
  {
   "cell_type": "code",
   "execution_count": null,
   "metadata": {
    "collapsed": true
   },
   "outputs": [],
   "source": []
  }
 ],
 "metadata": {
  "kernelspec": {
   "display_name": "Python 3",
   "language": "python",
   "name": "python3"
  },
  "language_info": {
   "codemirror_mode": {
    "name": "ipython",
    "version": 3
   },
   "file_extension": ".py",
   "mimetype": "text/x-python",
   "name": "python",
   "nbconvert_exporter": "python",
   "pygments_lexer": "ipython3",
   "version": "3.6.4"
  }
 },
 "nbformat": 4,
 "nbformat_minor": 2
}
