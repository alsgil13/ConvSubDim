{
 "cells": [
  {
   "cell_type": "code",
   "execution_count": 1,
   "metadata": {},
   "outputs": [
    {
     "name": "stderr",
     "output_type": "stream",
     "text": [
      "Using TensorFlow backend.\n"
     ]
    }
   ],
   "source": [
    "import keras\n",
    "import numpy as np\n",
    "from keras.datasets import mnist\n",
    "from keras.optimizers import SGD\n",
    "\n",
    "from keras.models import Sequential\n",
    "from keras.layers import Dense, Dropout, Flatten, Softmax\n",
    "from keras.layers import Conv2D, MaxPooling2D, BatchNormalization, Reshape, GlobalAveragePooling2D, GlobalAveragePooling1D\n",
    "from keras.optimizers import Adam\n",
    "from keras.initializers import RandomNormal\n",
    "import matplotlib.pyplot as plt\n",
    "\n",
    "import pandas as pd\n",
    "import datetime"
   ]
  },
  {
   "cell_type": "code",
   "execution_count": 2,
   "metadata": {
    "collapsed": true
   },
   "outputs": [],
   "source": [
    "\n",
    "# Hyperparameters\n",
    "batch_size = 64\n",
    "num_classes = 10 #pegar automaticamente NumPy.Unique\n",
    "epochs = 200\n",
    "\n"
   ]
  },
  {
   "cell_type": "code",
   "execution_count": null,
   "metadata": {
    "collapsed": true
   },
   "outputs": [],
   "source": []
  },
  {
   "cell_type": "code",
   "execution_count": 3,
   "metadata": {},
   "outputs": [
    {
     "data": {
      "text/plain": [
       "(60000, 28, 28, 1)"
      ]
     },
     "execution_count": 3,
     "metadata": {},
     "output_type": "execute_result"
    }
   ],
   "source": [
    "# Load Cifar-10 Data\n",
    "(x_train, y_train), (x_test, y_test) = mnist.load_data()\n",
    "\n",
    "#Adicionando Canal do DataSet (Channel do MNIST eh 1)\n",
    "x_train = np.reshape(x_train, (len(x_train),28,28, 1))\n",
    "x_test = np.reshape(x_test, (len(x_test),28,28, 1))\n",
    "\n",
    "\n",
    "#x_train.shape\n",
    "img_height, img_width, channel = x_train.shape[1],x_train.shape[2],x_train.shape[3]\n",
    "#channel=1\n",
    "\n",
    "x_train.shape\n",
    "\n"
   ]
  },
  {
   "cell_type": "code",
   "execution_count": 4,
   "metadata": {},
   "outputs": [
    {
     "data": {
      "text/plain": [
       "(60000, 28, 28, 1)"
      ]
     },
     "execution_count": 4,
     "metadata": {},
     "output_type": "execute_result"
    }
   ],
   "source": [
    "\n",
    "#\n",
    "x_train.shape\n",
    "\n",
    "#\n"
   ]
  },
  {
   "cell_type": "code",
   "execution_count": 5,
   "metadata": {
    "collapsed": true
   },
   "outputs": [],
   "source": [
    "# convert to one hot encoing \n",
    "y_train = keras.utils.to_categorical(y_train, num_classes)\n",
    "y_test = keras.utils.to_categorical(y_test, num_classes)\n",
    "\n"
   ]
  },
  {
   "cell_type": "code",
   "execution_count": 6,
   "metadata": {},
   "outputs": [
    {
     "data": {
      "text/plain": [
       "28"
      ]
     },
     "execution_count": 6,
     "metadata": {},
     "output_type": "execute_result"
    }
   ],
   "source": [
    "img_width"
   ]
  },
  {
   "cell_type": "code",
   "execution_count": 7,
   "metadata": {
    "collapsed": true
   },
   "outputs": [],
   "source": [
    "model = Sequential()\n",
    "\n",
    "#Filters = IMG_width/2 * 7\n",
    "model.add(Conv2D(98, #alterado de 168 para 98\n",
    "                 (5,5), #alterado de 3 para 5 \n",
    "                 strides=(2,2), \n",
    "                 activation='relu', \n",
    "                 padding='same',\n",
    "                 data_format='channels_last',\n",
    "                 use_bias=True, \n",
    "                 kernel_initializer=RandomNormal(mean=0.0, stddev=0.05, seed=None), \n",
    "                 bias_initializer='zeros',\n",
    "                 input_shape=(img_height, img_width, channel)))\n",
    "\n",
    "#Normalization:\n",
    "#calculo da quantidade de filtros da normalização:\n",
    "# Width*heigth da saída após a primeira camada de convolução+pooling\n",
    "model.add(Conv2D(49, \n",
    "                 (1,1), \n",
    "                 strides=(1,1), \n",
    "                 activation='relu', \n",
    "                 padding='same',\n",
    "                 kernel_initializer=RandomNormal(mean=0.0, stddev=0.05, seed=None), \n",
    "                 data_format='channels_last'))\n",
    "model.add(Conv2D(49, \n",
    "                 (1,1), \n",
    "                 strides=(1,1), \n",
    "                 activation='relu', \n",
    "                 padding='same',\n",
    "                 kernel_initializer=RandomNormal(mean=0.0, stddev=0.05, seed=None),                  \n",
    "                 data_format='channels_last'))\n",
    "model.add(Dropout(0.5))\n",
    "\n",
    "#Pooling\n",
    "model.add(MaxPooling2D(pool_size=(2, 2), \n",
    "                       strides=(2,2)))\n",
    "\n",
    "\n",
    "\n",
    "#Filters = IMG_width/2 * 9\n",
    "model.add(Conv2D(126, \n",
    "                 (5,5), \n",
    "                 strides=(2,2), \n",
    "                 activation='relu', \n",
    "                 padding='same',\n",
    "                 data_format='channels_last',\n",
    "                 use_bias=True, \n",
    "                 kernel_initializer=RandomNormal(mean=0.0, stddev=0.05, seed=None), \n",
    "                 bias_initializer='zeros',\n",
    "                 input_shape=(img_height, img_width, channel)))\n",
    "#Normalization:\n",
    "#calculo da quantidade de filtros da normalização:\n",
    "# Width*heigth da saída após a primeira camada de convolução+pooling\n",
    "model.add(Conv2D(49, \n",
    "                 (1,1), \n",
    "                 strides=(1,1), \n",
    "                 activation='relu', \n",
    "                 padding='same',\n",
    "                 kernel_initializer=RandomNormal(mean=0.0, stddev=0.05, seed=None),                  \n",
    "                 data_format='channels_last'))\n",
    "model.add(Conv2D(49, \n",
    "                 (1,1), \n",
    "                 strides=(1,1), \n",
    "                 activation='relu', \n",
    "                 padding='same',\n",
    "                 kernel_initializer=RandomNormal(mean=0.0, stddev=0.05, seed=None),                  \n",
    "                 data_format='channels_last'))\n",
    "model.add(Dropout(0.5))\n",
    "\n",
    "#Pooling\n",
    "model.add(MaxPooling2D(pool_size=(2, 2), \n",
    "                       strides=(2,2)))\n",
    "\n",
    "\n",
    "model.add(Flatten())\n",
    "#IMG_width^ 2\n",
    "model.add(Dense(784, activation='relu'))\n",
    "model.add(Dropout(0.5))\n",
    "\n",
    "#camada anterior/2\n",
    "model.add(Dense(392, activation='relu'))\n",
    "model.add(Dropout(0.5))\n",
    "\n",
    "#Num de classes\n",
    "model.add(Dense(10, activation='softmax'))\n"
   ]
  },
  {
   "cell_type": "code",
   "execution_count": 8,
   "metadata": {},
   "outputs": [
    {
     "name": "stdout",
     "output_type": "stream",
     "text": [
      "_________________________________________________________________\n",
      "Layer (type)                 Output Shape              Param #   \n",
      "=================================================================\n",
      "conv2d_1 (Conv2D)            (None, 14, 14, 98)        2548      \n",
      "_________________________________________________________________\n",
      "conv2d_2 (Conv2D)            (None, 14, 14, 49)        4851      \n",
      "_________________________________________________________________\n",
      "conv2d_3 (Conv2D)            (None, 14, 14, 49)        2450      \n",
      "_________________________________________________________________\n",
      "dropout_1 (Dropout)          (None, 14, 14, 49)        0         \n",
      "_________________________________________________________________\n",
      "max_pooling2d_1 (MaxPooling2 (None, 7, 7, 49)          0         \n",
      "_________________________________________________________________\n",
      "conv2d_4 (Conv2D)            (None, 4, 4, 126)         154476    \n",
      "_________________________________________________________________\n",
      "conv2d_5 (Conv2D)            (None, 4, 4, 49)          6223      \n",
      "_________________________________________________________________\n",
      "conv2d_6 (Conv2D)            (None, 4, 4, 49)          2450      \n",
      "_________________________________________________________________\n",
      "dropout_2 (Dropout)          (None, 4, 4, 49)          0         \n",
      "_________________________________________________________________\n",
      "max_pooling2d_2 (MaxPooling2 (None, 2, 2, 49)          0         \n",
      "_________________________________________________________________\n",
      "flatten_1 (Flatten)          (None, 196)               0         \n",
      "_________________________________________________________________\n",
      "dense_1 (Dense)              (None, 784)               154448    \n",
      "_________________________________________________________________\n",
      "dropout_3 (Dropout)          (None, 784)               0         \n",
      "_________________________________________________________________\n",
      "dense_2 (Dense)              (None, 392)               307720    \n",
      "_________________________________________________________________\n",
      "dropout_4 (Dropout)          (None, 392)               0         \n",
      "_________________________________________________________________\n",
      "dense_3 (Dense)              (None, 10)                3930      \n",
      "=================================================================\n",
      "Total params: 639,096\n",
      "Trainable params: 639,096\n",
      "Non-trainable params: 0\n",
      "_________________________________________________________________\n"
     ]
    }
   ],
   "source": [
    "\n",
    "# print the model summary\n",
    "model.summary()\n",
    "\n"
   ]
  },
  {
   "cell_type": "code",
   "execution_count": 9,
   "metadata": {
    "collapsed": true
   },
   "outputs": [],
   "source": [
    "# determine Loss function and Optimizer\n",
    "model.compile(loss='categorical_crossentropy',\n",
    "              optimizer=SGD(lr=0.01, momentum=0.02, decay=0.0, nesterov=False),\n",
    "              metrics=['accuracy'])\n"
   ]
  },
  {
   "cell_type": "code",
   "execution_count": 10,
   "metadata": {},
   "outputs": [
    {
     "name": "stdout",
     "output_type": "stream",
     "text": [
      "Train on 60000 samples, validate on 10000 samples\n",
      "Epoch 1/200\n",
      "60000/60000 [==============================] - 56s 928us/step - loss: 1.3739 - acc: 0.5081 - val_loss: 0.5017 - val_acc: 0.8889\n",
      "Epoch 2/200\n",
      "60000/60000 [==============================] - 97s 2ms/step - loss: 0.3316 - acc: 0.9003 - val_loss: 0.1807 - val_acc: 0.9642\n",
      "Epoch 3/200\n",
      "60000/60000 [==============================] - 100s 2ms/step - loss: 0.2219 - acc: 0.9351 - val_loss: 0.1250 - val_acc: 0.9740\n",
      "Epoch 4/200\n",
      "60000/60000 [==============================] - 100s 2ms/step - loss: 0.1712 - acc: 0.9497 - val_loss: 0.1056 - val_acc: 0.9771\n",
      "Epoch 5/200\n",
      "60000/60000 [==============================] - 100s 2ms/step - loss: 0.1467 - acc: 0.9571 - val_loss: 0.1647 - val_acc: 0.9685\n",
      "Epoch 6/200\n",
      "60000/60000 [==============================] - 100s 2ms/step - loss: 0.1279 - acc: 0.9628 - val_loss: 0.0808 - val_acc: 0.9820\n",
      "Epoch 7/200\n",
      "60000/60000 [==============================] - 100s 2ms/step - loss: 0.1158 - acc: 0.9664 - val_loss: 0.0763 - val_acc: 0.9841\n",
      "Epoch 8/200\n",
      "60000/60000 [==============================] - 101s 2ms/step - loss: 0.1097 - acc: 0.9691 - val_loss: 0.0759 - val_acc: 0.9835\n",
      "Epoch 9/200\n",
      "60000/60000 [==============================] - 101s 2ms/step - loss: 0.0992 - acc: 0.9712 - val_loss: 0.0615 - val_acc: 0.9866\n",
      "Epoch 10/200\n",
      "60000/60000 [==============================] - 100s 2ms/step - loss: 0.0955 - acc: 0.9723 - val_loss: 0.0790 - val_acc: 0.9845\n",
      "Epoch 11/200\n",
      "60000/60000 [==============================] - 100s 2ms/step - loss: 0.0884 - acc: 0.9748 - val_loss: 0.0747 - val_acc: 0.9851\n",
      "Epoch 12/200\n",
      "60000/60000 [==============================] - 100s 2ms/step - loss: 0.0839 - acc: 0.9759 - val_loss: 0.0722 - val_acc: 0.9845\n",
      "Epoch 13/200\n",
      "60000/60000 [==============================] - 100s 2ms/step - loss: 0.0803 - acc: 0.9766 - val_loss: 0.0731 - val_acc: 0.9849\n",
      "Epoch 14/200\n",
      "60000/60000 [==============================] - 100s 2ms/step - loss: 0.0760 - acc: 0.9782 - val_loss: 0.0564 - val_acc: 0.9876\n",
      "Epoch 15/200\n",
      "60000/60000 [==============================] - 100s 2ms/step - loss: 0.0746 - acc: 0.9782 - val_loss: 0.0523 - val_acc: 0.9892\n",
      "Epoch 16/200\n",
      "60000/60000 [==============================] - 100s 2ms/step - loss: 0.0701 - acc: 0.9799 - val_loss: 0.0498 - val_acc: 0.9907\n",
      "Epoch 17/200\n",
      "60000/60000 [==============================] - 100s 2ms/step - loss: 0.0678 - acc: 0.9805 - val_loss: 0.0526 - val_acc: 0.9906\n",
      "Epoch 18/200\n",
      "60000/60000 [==============================] - 100s 2ms/step - loss: 0.0651 - acc: 0.9809 - val_loss: 0.0461 - val_acc: 0.9909\n",
      "Epoch 19/200\n",
      "60000/60000 [==============================] - 100s 2ms/step - loss: 0.0630 - acc: 0.9817 - val_loss: 0.0472 - val_acc: 0.9908\n",
      "Epoch 20/200\n",
      "60000/60000 [==============================] - 100s 2ms/step - loss: 0.0633 - acc: 0.9816 - val_loss: 0.0423 - val_acc: 0.9915\n",
      "Epoch 21/200\n",
      "60000/60000 [==============================] - 100s 2ms/step - loss: 0.0594 - acc: 0.9832 - val_loss: 0.0582 - val_acc: 0.9898\n",
      "Epoch 22/200\n",
      "60000/60000 [==============================] - 100s 2ms/step - loss: 0.0557 - acc: 0.9831 - val_loss: 0.0460 - val_acc: 0.9904\n",
      "Epoch 23/200\n",
      "60000/60000 [==============================] - 101s 2ms/step - loss: 0.0546 - acc: 0.9842 - val_loss: 0.0453 - val_acc: 0.9905\n",
      "Epoch 24/200\n",
      "60000/60000 [==============================] - 101s 2ms/step - loss: 0.0548 - acc: 0.9841 - val_loss: 0.0399 - val_acc: 0.9913\n",
      "Epoch 25/200\n",
      "60000/60000 [==============================] - 100s 2ms/step - loss: 0.0507 - acc: 0.9853 - val_loss: 0.0424 - val_acc: 0.9919\n",
      "Epoch 26/200\n",
      "60000/60000 [==============================] - 101s 2ms/step - loss: 0.0517 - acc: 0.9849 - val_loss: 0.0449 - val_acc: 0.9921\n",
      "Epoch 27/200\n",
      "60000/60000 [==============================] - 100s 2ms/step - loss: 0.0507 - acc: 0.9853 - val_loss: 0.0420 - val_acc: 0.9923\n",
      "Epoch 28/200\n",
      "60000/60000 [==============================] - 101s 2ms/step - loss: 0.0486 - acc: 0.9864 - val_loss: 0.0452 - val_acc: 0.9914\n",
      "Epoch 29/200\n",
      "60000/60000 [==============================] - 100s 2ms/step - loss: 0.0487 - acc: 0.9862 - val_loss: 0.0418 - val_acc: 0.9904\n",
      "Epoch 30/200\n",
      "60000/60000 [==============================] - 101s 2ms/step - loss: 0.0471 - acc: 0.9860 - val_loss: 0.0347 - val_acc: 0.9929\n",
      "Epoch 31/200\n",
      "60000/60000 [==============================] - 101s 2ms/step - loss: 0.0460 - acc: 0.9867 - val_loss: 0.0408 - val_acc: 0.9917\n",
      "Epoch 32/200\n",
      "60000/60000 [==============================] - 101s 2ms/step - loss: 0.0453 - acc: 0.9864 - val_loss: 0.0387 - val_acc: 0.9909\n",
      "Epoch 33/200\n",
      "60000/60000 [==============================] - 100s 2ms/step - loss: 0.0450 - acc: 0.9863 - val_loss: 0.0390 - val_acc: 0.9915\n",
      "Epoch 34/200\n",
      "60000/60000 [==============================] - 100s 2ms/step - loss: 0.0430 - acc: 0.9874 - val_loss: 0.0353 - val_acc: 0.9922\n",
      "Epoch 35/200\n",
      "60000/60000 [==============================] - 100s 2ms/step - loss: 0.0427 - acc: 0.9881 - val_loss: 0.0346 - val_acc: 0.9926\n",
      "Epoch 36/200\n",
      "60000/60000 [==============================] - 100s 2ms/step - loss: 0.0413 - acc: 0.9877 - val_loss: 0.0328 - val_acc: 0.9927\n",
      "Epoch 37/200\n",
      "60000/60000 [==============================] - 100s 2ms/step - loss: 0.0388 - acc: 0.9887 - val_loss: 0.0378 - val_acc: 0.9923\n",
      "Epoch 38/200\n",
      "60000/60000 [==============================] - 99s 2ms/step - loss: 0.0408 - acc: 0.9886 - val_loss: 0.0397 - val_acc: 0.9920\n",
      "Epoch 39/200\n",
      "60000/60000 [==============================] - 100s 2ms/step - loss: 0.0396 - acc: 0.9879 - val_loss: 0.0532 - val_acc: 0.9891\n",
      "Epoch 40/200\n",
      "60000/60000 [==============================] - 99s 2ms/step - loss: 0.0409 - acc: 0.9886 - val_loss: 0.0434 - val_acc: 0.9916\n",
      "Epoch 41/200\n",
      "60000/60000 [==============================] - 100s 2ms/step - loss: 0.0376 - acc: 0.9892 - val_loss: 0.0314 - val_acc: 0.9925\n",
      "Epoch 42/200\n",
      "60000/60000 [==============================] - 100s 2ms/step - loss: 0.0367 - acc: 0.9895 - val_loss: 0.0317 - val_acc: 0.9929\n",
      "Epoch 43/200\n",
      "60000/60000 [==============================] - 100s 2ms/step - loss: 0.0396 - acc: 0.9884 - val_loss: 0.0411 - val_acc: 0.9924\n",
      "Epoch 44/200\n",
      "60000/60000 [==============================] - 99s 2ms/step - loss: 0.0381 - acc: 0.9889 - val_loss: 0.0341 - val_acc: 0.9916\n",
      "Epoch 45/200\n",
      "60000/60000 [==============================] - 99s 2ms/step - loss: 0.0361 - acc: 0.9892 - val_loss: 0.0317 - val_acc: 0.9921\n",
      "Epoch 46/200\n",
      "60000/60000 [==============================] - 100s 2ms/step - loss: 0.0349 - acc: 0.9895 - val_loss: 0.0318 - val_acc: 0.9930\n",
      "Epoch 47/200\n",
      "60000/60000 [==============================] - 100s 2ms/step - loss: 0.0339 - acc: 0.9897 - val_loss: 0.0327 - val_acc: 0.9927\n",
      "Epoch 48/200\n",
      "60000/60000 [==============================] - 100s 2ms/step - loss: 0.0332 - acc: 0.9904 - val_loss: 0.0300 - val_acc: 0.9927\n",
      "Epoch 49/200\n",
      "60000/60000 [==============================] - 100s 2ms/step - loss: 0.0336 - acc: 0.9899 - val_loss: 0.0347 - val_acc: 0.9929\n",
      "Epoch 50/200\n",
      "60000/60000 [==============================] - 99s 2ms/step - loss: 0.0329 - acc: 0.9906 - val_loss: 0.0427 - val_acc: 0.9901\n",
      "Epoch 51/200\n",
      "60000/60000 [==============================] - 99s 2ms/step - loss: 0.0326 - acc: 0.9907 - val_loss: 0.0290 - val_acc: 0.9931\n",
      "Epoch 52/200\n",
      "60000/60000 [==============================] - 99s 2ms/step - loss: 0.0321 - acc: 0.9905 - val_loss: 0.0314 - val_acc: 0.9932\n",
      "Epoch 53/200\n",
      "60000/60000 [==============================] - 100s 2ms/step - loss: 0.0324 - acc: 0.9904 - val_loss: 0.0378 - val_acc: 0.9910\n",
      "Epoch 54/200\n",
      "60000/60000 [==============================] - 100s 2ms/step - loss: 0.0312 - acc: 0.9908 - val_loss: 0.0285 - val_acc: 0.9930\n",
      "Epoch 55/200\n",
      "60000/60000 [==============================] - 100s 2ms/step - loss: 0.0304 - acc: 0.9912 - val_loss: 0.0287 - val_acc: 0.9929\n",
      "Epoch 56/200\n",
      "60000/60000 [==============================] - 100s 2ms/step - loss: 0.0305 - acc: 0.9910 - val_loss: 0.0312 - val_acc: 0.9931\n",
      "Epoch 57/200\n",
      "60000/60000 [==============================] - 100s 2ms/step - loss: 0.0315 - acc: 0.9906 - val_loss: 0.0326 - val_acc: 0.9930\n",
      "Epoch 58/200\n",
      "60000/60000 [==============================] - 99s 2ms/step - loss: 0.0306 - acc: 0.9908 - val_loss: 0.0262 - val_acc: 0.9930\n",
      "Epoch 59/200\n"
     ]
    },
    {
     "name": "stdout",
     "output_type": "stream",
     "text": [
      "60000/60000 [==============================] - 101s 2ms/step - loss: 0.0293 - acc: 0.9912 - val_loss: 0.0323 - val_acc: 0.9920\n",
      "Epoch 60/200\n",
      "60000/60000 [==============================] - 99s 2ms/step - loss: 0.0299 - acc: 0.9909 - val_loss: 0.0321 - val_acc: 0.9921\n",
      "Epoch 61/200\n",
      "60000/60000 [==============================] - 100s 2ms/step - loss: 0.0281 - acc: 0.9914 - val_loss: 0.0292 - val_acc: 0.9930\n",
      "Epoch 62/200\n",
      "60000/60000 [==============================] - 100s 2ms/step - loss: 0.0296 - acc: 0.9915 - val_loss: 0.0293 - val_acc: 0.9925\n",
      "Epoch 63/200\n",
      "60000/60000 [==============================] - 100s 2ms/step - loss: 0.0270 - acc: 0.9916 - val_loss: 0.0304 - val_acc: 0.9923\n",
      "Epoch 64/200\n",
      "60000/60000 [==============================] - 100s 2ms/step - loss: 0.0259 - acc: 0.9925 - val_loss: 0.0274 - val_acc: 0.9932\n",
      "Epoch 65/200\n",
      "60000/60000 [==============================] - 100s 2ms/step - loss: 0.0273 - acc: 0.9915 - val_loss: 0.0315 - val_acc: 0.9927\n",
      "Epoch 66/200\n",
      "60000/60000 [==============================] - 101s 2ms/step - loss: 0.0254 - acc: 0.9920 - val_loss: 0.0351 - val_acc: 0.9928\n",
      "Epoch 67/200\n",
      "60000/60000 [==============================] - 100s 2ms/step - loss: 0.0258 - acc: 0.9922 - val_loss: 0.0306 - val_acc: 0.9917\n",
      "Epoch 68/200\n",
      "60000/60000 [==============================] - 100s 2ms/step - loss: 0.0250 - acc: 0.9925 - val_loss: 0.0272 - val_acc: 0.9933\n",
      "Epoch 69/200\n",
      "60000/60000 [==============================] - 101s 2ms/step - loss: 0.0275 - acc: 0.9913 - val_loss: 0.0271 - val_acc: 0.9930\n",
      "Epoch 70/200\n",
      "60000/60000 [==============================] - 101s 2ms/step - loss: 0.0245 - acc: 0.9922 - val_loss: 0.0286 - val_acc: 0.9923\n",
      "Epoch 71/200\n",
      "60000/60000 [==============================] - 101s 2ms/step - loss: 0.0250 - acc: 0.9920 - val_loss: 0.0283 - val_acc: 0.9932\n",
      "Epoch 72/200\n",
      "60000/60000 [==============================] - 101s 2ms/step - loss: 0.0252 - acc: 0.9925 - val_loss: 0.0275 - val_acc: 0.9928\n",
      "Epoch 73/200\n",
      "60000/60000 [==============================] - 101s 2ms/step - loss: 0.0260 - acc: 0.9922 - val_loss: 0.0266 - val_acc: 0.9929\n",
      "Epoch 74/200\n",
      "60000/60000 [==============================] - 101s 2ms/step - loss: 0.0249 - acc: 0.9927 - val_loss: 0.0276 - val_acc: 0.9929\n",
      "Epoch 75/200\n",
      "60000/60000 [==============================] - 100s 2ms/step - loss: 0.0240 - acc: 0.9929 - val_loss: 0.0297 - val_acc: 0.9927\n",
      "Epoch 76/200\n",
      "60000/60000 [==============================] - 100s 2ms/step - loss: 0.0234 - acc: 0.9929 - val_loss: 0.0248 - val_acc: 0.9936\n",
      "Epoch 77/200\n",
      "60000/60000 [==============================] - 100s 2ms/step - loss: 0.0236 - acc: 0.9929 - val_loss: 0.0280 - val_acc: 0.9934\n",
      "Epoch 78/200\n",
      "60000/60000 [==============================] - 100s 2ms/step - loss: 0.0226 - acc: 0.9935 - val_loss: 0.0277 - val_acc: 0.9926\n",
      "Epoch 79/200\n",
      "60000/60000 [==============================] - 99s 2ms/step - loss: 0.0217 - acc: 0.9930 - val_loss: 0.0258 - val_acc: 0.9932\n",
      "Epoch 80/200\n",
      "60000/60000 [==============================] - 100s 2ms/step - loss: 0.0215 - acc: 0.9932 - val_loss: 0.0272 - val_acc: 0.9929\n",
      "Epoch 81/200\n",
      "60000/60000 [==============================] - 101s 2ms/step - loss: 0.0256 - acc: 0.9923 - val_loss: 0.0291 - val_acc: 0.9925\n",
      "Epoch 82/200\n",
      "60000/60000 [==============================] - 100s 2ms/step - loss: 0.0220 - acc: 0.9934 - val_loss: 0.0248 - val_acc: 0.9932\n",
      "Epoch 83/200\n",
      "60000/60000 [==============================] - 101s 2ms/step - loss: 0.0237 - acc: 0.9931 - val_loss: 0.0285 - val_acc: 0.9935\n",
      "Epoch 84/200\n",
      "60000/60000 [==============================] - 100s 2ms/step - loss: 0.0220 - acc: 0.9932 - val_loss: 0.0286 - val_acc: 0.9932\n",
      "Epoch 85/200\n",
      "60000/60000 [==============================] - 100s 2ms/step - loss: 0.0220 - acc: 0.9933 - val_loss: 0.0238 - val_acc: 0.9936\n",
      "Epoch 86/200\n",
      "60000/60000 [==============================] - 99s 2ms/step - loss: 0.0214 - acc: 0.9936 - val_loss: 0.0276 - val_acc: 0.9931\n",
      "Epoch 87/200\n",
      "60000/60000 [==============================] - 100s 2ms/step - loss: 0.0212 - acc: 0.9933 - val_loss: 0.0268 - val_acc: 0.9930\n",
      "Epoch 88/200\n",
      "60000/60000 [==============================] - 100s 2ms/step - loss: 0.0219 - acc: 0.9931 - val_loss: 0.0296 - val_acc: 0.9926\n",
      "Epoch 89/200\n",
      "60000/60000 [==============================] - 100s 2ms/step - loss: 0.0228 - acc: 0.9935 - val_loss: 0.0272 - val_acc: 0.9929\n",
      "Epoch 90/200\n",
      "60000/60000 [==============================] - 99s 2ms/step - loss: 0.0206 - acc: 0.9939 - val_loss: 0.0264 - val_acc: 0.9940\n",
      "Epoch 91/200\n",
      "60000/60000 [==============================] - 99s 2ms/step - loss: 0.0224 - acc: 0.9934 - val_loss: 0.0254 - val_acc: 0.9935\n",
      "Epoch 92/200\n",
      "60000/60000 [==============================] - 98s 2ms/step - loss: 0.0179 - acc: 0.9944 - val_loss: 0.0273 - val_acc: 0.9924\n",
      "Epoch 93/200\n",
      "60000/60000 [==============================] - 99s 2ms/step - loss: 0.0214 - acc: 0.9934 - val_loss: 0.0270 - val_acc: 0.9930\n",
      "Epoch 94/200\n",
      "60000/60000 [==============================] - 100s 2ms/step - loss: 0.0181 - acc: 0.9944 - val_loss: 0.0246 - val_acc: 0.9925\n",
      "Epoch 95/200\n",
      "60000/60000 [==============================] - 100s 2ms/step - loss: 0.0199 - acc: 0.9937 - val_loss: 0.0243 - val_acc: 0.9934\n",
      "Epoch 96/200\n",
      "60000/60000 [==============================] - 100s 2ms/step - loss: 0.0191 - acc: 0.9943 - val_loss: 0.0243 - val_acc: 0.9935\n",
      "Epoch 97/200\n",
      "60000/60000 [==============================] - 100s 2ms/step - loss: 0.0180 - acc: 0.9945 - val_loss: 0.0262 - val_acc: 0.9925\n",
      "Epoch 98/200\n",
      "60000/60000 [==============================] - 101s 2ms/step - loss: 0.0203 - acc: 0.9939 - val_loss: 0.0252 - val_acc: 0.9935\n",
      "Epoch 99/200\n",
      "60000/60000 [==============================] - 101s 2ms/step - loss: 0.0179 - acc: 0.9947 - val_loss: 0.0246 - val_acc: 0.9924\n",
      "Epoch 100/200\n",
      "60000/60000 [==============================] - 100s 2ms/step - loss: 0.0200 - acc: 0.9940 - val_loss: 0.0240 - val_acc: 0.9939\n",
      "Epoch 101/200\n",
      "60000/60000 [==============================] - 101s 2ms/step - loss: 0.0203 - acc: 0.9940 - val_loss: 0.0299 - val_acc: 0.9923\n",
      "Epoch 102/200\n",
      "60000/60000 [==============================] - 100s 2ms/step - loss: 0.0176 - acc: 0.9946 - val_loss: 0.0264 - val_acc: 0.9922\n",
      "Epoch 103/200\n",
      "60000/60000 [==============================] - 100s 2ms/step - loss: 0.0183 - acc: 0.9944 - val_loss: 0.0231 - val_acc: 0.9939\n",
      "Epoch 104/200\n",
      "60000/60000 [==============================] - 101s 2ms/step - loss: 0.0175 - acc: 0.9945 - val_loss: 0.0226 - val_acc: 0.9935\n",
      "Epoch 105/200\n",
      "60000/60000 [==============================] - 100s 2ms/step - loss: 0.0183 - acc: 0.9945 - val_loss: 0.0249 - val_acc: 0.9928\n",
      "Epoch 106/200\n",
      "60000/60000 [==============================] - 101s 2ms/step - loss: 0.0165 - acc: 0.9948 - val_loss: 0.0239 - val_acc: 0.9936\n",
      "Epoch 107/200\n",
      "60000/60000 [==============================] - 100s 2ms/step - loss: 0.0170 - acc: 0.9951 - val_loss: 0.0277 - val_acc: 0.9926\n",
      "Epoch 108/200\n",
      "60000/60000 [==============================] - 100s 2ms/step - loss: 0.0177 - acc: 0.9947 - val_loss: 0.0241 - val_acc: 0.9932\n",
      "Epoch 109/200\n",
      "60000/60000 [==============================] - 101s 2ms/step - loss: 0.0163 - acc: 0.9948 - val_loss: 0.0230 - val_acc: 0.9939\n",
      "Epoch 110/200\n",
      "60000/60000 [==============================] - 100s 2ms/step - loss: 0.0179 - acc: 0.9945 - val_loss: 0.0234 - val_acc: 0.9937\n",
      "Epoch 111/200\n",
      "60000/60000 [==============================] - 100s 2ms/step - loss: 0.0179 - acc: 0.9947 - val_loss: 0.0262 - val_acc: 0.9934\n",
      "Epoch 112/200\n",
      "60000/60000 [==============================] - 101s 2ms/step - loss: 0.0165 - acc: 0.9946 - val_loss: 0.0220 - val_acc: 0.9939\n",
      "Epoch 113/200\n",
      "60000/60000 [==============================] - 101s 2ms/step - loss: 0.0173 - acc: 0.9945 - val_loss: 0.0331 - val_acc: 0.9908\n",
      "Epoch 114/200\n",
      "60000/60000 [==============================] - 101s 2ms/step - loss: 0.0167 - acc: 0.9949 - val_loss: 0.0225 - val_acc: 0.9936\n",
      "Epoch 115/200\n",
      "60000/60000 [==============================] - 100s 2ms/step - loss: 0.0175 - acc: 0.9947 - val_loss: 0.0261 - val_acc: 0.9928\n",
      "Epoch 116/200\n",
      "60000/60000 [==============================] - 101s 2ms/step - loss: 0.0170 - acc: 0.9948 - val_loss: 0.0237 - val_acc: 0.9939\n",
      "Epoch 117/200\n"
     ]
    },
    {
     "name": "stdout",
     "output_type": "stream",
     "text": [
      "60000/60000 [==============================] - 101s 2ms/step - loss: 0.0153 - acc: 0.9951 - val_loss: 0.0215 - val_acc: 0.9939\n",
      "Epoch 118/200\n",
      "60000/60000 [==============================] - 101s 2ms/step - loss: 0.0183 - acc: 0.9947 - val_loss: 0.0244 - val_acc: 0.9933\n",
      "Epoch 119/200\n",
      "60000/60000 [==============================] - 101s 2ms/step - loss: 0.0179 - acc: 0.9945 - val_loss: 0.0223 - val_acc: 0.9938\n",
      "Epoch 120/200\n",
      "60000/60000 [==============================] - 100s 2ms/step - loss: 0.0157 - acc: 0.9954 - val_loss: 0.0231 - val_acc: 0.9937\n",
      "Epoch 121/200\n",
      "60000/60000 [==============================] - 100s 2ms/step - loss: 0.0164 - acc: 0.9951 - val_loss: 0.0253 - val_acc: 0.9928\n",
      "Epoch 122/200\n",
      "60000/60000 [==============================] - 100s 2ms/step - loss: 0.0149 - acc: 0.9954 - val_loss: 0.0220 - val_acc: 0.9932\n",
      "Epoch 123/200\n",
      "60000/60000 [==============================] - 100s 2ms/step - loss: 0.0152 - acc: 0.9953 - val_loss: 0.0212 - val_acc: 0.9937\n",
      "Epoch 124/200\n",
      "60000/60000 [==============================] - 100s 2ms/step - loss: 0.0146 - acc: 0.9957 - val_loss: 0.0239 - val_acc: 0.9935\n",
      "Epoch 125/200\n",
      "60000/60000 [==============================] - 101s 2ms/step - loss: 0.0159 - acc: 0.9954 - val_loss: 0.0221 - val_acc: 0.9945\n",
      "Epoch 126/200\n",
      "60000/60000 [==============================] - 100s 2ms/step - loss: 0.0134 - acc: 0.9959 - val_loss: 0.0247 - val_acc: 0.9936\n",
      "Epoch 127/200\n",
      "60000/60000 [==============================] - 100s 2ms/step - loss: 0.0148 - acc: 0.9955 - val_loss: 0.0225 - val_acc: 0.9937\n",
      "Epoch 128/200\n",
      "60000/60000 [==============================] - 100s 2ms/step - loss: 0.0156 - acc: 0.9953 - val_loss: 0.0233 - val_acc: 0.9928\n",
      "Epoch 129/200\n",
      "60000/60000 [==============================] - 100s 2ms/step - loss: 0.0157 - acc: 0.9952 - val_loss: 0.0217 - val_acc: 0.9937\n",
      "Epoch 130/200\n",
      "60000/60000 [==============================] - 100s 2ms/step - loss: 0.0148 - acc: 0.9955 - val_loss: 0.0229 - val_acc: 0.9934\n",
      "Epoch 131/200\n",
      "60000/60000 [==============================] - 100s 2ms/step - loss: 0.0141 - acc: 0.9957 - val_loss: 0.0243 - val_acc: 0.9924\n",
      "Epoch 132/200\n",
      "60000/60000 [==============================] - 100s 2ms/step - loss: 0.0144 - acc: 0.9951 - val_loss: 0.0249 - val_acc: 0.9923\n",
      "Epoch 133/200\n",
      "60000/60000 [==============================] - 100s 2ms/step - loss: 0.0145 - acc: 0.9955 - val_loss: 0.0233 - val_acc: 0.9930\n",
      "Epoch 134/200\n",
      "60000/60000 [==============================] - 100s 2ms/step - loss: 0.0147 - acc: 0.9956 - val_loss: 0.0231 - val_acc: 0.9931\n",
      "Epoch 135/200\n",
      "60000/60000 [==============================] - 99s 2ms/step - loss: 0.0154 - acc: 0.9956 - val_loss: 0.0218 - val_acc: 0.9938\n",
      "Epoch 136/200\n",
      "60000/60000 [==============================] - 100s 2ms/step - loss: 0.0146 - acc: 0.9953 - val_loss: 0.0241 - val_acc: 0.9929\n",
      "Epoch 137/200\n",
      "60000/60000 [==============================] - 100s 2ms/step - loss: 0.0142 - acc: 0.9956 - val_loss: 0.0224 - val_acc: 0.9941\n",
      "Epoch 138/200\n",
      "60000/60000 [==============================] - 100s 2ms/step - loss: 0.0152 - acc: 0.9954 - val_loss: 0.0234 - val_acc: 0.9939\n",
      "Epoch 139/200\n",
      "60000/60000 [==============================] - 100s 2ms/step - loss: 0.0137 - acc: 0.9957 - val_loss: 0.0221 - val_acc: 0.9937\n",
      "Epoch 140/200\n",
      "60000/60000 [==============================] - 100s 2ms/step - loss: 0.0121 - acc: 0.9961 - val_loss: 0.0210 - val_acc: 0.9944\n",
      "Epoch 141/200\n",
      "60000/60000 [==============================] - 100s 2ms/step - loss: 0.0169 - acc: 0.9950 - val_loss: 0.0250 - val_acc: 0.9935\n",
      "Epoch 142/200\n",
      "60000/60000 [==============================] - 100s 2ms/step - loss: 0.0136 - acc: 0.9962 - val_loss: 0.0222 - val_acc: 0.9939\n",
      "Epoch 143/200\n",
      "60000/60000 [==============================] - 101s 2ms/step - loss: 0.0129 - acc: 0.9960 - val_loss: 0.0241 - val_acc: 0.9932\n",
      "Epoch 144/200\n",
      "60000/60000 [==============================] - 100s 2ms/step - loss: 0.0134 - acc: 0.9961 - val_loss: 0.0241 - val_acc: 0.9924\n",
      "Epoch 145/200\n",
      "60000/60000 [==============================] - 100s 2ms/step - loss: 0.0148 - acc: 0.9953 - val_loss: 0.0243 - val_acc: 0.9937\n",
      "Epoch 146/200\n",
      "60000/60000 [==============================] - 97s 2ms/step - loss: 0.0124 - acc: 0.9964 - val_loss: 0.0219 - val_acc: 0.9938\n",
      "Epoch 147/200\n",
      "60000/60000 [==============================] - 98s 2ms/step - loss: 0.0129 - acc: 0.9960 - val_loss: 0.0215 - val_acc: 0.9943\n",
      "Epoch 148/200\n",
      "60000/60000 [==============================] - 98s 2ms/step - loss: 0.0130 - acc: 0.9961 - val_loss: 0.0237 - val_acc: 0.9930\n",
      "Epoch 149/200\n",
      "60000/60000 [==============================] - 99s 2ms/step - loss: 0.0115 - acc: 0.9968 - val_loss: 0.0202 - val_acc: 0.9935\n",
      "Epoch 150/200\n",
      "60000/60000 [==============================] - 100s 2ms/step - loss: 0.0125 - acc: 0.9960 - val_loss: 0.0197 - val_acc: 0.9946\n",
      "Epoch 151/200\n",
      "60000/60000 [==============================] - 100s 2ms/step - loss: 0.0127 - acc: 0.9961 - val_loss: 0.0225 - val_acc: 0.9936\n",
      "Epoch 152/200\n",
      "60000/60000 [==============================] - 100s 2ms/step - loss: 0.0147 - acc: 0.9954 - val_loss: 0.0236 - val_acc: 0.9935\n",
      "Epoch 153/200\n",
      "60000/60000 [==============================] - 99s 2ms/step - loss: 0.0134 - acc: 0.9960 - val_loss: 0.0214 - val_acc: 0.9940\n",
      "Epoch 154/200\n",
      "60000/60000 [==============================] - 100s 2ms/step - loss: 0.0127 - acc: 0.9961 - val_loss: 0.0221 - val_acc: 0.9944\n",
      "Epoch 155/200\n",
      "60000/60000 [==============================] - 102s 2ms/step - loss: 0.0114 - acc: 0.9965 - val_loss: 0.0208 - val_acc: 0.9940\n",
      "Epoch 156/200\n",
      "60000/60000 [==============================] - 100s 2ms/step - loss: 0.0135 - acc: 0.9961 - val_loss: 0.0227 - val_acc: 0.9938\n",
      "Epoch 157/200\n",
      "60000/60000 [==============================] - 100s 2ms/step - loss: 0.0125 - acc: 0.9962 - val_loss: 0.0224 - val_acc: 0.9939\n",
      "Epoch 158/200\n",
      "60000/60000 [==============================] - 99s 2ms/step - loss: 0.0104 - acc: 0.9967 - val_loss: 0.0207 - val_acc: 0.9942\n",
      "Epoch 159/200\n",
      "60000/60000 [==============================] - 97s 2ms/step - loss: 0.0115 - acc: 0.9965 - val_loss: 0.0233 - val_acc: 0.9928\n",
      "Epoch 160/200\n",
      "60000/60000 [==============================] - 99s 2ms/step - loss: 0.0124 - acc: 0.9962 - val_loss: 0.0268 - val_acc: 0.9919\n",
      "Epoch 161/200\n",
      "60000/60000 [==============================] - 100s 2ms/step - loss: 0.0111 - acc: 0.9966 - val_loss: 0.0215 - val_acc: 0.9936\n",
      "Epoch 162/200\n",
      "60000/60000 [==============================] - 100s 2ms/step - loss: 0.0115 - acc: 0.9966 - val_loss: 0.0220 - val_acc: 0.9934\n",
      "Epoch 163/200\n",
      "60000/60000 [==============================] - 100s 2ms/step - loss: 0.0113 - acc: 0.9966 - val_loss: 0.0245 - val_acc: 0.9932\n",
      "Epoch 164/200\n",
      "60000/60000 [==============================] - 101s 2ms/step - loss: 0.0124 - acc: 0.9960 - val_loss: 0.0288 - val_acc: 0.9920\n",
      "Epoch 165/200\n",
      "60000/60000 [==============================] - 101s 2ms/step - loss: 0.0123 - acc: 0.9962 - val_loss: 0.0220 - val_acc: 0.9940\n",
      "Epoch 166/200\n",
      "60000/60000 [==============================] - 100s 2ms/step - loss: 0.0106 - acc: 0.9967 - val_loss: 0.0226 - val_acc: 0.9930\n",
      "Epoch 167/200\n",
      "60000/60000 [==============================] - 99s 2ms/step - loss: 0.0123 - acc: 0.9963 - val_loss: 0.0226 - val_acc: 0.9937\n",
      "Epoch 168/200\n",
      "60000/60000 [==============================] - 100s 2ms/step - loss: 0.0129 - acc: 0.9961 - val_loss: 0.0205 - val_acc: 0.9940\n",
      "Epoch 169/200\n",
      "60000/60000 [==============================] - 100s 2ms/step - loss: 0.0110 - acc: 0.9966 - val_loss: 0.0227 - val_acc: 0.9935\n",
      "Epoch 170/200\n",
      "60000/60000 [==============================] - 100s 2ms/step - loss: 0.0116 - acc: 0.9967 - val_loss: 0.0230 - val_acc: 0.9932\n",
      "Epoch 171/200\n",
      "60000/60000 [==============================] - 102s 2ms/step - loss: 0.0109 - acc: 0.9965 - val_loss: 0.0233 - val_acc: 0.9936\n",
      "Epoch 172/200\n",
      "60000/60000 [==============================] - 100s 2ms/step - loss: 0.0108 - acc: 0.9963 - val_loss: 0.0239 - val_acc: 0.9930\n",
      "Epoch 173/200\n",
      "60000/60000 [==============================] - 100s 2ms/step - loss: 0.0128 - acc: 0.9960 - val_loss: 0.0290 - val_acc: 0.9921\n",
      "Epoch 174/200\n",
      "60000/60000 [==============================] - 101s 2ms/step - loss: 0.0111 - acc: 0.9965 - val_loss: 0.0223 - val_acc: 0.9935\n",
      "Epoch 175/200\n"
     ]
    },
    {
     "name": "stdout",
     "output_type": "stream",
     "text": [
      "60000/60000 [==============================] - 100s 2ms/step - loss: 0.0106 - acc: 0.9967 - val_loss: 0.0208 - val_acc: 0.9939\n",
      "Epoch 176/200\n",
      "60000/60000 [==============================] - 98s 2ms/step - loss: 0.0107 - acc: 0.9967 - val_loss: 0.0213 - val_acc: 0.9941\n",
      "Epoch 177/200\n",
      "60000/60000 [==============================] - 102s 2ms/step - loss: 0.0100 - acc: 0.9970 - val_loss: 0.0205 - val_acc: 0.9943\n",
      "Epoch 178/200\n",
      "60000/60000 [==============================] - 101s 2ms/step - loss: 0.0109 - acc: 0.9966 - val_loss: 0.0215 - val_acc: 0.9934\n",
      "Epoch 179/200\n",
      "60000/60000 [==============================] - 102s 2ms/step - loss: 0.0108 - acc: 0.9964 - val_loss: 0.0222 - val_acc: 0.9935\n",
      "Epoch 180/200\n",
      "60000/60000 [==============================] - 101s 2ms/step - loss: 0.0114 - acc: 0.9966 - val_loss: 0.0216 - val_acc: 0.9935\n",
      "Epoch 181/200\n",
      "60000/60000 [==============================] - 101s 2ms/step - loss: 0.0110 - acc: 0.9963 - val_loss: 0.0254 - val_acc: 0.9926\n",
      "Epoch 182/200\n",
      "60000/60000 [==============================] - 101s 2ms/step - loss: 0.0114 - acc: 0.9966 - val_loss: 0.0216 - val_acc: 0.9935\n",
      "Epoch 183/200\n",
      "60000/60000 [==============================] - 100s 2ms/step - loss: 0.0104 - acc: 0.9968 - val_loss: 0.0221 - val_acc: 0.9931\n",
      "Epoch 184/200\n",
      "60000/60000 [==============================] - 100s 2ms/step - loss: 0.0102 - acc: 0.9967 - val_loss: 0.0205 - val_acc: 0.9938\n",
      "Epoch 185/200\n",
      "60000/60000 [==============================] - 101s 2ms/step - loss: 0.0102 - acc: 0.9969 - val_loss: 0.0215 - val_acc: 0.9932\n",
      "Epoch 186/200\n",
      "60000/60000 [==============================] - 98s 2ms/step - loss: 0.0099 - acc: 0.9968 - val_loss: 0.0214 - val_acc: 0.9934\n",
      "Epoch 187/200\n",
      "60000/60000 [==============================] - 99s 2ms/step - loss: 0.0110 - acc: 0.9965 - val_loss: 0.0204 - val_acc: 0.9937\n",
      "Epoch 188/200\n",
      "60000/60000 [==============================] - 98s 2ms/step - loss: 0.0130 - acc: 0.9962 - val_loss: 0.0228 - val_acc: 0.9933\n",
      "Epoch 189/200\n",
      "60000/60000 [==============================] - 100s 2ms/step - loss: 0.0106 - acc: 0.9970 - val_loss: 0.0227 - val_acc: 0.9929\n",
      "Epoch 190/200\n",
      "60000/60000 [==============================] - 98s 2ms/step - loss: 0.0092 - acc: 0.9973 - val_loss: 0.0217 - val_acc: 0.9941\n",
      "Epoch 191/200\n",
      "60000/60000 [==============================] - 101s 2ms/step - loss: 0.0119 - acc: 0.9963 - val_loss: 0.0209 - val_acc: 0.9942\n",
      "Epoch 192/200\n",
      "60000/60000 [==============================] - 100s 2ms/step - loss: 0.0098 - acc: 0.9969 - val_loss: 0.0239 - val_acc: 0.9928\n",
      "Epoch 193/200\n",
      "60000/60000 [==============================] - 100s 2ms/step - loss: 0.0094 - acc: 0.9970 - val_loss: 0.0223 - val_acc: 0.9933\n",
      "Epoch 194/200\n",
      "60000/60000 [==============================] - 99s 2ms/step - loss: 0.0096 - acc: 0.9971 - val_loss: 0.0207 - val_acc: 0.9937\n",
      "Epoch 195/200\n",
      "60000/60000 [==============================] - 98s 2ms/step - loss: 0.0108 - acc: 0.9966 - val_loss: 0.0225 - val_acc: 0.9929\n",
      "Epoch 196/200\n",
      "60000/60000 [==============================] - 100s 2ms/step - loss: 0.0103 - acc: 0.9967 - val_loss: 0.0216 - val_acc: 0.9934\n",
      "Epoch 197/200\n",
      "60000/60000 [==============================] - 99s 2ms/step - loss: 0.0104 - acc: 0.9970 - val_loss: 0.0221 - val_acc: 0.9932\n",
      "Epoch 198/200\n",
      "60000/60000 [==============================] - 99s 2ms/step - loss: 0.0094 - acc: 0.9970 - val_loss: 0.0259 - val_acc: 0.9930\n",
      "Epoch 199/200\n",
      "60000/60000 [==============================] - 100s 2ms/step - loss: 0.0102 - acc: 0.9969 - val_loss: 0.0248 - val_acc: 0.9927\n",
      "Epoch 200/200\n",
      "60000/60000 [==============================] - 99s 2ms/step - loss: 0.0109 - acc: 0.9966 - val_loss: 0.0209 - val_acc: 0.9935\n"
     ]
    }
   ],
   "source": [
    "\n",
    "# Train the Model\n",
    "#earlyStopping=keras.callbacks.EarlyStopping(monitor='val_acc', min_delta=0, patience=13, verbose=1, mode='auto')\n",
    "history = model.fit(x_train, y_train,\n",
    "                    batch_size=batch_size,\n",
    "                    epochs=epochs,\n",
    "                    verbose=1,\n",
    "#                    callbacks=[earlyStopping],\n",
    "                    validation_data=(x_test, y_test))\n",
    "\n"
   ]
  },
  {
   "cell_type": "code",
   "execution_count": null,
   "metadata": {
    "collapsed": true
   },
   "outputs": [],
   "source": []
  },
  {
   "cell_type": "code",
   "execution_count": 11,
   "metadata": {},
   "outputs": [
    {
     "data": {
      "image/png": "[encoded data removed]",
      "text/plain": [
       "<matplotlib.figure.Figure at 0x7f81b76f85c0>"
      ]
     },
     "metadata": {},
     "output_type": "display_data"
    }
   ],
   "source": [
    "plt.plot(history.history['acc'])\n",
    "plt.plot(history.history['val_acc'])\n",
    "plt.title('model accuracy')\n",
    "plt.ylabel('accuracy')\n",
    "plt.xlabel('epoch')\n",
    "plt.legend(['train acc','val acc'], loc='upper left')\n",
    "plt.show()"
   ]
  },
  {
   "cell_type": "code",
   "execution_count": 12,
   "metadata": {},
   "outputs": [
    {
     "data": {
      "image/png": "[encoded data removed]",
      "text/plain": [
       "<matplotlib.figure.Figure at 0x7f81b4472550>"
      ]
     },
     "metadata": {},
     "output_type": "display_data"
    }
   ],
   "source": [
    "plt.plot(history.history['loss'])\n",
    "plt.plot(history.history['val_loss'])\n",
    "plt.title('model loss')\n",
    "plt.ylabel('loss')\n",
    "plt.xlabel('epoch')\n",
    "plt.legend(['train loss','Val Loss'], loc='upper left')\n",
    "plt.show()"
   ]
  },
  {
   "cell_type": "code",
   "execution_count": 13,
   "metadata": {},
   "outputs": [
    {
     "name": "stdout",
     "output_type": "stream",
     "text": [
      "Test loss: 0.020924600178\n",
      "Test accuracy: 0.9935\n"
     ]
    }
   ],
   "source": [
    "# Test the model\n",
    "score = model.evaluate(x_test, y_test, verbose=0)\n",
    "print('Test loss:', score[0])\n",
    "print('Test accuracy:', score[1])"
   ]
  },
  {
   "cell_type": "code",
   "execution_count": null,
   "metadata": {
    "collapsed": true
   },
   "outputs": [],
   "source": []
  },
  {
   "cell_type": "code",
   "execution_count": null,
   "metadata": {
    "collapsed": true
   },
   "outputs": [],
   "source": []
  },
  {
   "cell_type": "code",
   "execution_count": 14,
   "metadata": {},
   "outputs": [
    {
     "name": "stdout",
     "output_type": "stream",
     "text": [
      "{'val_loss': [0.50174464502334593, 0.18071965031623841, 0.12497882691025734, 0.10556106217503548, 0.16470163841247559, 0.080847257126867772, 0.076259505516290668, 0.075876217073202135, 0.061502750273048877, 0.078978660917282104, 0.074748550045490261, 0.072216487932205198, 0.073085328543186182, 0.056354746977239849, 0.05227510609328747, 0.049849504834413527, 0.052635007171332834, 0.04607348812445998, 0.047236074259877206, 0.042258942720293999, 0.058157702922821047, 0.046036343470215797, 0.045270083647966385, 0.03993674049898982, 0.042400337394326928, 0.044863670816272495, 0.041980873441696168, 0.045207618126273157, 0.041758849067986013, 0.034730917849950492, 0.040770934121310713, 0.038665981622040269, 0.039040028953552249, 0.035291366613656283, 0.034562231995165345, 0.032788333548605442, 0.037777480264753104, 0.039719711498171092, 0.05318047375231981, 0.043378429178893563, 0.031352409524843097, 0.031663887315616014, 0.041090355060994628, 0.03409420510344207, 0.031708580187894402, 0.031778422153741125, 0.03268906397558749, 0.030023500063456596, 0.03473746858239174, 0.042652686723694204, 0.029026513524726034, 0.031373137042857706, 0.037790154672786597, 0.028470866286940871, 0.028674195230193437, 0.031196657073311509, 0.032634097847156228, 0.026226194800715894, 0.032344538665004072, 0.032138730165921149, 0.029159681940823794, 0.029251681919209658, 0.030418841397017241, 0.027362148754205555, 0.031479364622756842, 0.035144117650762204, 0.030565467249229549, 0.02716455239970237, 0.02707337090903893, 0.028631041127443312, 0.028256604833016171, 0.027493630367983132, 0.026555024507082997, 0.027602108491864057, 0.029744269177317619, 0.02477942188922316, 0.027974928040616215, 0.027674991038627923, 0.025753061855351551, 0.027179505223967136, 0.029097599329240619, 0.024755800439836457, 0.028455293439794332, 0.028587781324796377, 0.023837134898127988, 0.027630139749031515, 0.026775043234974146, 0.029639780951570719, 0.027224874073453247, 0.026443330179527401, 0.025367702002637087, 0.027275269326940178, 0.027019776999112219, 0.024604867068515158, 0.024311279240762814, 0.024318699278868736, 0.026231416189717128, 0.025186853909282946, 0.024553867728775366, 0.024048817331762985, 0.029948291701637209, 0.026438573641562834, 0.023122690804698504, 0.022557187040662393, 0.024930268181930296, 0.023885004047630356, 0.027670344475237654, 0.024108058893727139, 0.023049669321626425, 0.023428015778400004, 0.02619515063688159, 0.022041978633822873, 0.033072806217521428, 0.022460337219107895, 0.026146854676678776, 0.023743479884043336, 0.021451955320918932, 0.024353833719296381, 0.022320989878242836, 0.023082368561066689, 0.025314496681001036, 0.021996752977836879, 0.021241736113769002, 0.023928770669526419, 0.022077940820902586, 0.024695165755925699, 0.022508826633729041, 0.023302477133087814, 0.021692946884781121, 0.022943256473913789, 0.02431600336721167, 0.024864926784904675, 0.023258712087501771, 0.023107428306224757, 0.02175956664122641, 0.024081302486523053, 0.022355534436949528, 0.023407804762828163, 0.022057056174287572, 0.020962847641506233, 0.025004407803621145, 0.022172567460685969, 0.024118037587963045, 0.024138271466572769, 0.024300639049289748, 0.021924799480452201, 0.021514698994834908, 0.02370997939025983, 0.020225815403216985, 0.019704080529510976, 0.022478495734022001, 0.023607695251726544, 0.021360482439165936, 0.022054573969892226, 0.020847974538104608, 0.022675560806761495, 0.022357688949187285, 0.020685383580345662, 0.023271776721649803, 0.026750906230066904, 0.021489019897254182, 0.022003148960543329, 0.024474516138376201, 0.028772074411949143, 0.022020906468958129, 0.022626849707716612, 0.022590217904141174, 0.020544729311321862, 0.022695859726332129, 0.022980003726342693, 0.023312945555744227, 0.023919985631236342, 0.028975310276355595, 0.022303757258434781, 0.020824495411920361, 0.021306766341248295, 0.020530376607645302, 0.021470199154183502, 0.022161026994162239, 0.021614973781676962, 0.025360620793839918, 0.021598583102499833, 0.022125563098653218, 0.020482163218641655, 0.02152741930517368, 0.021398318924009799, 0.020378092746052425, 0.022826511148130522, 0.022670627687522212, 0.021672071006521583, 0.020926119040686173, 0.023928702776110731, 0.02229585411711596, 0.020690562444523674, 0.022495592725637833, 0.021605273648723961, 0.022065294726938009, 0.025853454576840157, 0.024798817903402961, 0.020924600202683358], 'val_acc': [0.88890000000000002, 0.96419999999999995, 0.97399999999999998, 0.97709999999999997, 0.96850000000000003, 0.98199999999999998, 0.98409999999999997, 0.98350000000000004, 0.98660000000000003, 0.98450000000000004, 0.98509999999999998, 0.98450000000000004, 0.9849, 0.98760000000000003, 0.98919999999999997, 0.99070000000000003, 0.99060000000000004, 0.9909, 0.99080000000000001, 0.99150000000000005, 0.98980000000000001, 0.99039999999999995, 0.99050000000000005, 0.99129999999999996, 0.9919, 0.99209999999999998, 0.99229999999999996, 0.99139999999999995, 0.99039999999999995, 0.9929, 0.99170000000000003, 0.9909, 0.99150000000000005, 0.99219999999999997, 0.99260000000000004, 0.99270000000000003, 0.99229999999999996, 0.99199999999999999, 0.98909999999999998, 0.99160000000000004, 0.99250000000000005, 0.9929, 0.99239999999999995, 0.99160000000000004, 0.99209999999999998, 0.99299999999999999, 0.99270000000000003, 0.99270000000000003, 0.9929, 0.99009999999999998, 0.99309999999999998, 0.99319999999999997, 0.99099999999999999, 0.99299999999999999, 0.9929, 0.99309999999999998, 0.99299999999999999, 0.99299999999999999, 0.99199999999999999, 0.99209999999999998, 0.99299999999999999, 0.99250000000000005, 0.99229999999999996, 0.99319999999999997, 0.99270000000000003, 0.99280000000000002, 0.99170000000000003, 0.99329999999999996, 0.99299999999999999, 0.99229999999999996, 0.99319999999999997, 0.99280000000000002, 0.9929, 0.9929, 0.99270000000000003, 0.99360000000000004, 0.99339999999999995, 0.99260000000000004, 0.99319999999999997, 0.9929, 0.99250000000000005, 0.99319999999999997, 0.99350000000000005, 0.99319999999999997, 0.99360000000000004, 0.99309999999999998, 0.99299999999999999, 0.99260000000000004, 0.9929, 0.99399999999999999, 0.99350000000000005, 0.99239999999999995, 0.99299999999999999, 0.99250000000000005, 0.99339999999999995, 0.99350000000000005, 0.99250000000000005, 0.99350000000000005, 0.99239999999999995, 0.99390000000000001, 0.99229999999999996, 0.99219999999999997, 0.99390000000000001, 0.99350000000000005, 0.99280000000000002, 0.99360000000000004, 0.99260000000000004, 0.99319999999999997, 0.99390000000000001, 0.99370000000000003, 0.99339999999999995, 0.99390000000000001, 0.99080000000000001, 0.99360000000000004, 0.99280000000000002, 0.99390000000000001, 0.99390000000000001, 0.99329999999999996, 0.99380000000000002, 0.99370000000000003, 0.99280000000000002, 0.99319999999999997, 0.99370000000000003, 0.99350000000000005, 0.99450000000000005, 0.99360000000000004, 0.99370000000000003, 0.99280000000000002, 0.99370000000000003, 0.99339999999999995, 0.99239999999999995, 0.99229999999999996, 0.99299999999999999, 0.99309999999999998, 0.99380000000000002, 0.9929, 0.99409999999999998, 0.99390000000000001, 0.99370000000000003, 0.99439999999999995, 0.99350000000000005, 0.99390000000000001, 0.99319999999999997, 0.99239999999999995, 0.99370000000000003, 0.99380000000000002, 0.99429999999999996, 0.99299999999999999, 0.99350000000000005, 0.99460000000000004, 0.99360000000000004, 0.99350000000000005, 0.99399999999999999, 0.99439999999999995, 0.99399999999999999, 0.99380000000000002, 0.99390000000000001, 0.99419999999999997, 0.99280000000000002, 0.9919, 0.99360000000000004, 0.99339999999999995, 0.99319999999999997, 0.99199999999999999, 0.99399999999999999, 0.99299999999999999, 0.99370000000000003, 0.99399999999999999, 0.99350000000000005, 0.99319999999999997, 0.99360000000000004, 0.99299999999999999, 0.99209999999999998, 0.99350000000000005, 0.99390000000000001, 0.99409999999999998, 0.99429999999999996, 0.99339999999999995, 0.99350000000000005, 0.99350000000000005, 0.99260000000000004, 0.99350000000000005, 0.99309999999999998, 0.99380000000000002, 0.99319999999999997, 0.99339999999999995, 0.99370000000000003, 0.99329999999999996, 0.9929, 0.99409999999999998, 0.99419999999999997, 0.99280000000000002, 0.99329999999999996, 0.99370000000000003, 0.9929, 0.99339999999999995, 0.99319999999999997, 0.99299999999999999, 0.99270000000000003, 0.99350000000000005], 'loss': [1.3739215002695719, 0.33159869623978933, 0.22191182833512624, 0.17122391302386919, 0.14669191968739032, 0.12793702198515336, 0.11584116664938629, 0.109717945108066, 0.099206994896133743, 0.095476788300772511, 0.088427641991774247, 0.083880614938835307, 0.080308875721817219, 0.076007991129284108, 0.074616713776066892, 0.07005522540286184, 0.067801607033920783, 0.065067160860821607, 0.062981362593546517, 0.0633133709559838, 0.059444149869680406, 0.055677629331002634, 0.05455689842502276, 0.054800432089654107, 0.050655690639590224, 0.051671270929711563, 0.050728233335167169, 0.048614459087668607, 0.048671791948005555, 0.047117749942094091, 0.046027658584279318, 0.045287112046064192, 0.045037739025801417, 0.042972228481123843, 0.042747775139535468, 0.041319619313658525, 0.038773065852498012, 0.040832410884803785, 0.039555101610720157, 0.040869967461936177, 0.037646391032605121, 0.03666404404255251, 0.039624316265154627, 0.038114672115057084, 0.036063608031657833, 0.03492317303943758, 0.033901368679323543, 0.033227967280871233, 0.033632904942644141, 0.03287598419900363, 0.032579591297451409, 0.032134682221757249, 0.032368195781996477, 0.031244722431463499, 0.030353402919663736, 0.030538309746895295, 0.031546477941796186, 0.030579732694818326, 0.029310837859474123, 0.029930988485614457, 0.028142528039248039, 0.029626384893059729, 0.026967050111511102, 0.025854714102437719, 0.027263855700458712, 0.025360534604522398, 0.025813009331313273, 0.024984004356448229, 0.027517121260089334, 0.024480778136686421, 0.024961332791290865, 0.025193284218401338, 0.02599653420203055, 0.024942682251085837, 0.023967373565118761, 0.023425727305266385, 0.023557507106382401, 0.022554484391377385, 0.021716752459279572, 0.021530224222410469, 0.025631629914557561, 0.021966466829723988, 0.023683348022579837, 0.022037517825568405, 0.021969130492035766, 0.021431528271986949, 0.021199994863336905, 0.021874318252286563, 0.022804702035632604, 0.020554794989634927, 0.022408433488546872, 0.017919720681671365, 0.021369773631185914, 0.018147692311401866, 0.01994195679911645, 0.019116849743027707, 0.01799987342839595, 0.02033566548776192, 0.01785486553561641, 0.020024248751530346, 0.020251037050791395, 0.017598093384189998, 0.018349740125543516, 0.01753742547671621, 0.018332165091713735, 0.016514392958907411, 0.016997461315620847, 0.017700145060136372, 0.0162579164537834, 0.017892135636620999, 0.017876708245952614, 0.016466833711760893, 0.017291344817669595, 0.016747821369383017, 0.017548029235368207, 0.017027117979732186, 0.015266595725150546, 0.018333280531700195, 0.017890589089808055, 0.015667347197630441, 0.016399007585116972, 0.014925628637780512, 0.015199324853456346, 0.014587119285256389, 0.015888489890325583, 0.013387079097412061, 0.014831643572789229, 0.015615209333687865, 0.015653604223323056, 0.014806803990361125, 0.014103571774827529, 0.014375442918436602, 0.014457609561949599, 0.014678435029635147, 0.015375018888430108, 0.01458605299081925, 0.014227091073117723, 0.015172086000395938, 0.0136661601209819, 0.012112269580847351, 0.016905163610477274, 0.013619970325500859, 0.012867330847301734, 0.013393502707356432, 0.01482566148439267, 0.012413317746112443, 0.012854224564509544, 0.013021074092123308, 0.01147139385760626, 0.012465981632531233, 0.012747518884020974, 0.014686565105933308, 0.013374052945621467, 0.012660778359767089, 0.011409857830516314, 0.013462403970741435, 0.012532849249143814, 0.010402615598532429, 0.011467505762550475, 0.012397229901997585, 0.011081823627150152, 0.011466787065722748, 0.011316834371446264, 0.012371599872304554, 0.012337897771232141, 0.010614672122674286, 0.012282434384827018, 0.012883317833635131, 0.011008239523821977, 0.01158243019774903, 0.01090231678262062, 0.010813247275871496, 0.012750576155558762, 0.011080648689251999, 0.010592698282687343, 0.010677903491964874, 0.0099758466863984121, 0.010864734715400845, 0.010754703534402263, 0.011414845210615508, 0.010987153911622105, 0.011399970587479281, 0.010381377420637243, 0.010218982058418624, 0.010159582333455425, 0.0099284519398594659, 0.011004151178391961, 0.012983037716275915, 0.010575657542839083, 0.0091507728461472041, 0.011949791398921418, 0.0097688606727814962, 0.0094029303977597005, 0.0095717561149926047, 0.01077821420527301, 0.010337012216567625, 0.010421567786267164, 0.0093831842008289344, 0.01022016492049758, 0.010859570149228967], 'acc': [0.5081, 0.90031666666666665, 0.93511666666666671, 0.94969999999999999, 0.95706666666666662, 0.96283333333333332, 0.96640000000000004, 0.96913333333333329, 0.97123333333333328, 0.97228333333333339, 0.9748, 0.97593333333333332, 0.97655000000000003, 0.97821666666666662, 0.97823333333333329, 0.97986666666666666, 0.98053333333333337, 0.98091666666666666, 0.98168333333333335, 0.98161666666666669, 0.9831833333333333, 0.98309999999999997, 0.98421666666666663, 0.98409999999999997, 0.98531666666666662, 0.98488333333333333, 0.98529999999999995, 0.98641666666666672, 0.98616666666666664, 0.98599999999999999, 0.98670000000000002, 0.98643333333333338, 0.98631666666666662, 0.98736666666666661, 0.98808333333333331, 0.98773333333333335, 0.98865000000000003, 0.98860000000000003, 0.9879, 0.98860000000000003, 0.9892333333333333, 0.98953333333333338, 0.98843333333333339, 0.9889, 0.98921666666666663, 0.98953333333333338, 0.98971666666666669, 0.99039999999999995, 0.98995, 0.99060000000000004, 0.99065000000000003, 0.99045000000000005, 0.99043333333333339, 0.99078333333333335, 0.99118333333333331, 0.99103333333333332, 0.99055000000000004, 0.99078333333333335, 0.9912333333333333, 0.99086666666666667, 0.99139999999999995, 0.99151666666666671, 0.99160000000000004, 0.99246666666666672, 0.99151666666666671, 0.99201666666666666, 0.99219999999999997, 0.99250000000000005, 0.99131666666666662, 0.99218333333333331, 0.99204999999999999, 0.99250000000000005, 0.9922333333333333, 0.99273333333333336, 0.99291666666666667, 0.99293333333333333, 0.99286666666666668, 0.99346666666666672, 0.99304999999999999, 0.99321666666666664, 0.99233333333333329, 0.99341666666666661, 0.99308333333333332, 0.99319999999999997, 0.9932833333333333, 0.99356666666666671, 0.99334999999999996, 0.99306666666666665, 0.99351666666666671, 0.99391666666666667, 0.99345000000000006, 0.99443333333333328, 0.99339999999999995, 0.99443333333333328, 0.99370000000000003, 0.99433333333333329, 0.99446666666666672, 0.99391666666666667, 0.9946666666666667, 0.99404999999999999, 0.99398333333333333, 0.9946166666666667, 0.99438333333333329, 0.99451666666666672, 0.99448333333333339, 0.99478333333333335, 0.99509999999999998, 0.99473333333333336, 0.99480000000000002, 0.99450000000000005, 0.99468333333333336, 0.99463333333333337, 0.99453333333333338, 0.99485000000000001, 0.99465000000000003, 0.99481666666666668, 0.99514999999999998, 0.9946666666666667, 0.99455000000000005, 0.99543333333333328, 0.99508333333333332, 0.99541666666666662, 0.9952833333333333, 0.99568333333333336, 0.99541666666666662, 0.99590000000000001, 0.99548333333333339, 0.99526666666666663, 0.99516666666666664, 0.99553333333333338, 0.99570000000000003, 0.99514999999999998, 0.99550000000000005, 0.99561666666666671, 0.99555000000000005, 0.99534999999999996, 0.99558333333333338, 0.99536666666666662, 0.99570000000000003, 0.99609999999999999, 0.99496666666666667, 0.99616666666666664, 0.99595, 0.99609999999999999, 0.99526666666666663, 0.99636666666666662, 0.99601666666666666, 0.99609999999999999, 0.99680000000000002, 0.99603333333333333, 0.99613333333333332, 0.99544999999999995, 0.99603333333333333, 0.99614999999999998, 0.99653333333333338, 0.99608333333333332, 0.99616666666666664, 0.99670000000000003, 0.99644999999999995, 0.99618333333333331, 0.99663333333333337, 0.99663333333333337, 0.99661666666666671, 0.99601666666666666, 0.99618333333333331, 0.99673333333333336, 0.9962833333333333, 0.99614999999999998, 0.99655000000000005, 0.99665000000000004, 0.99650000000000005, 0.99631666666666663, 0.99603333333333333, 0.99653333333333338, 0.99665000000000004, 0.99673333333333336, 0.99696666666666667, 0.99661666666666671, 0.99643333333333328, 0.99658333333333338, 0.99634999999999996, 0.99660000000000004, 0.99683333333333335, 0.9966666666666667, 0.99688333333333334, 0.99678333333333335, 0.99650000000000005, 0.99616666666666664, 0.99704999999999999, 0.99729999999999996, 0.99626666666666663, 0.99690000000000001, 0.99704999999999999, 0.99708333333333332, 0.99661666666666671, 0.99668333333333337, 0.997, 0.99698333333333333, 0.99686666666666668, 0.99658333333333338]}\n"
     ]
    }
   ],
   "source": [
    "print(history.history)"
   ]
  },
  {
   "cell_type": "code",
   "execution_count": 15,
   "metadata": {
    "collapsed": true
   },
   "outputs": [],
   "source": [
    "\n",
    "data = pd.DataFrame(history.history)\n",
    "nome = 'DoubleConvMNISTNormDropDesloc_t1' + str(datetime.datetime.now())+'.json'\n",
    "data = data.to_json()\n",
    "with open(nome, \"w+\") as output_file:\n",
    "    output_file.write(data)"
   ]
  },
  {
   "cell_type": "code",
   "execution_count": null,
   "metadata": {
    "collapsed": true
   },
   "outputs": [],
   "source": []
  },
  {
   "cell_type": "code",
   "execution_count": null,
   "metadata": {
    "collapsed": true
   },
   "outputs": [],
   "source": []
  }
 ],
 "metadata": {
  "kernelspec": {
   "display_name": "Python 3",
   "language": "python",
   "name": "python3"
  },
  "language_info": {
   "codemirror_mode": {
    "name": "ipython",
    "version": 3
   },
   "file_extension": ".py",
   "mimetype": "text/x-python",
   "name": "python",
   "nbconvert_exporter": "python",
   "pygments_lexer": "ipython3",
   "version": "3.6.3"
  }
 },
 "nbformat": 4,
 "nbformat_minor": 2
}
